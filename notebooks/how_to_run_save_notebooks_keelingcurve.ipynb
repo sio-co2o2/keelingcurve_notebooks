{
 "cells": [
  {
   "attachments": {},
   "cell_type": "markdown",
   "metadata": {
    "colab_type": "text",
    "id": "view-in-github"
   },
   "source": [
    "<a href=\"https://colab.research.google.com/github/sio-co2o2/keelingcurve_notebooks/blob/main/notebooks/how_to_run_save_notebooks_keelingcurve.ipynb\" target=\"_parent\"><img src=\"https://colab.research.google.com/assets/colab-badge.svg\" alt=\"Open In Colab\"/></a>\n",
    "\n",
    "[![Binder](https://mybinder.org/badge_logo.svg)](https://mybinder.org/v2/gh/sio-co2o2/keelingcurve_notebooks/main?labpath=notebooks/how_to_run_save_notebooks_keelingcurve.ipynb)"
   ]
  },
  {
   "attachments": {},
   "cell_type": "markdown",
   "metadata": {
    "id": "1reHmpSNN968"
   },
   "source": [
    "# Instructions on running and saving the Keeling Curve python notebooks\n",
    "\n",
    "**The Keeling Curve Jupyter notebooks allow users to customize graphics and animations of graphics found on the Keeling Curve website [keelingcurve.ucsd.edu](keelingcurve.ucsd.edu).**\n",
    "\n",
    "## Running and modifying the notebooks with Google Colab\n",
    "\n",
    "The notebooks use Google Colaboratory (Google Colab) which is a service provided by Google that enables users to run Jupyter notebooks without any code installed on a local computer. Jupyter notebooks are files that use python code and that run in a browser.\n",
    "\n",
    "Google Colab is a virtual environment containing many python code packages so that the user doesn't have to set up their own python environment if they ran it on a local computer.\n",
    "\n",
    "Once in Google Colab, each notebook can be run to generate graphics seen on the home page of the Keeling Curve website and generate animations of select graphics. \n",
    "\n",
    "To use the notebooks served on Google Colab, **you need to have a Google account and be logged into it**. Without being logged into a Google account, you can only view the notebook and not run it. \n",
    "\n",
    "To run the notebook, click on the top menu option Runtime and then click Run all.\n",
    "\n",
    "You may see the following warning:\n",
    "\n",
    "Warning: This notebook was not authored by Google\n",
    "This notebook is being loaded from GitHub. It may request access to your data stored with Google, or read data and credentials from other sessions. Please review the source code before executing this notebook.\n",
    "\n",
    "And then it has two links, 'Cancel' and 'Run Anyway'.\n",
    "\n",
    "It's Google's way of asking for permission to use the notebook and asking the user if they trust the notebook. A reason not to trust a notebook is if the notebook has code in it permitting access to their Google drive and they don't know the notebook creator. The Keeling Curve notebooks do not grant or access your Google Drive. Only if you want to save your notebook changes, will the notebook ask to use your Google drive, and you have complete control of that.\n",
    "\n",
    "Click 'Run anyway' to use notebooks that create graphics and animations.\n",
    "\n",
    "A Jupyter notebook is a compilation of python code that interactively creates graphics and animations.\n",
    "\n",
    "The Keeling Curve notebooks make use of archived CO<sub>2</sub> data and the latest preliminary CO<sub>2</sub> data from the Mauna Loa, Hawaii Observatory and ice-core data going back 800K years.\n",
    "\n",
    "Direct questions to [webmaster-co2o2-sio@ucsd.edu](mailto:webmaster-co2o2-sio@ucsd.edu)\n"
   ]
  },
  {
   "attachments": {},
   "cell_type": "markdown",
   "metadata": {},
   "source": [
    "\n",
    "The notebooks can be accessed from two locations, either the [overview notebook](https://colab.research.google.com/github/sio-co2o2/keelingcurve_notebooks/blob/main/notebooks/overview_of_notebooks_keelingcurve.ipynb) or from the [Keeling Curve GitHub repository](https://github.com/sio-co2o2/keelingcurve_notebooks).\n",
    "\n",
    "If a notebook is clicked on from the overview notebook, the notebook will open up in Google Colab.\n",
    "\n",
    "If a notebook is clicked on from the GitHub repository, it opens a preview of the notebook, and the notebook is accessed by clicking on the Google Colab badge at the top of each notebook. \n",
    "\n",
    "Footnote about accessing in Github repo"
   ]
  },
  {
   "attachments": {},
   "cell_type": "markdown",
   "metadata": {},
   "source": [
    "<a name=\"table-of-contents\"></a>\n",
    "## Table of Contents\n",
    "\n",
    "1. [Running and modifying the notebooks with Google Colab](#running-the-notebooks-google-colab)\n",
    "\n",
    "2. [Running and modifying the notebooks with Binder](#running-the-notebooks-binder)\n",
    "\n",
    "3. [Saving notebooks with Google Colab](#saving-notebooks-google-colab)\n",
    "\n",
    "4. [Saving notebooks with Binder](#saving-notebooks-binder)\n",
    "\n",
    "5. [Running notebooks locally on a computer](#running-notebooks-locally-on-a-computer)\n"
   ]
  },
  {
   "attachments": {},
   "cell_type": "markdown",
   "metadata": {},
   "source": [
    "<a name=\"running-the-notebooks-google-colab\"></a>\n",
    "## Running and modifying the notebooks with Google Colab"
   ]
  },
  {
   "attachments": {},
   "cell_type": "markdown",
   "metadata": {},
   "source": [
    "The notebooks use Google Colaboratory (Google Colab) which is a service provided by Google that enables users to run Jupyter notebooks without any code installed on a local computer. Jupyter notebooks are files that use python code and that run in a browser.\n",
    "\n",
    "Google Colab is a virtual environment containing many python code packages so that the user doesn't have to set up their own python environment if they ran it on a local computer.\n",
    "\n",
    "Once in Google Colab, each notebook can be run to generate graphics seen on the home page of the Keeling Curve website and generate animations of select graphics. \n",
    "\n",
    "To use the notebooks served on Google Colab, **you need to have a Google account and be logged into it**. Without being logged into a Google account, you can only view the notebook and not run it. \n",
    "\n",
    "To run the notebook, click on the top menu option Runtime and then click Run all.\n",
    "\n",
    "You may see the following warning:\n",
    "\n",
    "Warning: This notebook was not authored by Google\n",
    "This notebook is being loaded from GitHub. It may request access to your data stored with Google, or read data and credentials from other sessions. Please review the source code before executing this notebook.\n",
    "\n",
    "And then it has two links, 'Cancel' and 'Run Anyway'.\n",
    "\n",
    "It's Google's way of asking for permission to use the notebook and asking the user if they trust the notebook. A reason not to trust a notebook is if the notebook has code in it permitting access to their Google drive and they don't know the notebook creator. The Keeling Curve notebooks do not grant or access your Google Drive. Only if you want to save your notebook changes, will the notebook ask to use your Google drive, and you have complete control of that.\n",
    "\n",
    "Click 'Run anyway' to use notebooks that create graphics and animations."
   ]
  },
  {
   "cell_type": "markdown",
   "metadata": {
    "id": "qzcoKGWkjdC8"
   },
   "source": [
    "![title](https://github.com/sio-co2o2/keelingcurve_notebooks/blob/main/images/overview/google_warning.png?raw=1)"
   ]
  },
  {
   "attachments": {},
   "cell_type": "markdown",
   "metadata": {},
   "source": [
    "The code in each notebook can be modified in Google Colab without affecting the original version. And any changes to the notebooks can be [saved](#saving-notebooks) to the user's Google Drive or the user's GitHub repository.\n",
    "\n",
    "More information about Goolge Colab can be found [here](https://colab.research.google.com/)."
   ]
  },
  {
   "attachments": {},
   "cell_type": "markdown",
   "metadata": {},
   "source": [
    "[Go to table of contents](#table-of-contents)"
   ]
  },
  {
   "attachments": {},
   "cell_type": "markdown",
   "metadata": {
    "id": "o6zBmGBrN97Q"
   },
   "source": [
    "### Running the notebooks menus\n",
    "\n",
    "At the top of the screen, under the notebook name, click on the menu item \"Runtime\" and then in the dropdown menu, click on \"Run all\". This will run all the code for the notebook which access the data,process it, configures the plot properties, creates the plot and creates buttons to push for downloading the image. \n",
    "\n",
    "### Parts of a notebook\n",
    "Text and code seen in the notebook exist in box areas called cells. There are text cells and code cells. The top of the notebook has buttons for adding a markdown (text cell) or code cell.\n"
   ]
  },
  {
   "cell_type": "markdown",
   "metadata": {
    "id": "X5Rm74GMjdC9"
   },
   "source": [
    "![title](https://github.com/sio-co2o2/keelingcurve_notebooks/blob/main/images/overview/code_text.png?raw=1)"
   ]
  },
  {
   "cell_type": "markdown",
   "metadata": {
    "id": "5x4ycZWoN97Q"
   },
   "source": [
    "#### To delete a cell\n",
    "\n",
    "In the right portion of the cell, a menu pops up and to delete the cell, click on a trash can."
   ]
  },
  {
   "cell_type": "markdown",
   "metadata": {
    "id": "mYmFO3_yjdC9"
   },
   "source": [
    "![title](https://github.com/sio-co2o2/keelingcurve_notebooks/blob/main/images/overview/cell_menu.png?raw=1)"
   ]
  },
  {
   "cell_type": "markdown",
   "metadata": {
    "id": "6WoK77YdN97R"
   },
   "source": [
    "To access a cell to make changes, hover over text with your mouse and then double click it, and for code cells, just click inside. If you change text or code in a cell, you can either use the menu option 'Run all' again, or while the cell is selected with your mouse arrow in the cell box, use the key combination shift+enter to run it. This runs that single cell and not the entire notebook.\n",
    "\n",
    "When shift+enter is pushed on a cell with a function call in it, the cell will run the function call. Running a cell loads information into the Colab memory and tells Colab to display text or what code and the order to run it. \n",
    "\n",
    "Text is written using [Markdown](https://www.markdownguide.org/basic-syntax/) which is a set of text symbols used to create headers, bold text, and other format features. There is no color option or font size options with Markdown. "
   ]
  },
  {
   "cell_type": "markdown",
   "metadata": {
    "id": "I5-gXzuYjdC-"
   },
   "source": [
    "![title](https://github.com/sio-co2o2/keelingcurve_notebooks/blob/main/images/overview/run_all_menu.png?raw=1)"
   ]
  },
  {
   "attachments": {},
   "cell_type": "markdown",
   "metadata": {},
   "source": [
    "[Go to table of contents](#table-of-contents)"
   ]
  },
  {
   "attachments": {},
   "cell_type": "markdown",
   "metadata": {
    "id": "RjnhxaA4N97P"
   },
   "source": [
    "<a name=\"running-the-notebooks-binder\"></a>\n",
    "## Running and modifying the notebooks with Binder\n"
   ]
  },
  {
   "attachments": {},
   "cell_type": "markdown",
   "metadata": {},
   "source": [
    "Binder is a browser environment that Jupyter notebooks can run in without needing to install python packages as one would have to in a local environment on a computer.\n",
    "\n",
    "All the Keeling Curve notebooks loaded into a Binder environment are found [here](https://hub.gke2.mybinder.org/user/sio-co2o2-keelingcurve_notebooks-m1x9l0kq/lab/tree/notebooks). \n",
    "\n",
    "To run the notebooks, click on the Folder icon at the top of the left sidebar. And then click on a notebook file, which will open up the notebook in the main window. To run the notebook, click on the 'Run' menu option in the top menu bar and then click on 'Run All Cells'.\n",
    "\n",
    "Click on the text 'Go to creating the graphic section' and then see that there is a button named 'Create Graphic'. Click this button to create the graphic which will display after it is created. To download the graphic in pdf and png file formats, click the next button named 'Download Graphic Files'."
   ]
  },
  {
   "attachments": {},
   "cell_type": "markdown",
   "metadata": {
    "id": "vJNXGpglN97T"
   },
   "source": [
    "<a name=\"saving-notebooks-google-colab\"></a>\n",
    "## Saving notebooks with Google Colab\n",
    "\n",
    "To save any changes made to the notebook, click on \"Save a copy in Drive\" in the File dropdown menu to save the notebook file to your Google drive. You can also save it to your GitHub repository. If you save the notebook to your Google Drive, the notebook will be stored on your drive in the folder called \"Google Colab\". To open it again in Google Colab, double click on the file link in the Google Colab folder. \n",
    "\n",
    "See the following for more about saving Google Colab notebooks [https://www.dummies.com/article/technology/programming-web-design/python/working-with-google-colaboratory-notebooks-262687/](https://www.dummies.com/article/technology/programming-web-design/python/working-with-google-colaboratory-notebooks-262687/)\n"
   ]
  },
  {
   "cell_type": "markdown",
   "metadata": {
    "id": "nkKW0OA1jdC-"
   },
   "source": [
    "![title](https://github.com/sio-co2o2/keelingcurve_notebooks/blob/main/images/overview/file_menu.png?raw=1)"
   ]
  },
  {
   "attachments": {},
   "cell_type": "markdown",
   "metadata": {
    "id": "uStHf-dwN97U"
   },
   "source": [
    "[Go to table of contents](#table-of-contents)"
   ]
  },
  {
   "attachments": {},
   "cell_type": "markdown",
   "metadata": {},
   "source": [
    "<a name=\"saving-notebooks-binder\"></a>\n",
    "## Saving notebooks with Binder"
   ]
  },
  {
   "attachments": {},
   "cell_type": "markdown",
   "metadata": {},
   "source": [
    "To access the same Binder environment again, get a shared link. On the top menu, click on the Binder menu item and it will create a shared link. Copy this link and you can share it and open it later. You can also download notebooks to your computer."
   ]
  },
  {
   "attachments": {},
   "cell_type": "markdown",
   "metadata": {},
   "source": [
    "<a name=\"running-notebooks-locally-on-a-computer\"></a>\n",
    "## Running notebooks locally on a computer"
   ]
  },
  {
   "attachments": {},
   "cell_type": "markdown",
   "metadata": {},
   "source": [
    "You can download notebooks from the Keeling Curve GitHub repository to your computer and then run the notebook on your own computer. The best way to use a python notebook on your local computer is to create a python environment (see below). \n"
   ]
  },
  {
   "attachments": {},
   "cell_type": "markdown",
   "metadata": {},
   "source": [
    "### Python environment\n",
    "\n",
    "A python environment is a way to separate different python versions and python package versions used for a coding project. With a python envrironment, you can start a new code project and use a new python version and new package versions without breaking other code projects. Sometimes updates have new features that don't work with older versions and can break code unless it is separated into environments.\n",
    "\n",
    "Using pyenv to manage python environments [https://realpython.com/intro-to-pyenv/](https://realpython.com/intro-to-pyenv/).\n",
    "\n",
    "There is a requirements.txt file in the GitHub repo to install python packages into your python environment.\n",
    "\n",
    "[Go to table of contents](#table-of-contents)"
   ]
  }
 ],
 "metadata": {
  "colab": {
   "include_colab_link": true,
   "name": "how_to_run_save_notebooks_keelingcurve.ipynb",
   "provenance": []
  },
  "kernelspec": {
   "display_name": "Python 3 (ipykernel)",
   "language": "python",
   "name": "python3"
  },
  "language_info": {
   "codemirror_mode": {
    "name": "ipython",
    "version": 3
   },
   "file_extension": ".py",
   "mimetype": "text/x-python",
   "name": "python",
   "nbconvert_exporter": "python",
   "pygments_lexer": "ipython3",
   "version": "3.8.10"
  },
  "title": "how_to_run_save_notebooks_keelingcurve.ipynb",
  "vscode": {
   "interpreter": {
    "hash": "756fd7f3f44ab1b408c61a336bc63dd8b2b1c2a4bc9346285fbb85e9c22b620b"
   }
  }
 },
 "nbformat": 4,
 "nbformat_minor": 1
}
