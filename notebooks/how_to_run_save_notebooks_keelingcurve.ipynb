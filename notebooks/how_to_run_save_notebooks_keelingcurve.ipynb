{
 "cells": [
  {
   "cell_type": "markdown",
   "metadata": {
    "colab_type": "text",
    "id": "view-in-github"
   },
   "source": [
    "<a href=\"https://colab.research.google.com/github/sio-co2o2/keelingcurve_notebooks/blob/main/notebooks/how_to_run_save_notebooks_keelingcurve.ipynb\" target=\"_parent\"><img src=\"https://colab.research.google.com/assets/colab-badge.svg\" alt=\"Open In Colab\"/></a>"
   ]
  },
  {
   "attachments": {},
   "cell_type": "markdown",
   "metadata": {
    "id": "1reHmpSNN968"
   },
   "source": [
    "# Instructions on running and saving the Keeling Curve python notebooks\n",
    "\n",
    "**The Keeling Curve python notebooks create graphics and select animations of graphics found on the Keeling Curve website [keelingcurve.ucsd.edu](keelingcurve.ucsd.edu).**\n",
    "\n",
    "**The user can create, modify, and save the graphics or animations in each notebook.**\n",
    "\n",
    "The Keeling Curve notebooks make use of archived CO<sub>2</sub> data and the latest preliminary CO<sub>2</sub> data from the Mauna Loa, Hawaii Observatory and ice-core data going back 800K years.\n",
    "\n",
    "Direct questions to [webmaster-co2o2-sio@ucsd.edu](mailto:webmaster-co2o2-sio@ucsd.edu)\n"
   ]
  },
  {
   "attachments": {},
   "cell_type": "markdown",
   "metadata": {},
   "source": [
    "<a name=\"table-of-contents\"></a>\n",
    "## Table of Contents\n",
    "\n",
    "1. [Introduction to the Keeling Curve Notebooks](#introduction-to-the-keeling-curve-notebooks)\n",
    "2. [ Listing of the notebooks](#listing-of-the-notebooks)\n",
    "3. [Using Google Colab](#using-google-colab)\n",
    "4. [Running the notebooks](#running-the-notebooks)\n",
    "5. [Saving notebooks](#saving-notebooks)\n"
   ]
  },
  {
   "cell_type": "markdown",
   "metadata": {
    "id": "k81A3ZQPjdC2"
   },
   "source": [
    "## Introduction to the Keeling Curve Notebooks"
   ]
  },
  {
   "cell_type": "markdown",
   "metadata": {
    "id": "zJWR8UrujdC3"
   },
   "source": [
    "The Keeling Curve notebooks create graphics seen on the home page of the Keeling Curve website [keelingcurve.ucsd.edu](keelingcurve.ucsd.edu) \n",
    "\n",
    "The PDF (vector) and PNG (image) formats of the graphics are created by the notebooks and can be downloaded from the notebooks. \n",
    "\n",
    "Each notebook contains a series of functions written in python which are used to fetch the data, process it for plotting, and then run a plot command to be visualize the plots and enable them to be downloaded locally.  \n",
    "\n",
    "Data is \"fetched\", or downloaded for each notebook to generate the different plots. Mauna Loa Obeservatory, MLO, data is fetched from the Keeling Curve GitHub repository data folder and icecore data is fetched from the NCEI website. Some notebooks contain code to generate basic animations of the plots showing CO<sub>2</sub> concentration as a function of time. \n",
    "\n",
    "The notebooks listed below are stored in the [Keeling Curve GitHub repository](https://github.com/sio-co2o2/keelingcurve_notebooks). The notebooks can be accessed either there or from the notebook links on this page. \n",
    "\n",
    "### The Keeling Curve\n",
    "\n",
    "The Keeling curve is an atmospheric carbon dioxide concentration record from the Mauna Loa Observatory, Hawaii starting in 1958. The Keeling curve website presents a series of graphics of the Keeling curve at various time periods alongside Ice Core records going back 800K years and each of those plots can be generated one per notebook. "
   ]
  },
  {
   "attachments": {},
   "cell_type": "markdown",
   "metadata": {},
   "source": [
    "## Listing of the notebooks\n",
    "\n",
    "The notebooks are listed in the notebook [](https://colab.research.google.com/github/sio-co2o2/keelingcurve_notebooks/blob/main/notebooks/overview_of_notebooks_keelingcurve.ipynb) are stored in the [Keeling Curve GitHub repository](https://github.com/sio-co2o2/keelingcurve_notebooks). The notebooks can be accessed either there or from the notebook links on this page. \n",
    "\n",
    "From the [Keeling Curve GitHub repository](https://github.com/sio-co2o2/keelingcurve_notebooks), the file links can be clicked on and this will open up a preview of the notebook. \n",
    "\n",
    "\n"
   ]
  },
  {
   "attachments": {},
   "cell_type": "markdown",
   "metadata": {
    "id": "RjnhxaA4N97P"
   },
   "source": [
    "## Using Google Colab\n",
    "\n",
    "Look for the Google Colab badge link at the top of each notebook. When this badge is clicked on, the notebook will open in [Google Colab](https://colab.research.google.com/) where it can be run to generate graphics seen on the home page of the Keeling Curve website. All the code in the notebook can be modified without affecting the original version. And any changes can be saved to the user's Google Drive or the users GitHub repository. \n",
    "\n",
    "To use notebooks served by Google Colab, you need to have a google account and be logged into it. Without an account logged in, you can only view the notebook. \n",
    "\n",
    "Google Colab is a service provided by Google to enable users to run code on their site from Jupyter notebooks. Jupyter notebooks are a file format that enables text and python code to run in the same browser window. It is a virtual environment with many python code packages already installed so that the user doesn't have to set up their own python environment on their computer.  \n",
    "\n",
    "All the code can be modified without affecting the original. If you modify this notebook and want a fresh copy, go to this link [Google Colab link to overview notebook](https://colab.research.google.com/github/sio-co2o2/keelingcurve_notebooks/blob/main/notebooks/overview_of_notebooks_keelingcurve.ipynb).\n",
    "\n",
    "You may see the following warning. It's Google's way of asking for permission to use the notebook, but not so friendly. The notebook is run completely on Google Colab and the notebook is stored in a GitHub Repository. Google Colab either calls notebooks from a GitHub repository or a Google Drive. The only user interaction is a button to download the plots via the browser. This notebook does not read any user information and does not require access to your Google Drive. If you want to save the notebook, you will need to save it to your Google Drive or a GitHub repository. This notebook does not save itself and can only be saved using the Google Colab File menu. "
   ]
  },
  {
   "cell_type": "markdown",
   "metadata": {
    "id": "qzcoKGWkjdC8"
   },
   "source": [
    "![title](https://github.com/sio-co2o2/keelingcurve_notebooks/blob/main/images/overview/google_warning.png?raw=1)"
   ]
  },
  {
   "attachments": {},
   "cell_type": "markdown",
   "metadata": {
    "id": "o6zBmGBrN97Q"
   },
   "source": [
    "## Running the notebooks\n",
    "\n",
    "At the top of the screen, under the notebook name, click on the menu item \"Runtime\" and then in the dropdown menu, click on \"Run all\". This will run all the code for the notebook which access the data,process it, configures the plot properties, creates the plot and creates buttons to push for downloading the image. \n",
    "\n",
    "### Parts of a notebook\n",
    "Text and code seen in the notebook exist in box areas called cells. There are text cells and code cells. The top of the notebook has buttons for adding a markdown (text cell) or code cell.\n"
   ]
  },
  {
   "cell_type": "markdown",
   "metadata": {
    "id": "X5Rm74GMjdC9"
   },
   "source": [
    "![title](https://github.com/sio-co2o2/keelingcurve_notebooks/blob/main/images/overview/code_text.png?raw=1)"
   ]
  },
  {
   "cell_type": "markdown",
   "metadata": {
    "id": "5x4ycZWoN97Q"
   },
   "source": [
    "#### To delete a cell\n",
    "\n",
    "In the right portion of the cell, a menu pops up and to delete the cell, click on a trash can."
   ]
  },
  {
   "cell_type": "markdown",
   "metadata": {
    "id": "mYmFO3_yjdC9"
   },
   "source": [
    "![title](https://github.com/sio-co2o2/keelingcurve_notebooks/blob/main/images/overview/cell_menu.png?raw=1)"
   ]
  },
  {
   "cell_type": "markdown",
   "metadata": {
    "id": "6WoK77YdN97R"
   },
   "source": [
    "To access a cell to make changes, hover over text with your mouse and then double click it, and for code cells, just click inside. If you change text or code in a cell, you can either use the menu option 'Run all' again, or while the cell is selected with your mouse arrow in the cell box, use the key combination shift+enter to run it. This runs that single cell and not the entire notebook.\n",
    "\n",
    "When shift+enter is pushed on a cell with a function call in it, the cell will run the function call. Running a cell loads information into the Colab memory and tells Colab to display text or what code and the order to run it. \n",
    "\n",
    "Text is written using [Markdown](https://www.markdownguide.org/basic-syntax/) which is a set of text symbols used to create headers, bold text, and other format features. There is no color option or font size options with Markdown. "
   ]
  },
  {
   "cell_type": "markdown",
   "metadata": {
    "id": "I5-gXzuYjdC-"
   },
   "source": [
    "![title](https://github.com/sio-co2o2/keelingcurve_notebooks/blob/main/images/overview/run_all_menu.png?raw=1)"
   ]
  },
  {
   "attachments": {},
   "cell_type": "markdown",
   "metadata": {},
   "source": [
    "[Go to table of contents](#table-of-contents)"
   ]
  },
  {
   "attachments": {},
   "cell_type": "markdown",
   "metadata": {
    "id": "vJNXGpglN97T"
   },
   "source": [
    "## Saving notebooks\n",
    "\n",
    "To save any changes made to the notebook, click on \"Save a copy in Drive\" in the File dropdown menu to save the notebook file to your Google drive. You can also save it to your GitHub repository. If you save to your Google Drive, the notebook will be stored on your drive in the folder called \"Google Colab\". To open it again in Google Colab, double click on the file link in the Google Colab folder. \n"
   ]
  },
  {
   "cell_type": "markdown",
   "metadata": {
    "id": "nkKW0OA1jdC-"
   },
   "source": [
    "![title](https://github.com/sio-co2o2/keelingcurve_notebooks/blob/main/images/overview/file_menu.png?raw=1)"
   ]
  },
  {
   "attachments": {},
   "cell_type": "markdown",
   "metadata": {
    "id": "uStHf-dwN97U"
   },
   "source": [
    "[Go to table of contents](#table-of-contents)"
   ]
  }
 ],
 "metadata": {
  "colab": {
   "include_colab_link": true,
   "name": "how_to_run_save_notebooks_keelingcurve.ipynb",
   "provenance": []
  },
  "kernelspec": {
   "display_name": "Python 3 (ipykernel)",
   "language": "python",
   "name": "python3"
  },
  "language_info": {
   "codemirror_mode": {
    "name": "ipython",
    "version": 3
   },
   "file_extension": ".py",
   "mimetype": "text/x-python",
   "name": "python",
   "nbconvert_exporter": "python",
   "pygments_lexer": "ipython3",
   "version": "3.8.10"
  },
  "title": "how_to_run_save_notebooks_keelingcurve.ipynb",
  "vscode": {
   "interpreter": {
    "hash": "756fd7f3f44ab1b408c61a336bc63dd8b2b1c2a4bc9346285fbb85e9c22b620b"
   }
  }
 },
 "nbformat": 4,
 "nbformat_minor": 1
}
