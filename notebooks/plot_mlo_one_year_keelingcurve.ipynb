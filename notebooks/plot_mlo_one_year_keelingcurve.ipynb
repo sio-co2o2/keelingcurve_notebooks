{
  "cells": [
    {
      "cell_type": "markdown",
      "metadata": {
        "id": "view-in-github",
        "colab_type": "text"
      },
      "source": [
        "<a href=\"https://colab.research.google.com/github/sio-co2o2/keelingcurve_notebooks/blob/main/notebooks/plot_mlo_one_year_keelingcurve.ipynb\" target=\"_parent\"><img src=\"https://colab.research.google.com/assets/colab-badge.svg\" alt=\"Open In Colab\"/></a>"
      ]
    },
    {
      "cell_type": "markdown",
      "metadata": {
        "id": "9__9-527U8mt"
      },
      "source": [
        "# Plot last year of CO2 at Mauna Loa, Hawaii"
      ],
      "id": "9__9-527U8mt"
    },
    {
      "cell_type": "markdown",
      "metadata": {
        "id": "37ng3Vn9U8mw"
      },
      "source": [
        "### The Keeling Curve\n",
        "https://keelingcurve.ucsd.edu\n",
        "\n",
        "This notebook creates pdf and png plot versions."
      ],
      "id": "37ng3Vn9U8mw"
    },
    {
      "cell_type": "markdown",
      "metadata": {
        "id": "SZydEBKwU8mx"
      },
      "source": [
        "## Import packages"
      ],
      "id": "SZydEBKwU8mx"
    },
    {
      "cell_type": "code",
      "execution_count": 8,
      "metadata": {
        "id": "uCdtt-T3U8mx"
      },
      "outputs": [],
      "source": [
        "import re\n",
        "import pandas as pd\n",
        "import numpy as np\n",
        "from datetime import datetime, date, timedelta\n",
        "from dateutil.relativedelta import relativedelta\n",
        "import pathlib\n",
        "import matplotlib.image as mpimg\n",
        "import matplotlib.pyplot as plt\n",
        "from matplotlib.pyplot import figure\n",
        "from matplotlib.ticker import (MultipleLocator, AutoMinorLocator)\n",
        "from matplotlib import ticker\n",
        "from matplotlib import rc,rcParams\n",
        "from matplotlib.path import Path\n",
        "import matplotlib.colors as mcolors\n",
        "from matplotlib.patches import Polygon\n",
        "import matplotlib.dates as mdates\n",
        "import matplotlib.lines as mlines\n",
        "from scipy.interpolate import UnivariateSpline\n",
        "from scipy import interpolate\n",
        "import matplotlib.transforms\n",
        "from google.colab import files\n",
        "from matplotlib import animation\n",
        "from ipywidgets import widgets\n",
        "from IPython.display import HTML\n",
        "from base64 import b64encode\n",
        "\n",
        "%matplotlib inline"
      ],
      "id": "uCdtt-T3U8mx"
    },
    {
      "cell_type": "markdown",
      "metadata": {
        "id": "Dlt4fPdPU8my"
      },
      "source": [
        "## Set directories and file names for data,  plot, and logo"
      ],
      "id": "Dlt4fPdPU8my"
    },
    {
      "cell_type": "code",
      "execution_count": 9,
      "metadata": {
        "id": "y0KbnquJU8mz"
      },
      "outputs": [],
      "source": [
        "# Read in data from github repository\n",
        "data_file = 'https://raw.githubusercontent.com/sio-co2o2/keelingcurve_notebooks/main/data/mlo/mlo_one_year_span.csv'\n",
        "\n",
        "logo_file = 'https://github.com/sio-co2o2/keelingcurve_notebooks/raw/main/images/sio_logo.png'\n",
        "\n",
        "plot_dir = pathlib.Path('./plots')\n",
        "plot_dir.mkdir(exist_ok=True)\n",
        "\n",
        "plot_basename = 'mlo_one_year'\n",
        "\n",
        "pdf_file = plot_dir / f\"{plot_basename}.pdf\"\n",
        "png_file = plot_dir / f\"{plot_basename}.png\""
      ],
      "id": "y0KbnquJU8mz"
    },
    {
      "cell_type": "markdown",
      "metadata": {
        "id": "DB1cI_g4U8mz"
      },
      "source": [
        "## Load in Data and process"
      ],
      "id": "DB1cI_g4U8mz"
    },
    {
      "cell_type": "code",
      "execution_count": 10,
      "metadata": {
        "colab": {
          "base_uri": "https://localhost:8080/",
          "height": 206
        },
        "id": "u4uGgeTdU8m0",
        "outputId": "9b6b11d7-97c9-4051-f610-9c786a966431"
      },
      "outputs": [
        {
          "output_type": "execute_result",
          "data": {
            "text/html": [
              "\n",
              "  <div id=\"df-98afc929-20f1-4cdc-ba4d-33d492b80061\">\n",
              "    <div class=\"colab-df-container\">\n",
              "      <div>\n",
              "<style scoped>\n",
              "    .dataframe tbody tr th:only-of-type {\n",
              "        vertical-align: middle;\n",
              "    }\n",
              "\n",
              "    .dataframe tbody tr th {\n",
              "        vertical-align: top;\n",
              "    }\n",
              "\n",
              "    .dataframe thead th {\n",
              "        text-align: right;\n",
              "    }\n",
              "</style>\n",
              "<table border=\"1\" class=\"dataframe\">\n",
              "  <thead>\n",
              "    <tr style=\"text-align: right;\">\n",
              "      <th></th>\n",
              "      <th>date_dy</th>\n",
              "      <th>co2_dy</th>\n",
              "      <th>date_wk</th>\n",
              "      <th>co2_wk</th>\n",
              "      <th>date_wk_spl</th>\n",
              "      <th>co2_wk_spl</th>\n",
              "      <th>date_mn</th>\n",
              "      <th>co2_mn</th>\n",
              "    </tr>\n",
              "  </thead>\n",
              "  <tbody>\n",
              "    <tr>\n",
              "      <th>0</th>\n",
              "      <td>2020.946721</td>\n",
              "      <td>413.57</td>\n",
              "      <td>2020.945355</td>\n",
              "      <td>413.60</td>\n",
              "      <td>2020.945355</td>\n",
              "      <td>413.881599</td>\n",
              "      <td>2020.956284</td>\n",
              "      <td>413.89</td>\n",
              "    </tr>\n",
              "    <tr>\n",
              "      <th>1</th>\n",
              "      <td>2020.949454</td>\n",
              "      <td>413.46</td>\n",
              "      <td>2020.964481</td>\n",
              "      <td>414.34</td>\n",
              "      <td>2020.964481</td>\n",
              "      <td>414.187050</td>\n",
              "      <td>2021.041096</td>\n",
              "      <td>415.15</td>\n",
              "    </tr>\n",
              "    <tr>\n",
              "      <th>2</th>\n",
              "      <td>2020.952186</td>\n",
              "      <td>413.33</td>\n",
              "      <td>2020.983607</td>\n",
              "      <td>414.64</td>\n",
              "      <td>2020.983607</td>\n",
              "      <td>414.470722</td>\n",
              "      <td>2021.126027</td>\n",
              "      <td>416.47</td>\n",
              "    </tr>\n",
              "    <tr>\n",
              "      <th>3</th>\n",
              "      <td>2020.954918</td>\n",
              "      <td>413.58</td>\n",
              "      <td>2021.002740</td>\n",
              "      <td>415.19</td>\n",
              "      <td>2021.002740</td>\n",
              "      <td>414.734623</td>\n",
              "      <td>2021.202740</td>\n",
              "      <td>417.16</td>\n",
              "    </tr>\n",
              "    <tr>\n",
              "      <th>4</th>\n",
              "      <td>2020.957650</td>\n",
              "      <td>414.08</td>\n",
              "      <td>2021.021918</td>\n",
              "      <td>414.83</td>\n",
              "      <td>2021.021918</td>\n",
              "      <td>414.980833</td>\n",
              "      <td>2021.287671</td>\n",
              "      <td>418.24</td>\n",
              "    </tr>\n",
              "  </tbody>\n",
              "</table>\n",
              "</div>\n",
              "      <button class=\"colab-df-convert\" onclick=\"convertToInteractive('df-98afc929-20f1-4cdc-ba4d-33d492b80061')\"\n",
              "              title=\"Convert this dataframe to an interactive table.\"\n",
              "              style=\"display:none;\">\n",
              "        \n",
              "  <svg xmlns=\"http://www.w3.org/2000/svg\" height=\"24px\"viewBox=\"0 0 24 24\"\n",
              "       width=\"24px\">\n",
              "    <path d=\"M0 0h24v24H0V0z\" fill=\"none\"/>\n",
              "    <path d=\"M18.56 5.44l.94 2.06.94-2.06 2.06-.94-2.06-.94-.94-2.06-.94 2.06-2.06.94zm-11 1L8.5 8.5l.94-2.06 2.06-.94-2.06-.94L8.5 2.5l-.94 2.06-2.06.94zm10 10l.94 2.06.94-2.06 2.06-.94-2.06-.94-.94-2.06-.94 2.06-2.06.94z\"/><path d=\"M17.41 7.96l-1.37-1.37c-.4-.4-.92-.59-1.43-.59-.52 0-1.04.2-1.43.59L10.3 9.45l-7.72 7.72c-.78.78-.78 2.05 0 2.83L4 21.41c.39.39.9.59 1.41.59.51 0 1.02-.2 1.41-.59l7.78-7.78 2.81-2.81c.8-.78.8-2.07 0-2.86zM5.41 20L4 18.59l7.72-7.72 1.47 1.35L5.41 20z\"/>\n",
              "  </svg>\n",
              "      </button>\n",
              "      \n",
              "  <style>\n",
              "    .colab-df-container {\n",
              "      display:flex;\n",
              "      flex-wrap:wrap;\n",
              "      gap: 12px;\n",
              "    }\n",
              "\n",
              "    .colab-df-convert {\n",
              "      background-color: #E8F0FE;\n",
              "      border: none;\n",
              "      border-radius: 50%;\n",
              "      cursor: pointer;\n",
              "      display: none;\n",
              "      fill: #1967D2;\n",
              "      height: 32px;\n",
              "      padding: 0 0 0 0;\n",
              "      width: 32px;\n",
              "    }\n",
              "\n",
              "    .colab-df-convert:hover {\n",
              "      background-color: #E2EBFA;\n",
              "      box-shadow: 0px 1px 2px rgba(60, 64, 67, 0.3), 0px 1px 3px 1px rgba(60, 64, 67, 0.15);\n",
              "      fill: #174EA6;\n",
              "    }\n",
              "\n",
              "    [theme=dark] .colab-df-convert {\n",
              "      background-color: #3B4455;\n",
              "      fill: #D2E3FC;\n",
              "    }\n",
              "\n",
              "    [theme=dark] .colab-df-convert:hover {\n",
              "      background-color: #434B5C;\n",
              "      box-shadow: 0px 1px 3px 1px rgba(0, 0, 0, 0.15);\n",
              "      filter: drop-shadow(0px 1px 2px rgba(0, 0, 0, 0.3));\n",
              "      fill: #FFFFFF;\n",
              "    }\n",
              "  </style>\n",
              "\n",
              "      <script>\n",
              "        const buttonEl =\n",
              "          document.querySelector('#df-98afc929-20f1-4cdc-ba4d-33d492b80061 button.colab-df-convert');\n",
              "        buttonEl.style.display =\n",
              "          google.colab.kernel.accessAllowed ? 'block' : 'none';\n",
              "\n",
              "        async function convertToInteractive(key) {\n",
              "          const element = document.querySelector('#df-98afc929-20f1-4cdc-ba4d-33d492b80061');\n",
              "          const dataTable =\n",
              "            await google.colab.kernel.invokeFunction('convertToInteractive',\n",
              "                                                     [key], {});\n",
              "          if (!dataTable) return;\n",
              "\n",
              "          const docLinkHtml = 'Like what you see? Visit the ' +\n",
              "            '<a target=\"_blank\" href=https://colab.research.google.com/notebooks/data_table.ipynb>data table notebook</a>'\n",
              "            + ' to learn more about interactive tables.';\n",
              "          element.innerHTML = '';\n",
              "          dataTable['output_type'] = 'display_data';\n",
              "          await google.colab.output.renderOutput(dataTable, element);\n",
              "          const docLink = document.createElement('div');\n",
              "          docLink.innerHTML = docLinkHtml;\n",
              "          element.appendChild(docLink);\n",
              "        }\n",
              "      </script>\n",
              "    </div>\n",
              "  </div>\n",
              "  "
            ],
            "text/plain": [
              "       date_dy  co2_dy      date_wk  ...  co2_wk_spl      date_mn  co2_mn\n",
              "0  2020.946721  413.57  2020.945355  ...  413.881599  2020.956284  413.89\n",
              "1  2020.949454  413.46  2020.964481  ...  414.187050  2021.041096  415.15\n",
              "2  2020.952186  413.33  2020.983607  ...  414.470722  2021.126027  416.47\n",
              "3  2020.954918  413.58  2021.002740  ...  414.734623  2021.202740  417.16\n",
              "4  2020.957650  414.08  2021.021918  ...  414.980833  2021.287671  418.24\n",
              "\n",
              "[5 rows x 8 columns]"
            ]
          },
          "metadata": {},
          "execution_count": 10
        }
      ],
      "source": [
        "# weekly spline is a spline fit to monthly data on a weekly timescale\n",
        "# to the last week less than the last plot date\n",
        "df = pd.read_csv(data_file,sep=',',comment='\"')\n",
        "df.head()"
      ],
      "id": "u4uGgeTdU8m0"
    },
    {
      "cell_type": "markdown",
      "metadata": {
        "id": "tozJ8PglU8m1"
      },
      "source": [
        "### Break into dataframes for each time frequency"
      ],
      "id": "tozJ8PglU8m1"
    },
    {
      "cell_type": "code",
      "execution_count": 11,
      "metadata": {
        "id": "OTkD7hiKU8m2"
      },
      "outputs": [],
      "source": [
        "df_daily = df[['date_dy', 'co2_dy']].copy()\n",
        "df_wk = df[['date_wk', 'co2_wk']].copy()\n",
        "df_wk_spl = df[['date_wk_spl', 'co2_wk_spl']].copy()\n",
        "df_mn = df[['date_mn', 'co2_mn']].copy()"
      ],
      "id": "OTkD7hiKU8m2"
    },
    {
      "cell_type": "markdown",
      "metadata": {
        "id": "riZn_-yvU8m2"
      },
      "source": [
        "### Remove rows with fill values NaN"
      ],
      "id": "riZn_-yvU8m2"
    },
    {
      "cell_type": "code",
      "execution_count": 12,
      "metadata": {
        "scrolled": true,
        "id": "8I8M9y18U8m2"
      },
      "outputs": [],
      "source": [
        "df_daily = df_daily[df_daily['co2_dy'].notnull()]\n",
        "df_weekly = df_wk[df_wk['co2_wk'].notnull()]\n",
        "df_weekly_spl = df_wk_spl[df_wk_spl['co2_wk_spl'].notnull()]\n",
        "df_monthly = df_mn[df_mn['co2_mn'].notnull()]"
      ],
      "id": "8I8M9y18U8m2"
    },
    {
      "cell_type": "markdown",
      "metadata": {
        "id": "P41MYkEfU8m3"
      },
      "source": [
        "### Convert to numpy arrays for plotting"
      ],
      "id": "P41MYkEfU8m3"
    },
    {
      "cell_type": "code",
      "execution_count": 13,
      "metadata": {
        "id": "_6I2WRLXU8m3"
      },
      "outputs": [],
      "source": [
        "date_daily = df_daily['date_dy'].to_numpy()\n",
        "co2_daily = df_daily['co2_dy'].to_numpy()\n",
        "date_weekly = df_weekly['date_wk'].to_numpy()\n",
        "co2_weekly = df_weekly['co2_wk'].to_numpy()\n",
        "date_weekly_spl = df_weekly_spl['date_wk_spl'].to_numpy()\n",
        "co2_weekly_spl = df_weekly_spl['co2_wk_spl'].to_numpy()\n",
        "date_monthly = df_monthly['date_mn'].to_numpy()\n",
        "co2_monthly = df_monthly['co2_mn'].to_numpy()"
      ],
      "id": "_6I2WRLXU8m3"
    },
    {
      "cell_type": "markdown",
      "metadata": {
        "id": "RQ-4Eu5XU8m3"
      },
      "source": [
        "## Define plot functions"
      ],
      "id": "RQ-4Eu5XU8m3"
    },
    {
      "cell_type": "code",
      "execution_count": 14,
      "metadata": {
        "id": "M78zuV0CU8m4"
      },
      "outputs": [],
      "source": [
        "# https://stackoverflow.com/questions/29321835/is-it-possible-to-get-color-gradients-under-curve-in-matplotlib\n",
        "# Modified to add gradient below curve and have a bottom alpha\n",
        "\n",
        "# def gradient_fill(x, y, fill_color=None, ax=None, **kwargs):\n",
        "def gradient_fill(x, y, fill_color='#FFFFFF', xmin=None, ymin=None, xmax=None, \n",
        "                  ymax=None, alpha_bottom=None, ax=None, alpha=1, zorder=1, **kwargs):\n",
        "    \"\"\"\n",
        "    Plot a line with a linear alpha gradient filled beneath it.\n",
        "\n",
        "    Parameters\n",
        "    ----------\n",
        "    x, y : array-like\n",
        "        The data values of the line.\n",
        "    fill_color : a matplotlib color specifier (string, tuple) or None\n",
        "        The color for the fill. If None, the color of the line will be used.\n",
        "    ax : a matplotlib Axes instance\n",
        "        The axes to plot on. If None, the current pyplot axes will be used.\n",
        "    Additional arguments are passed on to matplotlib's ``plot`` function.\n",
        "\n",
        "    Returns\n",
        "    -------\n",
        "    line : a Line2D instance\n",
        "        The line plotted.\n",
        "    im : an AxesImage instance\n",
        "        The transparent gradient clipped to just the area beneath the curve.\n",
        "    \"\"\"\n",
        "    if ax is None:\n",
        "        ax = plt.gca()\n",
        "\n",
        "    # Only want the gradient to show\n",
        "    #line, = ax.plot(x, y, **kwargs)\n",
        "    #if fill_color is None:\n",
        "    #    fill_color = line.get_color()\n",
        "\n",
        "    if alpha_bottom is None:\n",
        "        alpha_bottom = 0\n",
        "\n",
        "    if xmin is None:\n",
        "        xmin = x.min()\n",
        "\n",
        "    if ymin is None:\n",
        "        ymin = y.min()\n",
        "        \n",
        "    if xmax is None:\n",
        "        xmax = x.max()\n",
        "\n",
        "    if ymax is None:\n",
        "        ymax = y.max()\n",
        "        \n",
        "    if zorder is None:\n",
        "        zorder = 1\n",
        "        \n",
        "    #zorder = line.get_zorder()\n",
        "    \n",
        "    #alpha = line.get_alpha()\n",
        "    #alpha = 1.0 if alpha is None else alpha\n",
        "\n",
        "    z = np.empty((100, 1, 4), dtype=float)\n",
        "    rgb = mcolors.colorConverter.to_rgb(fill_color)\n",
        "    z[:, :, :3] = rgb\n",
        "    #z[:,:,-1] = np.linspace(0, alpha, 100)[:,None]\n",
        "    z[:, :, -1] = np.linspace(alpha_bottom, alpha, 100)[:, None]\n",
        "\n",
        "    #xmin, xmax, ymin, ymax = x.min(), x.max(), y.min(), y.max()\n",
        "    \n",
        "    im = ax.imshow(z, aspect='auto', extent=[xmin, xmax, ymin, ymax],\n",
        "                   origin='lower', zorder=zorder)\n",
        "\n",
        "    xy = np.column_stack([x, y])\n",
        "    xy = np.vstack([[xmin, ymin], xy, [xmax, ymin], [xmin, ymin]])\n",
        "    clip_path = Polygon(xy, facecolor='none', edgecolor='none', closed=True)\n",
        "    ax.add_patch(clip_path)\n",
        "    im.set_clip_path(clip_path)\n",
        "    \n",
        "    ax.autoscale(True)\n",
        "    \n",
        "    #return line, im"
      ],
      "id": "M78zuV0CU8m4"
    },
    {
      "cell_type": "code",
      "execution_count": 15,
      "metadata": {
        "id": "4nb_Tyu8U8m4"
      },
      "outputs": [],
      "source": [
        "def set_matplotlib_properties():\n",
        "    \n",
        "    # Set default properties for matplotlib\n",
        "    \n",
        "    # Reset rcparams in case modified defaults in another notebook during same session \n",
        "    plt.rcParams.update(plt.rcParamsDefault)\n",
        "\n",
        "    plt.rcParams.update({'axes.linewidth':1.5})\n",
        "    \n",
        "    plt.rcParams.update({\n",
        "        \"text.usetex\": False,\n",
        "        \"font.family\": \"sans-serif\",\n",
        "        \"font.weight\":  \"normal\",\n",
        "        \"font.sans-serif\": [\"Arial\", \"Tahoma\", \"Helvetica\",\"FreeSans\", \"NimbusSans\", \"LiberationSans\",\"DejaVu Sans\"],\n",
        "        \"mathtext.default\":'regular',\n",
        "        \"mathtext.fontset\": \"dejavusans\"\n",
        "    })\n",
        "        \n",
        "    # http://phyletica.org/matplotlib-fonts/\n",
        "    # This causes matplotlib to use Type 42 (a.k.a. TrueType) fonts \n",
        "    # for PostScript and PDF files. This allows you to avoid Type 3 fonts.\n",
        "    # Turning on usetex also works\n",
        "    # Needed on Ubuntu for pdf fonts \n",
        "    plt.rcParams.update({\n",
        "      'pdf.fonttype': 42,\n",
        "        'ps.fonttype': 42 \n",
        "    })"
      ],
      "id": "4nb_Tyu8U8m4"
    },
    {
      "cell_type": "code",
      "execution_count": 16,
      "metadata": {
        "id": "1VMcHy23U8m5"
      },
      "outputs": [],
      "source": [
        "def set_website_plot_props(ax, fig, xmin, xmax, ymin, ymax, xlabel, ylabel):\n",
        "\n",
        "    # ------------------------------------\n",
        "    # Set properties to use for matplotlib\n",
        "    # ------------------------------------\n",
        "    \n",
        "    set_matplotlib_properties()\n",
        "    \n",
        "    # ---------------------------------\n",
        "    # Plot properties for website plots\n",
        "    # ---------------------------------\n",
        "\n",
        "    # Allow room at top for the 2 titles\n",
        "    fig.subplots_adjust(top=0.85)\n",
        "\n",
        "    ax.tick_params(which='both', bottom=True, top=True, left=True, right=True)\n",
        "\n",
        "    ax.tick_params(axis='x', labelsize=10, pad=5)\n",
        "    ax.tick_params(axis='y', labelsize=16)\n",
        "\n",
        "    ax.tick_params(axis='x', which='major', direction='in', length=6, width=1)\n",
        "    ax.tick_params(axis='y', which='major', direction='in', length=8, width=1)\n",
        "\n",
        "    tick_spacing = 5\n",
        "    ax.yaxis.set_major_locator(ticker.MultipleLocator(tick_spacing))\n",
        "\n",
        "    labels = ax.get_xticklabels() + ax.get_yticklabels()\n",
        "    for label in labels: label.set_fontweight('bold')  \n",
        "\n",
        "    ax.tick_params(which='minor', direction='in', length=4)\n",
        "    ax.yaxis.set_minor_locator(AutoMinorLocator(5))\n",
        "\n",
        "    ax.set_xlabel(xlabel, fontweight='bold', fontsize=18, labelpad=5)\n",
        "    ax.set_ylabel(ylabel, fontweight='bold', fontsize=18, labelpad=5)\n",
        "\n",
        "    # Set axes limits last \n",
        "    # If did before, setting xtick labels past xmin & xmax would have\n",
        "    # extended the plot limits\n",
        "    ax.set_xlim(xmin, xmax)\n",
        "    ax.set_ylim(ymin, ymax)"
      ],
      "id": "1VMcHy23U8m5"
    },
    {
      "cell_type": "code",
      "execution_count": 17,
      "metadata": {
        "id": "T3q34rh8U8m5"
      },
      "outputs": [],
      "source": [
        "def create_xtick_labels(ax, xmin, xmax):\n",
        "    \n",
        "    # Have ticks at the first of the month and then move the tick label\n",
        "    # to position at the start of this tick mark\n",
        "    \n",
        "    # Set tick marks to 1st of each month\n",
        "    start_date = datetime(xmin.year, xmin.month, 1, 0, 0)\n",
        "    end_date = datetime(xmax.year, xmax.month, 1, 0, 0)\n",
        "\n",
        "    date_ticks_dt = []\n",
        "    current=start_date\n",
        "    while current <= end_date:\n",
        "        date_ticks_dt.append(current)\n",
        "        current += relativedelta(months=1)\n",
        "\n",
        "    date_tick_labels = [x.strftime(\"%b\") for x in date_ticks_dt]\n",
        "\n",
        "    date_tick_decimal = [dt2t(x) for x in date_ticks_dt]\n",
        "    \n",
        "    plt.xticks(date_tick_decimal, date_tick_labels)\n",
        "\n",
        "    # Move tick labels so left aligned with tick mark\n",
        "    # to represent the month as starting at the tick mark\n",
        "    # and not meaning the middle of the month.\n",
        "    for tick in ax.xaxis.get_majorticklabels():\n",
        "        tick.set_horizontalalignment(\"left\")\n",
        "        \n",
        "    # Place the starting and ending years below the xaxis tick labels\n",
        "    start_year = xmin.year\n",
        "    label_text = start_year\n",
        "    ax.annotate(label_text, xy=(0, -0.06), xycoords='axes fraction', fontsize=10,\n",
        "                horizontalalignment='left', verticalalignment='top', fontweight='bold')\n",
        "\n",
        "    end_year = xmax.year\n",
        "    label_text = end_year\n",
        "    ax.annotate(label_text, xy=(0.97, -0.06), xycoords='axes fraction', fontsize=10,\n",
        "                horizontalalignment='left', verticalalignment='top', fontweight='bold')\n",
        "\n",
        "    ax.tick_params(axis='x', pad=7)"
      ],
      "id": "T3q34rh8U8m5"
    },
    {
      "cell_type": "code",
      "execution_count": 18,
      "metadata": {
        "id": "TeftdT4WU8m6"
      },
      "outputs": [],
      "source": [
        "def add_plot_title(ax, title1, title2):\n",
        "\n",
        "    ax.annotate(title1, xy=(0, 1.15), xycoords='axes fraction', fontsize=14,\n",
        "                horizontalalignment='left', verticalalignment='top', fontweight=\"normal\")\n",
        "    ax.annotate(title2, xy=(0, 1.07), xycoords='axes fraction', fontsize=18,\n",
        "                horizontalalignment='left', verticalalignment='top', fontweight = 'bold')"
      ],
      "id": "TeftdT4WU8m6"
    },
    {
      "cell_type": "code",
      "execution_count": 19,
      "metadata": {
        "id": "UkDVs4J1U8m6"
      },
      "outputs": [],
      "source": [
        "def add_inset_label(ax, label_start, today):\n",
        "    label_text = f\"{label_start} ending {today}\"\n",
        "    ax.annotate(label_text, xy=(0.03, 0.9), xycoords='axes fraction', fontsize=12,\n",
        "                horizontalalignment='left', verticalalignment='top')"
      ],
      "id": "UkDVs4J1U8m6"
    },
    {
      "cell_type": "code",
      "execution_count": 20,
      "metadata": {
        "id": "M3ofdJH8U8m6"
      },
      "outputs": [],
      "source": [
        "def add_legend_labels(ax):\n",
        "\n",
        "    legend_1 = 'Daily average'\n",
        "    legend_2 = 'Weekly average'\n",
        "    legend_3 = 'Monthly average'\n",
        "    \n",
        "    legend_properties = {'weight':'bold'}\n",
        "\n",
        "    black_dot = mlines.Line2D([], [], marker = 'o', color='black',markersize=4, \n",
        "             markerfacecolor='black', markeredgecolor='black', markeredgewidth=0, linestyle='None')\n",
        "\n",
        "    black_filled_circle = mlines.Line2D([], [], marker = 'o', color='black',markersize=8, \n",
        "             markerfacecolor='black', markeredgecolor='black', markeredgewidth=0, linestyle='None')\n",
        "\n",
        "    black_open_circle = mlines.Line2D([], [], marker = 'o', color='black',markersize=10, \n",
        "             markerfacecolor='none', markeredgecolor='black', markeredgewidth=1.5, linestyle='None')\n",
        "    \n",
        "    # Use best placement for legend\n",
        "    plt.rc('legend',fontsize=12)\n",
        "    ax.legend([black_dot, black_filled_circle, black_open_circle], \n",
        "              [legend_1, legend_2, legend_3],frameon=False,borderaxespad=1,\n",
        "              labelspacing=0.2, prop=legend_properties)"
      ],
      "id": "M3ofdJH8U8m6"
    },
    {
      "cell_type": "code",
      "execution_count": 21,
      "metadata": {
        "id": "QL7vuHYZU8m6"
      },
      "outputs": [],
      "source": [
        "def add_sio_logo(fig, logo_file, xpos, ypos):\n",
        "\n",
        "    logo = mpimg.imread(logo_file)\n",
        "\n",
        "    fig.add_axes([xpos, ypos, 0.2, 0.2], anchor='SE', zorder=1)\n",
        "\n",
        "    plt.imshow(logo)\n",
        "    plt.axis('off')"
      ],
      "id": "QL7vuHYZU8m6"
    },
    {
      "cell_type": "code",
      "execution_count": 22,
      "metadata": {
        "id": "YZo82KuUU8m7"
      },
      "outputs": [],
      "source": [
        "def save_plot_for_website(fig, pdf_file, png_file):\n",
        "\n",
        "    # For pdf\n",
        "    width_in = 11\n",
        "    height_in = 8.5\n",
        "    fig.set_size_inches(width_in, height_in, forward=True)\n",
        "\n",
        "    plt.subplots_adjust(left=0.1, right=0.11, top=0.8, bottom=0.2)\n",
        "\n",
        "    fig.savefig(pdf_file, facecolor='w', edgecolor='w',\n",
        "                orientation='landscape', format=None,\n",
        "                transparent=False, pad_inches=0)\n",
        "\n",
        "    # For png\n",
        "    width_px = 1000\n",
        "    height_px = (height_in/width_in) * width_px\n",
        "\n",
        "    png_dpi = 100\n",
        "    fig.set_size_inches(width_px/png_dpi, height_px/png_dpi)\n",
        "\n",
        "    fig.savefig(png_file, facecolor='w', edgecolor='w',\n",
        "                orientation='landscape', dpi=png_dpi, pad_inches=0)"
      ],
      "id": "YZo82KuUU8m7"
    },
    {
      "cell_type": "markdown",
      "metadata": {
        "id": "jTwYz9KEU8m7"
      },
      "source": [
        "## Set plot limits and labeling"
      ],
      "id": "jTwYz9KEU8m7"
    },
    {
      "cell_type": "markdown",
      "metadata": {
        "id": "RlVMz-JaU8m7"
      },
      "source": [
        "### Functions to convert dates into various formats\n",
        "For plot limits and labeling"
      ],
      "id": "RlVMz-JaU8m7"
    },
    {
      "cell_type": "code",
      "execution_count": 23,
      "metadata": {
        "id": "WNwbPvTlU8m7"
      },
      "outputs": [],
      "source": [
        "# Function to convert datetime to a float\n",
        "def dt2t(adatetime):\n",
        "    \"\"\"\n",
        "    Convert adatetime into a float. The integer part of the float should\n",
        "    represent the year.\n",
        "    Order should be preserved. If adate<bdate, then d2t(adate)<d2t(bdate)\n",
        "    time distances should be preserved: If bdate-adate=ddate-cdate then\n",
        "    dt2t(bdate)-dt2t(adate) = dt2t(ddate)-dt2t(cdate)\n",
        "    \"\"\"\n",
        "    year = adatetime.year\n",
        "    boy = datetime(year, 1, 1)\n",
        "    eoy = datetime(year + 1, 1, 1)\n",
        "    return year + ((adatetime - boy).total_seconds() / ((eoy - boy).total_seconds()))"
      ],
      "id": "WNwbPvTlU8m7"
    },
    {
      "cell_type": "code",
      "execution_count": 24,
      "metadata": {
        "id": "gItWNhk8U8m7"
      },
      "outputs": [],
      "source": [
        "def get_todays_date_variations():\n",
        "    \n",
        "    now = datetime.now()\n",
        "    todays_decimal =  dt2t(now)\n",
        "    \n",
        "    today = date.today()\n",
        "\n",
        "    todays_day = today.day\n",
        "    todays_month = today.strftime(\"%B\")\n",
        "    todays_year = today.year\n",
        "    todays_date_moyr = today.strftime(\"%B %Y\")\n",
        "    todays_date_modyyr = f\"{todays_month} {todays_day}, {todays_year}\"\n",
        "\n",
        "    return todays_date_moyr, todays_date_modyyr, todays_decimal, todays_year"
      ],
      "id": "gItWNhk8U8m7"
    },
    {
      "cell_type": "code",
      "execution_count": 25,
      "metadata": {
        "id": "1BPpPk8iU8m8"
      },
      "outputs": [],
      "source": [
        "#  https://stackoverflow.com/questions/19305991/convert-fractional-years-to-a-real-date-in-python\n",
        "def t2dt(atime):\n",
        "    \"\"\"\n",
        "    Convert atime (a float) to DT.datetime\n",
        "    This is the inverse of dt2t.\n",
        "    assert dt2t(t2dt(atime)) == atime\n",
        "    \"\"\"\n",
        "    year = int(atime)\n",
        "    remainder = atime - year\n",
        "    boy = datetime(year, 1, 1)\n",
        "    eoy = datetime(year + 1, 1, 1)\n",
        "    seconds = remainder * (eoy - boy).total_seconds()\n",
        "    return boy + timedelta(seconds=seconds)"
      ],
      "id": "1BPpPk8iU8m8"
    },
    {
      "cell_type": "code",
      "execution_count": 26,
      "metadata": {
        "id": "XJhimaEMU8m8"
      },
      "outputs": [],
      "source": [
        "def get_data_end_date(date_data):\n",
        "    last_date = np.max(date_data)\n",
        "    last_date_datetime = t2dt(last_date)\n",
        "    \n",
        "    # Convert date format to month_name day, year\n",
        "    day = last_date_datetime.day\n",
        "    month = last_date_datetime.strftime(\"%B\")\n",
        "    year = last_date_datetime.year\n",
        "    date_modyyr = f\"{month} {day}, {year}\"\n",
        "    return date_modyyr"
      ],
      "id": "XJhimaEMU8m8"
    },
    {
      "cell_type": "markdown",
      "metadata": {
        "id": "BL1Sh9cMU8m8"
      },
      "source": [
        "### Set titles and axes labels"
      ],
      "id": "BL1Sh9cMU8m8"
    },
    {
      "cell_type": "code",
      "execution_count": 27,
      "metadata": {
        "id": "O7e8cZ11U8m8"
      },
      "outputs": [],
      "source": [
        "xlabel = ''\n",
        "ylabel = \"$\\mathregular{CO}\\\\bf{_2}$\" + \" Concentration (ppm)\"\n",
        "\n",
        "title1 = get_data_end_date(date_daily)\n",
        "title2 = 'Carbon dioxide concentration at Mauna Loa Observatory'"
      ],
      "id": "O7e8cZ11U8m8"
    },
    {
      "cell_type": "markdown",
      "metadata": {
        "id": "4qSRPKDaU8m8"
      },
      "source": [
        "### Set yaxis min and max limits"
      ],
      "id": "4qSRPKDaU8m8"
    },
    {
      "cell_type": "code",
      "execution_count": 28,
      "metadata": {
        "id": "tXDgJte5U8m8"
      },
      "outputs": [],
      "source": [
        "ymin = 405\n",
        "ymax = 430"
      ],
      "id": "tXDgJte5U8m8"
    },
    {
      "cell_type": "markdown",
      "metadata": {
        "id": "DhYPLDe7U8m9"
      },
      "source": [
        "### Set xaxis min and max limits"
      ],
      "id": "DhYPLDe7U8m9"
    },
    {
      "cell_type": "code",
      "execution_count": 29,
      "metadata": {
        "id": "wk0bRqD0U8m9"
      },
      "outputs": [],
      "source": [
        "now = datetime.now()\n",
        "time_ago = now + relativedelta(years=-1)\n",
        "\n",
        "xmin = time_ago\n",
        "xmax = now\n",
        "\n",
        "# Need decimal range for plotting gradiant since\n",
        "# plotting the gradiant won't work with datetime values\n",
        "xmin_dt = datetime(year=xmin.year, month=xmin.month, day=xmin.day)\n",
        "xmin_dec = dt2t(xmin_dt)\n",
        "\n",
        "xmax_dt = datetime(year=xmax.year, month=xmax.month, day=xmax.day)\n",
        "xmax_dec = dt2t(xmax_dt)"
      ],
      "id": "wk0bRqD0U8m9"
    },
    {
      "cell_type": "markdown",
      "metadata": {
        "id": "xzzDfDfTU8m9"
      },
      "source": [
        "## Create plot and save"
      ],
      "id": "xzzDfDfTU8m9"
    },
    {
      "cell_type": "code",
      "execution_count": 30,
      "metadata": {
        "scrolled": false,
        "colab": {
          "base_uri": "https://localhost:8080/",
          "height": 404
        },
        "id": "vrRI9PFnU8m9",
        "outputId": "cb45f421-d22a-47dc-b19b-d34968f49589"
      },
      "outputs": [
        {
          "output_type": "display_data",
          "data": {
            "image/png": "[encoded data removed]",
            "text/plain": [
              "<Figure size 720x556.364 with 2 Axes>"
            ]
          },
          "metadata": {
            "needs_background": "light"
          }
        }
      ],
      "source": [
        "fig = plt.figure()\n",
        "\n",
        "# Add padding for exterior plot text\n",
        "ax = plt.axes([0.11, 0.12, 0.83, 0.54])\n",
        "\n",
        "\n",
        "# ------------------------\n",
        "# Add gradiant under curve\n",
        "# ------------------------\n",
        "\n",
        "# For gradient under all points, extend spline to last data point\n",
        "# The current weekly spline is a spline fit to monthly data on a weekly time frequency\n",
        "# And may end before the last data point\n",
        "spline = UnivariateSpline(date_weekly_spl, co2_weekly_spl, s = 3) \n",
        "\n",
        "max_daily = np.max(date_daily)\n",
        "max_weekly = np.max(date_weekly)\n",
        "max_monthly = np.max(date_monthly)\n",
        "max_date = max(max_daily, max_weekly, max_monthly)\n",
        "\n",
        "xx = np.linspace(date_weekly_spl[0], max_date, num=1000, endpoint=True)\n",
        "yy = spline(xx)\n",
        "\n",
        "if date_weekly_spl[-1] < max_date:\n",
        "    extended_dates = np.linspace(max_weekly + 0.01, xmax_dec, num=10, endpoint=True)\n",
        "    extended_values = spline(extended_dates)\n",
        "\n",
        "    x = np.concatenate([date_weekly_spl, extended_dates])\n",
        "    y = np.concatenate([co2_weekly_spl, extended_values])\n",
        "else:\n",
        "    x = date_weekly_spl\n",
        "    y = co2_weekly_spl\n",
        "\n",
        "# For gradient max, use last date of data rather than current date\n",
        "xmax_gradient = max_date\n",
        "    \n",
        "#area_color = '#ACCAE6'\n",
        "#area_color = '#8CB2E0'\n",
        "area_color = '#73a7e6'\n",
        "\n",
        "gradient_fill(x, y, fill_color=area_color, xmin=xmin_dec, ymin=ymin, xmax=xmax_gradient,\n",
        "              ymax=ymax, alpha_bottom=0.1, ax=ax, alpha=1.0, zorder= 1)\n",
        "\n",
        "\n",
        "# -------------\n",
        "# Plot the data\n",
        "# -------------\n",
        "\n",
        "# Set plotting zorder above the gradient\n",
        "\n",
        "ax.plot(date_daily, co2_daily, 'o', color='black',markersize=4, \n",
        "         markerfacecolor='black', markeredgecolor='black', markeredgewidth=0, zorder=5)\n",
        "\n",
        "ax.plot(date_weekly, co2_weekly, 'o', color='black',markersize=8, \n",
        "         markerfacecolor='black', markeredgecolor='black', markeredgewidth=0, zorder=6)\n",
        "\n",
        "ax.plot(date_monthly, co2_monthly, 'o', color='black',markersize=10, \n",
        "         markerfacecolor='none', markeredgecolor='black', markeredgewidth=1.5, zorder=7)\n",
        "\n",
        "\n",
        "# -----------------------------------------------------\n",
        "# Change xaxis to use date labels and not decimal dates\n",
        "# -----------------------------------------------------\n",
        "create_xtick_labels(ax, xmin, xmax)\n",
        "\n",
        "\n",
        "# -------------------\n",
        "# Set plot properties\n",
        "# -------------------\n",
        "set_website_plot_props(ax, fig, xmin_dec, xmax_dec, ymin, ymax, xlabel, ylabel)\n",
        "\n",
        "# ------------------------------------------------\n",
        "# Get todays date in various formats for labeling\n",
        "# ------------------------------------------------\n",
        "todays_date_moyr, todays_date_modyyr, todays_decimal, todays_year = get_todays_date_variations()\n",
        "\n",
        "\n",
        "# ---------------\n",
        "# Add plot titles\n",
        "# ---------------\n",
        "add_plot_title(ax, title1, title2)\n",
        "\n",
        "# --------------\n",
        "# Add inset text\n",
        "# --------------\n",
        "add_inset_label(ax, 'One year', todays_date_modyyr)\n",
        "\n",
        "# ----------------\n",
        "# Add legend\n",
        "# ----------------\n",
        "add_legend_labels(ax)\n",
        "\n",
        "# --------------------\n",
        "# Add SIO logo to plot\n",
        "# --------------------\n",
        "xpos = 0.715\n",
        "ypos = 0.155\n",
        "\n",
        "add_sio_logo(fig, logo_file, xpos, ypos)\n",
        "\n",
        "\n",
        "# ---------------------\n",
        "# Save plot for website\n",
        "# ---------------------\n",
        "fig = plt.gcf()\n",
        "\n",
        "save_plot_for_website(fig, pdf_file, png_file)\n",
        "\n",
        "\n",
        "plt.show()"
      ],
      "id": "vrRI9PFnU8m9"
    },
    {
      "cell_type": "markdown",
      "source": [
        "## Download Plots (pdf & png)"
      ],
      "metadata": {
        "id": "iWRf3HUsVqut"
      },
      "id": "iWRf3HUsVqut"
    },
    {
      "cell_type": "code",
      "execution_count": 31,
      "metadata": {
        "colab": {
          "base_uri": "https://localhost:8080/",
          "height": 49,
          "referenced_widgets": [
            "ad8b897be68e4b1abdae7d9613ddbe59",
            "664516c3e9a7427a985cbfb6fa718cd6",
            "3e6e1da444aa44729f6be3e0bf24baa0"
          ]
        },
        "id": "ucirdOtqU8m-",
        "outputId": "37fb5d7b-9fb5-46f6-cf1e-dd3cc6246f3e"
      },
      "outputs": [
        {
          "output_type": "display_data",
          "data": {
            "application/vnd.jupyter.widget-view+json": {
              "model_id": "ad8b897be68e4b1abdae7d9613ddbe59",
              "version_minor": 0,
              "version_major": 2
            },
            "text/plain": [
              "Button(button_style='primary', description='Download Files', style=ButtonStyle())"
            ]
          },
          "metadata": {}
        }
      ],
      "source": [
        "def download_files(ev):\n",
        "    files.download(png_file)\n",
        "    files.download(pdf_file)\n",
        "\n",
        "button = widgets.Button(description='Download Files', button_style='primary')\n",
        "button.on_click(download_files)\n",
        "display(button)"
      ],
      "id": "ucirdOtqU8m-"
    },
    {
      "cell_type": "code",
      "source": [
        ""
      ],
      "metadata": {
        "id": "YdwvItlZVt5J"
      },
      "id": "YdwvItlZVt5J",
      "execution_count": 31,
      "outputs": []
    }
  ],
  "metadata": {
    "interpreter": {
      "hash": "31f2aee4e71d21fbe5cf8b01ff0e069b9275f58929596ceb00d14d90e3e16cd6"
    },
    "kernelspec": {
      "display_name": "Python 3.8.5 64-bit",
      "name": "python3"
    },
    "language_info": {
      "codemirror_mode": {
        "name": "ipython",
        "version": 3
      },
      "file_extension": ".py",
      "mimetype": "text/x-python",
      "name": "python",
      "nbconvert_exporter": "python",
      "pygments_lexer": "ipython3",
      "version": "3.8.10"
    },
    "colab": {
      "name": "plot_mlo_one_year_keelingcurve.ipynb",
      "provenance": [],
      "include_colab_link": true
    },
    "widgets": {
      "application/vnd.jupyter.widget-state+json": {
        "ad8b897be68e4b1abdae7d9613ddbe59": {
          "model_module": "@jupyter-widgets/controls",
          "model_name": "ButtonModel",
          "model_module_version": "1.5.0",
          "state": {
            "_view_name": "ButtonView",
            "style": "IPY_MODEL_664516c3e9a7427a985cbfb6fa718cd6",
            "_dom_classes": [],
            "description": "Download Files",
            "_model_name": "ButtonModel",
            "button_style": "primary",
            "_view_module": "@jupyter-widgets/controls",
            "_model_module_version": "1.5.0",
            "tooltip": "",
            "_view_count": null,
            "disabled": false,
            "_view_module_version": "1.5.0",
            "layout": "IPY_MODEL_3e6e1da444aa44729f6be3e0bf24baa0",
            "_model_module": "@jupyter-widgets/controls",
            "icon": ""
          }
        },
        "664516c3e9a7427a985cbfb6fa718cd6": {
          "model_module": "@jupyter-widgets/controls",
          "model_name": "ButtonStyleModel",
          "model_module_version": "1.5.0",
          "state": {
            "_view_name": "StyleView",
            "_model_name": "ButtonStyleModel",
            "_view_module": "@jupyter-widgets/base",
            "_model_module_version": "1.5.0",
            "_view_count": null,
            "button_color": null,
            "font_weight": "",
            "_view_module_version": "1.2.0",
            "_model_module": "@jupyter-widgets/controls"
          }
        },
        "3e6e1da444aa44729f6be3e0bf24baa0": {
          "model_module": "@jupyter-widgets/base",
          "model_name": "LayoutModel",
          "model_module_version": "1.2.0",
          "state": {
            "_view_name": "LayoutView",
            "grid_template_rows": null,
            "right": null,
            "justify_content": null,
            "_view_module": "@jupyter-widgets/base",
            "overflow": null,
            "_model_module_version": "1.2.0",
            "_view_count": null,
            "flex_flow": null,
            "width": null,
            "min_width": null,
            "border": null,
            "align_items": null,
            "bottom": null,
            "_model_module": "@jupyter-widgets/base",
            "top": null,
            "grid_column": null,
            "overflow_y": null,
            "overflow_x": null,
            "grid_auto_flow": null,
            "grid_area": null,
            "grid_template_columns": null,
            "flex": null,
            "_model_name": "LayoutModel",
            "justify_items": null,
            "grid_row": null,
            "max_height": null,
            "align_content": null,
            "visibility": null,
            "align_self": null,
            "height": null,
            "min_height": null,
            "padding": null,
            "grid_auto_rows": null,
            "grid_gap": null,
            "max_width": null,
            "order": null,
            "_view_module_version": "1.2.0",
            "grid_template_areas": null,
            "object_position": null,
            "object_fit": null,
            "grid_auto_columns": null,
            "margin": null,
            "display": null,
            "left": null
          }
        }
      }
    }
  },
  "nbformat": 4,
  "nbformat_minor": 5
}