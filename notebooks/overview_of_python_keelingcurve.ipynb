{
 "cells": [
  {
   "cell_type": "markdown",
   "metadata": {
    "colab_type": "text",
    "id": "view-in-github"
   },
   "source": [
    "<a href=\"https://colab.research.google.com/github/sio-co2o2/keelingcurve_notebooks/blob/main/notebooks/overview_of_notebooks_keelingcurve.ipynb\" target=\"_parent\"><img src=\"https://colab.research.google.com/assets/colab-badge.svg\" alt=\"Open In Colab\"/></a>"
   ]
  },
  {
   "cell_type": "markdown",
   "metadata": {
    "id": "1reHmpSNN968"
   },
   "source": [
    "# Overview of python and its use in Keeling Curve Notebooks\n",
    "\n",
    "This notebook is an overview of python used in python notebooks that open in Google Colab to create graphics appearing on the Keeling Curve website\n",
    "\n",
    "Keeling Curve website: [keelingcurve.ucsd.edu](keelingcurve.ucsd.edu)\n",
    "\n",
    "[Keeling Curve Overview notebook](https://colab.research.google.com/github/sio-co2o2/keelingcurve_notebooks/blob/main/notebooks/overview_of_notebooks_keelingcurve.ipynb) with links to all Keeling Curve notebooks\n",
    "\n"
   ]
  },
  {
   "cell_type": "markdown",
   "metadata": {},
   "source": [
    "Additional overviews of python can be found at [https://www.knowledgehut.com/tutorials/python-tutorial](https://www.knowledgehut.com/tutorials/python-tutorial) and [https://www.codecademy.com/learn/learn-python-3](https://www.codecademy.com/learn/learn-python-3). There are also many YouTube videos, free courses for python [https://www.freecodecamp.org/news/tag/python/](https://www.freecodecamp.org/news/tag/python/), and affordable online courses such as those from [Udemy](udemy.com) (they have sales frequently).  "
   ]
  },
  {
   "cell_type": "markdown",
   "metadata": {
    "id": "k81A3ZQPjdC2"
   },
   "source": [
    "### Keeling Curve website graphics created with python"
   ]
  },
  {
   "cell_type": "markdown",
   "metadata": {
    "id": "zJWR8UrujdC3"
   },
   "source": [
    "The Keeling curve is an atmospheric carbon dioxide concentration record from the Mauna Loa Observatory, Hawaii starting in 1958. The Keeling curve website presents a series of graphics of the Keeling curve at various time periods alongside Ice Core records going back 800K years and each of those plots can be generated one per notebook. "
   ]
  },
  {
   "cell_type": "markdown",
   "metadata": {
    "id": "RD_rhYrFjdC3"
   },
   "source": [
    "<a name=\"toc\"></a>\n",
    "\n",
    "## This notebooks consists of two parts. \n",
    "\n",
    "One is an overview of python and the other is an overview of python functions used in the Keeling Curve notebooks\n",
    "\n",
    "## Overview of Python TOC\n",
    "\n",
    "1. [Using python in Google Colab Notebooks](#using-python-in-google-colab-notebooks)\n",
    "2. [Python code basics](#Python-code-basics)\n",
    "3. [Python functions](#Python-functions)\n",
    "4. [Importing external code packages](#Importing-code-packages)\n",
    "5. [Requests package to fetch data files](#requests-package-to-fetch-data-files)\n",
    "6. [NumPy package to work with numbers](#NumPy-package-to-work-with-numbers)\n",
    "7. [Pandas package to read in and manipulate data](#pandas-package-to-read-in-and-manipulate-data)\n",
    "8. [Matplotlib package for plotting](#matplotlib-package-for-plotting)\n",
    "9.  [Requests package to fetch data files](#requests-package-to-fetch-data-files)\n",
    "10. [NumPy package to work with numbers](#numpy-package-to-work-with-numbers)\n",
    "11. [Pandas package to read in and manipulate data](#pandas-package-to-read-in-and-manipulate-data)\n",
    "12. [Matplotlib package for plotting](#matplotlib-package-for-plotting)\n",
    "13. [Using notebooks locally](#using-notebooks-locally)\n",
    "\n",
    "## Python Functions Used in Keeling Curve Notebooks TOC\n",
    "\n",
    "1. [Functions to fetch data](#functions-to-fetch-data)\n",
    "2. [Examples of functions used in the plotting notebooks](#examples-of-functions-used-in-the-plotting-notebooks)\n",
    "3. [Functions to configure plot properties](#functions-to-configure-plot-properties)\n",
    "4. [Functions to save a plot](#functions-to-save-a-plot)"
   ]
  },
  {
   "cell_type": "markdown",
   "metadata": {},
   "source": [
    "# Overview of python"
   ]
  },
  {
   "cell_type": "markdown",
   "metadata": {},
   "source": [
    "## Using Python in Google Colab Notebooks"
   ]
  },
  {
   "cell_type": "markdown",
   "metadata": {},
   "source": [
    "Google Colab notebooks automatically includes python and allows useful python packages to be imported to use in your notebook.\n"
   ]
  },
  {
   "cell_type": "markdown",
   "metadata": {
    "id": "lSWfYLjDN97W"
   },
   "source": [
    "## Python basics (used to form functions)\n",
    "\n",
    "This section discusses 1) collection types to hold related numbers and/or strings (three types discussed are lists, dicts, and tuples), 2) true/false conditions, and 3) code loops. Functions which are collections of code are discussed later.\n"
   ]
  },
  {
   "cell_type": "markdown",
   "metadata": {},
   "source": [
    "### Collection types are lists, dicts and tuples"
   ]
  },
  {
   "cell_type": "markdown",
   "metadata": {
    "id": "II5T-F99N97W"
   },
   "source": [
    "#### Lists\n",
    "\n",
    "In python, keeping track of a series of numbers can either be done with a \"list\" or a \"NumPy array\". The NumPy array is better for math, and the list is good for basic use. The NumPy package is discussed below. A python list is a way of representing a collection of comma separated values inside a pair of square brackets '[]'. For example, [1, 2, 3, 4, 5] and ['one', 'two', 'three']. And a list can contain both numbers and strings at the same time. The first element is at index 0 since python starts at 0 instead of 1. To get the first element in a list, type the following:\n",
    "\n",
    "    a_list = [1, 2, 3, 4, 5]\n",
    "    variable = a_list[0]\n",
    "    \n",
    "where variable = 1.\n",
    "\n",
    "To get a part of a list, use a colon ':' to separate contiguous indices. A bit tricky is that python does not include the last index when selecting it with a ':'. So the following code for a slice of a list results in one number in a list and not two. \n",
    "\n",
    "    a_value = a_list[2:3]\n",
    "    \n",
    "The variable a_value = [3]. The number 3 is at index = 2. Python list selections are thus [start_index: end_index] where the value at end_index is not included in the result. Notice that a list is returned when a colon ':' is used, and that a single value of 3 is returned if you type a_list[2]. \n",
    "\n",
    "    b_value = a_list[2]\n",
    "    \n",
    "Lists are great for collecting similar items together.\n"
   ]
  },
  {
   "cell_type": "markdown",
   "metadata": {
    "id": "DIDnlSCoN97W"
   },
   "source": [
    "#### Dicts\n",
    "\n",
    "It's helpful to use names associated with numbers and strings. There are variables of course, but there are also dicts, short for dictionaries. A dict is represented with a pair of curly braces '{}' and is a collection of names (called keys) and their associated values. These values can be numbers, strings, lists, more dicts, etc. An example of a dict is:\n",
    "\n",
    "    a_dict = {'x': 5}\n",
    "    b_dict = {'x': 5, 'y': 7}\n",
    "    \n",
    "where the names called keys and their values are separated by a colon ':'. Dicts are a helpful way of collecting a lot of variable names and values into one identifier. To get the value of a key, type the following:\n",
    "\n",
    "    variable = a_dict['x'] \n",
    "    \n",
    "where variable is the value 5. So a variable dict is enclosed in curly brackets composed of keys and values, where the key is associated with its value using a colon ':' and the key/value pairs are separated by commas ','. \n",
    "\n",
    "    variable = {key1: value1, key2: value2, key3: value3}\n",
    "\n"
   ]
  },
  {
   "cell_type": "markdown",
   "metadata": {
    "id": "-DoS83_hN97Y"
   },
   "source": [
    "#### Tuples\n",
    "\n",
    "Tuples are another way of representing a collection. Tuples are different than lists and use double parenthesis '()'. Tuples are ordered, unchangeable, and allow duplicate values. You can read more about tuples here [https://www.geeksforgeeks.org/python-tuples/](https://www.geeksforgeeks.org/python-tuples/)."
   ]
  },
  {
   "cell_type": "markdown",
   "metadata": {
    "id": "J3qSsUFBN97Y"
   },
   "source": [
    "### TRUE/FALSE conditions\n",
    "\n",
    "In programming, there are many times where a decision has to be made, and to represent these, a True result means the decision was 'yes' and a False result means the decision was 'no'. To represent this decision, the words 'if', 'else', and 'elif' are used. And to separate the decisions to be made, a colon ':' is added after the decision statement. For python to know what code is associated with an if statement, it is indented. Usually 4 spaces. For example:\n",
    "\n",
    "    if True:\n",
    "        print('The decision is yes')\n",
    "    else:\n",
    "        print('The decision is no')\n",
    "        \n",
    "And if there are more decisions, add in an elif statement.\n",
    "\n",
    "    variable = 10\n",
    "\n",
    "    if variable == 5:\n",
    "        print('The decision is yes, the variable is equal to 5')\n",
    "    elif variable == 10:\n",
    "        print('The decision is yes, the variable is equal to 10')   \n",
    "    else:\n",
    "        print('The decision wasn't made, so do this instead')\n",
    "\n",
    "The double equal sign '==' stands for checking if the value on the left is the same as the value on the right. \n",
    "\n",
    "And in python, code is indented by 4 spaces after a statement that ends in a colon ':'. The 'print' statement means display the result.\n",
    "\n"
   ]
  },
  {
   "cell_type": "markdown",
   "metadata": {
    "id": "GcD-fe5TN97Y"
   },
   "source": [
    "### Code loops\n",
    "\n",
    "Python represents looping with a 'for' statement. \n",
    "\n",
    "To do something for each element of a list, use the following code:\n",
    "\n",
    "    a_list = ['a', 'b', 'c']\n",
    "    \n",
    "    for elem in a_list:\n",
    "        print(elem)\n",
    "\n",
    "This will look at each element in the list, set the value to a variable named 'elem' and then do something with that variable. In this case, display it. \n",
    "\n",
    "The for statement also works with dicts, but in a different way to get to the keys and values inside.\n",
    "\n",
    "    a_dict = {'key1': value1, 'key2': value2}\n",
    "    \n",
    "    for a_key, a_val in a_dict.items():\n",
    "        print(a_key)\n",
    "        print(a_val)\n",
    "        \n",
    "This will look at each key/value item pair, and then extract out the keys to a variable a_key and the values to a variable a_val. And for each loop, both the key and the value are printed to the display.  \n",
    "\n",
    "\n",
    "\n",
    "There is also another way to do looping called list comprehension. \n",
    "\n",
    "The following for loop\n",
    "\n",
    "    y = []\n",
    "    for x in [1,2,3]:\n",
    "       x=x*2\n",
    "       y.append(x)\n",
    "       \n",
    "is the same as\n",
    "\n",
    "    y = [x*2 for x in [1,2,3]]\n",
    "\n",
    "For both, y = [2, 4, 6]\n",
    "\n"
   ]
  },
  {
   "cell_type": "markdown",
   "metadata": {
    "id": "NEs4fKv3N97Z"
   },
   "source": [
    "## Python functions\n",
    "\n",
    "In python, you can type commands without a function, but if you want to contain them and be able to use the same code in many places, functions are necessary. Functions are created using the 'def' keyword followed by the function name and a pair of parentheses '()', and finally a colon ':'. All code of the function is indented so that python knows which code is part of the function. \n",
    "\n",
    "    def function_name():\n",
    "        print(\"I'm inside a function\")\n",
    "        \n",
    "and then to call the function elsewhere, type the function name followed by a pair of parentheses '()'.\n",
    "\n",
    "    function_name()\n",
    "\n",
    "If there are values to pass to the function, place them inside the parentheses. And to return a calculated value from the function, use the keyword 'return'. If nothing is being returned, then you can skip writing a return statement. You can think of 'def' as standing for 'definition' since a function is being defined.\n",
    "\n",
    "    def function_name(x):\n",
    "        y = x + 2\n",
    "        return y\n",
    "       \n",
    "and to call it,\n",
    "\n",
    "    answer = function_name(5)\n",
    "    \n",
    "with the value of answer is 7.\n",
    "\n",
    "In python, a function has to be written before you call it. And if you have two functions in the program, the order of the functions is important. Imagine reading the program from the top to the bottom, you can't use a function that hasn't been written yet. So if you have one function that calls another, the called function must appear first.\n",
    "\n",
    "    def function_being_called():\n",
    "        print('I'm being called')\n",
    "        \n",
    "    def function_calling_another():\n",
    "        function_being_called()\n",
    "        \n",
    "and the result is \"I'm being called\" printed to the console.\n"
   ]
  },
  {
   "cell_type": "markdown",
   "metadata": {
    "id": "csCtt9lsN97Z"
   },
   "source": [
    "## Importing code packages\n",
    "\n",
    "Google Colab easily enables access to external code packages using the import statement. \n",
    "\n",
    "The import statements, seen at the top of every notebook, are commands to enable external python code packages to be use in a notebook. This way another programmer can write a code package and store it in an online repository to be downloaded when needed. \n",
    "\n",
    "If you were to download the Jupyter notebook and use it on your own computer, it is necessary to create a \"python environment\" which is like a container that holds downloaded code packages. Even though the packages have been downloaded, it is required to use the import statement in a notebook to let python know you will be using them. Google Colab notebooks create the python environment automatically and so packages don't need to be downloaded and installed first, but just imported. \n",
    "\n",
    "\n",
    "[TOC](#toc)"
   ]
  },
  {
   "cell_type": "markdown",
   "metadata": {
    "id": "WlZDiBxXN97Z"
   },
   "source": [
    "## Requests package to fetch data files <a name=\"requests-package-to-fetch-data-files\"></a>\n",
    "\n",
    "The [requests package](https://docs.python-requests.org/en/latest/) enables data to be downloaded from a website link, and saved into a variable instead of a file. Well formatted data can also be read into a variable using the pandas package which is described below. The notebook uses the requests package instead of pandas because the icecore data files are text based with many comments and unneeded data mixed in. The notebook uses the pandas package for the MLO data because it is well formed with clear comment lines and column names. To use reqeusts to fetch data, use the following code:\n",
    "\n",
    "    variable = requests.get('file location')\n",
    "    \n",
    "But the code doesn't know if the data is to be formatted as text or json, so you have to tell it with the following code:\n",
    "\n",
    "    variable_text = variable.text\n",
    "    \n",
    "[TOC](#toc)"
   ]
  },
  {
   "cell_type": "markdown",
   "metadata": {
    "id": "dyHlp6IuN97Z"
   },
   "source": [
    "## NumPy package to work with numbers <a name=\"numpy-package-to-work-with-numbers\"></a>\n",
    "\n",
    "With the NumPy package, you can work with arrays. Lists are one dimensional (only rows or only columns). And arrays can hold multiple dimensions (rows and columns at the same time along with other dimensions like time, etc.). NumPy arrays can also just be one dimensional. NumPy is used because it is much faster than working with lists. \n",
    "\n",
    "As a shortcut, NumPy is imported such that an abbreviation of 'np' can be used.\n",
    "\n",
    "    import numpy as np\n",
    "    \n",
    "    \n",
    "A python list can be turned into a numpy array by the following\n",
    "\n",
    "    a_list = [1, 2, 3, 4]\n",
    "    \n",
    "    a_numpy_array = np.array(a_list)\n",
    "    \n",
    "    \n",
    "For a two dimensional array, type the following (notice the square brackets '[]' enclosing everything):\n",
    "\n",
    "    arr = np.array([[1, 2, 3, 4], [5, 6, 7, 8]])\n",
    "    \n",
    "With a numpy array, there are functions that are included with it. You call a function by placting a dot (.) after np and followed by the function name. For example: \n",
    "    \n",
    "    variable = np.shape(arr)\n",
    "\n",
    "This gives the shape of the array which is (2,4) which means there are two rows and 4 columns. The first dimension = 2 and the second dimension = 4.\n",
    "\n",
    "\n",
    "[TOC](#toc)"
   ]
  },
  {
   "cell_type": "markdown",
   "metadata": {
    "id": "Icn2op7FN97Z"
   },
   "source": [
    "## Pandas package to read in and manipulate data <a name=\"pandas-package-to-read-in-and-manipulate-data\"></a>\n",
    "\n",
    "The [pandas package](https://pandas.pydata.org/) can be thought of as a python representaion of an Excel worksheet. Data is stored in rows and column cells with column headers. Data stored in a variable represented by a combination of columns and rows is referred to as a dataframe. This makes it easy to work with one column at a time or multiple. And it's intuitive to work with data having a label rather than just the numbers themselves. \n",
    "\n",
    "In the notebooks, the pandas package is called by abbreviating it as pd using the statement: \n",
    "\n",
    "    import pandas as pd\n",
    "\n",
    "Functions associated with the pandas package are called using the format pd followed by a dot (.) and the function name. An example function call is \"pd.read_csv(filename)\" where filename is the name of a file you want to read in data from. This file can either be found locally or remotely. The function read_csv 'reads' or extracts data from the file and stores it in a varaible. To avoid having functions with the same name conflicting with each other, the 'pd' part is used in front of the function name. You'll also notice the variable itself can call pandas functions by using a dot (.) and a function name after it. And example is \n",
    "\n",
    "    df = pd.read_csv('filename.txt')\n",
    "    df.head()\n",
    "    \n",
    "The first code line reads in the data from the file filename.txt into the variable df (called a dataframe if the data is more than one dimension meaning rows and columns), and the next code line tells the notebookk to display to the screen the first 5 lines of the dataframe. A file with the extension '.csv' means the file is a text file containing values separated by commas. Each value separated by a comma in a row is placed in a \"column\", meaning you can think of it like a spreadsheet column. If there are header lines, the columns are named using them. To get all the data in this column as a variable, use the following code:\n",
    "\n",
    "    variable = df['column name']\n",
    "    \n",
    "To get a subset of a dataframe such as two columns, use the following code (notice the double square brackets):\n",
    "\n",
    "    variable = df[['column name 1', 'column name 2']]\n",
    "\n",
    "A single set of square brackets for one column, represents a \"Series\" or a one dimensional representation of the data. For two columns, a double set of square brackets is used which represents a \"DataFrame\" or a two dimensional representation of the data.\n",
    "\n",
    "The row numbers of a dataframe are referred to as the index. As an aside, the index number is not the same as the line number. An index is a way to label each row so it is unique. It is possible for there to be 4 rows and instead of referring to the rows as 0, 1, 2, 3, the index is 0, 1, 3, 4. Note that in python, an index starts at 0 and not at 1. To get back to rows that start at 0 again and increase by 1, use the reindex function. \n",
    "\n",
    "To convert a pandas dataframe into a numpy array, run\n",
    "    \n",
    "    x = df['column_name'].to_numpy()\n",
    "\n",
    "This is a nice introduction to pandas [https://www.learndatasci.com/tutorials/python-pandas-tutorial-complete-introduction-for-beginners/](https://www.learndatasci.com/tutorials/python-pandas-tutorial-complete-introduction-for-beginners/).\n",
    "\n",
    "\n",
    "[TOC](#toc)"
   ]
  },
  {
   "cell_type": "markdown",
   "metadata": {
    "id": "hfsG2-OsN97a"
   },
   "source": [
    "## Matplotlib package for plotting <a name=\"matplotlib-package-for-plotting\"></a>\n",
    "\n",
    "Matplotlib is plotting package that enables plots to display when run in a Jupyter code cell. \n",
    "\n",
    "#### Setup\n",
    "\n",
    "For matplotlib commands, the package is imported with the abbreviation 'plt' and then all functions follow with a dot '.' and the function name. The import command is\n",
    "\n",
    "    import matplotlib.pyplot as plt\n",
    "\n",
    "To display plots inside the notebook, the next line is needed and place it at the top of the notebook\n",
    "\n",
    "    %matplotlib\n",
    "    \n",
    "This command will make your plot outputs appear and be stored within the notebook.\n",
    "\n",
    "\n",
    "#### Plotting\n",
    "There are two attributes associated with a plot, the Figure and the axes. \n",
    "\n",
    "The Figure refers to the plot that is created. To create a plot, one way to plot and keep track of the plot (figure) to save later is to set a variable fig equal to the output of calling plt.Figure(), e.g. fig = plt.Figure(). The variable fig is referred to as a 'handle'. A handle is a way to keep track of the plot so that you can save it later.\n",
    "\n",
    "    fig = plt.Figure()\n",
    "    \n",
    "    x = [1,5]\n",
    "    y = [3,4]\n",
    "    \n",
    "    plt.plot(x,y)\n",
    "    \n",
    "    fig.savefig(filename)\n",
    "    \n",
    "The axes refers to the graphic settings of the plot. When a plot is created, use a variable to keep track of the axes, called a handle, so that configurations of the plot can be set to customize the graphic. As an example of getting an axes handle are the statements following where 'ax' is the axes handle and fig is the figure (plot) handle. To apply a function to the axes, such as creating a label for the axis or setting the limits of the plot, type the name of the axes handle, ax, followed by dot '.' and then the function name. Below is a function call to set the plot limits of the x axis from 0 to 5.\n",
    "\n",
    "    fig, ax = plt.subplots()\n",
    "    \n",
    "    x = [1,5]\n",
    "    y = [3,4] \n",
    "    \n",
    "    ax.set_xlim(0, 5)\n",
    "\n",
    "Notice that 'subplots' is used. In the previous discussion about figures, plt.Figure() creates a plot with no handle to configure the plot properties. To get an axes handle, you can either define it right away with fig, ax = plt.subplots() or use fig = plt.Figure() followed by ax = fig.add_subplot(111) where the 111 refers the figure size and position.\n",
    "\n",
    "The x and y axes have many configurations that can be set using functions on the axes handle. Some options include setting the limits of the plot, including labels for the x and y axis, and adding a title to the plot.\n",
    "\n",
    "Along with properties, the plot function is called using the axes handle. \n",
    "\n",
    "    ax.plot(x, y)\n",
    "    \n",
    "You can plot directly without using an axes handle, plt.plot(x, y), but then you won't be able to customize the plot. \n",
    "\n",
    "Another feature of matplotlib is to set font and linewidth information for all plots created so that the options are set once and not each time a plot is created. The property to do this is rcParams. To set the font family, type the following:\n",
    "\n",
    "    plt.rcParams.update({\n",
    "        \"font.family\": \"sans-serif\"\n",
    "        })\n",
    "\n",
    "A great instroduction to plotting with Matplotlib is [https://matplotlib.org/stable/tutorials/introductory/usage.html#sphx-glr-tutorials-introductory-usage-py](https://matplotlib.org/stable/tutorials/introductory/usage.html#sphx-glr-tutorials-introductory-usage-py).\n",
    "\n",
    "\n",
    "[TOC](#toc)"
   ]
  },
  {
   "cell_type": "markdown",
   "metadata": {},
   "source": [
    "## Using notebooks locally"
   ]
  },
  {
   "cell_type": "markdown",
   "metadata": {},
   "source": [
    "You can download notebooks from the Keeling Curve GitHub repository and run it on your own computer. The best way to use a python notebook on your local computer is to create a python environment (see below). \n",
    "\n",
    "You can also modify notebooks using Google Colab and save your changes. Here is an overview of Google Colab along with a description of how to download files (notebooks) from Colab. [https://www.dummies.com/article/technology/programming-web-design/python/working-with-google-colaboratory-notebooks-262687/](https://www.dummies.com/article/technology/programming-web-design/python/working-with-google-colaboratory-notebooks-262687/)\n",
    "\n",
    "[TOC](#toc)"
   ]
  },
  {
   "cell_type": "markdown",
   "metadata": {},
   "source": [
    "### Python environment\n",
    "\n",
    "A python environment is a way to separate different python versions and python package versions used for a coding project. With a python envrironment, you can start a new code project and use a new python version and new package versions without breaking other code projects. Sometimes updates have new features that don't work with older versions and can break code unless it is separated into environments.\n",
    "\n",
    "Using pyenv to manage python environments [https://realpython.com/intro-to-pyenv/](https://realpython.com/intro-to-pyenv/).\n",
    "\n",
    "\n",
    "\n",
    "[TOC](#toc)"
   ]
  },
  {
   "cell_type": "markdown",
   "metadata": {
    "id": "zWZPkKhZN97a",
    "tags": []
   },
   "source": [
    "# Python functions used in Keeling Curve Notebooks"
   ]
  },
  {
   "cell_type": "markdown",
   "metadata": {
    "id": "HInSp3njN97a"
   },
   "source": [
    "### Functions to fetch data"
   ]
  },
  {
   "cell_type": "markdown",
   "metadata": {
    "id": "rL6ac5VAN97a"
   },
   "source": [
    "Two methods are used to fetch data.\n",
    "\n",
    "1. One is using Pandas and it's function read_csv which can read in a csv file or text file locally and remotely from a computer. Here a web address, url, will be used since the notebook is both on Google Colab and the data is located in a remote GitHub repository.\n",
    "\n",
    "    df = pd.read_csv(url)\n",
    "\n",
    "2. Two is using the requests package. It's a python package to call a url and retrieve multiple file formats. Since multiple types can be retrieved, the response needs to know what kind, so the response is followed by a dot '.' and 'text' here because the file to be fetched is a text file. \n",
    "\n",
    "    response = requests.get(icecore_2K_url)\n",
    "    file_text = response.text\n",
    "\n",
    "\n"
   ]
  },
  {
   "cell_type": "markdown",
   "metadata": {
    "id": "BCbnipoON97a"
   },
   "source": [
    "### Examples of functions used in the plotting notebooks"
   ]
  },
  {
   "cell_type": "markdown",
   "metadata": {
    "id": "pjcYYHo4N97a"
   },
   "source": [
    "This line gets the decimal date of the seasonal adjusted data out of the pandas data frame and converts it to a numeric numpy array. The plots can actually use pandas dataframes, but numpy arrays were used for consistency since on some occasions, the data are used in the numpy numeric format outside of plotting.\n",
    "\n",
    "    mlo_date = df_mlo['date_seas_adj'].to_numpy()\n",
    "\n",
    "This line takes the file that was read into a string and splits it on the return character and this results in a list of strings representing the lines of the file. This is to get the data into a list form that can be read into a pandas dataframe. A pandas dataframe is a very convenient form to hold and transform the data such as removing any lines with NaN CO2 values.\n",
    "\n",
    "    text_lines = file_text.split('\\n')\n",
    "\n",
    "This line is using a list comprehension (a type of for loop) to iterate over each line of a text file to find the header at the start of icecore data to be extracted. \n",
    "\n",
    "    start_section = [i for i in range(len(text_lines)) if text_lines[i].startswith('2. CO2 by Core')][0]\n",
    "\n",
    "This line gets a range of data from a text file starting at the row of the start of data to be retrieved and the end of the data section. \n",
    "\n",
    "    data_lines = section_lines[start_data: end_section]\n",
    "\n",
    "This line creates a regular expression to retrieve numeric values (\\d represents a numeric digit).\n",
    "\n",
    "    r = re.compile('(.+\\d+.*\\d+.*\\d)\\s.*')\n",
    "\n",
    "These lines convert a list of strings into a pandas dataframe and then names the column 'data'.\n",
    "\n",
    "    df_icecore_2K = pd.DataFrame(data_list)\n",
    "    df_icecore_2K.columns = ['data']\n",
    "\n",
    "This line removes any lines with a NaN value of CO2.\n",
    "\n",
    "    df_icecore_800K = df_icecore_800K.dropna()\n",
    "\n",
    "This line filters the data to find icecore data going back 800K years up to 2K years back.\n",
    "\n",
    "    df_icecore_800K = df_icecore_800K[df_icecore_800K['date_ce'] < min_2K]\n",
    "\n",
    "This line combines two dataframes horizontally so there are 4 columns.\n",
    "\n",
    "    df_combined = pd.concat([df_combined_icecore, df_mlo], ignore_index=True)\n",
    "\n",
    "This function converts a datetime (a string representation of a date) into a decimal.\n",
    "\n",
    "    dt2t(adatetime)\n"
   ]
  },
  {
   "cell_type": "markdown",
   "metadata": {
    "id": "9y1gm-QhN97b",
    "tags": []
   },
   "source": [
    "### Functions to configure plot properties"
   ]
  },
  {
   "cell_type": "markdown",
   "metadata": {
    "id": "C2Wrdb0gN97b"
   },
   "source": [
    "The gradient_fill function is used to apply a color gradient underneath a line.\n",
    "\n",
    "The function below sets font and line width settings of the plots.\n",
    "\n",
    "    set_matplotlib_properties\n",
    "\n",
    "The function below sets properties of the plot like ticks, tick labels, and axes labels.\n",
    "\n",
    "    set_website_plot_props\n",
    "\n",
    "The function below customizes how tick labels are displayed such as shifting their position to be centered between ticks when labeling the x-axes dates as days where the left and right ticks represent the start and end of a day and not noon.\n",
    "\n",
    "    create_xtick_labels\n",
    "\n",
    "The function below applies a title at a custom distance from the top axis and sets its font properties.\n",
    "    \n",
    "    add_plot_title\n",
    "\n",
    "The function below adds arrows at specific years by finding the CO2 value at specific years and pointing to those CO2 values. \n",
    "\n",
    "    apply_arrow_annotations\n",
    "\n",
    "The function below adds a high resolution png UCSD/SIO logo to the plot.\n",
    "\n",
    "    add_sio_logo\n",
    "\n"
   ]
  },
  {
   "cell_type": "markdown",
   "metadata": {
    "id": "QqaNYL1XN97b"
   },
   "source": [
    "### Functions to save a plot"
   ]
  },
  {
   "cell_type": "markdown",
   "metadata": {
    "id": "jOMePmWqN97b"
   },
   "source": [
    "The function below saves the plots created by matplotlib into PDF and png formats. It saves them at a specified size and resolution.\n",
    "\n",
    "    save_plot_for_website\n",
    "\n",
    "The function below makes use of Google Colab's ability to download plot files saved in the Google Colab virtual environment. It uses ipywidgets to create a clickable button. \n",
    "    \n",
    "    download_files\n",
    "\n"
   ]
  },
  {
   "cell_type": "markdown",
   "metadata": {
    "id": "f-q5Tdb6N97b"
   },
   "source": [
    "[TOC](#toc)"
   ]
  }
 ],
 "metadata": {
  "colab": {
   "include_colab_link": true,
   "name": "overview_of_python_keelingcurve.ipynb",
   "provenance": []
  },
  "kernelspec": {
   "display_name": "Python 3 (ipykernel)",
   "language": "python",
   "name": "python3"
  },
  "language_info": {
   "codemirror_mode": {
    "name": "ipython",
    "version": 3
   },
   "file_extension": ".py",
   "mimetype": "text/x-python",
   "name": "python",
   "nbconvert_exporter": "python",
   "pygments_lexer": "ipython3",
   "version": "3.8.10"
  },
  "title": "overview_of_python_keelingcurve.ipynb",
  "vscode": {
   "interpreter": {
    "hash": "756fd7f3f44ab1b408c61a336bc63dd8b2b1c2a4bc9346285fbb85e9c22b620b"
   }
  }
 },
 "nbformat": 4,
 "nbformat_minor": 1
}
