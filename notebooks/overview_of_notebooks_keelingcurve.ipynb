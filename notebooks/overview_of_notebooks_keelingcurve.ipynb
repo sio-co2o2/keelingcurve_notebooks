{
  "cells": [
    {
      "cell_type": "markdown",
      "metadata": {
        "colab_type": "text",
        "id": "view-in-github"
      },
      "source": [
        "<a href=\"https://colab.research.google.com/github/sio-co2o2/keelingcurve_notebooks/blob/main/notebooks/overview_of_notebooks_keelingcurve.ipynb\" target=\"_parent\"><img src=\"https://colab.research.google.com/assets/colab-badge.svg\" alt=\"Open In Colab\"/></a>"
      ]
    },
    {
      "cell_type": "markdown",
      "metadata": {
        "id": "1reHmpSNN968"
      },
      "source": [
        "<h1 style=\"color: #269142; font-size: 2.6em; font-family:serif\">Notebooks to create graphics that appear on the keelingcurve.ucsd.edu website</h1>\n",
        "\n",
        "The Keeling curve is an atmospheric carbon dioxide concentration record from the Mauna Loa Observatory, Hawaii starting in 1958. The Keeling curve website presents a series of graphics of the Keeling curve at various time periods alongside Ice Core records going back 800K years and each of those plots can be generated one per notebook. "
      ]
    },
    {
      "cell_type": "markdown",
      "metadata": {
        "id": "MYm3CfVvN969"
      },
      "source": [
        "<h2 style=\"font-size: 2em; background:#87bcf5; padding:0.2em\">Overview</h2>"
      ]
    },
    {
      "cell_type": "markdown",
      "metadata": {
        "id": "fV46RatuN96-"
      },
      "source": [
        "This notebook, a combination of text and python code, is an overview of background information, instructions, and an introduction to python code used to run notebooks that create graphics seen on the home page of the Keeling Curve website [keelingcurve.ucsd.edu](keelingcurve.ucsd.edu). The PDF (vector) formats of the graphics can be downloaded from [https://keelingcurve.ucsd.edu/pdf-downloads/](https://keelingcurve.ucsd.edu/pdf-downloads/).\n",
        "\n",
        "The notebooks listed below are stored in the [Keeling Curve GitHub repository](https://github.com/sio-co2o2/keelingcurve_notebooks). The notebooks can be accessed either there or from the notebook links on this page. \n",
        "\n",
        "From the GitHub repository page, the file links can be clicked on and this will open up a preview of the notebook. Look for the Google Colab badge link at the top of each notebook. When this badge is clicked on, the notebook will open in [Google Colab](https://colab.research.google.com/) where it can be run to generate graphics seen on the home page of the Keeling Curve website. All the code in the notebook can be modified without affecting the original version. And any changes can be saved to the user's Google Drive or GitHub repository. The saved notebook can be opened again in Google Colab by clicking on the Google Colab badge link at the top of the notebook. \n",
        "\n",
        "Each notebook contains a series of functions written in python which are used to fetch the data, process it for plotting, and then run a plot command to be visualize the plots and enable them to be downloaded locally.  Data is \"fetched\", or downloaded for each notebook to generate the different plots. Mauna Loa Obeservatory, MLO, data is fetched from the Keeling Curve GitHub repository data folder and icecore data is fetched from the NCEI website. Some notebooks contain code to generate basic animations of the plots showing CO<sub>2</sub> concentration as a function of time. \n",
        "\n",
        "### MLO data from the most recent month is preliminary\n",
        "\n",
        "Mauna Loa carbon dioxide data from the most recent month is preliminary and subject to subsequence updates to account for retrospective calibration and quality control. See [scrippsco2.ucsd.edu](scrippsco2.ucsd.edu) for data that has passed these routine quality checks and updates. The datasets are archived once a month on the [scrippsco2.ucsd.edu](scrippsco2.ucsd.edu) website and the Scripps CO2 Program [library archive](https://library.ucsd.edu/dc/collection/bb3381541w) database at UCSD.\n",
        "\n",
        "### A sample of the plots that can be generated"
      ]
    },
    {
      "cell_type": "markdown",
      "metadata": {},
      "source": [
        "![title](../images/overview/mlo_full_record.png)"
      ]
    },
    {
      "cell_type": "markdown",
      "metadata": {},
      "source": [
        "![title](../images/overview/co2_800k.png)"
      ]
    },
    {
      "cell_type": "markdown",
      "metadata": {},
      "source": [
        "<h2 style=\"font-size: 2em; background:#87bcf5; padding:0.2em\">License</h2>"
      ]
    },
    {
      "cell_type": "markdown",
      "metadata": {},
      "source": [
        "<h2 style=\"font-size: 2em; background:#87bcf5; padding:0.2em\">Data sharing policy</h2>\n"
      ]
    },
    {
      "cell_type": "markdown",
      "metadata": {},
      "source": [
        "The notebooks, data, and graphics in this GitHub repository are made freely available, with the understanding that appropriate credit will be given. For applications supporting peer-reviewed scientific publications, coauthorship may sometimes be appropriate. An example would be if an important result or conclusion depends on this product, such as the first account of a previously unreported phenomenon. Ethical usage requires disclosing intentions at early stages of the work in order to avoid duplicating ongoing studies at Scripps. For applications where coauthorship is not needed, which includes all applications outside of the peer-reviewed scientific literature, it is sufficient to acknowledge the Scripps CO2 program as the source. Please direct queries to Ralph Keeling (rkeeling@ucsd.edu)"
      ]
    },
    {
      "cell_type": "markdown",
      "metadata": {
        "id": "MMtQNgVdN97O"
      },
      "source": [
        "<a id=\"toc\"></a>\n",
        "<h2 style=\"font-size: 2em; background:#87bcf5; padding:0.2em\">Table of Contents</h2>\n",
        "\n",
        "1. [Notebooks for the Keeling Curve](#notebooks-for-the-keeling-curve)\n",
        "2. [Using Google Colab](#using-google-colab)\n",
        "3. [Data Sources and Citations](#data-sources-and-citations)\n",
        "4. [Notebooks GitHub Repository](#notebooks-gitHub-repository)\n",
        "5. [Overview of python](#overview-of-python)\n",
        "6. [Requests package to fetch data files](#requests-package-to-fetch-data-files)\n",
        "7. [NumPy package to work with numbers](#numpy-package-to-work-with-numbers)\n",
        "8. [Pandas package to read in and manipulate data](#pandas-package-to-read-in-and-manipulate-data)\n",
        "9. [Matplotlib package for plotting](#matplotlib-package-for-plotting)\n",
        "10. [Overview of functions defined in the notebooks](#overview-of-functions-defined-in-the-notebooks)\n"
      ]
    },
    {
      "cell_type": "markdown",
      "metadata": {},
      "source": [
        "<a id=\"notebooks-for-the-keeling-curve\">"
      ]
    },
    {
      "cell_type": "markdown",
      "metadata": {
        "id": "pv5NvUBVN97P"
      },
      "source": [
        "<h2 style=\"font-size: 2em; background:#87bcf5; padding:0.em\">1. Notebooks for the Keeling Curve</h2>\n",
        "\n",
        "### Plot the MLO CO<sub>2</sub> record at various time intervals\n",
        "\n",
        "- [Plot the full MLO Record](https://colab.research.google.com/github/sio-co2o2/keelingcurve_notebooks/blob/main/notebooks)\n",
        "\n",
        "- [Plot the MLO Record one week previous](https://colab.research.google.com/github/sio-co2o2/keelingcurve_notebooks/blob/main/notebooks/plot_mlo_one_week_keelingcurve.ipynb)\n",
        "\n",
        "- [Plot the MLO Record one month previous](https://colab.research.google.com/github/sio-co2o2/keelingcurve_notebooks/blob/main/notebooks/plot_mlo_one_month_keelingcurve.ipynb)\n",
        "\n",
        "- [Plot the MLO Record six months previous](https://colab.research.google.com/github/sio-co2o2/keelingcurve_notebooks/blob/main/notebooks/plot_mlo_six_months_keelingcurve.ipynb)\n",
        "\n",
        "- [Plot the MLO Record one year previous](https://colab.research.google.com/github/sio-co2o2/keelingcurve_notebooks/blob/main/notebooks/plot_mlo_one_year_keelingcurve.ipynb)\n",
        "\n",
        "- [Plot the MLO Record two years previous](https://colab.research.google.com/github/sio-co2o2/keelingcurve_notebooks/blob/main/notebooks/plot_mlo_two_years_keelingcurve.ipynb)\n",
        "\n",
        "### Plot the combined icecore and MLO CO<sub>2</sub> record at various time intervals\n",
        "\n",
        "- [Plot icecore and MLO records from 1700 to the present](https://colab.research.google.com/github/sio-co2o2/keelingcurve_notebooks/blob/main/notebooks/plot_icecore_start_1700_ce_keelingcurve.ipynb)\n",
        "\n",
        "- [Plot icecore and MLO records back 2000 years from the present](https://colab.research.google.com/github/sio-co2o2/keelingcurve_notebooks/blob/main/notebooks/plot_icecore_back_2K_ce_keelingcurve.ipynb)\n",
        "\n",
        "- [Plot icecore and MLO records back 10K years from the present](https://colab.research.google.com/github/sio-co2o2/keelingcurve_notebooks/blob/main/notebooks/plot_icecore_back_10K_keelingcurve.ipynb)\n",
        "\n",
        "- [Plot icecore and MLO records back 800K years from the present](https://colab.research.google.com/github/sio-co2o2/keelingcurve_notebooks/blob/main/notebooks/plot_icecore_back_800K_keelingcurve.ipynb)\n",
        "\n",
        "\n",
        "[TOC](#toc)"
      ]
    },
    {
      "cell_type": "markdown",
      "metadata": {
        "id": "0jrkoMbSN97P"
      },
      "source": [
        "<a id=\"using-google-colab\"></a>\n",
        "<h2 style=\"font-size: 2em; background:#87bcf5; padding:0.15em\">2. Using Google Colab</h2>"
      ]
    },
    {
      "cell_type": "markdown",
      "metadata": {
        "id": "SriVtHmLN97P"
      },
      "source": [
        "- [Overview of Google Colab](#Overview-of-Google-Colab)\n",
        "- [Running a notebook](#Running-a-notebook)\n",
        "- [Saving a notebook](#Saving-a-notebook-and-opening-it-later)"
      ]
    },
    {
      "cell_type": "markdown",
      "metadata": {
        "id": "RjnhxaA4N97P"
      },
      "source": [
        "### Overview of Google Colab\n",
        "\n",
        "To use notebooks served by Google Colab, you need to have a google account and be logged into it. Without an account logged in, you can only view the notebook. \n",
        "\n",
        "Google Colab is a service provided by Google to enable users to run code on their site from Jupyter notebooks. Jupyter notebooks are a file format that enables text and python code to run in the same browser window. It is a virtual environment with many python code packages already installed so that the user doesn't have to set up their own python environment on their computer.  \n",
        "\n",
        "All the code can be modified without affecting the original. If you modify this notebook and want a fresh copy, go to this link [Google Colab link to original notebook](https://colab.research.google.com/github/sio-co2o2/keelingcurve_notebooks/blob/main/notebooks/overview_of_notebooks_keelingcurve.ipynb).\n",
        "\n",
        "You may see the following warning. It's Google's way of asking for permission to use the notebook, but not so friendly. The notebook is run completely on Google Colab and the notebook is stored in a GitHub Repository. Google Colab either calls notebooks from a GitHub repository or a Google Drive. The only user interaction is a button to download the plots via the browser. This notebook does not read any user information and does not require access to your Google Drive. If you want to save the notebook, you will need to save it to your Google Drive or a GitHub repository. This notebook does not save itself and can only be saved using the Google Colab File menu. "
      ]
    },
    {
      "cell_type": "markdown",
      "metadata": {},
      "source": [
        "![title](../images/overview/google_warning.png)"
      ]
    },
    {
      "cell_type": "markdown",
      "metadata": {
        "id": "Surhd1IsI1kB"
      },
      "source": [
        "### python environment\n",
        "\n",
        "A python environment is a way to separate different package versions and an environment to store specific packages you may not need in each project. To use the packages, an import statement is required. This tells Google Colab you want to use these specific packages in this notebook environment. \n",
        "\n",
        "You can download this notebook for the Keeling Curve GitHub repository and run it on your own computer. It will require setting up a python environment on your computer. Information on how to do this can be found here [find good page to link to]()"
      ]
    },
    {
      "cell_type": "markdown",
      "metadata": {
        "id": "o6zBmGBrN97Q"
      },
      "source": [
        "#### Running a notebook\n",
        "\n",
        "At the top of the screen, under the notebook name, click on the menu item \"Runtime\" and then in the dropdown menu, click on \"Run all\". This will run all the code for the notebook which access the data,process it, configures the plot properties, creates the plot and creates buttons to push for downloading the image. \n",
        "\n",
        "#### Parts of a notebook\n",
        "Text and code seen in the notebook exist in box areas called cells. There are text cells and code cells. The top of the notebook has buttons for adding a markdown (text cell) or code cell.\n"
      ]
    },
    {
      "cell_type": "markdown",
      "metadata": {},
      "source": [
        "![title](../images/overview/code_text.png)"
      ]
    },
    {
      "cell_type": "markdown",
      "metadata": {
        "id": "5x4ycZWoN97Q"
      },
      "source": [
        "#### To delete a cell\n",
        "\n",
        "In the right portion of the cell, a menu pops up and to delete the cell, click on a trash can."
      ]
    },
    {
      "cell_type": "markdown",
      "metadata": {},
      "source": [
        "![title](../images/overview/cell_menu.png)"
      ]
    },
    {
      "cell_type": "markdown",
      "metadata": {
        "id": "6WoK77YdN97R"
      },
      "source": [
        "To access a cell to make changes, hover over text with your mouse and then double click it, and for code cells, just click inside. If you change text or code in a cell, you can either use the menu option 'Run all' again, or while the cell is selected with your mouse arrow in the cell box, use the key combination shift+enter to run it. This runs that single cell and not the entire notebook.\n",
        "\n",
        "When shift+enter is pushed on a cell with a function call in it, the cell will run the function call. Running a cell loads information into the Colab memory and tells Colab to display text or what code and the order to run it. \n",
        "\n",
        "Text is written using [Markdown](https://www.markdownguide.org/basic-syntax/) which is a set of text symbols used to create headers, bold text, and other format features. There is no color option or font size options with Markdown. "
      ]
    },
    {
      "cell_type": "markdown",
      "metadata": {},
      "source": [
        "![title](../images/overview/run_all_menu.png)"
      ]
    },
    {
      "cell_type": "markdown",
      "metadata": {
        "id": "vJNXGpglN97T"
      },
      "source": [
        "### Saving a notebook and opening it later\n",
        "\n",
        "To save any changes made to the notebook, click on \"Save a copy in Drive\" in the File dropdown menu to save the notebook file to your Google drive. You can also save it to your GitHub repository. If you save to your Google Drive, the notebook will be stored on your drive in the folder called \"Google Colab\". To open it again in Google Colab, double click on the file link in the Google Colab folder. \n"
      ]
    },
    {
      "cell_type": "markdown",
      "metadata": {},
      "source": [
        "![title](../images/overview/file_menu.png)"
      ]
    },
    {
      "cell_type": "markdown",
      "metadata": {
        "id": "uStHf-dwN97U"
      },
      "source": [
        "[TOC](#toc)"
      ]
    },
    {
      "cell_type": "markdown",
      "metadata": {
        "id": "aG1RLK7lN97U"
      },
      "source": [
        "<a id=\"data-sources-and-citations\"></a>\n",
        "<h2 style=\"font-size: 2em; background:#87bcf5; padding:0.15em\">3. Data Sources and Citations</h2>"
      ]
    },
    {
      "cell_type": "markdown",
      "metadata": {
        "id": "GJUxB0EIN97V"
      },
      "source": [
        "### Mauna Loa CO<sub>2</sub> Data\n",
        "Mauna Loa carbon dioxide data from the most recent month is preliminary and subject to subsequence updates to account for retrospective calibration and quality control. See scrippsco2.ucsd.edu for data that has passed these routine quality checks and updates. The datasets are archived once a month on the [scrippsco2.ucsd.edu](https://scrippsco2.ucsd.edu) website and the [Scripps CO<sub>2</sub> Program library archive](https://library.ucsd.edu/dc/collection/bb3381541w) at UCSD.\n",
        "\n",
        "**CO<sub>2</sub> data from 1958 onward are from the Scripps CO<sub>2</sub> program**\n",
        "\n",
        "Site: [http://scrippsco2.ucsd.edu/data/atmospheric_co2/primary_mlo_co2_record](http://scrippsco2.ucsd.edu/data/atmospheric_co2/primary_mlo_co2_record)\n",
        "\n",
        "DOI: [http://doi.org/10.6075/J08W3BHW](http://doi.org/10.6075/J08W3BHW)\n",
        "\n",
        "Citation: C. D. Keeling, S. C. Piper, R. B. Bacastow, M. Wahlen, T. P. Whorf, M. Heimann, and H. A. Meijer, Exchanges of atmospheric CO2 and 13CO2 with the terrestrial biosphere and oceans from 1978 to 2000. I. Global aspects, SIO Reference Series, No. 01-06, Scripps Institution of Oceanography, San Diego, 88 pages, 2001. [http://escholarship.org/uc/item/09v319r9](http://escholarship.org/uc/item/09v319r9)\n",
        "\n",
        "\n",
        "\n",
        "### Icecore Data\n",
        "\n",
        "**CO<sub>2</sub> data before 1958 going back 2000 years**\n",
        "\n",
        "Site: [https://www.ncei.noaa.gov/access/paleo-search/study/9959](https://www.ncei.noaa.gov/access/paleo-search/study/9959)\n",
        "\n",
        "DOI: [https://doi.org/10.1029/2006GL026152](https://doi.org/10.1029/2006GL026152)\n",
        "\n",
        "Dataset: [https://www.ncei.noaa.gov/pub/data/paleo/icecore/antarctica/law/law2006.txt](https://www.ncei.noaa.gov/pub/data/paleo/icecore/antarctica/law/law2006.txt)\n",
        "\n",
        "Citation: MacFarling Meure, C., D. Etheridge, C. Trudinger, P. Steele, R. Langenfelds, T. van Ommen, A. Smith, and J. Elkins. 2006. The Law Dome CO2, CH4 and N2O Ice Core Records Extended to 2000 years BP. Geophysical Research Letters, Vol. 33, No. 14, L14810 10.1029/2006GL026152.\n",
        "\n",
        "**CO<sub>2</sub> data before 1958 going back 800,000 years**\n",
        "\n",
        "Site: [https://www.ncei.noaa.gov/access/paleo-search/study/6091](https://www.ncei.noaa.gov/access/paleo-search/study/6091)\n",
        "\n",
        "DOI: [https://doi.org/10.1038/nature06949](https://doi.org/10.1038/nature06949)\n",
        "\n",
        "Dataset: [https://www.ncei.noaa.gov/pub/data/paleo/icecore/antarctica/epica_domec/edc-co2-2008.txt](https://www.ncei.noaa.gov/pub/data/paleo/icecore/antarctica/epica_domec/edc-co2-2008.txt)\n",
        "\n",
        "Citation: Lüthi, D., M. Le Floch, B. Bereiter, T. Blunier, J.-M. Barnola, U. Siegenthaler, D. Raynaud, J. Jouzel, H. Fischer, K. Kawamura, and T.F. Stocker. 2008. High-resolution carbon dioxide concentration record 650,000-800,000 years before present. Nature, Vol. 453, pp. 379-382, 15 May 2008.\n",
        "\n",
        "\n",
        "[TOC](#toc)"
      ]
    },
    {
      "cell_type": "markdown",
      "metadata": {
        "id": "LvxanCzmN97V"
      },
      "source": [
        "<a id=\"notebooks-github-repository\"></a>\n",
        "<h2 style=\"font-size: 2em; background:#87bcf5; padding:0.15em\">4. Notebooks GitHub Repository</h2>"
      ]
    },
    {
      "cell_type": "markdown",
      "metadata": {
        "id": "fpcFCLS6N97V"
      },
      "source": [
        "The Keeling Curve Google Colab Notebooks can be found at the GitHub repository [keelingcurve_notebooks](https://github.com/sio-co2o2/keelingcurve_notebooks)\n",
        "\n",
        "This repository contains Jupyter notebooks that open in Google Colab, a UCSD/SIO logo used in the MLO plots, and MLO data used to create the plots. The data is updated when there is a tweet from the [Keeling Curve twitter](https://twitter.com/Keeling_curve) account which occurs nearly daily. Icecore data is fetched from [https://www.ncei.noaa.gov](https://www.ncei.noaa.gov). The last month of MLO data is preliminary and is subject to corrections due to factors discussed in the [data sources](#Data-Sources) section.\n",
        "\n",
        "[TOC](#toc)"
      ]
    },
    {
      "cell_type": "markdown",
      "metadata": {
        "id": "1-YVYcyzN97V"
      },
      "source": [
        "<a id=\"overview-of-python\"></a>\n",
        "<h2 style=\"font-size: 2em; background:#87bcf5; padding:0.15em\">5. Overview of python</h2>"
      ]
    },
    {
      "cell_type": "markdown",
      "metadata": {
        "id": "X1zi6fuyN97W"
      },
      "source": [
        "- [Python code basics](#Python-code-basics)\n",
        "- [Python functions](#Python-functions)\n",
        "- [Importing code packages](#Importing-code-packages)\n",
        "- [requests package to fetch data files](#requests-package-to-fetch-data-files)\n",
        "- [NumPy package to work with numbers](#NumPy-package-to-work-with-numbers)\n",
        "- [pandas package to read in and manipulate data](#pandas-package-to-read-in-and-manipulate-data)\n",
        "- [matplotlib package for plotting](#matplotlib-package-for-plotting)\n"
      ]
    },
    {
      "cell_type": "markdown",
      "metadata": {
        "id": "lSWfYLjDN97W"
      },
      "source": [
        "### Python code basics\n",
        "\n",
        "Python code basics include numbers, strings (characters enclosed in quotes), collections of numbers and strings (lists and dicts), looping and true/false conditions, and functions. \n",
        "\n",
        "With Google Colab notebooks, python works right away and doesn't have to be installed. The Google Colab environment includes python and multiple packages.\n",
        "\n",
        "An overview of python is at [https://www.knowledgehut.com/tutorials/python-tutorial](https://www.knowledgehut.com/tutorials/python-tutorial) and [https://www.codecademy.com/learn/learn-python-3](https://www.codecademy.com/learn/learn-python-3) along with many YouTube videos and online courses.  "
      ]
    },
    {
      "cell_type": "markdown",
      "metadata": {
        "id": "II5T-F99N97W"
      },
      "source": [
        "#### lists\n",
        "\n",
        "In python, keeping track of a series of numbers can either be done with a \"list\" or a \"NumPy array\". The NumPy array is better for math, and the list is good for basic use. The NumPy package is discussed below. A python list is a way of representing a collection of comma separated values inside a pair of square brackets '[]'. For example, [1, 2, 3, 4, 5] and ['one', 'two', 'three']. And a list can contain both numbers and strings at the same time. The first element is at index 0 since python starts at 0 instead of 1. To get the first element in a list, type the following:\n",
        "\n",
        "    a_list = [1, 2, 3, 4, 5]\n",
        "    variable = a_list[0]\n",
        "    \n",
        "where variable = 1.\n",
        "\n",
        "To get a part of a list, use a colon ':' to separate contiguous indices. A bit tricky is that python does not include the last index when selecting it with a ':'. So the following code for a slice of a list results in one number in a list and not two. \n",
        "\n",
        "    a_value = a_list[2:3]\n",
        "    \n",
        "The variable a_value = [3]. The number 3 is at index = 2. Python list selections are thus [start_index: end_index] where the value at end_index is not included in the result. Notice that a list is returned when a colon ':' is used, and that a single value of 3 is returned if you type a_list[2]. \n",
        "\n",
        "    b_value = a_list[2]\n",
        "    \n",
        "Lists are great for collecting similar items together.\n"
      ]
    },
    {
      "cell_type": "markdown",
      "metadata": {
        "id": "DIDnlSCoN97W"
      },
      "source": [
        "#### dicts\n",
        "\n",
        "It's helpful to use names associated with numbers and strings. There are variables of course, but there are also dicts, short for dictionaries. A dict is represented with a pair of curly braces '{}' and is a collection of names (called keys) and their associated values. These values can be numbers, strings, lists, more dicts, etc. An example of a dict is:\n",
        "\n",
        "    a_dict = {'x': 5}\n",
        "    b_dict = {'x': 5, 'y': 7}\n",
        "    \n",
        "where the names called keys and their values are separated by a colon ':'. Dicts are a helpful way of collecting a lot of variable names and values into one identifier. To get the value of a key, type the following:\n",
        "\n",
        "    variable = a_dict['x'] \n",
        "    \n",
        "where variable is the value 5. So a variable dict is enclosed in curly brackets composed of keys and values, where the key is associated with its value using a colon ':' and the key/value pairs are separated by commas ','. \n",
        "\n",
        "    variable = {key1: value1, key2: value2, key3: value3}\n",
        "\n"
      ]
    },
    {
      "cell_type": "markdown",
      "metadata": {
        "id": "-DoS83_hN97Y"
      },
      "source": [
        "#### tuples\n",
        "\n",
        "Tuples are another way of representing a collection. Tuples are different than lists and use double parenthesis '()'. Tuples are ordered, unchangeable, and allow duplicate values. You can read more about tuples here [https://www.geeksforgeeks.org/python-tuples/](https://www.geeksforgeeks.org/python-tuples/)."
      ]
    },
    {
      "cell_type": "markdown",
      "metadata": {
        "id": "J3qSsUFBN97Y"
      },
      "source": [
        "#### true/false conditions\n",
        "\n",
        "In programming, there are many times where a decision has to be made, and to represent these, a True result means the decision was 'yes' and a False result means the decision was 'no'. To represent this decision, the words 'if', 'else', and 'elif' are used. And to separate the decisions to be made, a colon ':' is added after the decision statement. For python to know what code is associated with an if statement, it is indented. Usually 4 spaces. For example:\n",
        "\n",
        "    if True:\n",
        "        print('The decision is yes')\n",
        "    else:\n",
        "        print('The decision is no')\n",
        "        \n",
        "And if there are more decisions, add in an elif statement.\n",
        "\n",
        "    variable = 10\n",
        "\n",
        "    if variable == 5:\n",
        "        print('The decision is yes, the variable is equal to 5')\n",
        "    elif variable == 10:\n",
        "        print('The decision is yes, the variable is equal to 10')   \n",
        "    else:\n",
        "        print('The decision wasn't made, so do this instead')\n",
        "\n",
        "The double equal sign '==' stands for checking if the value on the left is the same as the value on the right. \n",
        "\n",
        "And in python, code is indented by 4 spaces after a statement that ends in a colon ':'. The 'print' statement means display the result.\n",
        "\n"
      ]
    },
    {
      "cell_type": "markdown",
      "metadata": {
        "id": "GcD-fe5TN97Y"
      },
      "source": [
        "#### loops\n",
        "\n",
        "Python represents looping with a 'for' statement. \n",
        "\n",
        "To do something for each element of a list, use the following code:\n",
        "\n",
        "    a_list = ['a', 'b', 'c']\n",
        "    \n",
        "    for elem in a_list:\n",
        "        print(elem)\n",
        "\n",
        "This will look at each element in the list, set the value to a variable named 'elem' and then do something with that variable. In this case, display it. \n",
        "\n",
        "The for statement also works with dicts, but in a different way to get to the keys and values inside.\n",
        "\n",
        "    a_dict = {'key1': value1, 'key2': value2}\n",
        "    \n",
        "    for a_key, a_val in a_dict.items():\n",
        "        print(a_key)\n",
        "        print(a_val)\n",
        "        \n",
        "This will look at each key/value item pair, and then extract out the keys to a variable a_key and the values to a variable a_val. And for each loop, both the key and the value are printed to the display.  \n",
        "\n",
        "\n",
        "\n",
        "There is also another way to do looping called list comprehension. \n",
        "\n",
        "The following for loop\n",
        "\n",
        "    y = []\n",
        "    for x in [1,2,3]:\n",
        "       x=x*2\n",
        "       y.append(x)\n",
        "       \n",
        "is the same as\n",
        "\n",
        "    y = [x*2 for x in [1,2,3]]\n",
        "\n",
        "For both, y = [2, 4, 6]\n",
        "\n"
      ]
    },
    {
      "cell_type": "markdown",
      "metadata": {
        "id": "NEs4fKv3N97Z"
      },
      "source": [
        "#### python functions\n",
        "\n",
        "In python, you can type commands without a function, but if you want to contain them and be able to use the same code in many places, functions are necessary. Functions are created using the 'def' keyword followed by the function name and a pair of parentheses '()', and finally a colon ':'. All code of the function is indented so that python knows which code is part of the function. \n",
        "\n",
        "    def function_name():\n",
        "        print(\"I'm inside a function\")\n",
        "        \n",
        "and then to call the function elsewhere, type the function name followed by a pair of parentheses '()'.\n",
        "\n",
        "    function_name()\n",
        "\n",
        "If there are values to pass to the function, place them inside the parentheses. And to return a calculated value from the function, use the keyword 'return'. If nothing is being returned, then you can skip writing a return statement. You can think of 'def' as standing for 'definition' since a function is being defined.\n",
        "\n",
        "    def function_name(x):\n",
        "        y = x + 2\n",
        "        return y\n",
        "       \n",
        "and to call it,\n",
        "\n",
        "    answer = function_name(5)\n",
        "    \n",
        "with the value of answer is 7.\n",
        "\n",
        "In python, a function has to be written before you call it. And if you have two functions in the program, the order of the functions is important. Imagine reading the program from the top to the bottom, you can't use a function that hasn't been written yet. So if you have one function that calls another, the called function must appear first.\n",
        "\n",
        "    def function_being_called():\n",
        "        print('I'm being called')\n",
        "        \n",
        "    def function_calling_another():\n",
        "        function_being_called()\n",
        "        \n",
        "and the result is \"I'm being called\" printed to the console.\n"
      ]
    },
    {
      "cell_type": "markdown",
      "metadata": {
        "id": "csCtt9lsN97Z"
      },
      "source": [
        "### Importing code packages\n",
        "\n",
        "The import statement at the top of every notebook is to make external python packages of code created by someone else available to use in the notebook. Google Colab makes this easy to do with import statement. If you were to download the Jupyter notebook and use it on your own computer, it is necessary to create a \"python environment\" which is like a container that holds downloaded code packages. Even though the packages have been downloaded, it is required to use the import statement in a notebook to let python know you will be using them. Google Colab notebooks create the python environment automatically and so packages don't need to be downloaded and installed first, but just imported. \n",
        "\n",
        "\n",
        "[TOC](#toc)"
      ]
    },
    {
      "cell_type": "markdown",
      "metadata": {
        "id": "WlZDiBxXN97Z"
      },
      "source": [
        "<a id=\"requests-package-to-fetch-data-files\"></a>\n",
        "<h2 style=\"font-size: 2em; background:#87bcf5; padding:0.15em\">6. Requests package to fetch data files</h2>\n",
        "\n",
        "The [requests package](https://docs.python-requests.org/en/latest/) enables data to be downloaded from a website link, and saved into a variable instead of a file. Well formatted data can also be read into a variable using the pandas package which is described below. The notebook uses the requests package instead of pandas because the icecore data files are text based with many comments and unneeded data mixed in. The notebook uses the pandas package for the MLO data because it is well formed with clear comment lines and column names. To use reqeusts to fetch data, use the following code:\n",
        "\n",
        "    variable = requests.get('file location')\n",
        "    \n",
        "But the code doesn't know if the data is to be formatted as text or json, so you have to tell it with the following code:\n",
        "\n",
        "    variable_text = variable.text\n",
        "    \n",
        "[TOC](#toc)"
      ]
    },
    {
      "cell_type": "markdown",
      "metadata": {
        "id": "dyHlp6IuN97Z"
      },
      "source": [
        "<a id=\"numpy-package-to-work-with-numbers\"></a>\n",
        "<h2 style=\"font-size: 2em; background:#87bcf5; padding:0.15em\">7. NumPy package to work with numbers</h2>\n",
        "\n",
        "With the NumPy package, you can work with arrays. Lists are one dimensional (only rows or only columns). And arrays can hold multiple dimensions (rows and columns at the same time along with other dimensions like time, etc.). NumPy arrays can also just be one dimensional. NumPy is used because it is much faster than working with lists. \n",
        "\n",
        "As a shortcut, NumPy is imported such that an abbreviation of 'np' can be used.\n",
        "\n",
        "    import numpy as np\n",
        "    \n",
        "    \n",
        "A python list can be turned into a numpy array by the following\n",
        "\n",
        "    a_list = [1, 2, 3, 4]\n",
        "    \n",
        "    a_numpy_array = np.array(a_list)\n",
        "    \n",
        "    \n",
        "For a two dimensional array, type the following (notice the square brackets '[]' enclosing everything):\n",
        "\n",
        "    arr = np.array([[1, 2, 3, 4], [5, 6, 7, 8]])\n",
        "    \n",
        "With a numpy array, there are functions that are included with it. You call a function by placting a dot (.) after np and followed by the function name. For example: \n",
        "    \n",
        "    variable = np.shape(arr)\n",
        "\n",
        "This gives the shape of the array which is (2,4) which means there are two rows and 4 columns. The first dimension = 2 and the second dimension = 4.\n",
        "\n",
        "\n",
        "[TOC](#toc)"
      ]
    },
    {
      "cell_type": "markdown",
      "metadata": {
        "id": "Icn2op7FN97Z"
      },
      "source": [
        "<a id=\"pandas-package-to-read-in-and-manipulate-data\"></a>\n",
        "<h2 style=\"font-size: 2em; background:#87bcf5; padding:0.15em\">8. Pandas package to read in and manipulate data</h2>\n",
        "\n",
        "The [pandas package](https://pandas.pydata.org/) can be thought of as a python representaion of an Excel worksheet. Data is stored in rows and column cells with column headers. Data stored in a variable represented by a combination of columns and rows is referred to as a dataframe. This makes it easy to work with one column at a time or multiple. And it's intuitive to work with data having a label rather than just the numbers themselves. \n",
        "\n",
        "In the notebooks, the pandas package is called by abbreviating it as pd using the statement: \n",
        "\n",
        "    import pandas as pd\n",
        "\n",
        "Functions associated with the pandas package are called using the format pd followed by a dot (.) and the function name. An example function call is \"pd.read_csv(filename)\" where filename is the name of a file you want to read in data from. This file can either be found locally or remotely. The function read_csv 'reads' or extracts data from the file and stores it in a varaible. To avoid having functions with the same name conflicting with each other, the 'pd' part is used in front of the function name. You'll also notice the variable itself can call pandas functions by using a dot (.) and a function name after it. And example is \n",
        "\n",
        "    df = pd.read_csv('filename.txt')\n",
        "    df.head()\n",
        "    \n",
        "The first code line reads in the data from the file filename.txt into the variable df (called a dataframe if the data is more than one dimension meaning rows and columns), and the next code line tells the notebookk to display to the screen the first 5 lines of the dataframe. A file with the extension '.csv' means the file is a text file containing values separated by commas. Each value separated by a comma in a row is placed in a \"column\", meaning you can think of it like a spreadsheet column. If there are header lines, the columns are named using them. To get all the data in this column as a variable, use the following code:\n",
        "\n",
        "    variable = df['column name']\n",
        "    \n",
        "To get a subset of a dataframe such as two columns, use the following code (notice the double square brackets):\n",
        "\n",
        "    variable = df[['column name 1', 'column name 2']]\n",
        "\n",
        "A single set of square brackets for one column, represents a \"Series\" or a one dimensional representation of the data. For two columns, a double set of square brackets is used which represents a \"DataFrame\" or a two dimensional representation of the data.\n",
        "\n",
        "The row numbers of a dataframe are referred to as the index. As an aside, the index number is not the same as the line number. An index is a way to label each row so it is unique. It is possible for there to be 4 rows and instead of referring to the rows as 0, 1, 2, 3, the index is 0, 1, 3, 4. Note that in python, an index starts at 0 and not at 1. To get back to rows that start at 0 again and increase by 1, use the reindex function. \n",
        "\n",
        "To convert a pandas dataframe into a numpy array, run\n",
        "    \n",
        "    x = df['column_name'].to_numpy()\n",
        "\n",
        "This is a nice introduction to pandas [https://www.learndatasci.com/tutorials/python-pandas-tutorial-complete-introduction-for-beginners/](https://www.learndatasci.com/tutorials/python-pandas-tutorial-complete-introduction-for-beginners/).\n",
        "\n",
        "\n",
        "[TOC](#toc)"
      ]
    },
    {
      "cell_type": "markdown",
      "metadata": {
        "id": "hfsG2-OsN97a"
      },
      "source": [
        "<a id=\"matplotlib-package-for-plotting\"></a>\n",
        "<h2 style=\"font-size: 2em; background:#87bcf5; padding:0.15em\">9. Matplotlib package for plotting</h2>\n",
        "\n",
        "Matplotlib is plotting package that enables plots to display when run in a Jupyter code cell. \n",
        "\n",
        "#### Setup\n",
        "\n",
        "For matplotlib commands, the package is imported with the abbreviation 'plt' and then all functions follow with a dot '.' and the function name. The import command is\n",
        "\n",
        "    import matplotlib.pyplot as plt\n",
        "\n",
        "To display plots inside the notebook, the next line is needed and place it at the top of the notebook\n",
        "\n",
        "    %matplotlib\n",
        "    \n",
        "This command will make your plot outputs appear and be stored within the notebook.\n",
        "\n",
        "\n",
        "#### Plotting\n",
        "There are two attributes associated with a plot, the Figure and the axes. \n",
        "\n",
        "The Figure refers to the plot that is created. To create a plot, one way to plot and keep track of the plot (figure) to save later is to set a variable fig equal to the output of calling plt.Figure(), e.g. fig = plt.Figure(). The variable fig is referred to as a 'handle'. A handle is a way to keep track of the plot so that you can save it later.\n",
        "\n",
        "    fig = plt.Figure()\n",
        "    \n",
        "    x = [1,5]\n",
        "    y = [3,4]\n",
        "    \n",
        "    plt.plot(x,y)\n",
        "    \n",
        "    fig.savefig(filename)\n",
        "    \n",
        "The axes refers to the graphic settings of the plot. When a plot is created, use a variable to keep track of the axes, called a handle, so that configurations of the plot can be set to customize the graphic. As an example of getting an axes handle are the statements following where 'ax' is the axes handle and fig is the figure (plot) handle. To apply a function to the axes, such as creating a label for the axis or setting the limits of the plot, type the name of the axes handle, ax, followed by dot '.' and then the function name. Below is a function call to set the plot limits of the x axis from 0 to 5.\n",
        "\n",
        "    fig, ax = plt.subplots()\n",
        "    \n",
        "    x = [1,5]\n",
        "    y = [3,4] \n",
        "    \n",
        "    ax.set_xlim(0, 5)\n",
        "\n",
        "Notice that 'subplots' is used. In the previous discussion about figures, plt.Figure() creates a plot with no handle to configure the plot properties. To get an axes handle, you can either define it right away with fig, ax = plt.subplots() or use fig = plt.Figure() followed by ax = fig.add_subplot(111) where the 111 refers the figure size and position.\n",
        "\n",
        "The x and y axes have many configurations that can be set using functions on the axes handle. Some options include setting the limits of the plot, including labels for the x and y axis, and adding a title to the plot.\n",
        "\n",
        "Along with properties, the plot function is called using the axes handle. \n",
        "\n",
        "    ax.plot(x, y)\n",
        "    \n",
        "You can plot directly without using an axes handle, plt.plot(x, y), but then you won't be able to customize the plot. \n",
        "\n",
        "Another feature of matplotlib is to set font and linewidth information for all plots created so that the options are set once and not each time a plot is created. The property to do this is rcParams. To set the font family, type the following:\n",
        "\n",
        "    plt.rcParams.update({\n",
        "        \"font.family\": \"sans-serif\"\n",
        "        })\n",
        "\n",
        "A great instroduction to plotting with Matplotlib is [https://matplotlib.org/stable/tutorials/introductory/usage.html#sphx-glr-tutorials-introductory-usage-py](https://matplotlib.org/stable/tutorials/introductory/usage.html#sphx-glr-tutorials-introductory-usage-py).\n",
        "\n",
        "\n",
        "[TOC](#toc)"
      ]
    },
    {
      "cell_type": "markdown",
      "metadata": {
        "id": "zWZPkKhZN97a",
        "tags": []
      },
      "source": [
        "<a id=\"overview-of-functions-defined-in-the-notebooks\"></a>\n",
        "<h2 style=\"font-size: 2em; background:#87bcf5; padding:0.15em\">10. Overview of functions defined in the notebooks</h2>"
      ]
    },
    {
      "cell_type": "markdown",
      "metadata": {
        "id": "HInSp3njN97a"
      },
      "source": [
        "### Functions to fetch data"
      ]
    },
    {
      "cell_type": "markdown",
      "metadata": {
        "id": "rL6ac5VAN97a"
      },
      "source": [
        "Two methods are used to fetch data.\n",
        "\n",
        "1. One is using Pandas and it's function read_csv which can read in a csv file or text file locally and remotely from a computer. Here a web address, url, will be used since the notebook is both on Google Colab and the data is located in a remote GitHub repository.\n",
        "\n",
        "    df = pd.read_csv(url)\n",
        "\n",
        "2. Two is using the requests package. It's a python package to call a url and retrieve multiple file formats. Since multiple types can be retrieved, the response needs to know what kind, so the response is followed by a dot '.' and 'text' here because the file to be fetched is a text file. \n",
        "\n",
        "    response = requests.get(icecore_2K_url)\n",
        "    file_text = response.text\n",
        "\n",
        "\n"
      ]
    },
    {
      "cell_type": "markdown",
      "metadata": {
        "id": "BCbnipoON97a"
      },
      "source": [
        "### Examples of functions used in the plotting notebooks"
      ]
    },
    {
      "cell_type": "markdown",
      "metadata": {
        "id": "pjcYYHo4N97a"
      },
      "source": [
        "This line gets the decimal date of the seasonal adjusted data out of the pandas data frame and converts it to a numeric numpy array. The plots can actually use pandas dataframes, but numpy arrays were used for consistency since on some occasions, the data are used in the numpy numeric format outside of plotting.\n",
        "\n",
        "    mlo_date = df_mlo['date_seas_adj'].to_numpy()\n",
        "\n",
        "This line takes the file that was read into a string and splits it on the return character and this results in a list of strings representing the lines of the file. This is to get the data into a list form that can be read into a pandas dataframe. A pandas dataframe is a very convenient form to hold and transform the data such as removing any lines with NaN CO2 values.\n",
        "\n",
        "    text_lines = file_text.split('\\n')\n",
        "\n",
        "This line is using a list comprehension (a type of for loop) to iterate over each line of a text file to find the header at the start of icecore data to be extracted. \n",
        "\n",
        "    start_section = [i for i in range(len(text_lines)) if text_lines[i].startswith('2. CO2 by Core')][0]\n",
        "\n",
        "This line gets a range of data from a text file starting at the row of the start of data to be retrieved and the end of the data section. \n",
        "\n",
        "    data_lines = section_lines[start_data: end_section]\n",
        "\n",
        "This line creates a regular expression to retrieve numeric values (\\d represents a numeric digit).\n",
        "\n",
        "    r = re.compile('(.+\\d+.*\\d+.*\\d)\\s.*')\n",
        "\n",
        "These lines convert a list of strings into a pandas dataframe and then names the column 'data'.\n",
        "\n",
        "    df_icecore_2K = pd.DataFrame(data_list)\n",
        "    df_icecore_2K.columns = ['data']\n",
        "\n",
        "This line removes any lines with a NaN value of CO2.\n",
        "\n",
        "    df_icecore_800K = df_icecore_800K.dropna()\n",
        "\n",
        "This line filters the data to find icecore data going back 800K years up to 2K years back.\n",
        "\n",
        "    df_icecore_800K = df_icecore_800K[df_icecore_800K['date_ce'] < min_2K]\n",
        "\n",
        "This line combines two dataframes horizontally so there are 4 columns.\n",
        "\n",
        "    df_combined = pd.concat([df_combined_icecore, df_mlo], ignore_index=True)\n",
        "\n",
        "This function converts a datetime (a string representation of a date) into a decimal.\n",
        "\n",
        "    dt2t(adatetime)\n"
      ]
    },
    {
      "cell_type": "markdown",
      "metadata": {
        "id": "9y1gm-QhN97b",
        "tags": []
      },
      "source": [
        "### Functions to configure plot properties"
      ]
    },
    {
      "cell_type": "markdown",
      "metadata": {
        "id": "C2Wrdb0gN97b"
      },
      "source": [
        "The gradient_fill function is used to apply a color gradient underneath a line.\n",
        "\n",
        "The function below sets font and line width settings of the plots.\n",
        "\n",
        "    set_matplotlib_properties\n",
        "\n",
        "The function below sets properties of the plot like ticks, tick labels, and axes labels.\n",
        "\n",
        "    set_website_plot_props\n",
        "\n",
        "The function below customizes how tick labels are displayed such as shifting their position to be centered between ticks when labeling the x-axes dates as days where the left and right ticks represent the start and end of a day and not noon.\n",
        "\n",
        "    create_xtick_labels\n",
        "\n",
        "The function below applies a title at a custom distance from the top axis and sets its font properties.\n",
        "    \n",
        "    add_plot_title\n",
        "\n",
        "The function below adds arrows at specific years by finding the CO2 value at specific years and pointing to those CO2 values. \n",
        "\n",
        "    apply_arrow_annotations\n",
        "\n",
        "The function below adds a high resolution png UCSD/SIO logo to the plot.\n",
        "\n",
        "    add_sio_logo\n",
        "\n"
      ]
    },
    {
      "cell_type": "markdown",
      "metadata": {
        "id": "QqaNYL1XN97b"
      },
      "source": [
        "### Functions to save the plot"
      ]
    },
    {
      "cell_type": "markdown",
      "metadata": {
        "id": "jOMePmWqN97b"
      },
      "source": [
        "The function below saves the plots created by matplotlib into PDF and png formats. It saves them at a specified size and resolution.\n",
        "\n",
        "    save_plot_for_website\n",
        "\n",
        "The function below makes use of Google Colab's ability to download plot files saved in the Google Colab virtual environment. It uses ipywidgets to create a clickable button. \n",
        "    \n",
        "    download_files\n",
        "\n"
      ]
    },
    {
      "cell_type": "markdown",
      "metadata": {
        "id": "f-q5Tdb6N97b"
      },
      "source": [
        "[TOC](#toc)"
      ]
    }
  ],
  "metadata": {
    "colab": {
      "include_colab_link": true,
      "name": "overview_of_notebooks_keelingcurve.ipynb",
      "provenance": []
    },
    "kernelspec": {
      "display_name": "Python 3.8.5 64-bit ('notebooks')",
      "language": "python",
      "name": "python3"
    },
    "language_info": {
      "codemirror_mode": {
        "name": "ipython",
        "version": 3
      },
      "file_extension": ".py",
      "mimetype": "text/x-python",
      "name": "python",
      "nbconvert_exporter": "python",
      "pygments_lexer": "ipython3",
      "version": "3.8.5"
    },
    "vscode": {
      "interpreter": {
        "hash": "756fd7f3f44ab1b408c61a336bc63dd8b2b1c2a4bc9346285fbb85e9c22b620b"
      }
    }
  },
  "nbformat": 4,
  "nbformat_minor": 0
}
