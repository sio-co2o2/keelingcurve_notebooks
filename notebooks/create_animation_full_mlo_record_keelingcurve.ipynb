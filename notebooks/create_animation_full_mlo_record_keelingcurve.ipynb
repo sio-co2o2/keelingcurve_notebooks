{
  "cells": [
    {
      "cell_type": "markdown",
      "metadata": {
        "colab_type": "text",
        "id": "view-in-github"
      },
      "source": [
        "<a href=\"https://colab.research.google.com/github/sio-co2o2/keelingcurve_notebooks/blob/main/notebooks/create_animation_full_mlo_record_keelingcurve.ipynb\" target=\"_parent\"><img src=\"https://colab.research.google.com/assets/colab-badge.svg\" alt=\"Open In Colab\"/></a>"
      ]
    },
    {
      "cell_type": "markdown",
      "id": "rLKWenEgSMZP",
      "metadata": {
        "id": "rLKWenEgSMZP"
      },
      "source": [
        "# Create an animation of a graphic appearing on the Keeling Curve website\n",
        "### **Animation: CO<sub>2</sub> full record at Mauna Loa, Hawaii**"
      ]
    },
    {
      "cell_type": "markdown",
      "id": "t5_JohjmSMZS",
      "metadata": {
        "id": "t5_JohjmSMZS"
      },
      "source": [
        "#### This notebook creates a customizable mp4 animation of a graphic appearing on the front page of [keelingcurve.ucsd.edu](keelingcurve.ucsd.edu).\n",
        "\n",
        "See an overview of the Keeling Curve notebooks and how to use them at [notebooks overview](https://colab.research.google.com/github/sio-co2o2/keelingcurve_notebooks/blob/main/notebooks/overview_of_notebooks_keelingcurve.ipynb)"
      ]
    },
    {
      "cell_type": "markdown",
      "id": "b5f4d88c",
      "metadata": {},
      "source": [
        "----\n",
        "\n",
        "### [Go to creating the animation section](#button-to-create-animation)\n",
        "\n",
        "-----"
      ]
    },
    {
      "cell_type": "markdown",
      "id": "126b7fff",
      "metadata": {},
      "source": [
        "### Sample of the animation produced by this notebook"
      ]
    },
    {
      "cell_type": "code",
      "execution_count": 116,
      "id": "430ef470",
      "metadata": {},
      "outputs": [
        {
          "data": {
            "application/vnd.jupyter.widget-view+json": {
              "model_id": "61e781050d1e4f2f91a38d8e4047b2f9",
              "version_major": 2,
              "version_minor": 0
            },
            "text/plain": [
              "Button(button_style='primary', description='Show sample animation', layout=Layout(height='auto', width='auto')…"
            ]
          },
          "metadata": {},
          "output_type": "display_data"
        },
        {
          "data": {
            "application/vnd.jupyter.widget-view+json": {
              "model_id": "da4a42775b20455bad18d1e17c4b91d3",
              "version_major": 2,
              "version_minor": 0
            },
            "text/plain": [
              "Output()"
            ]
          },
          "metadata": {},
          "output_type": "display_data"
        }
      ],
      "source": [
        "from base64 import b64encode\n",
        "from IPython.display import HTML, display\n",
        "import requests\n",
        "import pathlib\n",
        "from ipywidgets import widgets\n",
        "import functools\n",
        "\n",
        "def show_sample_animation(anim_out, btn):\n",
        "\n",
        "    anim_out.clear_output()\n",
        "\n",
        "    video_url = 'https://github.com/sio-co2o2/keelingcurve_notebooks/blob/main/images/sample_animations/mlo_full_record.mp4?raw=1'\n",
        "\n",
        "    r = requests.get(video_url, stream = True)\n",
        "\n",
        "    download_dir = pathlib.Path('./downloads')\n",
        "    download_dir.mkdir(exist_ok=True)\n",
        "\n",
        "    video_name = f'./downloads/mlo_full_record.mp4'\n",
        "\n",
        "    with open(video_name,\"wb\") as f:\n",
        "        for chunk in r.iter_content(chunk_size=1024):\n",
        "            # writing one chunk at a time \n",
        "            if chunk:\n",
        "                f.write(chunk)\n",
        "            \n",
        "    the_animation = open(video_name,'rb').read()\n",
        "\n",
        "    data_url = \"data:video/mp4;base64,\" + b64encode(the_animation).decode()\n",
        "\n",
        "    html_str = \"\"\"\n",
        "    <video width=800 controls>\n",
        "            <source src=\"%s\" type=\"video/mp4\">\n",
        "    </video>\n",
        "    \"\"\" % data_url\n",
        "\n",
        "    with anim_out:\n",
        "        display(HTML(html_str))\n",
        "\n",
        "\n",
        "anim_out = widgets.Output()\n",
        "\n",
        "layout = widgets.Layout(width='auto', height='auto') #set width and height\n",
        "\n",
        "button = widgets.Button(\n",
        "    description='Show sample animation',\n",
        "    disabled=False,\n",
        "    display='flex',\n",
        "    flex_flow='column',\n",
        "    align_items='stretch', \n",
        "    button_style='primary',\n",
        "    layout = layout\n",
        ")  \n",
        "\n",
        "button.on_click(functools.partial(show_sample_animation, anim_out))\n",
        "display(button)\n",
        "\n",
        "display(anim_out)"
      ]
    },
    {
      "cell_type": "markdown",
      "id": "de9e9c86",
      "metadata": {},
      "source": [
        "## **Notebook Code**"
      ]
    },
    {
      "cell_type": "markdown",
      "id": "7bkCEl30SMZT",
      "metadata": {
        "id": "7bkCEl30SMZT"
      },
      "source": [
        "### Import python packages"
      ]
    },
    {
      "cell_type": "code",
      "execution_count": 90,
      "id": "2NYgN26LSMZT",
      "metadata": {
        "id": "2NYgN26LSMZT"
      },
      "outputs": [],
      "source": [
        "import functools\n",
        "from time import perf_counter\n",
        "import pandas as pd\n",
        "import numpy as np\n",
        "from datetime import datetime, date, timedelta\n",
        "import pathlib\n",
        "import matplotlib.image as mpimg\n",
        "import matplotlib.pyplot as plt\n",
        "from matplotlib.ticker import (AutoMinorLocator)\n",
        "from matplotlib import ticker\n",
        "from matplotlib import animation\n",
        "from ipywidgets import widgets\n",
        "from IPython.display import HTML, display\n",
        "from base64 import b64encode\n",
        "import os\n",
        "\n",
        "%matplotlib inline"
      ]
    },
    {
      "cell_type": "code",
      "execution_count": 91,
      "id": "0ce56bcb",
      "metadata": {},
      "outputs": [],
      "source": [
        "# This package is used to convert a vector svg into a png\n",
        "\n",
        "try:\n",
        "  from cairosvg import svg2png\n",
        "except:\n",
        "  ! pip install cairosvg"
      ]
    },
    {
      "cell_type": "code",
      "execution_count": 92,
      "id": "a8932fb4-1adc-4cec-bf34-6516fb8a05cb",
      "metadata": {
        "id": "a8932fb4-1adc-4cec-bf34-6516fb8a05cb"
      },
      "outputs": [],
      "source": [
        "# This import is to enable Google Colab to save files ane then download them\n",
        "\n",
        "# This import does not exist unless the notebook is run in Google Colab\n",
        "# Put in a try except block if user wants to use notebook off of Google Colab\n",
        "\n",
        "try:\n",
        "    from google.colab import files\n",
        "except:\n",
        "    pass\n"
      ]
    },
    {
      "cell_type": "markdown",
      "id": "9z8QlQMLSMZU",
      "metadata": {
        "id": "9z8QlQMLSMZU"
      },
      "source": [
        "### Set directories and file names"
      ]
    },
    {
      "cell_type": "code",
      "execution_count": 93,
      "id": "ORlNwHV5SMZU",
      "metadata": {
        "id": "ORlNwHV5SMZU"
      },
      "outputs": [],
      "source": [
        "# Read in data from github repository\n",
        "# Get mlo record to last daily value\n",
        "data_file = \"https://raw.githubusercontent.com/sio-co2o2/keelingcurve_notebooks/main/preliminary_data/mlo/mlo_full_record_now_span.csv\"\n",
        "\n",
        "logo_file = \"https://github.com/sio-co2o2/keelingcurve_notebooks/raw/main/images/logos/ucsd_sio_logo.svg\"\n",
        "\n",
        "plot_basename = \"mlo_full_record\"\n",
        "\n",
        "animation_dir = pathlib.Path(\"./animations\")\n",
        "animation_dir.mkdir(exist_ok=True)\n",
        "\n",
        "animation_file = f'{plot_basename}.mp4'\n"
      ]
    },
    {
      "cell_type": "markdown",
      "id": "Iat83SHiSMZV",
      "metadata": {
        "id": "Iat83SHiSMZV"
      },
      "source": [
        "## **Load in data and prepare it for plotting**"
      ]
    },
    {
      "cell_type": "markdown",
      "id": "826d2334",
      "metadata": {},
      "source": [
        "### Load in MLO record"
      ]
    },
    {
      "cell_type": "code",
      "execution_count": 94,
      "id": "DAaZzKvSSMZV",
      "metadata": {
        "colab": {
          "base_uri": "https://localhost:8080/",
          "height": 206
        },
        "id": "DAaZzKvSSMZV",
        "outputId": "53c5182e-783b-46d7-83c5-8a14ad11710d"
      },
      "outputs": [
        {
          "data": {
            "text/html": [
              "<div>\n",
              "<style scoped>\n",
              "    .dataframe tbody tr th:only-of-type {\n",
              "        vertical-align: middle;\n",
              "    }\n",
              "\n",
              "    .dataframe tbody tr th {\n",
              "        vertical-align: top;\n",
              "    }\n",
              "\n",
              "    .dataframe thead th {\n",
              "        text-align: right;\n",
              "    }\n",
              "</style>\n",
              "<table border=\"1\" class=\"dataframe\">\n",
              "  <thead>\n",
              "    <tr style=\"text-align: right;\">\n",
              "      <th></th>\n",
              "      <th>date</th>\n",
              "      <th>co2</th>\n",
              "      <th>date_seas_adj</th>\n",
              "      <th>co2_seas_adj</th>\n",
              "      <th>date_fit</th>\n",
              "      <th>co2_fit</th>\n",
              "      <th>date_seas_adj_fit</th>\n",
              "      <th>co2_seas_adj_fit</th>\n",
              "      <th>date_filled</th>\n",
              "      <th>co2_filled</th>\n",
              "      <th>date_seas_adj_filled</th>\n",
              "      <th>co2_seas_adj_filled</th>\n",
              "    </tr>\n",
              "  </thead>\n",
              "  <tbody>\n",
              "    <tr>\n",
              "      <th>0</th>\n",
              "      <td>1958.202740</td>\n",
              "      <td>315.71</td>\n",
              "      <td>1958.202740</td>\n",
              "      <td>314.43</td>\n",
              "      <td>1958.202740</td>\n",
              "      <td>316.20</td>\n",
              "      <td>1958.202740</td>\n",
              "      <td>314.91</td>\n",
              "      <td>1958.202740</td>\n",
              "      <td>315.71</td>\n",
              "      <td>1958.202740</td>\n",
              "      <td>314.43</td>\n",
              "    </tr>\n",
              "    <tr>\n",
              "      <th>1</th>\n",
              "      <td>1958.287671</td>\n",
              "      <td>317.45</td>\n",
              "      <td>1958.287671</td>\n",
              "      <td>315.16</td>\n",
              "      <td>1958.287671</td>\n",
              "      <td>317.30</td>\n",
              "      <td>1958.287671</td>\n",
              "      <td>314.99</td>\n",
              "      <td>1958.287671</td>\n",
              "      <td>317.45</td>\n",
              "      <td>1958.287671</td>\n",
              "      <td>315.16</td>\n",
              "    </tr>\n",
              "    <tr>\n",
              "      <th>2</th>\n",
              "      <td>1958.369863</td>\n",
              "      <td>317.51</td>\n",
              "      <td>1958.369863</td>\n",
              "      <td>314.70</td>\n",
              "      <td>1958.369863</td>\n",
              "      <td>317.88</td>\n",
              "      <td>1958.369863</td>\n",
              "      <td>315.06</td>\n",
              "      <td>1958.369863</td>\n",
              "      <td>317.51</td>\n",
              "      <td>1958.369863</td>\n",
              "      <td>314.70</td>\n",
              "    </tr>\n",
              "    <tr>\n",
              "      <th>3</th>\n",
              "      <td>1958.536986</td>\n",
              "      <td>315.87</td>\n",
              "      <td>1958.536986</td>\n",
              "      <td>315.20</td>\n",
              "      <td>1958.454795</td>\n",
              "      <td>317.26</td>\n",
              "      <td>1958.454795</td>\n",
              "      <td>315.14</td>\n",
              "      <td>1958.454795</td>\n",
              "      <td>317.26</td>\n",
              "      <td>1958.454795</td>\n",
              "      <td>315.14</td>\n",
              "    </tr>\n",
              "    <tr>\n",
              "      <th>4</th>\n",
              "      <td>1958.621918</td>\n",
              "      <td>314.93</td>\n",
              "      <td>1958.621918</td>\n",
              "      <td>316.21</td>\n",
              "      <td>1958.536986</td>\n",
              "      <td>315.85</td>\n",
              "      <td>1958.536986</td>\n",
              "      <td>315.22</td>\n",
              "      <td>1958.536986</td>\n",
              "      <td>315.87</td>\n",
              "      <td>1958.536986</td>\n",
              "      <td>315.20</td>\n",
              "    </tr>\n",
              "  </tbody>\n",
              "</table>\n",
              "</div>"
            ],
            "text/plain": [
              "          date     co2  date_seas_adj  co2_seas_adj     date_fit  co2_fit  \\\n",
              "0  1958.202740  315.71    1958.202740        314.43  1958.202740   316.20   \n",
              "1  1958.287671  317.45    1958.287671        315.16  1958.287671   317.30   \n",
              "2  1958.369863  317.51    1958.369863        314.70  1958.369863   317.88   \n",
              "3  1958.536986  315.87    1958.536986        315.20  1958.454795   317.26   \n",
              "4  1958.621918  314.93    1958.621918        316.21  1958.536986   315.85   \n",
              "\n",
              "   date_seas_adj_fit  co2_seas_adj_fit  date_filled  co2_filled  \\\n",
              "0        1958.202740            314.91  1958.202740      315.71   \n",
              "1        1958.287671            314.99  1958.287671      317.45   \n",
              "2        1958.369863            315.06  1958.369863      317.51   \n",
              "3        1958.454795            315.14  1958.454795      317.26   \n",
              "4        1958.536986            315.22  1958.536986      315.87   \n",
              "\n",
              "   date_seas_adj_filled  co2_seas_adj_filled  \n",
              "0           1958.202740               314.43  \n",
              "1           1958.287671               315.16  \n",
              "2           1958.369863               314.70  \n",
              "3           1958.454795               315.14  \n",
              "4           1958.536986               315.20  "
            ]
          },
          "execution_count": 94,
          "metadata": {},
          "output_type": "execute_result"
        }
      ],
      "source": [
        "df = pd.read_csv(data_file, skipinitialspace=True, comment='\"')\n",
        "df.head()\n"
      ]
    },
    {
      "cell_type": "markdown",
      "id": "t6IlRW3USMZW",
      "metadata": {
        "id": "t6IlRW3USMZW"
      },
      "source": [
        "### Break into 2 dataframes. One for CO2 and one for the CO2 fit"
      ]
    },
    {
      "cell_type": "code",
      "execution_count": 95,
      "id": "Cfn9bpElSMZX",
      "metadata": {
        "id": "Cfn9bpElSMZX"
      },
      "outputs": [],
      "source": [
        "df_co2 = df[[\"date\", \"co2\"]].copy()\n",
        "df_co2_fit = df[[\"date_fit\", \"co2_fit\"]].copy()\n"
      ]
    },
    {
      "cell_type": "markdown",
      "id": "mGqqgrJdSMZX",
      "metadata": {
        "id": "mGqqgrJdSMZX"
      },
      "source": [
        "### Remove rows with fill values -99.99 or NaN"
      ]
    },
    {
      "cell_type": "code",
      "execution_count": 96,
      "id": "edHgh73TSMZX",
      "metadata": {
        "colab": {
          "base_uri": "https://localhost:8080/",
          "height": 206
        },
        "id": "edHgh73TSMZX",
        "outputId": "916ec9f8-7c44-43ba-998f-1e786474161a"
      },
      "outputs": [
        {
          "data": {
            "text/html": [
              "<div>\n",
              "<style scoped>\n",
              "    .dataframe tbody tr th:only-of-type {\n",
              "        vertical-align: middle;\n",
              "    }\n",
              "\n",
              "    .dataframe tbody tr th {\n",
              "        vertical-align: top;\n",
              "    }\n",
              "\n",
              "    .dataframe thead th {\n",
              "        text-align: right;\n",
              "    }\n",
              "</style>\n",
              "<table border=\"1\" class=\"dataframe\">\n",
              "  <thead>\n",
              "    <tr style=\"text-align: right;\">\n",
              "      <th></th>\n",
              "      <th>date</th>\n",
              "      <th>co2</th>\n",
              "    </tr>\n",
              "  </thead>\n",
              "  <tbody>\n",
              "    <tr>\n",
              "      <th>801</th>\n",
              "      <td>2022.864384</td>\n",
              "      <td>416.97</td>\n",
              "    </tr>\n",
              "    <tr>\n",
              "      <th>802</th>\n",
              "      <td>2022.867123</td>\n",
              "      <td>416.83</td>\n",
              "    </tr>\n",
              "    <tr>\n",
              "      <th>803</th>\n",
              "      <td>2022.869863</td>\n",
              "      <td>417.52</td>\n",
              "    </tr>\n",
              "    <tr>\n",
              "      <th>804</th>\n",
              "      <td>2022.872603</td>\n",
              "      <td>416.73</td>\n",
              "    </tr>\n",
              "    <tr>\n",
              "      <th>805</th>\n",
              "      <td>2022.875342</td>\n",
              "      <td>416.78</td>\n",
              "    </tr>\n",
              "  </tbody>\n",
              "</table>\n",
              "</div>"
            ],
            "text/plain": [
              "            date     co2\n",
              "801  2022.864384  416.97\n",
              "802  2022.867123  416.83\n",
              "803  2022.869863  417.52\n",
              "804  2022.872603  416.73\n",
              "805  2022.875342  416.78"
            ]
          },
          "execution_count": 96,
          "metadata": {},
          "output_type": "execute_result"
        }
      ],
      "source": [
        "df_co2 = df_co2[df_co2[\"co2\"] != -99.99]\n",
        "df_co2_fit = df_co2_fit[df_co2_fit[\"co2_fit\"] != -99.99]\n",
        "\n",
        "df_co2 = df_co2.dropna()\n",
        "df_co2_fit = df_co2_fit.dropna()\n",
        "\n",
        "df_co2.tail()\n"
      ]
    },
    {
      "cell_type": "markdown",
      "id": "6g-n4IywSMZY",
      "metadata": {
        "id": "6g-n4IywSMZY"
      },
      "source": [
        "### Convert to numpy arrays for plotting"
      ]
    },
    {
      "cell_type": "code",
      "execution_count": 97,
      "id": "z-UBDKmmSMZY",
      "metadata": {
        "id": "z-UBDKmmSMZY"
      },
      "outputs": [],
      "source": [
        "date_co2 = df_co2[\"date\"].to_numpy()\n",
        "co2 = df_co2[\"co2\"].to_numpy()\n",
        "date_co2_fit = df_co2_fit[\"date_fit\"].to_numpy()\n",
        "co2_fit = df_co2_fit[\"co2_fit\"].to_numpy()\n"
      ]
    },
    {
      "cell_type": "markdown",
      "id": "65eb8c7c",
      "metadata": {},
      "source": [
        "## **Define accessory functions**"
      ]
    },
    {
      "cell_type": "markdown",
      "id": "ChyM4Z91SMZb",
      "metadata": {
        "id": "ChyM4Z91SMZb"
      },
      "source": [
        "## Functions to convert dates into various formats\n",
        "Used for plot limits and labeling"
      ]
    },
    {
      "cell_type": "code",
      "execution_count": 98,
      "id": "Txw3emi9SMZb",
      "metadata": {
        "id": "Txw3emi9SMZb"
      },
      "outputs": [],
      "source": [
        "# Function to convert datetime to a float\n",
        "def dt2t(adatetime):\n",
        "    \"\"\"\n",
        "    Convert adatetime into a float. The integer part of the float should\n",
        "    represent the year.\n",
        "    Order should be preserved. If adate<bdate, then d2t(adate)<d2t(bdate)\n",
        "    time distances should be preserved: If bdate-adate=ddate-cdate then\n",
        "    dt2t(bdate)-dt2t(adate) = dt2t(ddate)-dt2t(cdate)\n",
        "    \"\"\"\n",
        "    year = adatetime.year\n",
        "    boy = datetime(year, 1, 1)\n",
        "    eoy = datetime(year + 1, 1, 1)\n",
        "    return year + ((adatetime - boy).total_seconds() / ((eoy - boy).total_seconds()))\n"
      ]
    },
    {
      "cell_type": "code",
      "execution_count": 99,
      "id": "067Uk95USMZb",
      "metadata": {
        "id": "067Uk95USMZb"
      },
      "outputs": [],
      "source": [
        "def get_todays_date_variations():\n",
        "\n",
        "    now = datetime.now()\n",
        "    todays_decimal = dt2t(now)\n",
        "\n",
        "    today = date.today()\n",
        "\n",
        "    todays_day = today.day\n",
        "    todays_month = today.strftime(\"%B\")\n",
        "    todays_year = today.year\n",
        "    todays_date_moyr = today.strftime(\"%B %Y\")\n",
        "    todays_date_modyyr = f\"{todays_month} {todays_day}, {todays_year}\"\n",
        "\n",
        "    return todays_date_moyr, todays_date_modyyr, todays_decimal, todays_year\n"
      ]
    },
    {
      "cell_type": "code",
      "execution_count": 100,
      "id": "HBXOwLn5SMZb",
      "metadata": {
        "id": "HBXOwLn5SMZb"
      },
      "outputs": [],
      "source": [
        "#  https://stackoverflow.com/questions/19305991/convert-fractional-years-to-a-real-date-in-python\n",
        "def t2dt(atime):\n",
        "    \"\"\"\n",
        "    Convert atime (a float) to DT.datetime\n",
        "    This is the inverse of dt2t.\n",
        "    assert dt2t(t2dt(atime)) == atime\n",
        "    \"\"\"\n",
        "    year = int(atime)\n",
        "    remainder = atime - year\n",
        "    boy = datetime(year, 1, 1)\n",
        "    eoy = datetime(year + 1, 1, 1)\n",
        "    seconds = remainder * (eoy - boy).total_seconds()\n",
        "    return boy + timedelta(seconds=seconds)\n"
      ]
    },
    {
      "cell_type": "code",
      "execution_count": 101,
      "id": "ngsud2LmSMZb",
      "metadata": {
        "id": "ngsud2LmSMZb"
      },
      "outputs": [],
      "source": [
        "def get_data_end_date(date_data):\n",
        "    last_date = np.max(date_data)\n",
        "    last_date_datetime = t2dt(last_date)\n",
        "\n",
        "    # Convert date format to month_name day, year\n",
        "    day = last_date_datetime.day\n",
        "    month = last_date_datetime.strftime(\"%B\")\n",
        "    year = last_date_datetime.year\n",
        "    date_modyyr = f\"{month} {day}, {year}\"\n",
        "    return date_modyyr\n"
      ]
    },
    {
      "cell_type": "markdown",
      "id": "dc2a25fe",
      "metadata": {},
      "source": [
        "## **Define functions that can modify the animated graphic**"
      ]
    },
    {
      "cell_type": "markdown",
      "id": "a3c69ab0",
      "metadata": {},
      "source": [
        "### Function to set fonts and linewidth properties"
      ]
    },
    {
      "cell_type": "code",
      "execution_count": 102,
      "id": "m-FVZ0DrSMZZ",
      "metadata": {
        "id": "m-FVZ0DrSMZZ"
      },
      "outputs": [],
      "source": [
        "def set_matplotlib_properties():\n",
        "\n",
        "    # Set properties for matplotlib\n",
        "\n",
        "    # Reset rcparams in case modified defaults in another notebook during same session\n",
        "    plt.rcParams.update(plt.rcParamsDefault)\n",
        "\n",
        "    plt.rcParams.update({\"axes.linewidth\": 1.5})\n",
        "\n",
        "    plt.rcParams.update(\n",
        "        {\n",
        "            \"text.usetex\": False,\n",
        "            \"font.family\": \"sans-serif\",\n",
        "            \"font.weight\": \"normal\",\n",
        "            \"font.sans-serif\": [\n",
        "                \"Arial\",\n",
        "                \"Tahoma\",\n",
        "                \"Helvetica\",\n",
        "                \"FreeSans\",\n",
        "                \"NimbusSans\",\n",
        "                \"LiberationSans\",\n",
        "                \"DejaVu Sans\",\n",
        "            ],\n",
        "            \"mathtext.default\": \"regular\",\n",
        "            \"mathtext.fontset\": \"dejavusans\",\n",
        "        }\n",
        "    )\n",
        "\n",
        "    # http://phyletica.org/matplotlib-fonts/\n",
        "    # This tells matplotlib to use Type 42 (a.k.a. TrueType) fonts\n",
        "    # for PostScript and PDF files. This allows you to avoid Type 3 fonts.\n",
        "    # Turning on usetex also works\n",
        "    # Needed on Ubuntu for pdf fonts\n",
        "    plt.rcParams.update({\"pdf.fonttype\": 42, \"ps.fonttype\": 42})\n"
      ]
    },
    {
      "cell_type": "markdown",
      "id": "e36a7fb7",
      "metadata": {},
      "source": [
        "### Function to set axes properties of the graphic"
      ]
    },
    {
      "cell_type": "code",
      "execution_count": 103,
      "id": "Qc0jOumsSMZZ",
      "metadata": {
        "id": "Qc0jOumsSMZZ"
      },
      "outputs": [],
      "source": [
        "def set_plot_props(ax, fig, xmin, xmax, ymin, ymax, xlabel, ylabel):\n",
        "\n",
        "    # ---------------------------------\n",
        "    # Plot properties for website plots\n",
        "    # ---------------------------------\n",
        "\n",
        "    # Allow room at top for the 2 titles\n",
        "    fig.subplots_adjust(top=0.85)\n",
        "\n",
        "    ax.tick_params(which=\"both\", bottom=True, top=True, left=True, right=True)\n",
        "\n",
        "    ax.tick_params(axis=\"x\", labelsize=12)\n",
        "    ax.tick_params(axis=\"y\", labelsize=16)\n",
        "\n",
        "    ax.tick_params(axis=\"x\", which=\"major\", direction=\"in\", length=8, width=1)\n",
        "    ax.tick_params(axis=\"y\", which=\"major\", direction=\"in\", length=8, width=1)\n",
        "\n",
        "    tick_spacing = 5\n",
        "    ax.xaxis.set_major_locator(ticker.MultipleLocator(tick_spacing))\n",
        "\n",
        "    tick_spacing = 5\n",
        "    ax.yaxis.set_major_locator(ticker.MultipleLocator(tick_spacing))\n",
        "\n",
        "    labels = ax.get_xticklabels() + ax.get_yticklabels()\n",
        "    for label in labels:\n",
        "        label.set_fontweight(\"bold\")\n",
        "\n",
        "    # Display every other y major tick label\n",
        "    for label in ax.yaxis.get_ticklabels()[::2]:\n",
        "        label.set_visible(False)\n",
        "\n",
        "    tick_length = 5\n",
        "    ax.tick_params(axis=\"x\", which=\"minor\", direction=\"in\", length=tick_length)\n",
        "\n",
        "    tick_length = 4\n",
        "    ax.tick_params(axis=\"y\", which=\"minor\", direction=\"in\", length=tick_length)\n",
        "\n",
        "    ax.xaxis.set_minor_locator(AutoMinorLocator(5))\n",
        "    ax.yaxis.set_minor_locator(AutoMinorLocator(5))\n",
        "\n",
        "    ax.set_xlabel(xlabel, fontweight=\"bold\", fontsize=18, labelpad=5)\n",
        "    ax.set_ylabel(ylabel, fontweight=\"bold\", fontsize=18, labelpad=5)\n",
        "\n",
        "    ax.set_xlim(xmin, xmax)\n",
        "    ax.set_ylim(ymin, ymax)\n"
      ]
    },
    {
      "cell_type": "markdown",
      "id": "2bf3ad1f",
      "metadata": {},
      "source": [
        "### Function to place the titles"
      ]
    },
    {
      "cell_type": "code",
      "execution_count": 104,
      "id": "NFg3AViJSMZa",
      "metadata": {
        "id": "NFg3AViJSMZa"
      },
      "outputs": [],
      "source": [
        "def add_plot_title(ax, title1, title2):\n",
        "\n",
        "    ax.annotate(\n",
        "        title1,\n",
        "        xy=(0, 1.15),\n",
        "        xycoords=\"axes fraction\",\n",
        "        fontsize=14,\n",
        "        horizontalalignment=\"left\",\n",
        "        verticalalignment=\"top\",\n",
        "        fontweight=\"normal\",\n",
        "    )\n",
        "    ax.annotate(\n",
        "        title2,\n",
        "        xy=(0, 1.07),\n",
        "        xycoords=\"axes fraction\",\n",
        "        fontsize=18,\n",
        "        horizontalalignment=\"left\",\n",
        "        verticalalignment=\"top\",\n",
        "        fontweight=\"bold\",\n",
        "    )\n",
        "\n"
      ]
    },
    {
      "cell_type": "markdown",
      "id": "d26a8498",
      "metadata": {},
      "source": [
        "### Function to add an inset label"
      ]
    },
    {
      "cell_type": "code",
      "execution_count": 105,
      "id": "PvBSgkYRSMZa",
      "metadata": {
        "id": "PvBSgkYRSMZa"
      },
      "outputs": [],
      "source": [
        "def add_inset_label(ax, label_start, today):\n",
        "    label_text = f\"{label_start} ending {today}\"\n",
        "    ax.annotate(\n",
        "        label_text,\n",
        "        xy=(0.03, 0.9),\n",
        "        xycoords=\"axes fraction\",\n",
        "        fontsize=12,\n",
        "        horizontalalignment=\"left\",\n",
        "        verticalalignment=\"top\",\n",
        "        fontweight=\"normal\",\n",
        "    )\n"
      ]
    },
    {
      "cell_type": "markdown",
      "id": "3f531893",
      "metadata": {},
      "source": [
        "### Function to add the SIO logo"
      ]
    },
    {
      "cell_type": "code",
      "execution_count": 106,
      "id": "cPicC09xSMZa",
      "metadata": {
        "id": "cPicC09xSMZa"
      },
      "outputs": [],
      "source": [
        "def add_sio_logo(fig, logo_file, xpos, ypos):\n",
        "\n",
        "    # Convert the logo svg file to a png file with the\n",
        "    # given scale and dpi\n",
        "    logo_png = \"logo.png\"\n",
        "    svg2png(url=logo_file, write_to=logo_png, scale=10, dpi=300)\n",
        "\n",
        "    logo = mpimg.imread(logo_png)\n",
        "\n",
        "    fig.add_axes([xpos, ypos, 0.2, 0.2], anchor=\"SE\", zorder=1)\n",
        "\n",
        "    plt.imshow(logo)\n",
        "    plt.axis(\"off\")\n",
        "\n",
        "    # Delete the logo png version\n",
        "    os.remove(logo_png)\n"
      ]
    },
    {
      "cell_type": "markdown",
      "id": "840a917f",
      "metadata": {},
      "source": [
        "### Function to create a Context Manager\n",
        "\n",
        "This allows a message to display in a cell while a function is running.\n",
        "Usefull for indicating a function is running."
      ]
    },
    {
      "cell_type": "code",
      "execution_count": 107,
      "id": "cc72100b",
      "metadata": {},
      "outputs": [],
      "source": [
        "class ShowProgressContextManagerWidgets:\n",
        "\n",
        "    def __init__(self, out, command=''):\n",
        "        self.out = out\n",
        "        self.command = command\n",
        "        \n",
        "    def __enter__(self):\n",
        "        css_style = \"<style>span.start { margin:0; padding: 0; color: blue; }</style>\"\n",
        "        html_str = f'<span class=\"start\">Running {self.command}...</span>'\n",
        "\n",
        "        self.out.clear_output()\n",
        "        \n",
        "        with self.out:\n",
        "            display(HTML(css_style))\n",
        "            display(HTML(html_str))\n",
        "\n",
        "        self.time = perf_counter()\n",
        "\n",
        "        return self\n",
        "\n",
        "        \n",
        "    def __exit__(self, exc_type, exc_value, exc_tb):\n",
        "        \n",
        "        css_style = \"<style>span.end { margin: 0; padding: 0; color: green; }</style>\"\n",
        "        html_str = '<span class=\"end\">Finished</span>'\n",
        "\n",
        "        self.out.clear_output()\n",
        "\n",
        "        with self.out:\n",
        "            display(HTML(css_style)) \n",
        "            display(HTML(html_str))\n",
        "\n",
        "            self.time = perf_counter() - self.time\n",
        "            self.readout = f'Time to create animation: {self.time:.3f} seconds'\n",
        "            print(self.readout)\n",
        "\n"
      ]
    },
    {
      "cell_type": "markdown",
      "id": "3a25ac01",
      "metadata": {},
      "source": [
        "# **Steps to create the animation**\n",
        "\n",
        "### Comment out any function in the overall function ['create_animation'](#function-to-create-the-animation) to remove an element from the final animation\n",
        "\n",
        "Comment out a line by adding a # symbol in front of a statement\n"
      ]
    },
    {
      "cell_type": "markdown",
      "id": "e0436426",
      "metadata": {},
      "source": [
        "## **Set properties to use for matplotlib (the plotting engine)**"
      ]
    },
    {
      "cell_type": "code",
      "execution_count": 108,
      "id": "4373cb04",
      "metadata": {},
      "outputs": [],
      "source": [
        "set_matplotlib_properties()\n"
      ]
    },
    {
      "cell_type": "markdown",
      "id": "Ajbd2KDlSMZb",
      "metadata": {
        "id": "Ajbd2KDlSMZb"
      },
      "source": [
        "## **Set plot limits and labeling**"
      ]
    },
    {
      "cell_type": "markdown",
      "id": "ciY8cSMXSMZc",
      "metadata": {
        "id": "ciY8cSMXSMZc"
      },
      "source": [
        "### Set titles and axes labels"
      ]
    },
    {
      "cell_type": "code",
      "execution_count": 109,
      "id": "hlXhJH4CSMZc",
      "metadata": {
        "id": "hlXhJH4CSMZc"
      },
      "outputs": [],
      "source": [
        "xlabel = \"\"\n",
        "ylabel = \"$\\mathregular{CO}\\\\bf{_2}$\" + \" Concentration (ppm)\"\n",
        "\n",
        "title1 = \"\"\n",
        "title2 = \"Carbon dioxide concentration at Mauna Loa Observatory\"\n"
      ]
    },
    {
      "cell_type": "markdown",
      "id": "wj-dCD89SMZc",
      "metadata": {
        "id": "wj-dCD89SMZc"
      },
      "source": [
        "### Set yaxis min and max limits"
      ]
    },
    {
      "cell_type": "code",
      "execution_count": 110,
      "id": "nR4XHFlOSMZc",
      "metadata": {
        "id": "nR4XHFlOSMZc"
      },
      "outputs": [],
      "source": [
        "ymin = 310\n",
        "ymax = 430\n"
      ]
    },
    {
      "cell_type": "markdown",
      "id": "pvrPrEQOSMZc",
      "metadata": {
        "id": "pvrPrEQOSMZc"
      },
      "source": [
        "### Set xaxis min and max limits"
      ]
    },
    {
      "cell_type": "code",
      "execution_count": 111,
      "id": "ke6VdYhqSMZc",
      "metadata": {
        "id": "ke6VdYhqSMZc"
      },
      "outputs": [],
      "source": [
        "xmin = min(date_co2)\n",
        "\n",
        "# Get current date as decimal year\n",
        "now = datetime.now()\n",
        "xmax = dt2t(now)\n"
      ]
    },
    {
      "cell_type": "markdown",
      "id": "78b95a95",
      "metadata": {},
      "source": [
        "<a id=\"function-to-create-the-animation\"></a>\n",
        "## **Function to create and save the animation**"
      ]
    },
    {
      "cell_type": "code",
      "execution_count": 112,
      "id": "fc4388c6",
      "metadata": {},
      "outputs": [],
      "source": [
        "def create_animation(msg_out, anim_out, xmin, xmax, ymin, ymax, xlabel, ylabel, title1, title2, date_co2_fit, co2_fit, fps, dpi, btn):\n",
        "\n",
        "    # create a figure container\n",
        "    # and set aspect ration of the animation (width, height)\n",
        "    fig = plt.figure(figsize=(10,6))\n",
        "\n",
        "    ax =fig.gca()\n",
        "\n",
        "    fig_width, fig_height = fig.get_size_inches()\n",
        "\n",
        "    # set width in inches\n",
        "    width_in = 10\n",
        "    height_in = (fig_height / fig_width) * width_in\n",
        "\n",
        "    fig.set_size_inches(width_in, height_in)\n",
        "\n",
        "    fig.subplots_adjust(left=0.11, bottom=0.1, right=0.96, top=0.56, wspace=None, hspace=None)\n",
        "\n",
        "    # ---------------------------------------------------\n",
        "    # Context manager \n",
        "    # \n",
        "    # Used to show messages while creating the animiation\n",
        "    # ---------------------------------------------------\n",
        "\n",
        "    with ShowProgressContextManagerWidgets(msg_out, 'Create Animation') as progress:\n",
        "\n",
        "        # -------------------------------------------\n",
        "        # Create the plot but don't display it\n",
        "        #\n",
        "        # The variable 'line_of_plot' is used \n",
        "        # to display pieces of the plot at each frame\n",
        "        # -------------------------------------------\n",
        "\n",
        "        line_of_plot, = ax.plot(date_co2_fit, co2_fit, color='#6686d9', lw=2)\n",
        "\n",
        "        # ------------------------------------------------\n",
        "        # Get todays date in various formats for labeling\n",
        "        # ------------------------------------------------\n",
        "        (\n",
        "            todays_date_moyr,\n",
        "            todays_date_modyyr,\n",
        "            todays_decimal,\n",
        "            todays_year,\n",
        "        ) = get_todays_date_variations()\n",
        "\n",
        "        # ---------------\n",
        "        # Add plot titles\n",
        "        # ---------------\n",
        "        add_plot_title(ax, title1, title2)\n",
        "\n",
        "        # --------------\n",
        "        # Add inset text\n",
        "        # --------------\n",
        "        add_inset_label(ax, \"Full record\", todays_date_modyyr)\n",
        "\n",
        "        # --------------------\n",
        "        # Add SIO logo to plot\n",
        "        # --------------------\n",
        "\n",
        "        # set position of the logo\n",
        "        xpos = 0.715\n",
        "        ypos = 0.155\n",
        "\n",
        "        add_sio_logo(fig, logo_file, xpos, ypos)\n",
        "\n",
        "        # ----------------------------------------\n",
        "        # Set plot properties\n",
        "\n",
        "        # Set after the other figure properties to\n",
        "        # update the default properties\n",
        "        # -----------------------------------------\n",
        "        set_plot_props(ax, fig, xmin, xmax, ymin, ymax, xlabel, ylabel)\n",
        "\n",
        "\n",
        "        # ====================\n",
        "        # Create the animation\n",
        "        # ====================\n",
        "\n",
        "        # -----------------------------\n",
        "        # function to update each frame\n",
        "        # -----------------------------\n",
        "        def update(frame_number):\n",
        "\n",
        "            line_of_plot.set_data(date_co2_fit[:frame_number], co2_fit[:frame_number])\n",
        "\n",
        "            return line_of_plot\n",
        "\n",
        "        number_of_frames = len(date_co2_fit)\n",
        "\n",
        "        anim = animation.FuncAnimation(fig, func=update, frames = number_of_frames, interval=1, blit=False, save_count=number_of_frames+100)\n",
        "\n",
        "        # When testing, use a samaller set of frames\n",
        "        # anim = animation.FuncAnimation(fig, func=update, frames = 25, interval=5, blit=False)\n",
        "\n",
        "        # Save the animation\n",
        "        anim.save(f'{animation_dir}/{animation_file}', fps=fps, dpi=dpi)\n",
        "\n",
        "        # display the animation in the output cell\n",
        "        the_animation = open(f'{animation_dir}/{animation_file}','rb').read()\n",
        "\n",
        "        with anim_out:\n",
        "\n",
        "            data_url = \"data:video/mp4;base64,\" + b64encode(the_animation).decode()\n",
        "            \n",
        "            html_str = \"\"\"\n",
        "            <video width=800 controls>\n",
        "                    <source src=\"%s\" type=\"video/mp4\">\n",
        "            </video>\n",
        "            \"\"\" % data_url\n",
        "            \n",
        "            display(HTML(html_str))\n",
        "\n",
        "        "
      ]
    },
    {
      "cell_type": "markdown",
      "id": "7a7c58b3",
      "metadata": {},
      "source": [
        "<a id='button-to-create-animation'></a>\n",
        "\n",
        "## **Button to create and save the animation**\n",
        "\n",
        "**The animation takes about 6 minutes to create at fps=60 and dpi=150**"
      ]
    },
    {
      "cell_type": "code",
      "execution_count": 113,
      "id": "e30f3581",
      "metadata": {},
      "outputs": [
        {
          "data": {
            "application/vnd.jupyter.widget-view+json": {
              "model_id": "2dba6b1c8a0f43aca9d3fc3a12f61806",
              "version_major": 2,
              "version_minor": 0
            },
            "text/plain": [
              "Button(button_style='primary', description='Create animation', style=ButtonStyle())"
            ]
          },
          "metadata": {},
          "output_type": "display_data"
        },
        {
          "data": {
            "application/vnd.jupyter.widget-view+json": {
              "model_id": "262e2b50f6434864b5f296caf3958478",
              "version_major": 2,
              "version_minor": 0
            },
            "text/plain": [
              "Output()"
            ]
          },
          "metadata": {},
          "output_type": "display_data"
        },
        {
          "data": {
            "application/vnd.jupyter.widget-view+json": {
              "model_id": "ca1947e723d84e9199798ba8994d3853",
              "version_major": 2,
              "version_minor": 0
            },
            "text/plain": [
              "Output()"
            ]
          },
          "metadata": {},
          "output_type": "display_data"
        }
      ],
      "source": [
        "msg_out = widgets.Output()\n",
        "anim_out = widgets.Output()\n",
        "\n",
        "# frames per secod\n",
        "fps = 60\n",
        "\n",
        "# dpi of animation\n",
        "dpi = 150\n",
        "\n",
        "button = widgets.Button(description='Create animation', button_style='primary')\n",
        "button.on_click(functools.partial(create_animation, msg_out, anim_out, xmin, xmax, ymin, ymax, xlabel, ylabel, title1, title2, date_co2_fit, co2_fit, fps, dpi))\n",
        "display(button)\n",
        "\n",
        "msg_out.clear_output()\n",
        "anim_out.clear_output()\n",
        "\n",
        "display(msg_out)\n",
        "display(anim_out)\n"
      ]
    },
    {
      "cell_type": "markdown",
      "id": "a9ac1b59",
      "metadata": {},
      "source": [
        "## **Button to download the animation file**"
      ]
    },
    {
      "cell_type": "code",
      "execution_count": 114,
      "id": "844cbdbf",
      "metadata": {},
      "outputs": [
        {
          "data": {
            "application/vnd.jupyter.widget-view+json": {
              "model_id": "3380d50cd2b54ad588ce3f1ec8f4a91c",
              "version_major": 2,
              "version_minor": 0
            },
            "text/plain": [
              "Button(button_style='primary', description='Download Animation File', layout=Layout(height='auto', width='auto…"
            ]
          },
          "metadata": {},
          "output_type": "display_data"
        },
        {
          "data": {
            "application/vnd.jupyter.widget-view+json": {
              "model_id": "03ace2526ea240d7911a8cb4829d8de7",
              "version_major": 2,
              "version_minor": 0
            },
            "text/plain": [
              "Output()"
            ]
          },
          "metadata": {},
          "output_type": "display_data"
        }
      ],
      "source": [
        "def download_files(msg_out, btn):\n",
        "\n",
        "    msg_out.clear_output()\n",
        "\n",
        "    try:\n",
        "        files.download(animation_file)\n",
        "    except:\n",
        "        with msg_out:\n",
        "            print(\"Need to create the animation first.\")\n",
        "\n",
        "\n",
        "msg_out = widgets.Output()\n",
        "\n",
        "button = widgets.Button(description=\"Download Animation File\", button_style=\"primary\")\n",
        "\n",
        "layout = widgets.Layout(width='auto', height='auto') #set width and height\n",
        "\n",
        "button = widgets.Button(\n",
        "    description='Download Animation File',\n",
        "    disabled=False,\n",
        "    display='flex',\n",
        "    flex_flow='column',\n",
        "    align_items='stretch', \n",
        "    button_style='primary',\n",
        "    layout = layout\n",
        ")   \n",
        "\n",
        "button.on_click(functools.partial(download_files, msg_out))\n",
        "\n",
        "display(button)\n",
        "display(msg_out)"
      ]
    },
    {
      "cell_type": "code",
      "execution_count": null,
      "id": "10964950",
      "metadata": {},
      "outputs": [],
      "source": []
    }
  ],
  "metadata": {
    "colab": {
      "collapsed_sections": [],
      "include_colab_link": true,
      "name": "plot_full_mlo_record_keelingcurve.ipynb",
      "provenance": []
    },
    "kernelspec": {
      "display_name": "Python 3.8.5 64-bit ('notebooks')",
      "language": "python",
      "name": "python3"
    },
    "language_info": {
      "codemirror_mode": {
        "name": "ipython",
        "version": 3
      },
      "file_extension": ".py",
      "mimetype": "text/x-python",
      "name": "python",
      "nbconvert_exporter": "python",
      "pygments_lexer": "ipython3",
      "version": "3.8.5"
    },
    "vscode": {
      "interpreter": {
        "hash": "756fd7f3f44ab1b408c61a336bc63dd8b2b1c2a4bc9346285fbb85e9c22b620b"
      }
    },
    "widgets": {
      "application/vnd.jupyter.widget-state+json": {
        "08054a4c8e124c2c88869f9f113cc063": {
          "model_module": "@jupyter-widgets/controls",
          "model_module_version": "1.5.0",
          "model_name": "ButtonStyleModel",
          "state": {
            "_model_module": "@jupyter-widgets/controls",
            "_model_module_version": "1.5.0",
            "_model_name": "ButtonStyleModel",
            "_view_count": null,
            "_view_module": "@jupyter-widgets/base",
            "_view_module_version": "1.2.0",
            "_view_name": "StyleView",
            "button_color": null,
            "font_weight": ""
          }
        },
        "4449a97a24c146a29773c014f8eb3849": {
          "model_module": "@jupyter-widgets/base",
          "model_module_version": "1.2.0",
          "model_name": "LayoutModel",
          "state": {
            "_model_module": "@jupyter-widgets/base",
            "_model_module_version": "1.2.0",
            "_model_name": "LayoutModel",
            "_view_count": null,
            "_view_module": "@jupyter-widgets/base",
            "_view_module_version": "1.2.0",
            "_view_name": "LayoutView",
            "align_content": null,
            "align_items": null,
            "align_self": null,
            "border": null,
            "bottom": null,
            "display": null,
            "flex": null,
            "flex_flow": null,
            "grid_area": null,
            "grid_auto_columns": null,
            "grid_auto_flow": null,
            "grid_auto_rows": null,
            "grid_column": null,
            "grid_gap": null,
            "grid_row": null,
            "grid_template_areas": null,
            "grid_template_columns": null,
            "grid_template_rows": null,
            "height": null,
            "justify_content": null,
            "justify_items": null,
            "left": null,
            "margin": null,
            "max_height": null,
            "max_width": null,
            "min_height": null,
            "min_width": null,
            "object_fit": null,
            "object_position": null,
            "order": null,
            "overflow": null,
            "overflow_x": null,
            "overflow_y": null,
            "padding": null,
            "right": null,
            "top": null,
            "visibility": null,
            "width": null
          }
        },
        "b704d3a276404640883f6c5efd8146b1": {
          "model_module": "@jupyter-widgets/controls",
          "model_module_version": "1.5.0",
          "model_name": "ButtonModel",
          "state": {
            "_dom_classes": [],
            "_model_module": "@jupyter-widgets/controls",
            "_model_module_version": "1.5.0",
            "_model_name": "ButtonModel",
            "_view_count": null,
            "_view_module": "@jupyter-widgets/controls",
            "_view_module_version": "1.5.0",
            "_view_name": "ButtonView",
            "button_style": "primary",
            "description": "Download Files",
            "disabled": false,
            "icon": "",
            "layout": "IPY_MODEL_4449a97a24c146a29773c014f8eb3849",
            "style": "IPY_MODEL_08054a4c8e124c2c88869f9f113cc063",
            "tooltip": ""
          }
        }
      }
    }
  },
  "nbformat": 4,
  "nbformat_minor": 5
}
