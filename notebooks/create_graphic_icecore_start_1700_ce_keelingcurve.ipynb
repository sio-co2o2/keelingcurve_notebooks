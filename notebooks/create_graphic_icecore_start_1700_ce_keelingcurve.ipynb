{
 "cells": [
  {
   "attachments": {},
   "cell_type": "markdown",
   "id": "8bd54131",
   "metadata": {
    "colab_type": "text",
    "id": "view-in-github"
   },
   "source": [
    "<a href=\"https://colab.research.google.com/github/sio-co2o2/keelingcurve_notebooks/blob/main/notebooks/create_graphic_icecore_start_1700_ce_keelingcurve.ipynb\" target=\"_parent\"><img src=\"https://colab.research.google.com/assets/colab-badge.svg\" alt=\"Open In Colab\"/></a>\n",
    "\n",
    "[![Binder](https://mybinder.org/badge_logo.svg)](https://mybinder.org/v2/gh/sio-co2o2/keelingcurve_notebooks/main?labpath=notebooks/create_graphic_icecore_start_1700_ce_keelingcurve.ipynb)"
   ]
  },
  {
   "cell_type": "markdown",
   "id": "tZwGLrnA1TGq",
   "metadata": {
    "id": "tZwGLrnA1TGq"
   },
   "source": [
    "# Create a graphic appearing on the Keeling Curve website\n",
    "### **Graphic: CO<sub>2</sub> record from 1700 to now**\n",
    "\n",
    "**Mauna Loa, Hawaii CO<sub>2</sub> record starting in 1958 and ice-core CO<sub>2</sub> record before 1958**"
   ]
  },
  {
   "attachments": {},
   "cell_type": "markdown",
   "id": "tsfII0_a1TGu",
   "metadata": {
    "id": "tsfII0_a1TGu"
   },
   "source": [
    "#### This notebook creates customizable PDF and PNG images of a graphic appearing on the front page of [keelingcurve.ucsd.edu](keelingcurve.ucsd.edu).\n",
    "\n",
    "For an overview of the Keeling Curve notebooks, data and graphics licenses, and how to use the notebooks, see [notebooks overview](https://colab.research.google.com/github/sio-co2o2/keelingcurve_notebooks/blob/main/notebooks/overview_of_notebooks_keelingcurve.ipynb).\n",
    "\n",
    "**To use the notebook**, first run all the cells. In Google Colab, select from the top menu and select Runtime -> Run all. Then the buttons will appear to click on which creates and downloads the graphics.\n",
    "\n",
    "Direct questions to [webmaster-co2o2-sio@ucsd.edu](mailto:webmaster-co2o2-sio@ucsd.edu)"
   ]
  },
  {
   "cell_type": "markdown",
   "id": "f7316040",
   "metadata": {},
   "source": [
    "---\n",
    "\n",
    "### [Go to creating the graphic section](#button-to-create-and-save-the-graphic)\n",
    "\n",
    "---"
   ]
  },
  {
   "cell_type": "markdown",
   "id": "cfbdb871",
   "metadata": {},
   "source": [
    "### Sample of the graphic produced by this notebook"
   ]
  },
  {
   "cell_type": "markdown",
   "id": "375a83e9",
   "metadata": {},
   "source": [
    "![title](https://github.com/sio-co2o2/keelingcurve_notebooks/blob/main/images/sample_graphics/co2_1700_ce.png?raw=1?modified=12345678)"
   ]
  },
  {
   "cell_type": "markdown",
   "id": "GB3thR0x1TGv",
   "metadata": {
    "id": "GB3thR0x1TGv"
   },
   "source": [
    "## Import packages"
   ]
  },
  {
   "cell_type": "code",
   "execution_count": 10,
   "id": "J_bLm2xK1TGv",
   "metadata": {
    "id": "J_bLm2xK1TGv"
   },
   "outputs": [],
   "source": [
    "import functools\n",
    "import requests\n",
    "import re\n",
    "import pandas as pd\n",
    "import numpy as np\n",
    "from scipy import interpolate\n",
    "from datetime import datetime, date, timedelta\n",
    "from dateutil.relativedelta import relativedelta\n",
    "import pathlib\n",
    "import matplotlib.image as mpimg\n",
    "import matplotlib.pyplot as plt\n",
    "from matplotlib.pyplot import figure\n",
    "from matplotlib.ticker import (MultipleLocator, AutoMinorLocator)\n",
    "from matplotlib import ticker\n",
    "from matplotlib import rc,rcParams\n",
    "from matplotlib.path import Path\n",
    "import matplotlib.colors as mcolors\n",
    "from matplotlib.patches import Polygon\n",
    "import matplotlib.dates as mdates\n",
    "import matplotlib.lines as mlines\n",
    "import matplotlib.transforms\n",
    "from matplotlib import animation\n",
    "from ipywidgets import widgets\n",
    "from IPython.display import HTML, display\n",
    "from base64 import b64encode\n",
    "from PIL import Image\n",
    "import urllib\n",
    "import os\n",
    "\n",
    "%matplotlib inline"
   ]
  },
  {
   "cell_type": "code",
   "execution_count": 11,
   "id": "f031932c",
   "metadata": {},
   "outputs": [],
   "source": [
    "# This package is used to convert a vector svg into a png\n",
    "\n",
    "try:\n",
    "  from cairosvg import svg2png\n",
    "except:\n",
    "  ! pip install cairosvg\n",
    "  from cairosvg import svg2png"
   ]
  },
  {
   "cell_type": "code",
   "execution_count": 12,
   "id": "9fc670e6-e324-452e-873e-d765adcddbbf",
   "metadata": {},
   "outputs": [],
   "source": [
    "# This import is to enable Google Colab to save files ane then download them\n",
    "\n",
    "# This import does not exist unless the notebook is run in Google Colab\n",
    "# Put in a try except block if user wants to use notebook off of Google Colab\n",
    "\n",
    "try:\n",
    "    from google.colab import files\n",
    "except:\n",
    "    pass"
   ]
  },
  {
   "cell_type": "markdown",
   "id": "OdJ-84Bj1TGx",
   "metadata": {
    "id": "OdJ-84Bj1TGx"
   },
   "source": [
    "### Set directories and file names"
   ]
  },
  {
   "cell_type": "code",
   "execution_count": 13,
   "id": "CstkkjX41TGx",
   "metadata": {
    "id": "CstkkjX41TGx"
   },
   "outputs": [],
   "source": [
    "# Get MLO data from the keelingcurve_notebooks github repository\n",
    "mlo_data_file = 'https://raw.githubusercontent.com/sio-co2o2/keelingcurve_notebooks/main/preliminary_data/mlo/mlo_full_record_now_span.csv'\n",
    "\n",
    "# Get the icecore dataset going back 2K years\n",
    "# This is a subset of the full dataset found at https://doi.org/10.25919/5bfe29ff807fb\n",
    "icecore_2K_data_file = 'https://raw.githubusercontent.com/sio-co2o2/keelingcurve_notebooks/main/icecore_data/Law_Dome_GHG_2000years_co2_by_age.csv'\n",
    "\n",
    "logo_file = 'https://github.com/sio-co2o2/keelingcurve_notebooks/raw/main/images/logos/ucsd_sio_logo.svg'\n",
    "\n",
    "plot_dir = pathlib.Path('./plots')\n",
    "plot_dir.mkdir(exist_ok=True)\n",
    "\n",
    "plot_basename = 'co2_1700_ce'\n",
    "\n",
    "pdf_file = plot_dir / f\"{plot_basename}.pdf\"\n",
    "png_file = plot_dir / f\"{plot_basename}.png\""
   ]
  },
  {
   "cell_type": "markdown",
   "id": "m7TM-Gjd1TGy",
   "metadata": {
    "id": "m7TM-Gjd1TGy"
   },
   "source": [
    "## **Load in data and prepare it for plotting**"
   ]
  },
  {
   "cell_type": "markdown",
   "id": "JI9z5hB91TGz",
   "metadata": {
    "id": "JI9z5hB91TGz"
   },
   "source": [
    "### Load in MLO record"
   ]
  },
  {
   "cell_type": "code",
   "execution_count": 14,
   "id": "ImYHaA9q1TGz",
   "metadata": {
    "colab": {
     "base_uri": "https://localhost:8080/",
     "height": 206
    },
    "id": "ImYHaA9q1TGz",
    "outputId": "70f360f7-882b-4360-aa16-ca7e4fe1056e"
   },
   "outputs": [
    {
     "data": {
      "text/html": [
       "<div>\n",
       "<style scoped>\n",
       "    .dataframe tbody tr th:only-of-type {\n",
       "        vertical-align: middle;\n",
       "    }\n",
       "\n",
       "    .dataframe tbody tr th {\n",
       "        vertical-align: top;\n",
       "    }\n",
       "\n",
       "    .dataframe thead th {\n",
       "        text-align: right;\n",
       "    }\n",
       "</style>\n",
       "<table border=\"1\" class=\"dataframe\">\n",
       "  <thead>\n",
       "    <tr style=\"text-align: right;\">\n",
       "      <th></th>\n",
       "      <th>date</th>\n",
       "      <th>co2</th>\n",
       "      <th>date_seas_adj</th>\n",
       "      <th>co2_seas_adj</th>\n",
       "      <th>date_fit</th>\n",
       "      <th>co2_fit</th>\n",
       "      <th>date_seas_adj_fit</th>\n",
       "      <th>co2_seas_adj_fit</th>\n",
       "      <th>date_filled</th>\n",
       "      <th>co2_filled</th>\n",
       "      <th>date_seas_adj_filled</th>\n",
       "      <th>co2_seas_adj_filled</th>\n",
       "    </tr>\n",
       "  </thead>\n",
       "  <tbody>\n",
       "    <tr>\n",
       "      <th>0</th>\n",
       "      <td>1958.202740</td>\n",
       "      <td>315.71</td>\n",
       "      <td>1958.202740</td>\n",
       "      <td>314.43</td>\n",
       "      <td>1958.202740</td>\n",
       "      <td>316.20</td>\n",
       "      <td>1958.202740</td>\n",
       "      <td>314.91</td>\n",
       "      <td>1958.202740</td>\n",
       "      <td>315.71</td>\n",
       "      <td>1958.202740</td>\n",
       "      <td>314.43</td>\n",
       "    </tr>\n",
       "    <tr>\n",
       "      <th>1</th>\n",
       "      <td>1958.287671</td>\n",
       "      <td>317.45</td>\n",
       "      <td>1958.287671</td>\n",
       "      <td>315.16</td>\n",
       "      <td>1958.287671</td>\n",
       "      <td>317.30</td>\n",
       "      <td>1958.287671</td>\n",
       "      <td>314.99</td>\n",
       "      <td>1958.287671</td>\n",
       "      <td>317.45</td>\n",
       "      <td>1958.287671</td>\n",
       "      <td>315.16</td>\n",
       "    </tr>\n",
       "    <tr>\n",
       "      <th>2</th>\n",
       "      <td>1958.369863</td>\n",
       "      <td>317.51</td>\n",
       "      <td>1958.369863</td>\n",
       "      <td>314.69</td>\n",
       "      <td>1958.369863</td>\n",
       "      <td>317.88</td>\n",
       "      <td>1958.369863</td>\n",
       "      <td>315.07</td>\n",
       "      <td>1958.369863</td>\n",
       "      <td>317.51</td>\n",
       "      <td>1958.369863</td>\n",
       "      <td>314.69</td>\n",
       "    </tr>\n",
       "    <tr>\n",
       "      <th>3</th>\n",
       "      <td>1958.536986</td>\n",
       "      <td>315.87</td>\n",
       "      <td>1958.536986</td>\n",
       "      <td>315.20</td>\n",
       "      <td>1958.454795</td>\n",
       "      <td>317.26</td>\n",
       "      <td>1958.454795</td>\n",
       "      <td>315.15</td>\n",
       "      <td>1958.454795</td>\n",
       "      <td>317.26</td>\n",
       "      <td>1958.454795</td>\n",
       "      <td>315.15</td>\n",
       "    </tr>\n",
       "    <tr>\n",
       "      <th>4</th>\n",
       "      <td>1958.621918</td>\n",
       "      <td>314.93</td>\n",
       "      <td>1958.621918</td>\n",
       "      <td>316.21</td>\n",
       "      <td>1958.536986</td>\n",
       "      <td>315.86</td>\n",
       "      <td>1958.536986</td>\n",
       "      <td>315.22</td>\n",
       "      <td>1958.536986</td>\n",
       "      <td>315.87</td>\n",
       "      <td>1958.536986</td>\n",
       "      <td>315.20</td>\n",
       "    </tr>\n",
       "  </tbody>\n",
       "</table>\n",
       "</div>"
      ],
      "text/plain": [
       "          date     co2  date_seas_adj  co2_seas_adj     date_fit  co2_fit  \\\n",
       "0  1958.202740  315.71    1958.202740        314.43  1958.202740   316.20   \n",
       "1  1958.287671  317.45    1958.287671        315.16  1958.287671   317.30   \n",
       "2  1958.369863  317.51    1958.369863        314.69  1958.369863   317.88   \n",
       "3  1958.536986  315.87    1958.536986        315.20  1958.454795   317.26   \n",
       "4  1958.621918  314.93    1958.621918        316.21  1958.536986   315.86   \n",
       "\n",
       "   date_seas_adj_fit  co2_seas_adj_fit  date_filled  co2_filled  \\\n",
       "0        1958.202740            314.91  1958.202740      315.71   \n",
       "1        1958.287671            314.99  1958.287671      317.45   \n",
       "2        1958.369863            315.07  1958.369863      317.51   \n",
       "3        1958.454795            315.15  1958.454795      317.26   \n",
       "4        1958.536986            315.22  1958.536986      315.87   \n",
       "\n",
       "   date_seas_adj_filled  co2_seas_adj_filled  \n",
       "0           1958.202740               314.43  \n",
       "1           1958.287671               315.16  \n",
       "2           1958.369863               314.69  \n",
       "3           1958.454795               315.15  \n",
       "4           1958.536986               315.20  "
      ]
     },
     "execution_count": 14,
     "metadata": {},
     "output_type": "execute_result"
    }
   ],
   "source": [
    "df_mlo = pd.read_csv(mlo_data_file, sep=',', comment='\"')\n",
    "df_mlo.head()"
   ]
  },
  {
   "cell_type": "markdown",
   "id": "8iqUEhGQ1TG0",
   "metadata": {
    "id": "8iqUEhGQ1TG0"
   },
   "source": [
    "### Get MLO Seasonally adjusted data"
   ]
  },
  {
   "cell_type": "code",
   "execution_count": 15,
   "id": "H_zFLzwP1TG1",
   "metadata": {
    "id": "H_zFLzwP1TG1"
   },
   "outputs": [],
   "source": [
    "df_mlo = df_mlo[['date_filled', 'co2_filled']].copy()"
   ]
  },
  {
   "cell_type": "markdown",
   "id": "k37saLN71TG2",
   "metadata": {
    "id": "k37saLN71TG2"
   },
   "source": [
    "### Remove rows with fill values NaN"
   ]
  },
  {
   "cell_type": "code",
   "execution_count": 16,
   "id": "O1hJBlfu1TG2",
   "metadata": {
    "id": "O1hJBlfu1TG2",
    "scrolled": true
   },
   "outputs": [],
   "source": [
    "df_mlo = df_mlo.dropna()"
   ]
  },
  {
   "cell_type": "markdown",
   "id": "ZBL0BKh11TG2",
   "metadata": {
    "id": "ZBL0BKh11TG2"
   },
   "source": [
    "### Convert to numpy arrays to use for labeling relevant years in the plot"
   ]
  },
  {
   "cell_type": "code",
   "execution_count": 17,
   "id": "rKom02xy1TG3",
   "metadata": {
    "id": "rKom02xy1TG3"
   },
   "outputs": [],
   "source": [
    "mlo_date = df_mlo['date_filled'].to_numpy()\n",
    "mlo_co2 = df_mlo['co2_filled'].to_numpy()\n"
   ]
  },
  {
   "attachments": {},
   "cell_type": "markdown",
   "id": "jjzux5aw4IuG",
   "metadata": {
    "id": "jjzux5aw4IuG"
   },
   "source": [
    "### **Load in the ice-core record back 2K years**"
   ]
  },
  {
   "cell_type": "code",
   "execution_count": 18,
   "id": "QF57-Yeu4ONK",
   "metadata": {
    "id": "QF57-Yeu4ONK"
   },
   "outputs": [
    {
     "data": {
      "text/html": [
       "<div>\n",
       "<style scoped>\n",
       "    .dataframe tbody tr th:only-of-type {\n",
       "        vertical-align: middle;\n",
       "    }\n",
       "\n",
       "    .dataframe tbody tr th {\n",
       "        vertical-align: top;\n",
       "    }\n",
       "\n",
       "    .dataframe thead th {\n",
       "        text-align: right;\n",
       "    }\n",
       "</style>\n",
       "<table border=\"1\" class=\"dataframe\">\n",
       "  <thead>\n",
       "    <tr style=\"text-align: right;\">\n",
       "      <th></th>\n",
       "      <th>Sample ID</th>\n",
       "      <th>Ice Age (year AD)</th>\n",
       "      <th>CO2 Age (year AD)</th>\n",
       "      <th>CO2 (ppm)</th>\n",
       "      <th>Uncert (ppm)</th>\n",
       "    </tr>\n",
       "  </thead>\n",
       "  <tbody>\n",
       "    <tr>\n",
       "      <th>0</th>\n",
       "      <td>DSSW20K 15.8</td>\n",
       "      <td>firn</td>\n",
       "      <td>1996</td>\n",
       "      <td>359.87</td>\n",
       "      <td>0.02</td>\n",
       "    </tr>\n",
       "    <tr>\n",
       "      <th>1</th>\n",
       "      <td>DSSW20K 29</td>\n",
       "      <td>firn</td>\n",
       "      <td>1994</td>\n",
       "      <td>357.24</td>\n",
       "      <td>0.04</td>\n",
       "    </tr>\n",
       "    <tr>\n",
       "      <th>2</th>\n",
       "      <td>DE08-2 0</td>\n",
       "      <td>firn</td>\n",
       "      <td>1993</td>\n",
       "      <td>354.60</td>\n",
       "      <td>0.02</td>\n",
       "    </tr>\n",
       "    <tr>\n",
       "      <th>3</th>\n",
       "      <td>DSSW20K 37.8</td>\n",
       "      <td>firn</td>\n",
       "      <td>1992</td>\n",
       "      <td>353.89</td>\n",
       "      <td>0.04</td>\n",
       "    </tr>\n",
       "    <tr>\n",
       "      <th>4</th>\n",
       "      <td>DE08-2 10</td>\n",
       "      <td>firn</td>\n",
       "      <td>1991</td>\n",
       "      <td>352.60</td>\n",
       "      <td>0.18</td>\n",
       "    </tr>\n",
       "  </tbody>\n",
       "</table>\n",
       "</div>"
      ],
      "text/plain": [
       "      Sample ID Ice Age (year AD)  CO2 Age (year AD)  CO2 (ppm)  Uncert (ppm)\n",
       "0  DSSW20K 15.8              firn               1996     359.87          0.02\n",
       "1    DSSW20K 29              firn               1994     357.24          0.04\n",
       "2      DE08-2 0              firn               1993     354.60          0.02\n",
       "3  DSSW20K 37.8              firn               1992     353.89          0.04\n",
       "4     DE08-2 10              firn               1991     352.60          0.18"
      ]
     },
     "execution_count": 18,
     "metadata": {},
     "output_type": "execute_result"
    }
   ],
   "source": [
    "df_icecore_2K = pd.read_csv(icecore_2K_data_file, sep=',', comment='#', skipinitialspace=True)\n",
    "df_icecore_2K.head()"
   ]
  },
  {
   "attachments": {},
   "cell_type": "markdown",
   "id": "f856e2fe",
   "metadata": {},
   "source": [
    "### Sort ice-core dataframe by CO2 Age"
   ]
  },
  {
   "cell_type": "code",
   "execution_count": 19,
   "id": "ef9fdfe2",
   "metadata": {},
   "outputs": [
    {
     "data": {
      "text/html": [
       "<div>\n",
       "<style scoped>\n",
       "    .dataframe tbody tr th:only-of-type {\n",
       "        vertical-align: middle;\n",
       "    }\n",
       "\n",
       "    .dataframe tbody tr th {\n",
       "        vertical-align: top;\n",
       "    }\n",
       "\n",
       "    .dataframe thead th {\n",
       "        text-align: right;\n",
       "    }\n",
       "</style>\n",
       "<table border=\"1\" class=\"dataframe\">\n",
       "  <thead>\n",
       "    <tr style=\"text-align: right;\">\n",
       "      <th></th>\n",
       "      <th>Sample ID</th>\n",
       "      <th>Ice Age (year AD)</th>\n",
       "      <th>CO2 Age (year AD)</th>\n",
       "      <th>CO2 (ppm)</th>\n",
       "      <th>Uncert (ppm)</th>\n",
       "    </tr>\n",
       "  </thead>\n",
       "  <tbody>\n",
       "    <tr>\n",
       "      <th>0</th>\n",
       "      <td>DSS 135</td>\n",
       "      <td>94</td>\n",
       "      <td>154</td>\n",
       "      <td>278.2</td>\n",
       "      <td>0.4</td>\n",
       "    </tr>\n",
       "    <tr>\n",
       "      <th>1</th>\n",
       "      <td>DSS 134</td>\n",
       "      <td>115</td>\n",
       "      <td>175</td>\n",
       "      <td>277.7</td>\n",
       "      <td>0.4</td>\n",
       "    </tr>\n",
       "    <tr>\n",
       "      <th>2</th>\n",
       "      <td>DSS 132</td>\n",
       "      <td>181</td>\n",
       "      <td>241</td>\n",
       "      <td>280.4</td>\n",
       "      <td>0.6</td>\n",
       "    </tr>\n",
       "    <tr>\n",
       "      <th>3</th>\n",
       "      <td>DSS 131</td>\n",
       "      <td>206</td>\n",
       "      <td>266</td>\n",
       "      <td>278.4</td>\n",
       "      <td>0.6</td>\n",
       "    </tr>\n",
       "    <tr>\n",
       "      <th>4</th>\n",
       "      <td>DSS 082</td>\n",
       "      <td>214</td>\n",
       "      <td>274</td>\n",
       "      <td>280.2</td>\n",
       "      <td>2.5</td>\n",
       "    </tr>\n",
       "  </tbody>\n",
       "</table>\n",
       "</div>"
      ],
      "text/plain": [
       "  Sample ID Ice Age (year AD)  CO2 Age (year AD)  CO2 (ppm)  Uncert (ppm)\n",
       "0   DSS 135                94                154      278.2           0.4\n",
       "1   DSS 134               115                175      277.7           0.4\n",
       "2   DSS 132               181                241      280.4           0.6\n",
       "3   DSS 131               206                266      278.4           0.6\n",
       "4   DSS 082               214                274      280.2           2.5"
      ]
     },
     "execution_count": 19,
     "metadata": {},
     "output_type": "execute_result"
    }
   ],
   "source": [
    "df_icecore_2K = df_icecore_2K.sort_values(by=['CO2 Age (year AD)'], ascending=True)\n",
    "\n",
    "df_icecore_2K = df_icecore_2K.reset_index(drop=True)\n",
    "\n",
    "df_icecore_2K.head()"
   ]
  },
  {
   "attachments": {},
   "cell_type": "markdown",
   "id": "ce60cba5",
   "metadata": {},
   "source": [
    "### Get subset of datafreame and rename columns"
   ]
  },
  {
   "cell_type": "code",
   "execution_count": 20,
   "id": "3ba60740",
   "metadata": {},
   "outputs": [
    {
     "data": {
      "text/html": [
       "<div>\n",
       "<style scoped>\n",
       "    .dataframe tbody tr th:only-of-type {\n",
       "        vertical-align: middle;\n",
       "    }\n",
       "\n",
       "    .dataframe tbody tr th {\n",
       "        vertical-align: top;\n",
       "    }\n",
       "\n",
       "    .dataframe thead th {\n",
       "        text-align: right;\n",
       "    }\n",
       "</style>\n",
       "<table border=\"1\" class=\"dataframe\">\n",
       "  <thead>\n",
       "    <tr style=\"text-align: right;\">\n",
       "      <th></th>\n",
       "      <th>date_ce</th>\n",
       "      <th>co2</th>\n",
       "    </tr>\n",
       "  </thead>\n",
       "  <tbody>\n",
       "    <tr>\n",
       "      <th>0</th>\n",
       "      <td>154</td>\n",
       "      <td>278.2</td>\n",
       "    </tr>\n",
       "    <tr>\n",
       "      <th>1</th>\n",
       "      <td>175</td>\n",
       "      <td>277.7</td>\n",
       "    </tr>\n",
       "    <tr>\n",
       "      <th>2</th>\n",
       "      <td>241</td>\n",
       "      <td>280.4</td>\n",
       "    </tr>\n",
       "    <tr>\n",
       "      <th>3</th>\n",
       "      <td>266</td>\n",
       "      <td>278.4</td>\n",
       "    </tr>\n",
       "    <tr>\n",
       "      <th>4</th>\n",
       "      <td>274</td>\n",
       "      <td>280.2</td>\n",
       "    </tr>\n",
       "  </tbody>\n",
       "</table>\n",
       "</div>"
      ],
      "text/plain": [
       "   date_ce    co2\n",
       "0      154  278.2\n",
       "1      175  277.7\n",
       "2      241  280.4\n",
       "3      266  278.4\n",
       "4      274  280.2"
      ]
     },
     "execution_count": 20,
     "metadata": {},
     "output_type": "execute_result"
    }
   ],
   "source": [
    "df_icecore_2K.drop(['Sample ID', 'Ice Age (year AD)', 'Uncert (ppm)'], axis=1, inplace=True)\n",
    "\n",
    "df_icecore_2K.columns = ['date_ce', 'co2']\n",
    "\n",
    "df_icecore_2K.head()"
   ]
  },
  {
   "attachments": {},
   "cell_type": "markdown",
   "id": "dd38d869",
   "metadata": {},
   "source": [
    "### Filter ice-core data up to 1957 (So as not to overlap with MLO data)"
   ]
  },
  {
   "cell_type": "code",
   "execution_count": 21,
   "id": "0132979c",
   "metadata": {},
   "outputs": [
    {
     "data": {
      "text/html": [
       "<div>\n",
       "<style scoped>\n",
       "    .dataframe tbody tr th:only-of-type {\n",
       "        vertical-align: middle;\n",
       "    }\n",
       "\n",
       "    .dataframe tbody tr th {\n",
       "        vertical-align: top;\n",
       "    }\n",
       "\n",
       "    .dataframe thead th {\n",
       "        text-align: right;\n",
       "    }\n",
       "</style>\n",
       "<table border=\"1\" class=\"dataframe\">\n",
       "  <thead>\n",
       "    <tr style=\"text-align: right;\">\n",
       "      <th></th>\n",
       "      <th>date_ce</th>\n",
       "      <th>co2</th>\n",
       "    </tr>\n",
       "  </thead>\n",
       "  <tbody>\n",
       "    <tr>\n",
       "      <th>264</th>\n",
       "      <td>1956</td>\n",
       "      <td>314.40</td>\n",
       "    </tr>\n",
       "    <tr>\n",
       "      <th>265</th>\n",
       "      <td>1957</td>\n",
       "      <td>314.50</td>\n",
       "    </tr>\n",
       "    <tr>\n",
       "      <th>266</th>\n",
       "      <td>1957</td>\n",
       "      <td>314.40</td>\n",
       "    </tr>\n",
       "    <tr>\n",
       "      <th>267</th>\n",
       "      <td>1957</td>\n",
       "      <td>316.45</td>\n",
       "    </tr>\n",
       "    <tr>\n",
       "      <th>268</th>\n",
       "      <td>1957</td>\n",
       "      <td>315.10</td>\n",
       "    </tr>\n",
       "  </tbody>\n",
       "</table>\n",
       "</div>"
      ],
      "text/plain": [
       "     date_ce     co2\n",
       "264     1956  314.40\n",
       "265     1957  314.50\n",
       "266     1957  314.40\n",
       "267     1957  316.45\n",
       "268     1957  315.10"
      ]
     },
     "execution_count": 21,
     "metadata": {},
     "output_type": "execute_result"
    }
   ],
   "source": [
    "df_icecore_2K = df_icecore_2K[df_icecore_2K['date_ce'] < 1958]\n",
    "\n",
    "df_icecore_2K.tail()"
   ]
  },
  {
   "cell_type": "markdown",
   "id": "pwruUXEW6yP1",
   "metadata": {
    "id": "pwruUXEW6yP1"
   },
   "source": [
    "### Combine MLO and Icecore data"
   ]
  },
  {
   "cell_type": "markdown",
   "id": "TYcwYote7hf_",
   "metadata": {
    "id": "TYcwYote7hf_"
   },
   "source": [
    "#### Rename columns of MLO dataframe so can align with the icecore dataframe to concatenate"
   ]
  },
  {
   "cell_type": "code",
   "execution_count": 22,
   "id": "OEX3wTuI62Iz",
   "metadata": {
    "id": "OEX3wTuI62Iz"
   },
   "outputs": [],
   "source": [
    "df_mlo.columns = ['date_ce', 'co2']"
   ]
  },
  {
   "cell_type": "markdown",
   "id": "XA0CxaOb9C0H",
   "metadata": {
    "id": "XA0CxaOb9C0H"
   },
   "source": [
    "#### Verically concatenate the dataframes"
   ]
  },
  {
   "cell_type": "code",
   "execution_count": 23,
   "id": "eZiwIreT9Gqt",
   "metadata": {
    "colab": {
     "base_uri": "https://localhost:8080/",
     "height": 206
    },
    "id": "eZiwIreT9Gqt",
    "outputId": "e5f7c295-b89b-492d-cdff-1df41abdee65"
   },
   "outputs": [
    {
     "data": {
      "text/html": [
       "<div>\n",
       "<style scoped>\n",
       "    .dataframe tbody tr th:only-of-type {\n",
       "        vertical-align: middle;\n",
       "    }\n",
       "\n",
       "    .dataframe tbody tr th {\n",
       "        vertical-align: top;\n",
       "    }\n",
       "\n",
       "    .dataframe thead th {\n",
       "        text-align: right;\n",
       "    }\n",
       "</style>\n",
       "<table border=\"1\" class=\"dataframe\">\n",
       "  <thead>\n",
       "    <tr style=\"text-align: right;\">\n",
       "      <th></th>\n",
       "      <th>date_ce</th>\n",
       "      <th>co2</th>\n",
       "    </tr>\n",
       "  </thead>\n",
       "  <tbody>\n",
       "    <tr>\n",
       "      <th>0</th>\n",
       "      <td>154.0</td>\n",
       "      <td>278.2</td>\n",
       "    </tr>\n",
       "    <tr>\n",
       "      <th>1</th>\n",
       "      <td>175.0</td>\n",
       "      <td>277.7</td>\n",
       "    </tr>\n",
       "    <tr>\n",
       "      <th>2</th>\n",
       "      <td>241.0</td>\n",
       "      <td>280.4</td>\n",
       "    </tr>\n",
       "    <tr>\n",
       "      <th>3</th>\n",
       "      <td>266.0</td>\n",
       "      <td>278.4</td>\n",
       "    </tr>\n",
       "    <tr>\n",
       "      <th>4</th>\n",
       "      <td>274.0</td>\n",
       "      <td>280.2</td>\n",
       "    </tr>\n",
       "  </tbody>\n",
       "</table>\n",
       "</div>"
      ],
      "text/plain": [
       "   date_ce    co2\n",
       "0    154.0  278.2\n",
       "1    175.0  277.7\n",
       "2    241.0  280.4\n",
       "3    266.0  278.4\n",
       "4    274.0  280.2"
      ]
     },
     "execution_count": 23,
     "metadata": {},
     "output_type": "execute_result"
    }
   ],
   "source": [
    "df_combined = pd.concat([df_icecore_2K, df_mlo], ignore_index=True)\n",
    "\n",
    "# And reset the index\n",
    "df_combined = df_combined.reset_index(drop=True)\n",
    "\n",
    "df_combined.head()"
   ]
  },
  {
   "cell_type": "markdown",
   "id": "hyAe2KAH5j0q",
   "metadata": {
    "id": "hyAe2KAH5j0q"
   },
   "source": [
    "#### Get a subset of the data starting at 1700\n",
    "\n",
    "We need the data set to stretch back one more data point so that the plot line of the data displays as starting at 1700."
   ]
  },
  {
   "cell_type": "code",
   "execution_count": 24,
   "id": "0olrfshi5kTH",
   "metadata": {
    "colab": {
     "base_uri": "https://localhost:8080/",
     "height": 206
    },
    "id": "0olrfshi5kTH",
    "outputId": "1f95fb92-a0c3-4348-c4ad-db58c0692a9e"
   },
   "outputs": [
    {
     "data": {
      "text/html": [
       "<div>\n",
       "<style scoped>\n",
       "    .dataframe tbody tr th:only-of-type {\n",
       "        vertical-align: middle;\n",
       "    }\n",
       "\n",
       "    .dataframe tbody tr th {\n",
       "        vertical-align: top;\n",
       "    }\n",
       "\n",
       "    .dataframe thead th {\n",
       "        text-align: right;\n",
       "    }\n",
       "</style>\n",
       "<table border=\"1\" class=\"dataframe\">\n",
       "  <thead>\n",
       "    <tr style=\"text-align: right;\">\n",
       "      <th></th>\n",
       "      <th>date_ce</th>\n",
       "      <th>co2</th>\n",
       "    </tr>\n",
       "  </thead>\n",
       "  <tbody>\n",
       "    <tr>\n",
       "      <th>65</th>\n",
       "      <td>1694.0</td>\n",
       "      <td>277.4</td>\n",
       "    </tr>\n",
       "    <tr>\n",
       "      <th>66</th>\n",
       "      <td>1703.0</td>\n",
       "      <td>275.0</td>\n",
       "    </tr>\n",
       "    <tr>\n",
       "      <th>67</th>\n",
       "      <td>1710.0</td>\n",
       "      <td>276.3</td>\n",
       "    </tr>\n",
       "    <tr>\n",
       "      <th>68</th>\n",
       "      <td>1719.0</td>\n",
       "      <td>276.4</td>\n",
       "    </tr>\n",
       "    <tr>\n",
       "      <th>69</th>\n",
       "      <td>1723.0</td>\n",
       "      <td>278.3</td>\n",
       "    </tr>\n",
       "  </tbody>\n",
       "</table>\n",
       "</div>"
      ],
      "text/plain": [
       "    date_ce    co2\n",
       "65   1694.0  277.4\n",
       "66   1703.0  275.0\n",
       "67   1710.0  276.3\n",
       "68   1719.0  276.4\n",
       "69   1723.0  278.3"
      ]
     },
     "execution_count": 24,
     "metadata": {},
     "output_type": "execute_result"
    }
   ],
   "source": [
    "# Find the rows with a date starting on 1700\n",
    "index_list = df_combined.index[df_combined['date_ce'] >= 1700].tolist()\n",
    "\n",
    "# Get the first index and then add one more row by appending the min_index - 1\n",
    "min_index = min(index_list)\n",
    "index_list = [min_index - 1] + index_list\n",
    "\n",
    "# Now cull the data to this index list\n",
    "df_combined = df_combined.iloc[index_list]\n",
    "df_combined.head()"
   ]
  },
  {
   "cell_type": "markdown",
   "id": "_nGwbM2TAZP8",
   "metadata": {
    "id": "_nGwbM2TAZP8"
   },
   "source": [
    "#### Convert to numpy arrays for plotting"
   ]
  },
  {
   "cell_type": "code",
   "execution_count": 25,
   "id": "4Oq7Q_GSAar0",
   "metadata": {
    "id": "4Oq7Q_GSAar0"
   },
   "outputs": [],
   "source": [
    "combined_years = df_combined['date_ce'].to_numpy()\n",
    "combined_co2 = df_combined['co2'].to_numpy()"
   ]
  },
  {
   "cell_type": "markdown",
   "id": "cb0fd49c",
   "metadata": {},
   "source": [
    "## **Define accessory functions**"
   ]
  },
  {
   "cell_type": "markdown",
   "id": "39e1018e",
   "metadata": {},
   "source": [
    "## Functions to convert dates into various formats\n",
    "Used for plot limits and labeling"
   ]
  },
  {
   "cell_type": "markdown",
   "id": "33a869db",
   "metadata": {},
   "source": [
    "### Function to convert a datetime to a float"
   ]
  },
  {
   "cell_type": "code",
   "execution_count": 26,
   "id": "8sOK5sYX1TG6",
   "metadata": {
    "id": "8sOK5sYX1TG6"
   },
   "outputs": [],
   "source": [
    "#  https://stackoverflow.com/questions/19305991/convert-fractional-years-to-a-real-date-in-python\n",
    "def dt2t(adatetime):\n",
    "    \"\"\"\n",
    "    Convert adatetime into a float. The integer part of the float should\n",
    "    represent the year.\n",
    "    Order should be preserved. If adate<bdate, then d2t(adate)<d2t(bdate)\n",
    "    time distances should be preserved: If bdate-adate=ddate-cdate then\n",
    "    dt2t(bdate)-dt2t(adate) = dt2t(ddate)-dt2t(cdate)\n",
    "    \"\"\"\n",
    "    year = adatetime.year\n",
    "    boy = datetime(year, 1, 1)\n",
    "    eoy = datetime(year + 1, 1, 1)\n",
    "    return year + ((adatetime - boy).total_seconds() / ((eoy - boy).total_seconds()))"
   ]
  },
  {
   "cell_type": "markdown",
   "id": "43f6e973",
   "metadata": {},
   "source": [
    "### Function to convert a float to a datetime"
   ]
  },
  {
   "cell_type": "code",
   "execution_count": 27,
   "id": "VU3sCTrG1TG6",
   "metadata": {
    "id": "VU3sCTrG1TG6"
   },
   "outputs": [],
   "source": [
    "#  https://stackoverflow.com/questions/19305991/convert-fractional-years-to-a-real-date-in-python\n",
    "def t2dt(atime):\n",
    "    \"\"\"\n",
    "    Convert atime (a float) to DT.datetime\n",
    "    This is the inverse of dt2t.\n",
    "    assert dt2t(t2dt(atime)) == atime\n",
    "    \"\"\"\n",
    "    year = int(atime)\n",
    "    remainder = atime - year\n",
    "    boy = datetime(year, 1, 1)\n",
    "    eoy = datetime(year + 1, 1, 1)\n",
    "    seconds = remainder * (eoy - boy).total_seconds()\n",
    "    return boy + timedelta(seconds=seconds)"
   ]
  },
  {
   "cell_type": "markdown",
   "id": "3f8f9880",
   "metadata": {},
   "source": [
    "### Function to create various date versions for today's date"
   ]
  },
  {
   "cell_type": "code",
   "execution_count": 28,
   "id": "ysBr9DhY1TG6",
   "metadata": {
    "id": "ysBr9DhY1TG6"
   },
   "outputs": [],
   "source": [
    "def get_todays_date_variations():\n",
    "    \n",
    "    now = datetime.now()\n",
    "    todays_decimal =  dt2t(now)\n",
    "    \n",
    "    today = date.today()\n",
    "\n",
    "    todays_day = today.day\n",
    "    todays_month = today.strftime(\"%B\")\n",
    "    todays_year = today.year\n",
    "    todays_date_moyr = today.strftime(\"%B %Y\")\n",
    "    todays_date_modyyr = f\"{todays_month} {todays_day}, {todays_year}\"\n",
    "\n",
    "    return todays_date_moyr, todays_date_modyyr, todays_decimal, todays_year"
   ]
  },
  {
   "cell_type": "markdown",
   "id": "67583307",
   "metadata": {},
   "source": [
    "### Function to get the end date of data"
   ]
  },
  {
   "cell_type": "code",
   "execution_count": 29,
   "id": "zY09QsB01TG7",
   "metadata": {
    "id": "zY09QsB01TG7"
   },
   "outputs": [],
   "source": [
    "def get_data_end_date(date_data):\n",
    "    last_date = np.max(date_data)\n",
    "    last_date_datetime = t2dt(last_date)\n",
    "    \n",
    "    # Convert date format to month_name day, year\n",
    "    day = last_date_datetime.day\n",
    "    month = last_date_datetime.strftime(\"%B\")\n",
    "    year = last_date_datetime.year\n",
    "    date_modyyr = f\"{month} {day}, {year}\"\n",
    "    return date_modyyr"
   ]
  },
  {
   "cell_type": "markdown",
   "id": "5e5c81fe",
   "metadata": {},
   "source": [
    "<a name=\"functions-to-modify-graphic\"></a>\n",
    "## **Define functions that can modify the graphic**"
   ]
  },
  {
   "cell_type": "markdown",
   "id": "8HA_txWN1TG3",
   "metadata": {
    "id": "8HA_txWN1TG3"
   },
   "source": [
    "### Function to create gradient under curve"
   ]
  },
  {
   "cell_type": "code",
   "execution_count": 30,
   "id": "sQKO3s9H1TG3",
   "metadata": {
    "id": "sQKO3s9H1TG3"
   },
   "outputs": [],
   "source": [
    "# Gradient function modified from the original function in\n",
    "# the answer from https://stackoverflow.com/questions/29321835/is-it-possible-to-get-color-gradients-under-curve-in-matplotlib\n",
    "\n",
    "# Modified to add gradient below curve and have a bottom alpha\n",
    "# The color under the plot line varies as a gradient from the line to the\n",
    "# bottom axis.\n",
    "\n",
    "# Modify arguments of the original function to include limits of the \n",
    "# gradient under the curve, the transparency and gradient color\n",
    "# def gradient_fill(x, y, fill_color=None, ax=None, **kwargs):\n",
    "def gradient_fill(x, y, fill_color='#FFFFFF', xmin=None, ymin=None, xmax=None, \n",
    "                  ymax=None, alpha_bottom=None, ax=None, alpha=1, zorder=1, **kwargs):\n",
    "    \"\"\"\n",
    "    Plot a line with a linear alpha gradient filled beneath it.\n",
    "\n",
    "    Parameters\n",
    "    ----------\n",
    "    x, y : array-like\n",
    "        The data values of the line.\n",
    "    fill_color : a matplotlib color specifier (string, tuple) or None\n",
    "        The color for the fill. If None, the color of the line will be used.\n",
    "    ax : a matplotlib Axes instance\n",
    "        The axes to plot on. If None, the current pyplot axes will be used.\n",
    "    Additional arguments are passed on to matplotlib's ``plot`` function.\n",
    "\n",
    "    Returns\n",
    "    -------\n",
    "    line : a Line2D instance\n",
    "        The line plotted.\n",
    "    im : an AxesImage instance\n",
    "        The transparent gradient clipped to just the area beneath the curve.\n",
    "    \"\"\"\n",
    "    if ax is None:\n",
    "        ax = plt.gca()\n",
    "\n",
    "    # Only want the gradient to show and not the line defining the gradient shape\n",
    "    # so change the original function\n",
    "    #line, = ax.plot(x, y, **kwargs)\n",
    "    #if fill_color is None:\n",
    "    #    fill_color = line.get_color()\n",
    "\n",
    "    if alpha_bottom is None:\n",
    "        alpha_bottom = 0\n",
    "\n",
    "    if xmin is None:\n",
    "        xmin = x.min()\n",
    "\n",
    "    if ymin is None:\n",
    "        ymin = y.min()\n",
    "        \n",
    "    if xmax is None:\n",
    "        xmax = x.max()\n",
    "\n",
    "    if ymax is None:\n",
    "        ymax = y.max()\n",
    "        \n",
    "    if zorder is None:\n",
    "        zorder = 1\n",
    "        \n",
    "    # zorder in alpha of the gradient are now set in the function arguments,\n",
    "    # so modify this portion of the original function\n",
    "    #zorder = line.get_zorder()\n",
    "    \n",
    "    #alpha = line.get_alpha()\n",
    "    #alpha = 1.0 if alpha is None else alpha\n",
    "\n",
    "    z = np.empty((100, 1, 4), dtype=float)\n",
    "\n",
    "    rgb = mcolors.colorConverter.to_rgb(fill_color)\n",
    "    z[:, :, :3] = rgb\n",
    "    #z[:,:,-1] = np.linspace(0, alpha, 100)[:,None]\n",
    "    z[:, :, -1] = np.linspace(alpha_bottom, alpha, 100)[:, None]\n",
    "\n",
    "    # Get the gradient limits from the function arguments,\n",
    "    # so modify the original function\n",
    "    #xmin, xmax, ymin, ymax = x.min(), x.max(), y.min(), y.max()\n",
    "    \n",
    "    im = ax.imshow(z, aspect='auto', extent=[xmin, xmax, ymin, ymax],\n",
    "                   origin='lower', zorder=zorder)\n",
    "\n",
    "    xy = np.column_stack([x, y])\n",
    "    xy = np.vstack([[xmin, ymin], xy, [xmax, ymin], [xmin, ymin]])\n",
    "    clip_path = Polygon(xy, facecolor='none', edgecolor='none', closed=True)\n",
    "    ax.add_patch(clip_path)\n",
    "    im.set_clip_path(clip_path)\n",
    "    \n",
    "    ax.autoscale(True)\n",
    "    \n",
    "    # Modify original function since there is no need \n",
    "    # to return the line and im objects\n",
    "    #return line, im"
   ]
  },
  {
   "cell_type": "markdown",
   "id": "7a34bdff",
   "metadata": {},
   "source": [
    "### Function to set global fonts and linewidth properties"
   ]
  },
  {
   "cell_type": "code",
   "execution_count": 31,
   "id": "wUSezrFI1TG4",
   "metadata": {
    "id": "wUSezrFI1TG4"
   },
   "outputs": [],
   "source": [
    "def set_matplotlib_properties():\n",
    "    \n",
    "    # Set default properties for matplotlib\n",
    "    \n",
    "    # Reset rcparams in case modified defaults in another notebook during same session \n",
    "    plt.rcParams.update(plt.rcParamsDefault)\n",
    "\n",
    "    plt.rcParams.update({'axes.linewidth':1.5})\n",
    "    \n",
    "    plt.rcParams.update({\n",
    "        \"text.usetex\": False,\n",
    "        \"font.family\": \"sans-serif\",\n",
    "        \"font.weight\":  \"normal\",\n",
    "        \"font.sans-serif\": [\"Arial\", \"Tahoma\", \"Helvetica\",\"FreeSans\", \"NimbusSans\", \"LiberationSans\",\"DejaVu Sans\"],\n",
    "        \"mathtext.default\":'regular',\n",
    "        \"mathtext.fontset\": \"dejavusans\"\n",
    "    })\n",
    "        \n",
    "    # http://phyletica.org/matplotlib-fonts/\n",
    "    # This causes matplotlib to use Type 42 (a.k.a. TrueType) fonts \n",
    "    # for PostScript and PDF files. This allows you to avoid Type 3 fonts.\n",
    "    # Turning on usetex also works\n",
    "    # Needed on Ubuntu for pdf fonts \n",
    "    plt.rcParams.update({\n",
    "      'pdf.fonttype': 42,\n",
    "        'ps.fonttype': 42 \n",
    "    })"
   ]
  },
  {
   "cell_type": "markdown",
   "id": "5d14c396",
   "metadata": {},
   "source": [
    "### Function to set axes properties of the graphic"
   ]
  },
  {
   "cell_type": "code",
   "execution_count": 32,
   "id": "05USuBEa1TG4",
   "metadata": {
    "id": "05USuBEa1TG4"
   },
   "outputs": [],
   "source": [
    "def set_plot_props(ax, fig, xmin, xmax, ymin, ymax, xlabel, ylabel):\n",
    "\n",
    "    # ---------------------------------\n",
    "    # Plot properties for website plots\n",
    "    # ---------------------------------\n",
    "\n",
    "    # Allow room at top for the 2 titles\n",
    "    fig.subplots_adjust(top=0.85)\n",
    "    \n",
    "    ax.tick_params(which='both', bottom=True, top=True, left=True, right=True)\n",
    "\n",
    "    ax.tick_params(axis='x', labelsize=12)\n",
    "    ax.tick_params(axis='y', labelsize=16)\n",
    "\n",
    "    ax.tick_params(axis='x', which='major', direction='in', length=6, width=1)\n",
    "    ax.tick_params(axis='y', which='major', direction='in', length=8, width=1)\n",
    "    \n",
    "    yaxis_tick_spacing = 50\n",
    "    ax.yaxis.set_major_locator(ticker.MultipleLocator(yaxis_tick_spacing))\n",
    "\n",
    "    xaxis_tick_spacing = 50\n",
    "    ax.xaxis.set_major_locator(ticker.MultipleLocator(xaxis_tick_spacing))\n",
    "\n",
    "    # Don't display first year since runs into y axis numbers\n",
    "    xticks_locs = ax.get_xticks()\n",
    "    xtick_labels = ax.xaxis.get_ticklabels()\n",
    "    for index, loc in enumerate(xticks_locs):\n",
    "        if loc == xmin:\n",
    "            xtick_labels[index].set_visible(False)\n",
    "    \n",
    "    ax.tick_params(which='minor', direction='in', length=5)\n",
    "    ax.xaxis.set_minor_locator(AutoMinorLocator(5))\n",
    "    ax.yaxis.set_minor_locator(AutoMinorLocator(5))\n",
    "    \n",
    "    labels = ax.get_xticklabels() + ax.get_yticklabels()\n",
    "    for label in labels: label.set_fontweight('bold')\n",
    "\n",
    "    ax.set_xlabel(xlabel, fontweight='bold', fontsize=12, labelpad=5)\n",
    "    ax.set_ylabel(ylabel, fontweight='bold', fontsize=18, labelpad=5)\n",
    "\n",
    "    # Set axes limits last \n",
    "    # If did before, setting xtick labels past xmin & xmax would have\n",
    "    # extended the plot limits\n",
    "    ax.set_xlim(xmin, xmax)\n",
    "    ax.set_ylim(ymin, ymax)"
   ]
  },
  {
   "cell_type": "markdown",
   "id": "1d2d3948",
   "metadata": {},
   "source": [
    "### Function to place the titles"
   ]
  },
  {
   "cell_type": "code",
   "execution_count": 33,
   "id": "qBzAzo2Q1TG5",
   "metadata": {
    "id": "qBzAzo2Q1TG5"
   },
   "outputs": [],
   "source": [
    "def add_plot_title(ax, title1, title2):\n",
    "\n",
    "    ax.annotate(title1, xy=(0, 1.15), xycoords='axes fraction', fontsize=14,\n",
    "                horizontalalignment='left', verticalalignment='top', fontweight=\"normal\")\n",
    "    ax.annotate(title2, xy=(0, 1.07), xycoords='axes fraction', fontsize=18,\n",
    "                horizontalalignment='left', verticalalignment='top', fontweight = 'bold')"
   ]
  },
  {
   "cell_type": "markdown",
   "id": "db799a45",
   "metadata": {},
   "source": [
    "### Function to add an inset label"
   ]
  },
  {
   "cell_type": "code",
   "execution_count": 34,
   "id": "67b05e68",
   "metadata": {},
   "outputs": [],
   "source": [
    "def add_inset_label(ax, label_text):\n",
    "    ax.annotate(label_text, xy=(0.03, 0.9), xycoords='axes fraction', fontsize=12,\n",
    "                horizontalalignment='left', verticalalignment='top')\n"
   ]
  },
  {
   "cell_type": "markdown",
   "id": "d448ca8c",
   "metadata": {},
   "source": [
    "### Function to save the graphic"
   ]
  },
  {
   "cell_type": "code",
   "execution_count": 35,
   "id": "f6f8fda6-8871-4390-8981-e99a2e01320d",
   "metadata": {},
   "outputs": [],
   "source": [
    "def save_graphic(fig, pdf_file, png_file):\n",
    "\n",
    "    fig_width, fig_height = fig.get_size_inches()\n",
    "\n",
    "    # For pdf\n",
    "    width_in = 10\n",
    "    height_in = (fig_height/fig_width) * width_in\n",
    "\n",
    "    fig.set_size_inches(width_in, height_in)\n",
    "\n",
    "    # Save to a high dpi so that logo png file has a high resolution\n",
    "    fig.savefig(pdf_file, facecolor='w', edgecolor='w',\n",
    "                orientation='landscape', format=None,\n",
    "                transparent=False, bbox_inches='tight', dpi=600)\n",
    "\n",
    "    # For png\n",
    "    # Want a png of height 500px\n",
    "\n",
    "    # First save figure as a png and then scale to size needed\n",
    "\n",
    "    png_dpi = 300\n",
    "\n",
    "    fig.savefig(png_file, facecolor='w', edgecolor='w',\n",
    "                orientation='landscape', dpi=png_dpi, bbox_inches='tight')\n",
    "\n",
    "    # Now resize the image to be width 1000px for the\n",
    "    # keelingcurve website\n",
    "    img = Image.open(png_file)\n",
    "    img_width, img_height = img.size\n",
    "\n",
    "    # width_px = 1000\n",
    "    # img_scale = (width_px / img_width)\n",
    "    # height_px = int((float(img_height) * float(img_scale)))\n",
    "\n",
    "    height_px = 500\n",
    "    img_scale = (height_px / img_height)\n",
    "    width_px = int((float(img_width) * float(img_scale)))\n",
    "\n",
    "    #img = img.resize((width_px, height_px), Image.Resampling.LANCZOS)\n",
    "    img = img.resize((width_px, height_px), Image.ANTIALIAS)\n",
    "    img.save(png_file)\n"
   ]
  },
  {
   "cell_type": "markdown",
   "id": "dbcb78cc",
   "metadata": {},
   "source": [
    "### Function to create a Context Manager\n",
    "\n",
    "This allows a message to display in a cell while a function is running.\n",
    "Usefull for indicating a function is running."
   ]
  },
  {
   "cell_type": "code",
   "execution_count": 36,
   "id": "f1b73a50",
   "metadata": {},
   "outputs": [],
   "source": [
    "class ShowProgressContextManagerWidgets:\n",
    "\n",
    "    def __init__(self, out, command=''):\n",
    "        self.out = out\n",
    "        self.command = command\n",
    "        \n",
    "    def __enter__(self):\n",
    "        css_style = \"<style>span.start { margin:0; padding: 0; color: blue; }</style>\"\n",
    "        html_str = f'<span class=\"start\">Running {self.command}...</span>'\n",
    "\n",
    "        self.out.clear_output()\n",
    "        \n",
    "        with self.out:\n",
    "            display(HTML(css_style))\n",
    "            display(HTML(html_str))\n",
    "\n",
    "        \n",
    "    def __exit__(self, exc_type, exc_value, exc_tb):\n",
    "        \n",
    "        css_style = \"<style>span.end { margin: 0; padding: 0; color: green; }</style>\"\n",
    "        html_str = '<span class=\"end\">Finished</span>'\n",
    "\n",
    "        self.out.clear_output()\n",
    "\n",
    "        with self.out:\n",
    "            display(HTML(css_style)) \n",
    "            display(HTML(html_str))\n"
   ]
  },
  {
   "cell_type": "markdown",
   "id": "e85d9dd3",
   "metadata": {},
   "source": [
    "# **Steps to create the graphic**\n",
    "\n",
    "### Change any properties in the section [Functions to modify the graphic](#functions-to-modify-graphic)\n",
    "\n",
    "### Comment out any function in the overall function [create_graphic](#function-to-create-the-graphic) to remove an element from the final graphic\n",
    "\n",
    "Comment out a line by adding a # symbol in front of a statement\n"
   ]
  },
  {
   "cell_type": "markdown",
   "id": "a1adeea6",
   "metadata": {},
   "source": [
    "## **Set properties to use for matplotlib (plotting engine)**"
   ]
  },
  {
   "cell_type": "code",
   "execution_count": 37,
   "id": "358c37c8",
   "metadata": {},
   "outputs": [],
   "source": [
    "set_matplotlib_properties()"
   ]
  },
  {
   "cell_type": "markdown",
   "id": "xIBU0Rl41TG6",
   "metadata": {
    "id": "xIBU0Rl41TG6"
   },
   "source": [
    "## **Set plot limits and labeling**"
   ]
  },
  {
   "cell_type": "markdown",
   "id": "59M_n3lw1TG7",
   "metadata": {
    "id": "59M_n3lw1TG7"
   },
   "source": [
    "#### Get todays date in various formats for labeling|"
   ]
  },
  {
   "cell_type": "code",
   "execution_count": 38,
   "id": "6okYyZMr1TG7",
   "metadata": {
    "id": "6okYyZMr1TG7"
   },
   "outputs": [],
   "source": [
    "todays_date_moyr, todays_date_modyyr, todays_decimal, todays_year = get_todays_date_variations()"
   ]
  },
  {
   "cell_type": "markdown",
   "id": "vSwdgHLX1TG7",
   "metadata": {
    "id": "vSwdgHLX1TG7"
   },
   "source": [
    "### Set titles and axes labels"
   ]
  },
  {
   "cell_type": "code",
   "execution_count": 39,
   "id": "YuKhs1yd1TG7",
   "metadata": {
    "id": "YuKhs1yd1TG7"
   },
   "outputs": [],
   "source": [
    "xlabel = 'Years (C.E.)'\n",
    "ylabel = \"$\\mathregular{CO}\\\\bf{_2}$\" + \" Concentration (ppm)\"\n",
    "\n",
    "title1 = \"\"\n",
    "title2 = \"Mauna Loa data starting in 1958. Ice-core data before 1958.\""
   ]
  },
  {
   "cell_type": "markdown",
   "id": "rHEMl8Qy1TG7",
   "metadata": {
    "id": "rHEMl8Qy1TG7"
   },
   "source": [
    "### Set yaxis min and max limits"
   ]
  },
  {
   "cell_type": "code",
   "execution_count": 40,
   "id": "HmG2Uaco1TG8",
   "metadata": {
    "id": "HmG2Uaco1TG8"
   },
   "outputs": [],
   "source": [
    "ymin = 200\n",
    "ymax = 430"
   ]
  },
  {
   "cell_type": "markdown",
   "id": "PNvVRM_V1TG8",
   "metadata": {
    "id": "PNvVRM_V1TG8"
   },
   "source": [
    "### Set xaxis min and max limits"
   ]
  },
  {
   "cell_type": "code",
   "execution_count": 41,
   "id": "4jf5RiJH1TG8",
   "metadata": {
    "id": "4jf5RiJH1TG8"
   },
   "outputs": [],
   "source": [
    "xmin = 1700\n",
    "xmax = todays_decimal"
   ]
  },
  {
   "cell_type": "markdown",
   "id": "Zw_4F2tr1TG8",
   "metadata": {
    "id": "Zw_4F2tr1TG8"
   },
   "source": [
    "<a name=\"function-to-create-the-graphic\"></a>\n",
    "## **Function to create the graphic**"
   ]
  },
  {
   "cell_type": "code",
   "execution_count": 42,
   "id": "gRtAsnrm1TG8",
   "metadata": {
    "colab": {
     "base_uri": "https://localhost:8080/",
     "height": 411
    },
    "id": "gRtAsnrm1TG8",
    "outputId": "026c416c-fbfd-44fe-bd8a-c11bccb808e8"
   },
   "outputs": [],
   "source": [
    "def create_graphic(msg_out, graphic_out, xmin, xmax, ymin, ymax, xlabel, ylabel, title1, title2, combined_years, combined_co2, btn):\n",
    "\n",
    "    msg_out.clear_output()\n",
    "    graphic_out.clear_output()\n",
    "\n",
    "    # create a figure container\n",
    "    fig = plt.figure(figsize=(10, 7))\n",
    "\n",
    "    # Set axes\n",
    "    # Add padding for exterior plot text\n",
    "    ax = plt.axes([0.11, 0.12, 0.83, 0.54])\n",
    "\n",
    "    # ---------------------------------------------------\n",
    "    # Context manager \n",
    "    # \n",
    "    # Used to show messages while creating the animiation\n",
    "    # ---------------------------------------------------\n",
    "\n",
    "    with ShowProgressContextManagerWidgets(msg_out, 'Create Graphic') as progress:\n",
    "\n",
    "        # ------------------------\n",
    "        # Add gradient under curve\n",
    "        # ------------------------\n",
    "\n",
    "        # The gradient is a guide to the eye\n",
    "\n",
    "        # Set gradient limits to the data limits\n",
    "        data_start_date = min(combined_years)\n",
    "        data_end_date = max(combined_years)\n",
    "\n",
    "        area_color = '#73a7e6'\n",
    "\n",
    "        gradient_fill(combined_years, combined_co2, fill_color=area_color, \n",
    "                    xmin=data_start_date, ymin=ymin, xmax=data_end_date, \n",
    "                    ymax=ymax, ax=ax, alpha_bottom=0.1, alpha=1.0)\n",
    "\n",
    "        # -------------\n",
    "        # Plot the data\n",
    "        # -------------\n",
    "\n",
    "        # Set plotting zorder above the gradientZ\n",
    "        ax.plot(combined_years, combined_co2, '-', color='black', linewidth=0.75, zorder=5)\n",
    "\n",
    "        # -------------------\n",
    "        # Set plot properties\n",
    "        # -------------------\n",
    "        set_plot_props(ax, fig, xmin, xmax, ymin, ymax, xlabel, ylabel)\n",
    "\n",
    "        # ---------------\n",
    "        # Add plot titles\n",
    "        # ---------------\n",
    "        add_plot_title(ax, title1, title2)\n",
    "\n",
    "        # --------------\n",
    "        # Add inset text\n",
    "        # --------------\n",
    "        inset_text = f'Last updated {todays_date_modyyr}'\n",
    "        add_inset_label(ax, inset_text)\n",
    "\n",
    "        # ------------\n",
    "        # Save graphic\n",
    "        # ------------\n",
    "        fig = plt.gcf()\n",
    "\n",
    "        save_graphic(fig, pdf_file, png_file)\n",
    "\n",
    "    with graphic_out:\n",
    "\n",
    "        plt.show()"
   ]
  },
  {
   "cell_type": "markdown",
   "id": "3fbeba4c",
   "metadata": {},
   "source": [
    "<a name='button-to-create-and-save-the-graphic'></a>\n",
    "## **Button to create and save the graphic**"
   ]
  },
  {
   "cell_type": "code",
   "execution_count": 43,
   "id": "f7840b6f",
   "metadata": {},
   "outputs": [
    {
     "data": {
      "application/vnd.jupyter.widget-view+json": {
       "model_id": "d7244e86d55849b18392329eb96735a0",
       "version_major": 2,
       "version_minor": 0
      },
      "text/plain": [
       "Button(button_style='primary', description='Create Graphic', style=ButtonStyle())"
      ]
     },
     "metadata": {},
     "output_type": "display_data"
    },
    {
     "data": {
      "application/vnd.jupyter.widget-view+json": {
       "model_id": "c79e53c1127c4795b11849628dd19dc0",
       "version_major": 2,
       "version_minor": 0
      },
      "text/plain": [
       "Output()"
      ]
     },
     "metadata": {},
     "output_type": "display_data"
    },
    {
     "data": {
      "application/vnd.jupyter.widget-view+json": {
       "model_id": "0e8e5206f3ab48af899a4710ac82aa03",
       "version_major": 2,
       "version_minor": 0
      },
      "text/plain": [
       "Output()"
      ]
     },
     "metadata": {},
     "output_type": "display_data"
    }
   ],
   "source": [
    "msg_out = widgets.Output()\n",
    "graphic_out = widgets.Output()\n",
    "\n",
    "button = widgets.Button(description='Create Graphic', button_style='primary')\n",
    "button.on_click(functools.partial(create_graphic, msg_out, graphic_out, xmin, xmax, ymin, ymax, xlabel, ylabel, title1, title2, combined_years, combined_co2))\n",
    "display(button)\n",
    "\n",
    "display(msg_out)\n",
    "display(graphic_out)"
   ]
  },
  {
   "cell_type": "markdown",
   "id": "Yj1XC5fDA6W_",
   "metadata": {
    "id": "Yj1XC5fDA6W_"
   },
   "source": [
    "## **Button to download PDF & PNG files of the graphic**\n",
    "\n",
    "The download button only works when the notebook is run with Google Colab\n",
    "\n",
    "If the notebook is run on a local machine, the graphics are inside the plots directory"
   ]
  },
  {
   "cell_type": "code",
   "execution_count": 44,
   "id": "JsbbGAbWBDFU",
   "metadata": {
    "colab": {
     "base_uri": "https://localhost:8080/",
     "height": 49,
     "referenced_widgets": [
      "d85451af5ea34a38ad02c61167090c63",
      "f62ccc8bd8764933b6cf4852bb41ec99",
      "ab179c6a985441ee8c93c6200d83067b"
     ]
    },
    "id": "JsbbGAbWBDFU",
    "outputId": "61faa9f2-f283-4657-be00-08325d28b299"
   },
   "outputs": [
    {
     "data": {
      "application/vnd.jupyter.widget-view+json": {
       "model_id": "007819d99026448483c4c425e90fbd0e",
       "version_major": 2,
       "version_minor": 0
      },
      "text/plain": [
       "Button(button_style='primary', description='Download Graphic Files', layout=Layout(height='auto', width='auto'…"
      ]
     },
     "metadata": {},
     "output_type": "display_data"
    },
    {
     "data": {
      "application/vnd.jupyter.widget-view+json": {
       "model_id": "c6f24534be224f988dbe26741dc22c2c",
       "version_major": 2,
       "version_minor": 0
      },
      "text/plain": [
       "Output()"
      ]
     },
     "metadata": {},
     "output_type": "display_data"
    }
   ],
   "source": [
    "def download_files(msg_out, btn):\n",
    "\n",
    "    msg_out.clear_output()\n",
    "\n",
    "    try:\n",
    "        files.download(png_file)\n",
    "        files.download(pdf_file)\n",
    "    except:\n",
    "        with msg_out:\n",
    "            print(\"If running notebook in Google Colab:\")\n",
    "            print(\"Need to create the graphic first.\")\n",
    "            print(f\"\\nIf running in a python environment, the graphics are in the plots directory.\")\n",
    "\n",
    "\n",
    "msg_out = widgets.Output()\n",
    "\n",
    "button = widgets.Button(description=\"Download Graphic Files\", button_style=\"primary\")\n",
    "\n",
    "layout = widgets.Layout(width='auto', height='auto') #set width and height\n",
    "\n",
    "button = widgets.Button(\n",
    "    description='Download Graphic Files',\n",
    "    disabled=False,\n",
    "    display='flex',\n",
    "    flex_flow='column',\n",
    "    align_items='stretch', \n",
    "    button_style='primary',\n",
    "    layout = layout\n",
    ")   \n",
    "\n",
    "button.on_click(functools.partial(download_files, msg_out))\n",
    "\n",
    "display(button)\n",
    "display(msg_out)"
   ]
  },
  {
   "cell_type": "code",
   "execution_count": null,
   "id": "B7NKCiz61TG8",
   "metadata": {
    "id": "B7NKCiz61TG8"
   },
   "outputs": [],
   "source": []
  }
 ],
 "metadata": {
  "colab": {
   "include_colab_link": true,
   "name": "create_graphic_icecore_start_1700_ce_keelingcurve.ipynb",
   "provenance": []
  },
  "kernelspec": {
   "display_name": "Python 3 (ipykernel)",
   "language": "python",
   "name": "python3"
  },
  "language_info": {
   "codemirror_mode": {
    "name": "ipython",
    "version": 3
   },
   "file_extension": ".py",
   "mimetype": "text/x-python",
   "name": "python",
   "nbconvert_exporter": "python",
   "pygments_lexer": "ipython3",
   "version": "3.8.5"
  },
  "title": "create_graphic_icecore_start_1700_ce_keelingcurve.ipynb",
  "vscode": {
   "interpreter": {
    "hash": "756fd7f3f44ab1b408c61a336bc63dd8b2b1c2a4bc9346285fbb85e9c22b620b"
   }
  },
  "widgets": {
   "application/vnd.jupyter.widget-state+json": {
    "ab179c6a985441ee8c93c6200d83067b": {
     "model_module": "@jupyter-widgets/base",
     "model_module_version": "1.2.0",
     "model_name": "LayoutModel",
     "state": {
      "_model_module": "@jupyter-widgets/base",
      "_model_module_version": "1.2.0",
      "_model_name": "LayoutModel",
      "_view_count": null,
      "_view_module": "@jupyter-widgets/base",
      "_view_module_version": "1.2.0",
      "_view_name": "LayoutView",
      "align_content": null,
      "align_items": null,
      "align_self": null,
      "border": null,
      "bottom": null,
      "display": null,
      "flex": null,
      "flex_flow": null,
      "grid_area": null,
      "grid_auto_columns": null,
      "grid_auto_flow": null,
      "grid_auto_rows": null,
      "grid_column": null,
      "grid_gap": null,
      "grid_row": null,
      "grid_template_areas": null,
      "grid_template_columns": null,
      "grid_template_rows": null,
      "height": null,
      "justify_content": null,
      "justify_items": null,
      "left": null,
      "margin": null,
      "max_height": null,
      "max_width": null,
      "min_height": null,
      "min_width": null,
      "object_fit": null,
      "object_position": null,
      "order": null,
      "overflow": null,
      "overflow_x": null,
      "overflow_y": null,
      "padding": null,
      "right": null,
      "top": null,
      "visibility": null,
      "width": null
     }
    },
    "d85451af5ea34a38ad02c61167090c63": {
     "model_module": "@jupyter-widgets/controls",
     "model_module_version": "1.5.0",
     "model_name": "ButtonModel",
     "state": {
      "_dom_classes": [],
      "_model_module": "@jupyter-widgets/controls",
      "_model_module_version": "1.5.0",
      "_model_name": "ButtonModel",
      "_view_count": null,
      "_view_module": "@jupyter-widgets/controls",
      "_view_module_version": "1.5.0",
      "_view_name": "ButtonView",
      "button_style": "primary",
      "description": "Download Files",
      "disabled": false,
      "icon": "",
      "layout": "IPY_MODEL_ab179c6a985441ee8c93c6200d83067b",
      "style": "IPY_MODEL_f62ccc8bd8764933b6cf4852bb41ec99",
      "tooltip": ""
     }
    },
    "f62ccc8bd8764933b6cf4852bb41ec99": {
     "model_module": "@jupyter-widgets/controls",
     "model_module_version": "1.5.0",
     "model_name": "ButtonStyleModel",
     "state": {
      "_model_module": "@jupyter-widgets/controls",
      "_model_module_version": "1.5.0",
      "_model_name": "ButtonStyleModel",
      "_view_count": null,
      "_view_module": "@jupyter-widgets/base",
      "_view_module_version": "1.2.0",
      "_view_name": "StyleView",
      "button_color": null,
      "font_weight": ""
     }
    }
   }
  }
 },
 "nbformat": 4,
 "nbformat_minor": 5
}
