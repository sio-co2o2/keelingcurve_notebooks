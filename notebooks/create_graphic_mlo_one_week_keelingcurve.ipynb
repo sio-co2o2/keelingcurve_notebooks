{
 "cells": [
  {
   "cell_type": "markdown",
   "id": "97c8b08e",
   "metadata": {
    "colab_type": "text",
    "id": "view-in-github"
   },
   "source": [
    "<a href=\"https://colab.research.google.com/github/sio-co2o2/keelingcurve_notebooks/blob/main/notebooks/create_graphic_mlo_one_week_keelingcurve.ipynb\" target=\"_parent\"><img src=\"https://colab.research.google.com/assets/colab-badge.svg\" alt=\"Open In Colab\"/></a>"
   ]
  },
  {
   "cell_type": "markdown",
   "id": "Sb2FjadjB1zn",
   "metadata": {
    "id": "Sb2FjadjB1zn"
   },
   "source": [
    "# Create a graphic appearing on the Keeling Curve website\n",
    "### **Graphic: CO<sub>2</sub> record at Mauna Loa, Hawaii for the last week**"
   ]
  },
  {
   "cell_type": "markdown",
   "id": "2PSHz5OjB1zq",
   "metadata": {
    "id": "2PSHz5OjB1zq"
   },
   "source": [
    "#### This notebook creates customizable PDF and PNG images of a graphic appearing on the front page of [https://keelingcurve.ucsd.edu](keelingcurve.ucsd.edu).\n",
    "\n",
    "See an overview of the Keeling Curve notebooks at [notebooks overview](https://colab.research.google.com/github/sio-co2o2/keelingcurve_notebooks/blob/main/notebooks/overview_of_notebooks_keelingcurve.ipynb)"
   ]
  },
  {
   "cell_type": "markdown",
   "id": "4eaedc7d",
   "metadata": {},
   "source": [
    "#### Sample of the graphic produced by this notebook"
   ]
  },
  {
   "cell_type": "markdown",
   "id": "398d7ece",
   "metadata": {},
   "source": [
    "![title](https://github.com/sio-co2o2/keelingcurve_notebooks/blob/main/images/sample_plots/mlo_one_week.png?raw=1)"
   ]
  },
  {
   "cell_type": "markdown",
   "id": "93d4479e",
   "metadata": {},
   "source": [
    "## **Notebook Code**"
   ]
  },
  {
   "cell_type": "markdown",
   "id": "GGTd63Q3B1zr",
   "metadata": {
    "id": "GGTd63Q3B1zr"
   },
   "source": [
    "### Import python packages"
   ]
  },
  {
   "cell_type": "code",
   "execution_count": 1,
   "id": "OR3Um-cXB1zr",
   "metadata": {
    "id": "OR3Um-cXB1zr"
   },
   "outputs": [],
   "source": [
    "import re\n",
    "import pandas as pd\n",
    "import numpy as np\n",
    "from datetime import datetime, date, timedelta\n",
    "from dateutil.relativedelta import relativedelta\n",
    "import pathlib\n",
    "import matplotlib.image as mpimg\n",
    "import matplotlib.pyplot as plt\n",
    "from matplotlib.pyplot import figure\n",
    "from matplotlib.ticker import (MultipleLocator, AutoMinorLocator)\n",
    "from matplotlib import ticker\n",
    "from matplotlib import rc,rcParams\n",
    "from matplotlib.path import Path\n",
    "import matplotlib.colors as mcolors\n",
    "from matplotlib.patches import Polygon\n",
    "import matplotlib.dates as mdates\n",
    "import matplotlib.lines as mlines\n",
    "from scipy.interpolate import UnivariateSpline\n",
    "from scipy import interpolate\n",
    "import matplotlib.transforms\n",
    "from matplotlib import animation\n",
    "from ipywidgets import widgets\n",
    "from IPython.display import HTML, display\n",
    "from base64 import b64encode\n",
    "from PIL import Image\n",
    "import urllib\n",
    "import os\n",
    "\n",
    "%matplotlib inline"
   ]
  },
  {
   "cell_type": "code",
   "execution_count": 2,
   "id": "911e0a11",
   "metadata": {},
   "outputs": [],
   "source": [
    "# This package is used to convert a vector svg into a png\n",
    "\n",
    "try:\n",
    "  from cairosvg import svg2png\n",
    "except:\n",
    "  ! pip install cairosvg"
   ]
  },
  {
   "cell_type": "code",
   "execution_count": 3,
   "id": "7cf81f83-218e-4ea6-a696-744f828567cb",
   "metadata": {},
   "outputs": [],
   "source": [
    "# This import is to enable Google Colab to save files ane then download them\n",
    "\n",
    "# This import does not exist unless the notebook is run in Google Colab\n",
    "# Put in a try except block if user wants to use notebook off of Google Colab\n",
    "\n",
    "try:\n",
    "    from google.colab import files\n",
    "except:\n",
    "    pass"
   ]
  },
  {
   "cell_type": "markdown",
   "id": "tghi9jH5B1zt",
   "metadata": {
    "id": "tghi9jH5B1zt"
   },
   "source": [
    "### Set directories and file names"
   ]
  },
  {
   "cell_type": "code",
   "execution_count": 4,
   "id": "LTxPcMtCB1zt",
   "metadata": {
    "id": "LTxPcMtCB1zt"
   },
   "outputs": [],
   "source": [
    "# Read in data from github repository\n",
    "# One week of data is part of this file\n",
    "data_file = 'https://raw.githubusercontent.com/sio-co2o2/keelingcurve_notebooks/main/data/mlo/mlo_one_month_span.csv'\n",
    "\n",
    "logo_file = 'https://github.com/sio-co2o2/keelingcurve_notebooks/raw/main/images/ucsd_sio_logo.svg'\n",
    "\n",
    "plot_dir = pathlib.Path('./plots')\n",
    "plot_dir.mkdir(exist_ok=True)\n",
    "\n",
    "plot_basename = 'mlo_one_week'\n",
    "\n",
    "pdf_file = plot_dir / f\"{plot_basename}.pdf\"\n",
    "png_file = plot_dir / f\"{plot_basename}.png\""
   ]
  },
  {
   "cell_type": "markdown",
   "id": "ZroDtvIHB1zu",
   "metadata": {
    "id": "ZroDtvIHB1zu"
   },
   "source": [
    "## **Load in data and prepare it for plotting**"
   ]
  },
  {
   "cell_type": "markdown",
   "id": "38211324",
   "metadata": {},
   "source": [
    "### Load in MLO record"
   ]
  },
  {
   "cell_type": "code",
   "execution_count": 5,
   "id": "0wxM3YHRB1zu",
   "metadata": {
    "colab": {
     "base_uri": "https://localhost:8080/",
     "height": 206
    },
    "id": "0wxM3YHRB1zu",
    "outputId": "4cd3fc54-f872-4963-a8bf-7399a2b75cd8"
   },
   "outputs": [
    {
     "data": {
      "text/html": [
       "<div>\n",
       "<style scoped>\n",
       "    .dataframe tbody tr th:only-of-type {\n",
       "        vertical-align: middle;\n",
       "    }\n",
       "\n",
       "    .dataframe tbody tr th {\n",
       "        vertical-align: top;\n",
       "    }\n",
       "\n",
       "    .dataframe thead th {\n",
       "        text-align: right;\n",
       "    }\n",
       "</style>\n",
       "<table border=\"1\" class=\"dataframe\">\n",
       "  <thead>\n",
       "    <tr style=\"text-align: right;\">\n",
       "      <th></th>\n",
       "      <th>date_hr</th>\n",
       "      <th>co2_hr</th>\n",
       "      <th>date_dy</th>\n",
       "      <th>co2_dy</th>\n",
       "      <th>date_wk</th>\n",
       "      <th>co2_wk</th>\n",
       "    </tr>\n",
       "  </thead>\n",
       "  <tbody>\n",
       "    <tr>\n",
       "      <th>0</th>\n",
       "      <td>2022.723314</td>\n",
       "      <td>414.48</td>\n",
       "      <td>2022.724658</td>\n",
       "      <td>414.33</td>\n",
       "      <td>2022.728767</td>\n",
       "      <td>414.82</td>\n",
       "    </tr>\n",
       "    <tr>\n",
       "      <th>1</th>\n",
       "      <td>2022.723352</td>\n",
       "      <td>414.42</td>\n",
       "      <td>2022.727397</td>\n",
       "      <td>414.43</td>\n",
       "      <td>2022.747945</td>\n",
       "      <td>415.12</td>\n",
       "    </tr>\n",
       "    <tr>\n",
       "      <th>2</th>\n",
       "      <td>2022.723390</td>\n",
       "      <td>414.41</td>\n",
       "      <td>2022.732877</td>\n",
       "      <td>415.35</td>\n",
       "      <td>2022.767123</td>\n",
       "      <td>414.85</td>\n",
       "    </tr>\n",
       "    <tr>\n",
       "      <th>3</th>\n",
       "      <td>2022.723428</td>\n",
       "      <td>414.41</td>\n",
       "      <td>2022.735616</td>\n",
       "      <td>414.75</td>\n",
       "      <td>2022.786301</td>\n",
       "      <td>415.31</td>\n",
       "    </tr>\n",
       "    <tr>\n",
       "      <th>4</th>\n",
       "      <td>2022.723465</td>\n",
       "      <td>414.40</td>\n",
       "      <td>2022.738356</td>\n",
       "      <td>414.93</td>\n",
       "      <td>2022.805479</td>\n",
       "      <td>415.60</td>\n",
       "    </tr>\n",
       "  </tbody>\n",
       "</table>\n",
       "</div>"
      ],
      "text/plain": [
       "       date_hr  co2_hr      date_dy  co2_dy      date_wk  co2_wk\n",
       "0  2022.723314  414.48  2022.724658  414.33  2022.728767  414.82\n",
       "1  2022.723352  414.42  2022.727397  414.43  2022.747945  415.12\n",
       "2  2022.723390  414.41  2022.732877  415.35  2022.767123  414.85\n",
       "3  2022.723428  414.41  2022.735616  414.75  2022.786301  415.31\n",
       "4  2022.723465  414.40  2022.738356  414.93  2022.805479  415.60"
      ]
     },
     "execution_count": 5,
     "metadata": {},
     "output_type": "execute_result"
    }
   ],
   "source": [
    "df = pd.read_csv(data_file,sep=',',comment='\"')\n",
    "df.head()"
   ]
  },
  {
   "cell_type": "markdown",
   "id": "rQcKx1mSB1zv",
   "metadata": {
    "id": "rQcKx1mSB1zv"
   },
   "source": [
    "### Break into dataframes for each time frequency"
   ]
  },
  {
   "cell_type": "code",
   "execution_count": 6,
   "id": "C8Md-_N7B1zw",
   "metadata": {
    "id": "C8Md-_N7B1zw"
   },
   "outputs": [],
   "source": [
    "df_hourly = df[['date_hr', 'co2_hr']].copy()\n",
    "df_daily = df[['date_dy', 'co2_dy']].copy()"
   ]
  },
  {
   "cell_type": "markdown",
   "id": "5P8VWag_B1zw",
   "metadata": {
    "id": "5P8VWag_B1zw"
   },
   "source": [
    "### Remove rows with fill values NaN"
   ]
  },
  {
   "cell_type": "code",
   "execution_count": 7,
   "id": "MCT4LQSRB1zx",
   "metadata": {
    "id": "MCT4LQSRB1zx",
    "scrolled": true
   },
   "outputs": [],
   "source": [
    "df_hourly = df_hourly[df_hourly['co2_hr'].notnull()]\n",
    "df_daily = df_daily[df_daily['co2_dy'].notnull()]"
   ]
  },
  {
   "cell_type": "markdown",
   "id": "y1gIhAndB1zx",
   "metadata": {
    "id": "y1gIhAndB1zx"
   },
   "source": [
    "### Convert to numpy arrays for plotting"
   ]
  },
  {
   "cell_type": "code",
   "execution_count": 8,
   "id": "llV7-2xXB1zx",
   "metadata": {
    "id": "llV7-2xXB1zx"
   },
   "outputs": [],
   "source": [
    "date_hourly = df_hourly['date_hr'].to_numpy()\n",
    "co2_hourly = df_hourly['co2_hr'].to_numpy()\n",
    "date_daily = df_daily['date_dy'].to_numpy()\n",
    "co2_daily = df_daily['co2_dy'].to_numpy()"
   ]
  },
  {
   "cell_type": "markdown",
   "id": "90dc3913",
   "metadata": {},
   "source": [
    "## **Define accessory functions**"
   ]
  },
  {
   "cell_type": "markdown",
   "id": "03010ebe",
   "metadata": {},
   "source": [
    "## Functions to convert dates into various formats\n",
    "Used for plot limits and labeling"
   ]
  },
  {
   "cell_type": "code",
   "execution_count": 9,
   "id": "oy33sFZjB1z2",
   "metadata": {
    "id": "oy33sFZjB1z2"
   },
   "outputs": [],
   "source": [
    "# Function to convert datetime to a float\n",
    "def dt2t(adatetime):\n",
    "    \"\"\"\n",
    "    Convert adatetime into a float. The integer part of the float should\n",
    "    represent the year.\n",
    "    Order should be preserved. If adate<bdate, then d2t(adate)<d2t(bdate)\n",
    "    time distances should be preserved: If bdate-adate=ddate-cdate then\n",
    "    dt2t(bdate)-dt2t(adate) = dt2t(ddate)-dt2t(cdate)\n",
    "    \"\"\"\n",
    "    year = adatetime.year\n",
    "    boy = datetime(year, 1, 1)\n",
    "    eoy = datetime(year + 1, 1, 1)\n",
    "    return year + ((adatetime - boy).total_seconds() / ((eoy - boy).total_seconds()))"
   ]
  },
  {
   "cell_type": "code",
   "execution_count": 10,
   "id": "IGoHDIXcB1z2",
   "metadata": {
    "id": "IGoHDIXcB1z2"
   },
   "outputs": [],
   "source": [
    "def get_todays_date_variations():\n",
    "    \n",
    "    now = datetime.now()\n",
    "    todays_decimal =  dt2t(now)\n",
    "    \n",
    "    today = date.today()\n",
    "\n",
    "    todays_day = today.day\n",
    "    todays_month = today.strftime(\"%B\")\n",
    "    todays_year = today.year\n",
    "    todays_date_moyr = today.strftime(\"%B %Y\")\n",
    "    todays_date_modyyr = f\"{todays_month} {todays_day}, {todays_year}\"\n",
    "\n",
    "    return todays_date_moyr, todays_date_modyyr, todays_decimal, todays_year"
   ]
  },
  {
   "cell_type": "code",
   "execution_count": 11,
   "id": "Nd9XfqJxB1z2",
   "metadata": {
    "id": "Nd9XfqJxB1z2"
   },
   "outputs": [],
   "source": [
    "#  https://stackoverflow.com/questions/19305991/convert-fractional-years-to-a-real-date-in-python\n",
    "def t2dt(atime):\n",
    "    \"\"\"\n",
    "    Convert atime (a float) to DT.datetime\n",
    "    This is the inverse of dt2t.\n",
    "    assert dt2t(t2dt(atime)) == atime\n",
    "    \"\"\"\n",
    "    year = int(atime)\n",
    "    remainder = atime - year\n",
    "    boy = datetime(year, 1, 1)\n",
    "    eoy = datetime(year + 1, 1, 1)\n",
    "    seconds = remainder * (eoy - boy).total_seconds()\n",
    "    return boy + timedelta(seconds=seconds)"
   ]
  },
  {
   "cell_type": "code",
   "execution_count": 12,
   "id": "47916f0e",
   "metadata": {},
   "outputs": [],
   "source": [
    "def get_data_end_date(date_data):\n",
    "    last_date = np.max(date_data)\n",
    "    last_date_datetime = t2dt(last_date)\n",
    "    \n",
    "    # Convert date format to month_name day, year\n",
    "    day = last_date_datetime.day\n",
    "    month = last_date_datetime.strftime(\"%B\")\n",
    "    year = last_date_datetime.year\n",
    "    date_modyyr = f\"{month} {day}, {year}\"\n",
    "    return date_modyyr"
   ]
  },
  {
   "cell_type": "markdown",
   "id": "D2LXZ3InB1zy",
   "metadata": {
    "id": "D2LXZ3InB1zy"
   },
   "source": [
    "## Function to create gradient under curve"
   ]
  },
  {
   "cell_type": "code",
   "execution_count": 13,
   "id": "7-W1ERwfB1zy",
   "metadata": {
    "id": "7-W1ERwfB1zy"
   },
   "outputs": [],
   "source": [
    "# https://stackoverflow.com/questions/29321835/is-it-possible-to-get-color-gradients-under-curve-in-matplotlib\n",
    "# Modified to add gradient below curve and have a bottom alpha\n",
    "\n",
    "# def gradient_fill(x, y, fill_color=None, ax=None, **kwargs):\n",
    "def gradient_fill(x, y, fill_color='#FFFFFF', xmin=None, ymin=None, xmax=None, \n",
    "                  ymax=None, alpha_bottom=None, ax=None, alpha=1, zorder=1, **kwargs):\n",
    "    \"\"\"\n",
    "    Plot a line with a linear alpha gradient filled beneath it.\n",
    "\n",
    "    Parameters\n",
    "    ----------\n",
    "    x, y : array-like\n",
    "        The data values of the line.\n",
    "    fill_color : a matplotlib color specifier (string, tuple) or None\n",
    "        The color for the fill. If None, the color of the line will be used.\n",
    "    ax : a matplotlib Axes instance\n",
    "        The axes to plot on. If None, the current pyplot axes will be used.\n",
    "    Additional arguments are passed on to matplotlib's ``plot`` function.\n",
    "\n",
    "    Returns\n",
    "    -------\n",
    "    line : a Line2D instance\n",
    "        The line plotted.\n",
    "    im : an AxesImage instance\n",
    "        The transparent gradient clipped to just the area beneath the curve.\n",
    "    \"\"\"\n",
    "    if ax is None:\n",
    "        ax = plt.gca()\n",
    "\n",
    "    # Only want the gradient to show\n",
    "    #line, = ax.plot(x, y, **kwargs)\n",
    "    #if fill_color is None:\n",
    "    #    fill_color = line.get_color()\n",
    "\n",
    "    if alpha_bottom is None:\n",
    "        alpha_bottom = 0\n",
    "\n",
    "    if xmin is None:\n",
    "        xmin = x.min()\n",
    "\n",
    "    if ymin is None:\n",
    "        ymin = y.min()\n",
    "        \n",
    "    if xmax is None:\n",
    "        xmax = x.max()\n",
    "\n",
    "    if ymax is None:\n",
    "        ymax = y.max()\n",
    "        \n",
    "    if zorder is None:\n",
    "        zorder = 1\n",
    "        \n",
    "    #zorder = line.get_zorder()\n",
    "    \n",
    "    #alpha = line.get_alpha()\n",
    "    #alpha = 1.0 if alpha is None else alpha\n",
    "\n",
    "    z = np.empty((100, 1, 4), dtype=float)\n",
    "    rgb = mcolors.colorConverter.to_rgb(fill_color)\n",
    "    z[:, :, :3] = rgb\n",
    "    #z[:,:,-1] = np.linspace(0, alpha, 100)[:,None]\n",
    "    z[:, :, -1] = np.linspace(alpha_bottom, alpha, 100)[:, None]\n",
    "\n",
    "    #xmin, xmax, ymin, ymax = x.min(), x.max(), y.min(), y.max()\n",
    "    \n",
    "    im = ax.imshow(z, aspect='auto', extent=[xmin, xmax, ymin, ymax],\n",
    "                   origin='lower', zorder=zorder)\n",
    "\n",
    "    xy = np.column_stack([x, y])\n",
    "    xy = np.vstack([[xmin, ymin], xy, [xmax, ymin], [xmin, ymin]])\n",
    "    clip_path = Polygon(xy, facecolor='none', edgecolor='none', closed=True)\n",
    "    ax.add_patch(clip_path)\n",
    "    im.set_clip_path(clip_path)\n",
    "    \n",
    "    ax.autoscale(True)\n",
    "    \n",
    "    #return line, im"
   ]
  },
  {
   "cell_type": "markdown",
   "id": "3f9cb5d1",
   "metadata": {},
   "source": [
    "## **Define functions that can modify the graphic**"
   ]
  },
  {
   "cell_type": "markdown",
   "id": "0b8359bf",
   "metadata": {},
   "source": [
    "### Function to set fonts and linewidth properties"
   ]
  },
  {
   "cell_type": "code",
   "execution_count": 14,
   "id": "7vYiAAHbB1zz",
   "metadata": {
    "id": "7vYiAAHbB1zz"
   },
   "outputs": [],
   "source": [
    "def set_matplotlib_properties():\n",
    "    \n",
    "    # Set default properties for matplotlib\n",
    "    \n",
    "    # Reset rcparams in case modified defaults in another notebook during same session \n",
    "    plt.rcParams.update(plt.rcParamsDefault)\n",
    "\n",
    "    plt.rcParams.update({'axes.linewidth':1.5})\n",
    "    \n",
    "    plt.rcParams.update({\n",
    "        \"text.usetex\": False,\n",
    "        \"font.family\": \"sans-serif\",\n",
    "        \"font.weight\":  \"normal\",\n",
    "        \"font.sans-serif\": [\"Arial\", \"Tahoma\", \"Helvetica\",\"FreeSans\", \"NimbusSans\", \"LiberationSans\",\"DejaVu Sans\"],\n",
    "        \"mathtext.default\":'regular',\n",
    "        \"mathtext.fontset\": \"dejavusans\"\n",
    "    })\n",
    "        \n",
    "    # http://phyletica.org/matplotlib-fonts/\n",
    "    # This causes matplotlib to use Type 42 (a.k.a. TrueType) fonts \n",
    "    # for PostScript and PDF files. This allows you to avoid Type 3 fonts.\n",
    "    # Turning on usetex also works\n",
    "    # Needed on Ubuntu for pdf fonts \n",
    "    plt.rcParams.update({\n",
    "      'pdf.fonttype': 42,\n",
    "        'ps.fonttype': 42 \n",
    "    })"
   ]
  },
  {
   "cell_type": "markdown",
   "id": "7f7c3cd6",
   "metadata": {},
   "source": [
    "### Function to set axes properties of the graphic"
   ]
  },
  {
   "cell_type": "code",
   "execution_count": 15,
   "id": "0knyxVfMB1z0",
   "metadata": {
    "id": "0knyxVfMB1z0"
   },
   "outputs": [],
   "source": [
    "def set_plot_props(ax, fig, xmin, xmax, ymin, ymax, xlabel, ylabel):\n",
    "\n",
    "    # ---------------------------------\n",
    "    # Plot properties for website plots\n",
    "    # ---------------------------------\n",
    "\n",
    "    # Allow room at top for the 2 titles\n",
    "    fig.subplots_adjust(top=0.85)\n",
    "\n",
    "    ax.tick_params(which='both', bottom=True, top=True, left=True, right=True)\n",
    "\n",
    "    ax.tick_params(axis='x', labelsize=14, pad=5)\n",
    "    ax.tick_params(axis='y', labelsize=16)\n",
    "\n",
    "    ax.tick_params(axis='x', which='major', direction='in', length=8, width=1)\n",
    "    ax.tick_params(axis='y', which='major', direction='in', length=8, width=1)\n",
    "\n",
    "    tick_spacing = 5\n",
    "    ax.yaxis.set_major_locator(ticker.MultipleLocator(tick_spacing))\n",
    "\n",
    "    labels = ax.get_xticklabels() + ax.get_yticklabels()\n",
    "    for label in labels: label.set_fontweight('bold')  \n",
    "\n",
    "    ax.tick_params(axis='x', which='minor', direction='in', length=6)\n",
    "    ax.tick_params(axis='y', which='minor', direction='in', length=4)\n",
    "\n",
    "    ax.yaxis.set_minor_locator(AutoMinorLocator(5))\n",
    "\n",
    "    ax.set_xlabel(xlabel, fontweight='bold', fontsize=18, labelpad=5)\n",
    "    ax.set_ylabel(ylabel, fontweight='bold', fontsize=18, labelpad=5)\n",
    "\n",
    "    # Set axes limits last \n",
    "    # If did before, setting xtick labels past xmin & xmax would have\n",
    "    # extended the plot limits\n",
    "    ax.set_xlim(xmin, xmax)\n",
    "    ax.set_ylim(ymin, ymax)"
   ]
  },
  {
   "cell_type": "markdown",
   "id": "d8e5a96f",
   "metadata": {},
   "source": [
    "### Function to create text tick labels"
   ]
  },
  {
   "cell_type": "code",
   "execution_count": 16,
   "id": "pEu1OMj5B1z0",
   "metadata": {
    "id": "pEu1OMj5B1z0"
   },
   "outputs": [],
   "source": [
    "def create_xtick_labels(ax):\n",
    "\n",
    "    # Major ticks\n",
    "    ax.xaxis.set_major_formatter(mdates.DateFormatter('%d'))\n",
    "\n",
    "    fmt_every_day = mdates.DayLocator(interval=1)\n",
    "    ax.xaxis.set_major_locator(fmt_every_day)\n",
    "\n",
    "    fmt_half_day = mdates.HourLocator(byhour=12)\n",
    "    ax.xaxis.set_minor_locator(fmt_half_day)\n",
    "    ax.xaxis.set_minor_formatter(mdates.DateFormatter('%H %p'))\n",
    "\n",
    "    ax.tick_params(axis='x', which='both', pad=8)\n"
   ]
  },
  {
   "cell_type": "markdown",
   "id": "3c14ce34",
   "metadata": {},
   "source": [
    "### Function to place the titles"
   ]
  },
  {
   "cell_type": "code",
   "execution_count": 17,
   "id": "5Zi3STV5B1z0",
   "metadata": {
    "id": "5Zi3STV5B1z0"
   },
   "outputs": [],
   "source": [
    "def add_plot_title(ax, title1, title2):\n",
    "\n",
    "    ax.annotate(title1, xy=(0, 1.15), xycoords='axes fraction', fontsize=14,\n",
    "                horizontalalignment='left', verticalalignment='top', fontweight=\"normal\")\n",
    "    ax.annotate(title2, xy=(0, 1.07), xycoords='axes fraction', fontsize=18,\n",
    "                horizontalalignment='left', verticalalignment='top', fontweight = 'bold')"
   ]
  },
  {
   "cell_type": "markdown",
   "id": "e49e24c4",
   "metadata": {},
   "source": [
    "### Function to add an inset label"
   ]
  },
  {
   "cell_type": "code",
   "execution_count": 18,
   "id": "EZJWCHzMB1z1",
   "metadata": {
    "id": "EZJWCHzMB1z1"
   },
   "outputs": [],
   "source": [
    "def add_inset_label(ax, label_start, today):\n",
    "    label_text = f\"{label_start} ending {today}\"\n",
    "    ax.annotate(label_text, xy=(0.03, 0.9), xycoords='axes fraction', fontsize=12,\n",
    "                horizontalalignment='left', verticalalignment='top')"
   ]
  },
  {
   "cell_type": "markdown",
   "id": "f20f23bd",
   "metadata": {},
   "source": [
    "### Function to add legend"
   ]
  },
  {
   "cell_type": "code",
   "execution_count": 19,
   "id": "hOw21YTHB1z1",
   "metadata": {
    "id": "hOw21YTHB1z1"
   },
   "outputs": [],
   "source": [
    "def add_legend_labels(ax):\n",
    "\n",
    "    legend_1 = 'Hourly average'\n",
    "    legend_2 = 'Daily average'\n",
    "\n",
    "    legend_properties = {'weight':'bold'}\n",
    "\n",
    "    gray = '#666666'\n",
    "    gray_dot = mlines.Line2D([], [], marker='o', color=gray, markersize=4,\n",
    "                             markerfacecolor=gray, markeredgecolor=gray, markeredgewidth=0, linestyle='None')\n",
    "\n",
    "    black_filled_circle = mlines.Line2D([], [], marker = 'o', color='black',markersize=6, \n",
    "             markerfacecolor='black', markeredgecolor='black', markeredgewidth=1, linestyle='None')\n",
    "\n",
    "    \n",
    "    # Use best placement for legend\n",
    "    plt.rc('legend',fontsize=12)\n",
    "    ax.legend([gray_dot, black_filled_circle,], [legend_1, legend_2],frameon=False,borderaxespad=1,labelspacing=0.2, prop=legend_properties)"
   ]
  },
  {
   "cell_type": "markdown",
   "id": "caa29e63",
   "metadata": {},
   "source": [
    "### Function to add the SIO logo"
   ]
  },
  {
   "cell_type": "code",
   "execution_count": 20,
   "id": "9b2d4808-d63f-4258-abff-0f393f657dea",
   "metadata": {},
   "outputs": [],
   "source": [
    "def add_sio_logo(fig, logo_file, xpos, ypos):\n",
    "\n",
    "    # Convert the logo svg file to a png file with the\n",
    "    # given scale and dpi\n",
    "    logo_png = 'logo.png'\n",
    "    svg2png(url=logo_file, write_to=logo_png, scale=10, dpi=300)\n",
    "\n",
    "    logo = mpimg.imread(logo_png)\n",
    "\n",
    "    fig.add_axes([xpos, ypos, 0.2, 0.2], anchor='SE', zorder=1)\n",
    "\n",
    "    plt.imshow(logo)\n",
    "    plt.axis('off')\n",
    "\n",
    "    # Delete the logo png version\n",
    "    os.remove(logo_png)\n"
   ]
  },
  {
   "cell_type": "markdown",
   "id": "912604f7",
   "metadata": {},
   "source": [
    "### Function to save the graphic"
   ]
  },
  {
   "cell_type": "code",
   "execution_count": 21,
   "id": "f9e903df-a5f0-4247-a4da-741530a305f8",
   "metadata": {},
   "outputs": [],
   "source": [
    "def save_graphic(fig, pdf_file, png_file):\n",
    "\n",
    "    fig_width, fig_height = fig.get_size_inches()\n",
    "\n",
    "    # For pdf\n",
    "    width_in = 10\n",
    "    height_in = (fig_height/fig_width) * width_in\n",
    "\n",
    "    fig.set_size_inches(width_in, height_in)\n",
    "\n",
    "    # Save to a high dpi so that logo png file has a high resolution\n",
    "    fig.savefig(pdf_file, facecolor='w', edgecolor='w',\n",
    "                orientation='landscape', format=None,\n",
    "                transparent=False, bbox_inches='tight', dpi=600)\n",
    "\n",
    "    # For png\n",
    "    # Want a png of height 500px\n",
    "\n",
    "    # First save figure as a png and then scale to size needed\n",
    "\n",
    "    png_dpi = 300\n",
    "\n",
    "    fig.savefig(png_file, facecolor='w', edgecolor='w',\n",
    "                orientation='landscape', dpi=png_dpi, bbox_inches='tight')\n",
    "\n",
    "    # Now resize the image to be width 1000px for the\n",
    "    # keelingcurve website\n",
    "    img = Image.open(png_file)\n",
    "    img_width, img_height = img.size\n",
    "\n",
    "    # width_px = 1000\n",
    "    # img_scale = (width_px / img_width)\n",
    "    # height_px = int((float(img_height) * float(img_scale)))\n",
    "\n",
    "    height_px = 500\n",
    "    img_scale = (height_px / img_height)\n",
    "    width_px = int((float(img_width) * float(img_scale)))\n",
    "\n",
    "    img = img.resize((width_px, height_px), Image.ANTIALIAS)\n",
    "    img.save(png_file)\n"
   ]
  },
  {
   "cell_type": "markdown",
   "id": "tq_fFCYOB1z1",
   "metadata": {
    "id": "tq_fFCYOB1z1"
   },
   "source": [
    "## **Set plot limits and labeling**"
   ]
  },
  {
   "cell_type": "markdown",
   "id": "uKfV5I1aB1z2",
   "metadata": {
    "id": "uKfV5I1aB1z2"
   },
   "source": [
    "### Set titles and axes labels"
   ]
  },
  {
   "cell_type": "code",
   "execution_count": 22,
   "id": "Q33a3bdjB1z2",
   "metadata": {
    "id": "Q33a3bdjB1z2"
   },
   "outputs": [],
   "source": [
    "xlabel = ''\n",
    "ylabel = \"$\\mathregular{CO}\\\\bf{_2}$\" + \" Concentration (ppm)\"\n",
    "\n",
    "title1 = ''\n",
    "title2 = 'Carbon dioxide concentration at Mauna Loa Observatory'"
   ]
  },
  {
   "cell_type": "markdown",
   "id": "sK4-R0iLB1z3",
   "metadata": {
    "id": "sK4-R0iLB1z3"
   },
   "source": [
    "### Set yaxis min and max limits"
   ]
  },
  {
   "cell_type": "code",
   "execution_count": 23,
   "id": "hZzmPpNwB1z3",
   "metadata": {
    "id": "hZzmPpNwB1z3"
   },
   "outputs": [],
   "source": [
    "ymin = 405\n",
    "ymax = 430"
   ]
  },
  {
   "cell_type": "markdown",
   "id": "9jP6N6_CB1z3",
   "metadata": {
    "id": "9jP6N6_CB1z3"
   },
   "source": [
    "### Set xaxis min and max limits as both dates and decimals"
   ]
  },
  {
   "cell_type": "code",
   "execution_count": 24,
   "id": "zrJDx6h8B1z3",
   "metadata": {
    "id": "zrJDx6h8B1z3"
   },
   "outputs": [],
   "source": [
    "now = datetime.now()\n",
    "time_ago = now + relativedelta(days=-7)\n",
    "\n",
    "xmin = time_ago\n",
    "xmax = now"
   ]
  },
  {
   "cell_type": "markdown",
   "id": "5LCXs5WHB1z3",
   "metadata": {
    "id": "5LCXs5WHB1z3"
   },
   "source": [
    "## **Steps to create the graphic**\n",
    "\n",
    "### Comment out any function to remove it from the graphic creation\n",
    "\n",
    "Comment out a line by adding a # symbol in front of a statement\n"
   ]
  },
  {
   "cell_type": "code",
   "execution_count": 25,
   "id": "4AF0AP5xB1z3",
   "metadata": {
    "colab": {
     "base_uri": "https://localhost:8080/",
     "height": 395
    },
    "id": "4AF0AP5xB1z3",
    "outputId": "2ab2fce1-5c13-45bb-e305-4835582e0190"
   },
   "outputs": [
    {
     "data": {
      "image/png": "[encoded data removed]",
      "text/plain": [
       "<Figure size 720x480 with 2 Axes>"
      ]
     },
     "metadata": {
      "needs_background": "light"
     },
     "output_type": "display_data"
    }
   ],
   "source": [
    "# create a figure container\n",
    "fig = plt.figure()\n",
    "\n",
    "# Set axes\n",
    "# Add padding for exterior plot text\n",
    "ax = plt.axes([0.11, 0.12, 0.83, 0.54])\n",
    "\n",
    "# ------------------------------------\n",
    "# Set properties to use for matplotlib\n",
    "# ------------------------------------\n",
    "\n",
    "set_matplotlib_properties()\n",
    "    \n",
    "# ---------------------------------------------\n",
    "# Convert decimal year to datetime for plotting\n",
    "# ---------------------------------------------\n",
    "\n",
    "datetime_hourly = np.array([t2dt(x) for x in date_hourly])\n",
    "datetime_daily = np.array([t2dt(x) for x in date_daily])\n",
    "\n",
    "# -------------\n",
    "# Plot the data\n",
    "# -------------\n",
    "\n",
    "gray = '#666666'\n",
    "ax.plot(datetime_hourly, co2_hourly, 'o', color=gray, markersize=4,\n",
    "        markerfacecolor=gray, markeredgecolor=gray, markeredgewidth=0, zorder=5)\n",
    "\n",
    "ax.plot(datetime_daily, co2_daily, 'o', color='black', markersize=6,\n",
    "        markerfacecolor='black', markeredgecolor='black', markeredgewidth=0, zorder=6)\n",
    "\n",
    "# -----------------------------------------------------\n",
    "# Change xaxis to use date labels and mark every 12 hr\n",
    "# -----------------------------------------------------\n",
    "create_xtick_labels(ax)\n",
    "\n",
    "# -------------------\n",
    "# Set plot properties\n",
    "# -------------------\n",
    "set_plot_props(ax, fig, xmin, xmax, ymin, ymax, xlabel, ylabel)\n",
    "\n",
    "# ------------------------------------------------\n",
    "# Get todays date in various formats for labeling\n",
    "# ------------------------------------------------\n",
    "todays_date_moyr, todays_date_modyyr, todays_decimal, todays_year = get_todays_date_variations()\n",
    "\n",
    "# ---------------\n",
    "# Add plot titles\n",
    "# ---------------\n",
    "add_plot_title(ax, title1, title2)\n",
    "\n",
    "# --------------\n",
    "# Add inset text\n",
    "# --------------\n",
    "add_inset_label(ax, 'Week', todays_date_modyyr)\n",
    "\n",
    "# ----------------\n",
    "# Add legend\n",
    "# ----------------\n",
    "add_legend_labels(ax)\n",
    "\n",
    "# --------------------\n",
    "# Add SIO logo to plot\n",
    "# --------------------\n",
    "xpos = 0.715\n",
    "ypos = 0.155\n",
    "\n",
    "add_sio_logo(fig, logo_file, xpos, ypos)\n",
    "\n",
    "# ------------\n",
    "# Save graphic\n",
    "# ------------\n",
    "fig = plt.gcf()\n",
    "\n",
    "save_graphic(fig, pdf_file, png_file)\n",
    "\n",
    "\n",
    "plt.show()"
   ]
  },
  {
   "cell_type": "markdown",
   "id": "1o49bFZeDICu",
   "metadata": {
    "id": "1o49bFZeDICu"
   },
   "source": [
    "## **Download PDF & PNG files of the graphic**\n",
    "\n",
    "The download button only works when the notebook is run with Google Colab\n",
    "\n",
    "If the notebook is run on a local machine, the graphics are inside the plots directory"
   ]
  },
  {
   "cell_type": "code",
   "execution_count": 26,
   "id": "5WaYIj11B1z4",
   "metadata": {
    "colab": {
     "base_uri": "https://localhost:8080/",
     "height": 49,
     "referenced_widgets": [
      "39cc854820f0496c8739a9073b18e844",
      "a3bc9d82eebd4bed867845999896cd46",
      "6a2280ab31404b3d9aa063228e3df338"
     ]
    },
    "id": "5WaYIj11B1z4",
    "outputId": "679878fe-f317-4a80-e283-3ce2419bc05a"
   },
   "outputs": [
    {
     "data": {
      "application/vnd.jupyter.widget-view+json": {
       "model_id": "9d3f2549da484158ba3e6ee6956815d0",
       "version_major": 2,
       "version_minor": 0
      },
      "text/plain": [
       "Button(button_style='primary', description='Download Files', style=ButtonStyle())"
      ]
     },
     "metadata": {},
     "output_type": "display_data"
    }
   ],
   "source": [
    "def download_files(ev):\n",
    "    files.download(png_file)\n",
    "    files.download(pdf_file)\n",
    "\n",
    "button = widgets.Button(description='Download Files', button_style='primary')\n",
    "button.on_click(download_files)\n",
    "display(button)"
   ]
  }
 ],
 "metadata": {
  "colab": {
   "include_colab_link": true,
   "name": "plot_mlo_one_week_keelingcurve.ipynb",
   "provenance": []
  },
  "interpreter": {
   "hash": "756fd7f3f44ab1b408c61a336bc63dd8b2b1c2a4bc9346285fbb85e9c22b620b"
  },
  "kernelspec": {
   "display_name": "Python 3.8.5 64-bit ('notebooks')",
   "language": "python",
   "name": "python3"
  },
  "language_info": {
   "codemirror_mode": {
    "name": "ipython",
    "version": 3
   },
   "file_extension": ".py",
   "mimetype": "text/x-python",
   "name": "python",
   "nbconvert_exporter": "python",
   "pygments_lexer": "ipython3",
   "version": "3.8.5"
  },
  "widgets": {
   "application/vnd.jupyter.widget-state+json": {
    "39cc854820f0496c8739a9073b18e844": {
     "model_module": "@jupyter-widgets/controls",
     "model_module_version": "1.5.0",
     "model_name": "ButtonModel",
     "state": {
      "_dom_classes": [],
      "_model_module": "@jupyter-widgets/controls",
      "_model_module_version": "1.5.0",
      "_model_name": "ButtonModel",
      "_view_count": null,
      "_view_module": "@jupyter-widgets/controls",
      "_view_module_version": "1.5.0",
      "_view_name": "ButtonView",
      "button_style": "primary",
      "description": "Download Files",
      "disabled": false,
      "icon": "",
      "layout": "IPY_MODEL_6a2280ab31404b3d9aa063228e3df338",
      "style": "IPY_MODEL_a3bc9d82eebd4bed867845999896cd46",
      "tooltip": ""
     }
    },
    "6a2280ab31404b3d9aa063228e3df338": {
     "model_module": "@jupyter-widgets/base",
     "model_module_version": "1.2.0",
     "model_name": "LayoutModel",
     "state": {
      "_model_module": "@jupyter-widgets/base",
      "_model_module_version": "1.2.0",
      "_model_name": "LayoutModel",
      "_view_count": null,
      "_view_module": "@jupyter-widgets/base",
      "_view_module_version": "1.2.0",
      "_view_name": "LayoutView",
      "align_content": null,
      "align_items": null,
      "align_self": null,
      "border": null,
      "bottom": null,
      "display": null,
      "flex": null,
      "flex_flow": null,
      "grid_area": null,
      "grid_auto_columns": null,
      "grid_auto_flow": null,
      "grid_auto_rows": null,
      "grid_column": null,
      "grid_gap": null,
      "grid_row": null,
      "grid_template_areas": null,
      "grid_template_columns": null,
      "grid_template_rows": null,
      "height": null,
      "justify_content": null,
      "justify_items": null,
      "left": null,
      "margin": null,
      "max_height": null,
      "max_width": null,
      "min_height": null,
      "min_width": null,
      "object_fit": null,
      "object_position": null,
      "order": null,
      "overflow": null,
      "overflow_x": null,
      "overflow_y": null,
      "padding": null,
      "right": null,
      "top": null,
      "visibility": null,
      "width": null
     }
    },
    "a3bc9d82eebd4bed867845999896cd46": {
     "model_module": "@jupyter-widgets/controls",
     "model_module_version": "1.5.0",
     "model_name": "ButtonStyleModel",
     "state": {
      "_model_module": "@jupyter-widgets/controls",
      "_model_module_version": "1.5.0",
      "_model_name": "ButtonStyleModel",
      "_view_count": null,
      "_view_module": "@jupyter-widgets/base",
      "_view_module_version": "1.2.0",
      "_view_name": "StyleView",
      "button_color": null,
      "font_weight": ""
     }
    }
   }
  }
 },
 "nbformat": 4,
 "nbformat_minor": 5
}
