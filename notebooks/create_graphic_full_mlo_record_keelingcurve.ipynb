{
  "cells": [
    {
      "cell_type": "markdown",
      "metadata": {
        "colab_type": "text",
        "id": "view-in-github"
      },
      "source": [
        "<a href=\"https://colab.research.google.com/github/sio-co2o2/keelingcurve_notebooks/blob/main/notebooks/create_graphic_full_mlo_record_keelingcurve.ipynb\" target=\"_parent\"><img src=\"https://colab.research.google.com/assets/colab-badge.svg\" alt=\"Open In Colab\"/></a>"
      ]
    },
    {
      "cell_type": "markdown",
      "id": "rLKWenEgSMZP",
      "metadata": {
        "id": "rLKWenEgSMZP"
      },
      "source": [
        "# Create a graphic appearing on the Keeling Curve website\n",
        "### **Graphic: CO<sub>2</sub> full record at Mauna Loa, Hawaii**\n",
        "\n",
        "**There is also a simple animation created of the plot at the bottom of the notebook.**"
      ]
    },
    {
      "cell_type": "markdown",
      "id": "t5_JohjmSMZS",
      "metadata": {
        "id": "t5_JohjmSMZS"
      },
      "source": [
        "#### This notebook creates customizable PDF and PNG images of a graphic appearing on the front page of [https://keelingcurve.ucsd.edu](keelingcurve.ucsd.edu).\n",
        "\n",
        "See an overview of the Keeling Curve notebooks at [notebooks overview](https://colab.research.google.com/github/sio-co2o2/keelingcurve_notebooks/blob/main/notebooks/overview_of_notebooks_keelingcurve.ipynb)"
      ]
    },
    {
      "cell_type": "markdown",
      "id": "126b7fff",
      "metadata": {},
      "source": [
        "#### Sample of the graphic produced by this notebook"
      ]
    },
    {
      "cell_type": "markdown",
      "id": "e0caeecb",
      "metadata": {},
      "source": [
        "![title](https://github.com/sio-co2o2/keelingcurve_notebooks/blob/main/images/sample_plots/mlo_full_record.png?raw=1)"
      ]
    },
    {
      "cell_type": "markdown",
      "id": "de9e9c86",
      "metadata": {},
      "source": [
        "## **Notebook Code**"
      ]
    },
    {
      "cell_type": "markdown",
      "id": "7bkCEl30SMZT",
      "metadata": {
        "id": "7bkCEl30SMZT"
      },
      "source": [
        "### Import python packages"
      ]
    },
    {
      "cell_type": "code",
      "execution_count": 1,
      "id": "2NYgN26LSMZT",
      "metadata": {
        "id": "2NYgN26LSMZT"
      },
      "outputs": [],
      "source": [
        "import re\n",
        "import pandas as pd\n",
        "import numpy as np\n",
        "from datetime import datetime, date, timedelta\n",
        "from dateutil.relativedelta import relativedelta\n",
        "import pathlib\n",
        "import matplotlib.image as mpimg\n",
        "import matplotlib.pyplot as plt\n",
        "from matplotlib.pyplot import figure\n",
        "from matplotlib.ticker import (MultipleLocator, AutoMinorLocator)\n",
        "from matplotlib import ticker\n",
        "from matplotlib.path import Path\n",
        "import matplotlib.colors as mcolors\n",
        "from matplotlib.patches import Polygon\n",
        "import matplotlib.dates as mdates\n",
        "import matplotlib.lines as mlines\n",
        "from scipy.interpolate import CubicSpline\n",
        "import matplotlib.transforms\n",
        "from matplotlib import animation\n",
        "from ipywidgets import widgets\n",
        "from IPython.display import HTML, display\n",
        "from base64 import b64encode\n",
        "from PIL import Image\n",
        "import urllib\n",
        "import os\n",
        "\n",
        "%matplotlib inline"
      ]
    },
    {
      "cell_type": "code",
      "execution_count": 2,
      "id": "aSKB_AOuMTFx",
      "metadata": {
        "id": "aSKB_AOuMTFx"
      },
      "outputs": [],
      "source": [
        "# This package is used to convert a vector svg into a png\n",
        "\n",
        "try:\n",
        "  from cairosvg import svg2png\n",
        "except:\n",
        "  ! pip install cairosvg"
      ]
    },
    {
      "cell_type": "code",
      "execution_count": 3,
      "id": "a8932fb4-1adc-4cec-bf34-6516fb8a05cb",
      "metadata": {
        "id": "a8932fb4-1adc-4cec-bf34-6516fb8a05cb"
      },
      "outputs": [],
      "source": [
        "# This import is to enable Google Colab to save files ane then download them\n",
        "\n",
        "# This import does not exist unless the notebook is run in Google Colab\n",
        "# Put in a try except block if user wants to use notebook off of Google Colab\n",
        "\n",
        "try:\n",
        "    from google.colab import files\n",
        "except:\n",
        "    pass"
      ]
    },
    {
      "cell_type": "markdown",
      "id": "9z8QlQMLSMZU",
      "metadata": {
        "id": "9z8QlQMLSMZU"
      },
      "source": [
        "### Set directories and file names"
      ]
    },
    {
      "cell_type": "code",
      "execution_count": 4,
      "id": "ORlNwHV5SMZU",
      "metadata": {
        "id": "ORlNwHV5SMZU"
      },
      "outputs": [],
      "source": [
        "# Read in data from github repository\n",
        "# Get mlo record to last daily value\n",
        "data_file = 'https://raw.githubusercontent.com/sio-co2o2/keelingcurve_notebooks/main/data/mlo/mlo_full_record_now_span.csv'\n",
        "\n",
        "logo_file = 'https://github.com/sio-co2o2/keelingcurve_notebooks/raw/main/images/ucsd_sio_logo.svg'\n",
        "\n",
        "plot_dir = pathlib.Path('./plots')\n",
        "plot_dir.mkdir(exist_ok=True)\n",
        "\n",
        "plot_base_name = 'mlo_full_record'\n",
        "\n",
        "pdf_file = plot_dir / f'{plot_base_name}.pdf'\n",
        "png_file = plot_dir / f'{plot_base_name}.png'"
      ]
    },
    {
      "cell_type": "markdown",
      "id": "Iat83SHiSMZV",
      "metadata": {
        "id": "Iat83SHiSMZV"
      },
      "source": [
        "## **Load in data and prepare it for plotting**"
      ]
    },
    {
      "cell_type": "markdown",
      "id": "826d2334",
      "metadata": {},
      "source": [
        "### Load in MLO record"
      ]
    },
    {
      "cell_type": "code",
      "execution_count": 5,
      "id": "DAaZzKvSSMZV",
      "metadata": {
        "colab": {
          "base_uri": "https://localhost:8080/",
          "height": 206
        },
        "id": "DAaZzKvSSMZV",
        "outputId": "53c5182e-783b-46d7-83c5-8a14ad11710d"
      },
      "outputs": [
        {
          "data": {
            "text/html": [
              "<div>\n",
              "<style scoped>\n",
              "    .dataframe tbody tr th:only-of-type {\n",
              "        vertical-align: middle;\n",
              "    }\n",
              "\n",
              "    .dataframe tbody tr th {\n",
              "        vertical-align: top;\n",
              "    }\n",
              "\n",
              "    .dataframe thead th {\n",
              "        text-align: right;\n",
              "    }\n",
              "</style>\n",
              "<table border=\"1\" class=\"dataframe\">\n",
              "  <thead>\n",
              "    <tr style=\"text-align: right;\">\n",
              "      <th></th>\n",
              "      <th>date</th>\n",
              "      <th>co2</th>\n",
              "      <th>date_seas_adj</th>\n",
              "      <th>co2_seas_adj</th>\n",
              "      <th>date_fit</th>\n",
              "      <th>co2_fit</th>\n",
              "      <th>date_seas_adj_fit</th>\n",
              "      <th>co2_seas_adj_fit</th>\n",
              "      <th>date_filled</th>\n",
              "      <th>co2_filled</th>\n",
              "      <th>date_seas_adj_filled</th>\n",
              "      <th>co2_seas_adj_filled</th>\n",
              "    </tr>\n",
              "  </thead>\n",
              "  <tbody>\n",
              "    <tr>\n",
              "      <th>0</th>\n",
              "      <td>1958.202740</td>\n",
              "      <td>315.71</td>\n",
              "      <td>1958.202740</td>\n",
              "      <td>314.43</td>\n",
              "      <td>1958.202740</td>\n",
              "      <td>316.20</td>\n",
              "      <td>1958.202740</td>\n",
              "      <td>314.91</td>\n",
              "      <td>1958.202740</td>\n",
              "      <td>315.71</td>\n",
              "      <td>1958.202740</td>\n",
              "      <td>314.43</td>\n",
              "    </tr>\n",
              "    <tr>\n",
              "      <th>1</th>\n",
              "      <td>1958.287671</td>\n",
              "      <td>317.45</td>\n",
              "      <td>1958.287671</td>\n",
              "      <td>315.16</td>\n",
              "      <td>1958.287671</td>\n",
              "      <td>317.30</td>\n",
              "      <td>1958.287671</td>\n",
              "      <td>314.99</td>\n",
              "      <td>1958.287671</td>\n",
              "      <td>317.45</td>\n",
              "      <td>1958.287671</td>\n",
              "      <td>315.16</td>\n",
              "    </tr>\n",
              "    <tr>\n",
              "      <th>2</th>\n",
              "      <td>1958.369863</td>\n",
              "      <td>317.51</td>\n",
              "      <td>1958.369863</td>\n",
              "      <td>314.70</td>\n",
              "      <td>1958.369863</td>\n",
              "      <td>317.88</td>\n",
              "      <td>1958.369863</td>\n",
              "      <td>315.06</td>\n",
              "      <td>1958.369863</td>\n",
              "      <td>317.51</td>\n",
              "      <td>1958.369863</td>\n",
              "      <td>314.70</td>\n",
              "    </tr>\n",
              "    <tr>\n",
              "      <th>3</th>\n",
              "      <td>1958.536986</td>\n",
              "      <td>315.87</td>\n",
              "      <td>1958.536986</td>\n",
              "      <td>315.20</td>\n",
              "      <td>1958.454795</td>\n",
              "      <td>317.26</td>\n",
              "      <td>1958.454795</td>\n",
              "      <td>315.14</td>\n",
              "      <td>1958.454795</td>\n",
              "      <td>317.26</td>\n",
              "      <td>1958.454795</td>\n",
              "      <td>315.14</td>\n",
              "    </tr>\n",
              "    <tr>\n",
              "      <th>4</th>\n",
              "      <td>1958.621918</td>\n",
              "      <td>314.93</td>\n",
              "      <td>1958.621918</td>\n",
              "      <td>316.21</td>\n",
              "      <td>1958.536986</td>\n",
              "      <td>315.85</td>\n",
              "      <td>1958.536986</td>\n",
              "      <td>315.22</td>\n",
              "      <td>1958.536986</td>\n",
              "      <td>315.87</td>\n",
              "      <td>1958.536986</td>\n",
              "      <td>315.20</td>\n",
              "    </tr>\n",
              "  </tbody>\n",
              "</table>\n",
              "</div>"
            ],
            "text/plain": [
              "          date     co2  date_seas_adj  co2_seas_adj     date_fit  co2_fit  \\\n",
              "0  1958.202740  315.71    1958.202740        314.43  1958.202740   316.20   \n",
              "1  1958.287671  317.45    1958.287671        315.16  1958.287671   317.30   \n",
              "2  1958.369863  317.51    1958.369863        314.70  1958.369863   317.88   \n",
              "3  1958.536986  315.87    1958.536986        315.20  1958.454795   317.26   \n",
              "4  1958.621918  314.93    1958.621918        316.21  1958.536986   315.85   \n",
              "\n",
              "   date_seas_adj_fit  co2_seas_adj_fit  date_filled  co2_filled  \\\n",
              "0        1958.202740            314.91  1958.202740      315.71   \n",
              "1        1958.287671            314.99  1958.287671      317.45   \n",
              "2        1958.369863            315.06  1958.369863      317.51   \n",
              "3        1958.454795            315.14  1958.454795      317.26   \n",
              "4        1958.536986            315.22  1958.536986      315.87   \n",
              "\n",
              "   date_seas_adj_filled  co2_seas_adj_filled  \n",
              "0           1958.202740               314.43  \n",
              "1           1958.287671               315.16  \n",
              "2           1958.369863               314.70  \n",
              "3           1958.454795               315.14  \n",
              "4           1958.536986               315.20  "
            ]
          },
          "execution_count": 5,
          "metadata": {},
          "output_type": "execute_result"
        }
      ],
      "source": [
        "df = pd.read_csv(data_file,skipinitialspace=True,comment='\"')\n",
        "df.head()"
      ]
    },
    {
      "cell_type": "markdown",
      "id": "t6IlRW3USMZW",
      "metadata": {
        "id": "t6IlRW3USMZW"
      },
      "source": [
        "### Break into 2 dataframes. One for CO2 and one for the CO2 fit"
      ]
    },
    {
      "cell_type": "code",
      "execution_count": 6,
      "id": "Cfn9bpElSMZX",
      "metadata": {
        "id": "Cfn9bpElSMZX"
      },
      "outputs": [],
      "source": [
        "df_co2 = df[['date', 'co2']].copy()\n",
        "df_co2_fit = df[['date_fit', 'co2_fit']].copy()"
      ]
    },
    {
      "cell_type": "markdown",
      "id": "mGqqgrJdSMZX",
      "metadata": {
        "id": "mGqqgrJdSMZX"
      },
      "source": [
        "### Remove rows with fill values -99.99 or NaN"
      ]
    },
    {
      "cell_type": "code",
      "execution_count": 7,
      "id": "edHgh73TSMZX",
      "metadata": {
        "colab": {
          "base_uri": "https://localhost:8080/",
          "height": 206
        },
        "id": "edHgh73TSMZX",
        "outputId": "916ec9f8-7c44-43ba-998f-1e786474161a"
      },
      "outputs": [
        {
          "data": {
            "text/html": [
              "<div>\n",
              "<style scoped>\n",
              "    .dataframe tbody tr th:only-of-type {\n",
              "        vertical-align: middle;\n",
              "    }\n",
              "\n",
              "    .dataframe tbody tr th {\n",
              "        vertical-align: top;\n",
              "    }\n",
              "\n",
              "    .dataframe thead th {\n",
              "        text-align: right;\n",
              "    }\n",
              "</style>\n",
              "<table border=\"1\" class=\"dataframe\">\n",
              "  <thead>\n",
              "    <tr style=\"text-align: right;\">\n",
              "      <th></th>\n",
              "      <th>date</th>\n",
              "      <th>co2</th>\n",
              "    </tr>\n",
              "  </thead>\n",
              "  <tbody>\n",
              "    <tr>\n",
              "      <th>801</th>\n",
              "      <td>2022.864384</td>\n",
              "      <td>416.97</td>\n",
              "    </tr>\n",
              "    <tr>\n",
              "      <th>802</th>\n",
              "      <td>2022.867123</td>\n",
              "      <td>416.83</td>\n",
              "    </tr>\n",
              "    <tr>\n",
              "      <th>803</th>\n",
              "      <td>2022.869863</td>\n",
              "      <td>417.52</td>\n",
              "    </tr>\n",
              "    <tr>\n",
              "      <th>804</th>\n",
              "      <td>2022.872603</td>\n",
              "      <td>416.73</td>\n",
              "    </tr>\n",
              "    <tr>\n",
              "      <th>805</th>\n",
              "      <td>2022.875342</td>\n",
              "      <td>416.78</td>\n",
              "    </tr>\n",
              "  </tbody>\n",
              "</table>\n",
              "</div>"
            ],
            "text/plain": [
              "            date     co2\n",
              "801  2022.864384  416.97\n",
              "802  2022.867123  416.83\n",
              "803  2022.869863  417.52\n",
              "804  2022.872603  416.73\n",
              "805  2022.875342  416.78"
            ]
          },
          "execution_count": 7,
          "metadata": {},
          "output_type": "execute_result"
        }
      ],
      "source": [
        "df_co2 = df_co2[df_co2['co2'] != -99.99]\n",
        "df_co2_fit = df_co2_fit[df_co2_fit['co2_fit'] != -99.99]\n",
        "\n",
        "df_co2 = df_co2.dropna()\n",
        "df_co2_fit = df_co2_fit.dropna()\n",
        "\n",
        "df_co2.tail()"
      ]
    },
    {
      "cell_type": "markdown",
      "id": "6g-n4IywSMZY",
      "metadata": {
        "id": "6g-n4IywSMZY"
      },
      "source": [
        "### Convert to numpy arrays for plotting"
      ]
    },
    {
      "cell_type": "code",
      "execution_count": 8,
      "id": "z-UBDKmmSMZY",
      "metadata": {
        "id": "z-UBDKmmSMZY"
      },
      "outputs": [],
      "source": [
        "date_co2 = df_co2['date'].to_numpy()\n",
        "co2 = df_co2['co2'].to_numpy()\n",
        "date_co2_fit = df_co2_fit['date_fit'].to_numpy()\n",
        "co2_fit = df_co2_fit['co2_fit'].to_numpy()"
      ]
    },
    {
      "cell_type": "markdown",
      "id": "65eb8c7c",
      "metadata": {},
      "source": [
        "## **Define accessory functions**"
      ]
    },
    {
      "cell_type": "markdown",
      "id": "ChyM4Z91SMZb",
      "metadata": {
        "id": "ChyM4Z91SMZb"
      },
      "source": [
        "## Functions to convert dates into various formats\n",
        "Used for plot limits and labeling"
      ]
    },
    {
      "cell_type": "code",
      "execution_count": 9,
      "id": "Txw3emi9SMZb",
      "metadata": {
        "id": "Txw3emi9SMZb"
      },
      "outputs": [],
      "source": [
        "# Function to convert datetime to a float\n",
        "def dt2t(adatetime):\n",
        "    \"\"\"\n",
        "    Convert adatetime into a float. The integer part of the float should\n",
        "    represent the year.\n",
        "    Order should be preserved. If adate<bdate, then d2t(adate)<d2t(bdate)\n",
        "    time distances should be preserved: If bdate-adate=ddate-cdate then\n",
        "    dt2t(bdate)-dt2t(adate) = dt2t(ddate)-dt2t(cdate)\n",
        "    \"\"\"\n",
        "    year = adatetime.year\n",
        "    boy = datetime(year, 1, 1)\n",
        "    eoy = datetime(year + 1, 1, 1)\n",
        "    return year + ((adatetime - boy).total_seconds() / ((eoy - boy).total_seconds()))"
      ]
    },
    {
      "cell_type": "code",
      "execution_count": 10,
      "id": "067Uk95USMZb",
      "metadata": {
        "id": "067Uk95USMZb"
      },
      "outputs": [],
      "source": [
        "def get_todays_date_variations():\n",
        "    \n",
        "    now = datetime.now()\n",
        "    todays_decimal =  dt2t(now)\n",
        "    \n",
        "    today = date.today()\n",
        "\n",
        "    todays_day = today.day\n",
        "    todays_month = today.strftime(\"%B\")\n",
        "    todays_year = today.year\n",
        "    todays_date_moyr = today.strftime(\"%B %Y\")\n",
        "    todays_date_modyyr = f\"{todays_month} {todays_day}, {todays_year}\"\n",
        "\n",
        "    return todays_date_moyr, todays_date_modyyr, todays_decimal, todays_year"
      ]
    },
    {
      "cell_type": "code",
      "execution_count": 11,
      "id": "HBXOwLn5SMZb",
      "metadata": {
        "id": "HBXOwLn5SMZb"
      },
      "outputs": [],
      "source": [
        "#  https://stackoverflow.com/questions/19305991/convert-fractional-years-to-a-real-date-in-python\n",
        "def t2dt(atime):\n",
        "    \"\"\"\n",
        "    Convert atime (a float) to DT.datetime\n",
        "    This is the inverse of dt2t.\n",
        "    assert dt2t(t2dt(atime)) == atime\n",
        "    \"\"\"\n",
        "    year = int(atime)\n",
        "    remainder = atime - year\n",
        "    boy = datetime(year, 1, 1)\n",
        "    eoy = datetime(year + 1, 1, 1)\n",
        "    seconds = remainder * (eoy - boy).total_seconds()\n",
        "    return boy + timedelta(seconds=seconds)"
      ]
    },
    {
      "cell_type": "code",
      "execution_count": 12,
      "id": "ngsud2LmSMZb",
      "metadata": {
        "id": "ngsud2LmSMZb"
      },
      "outputs": [],
      "source": [
        "def get_data_end_date(date_data):\n",
        "    last_date = np.max(date_data)\n",
        "    last_date_datetime = t2dt(last_date)\n",
        "    \n",
        "    # Convert date format to month_name day, year\n",
        "    day = last_date_datetime.day\n",
        "    month = last_date_datetime.strftime(\"%B\")\n",
        "    year = last_date_datetime.year\n",
        "    date_modyyr = f\"{month} {day}, {year}\"\n",
        "    return date_modyyr"
      ]
    },
    {
      "cell_type": "markdown",
      "id": "nMALA8BPSMZY",
      "metadata": {
        "id": "nMALA8BPSMZY"
      },
      "source": [
        "## Function to create gradient under curve"
      ]
    },
    {
      "cell_type": "code",
      "execution_count": 13,
      "id": "wXCz46dlSMZY",
      "metadata": {
        "id": "wXCz46dlSMZY"
      },
      "outputs": [],
      "source": [
        "# https://stackoverflow.com/questions/29321835/is-it-possible-to-get-color-gradients-under-curve-in-matplotlib\n",
        "# Modified to add gradient below curve and have a bottom alpha\n",
        "\n",
        "# def gradient_fill(x, y, fill_color=None, ax=None, **kwargs):\n",
        "def gradient_fill(x, y, fill_color='#FFFFFF', xmin=None, ymin=None, xmax=None, \n",
        "                  ymax=None, alpha_bottom=None, ax=None, alpha=1, zorder=1, **kwargs):\n",
        "    \"\"\"\n",
        "    Plot a line with a linear alpha gradient filled beneath it.\n",
        "\n",
        "    Parameters\n",
        "    ----------\n",
        "    x, y : array-like\n",
        "        The data values of the line.\n",
        "    fill_color : a matplotlib color specifier (string, tuple) or None\n",
        "        The color for the fill. If None, the color of the line will be used.\n",
        "    ax : a matplotlib Axes instance\n",
        "        The axes to plot on. If None, the current pyplot axes will be used.\n",
        "    Additional arguments are passed on to matplotlib's ``plot`` function.\n",
        "\n",
        "    Returns\n",
        "    -------\n",
        "    line : a Line2D instance\n",
        "        The line plotted.\n",
        "    im : an AxesImage instance\n",
        "        The transparent gradient clipped to just the area beneath the curve.\n",
        "    \"\"\"\n",
        "    if ax is None:\n",
        "        ax = plt.gca()\n",
        "\n",
        "    # Only want the gradient to show\n",
        "    #line, = ax.plot(x, y, **kwargs)\n",
        "    #if fill_color is None:\n",
        "    #    fill_color = line.get_color()\n",
        "\n",
        "    if alpha_bottom is None:\n",
        "        alpha_bottom = 0\n",
        "\n",
        "    if xmin is None:\n",
        "        xmin = x.min()\n",
        "\n",
        "    if ymin is None:\n",
        "        ymin = y.min()\n",
        "        \n",
        "    if xmax is None:\n",
        "        xmax = x.max()\n",
        "\n",
        "    if ymax is None:\n",
        "        ymax = y.max()\n",
        "        \n",
        "    if zorder is None:\n",
        "        zorder = 1\n",
        "        \n",
        "    #zorder = line.get_zorder()\n",
        "    \n",
        "    #alpha = line.get_alpha()\n",
        "    #alpha = 1.0 if alpha is None else alpha\n",
        "\n",
        "    z = np.empty((100, 1, 4), dtype=float)\n",
        "    rgb = mcolors.colorConverter.to_rgb(fill_color)\n",
        "    z[:, :, :3] = rgb\n",
        "    #z[:,:,-1] = np.linspace(0, alpha, 100)[:,None]\n",
        "    z[:, :, -1] = np.linspace(alpha_bottom, alpha, 100)[:, None]\n",
        "\n",
        "    #xmin, xmax, ymin, ymax = x.min(), x.max(), y.min(), y.max()\n",
        "    \n",
        "    im = ax.imshow(z, aspect='auto', extent=[xmin, xmax, ymin, ymax],\n",
        "                   origin='lower', zorder=zorder)\n",
        "\n",
        "    xy = np.column_stack([x, y])\n",
        "    xy = np.vstack([[xmin, ymin], xy, [xmax, ymin], [xmin, ymin]])\n",
        "    clip_path = Polygon(xy, facecolor='none', edgecolor='none', closed=True)\n",
        "    ax.add_patch(clip_path)\n",
        "    im.set_clip_path(clip_path)\n",
        "    \n",
        "    ax.autoscale(True)\n",
        "\n",
        "    # Return the patch so can remove it later for animation\n",
        "    return clip_path"
      ]
    },
    {
      "cell_type": "markdown",
      "id": "dc2a25fe",
      "metadata": {},
      "source": [
        "## **Define functions that can modify the graphic**"
      ]
    },
    {
      "cell_type": "markdown",
      "id": "a3c69ab0",
      "metadata": {},
      "source": [
        "### Function to set fonts and linewidth properties"
      ]
    },
    {
      "cell_type": "code",
      "execution_count": 14,
      "id": "m-FVZ0DrSMZZ",
      "metadata": {
        "id": "m-FVZ0DrSMZZ"
      },
      "outputs": [],
      "source": [
        "def set_matplotlib_properties():\n",
        "    \n",
        "    # Set properties for matplotlib\n",
        "    \n",
        "    # Reset rcparams in case modified defaults in another notebook during same session \n",
        "    plt.rcParams.update(plt.rcParamsDefault)\n",
        "\n",
        "    plt.rcParams.update({'axes.linewidth':1.5})\n",
        "    \n",
        "    plt.rcParams.update({\n",
        "        \"text.usetex\": False,\n",
        "        \"font.family\": \"sans-serif\",\n",
        "        \"font.weight\":  \"normal\",\n",
        "        \"font.sans-serif\": [\"Arial\", \"Tahoma\", \"Helvetica\",\"FreeSans\", \"NimbusSans\", \"LiberationSans\",\"DejaVu Sans\"],\n",
        "        \"mathtext.default\":'regular',\n",
        "        \"mathtext.fontset\": \"dejavusans\"\n",
        "    })\n",
        "        \n",
        "    # http://phyletica.org/matplotlib-fonts/\n",
        "    # This tells matplotlib to use Type 42 (a.k.a. TrueType) fonts \n",
        "    # for PostScript and PDF files. This allows you to avoid Type 3 fonts.\n",
        "    # Turning on usetex also works\n",
        "    # Needed on Ubuntu for pdf fonts \n",
        "    plt.rcParams.update({\n",
        "      'pdf.fonttype': 42,\n",
        "        'ps.fonttype': 42 \n",
        "    })"
      ]
    },
    {
      "cell_type": "markdown",
      "id": "e36a7fb7",
      "metadata": {},
      "source": [
        "### Function to set axes properties of the graphic"
      ]
    },
    {
      "cell_type": "code",
      "execution_count": 15,
      "id": "Qc0jOumsSMZZ",
      "metadata": {
        "id": "Qc0jOumsSMZZ"
      },
      "outputs": [],
      "source": [
        "def set_plot_props(ax, fig, xmin, xmax, ymin, ymax, xlabel, ylabel):\n",
        "\n",
        "    # ---------------------------------\n",
        "    # Plot properties for website plots\n",
        "    # ---------------------------------\n",
        "\n",
        "    # Allow room at top for the 2 titles\n",
        "    fig.subplots_adjust(top=0.85)\n",
        "\n",
        "    ax.tick_params(which='both', bottom=True, top=True, left=True, right=True)\n",
        "\n",
        "    ax.tick_params(axis='x', labelsize=12)\n",
        "    ax.tick_params(axis='y', labelsize=16)\n",
        "\n",
        "    ax.tick_params(axis='x', which='major', direction='in', length=8, width=1)\n",
        "    ax.tick_params(axis='y', which='major', direction='in', length=8, width=1)\n",
        "\n",
        "    tick_spacing = 5\n",
        "    ax.xaxis.set_major_locator(ticker.MultipleLocator(tick_spacing))\n",
        "    \n",
        "    tick_spacing = 5\n",
        "    ax.yaxis.set_major_locator(ticker.MultipleLocator(tick_spacing))\n",
        "    \n",
        "    labels = ax.get_xticklabels() + ax.get_yticklabels()\n",
        "    for label in labels: label.set_fontweight('bold')   \n",
        "    \n",
        "    # Display every other y major tick label\n",
        "    for label in ax.yaxis.get_ticklabels()[::2]:\n",
        "        label.set_visible(False)\n",
        "\n",
        "    tick_length = 5\n",
        "    ax.tick_params(axis='x',which='minor', direction='in', length=tick_length)\n",
        "    \n",
        "    tick_length = 4\n",
        "    ax.tick_params(axis='y',which='minor', direction='in', length=tick_length)\n",
        "    \n",
        "    ax.xaxis.set_minor_locator(AutoMinorLocator(5))\n",
        "    ax.yaxis.set_minor_locator(AutoMinorLocator(5))\n",
        "      \n",
        "    ax.set_xlabel(xlabel, fontweight='bold', fontsize=18, labelpad=5)\n",
        "    ax.set_ylabel(ylabel, fontweight='bold', fontsize=18, labelpad=5)\n",
        "\n",
        "    ax.set_xlim(xmin, xmax)\n",
        "    ax.set_ylim(ymin, ymax)"
      ]
    },
    {
      "cell_type": "markdown",
      "id": "2bf3ad1f",
      "metadata": {},
      "source": [
        "### Function to place the titles"
      ]
    },
    {
      "cell_type": "code",
      "execution_count": 16,
      "id": "NFg3AViJSMZa",
      "metadata": {
        "id": "NFg3AViJSMZa"
      },
      "outputs": [],
      "source": [
        "def add_plot_title(ax, title1, title2):\n",
        "\n",
        "    ax.annotate(title1, xy=(0, 1.15), xycoords='axes fraction', fontsize=14,\n",
        "                horizontalalignment='left', verticalalignment='top', fontweight=\"normal\")\n",
        "    ax.annotate(title2, xy=(0, 1.07), xycoords='axes fraction', fontsize=18,\n",
        "                horizontalalignment='left', verticalalignment='top', fontweight = 'bold')"
      ]
    },
    {
      "cell_type": "markdown",
      "id": "d26a8498",
      "metadata": {},
      "source": [
        "### Function to add an inset label"
      ]
    },
    {
      "cell_type": "code",
      "execution_count": 17,
      "id": "PvBSgkYRSMZa",
      "metadata": {
        "id": "PvBSgkYRSMZa"
      },
      "outputs": [],
      "source": [
        "def add_inset_label(ax, label_start, today):\n",
        "    label_text = f\"{label_start} ending {today}\"\n",
        "    ax.annotate(label_text, xy=(0.03, 0.9), xycoords='axes fraction', fontsize=12,\n",
        "                horizontalalignment='left', verticalalignment='top', fontweight=\"normal\")"
      ]
    },
    {
      "cell_type": "markdown",
      "id": "3f531893",
      "metadata": {},
      "source": [
        "### Function to add the SIO logo"
      ]
    },
    {
      "cell_type": "code",
      "execution_count": 18,
      "id": "cPicC09xSMZa",
      "metadata": {
        "id": "cPicC09xSMZa"
      },
      "outputs": [],
      "source": [
        "def add_sio_logo(fig, logo_file, xpos, ypos):\n",
        "\n",
        "    # Convert the logo svg file to a png file with the\n",
        "    # given scale and dpi\n",
        "    logo_png = 'logo.png'\n",
        "    svg2png(url=logo_file, write_to=logo_png, scale=10, dpi=300)\n",
        "\n",
        "    logo = mpimg.imread(logo_png)\n",
        "\n",
        "    fig.add_axes([xpos, ypos, 0.2, 0.2], anchor='SE', zorder=1)\n",
        "\n",
        "    plt.imshow(logo)\n",
        "    plt.axis('off')\n",
        "\n",
        "    # Delete the logo png version\n",
        "    os.remove(logo_png)\n"
      ]
    },
    {
      "cell_type": "markdown",
      "id": "840a917f",
      "metadata": {},
      "source": [
        "### Function to save the graphic"
      ]
    },
    {
      "cell_type": "code",
      "execution_count": 19,
      "id": "d7a501d8",
      "metadata": {
        "id": "d7a501d8"
      },
      "outputs": [],
      "source": [
        "def save_graphic(fig, pdf_file, png_file):\n",
        "\n",
        "    fig_width, fig_height = fig.get_size_inches()\n",
        "\n",
        "    # For pdf\n",
        "    width_in = 10\n",
        "    height_in = (fig_height/fig_width) * width_in\n",
        "\n",
        "    fig.set_size_inches(width_in, height_in)\n",
        "\n",
        "    # Save to a high dpi so that logo png file has a high resolution\n",
        "    fig.savefig(pdf_file, facecolor='w', edgecolor='w',\n",
        "                orientation='landscape', format=None,\n",
        "                transparent=False, bbox_inches='tight', dpi=600)\n",
        "\n",
        "    # For png\n",
        "    # Want a png of height 500px\n",
        "\n",
        "    # First save figure as a png and then scale to size needed\n",
        "\n",
        "    png_dpi = 300\n",
        "\n",
        "    fig.savefig(png_file, facecolor='w', edgecolor='w',\n",
        "                orientation='landscape', dpi=png_dpi, bbox_inches='tight')\n",
        "\n",
        "    # Now resize the image to be width 1000px for the\n",
        "    # keelingcurve website\n",
        "    img = Image.open(png_file)\n",
        "    img_width, img_height = img.size\n",
        "\n",
        "    # width_px = 1000\n",
        "    # img_scale = (width_px / img_width)\n",
        "    # height_px = int((float(img_height) * float(img_scale)))\n",
        "\n",
        "    height_px = 500\n",
        "    img_scale = (height_px / img_height)\n",
        "    width_px = int((float(img_width) * float(img_scale)))\n",
        "\n",
        "    img = img.resize((width_px, height_px), Image.ANTIALIAS)\n",
        "    #img = img.resize((width_px, height_px), Image.Resampling.LANCZOS)\n",
        "    img.save(png_file)\n"
      ]
    },
    {
      "cell_type": "markdown",
      "id": "Ajbd2KDlSMZb",
      "metadata": {
        "id": "Ajbd2KDlSMZb"
      },
      "source": [
        "## **Set plot limits and labeling**"
      ]
    },
    {
      "cell_type": "markdown",
      "id": "ciY8cSMXSMZc",
      "metadata": {
        "id": "ciY8cSMXSMZc"
      },
      "source": [
        "### Set titles and axes labels"
      ]
    },
    {
      "cell_type": "code",
      "execution_count": 20,
      "id": "hlXhJH4CSMZc",
      "metadata": {
        "id": "hlXhJH4CSMZc"
      },
      "outputs": [],
      "source": [
        "xlabel = ''\n",
        "ylabel = \"$\\mathregular{CO}\\\\bf{_2}$\" + \" Concentration (ppm)\"\n",
        "\n",
        "title1 = ''\n",
        "title2 = 'Carbon dioxide concentration at Mauna Loa Observatory'"
      ]
    },
    {
      "cell_type": "markdown",
      "id": "wj-dCD89SMZc",
      "metadata": {
        "id": "wj-dCD89SMZc"
      },
      "source": [
        "### Set yaxis min and max limits"
      ]
    },
    {
      "cell_type": "code",
      "execution_count": 21,
      "id": "nR4XHFlOSMZc",
      "metadata": {
        "id": "nR4XHFlOSMZc"
      },
      "outputs": [],
      "source": [
        "ymin = 310\n",
        "ymax = 430"
      ]
    },
    {
      "cell_type": "markdown",
      "id": "pvrPrEQOSMZc",
      "metadata": {
        "id": "pvrPrEQOSMZc"
      },
      "source": [
        "### Set xaxis min and max limits"
      ]
    },
    {
      "cell_type": "code",
      "execution_count": 22,
      "id": "ke6VdYhqSMZc",
      "metadata": {
        "id": "ke6VdYhqSMZc"
      },
      "outputs": [],
      "source": [
        "xmin = min(date_co2)\n",
        "\n",
        "# Get current date as decimal year\n",
        "now = datetime.now()\n",
        "xmax = dt2t(now)"
      ]
    },
    {
      "cell_type": "markdown",
      "id": "r1sGzbsPSMZc",
      "metadata": {
        "id": "r1sGzbsPSMZc"
      },
      "source": [
        "## **Steps to create the graphic**\n",
        "\n",
        "### Comment out any function to remove it from the graphic creation\n",
        "\n",
        "Comment out a line by adding a # symbol in front of a statement\n"
      ]
    },
    {
      "cell_type": "code",
      "execution_count": 23,
      "id": "CIIeOudiSMZd",
      "metadata": {
        "colab": {
          "base_uri": "https://localhost:8080/",
          "height": 493
        },
        "id": "CIIeOudiSMZd",
        "outputId": "18a46c1b-89af-4b4c-f416-c92c01c6e2cc"
      },
      "outputs": [
        {
          "data": {
            "image/png": "[encoded data removed]",
            "text/plain": [
              "<Figure size 720x480 with 2 Axes>"
            ]
          },
          "metadata": {
            "needs_background": "light"
          },
          "output_type": "display_data"
        }
      ],
      "source": [
        "# create a figure container\n",
        "fig = plt.figure()\n",
        "\n",
        "# Set axes\n",
        "# Add padding for exterior plot text\n",
        "ax = plt.axes([0.11, 0.12, 0.83, 0.54])\n",
        "\n",
        "# ------------------------------------\n",
        "# Set properties to use for matplotlib\n",
        "# ------------------------------------\n",
        "\n",
        "set_matplotlib_properties()\n",
        "\n",
        "# ------------------------\n",
        "# Add gradient under curve\n",
        "# ------------------------\n",
        "\n",
        "# For gradient max, use last date of data rather than current date\n",
        "xmax_gradient = max(date_co2)\n",
        "\n",
        "area_color = '#73a7e6'\n",
        "\n",
        "gradient_fill_path = gradient_fill(date_co2, co2, fill_color=area_color, xmin=xmin, xmax=xmax_gradient,\n",
        "              ymin=ymin, ymax=ymax, ax=ax, alpha_bottom=0.1, alpha=1.0)\n",
        "\n",
        "# -------------\n",
        "# Plot the data\n",
        "# -------------\n",
        "\n",
        "# Set plotting zorder above the gradient so the plot points are on top\n",
        "\n",
        "ax.plot(date_co2, co2, 'o', color='black',markersize=3.5, \n",
        "         markerfacecolor='black', markeredgecolor='black', markeredgewidth=0, zorder=5)\n",
        "\n",
        "ax.plot(date_co2_fit, co2_fit, '-', color='black', linewidth=0.5, zorder=4)\n",
        "\n",
        "\n",
        "# -------------------\n",
        "# Set plot properties\n",
        "# -------------------\n",
        "set_plot_props(ax, fig, xmin, xmax, ymin, ymax, xlabel, ylabel)\n",
        "\n",
        "# ------------------------------------------------\n",
        "# Get todays date in various formats for labeling\n",
        "# ------------------------------------------------\n",
        "todays_date_moyr, todays_date_modyyr, todays_decimal, todays_year = get_todays_date_variations()\n",
        "\n",
        "# ---------------\n",
        "# Add plot titles\n",
        "# ---------------\n",
        "add_plot_title(ax, title1, title2)\n",
        "\n",
        "# --------------\n",
        "# Add inset text\n",
        "# --------------\n",
        "add_inset_label(ax, 'Full record', todays_date_modyyr)\n",
        "\n",
        "# --------------------\n",
        "# Add SIO logo to plot\n",
        "# --------------------\n",
        "\n",
        "# set position of the logo\n",
        "xpos = 0.715\n",
        "ypos = 0.155\n",
        "\n",
        "add_sio_logo(fig, logo_file, xpos, ypos)\n",
        "\n",
        "# ------------\n",
        "# Save graphic\n",
        "# ------------\n",
        "\n",
        "fig = plt.gcf()\n",
        "\n",
        "save_graphic(fig, pdf_file, png_file)\n",
        "\n",
        "plt.show()"
      ]
    },
    {
      "cell_type": "markdown",
      "id": "Yr7ttY4c-Qkg",
      "metadata": {
        "id": "Yr7ttY4c-Qkg"
      },
      "source": [
        "## **Download PDF & PNG files of the graphic**\n",
        "\n",
        "The download button only works when the notebook is run with Google Colab\n",
        "\n",
        "If the notebook is run on a local machine, the graphics are inside the plots directory"
      ]
    },
    {
      "cell_type": "code",
      "execution_count": 24,
      "id": "O1P3GlFP-RhH",
      "metadata": {
        "colab": {
          "base_uri": "https://localhost:8080/",
          "height": 49,
          "referenced_widgets": [
            "b704d3a276404640883f6c5efd8146b1",
            "4449a97a24c146a29773c014f8eb3849",
            "08054a4c8e124c2c88869f9f113cc063"
          ]
        },
        "id": "O1P3GlFP-RhH",
        "outputId": "af111426-09dc-4e79-dcdf-fa6a803743dc"
      },
      "outputs": [
        {
          "data": {
            "application/vnd.jupyter.widget-view+json": {
              "model_id": "e105d5baa11f4caba2705645fdc534c5",
              "version_major": 2,
              "version_minor": 0
            },
            "text/plain": [
              "Button(button_style='primary', description='Download Files', style=ButtonStyle())"
            ]
          },
          "metadata": {},
          "output_type": "display_data"
        }
      ],
      "source": [
        "def download_files(ev):\n",
        "    files.download(png_file)\n",
        "    files.download(pdf_file)\n",
        "\n",
        "button = widgets.Button(description='Download Files', button_style='primary')\n",
        "button.on_click(download_files)\n",
        "display(button)"
      ]
    },
    {
      "cell_type": "markdown",
      "id": "7a7c58b3",
      "metadata": {},
      "source": [
        "# Create a simple animation of the plot"
      ]
    },
    {
      "cell_type": "code",
      "execution_count": 25,
      "id": "a7OACoox9GNC",
      "metadata": {
        "id": "a7OACoox9GNC"
      },
      "outputs": [],
      "source": [
        "# First set up the figure, the axis, and the plot element we want to animate\n",
        "fig,ax = plt.subplots(1, 1, figsize = (10, 6))\n",
        "\n",
        "ax.set_xlim(xmin, xmax)\n",
        "ax.set_ylim(ymin, ymax)\n",
        "\n",
        "line, = ax.plot([], [], lw=2)\n",
        "\n",
        "# initialization function: plot the background of each frame\n",
        "def init():\n",
        "    line.set_data([], [])\n",
        "    return line,\n",
        "\n",
        "# animation function.  This is called sequentially\n",
        "def animate(i):\n",
        "    line.set_data(date_co2_fit[:i], co2_fit[:i])\n",
        "    return line,\n",
        "\n",
        "# call the animator.  blit=True means only re-draw the parts that have changed.\n",
        "anim = animation.FuncAnimation(fig, animate, init_func=init,\n",
        "                               frames = len(date_co2_fit) + 1, interval=5, blit=True)\n",
        "\n",
        "# Close plot so it isn't displayed\n",
        "plt.close()"
      ]
    },
    {
      "cell_type": "markdown",
      "id": "10fd342b",
      "metadata": {},
      "source": [
        "## Save the animation\n",
        "\n",
        "It takes about 15 seconds"
      ]
    },
    {
      "cell_type": "code",
      "execution_count": 26,
      "id": "227bcced",
      "metadata": {},
      "outputs": [],
      "source": [
        "# save the animation as an mp4.  This requires ffmpeg or mencoder to be\n",
        "# installed.  The extra_args ensure that the x264 codec is used, so that\n",
        "# the video can be embedded in html5.  You may need to adjust this for\n",
        "# your system: for more information, see\n",
        "# http://matplotlib.sourceforge.net/api/animation_api.html\n",
        "#anim.save('basic_animation.mp4', fps=30, extra_args=['-vcodec', 'libx264'])\n",
        "\n",
        "\n",
        "anim.save('animations/mlo_anim.mp4')"
      ]
    },
    {
      "cell_type": "markdown",
      "id": "eb003bd0",
      "metadata": {},
      "source": [
        "## Open animation and press play\n",
        "\n",
        "After this notebook is run once, the animation is created and saved. \n",
        "\n",
        "Afterwards, you can open this notebook and come to this cell and push play to run the animation. "
      ]
    },
    {
      "cell_type": "code",
      "execution_count": 27,
      "id": "a631c376",
      "metadata": {},
      "outputs": [
        {
          "data": {
            "text/html": [
              "\n",
              "<video width=800 controls>\n",
              "      <source src=\"data:video/mp4;base64,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\" type=\"video/mp4\">\n",
              "</video>\n"
            ],
            "text/plain": [
              "<IPython.core.display.HTML object>"
            ]
          },
          "execution_count": 27,
          "metadata": {},
          "output_type": "execute_result"
        }
      ],
      "source": [
        "mlo_animation = mp4 = open('animations/mlo_anim.mp4','rb').read()\n",
        "\n",
        "data_url = \"data:video/mp4;base64,\" + b64encode(mlo_animation).decode()\n",
        "HTML(\"\"\"\n",
        "<video width=800 controls>\n",
        "      <source src=\"%s\" type=\"video/mp4\">\n",
        "</video>\n",
        "\"\"\" % data_url)"
      ]
    },
    {
      "cell_type": "code",
      "execution_count": null,
      "id": "cfada655",
      "metadata": {},
      "outputs": [],
      "source": []
    }
  ],
  "metadata": {
    "colab": {
      "collapsed_sections": [],
      "include_colab_link": true,
      "name": "plot_full_mlo_record_keelingcurve.ipynb",
      "provenance": []
    },
    "kernelspec": {
      "display_name": "Python 3.8.5 64-bit ('notebooks')",
      "language": "python",
      "name": "python3"
    },
    "language_info": {
      "codemirror_mode": {
        "name": "ipython",
        "version": 3
      },
      "file_extension": ".py",
      "mimetype": "text/x-python",
      "name": "python",
      "nbconvert_exporter": "python",
      "pygments_lexer": "ipython3",
      "version": "3.8.5"
    },
    "vscode": {
      "interpreter": {
        "hash": "756fd7f3f44ab1b408c61a336bc63dd8b2b1c2a4bc9346285fbb85e9c22b620b"
      }
    },
    "widgets": {
      "application/vnd.jupyter.widget-state+json": {
        "08054a4c8e124c2c88869f9f113cc063": {
          "model_module": "@jupyter-widgets/controls",
          "model_module_version": "1.5.0",
          "model_name": "ButtonStyleModel",
          "state": {
            "_model_module": "@jupyter-widgets/controls",
            "_model_module_version": "1.5.0",
            "_model_name": "ButtonStyleModel",
            "_view_count": null,
            "_view_module": "@jupyter-widgets/base",
            "_view_module_version": "1.2.0",
            "_view_name": "StyleView",
            "button_color": null,
            "font_weight": ""
          }
        },
        "4449a97a24c146a29773c014f8eb3849": {
          "model_module": "@jupyter-widgets/base",
          "model_module_version": "1.2.0",
          "model_name": "LayoutModel",
          "state": {
            "_model_module": "@jupyter-widgets/base",
            "_model_module_version": "1.2.0",
            "_model_name": "LayoutModel",
            "_view_count": null,
            "_view_module": "@jupyter-widgets/base",
            "_view_module_version": "1.2.0",
            "_view_name": "LayoutView",
            "align_content": null,
            "align_items": null,
            "align_self": null,
            "border": null,
            "bottom": null,
            "display": null,
            "flex": null,
            "flex_flow": null,
            "grid_area": null,
            "grid_auto_columns": null,
            "grid_auto_flow": null,
            "grid_auto_rows": null,
            "grid_column": null,
            "grid_gap": null,
            "grid_row": null,
            "grid_template_areas": null,
            "grid_template_columns": null,
            "grid_template_rows": null,
            "height": null,
            "justify_content": null,
            "justify_items": null,
            "left": null,
            "margin": null,
            "max_height": null,
            "max_width": null,
            "min_height": null,
            "min_width": null,
            "object_fit": null,
            "object_position": null,
            "order": null,
            "overflow": null,
            "overflow_x": null,
            "overflow_y": null,
            "padding": null,
            "right": null,
            "top": null,
            "visibility": null,
            "width": null
          }
        },
        "b704d3a276404640883f6c5efd8146b1": {
          "model_module": "@jupyter-widgets/controls",
          "model_module_version": "1.5.0",
          "model_name": "ButtonModel",
          "state": {
            "_dom_classes": [],
            "_model_module": "@jupyter-widgets/controls",
            "_model_module_version": "1.5.0",
            "_model_name": "ButtonModel",
            "_view_count": null,
            "_view_module": "@jupyter-widgets/controls",
            "_view_module_version": "1.5.0",
            "_view_name": "ButtonView",
            "button_style": "primary",
            "description": "Download Files",
            "disabled": false,
            "icon": "",
            "layout": "IPY_MODEL_4449a97a24c146a29773c014f8eb3849",
            "style": "IPY_MODEL_08054a4c8e124c2c88869f9f113cc063",
            "tooltip": ""
          }
        }
      }
    }
  },
  "nbformat": 4,
  "nbformat_minor": 5
}
