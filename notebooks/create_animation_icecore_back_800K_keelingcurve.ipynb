{
 "cells": [
  {
   "cell_type": "markdown",
   "id": "9f93b177",
   "metadata": {
    "colab_type": "text",
    "id": "view-in-github"
   },
   "source": [
    "<a href=\"https://colab.research.google.com/github/sio-co2o2/keelingcurve_notebooks/blob/main/notebooks/create_animation_icecore_back_800K_keelingcurve.ipynb\" target=\"_parent\"><img src=\"https://colab.research.google.com/assets/colab-badge.svg\" alt=\"Open In Colab\"/></a>"
   ]
  },
  {
   "cell_type": "markdown",
   "id": "sqKglU_WQ5XF",
   "metadata": {
    "id": "sqKglU_WQ5XF"
   },
   "source": [
    "# Create an animation appearing on the Keeling Curve website\n",
    "### **Animation: CO<sub>2</sub> record from 800K years ago to now**\n",
    "\n",
    "**Mauna Loa, Hawaii CO<sub>2</sub> record starting in 1958 and ice-core CO<sub>2</sub> record before 1958**"
   ]
  },
  {
   "cell_type": "markdown",
   "id": "SriEfCPyQ5XI",
   "metadata": {
    "id": "SriEfCPyQ5XI"
   },
   "source": [
    "#### This notebook creates a customizable mp4 animation of a graphic appearing on the front page of [keelingcurve.ucsd.edu](keelingcurve.ucsd.edu).\n",
    "\n",
    "See an overview of the Keeling Curve notebooks and how to use them at [notebooks overview](https://colab.research.google.com/github/sio-co2o2/keelingcurve_notebooks/blob/main/notebooks/overview_of_notebooks_keelingcurve.ipynb)"
   ]
  },
  {
   "cell_type": "markdown",
   "id": "b7b0b0b2",
   "metadata": {},
   "source": [
    "----\n",
    "\n",
    "### [Go to creating the animation section](#steps-to-create-the-animation)\n",
    "\n",
    "-----"
   ]
  },
  {
   "cell_type": "markdown",
   "id": "c85b9696",
   "metadata": {},
   "source": [
    "### Sample of the animation produced by this notebook"
   ]
  },
  {
   "cell_type": "code",
   "execution_count": 49,
   "id": "4928ceaa",
   "metadata": {},
   "outputs": [
    {
     "data": {
      "application/vnd.jupyter.widget-view+json": {
       "model_id": "00aad92667c542ce94941248381427c1",
       "version_major": 2,
       "version_minor": 0
      },
      "text/plain": [
       "Button(button_style='primary', description='Show sample animation', layout=Layout(height='auto', width='auto')…"
      ]
     },
     "metadata": {},
     "output_type": "display_data"
    },
    {
     "data": {
      "application/vnd.jupyter.widget-view+json": {
       "model_id": "702184ee74b9440194c84e425a68edfc",
       "version_major": 2,
       "version_minor": 0
      },
      "text/plain": [
       "Output()"
      ]
     },
     "metadata": {},
     "output_type": "display_data"
    }
   ],
   "source": [
    "from base64 import b64encode\n",
    "from IPython.display import HTML, display\n",
    "import requests\n",
    "import pathlib\n",
    "from ipywidgets import widgets\n",
    "import functools\n",
    "import math\n",
    "\n",
    "def show_sample_animation(anim_out, btn):\n",
    "\n",
    "    anim_out.clear_output()\n",
    "\n",
    "    video_url = 'https://github.com/sio-co2o2/keelingcurve_notebooks/blob/main/images/sample_animations/co2_800k.mp4?raw=1'\n",
    "\n",
    "    r = requests.get(video_url, stream = True)\n",
    "\n",
    "    download_dir = pathlib.Path('./downloads')\n",
    "    download_dir.mkdir(exist_ok=True)\n",
    "\n",
    "    video_name = f'./downloads/co2_800k.mp4'\n",
    "\n",
    "    with open(video_name,\"wb\") as f:\n",
    "        for chunk in r.iter_content(chunk_size=1024):\n",
    "            # writing one chunk at a time \n",
    "            if chunk:\n",
    "                f.write(chunk)\n",
    "            \n",
    "    the_animation = open(video_name,'rb').read()\n",
    "\n",
    "    data_url = \"data:video/mp4;base64,\" + b64encode(the_animation).decode()\n",
    "\n",
    "    html_str = \"\"\"\n",
    "    <video width=800 controls>\n",
    "            <source src=\"%s\" type=\"video/mp4\">\n",
    "    </video>\n",
    "    \"\"\" % data_url\n",
    "\n",
    "    with anim_out:\n",
    "        display(HTML(html_str))\n",
    "\n",
    "\n",
    "anim_out = widgets.Output()\n",
    "\n",
    "layout = widgets.Layout(width='auto', height='auto') #set width and height\n",
    "\n",
    "button = widgets.Button(\n",
    "    description='Show sample animation',\n",
    "    disabled=False,\n",
    "    display='flex',\n",
    "    flex_flow='column',\n",
    "    align_items='stretch', \n",
    "    button_style='primary',\n",
    "    layout = layout\n",
    ")  \n",
    "\n",
    "button.on_click(functools.partial(show_sample_animation, anim_out))\n",
    "display(button)\n",
    "\n",
    "display(anim_out)"
   ]
  },
  {
   "cell_type": "markdown",
   "id": "a6384722",
   "metadata": {},
   "source": [
    "## **Notebook Code**"
   ]
  },
  {
   "cell_type": "markdown",
   "id": "qavgQ5z6Q5XJ",
   "metadata": {
    "id": "qavgQ5z6Q5XJ"
   },
   "source": [
    "### Import packages"
   ]
  },
  {
   "cell_type": "code",
   "execution_count": 50,
   "id": "28Ba9hNwQ5XJ",
   "metadata": {
    "id": "28Ba9hNwQ5XJ"
   },
   "outputs": [],
   "source": [
    "import functools\n",
    "import math\n",
    "from time import perf_counter\n",
    "import requests\n",
    "import re\n",
    "import pandas as pd\n",
    "import numpy as np\n",
    "from scipy import interpolate\n",
    "from datetime import datetime, date, timedelta\n",
    "from dateutil.relativedelta import relativedelta\n",
    "import pathlib\n",
    "import matplotlib.image as mpimg\n",
    "import matplotlib.pyplot as plt\n",
    "from matplotlib.pyplot import figure\n",
    "from matplotlib.ticker import (MultipleLocator, AutoMinorLocator)\n",
    "from matplotlib import ticker\n",
    "from matplotlib import rc,rcParams\n",
    "from matplotlib.path import Path\n",
    "import matplotlib.colors as mcolors\n",
    "from matplotlib.patches import Polygon\n",
    "import matplotlib.dates as mdates\n",
    "import matplotlib.lines as mlines\n",
    "import matplotlib.transforms\n",
    "from matplotlib import animation\n",
    "from ipywidgets import widgets\n",
    "from IPython.display import HTML, display\n",
    "from base64 import b64encode\n",
    "from PIL import Image\n",
    "import urllib\n",
    "import os\n",
    "\n",
    "%matplotlib inline"
   ]
  },
  {
   "cell_type": "code",
   "execution_count": 51,
   "id": "30f311a8",
   "metadata": {},
   "outputs": [],
   "source": [
    "# This package is used to convert a vector svg into a png\n",
    "\n",
    "try:\n",
    "  from cairosvg import svg2png\n",
    "except:\n",
    "  ! pip install cairosvg\n",
    "  from cairosvg import svg2png"
   ]
  },
  {
   "cell_type": "code",
   "execution_count": 52,
   "id": "f659499b-5b9c-483a-8e3e-9356bf581855",
   "metadata": {},
   "outputs": [],
   "source": [
    "# This import is to enable Google Colab to save files ane then download them\n",
    "\n",
    "# This import does not exist unless the notebook is run in Google Colab\n",
    "# Put in a try except block if user wants to use notebook off of Google Colab\n",
    "\n",
    "try:\n",
    "    from google.colab import files\n",
    "except:\n",
    "    pass"
   ]
  },
  {
   "cell_type": "markdown",
   "id": "9rUZHoSlQ5XL",
   "metadata": {
    "id": "9rUZHoSlQ5XL"
   },
   "source": [
    "### Set directories and file names"
   ]
  },
  {
   "cell_type": "code",
   "execution_count": 53,
   "id": "7k1m0yfKQ5XL",
   "metadata": {
    "id": "7k1m0yfKQ5XL"
   },
   "outputs": [],
   "source": [
    "# Get MLO data from the keelingcurve_notebooks github repository\n",
    "mlo_data_file = 'https://raw.githubusercontent.com/sio-co2o2/keelingcurve_notebooks/main/preliminary_data/mlo/mlo_full_record_now_span.csv'\n",
    "\n",
    "# Get the icecore dataset going back 2K years to 154 CE\n",
    "# This is a subset of the full dataset found at https://doi.org/10.25919/5bfe29ff807fb\n",
    "# The data subset is CO2 data from ice cores up to and including 1957\n",
    "icecore_2K_data_file = 'https://raw.githubusercontent.com/sio-co2o2/keelingcurve_notebooks/main/icecore_data/Law_Dome_GHG_2000years_co2_by_age_wo_firn_to_1957.csv'\n",
    "\n",
    "# Get the icecore dataset back 800K years located at \n",
    "# the site: https://www.ncei.noaa.gov/access/paleo-search/study/6091\n",
    "# the file: https://www.ncei.noaa.gov/pub/data/paleo/icecore/antarctica/epica_domec/edc-co2-2008.txt\n",
    "# with a reference to the journal articls at https://doi.org/10.1038/nature06949\n",
    "icecore_800K_url = 'https://www.ncei.noaa.gov/pub/data/paleo/icecore/antarctica/epica_domec/edc-co2-2008.txt'\n",
    "\n",
    "logo_file = 'https://github.com/sio-co2o2/keelingcurve_notebooks/raw/main/images/logos/ucsd_sio_logo.svg'\n",
    "\n",
    "animation_base_name = 'co2_800k'\n",
    "\n",
    "animation_dir = pathlib.Path(\"./animations\")\n",
    "animation_dir.mkdir(exist_ok=True)\n",
    "\n",
    "animation_file = f'{animation_base_name}.mp4'"
   ]
  },
  {
   "cell_type": "markdown",
   "id": "1d8c1271",
   "metadata": {},
   "source": [
    "## Functions to convert dates into various formats"
   ]
  },
  {
   "cell_type": "code",
   "execution_count": 54,
   "id": "670ec05c",
   "metadata": {},
   "outputs": [],
   "source": [
    "# Function to convert datetime to a float\n",
    "\n",
    "# source, https://stackoverflow.com/questions/19305991/convert-fractional-years-to-a-real-date-in-python\n",
    "def dt2t(adatetime):\n",
    "    \"\"\"\n",
    "    Convert adatetime into a float. The integer part of the float should\n",
    "    represent the year.\n",
    "    Order should be preserved. If adate<bdate, then d2t(adate)<d2t(bdate)\n",
    "    time distances should be preserved: If bdate-adate=ddate-cdate then\n",
    "    dt2t(bdate)-dt2t(adate) = dt2t(ddate)-dt2t(cdate)\n",
    "    \"\"\"\n",
    "    year = adatetime.year\n",
    "    boy = datetime(year, 1, 1)\n",
    "    eoy = datetime(year + 1, 1, 1)\n",
    "    return year + ((adatetime - boy).total_seconds() / ((eoy - boy).total_seconds()))"
   ]
  },
  {
   "cell_type": "code",
   "execution_count": 55,
   "id": "ab48119c",
   "metadata": {},
   "outputs": [],
   "source": [
    "def get_todays_date_variations():\n",
    "    \n",
    "    now = datetime.now()\n",
    "    todays_decimal =  dt2t(now)\n",
    "    \n",
    "    today = date.today()\n",
    "\n",
    "    todays_day = today.day\n",
    "    todays_month = today.strftime(\"%B\")\n",
    "    todays_year = today.year\n",
    "    todays_date_moyr = today.strftime(\"%B %Y\")\n",
    "    todays_date_modyyr = f\"{todays_month} {todays_day}, {todays_year}\"\n",
    "\n",
    "    return todays_date_moyr, todays_date_modyyr, todays_decimal, todays_year"
   ]
  },
  {
   "cell_type": "markdown",
   "id": "WPHBfzSaQ5XM",
   "metadata": {
    "id": "WPHBfzSaQ5XM"
   },
   "source": [
    "## **Load in data and prepare it for plotting**"
   ]
  },
  {
   "cell_type": "markdown",
   "id": "3q85K8kuQ5XM",
   "metadata": {
    "id": "3q85K8kuQ5XM"
   },
   "source": [
    "### **Load in MLO record**"
   ]
  },
  {
   "cell_type": "code",
   "execution_count": 56,
   "id": "8Uv_3XpdQ5XN",
   "metadata": {
    "colab": {
     "base_uri": "https://localhost:8080/",
     "height": 206
    },
    "id": "8Uv_3XpdQ5XN",
    "outputId": "acbfeb72-b55c-486e-a7d1-64d8018b51a4"
   },
   "outputs": [],
   "source": [
    "df_mlo = pd.read_csv(mlo_data_file,sep=',',comment='\"')"
   ]
  },
  {
   "cell_type": "markdown",
   "id": "pXa54NU2Q5XO",
   "metadata": {
    "id": "pXa54NU2Q5XO"
   },
   "source": [
    "### Get MLO seasonally adjusted data"
   ]
  },
  {
   "cell_type": "code",
   "execution_count": 57,
   "id": "hq_kCRDtQ5XO",
   "metadata": {
    "id": "hq_kCRDtQ5XO"
   },
   "outputs": [],
   "source": [
    "df_mlo = df_mlo[['date_seas_adj', 'co2_seas_adj']].copy()"
   ]
  },
  {
   "cell_type": "markdown",
   "id": "oY-KeJiSQ5XP",
   "metadata": {
    "id": "oY-KeJiSQ5XP"
   },
   "source": [
    "#### Remove rows with fill values NaN"
   ]
  },
  {
   "cell_type": "code",
   "execution_count": 58,
   "id": "JYGwDl1gQ5XQ",
   "metadata": {
    "id": "JYGwDl1gQ5XQ",
    "scrolled": true
   },
   "outputs": [],
   "source": [
    "df_mlo = df_mlo.dropna()"
   ]
  },
  {
   "cell_type": "markdown",
   "id": "tFuV0BsbQ5XQ",
   "metadata": {
    "id": "tFuV0BsbQ5XQ"
   },
   "source": [
    "#### Convert to numpy arrays for plotting\n",
    "\n",
    "Will use this to annotate the plot at various years"
   ]
  },
  {
   "cell_type": "code",
   "execution_count": 59,
   "id": "xH9ta_LoQ5XQ",
   "metadata": {
    "id": "xH9ta_LoQ5XQ"
   },
   "outputs": [],
   "source": [
    "mlo_date = df_mlo['date_seas_adj'].to_numpy()\n",
    "mlo_co2 = df_mlo['co2_seas_adj'].to_numpy()"
   ]
  },
  {
   "cell_type": "markdown",
   "id": "bb59b1cf",
   "metadata": {},
   "source": [
    "### Filter MLO seasonally adjusted data to first value of each year\n",
    "\n",
    "This is for the animation to be one frame per year since it is on a large time scale when the ice-core data is combined with it"
   ]
  },
  {
   "cell_type": "code",
   "execution_count": 60,
   "id": "71cd6a1a",
   "metadata": {},
   "outputs": [
    {
     "name": "stdout",
     "output_type": "stream",
     "text": [
      "   date_seas_adj  co2_seas_adj\n",
      "0    1958.202740        314.43\n",
      "1    1959.041096        315.52\n",
      "2    1960.040984        316.38\n",
      "3    1961.041096        316.84\n",
      "4    1962.041096        317.88\n",
      "    date_seas_adj  co2_seas_adj\n",
      "62    2020.040984        413.24\n",
      "63    2021.041096        415.08\n",
      "64    2022.041096        417.95\n",
      "65    2023.041096        419.17\n",
      "66    2023.126027        419.55\n"
     ]
    }
   ],
   "source": [
    "# First get the floor of each date and then get unique values\n",
    "# Apply floor function to each element in the column 'date_seas_adj'\n",
    "df_mlo['start_year'] = df_mlo['date_seas_adj'].apply(lambda x: math.floor(x))\n",
    "\n",
    "last_year = df_mlo['date_seas_adj'].iloc[-1]\n",
    "last_co2 = df_mlo['co2_seas_adj'].iloc[-1]\n",
    "\n",
    "# Drop duplicates except for the first value (which will be the first value of each year)\n",
    "df_mlo_start_years = df_mlo.drop_duplicates('start_year').copy()\n",
    "\n",
    "df_mlo_start_years.reset_index(inplace=True, drop=True)\n",
    "\n",
    "# Remove the start_year column since it was only used for getting unique values\n",
    "df_mlo_start_years.drop('start_year', axis=1, inplace=True)\n",
    "\n",
    "# Add the last values of CO2\n",
    "df = {'date_seas_adj': last_year, 'co2_seas_adj': last_co2}\n",
    "df_mlo_start_years = df_mlo_start_years.append(df, ignore_index = True)\n",
    "\n",
    "# Add back in the last date and value\n",
    "\n",
    "print(df_mlo_start_years.head())\n",
    "\n",
    "print(df_mlo_start_years.tail())"
   ]
  },
  {
   "cell_type": "markdown",
   "id": "a0573377",
   "metadata": {},
   "source": [
    "#### Convert to numpy arrays for plotting\n",
    "\n",
    "Will use this data in the animation"
   ]
  },
  {
   "cell_type": "code",
   "execution_count": 61,
   "id": "a3450688",
   "metadata": {},
   "outputs": [],
   "source": [
    "mlo_yearly_date = df_mlo_start_years['date_seas_adj'].to_numpy()\n",
    "mlo_yearly_co2 = df_mlo_start_years['co2_seas_adj'].to_numpy()"
   ]
  },
  {
   "cell_type": "markdown",
   "id": "wzYabkHeTR5y",
   "metadata": {
    "id": "wzYabkHeTR5y"
   },
   "source": [
    "### **Load in the icecore record back 2K years**"
   ]
  },
  {
   "cell_type": "code",
   "execution_count": 62,
   "id": "f9520ca4",
   "metadata": {},
   "outputs": [
    {
     "data": {
      "text/html": [
       "<div>\n",
       "<style scoped>\n",
       "    .dataframe tbody tr th:only-of-type {\n",
       "        vertical-align: middle;\n",
       "    }\n",
       "\n",
       "    .dataframe tbody tr th {\n",
       "        vertical-align: top;\n",
       "    }\n",
       "\n",
       "    .dataframe thead th {\n",
       "        text-align: right;\n",
       "    }\n",
       "</style>\n",
       "<table border=\"1\" class=\"dataframe\">\n",
       "  <thead>\n",
       "    <tr style=\"text-align: right;\">\n",
       "      <th></th>\n",
       "      <th>date_ce</th>\n",
       "      <th>co2</th>\n",
       "    </tr>\n",
       "  </thead>\n",
       "  <tbody>\n",
       "    <tr>\n",
       "      <th>0</th>\n",
       "      <td>154.0</td>\n",
       "      <td>278.2</td>\n",
       "    </tr>\n",
       "    <tr>\n",
       "      <th>1</th>\n",
       "      <td>175.0</td>\n",
       "      <td>277.7</td>\n",
       "    </tr>\n",
       "    <tr>\n",
       "      <th>2</th>\n",
       "      <td>241.0</td>\n",
       "      <td>280.4</td>\n",
       "    </tr>\n",
       "    <tr>\n",
       "      <th>3</th>\n",
       "      <td>266.0</td>\n",
       "      <td>278.4</td>\n",
       "    </tr>\n",
       "    <tr>\n",
       "      <th>4</th>\n",
       "      <td>274.0</td>\n",
       "      <td>280.2</td>\n",
       "    </tr>\n",
       "  </tbody>\n",
       "</table>\n",
       "</div>"
      ],
      "text/plain": [
       "   date_ce    co2\n",
       "0    154.0  278.2\n",
       "1    175.0  277.7\n",
       "2    241.0  280.4\n",
       "3    266.0  278.4\n",
       "4    274.0  280.2"
      ]
     },
     "execution_count": 62,
     "metadata": {},
     "output_type": "execute_result"
    }
   ],
   "source": [
    "df_icecore_2K = pd.read_csv(icecore_2K_data_file, sep=',', comment='#', skipinitialspace=True)\n",
    "\n",
    "df_icecore_2K.head()"
   ]
  },
  {
   "cell_type": "markdown",
   "id": "p9_tBNmmTSua",
   "metadata": {
    "id": "p9_tBNmmTSua"
   },
   "source": [
    "### **Load in the icecore record back 800K years**\n",
    "The date column is in BP units which stands for \"before present year\"\n"
   ]
  },
  {
   "cell_type": "code",
   "execution_count": 63,
   "id": "9RJLTRHiTTR1",
   "metadata": {
    "id": "9RJLTRHiTTR1"
   },
   "outputs": [],
   "source": [
    "response = requests.get(icecore_800K_url)\n",
    "file_text = response.text\n",
    "text_lines = file_text.split('\\n')"
   ]
  },
  {
   "cell_type": "markdown",
   "id": "TpOIvrhsVY8K",
   "metadata": {
    "id": "TpOIvrhsVY8K"
   },
   "source": [
    "#### Use data from section 3 of ice-core file edc-co2-2008.txt labeled: \"Composite CO2 record\"\n",
    "\n",
    "**Section to start with**\n",
    "\n",
    "3. Composite CO2 record (0-800 kyr BP)\n",
    "\n",
    "**Section to stop with**\n",
    "\n",
    "end of file"
   ]
  },
  {
   "cell_type": "code",
   "execution_count": 64,
   "id": "1EMwe8SBVZQr",
   "metadata": {
    "colab": {
     "base_uri": "https://localhost:8080/"
    },
    "id": "1EMwe8SBVZQr",
    "outputId": "0ee93a36-e5ad-4419-e6ef-a871826e764f"
   },
   "outputs": [
    {
     "data": {
      "text/plain": [
       "['268           274.9\\r',\n",
       " '279           277.9\\r',\n",
       " '395           279.1\\r',\n",
       " '404           281.9\\r',\n",
       " '485           277.7\\r',\n",
       " '559           281.1\\r',\n",
       " '672           282.2\\r',\n",
       " '754           280.1\\r',\n",
       " '877           278.4\\r']"
      ]
     },
     "execution_count": 64,
     "metadata": {},
     "output_type": "execute_result"
    }
   ],
   "source": [
    "start_section = [i for i in range(len(text_lines))\n",
    "               if text_lines[i].startswith('3. Composite CO2 record (0-800 kyr BP)')][0]\n",
    "\n",
    "# Select to end of file since no more sections after Section 3\n",
    "section_lines = text_lines[start_section:]\n",
    "\n",
    "# start data selection after line \"Age(yrBP)    CO2(ppmv)\"\n",
    "header_end = [i for i in range(len(section_lines))\n",
    "              if section_lines[i].startswith('Age(yrBP)')][0]\n",
    "\n",
    "start_data = header_end + 1\n",
    "\n",
    "data_lines = section_lines[start_data:]\n",
    "\n",
    "data_lines[1:10]"
   ]
  },
  {
   "cell_type": "markdown",
   "id": "Tc0IHYLKVZjc",
   "metadata": {
    "id": "Tc0IHYLKVZjc"
   },
   "source": [
    "Remove trailing return character"
   ]
  },
  {
   "cell_type": "code",
   "execution_count": 65,
   "id": "AlfT4_LnVZ2d",
   "metadata": {
    "colab": {
     "base_uri": "https://localhost:8080/"
    },
    "id": "AlfT4_LnVZ2d",
    "outputId": "7dc725cf-4de2-41f0-8f4f-f6d12c082284"
   },
   "outputs": [
    {
     "data": {
      "text/plain": [
       "['137           280.4',\n",
       " '268           274.9',\n",
       " '279           277.9',\n",
       " '395           279.1',\n",
       " '404           281.9',\n",
       " '485           277.7',\n",
       " '559           281.1',\n",
       " '672           282.2',\n",
       " '754           280.1',\n",
       " '877           278.4']"
      ]
     },
     "execution_count": 65,
     "metadata": {},
     "output_type": "execute_result"
    }
   ],
   "source": [
    "data_list = [line.rstrip() for line in data_lines]\n",
    "data_list[0:10]"
   ]
  },
  {
   "cell_type": "markdown",
   "id": "duGfzMNvVaQf",
   "metadata": {
    "id": "duGfzMNvVaQf"
   },
   "source": [
    "Read data list into a Pandas dataframe and split into columns date_ce and co2"
   ]
  },
  {
   "cell_type": "code",
   "execution_count": 66,
   "id": "ujRpeSNAVakj",
   "metadata": {
    "colab": {
     "base_uri": "https://localhost:8080/"
    },
    "id": "ujRpeSNAVakj",
    "outputId": "0db33db3-652b-4c4d-f13d-ff67baf9d89f"
   },
   "outputs": [
    {
     "data": {
      "text/html": [
       "<div>\n",
       "<style scoped>\n",
       "    .dataframe tbody tr th:only-of-type {\n",
       "        vertical-align: middle;\n",
       "    }\n",
       "\n",
       "    .dataframe tbody tr th {\n",
       "        vertical-align: top;\n",
       "    }\n",
       "\n",
       "    .dataframe thead th {\n",
       "        text-align: right;\n",
       "    }\n",
       "</style>\n",
       "<table border=\"1\" class=\"dataframe\">\n",
       "  <thead>\n",
       "    <tr style=\"text-align: right;\">\n",
       "      <th></th>\n",
       "      <th>date_bp</th>\n",
       "      <th>co2</th>\n",
       "    </tr>\n",
       "  </thead>\n",
       "  <tbody>\n",
       "    <tr>\n",
       "      <th>0</th>\n",
       "      <td>137</td>\n",
       "      <td>280.4</td>\n",
       "    </tr>\n",
       "    <tr>\n",
       "      <th>1</th>\n",
       "      <td>268</td>\n",
       "      <td>274.9</td>\n",
       "    </tr>\n",
       "    <tr>\n",
       "      <th>2</th>\n",
       "      <td>279</td>\n",
       "      <td>277.9</td>\n",
       "    </tr>\n",
       "    <tr>\n",
       "      <th>3</th>\n",
       "      <td>395</td>\n",
       "      <td>279.1</td>\n",
       "    </tr>\n",
       "    <tr>\n",
       "      <th>4</th>\n",
       "      <td>404</td>\n",
       "      <td>281.9</td>\n",
       "    </tr>\n",
       "  </tbody>\n",
       "</table>\n",
       "</div>"
      ],
      "text/plain": [
       "  date_bp              co2\n",
       "0     137            280.4\n",
       "1     268            274.9\n",
       "2     279            277.9\n",
       "3     395            279.1\n",
       "4     404            281.9"
      ]
     },
     "execution_count": 66,
     "metadata": {},
     "output_type": "execute_result"
    }
   ],
   "source": [
    "df_icecore_800K = pd.DataFrame(data_list)\n",
    "df_icecore_800K.columns = ['data']\n",
    "\n",
    "df_icecore_800K[['date_bp', 'co2']] = df_icecore_800K['data'].str.split(\" \", 1, expand=True)\n",
    "df_icecore_800K.drop('data', axis=1, inplace=True)\n",
    "\n",
    "df_icecore_800K.head()"
   ]
  },
  {
   "cell_type": "markdown",
   "id": "8meDhQtRVbAa",
   "metadata": {
    "id": "8meDhQtRVbAa"
   },
   "source": [
    "Remove empty rows and convert columns from strings to numbers"
   ]
  },
  {
   "cell_type": "code",
   "execution_count": 67,
   "id": "_wmlWaAyVbXV",
   "metadata": {
    "id": "_wmlWaAyVbXV"
   },
   "outputs": [],
   "source": [
    "# First change empty strings to NaN. Then can easily drop NaN rows\n",
    "df_icecore_800K['date_bp'].replace('', np.nan, inplace=True)\n",
    "\n",
    "df_icecore_800K = df_icecore_800K.dropna()\n",
    "\n",
    "df_icecore_800K = df_icecore_800K.astype(float)"
   ]
  },
  {
   "cell_type": "markdown",
   "id": "YhMiOASfZzkJ",
   "metadata": {
    "id": "YhMiOASfZzkJ"
   },
   "source": [
    "### Combine 800K back and 2K back together\n",
    "Exclude 800K dataset points that overlap with the start of the 2K dataset"
   ]
  },
  {
   "cell_type": "markdown",
   "id": "j_ar-bylb8bg",
   "metadata": {
    "id": "j_ar-bylb8bg"
   },
   "source": [
    "The date in the 800K dataset is in BP years which means (before present) years. Here in the dataset, present year is 1950"
   ]
  },
  {
   "cell_type": "markdown",
   "id": "yuRZl_lwbW8T",
   "metadata": {
    "id": "yuRZl_lwbW8T"
   },
   "source": [
    "First convert 800K dataset from dates BP (before present) to CE\n",
    "\n",
    "years before present = 1950 - year ce\n",
    "\n",
    "year ce = 1950 - years before present"
   ]
  },
  {
   "cell_type": "code",
   "execution_count": 68,
   "id": "LBUkd7AUZ0BS",
   "metadata": {
    "colab": {
     "base_uri": "https://localhost:8080/",
     "height": 363
    },
    "id": "LBUkd7AUZ0BS",
    "outputId": "6dbfed77-addb-4f9c-ea06-d551f73b3d82"
   },
   "outputs": [
    {
     "data": {
      "text/html": [
       "<div>\n",
       "<style scoped>\n",
       "    .dataframe tbody tr th:only-of-type {\n",
       "        vertical-align: middle;\n",
       "    }\n",
       "\n",
       "    .dataframe tbody tr th {\n",
       "        vertical-align: top;\n",
       "    }\n",
       "\n",
       "    .dataframe thead th {\n",
       "        text-align: right;\n",
       "    }\n",
       "</style>\n",
       "<table border=\"1\" class=\"dataframe\">\n",
       "  <thead>\n",
       "    <tr style=\"text-align: right;\">\n",
       "      <th></th>\n",
       "      <th>date_bp</th>\n",
       "      <th>co2</th>\n",
       "      <th>date_ce</th>\n",
       "    </tr>\n",
       "  </thead>\n",
       "  <tbody>\n",
       "    <tr>\n",
       "      <th>0</th>\n",
       "      <td>137.0</td>\n",
       "      <td>280.4</td>\n",
       "      <td>1813.0</td>\n",
       "    </tr>\n",
       "    <tr>\n",
       "      <th>1</th>\n",
       "      <td>268.0</td>\n",
       "      <td>274.9</td>\n",
       "      <td>1682.0</td>\n",
       "    </tr>\n",
       "    <tr>\n",
       "      <th>2</th>\n",
       "      <td>279.0</td>\n",
       "      <td>277.9</td>\n",
       "      <td>1671.0</td>\n",
       "    </tr>\n",
       "    <tr>\n",
       "      <th>3</th>\n",
       "      <td>395.0</td>\n",
       "      <td>279.1</td>\n",
       "      <td>1555.0</td>\n",
       "    </tr>\n",
       "    <tr>\n",
       "      <th>4</th>\n",
       "      <td>404.0</td>\n",
       "      <td>281.9</td>\n",
       "      <td>1546.0</td>\n",
       "    </tr>\n",
       "    <tr>\n",
       "      <th>5</th>\n",
       "      <td>485.0</td>\n",
       "      <td>277.7</td>\n",
       "      <td>1465.0</td>\n",
       "    </tr>\n",
       "    <tr>\n",
       "      <th>6</th>\n",
       "      <td>559.0</td>\n",
       "      <td>281.1</td>\n",
       "      <td>1391.0</td>\n",
       "    </tr>\n",
       "    <tr>\n",
       "      <th>7</th>\n",
       "      <td>672.0</td>\n",
       "      <td>282.2</td>\n",
       "      <td>1278.0</td>\n",
       "    </tr>\n",
       "    <tr>\n",
       "      <th>8</th>\n",
       "      <td>754.0</td>\n",
       "      <td>280.1</td>\n",
       "      <td>1196.0</td>\n",
       "    </tr>\n",
       "    <tr>\n",
       "      <th>9</th>\n",
       "      <td>877.0</td>\n",
       "      <td>278.4</td>\n",
       "      <td>1073.0</td>\n",
       "    </tr>\n",
       "  </tbody>\n",
       "</table>\n",
       "</div>"
      ],
      "text/plain": [
       "   date_bp    co2  date_ce\n",
       "0    137.0  280.4   1813.0\n",
       "1    268.0  274.9   1682.0\n",
       "2    279.0  277.9   1671.0\n",
       "3    395.0  279.1   1555.0\n",
       "4    404.0  281.9   1546.0\n",
       "5    485.0  277.7   1465.0\n",
       "6    559.0  281.1   1391.0\n",
       "7    672.0  282.2   1278.0\n",
       "8    754.0  280.1   1196.0\n",
       "9    877.0  278.4   1073.0"
      ]
     },
     "execution_count": 68,
     "metadata": {},
     "output_type": "execute_result"
    }
   ],
   "source": [
    "df_icecore_800K['date_ce'] = 1950 - df_icecore_800K['date_bp']\n",
    "df_icecore_800K[0:10]"
   ]
  },
  {
   "cell_type": "markdown",
   "id": "wUTzh1aMhbgc",
   "metadata": {
    "id": "wUTzh1aMhbgc"
   },
   "source": [
    "Sort date ascending"
   ]
  },
  {
   "cell_type": "code",
   "execution_count": 69,
   "id": "VumMyo_vhb4H",
   "metadata": {
    "colab": {
     "base_uri": "https://localhost:8080/",
     "height": 206
    },
    "id": "VumMyo_vhb4H",
    "outputId": "8b8c5dea-78fe-4519-b914-97c8c9b5028e"
   },
   "outputs": [
    {
     "data": {
      "text/html": [
       "<div>\n",
       "<style scoped>\n",
       "    .dataframe tbody tr th:only-of-type {\n",
       "        vertical-align: middle;\n",
       "    }\n",
       "\n",
       "    .dataframe tbody tr th {\n",
       "        vertical-align: top;\n",
       "    }\n",
       "\n",
       "    .dataframe thead th {\n",
       "        text-align: right;\n",
       "    }\n",
       "</style>\n",
       "<table border=\"1\" class=\"dataframe\">\n",
       "  <thead>\n",
       "    <tr style=\"text-align: right;\">\n",
       "      <th></th>\n",
       "      <th>date_bp</th>\n",
       "      <th>co2</th>\n",
       "      <th>date_ce</th>\n",
       "    </tr>\n",
       "  </thead>\n",
       "  <tbody>\n",
       "    <tr>\n",
       "      <th>0</th>\n",
       "      <td>798512.0</td>\n",
       "      <td>191.0</td>\n",
       "      <td>-796562.0</td>\n",
       "    </tr>\n",
       "    <tr>\n",
       "      <th>1</th>\n",
       "      <td>797099.0</td>\n",
       "      <td>188.4</td>\n",
       "      <td>-795149.0</td>\n",
       "    </tr>\n",
       "    <tr>\n",
       "      <th>2</th>\n",
       "      <td>796467.0</td>\n",
       "      <td>189.3</td>\n",
       "      <td>-794517.0</td>\n",
       "    </tr>\n",
       "    <tr>\n",
       "      <th>3</th>\n",
       "      <td>795202.0</td>\n",
       "      <td>195.2</td>\n",
       "      <td>-793252.0</td>\n",
       "    </tr>\n",
       "    <tr>\n",
       "      <th>4</th>\n",
       "      <td>794608.0</td>\n",
       "      <td>199.4</td>\n",
       "      <td>-792658.0</td>\n",
       "    </tr>\n",
       "  </tbody>\n",
       "</table>\n",
       "</div>"
      ],
      "text/plain": [
       "    date_bp    co2   date_ce\n",
       "0  798512.0  191.0 -796562.0\n",
       "1  797099.0  188.4 -795149.0\n",
       "2  796467.0  189.3 -794517.0\n",
       "3  795202.0  195.2 -793252.0\n",
       "4  794608.0  199.4 -792658.0"
      ]
     },
     "execution_count": 69,
     "metadata": {},
     "output_type": "execute_result"
    }
   ],
   "source": [
    "df_icecore_800K = df_icecore_800K.sort_values(by=['date_ce'], ascending=True)\n",
    "\n",
    "# And reset the index\n",
    "df_icecore_800K = df_icecore_800K.reset_index(drop=True)\n",
    "\n",
    "df_icecore_800K.head()"
   ]
  },
  {
   "cell_type": "markdown",
   "id": "SOzAnbgLdOMm",
   "metadata": {
    "id": "SOzAnbgLdOMm"
   },
   "source": [
    "Remove data points from the 800K dataset that overlap with the 2K dataset"
   ]
  },
  {
   "cell_type": "code",
   "execution_count": 70,
   "id": "B2HFWY1PdOkR",
   "metadata": {
    "id": "B2HFWY1PdOkR"
   },
   "outputs": [],
   "source": [
    "min_2K = min(df_icecore_2K['date_ce'])\n",
    "\n",
    "df_icecore_800K = df_icecore_800K[df_icecore_800K['date_ce'] < min_2K]"
   ]
  },
  {
   "cell_type": "markdown",
   "id": "uKZXsuYQdO55",
   "metadata": {
    "id": "uKZXsuYQdO55"
   },
   "source": [
    "Remove 'date_bp' column to have matching columns when concatenate 2K and 800K datasets"
   ]
  },
  {
   "cell_type": "code",
   "execution_count": 71,
   "id": "c3Vkyi7qdPjT",
   "metadata": {
    "colab": {
     "base_uri": "https://localhost:8080/",
     "height": 206
    },
    "id": "c3Vkyi7qdPjT",
    "outputId": "1690cd01-0cb5-4030-bcf0-58fe44c8ceed"
   },
   "outputs": [
    {
     "data": {
      "text/html": [
       "<div>\n",
       "<style scoped>\n",
       "    .dataframe tbody tr th:only-of-type {\n",
       "        vertical-align: middle;\n",
       "    }\n",
       "\n",
       "    .dataframe tbody tr th {\n",
       "        vertical-align: top;\n",
       "    }\n",
       "\n",
       "    .dataframe thead th {\n",
       "        text-align: right;\n",
       "    }\n",
       "</style>\n",
       "<table border=\"1\" class=\"dataframe\">\n",
       "  <thead>\n",
       "    <tr style=\"text-align: right;\">\n",
       "      <th></th>\n",
       "      <th>date_ce</th>\n",
       "      <th>co2</th>\n",
       "    </tr>\n",
       "  </thead>\n",
       "  <tbody>\n",
       "    <tr>\n",
       "      <th>0</th>\n",
       "      <td>-796562.0</td>\n",
       "      <td>191.0</td>\n",
       "    </tr>\n",
       "    <tr>\n",
       "      <th>1</th>\n",
       "      <td>-795149.0</td>\n",
       "      <td>188.4</td>\n",
       "    </tr>\n",
       "    <tr>\n",
       "      <th>2</th>\n",
       "      <td>-794517.0</td>\n",
       "      <td>189.3</td>\n",
       "    </tr>\n",
       "    <tr>\n",
       "      <th>3</th>\n",
       "      <td>-793252.0</td>\n",
       "      <td>195.2</td>\n",
       "    </tr>\n",
       "    <tr>\n",
       "      <th>4</th>\n",
       "      <td>-792658.0</td>\n",
       "      <td>199.4</td>\n",
       "    </tr>\n",
       "  </tbody>\n",
       "</table>\n",
       "</div>"
      ],
      "text/plain": [
       "    date_ce    co2\n",
       "0 -796562.0  191.0\n",
       "1 -795149.0  188.4\n",
       "2 -794517.0  189.3\n",
       "3 -793252.0  195.2\n",
       "4 -792658.0  199.4"
      ]
     },
     "execution_count": 71,
     "metadata": {},
     "output_type": "execute_result"
    }
   ],
   "source": [
    "df_icecore_800K.drop('date_bp', axis=1, inplace=True)\n",
    "\n",
    "# move date_ce column before co2\n",
    "df_icecore_800K = df_icecore_800K.reindex(columns=['date_ce', 'co2'])\n",
    "\n",
    "df_icecore_800K.head()"
   ]
  },
  {
   "cell_type": "markdown",
   "id": "Sb_ebaLKdP8C",
   "metadata": {
    "id": "Sb_ebaLKdP8C"
   },
   "source": [
    "Concatenate the icecore 800K and 2K datasets"
   ]
  },
  {
   "cell_type": "code",
   "execution_count": 72,
   "id": "oIPJ9fIXdQQ3",
   "metadata": {
    "id": "oIPJ9fIXdQQ3"
   },
   "outputs": [],
   "source": [
    "df_combined_icecore = pd.concat([df_icecore_800K, df_icecore_2K], ignore_index=True)"
   ]
  },
  {
   "cell_type": "markdown",
   "id": "HsxqfMFZmRMh",
   "metadata": {
    "id": "HsxqfMFZmRMh"
   },
   "source": [
    "### Combine icecore data with MLO data"
   ]
  },
  {
   "cell_type": "markdown",
   "id": "HUE6sCWynD4k",
   "metadata": {
    "id": "HUE6sCWynD4k"
   },
   "source": [
    "Rename columns so will have same column names when combine with the icecore dataframe"
   ]
  },
  {
   "cell_type": "code",
   "execution_count": 73,
   "id": "WjhxOIBkmRi5",
   "metadata": {
    "colab": {
     "base_uri": "https://localhost:8080/",
     "height": 206
    },
    "id": "WjhxOIBkmRi5",
    "outputId": "b3626a43-ef4d-4d51-98ac-c62f570d6997"
   },
   "outputs": [
    {
     "data": {
      "text/html": [
       "<div>\n",
       "<style scoped>\n",
       "    .dataframe tbody tr th:only-of-type {\n",
       "        vertical-align: middle;\n",
       "    }\n",
       "\n",
       "    .dataframe tbody tr th {\n",
       "        vertical-align: top;\n",
       "    }\n",
       "\n",
       "    .dataframe thead th {\n",
       "        text-align: right;\n",
       "    }\n",
       "</style>\n",
       "<table border=\"1\" class=\"dataframe\">\n",
       "  <thead>\n",
       "    <tr style=\"text-align: right;\">\n",
       "      <th></th>\n",
       "      <th>date_ce</th>\n",
       "      <th>co2</th>\n",
       "    </tr>\n",
       "  </thead>\n",
       "  <tbody>\n",
       "    <tr>\n",
       "      <th>0</th>\n",
       "      <td>1958.202740</td>\n",
       "      <td>314.43</td>\n",
       "    </tr>\n",
       "    <tr>\n",
       "      <th>1</th>\n",
       "      <td>1959.041096</td>\n",
       "      <td>315.52</td>\n",
       "    </tr>\n",
       "    <tr>\n",
       "      <th>2</th>\n",
       "      <td>1960.040984</td>\n",
       "      <td>316.38</td>\n",
       "    </tr>\n",
       "    <tr>\n",
       "      <th>3</th>\n",
       "      <td>1961.041096</td>\n",
       "      <td>316.84</td>\n",
       "    </tr>\n",
       "    <tr>\n",
       "      <th>4</th>\n",
       "      <td>1962.041096</td>\n",
       "      <td>317.88</td>\n",
       "    </tr>\n",
       "  </tbody>\n",
       "</table>\n",
       "</div>"
      ],
      "text/plain": [
       "       date_ce     co2\n",
       "0  1958.202740  314.43\n",
       "1  1959.041096  315.52\n",
       "2  1960.040984  316.38\n",
       "3  1961.041096  316.84\n",
       "4  1962.041096  317.88"
      ]
     },
     "execution_count": 73,
     "metadata": {},
     "output_type": "execute_result"
    }
   ],
   "source": [
    "df_mlo_start_years.columns = ['date_ce', 'co2']\n",
    "\n",
    "df_mlo_start_years.head()"
   ]
  },
  {
   "cell_type": "markdown",
   "id": "PtawDwbDnhmK",
   "metadata": {
    "id": "PtawDwbDnhmK"
   },
   "source": [
    "Concatenate combined icecore with MLO data\n",
    "\n",
    "and sort ascending"
   ]
  },
  {
   "cell_type": "code",
   "execution_count": 74,
   "id": "B6owPLYUnh-5",
   "metadata": {
    "colab": {
     "base_uri": "https://localhost:8080/",
     "height": 363
    },
    "id": "B6owPLYUnh-5",
    "outputId": "419d83f8-0cd0-4123-e911-cd8d1246cb0a"
   },
   "outputs": [
    {
     "data": {
      "text/html": [
       "<div>\n",
       "<style scoped>\n",
       "    .dataframe tbody tr th:only-of-type {\n",
       "        vertical-align: middle;\n",
       "    }\n",
       "\n",
       "    .dataframe tbody tr th {\n",
       "        vertical-align: top;\n",
       "    }\n",
       "\n",
       "    .dataframe thead th {\n",
       "        text-align: right;\n",
       "    }\n",
       "</style>\n",
       "<table border=\"1\" class=\"dataframe\">\n",
       "  <thead>\n",
       "    <tr style=\"text-align: right;\">\n",
       "      <th></th>\n",
       "      <th>date_ce</th>\n",
       "      <th>co2</th>\n",
       "    </tr>\n",
       "  </thead>\n",
       "  <tbody>\n",
       "    <tr>\n",
       "      <th>0</th>\n",
       "      <td>-796562.000000</td>\n",
       "      <td>191.00</td>\n",
       "    </tr>\n",
       "    <tr>\n",
       "      <th>1</th>\n",
       "      <td>-795149.000000</td>\n",
       "      <td>188.40</td>\n",
       "    </tr>\n",
       "    <tr>\n",
       "      <th>2</th>\n",
       "      <td>-794517.000000</td>\n",
       "      <td>189.30</td>\n",
       "    </tr>\n",
       "    <tr>\n",
       "      <th>3</th>\n",
       "      <td>-793252.000000</td>\n",
       "      <td>195.20</td>\n",
       "    </tr>\n",
       "    <tr>\n",
       "      <th>4</th>\n",
       "      <td>-792658.000000</td>\n",
       "      <td>199.40</td>\n",
       "    </tr>\n",
       "    <tr>\n",
       "      <th>...</th>\n",
       "      <td>...</td>\n",
       "      <td>...</td>\n",
       "    </tr>\n",
       "    <tr>\n",
       "      <th>1396</th>\n",
       "      <td>2010.041096</td>\n",
       "      <td>388.49</td>\n",
       "    </tr>\n",
       "    <tr>\n",
       "      <th>1397</th>\n",
       "      <td>2011.041096</td>\n",
       "      <td>391.26</td>\n",
       "    </tr>\n",
       "    <tr>\n",
       "      <th>1398</th>\n",
       "      <td>2012.040984</td>\n",
       "      <td>393.07</td>\n",
       "    </tr>\n",
       "    <tr>\n",
       "      <th>1399</th>\n",
       "      <td>2013.041096</td>\n",
       "      <td>395.63</td>\n",
       "    </tr>\n",
       "    <tr>\n",
       "      <th>1400</th>\n",
       "      <td>2014.041096</td>\n",
       "      <td>397.94</td>\n",
       "    </tr>\n",
       "  </tbody>\n",
       "</table>\n",
       "<p>1401 rows × 2 columns</p>\n",
       "</div>"
      ],
      "text/plain": [
       "            date_ce     co2\n",
       "0    -796562.000000  191.00\n",
       "1    -795149.000000  188.40\n",
       "2    -794517.000000  189.30\n",
       "3    -793252.000000  195.20\n",
       "4    -792658.000000  199.40\n",
       "...             ...     ...\n",
       "1396    2010.041096  388.49\n",
       "1397    2011.041096  391.26\n",
       "1398    2012.040984  393.07\n",
       "1399    2013.041096  395.63\n",
       "1400    2014.041096  397.94\n",
       "\n",
       "[1401 rows x 2 columns]"
      ]
     },
     "execution_count": 74,
     "metadata": {},
     "output_type": "execute_result"
    }
   ],
   "source": [
    "df_combined = pd.concat([df_combined_icecore, df_mlo_start_years], ignore_index=True)\n",
    "\n",
    "# And reset the index\n",
    "df_combined = df_combined.reset_index(drop=True)\n",
    "\n",
    "# sort ascending\n",
    "df_combined = df_combined.sort_values(by=['date_ce'], ascending=True)\n",
    "\n",
    "df_combined[0:10]\n",
    "\n",
    "df_combined[:-10]"
   ]
  },
  {
   "cell_type": "markdown",
   "id": "8f9069ac",
   "metadata": {},
   "source": [
    "Filter the values to only include one value per year"
   ]
  },
  {
   "cell_type": "code",
   "execution_count": 75,
   "id": "60c58498",
   "metadata": {},
   "outputs": [
    {
     "name": "stdout",
     "output_type": "stream",
     "text": [
      "    date_ce    co2\n",
      "0 -796562.0  191.0\n",
      "1 -795149.0  188.4\n",
      "2 -794517.0  189.3\n",
      "3 -793252.0  195.2\n",
      "4 -792658.0  199.4\n",
      "          date_ce     co2\n",
      "1309  2019.041096  410.79\n",
      "1310  2020.040984  413.24\n",
      "1311  2021.041096  415.08\n",
      "1312  2022.041096  417.95\n",
      "1313  2023.041096  419.17\n"
     ]
    }
   ],
   "source": [
    "# First get the floor of each date and then get unique values\n",
    "# Apply floor function to each element in the column 'date_seas_adj'\n",
    "df_combined['start_year'] = df_combined['date_ce'].apply(lambda x: math.floor(x))\n",
    "\n",
    "# Drop duplicates except for the first value (which will be the first value of each year)\n",
    "df_combined_start_years = df_combined.drop_duplicates('start_year').copy()\n",
    "\n",
    "df_combined_start_years.reset_index(inplace=True, drop=True)\n",
    "\n",
    "# Remove the start_year column since it was only used for getting unique values\n",
    "df_combined_start_years.drop('start_year', axis=1, inplace=True)\n",
    "\n",
    "df_combined = df_combined_start_years.copy()\n",
    "\n",
    "print(df_combined.head())\n",
    "print(df_combined.tail())\n"
   ]
  },
  {
   "cell_type": "markdown",
   "id": "fGZrUmediI1u",
   "metadata": {
    "id": "fGZrUmediI1u"
   },
   "source": [
    "### Convert back into units BP (before present)\n",
    "\n",
    "Today is the present date."
   ]
  },
  {
   "cell_type": "markdown",
   "id": "zoRTUybgiJgK",
   "metadata": {
    "id": "zoRTUybgiJgK"
   },
   "source": [
    "Run function to get todays date in decimal year format\n"
   ]
  },
  {
   "cell_type": "code",
   "execution_count": 76,
   "id": "MdA-ptpYiJ3m",
   "metadata": {
    "id": "MdA-ptpYiJ3m"
   },
   "outputs": [],
   "source": [
    "todays_date_moyr, todays_date_modyyr, todays_decimal, todays_year = get_todays_date_variations()"
   ]
  },
  {
   "cell_type": "markdown",
   "id": "04LmvY8VoVZF",
   "metadata": {
    "id": "04LmvY8VoVZF"
   },
   "source": [
    "Convert combined data from date_ce to date_bp (before present now)"
   ]
  },
  {
   "cell_type": "code",
   "execution_count": 77,
   "id": "V_lhtIp2kS7d",
   "metadata": {
    "id": "V_lhtIp2kS7d"
   },
   "outputs": [],
   "source": [
    "# years before now = present year - date ce\n",
    "df_combined['date_bp'] = todays_decimal - df_combined['date_ce']"
   ]
  },
  {
   "cell_type": "markdown",
   "id": "eirNPYHfkTQj",
   "metadata": {
    "id": "eirNPYHfkTQj"
   },
   "source": [
    "And sort the data ascending"
   ]
  },
  {
   "cell_type": "code",
   "execution_count": 78,
   "id": "QjjktXqMkTrI",
   "metadata": {
    "id": "QjjktXqMkTrI"
   },
   "outputs": [],
   "source": [
    "df_combined = df_combined.sort_values(by=['date_bp'], ascending=True)"
   ]
  },
  {
   "cell_type": "markdown",
   "id": "DAIlBZhIqxsg",
   "metadata": {
    "id": "DAIlBZhIqxsg"
   },
   "source": [
    "#### Convert the dataframe into numpy arrays for plotting"
   ]
  },
  {
   "cell_type": "code",
   "execution_count": 79,
   "id": "wQe1XECoqyEc",
   "metadata": {
    "id": "wQe1XECoqyEc"
   },
   "outputs": [],
   "source": [
    "combined_years_before_now = df_combined['date_bp'].to_numpy()\n",
    "\n",
    "combined_co2 = df_combined['co2'].to_numpy()"
   ]
  },
  {
   "cell_type": "markdown",
   "id": "bRzJoxIYQ5XR",
   "metadata": {
    "id": "bRzJoxIYQ5XR"
   },
   "source": [
    "## **Define accessory functions**"
   ]
  },
  {
   "cell_type": "markdown",
   "id": "8f5c90dc",
   "metadata": {},
   "source": [
    "## Functions to convert dates into various formats\n",
    "Used for plot limits and labeling"
   ]
  },
  {
   "cell_type": "code",
   "execution_count": 80,
   "id": "_pEoKuyQQ5XU",
   "metadata": {
    "id": "_pEoKuyQQ5XU"
   },
   "outputs": [],
   "source": [
    "#  https://stackoverflow.com/questions/19305991/convert-fractional-years-to-a-real-date-in-python\n",
    "def t2dt(atime):\n",
    "    \"\"\"\n",
    "    Convert atime (a float) to DT.datetime\n",
    "    This is the inverse of dt2t.\n",
    "    assert dt2t(t2dt(atime)) == atime\n",
    "    \"\"\"\n",
    "    year = int(atime)\n",
    "    remainder = atime - year\n",
    "    boy = datetime(year, 1, 1)\n",
    "    eoy = datetime(year + 1, 1, 1)\n",
    "    seconds = remainder * (eoy - boy).total_seconds()\n",
    "    return boy + timedelta(seconds=seconds)"
   ]
  },
  {
   "cell_type": "code",
   "execution_count": 81,
   "id": "g5XQ4cRrQ5XU",
   "metadata": {
    "id": "g5XQ4cRrQ5XU"
   },
   "outputs": [],
   "source": [
    "def get_data_end_date(date_data):\n",
    "    last_date = np.max(date_data)\n",
    "    last_date_datetime = t2dt(last_date)\n",
    "    \n",
    "    # Convert date format to month_name day, year\n",
    "    day = last_date_datetime.day\n",
    "    month = last_date_datetime.strftime(\"%B\")\n",
    "    year = last_date_datetime.year\n",
    "    date_modyyr = f\"{month} {day}, {year}\"\n",
    "    return date_modyyr"
   ]
  },
  {
   "cell_type": "markdown",
   "id": "a5b925e8",
   "metadata": {},
   "source": [
    "## **Define functions that can modify the animated graphic**"
   ]
  },
  {
   "cell_type": "markdown",
   "id": "76df293f",
   "metadata": {},
   "source": [
    "### Function to set fonts and linewidth properties"
   ]
  },
  {
   "cell_type": "code",
   "execution_count": 82,
   "id": "H4fU5_v1Q5XR",
   "metadata": {
    "id": "H4fU5_v1Q5XR"
   },
   "outputs": [],
   "source": [
    "def set_matplotlib_properties():\n",
    "    \n",
    "    # Set default properties for matplotlib\n",
    "    \n",
    "    # Reset rcparams in case modified defaults in another notebook during same session \n",
    "    plt.rcParams.update(plt.rcParamsDefault)\n",
    "\n",
    "    plt.rcParams.update({'axes.linewidth':1.5})\n",
    "    \n",
    "    plt.rcParams.update({\n",
    "        \"text.usetex\": False,\n",
    "        \"font.family\": \"sans-serif\",\n",
    "        \"font.weight\":  \"normal\",\n",
    "        \"font.sans-serif\": [\"Arial\", \"Tahoma\", \"Helvetica\",\"FreeSans\", \"NimbusSans\", \"LiberationSans\",\"DejaVu Sans\"],\n",
    "        \"mathtext.default\":'regular',\n",
    "        \"mathtext.fontset\": \"dejavusans\"\n",
    "    })\n",
    "        \n",
    "    # http://phyletica.org/matplotlib-fonts/\n",
    "    # This causes matplotlib to use Type 42 (a.k.a. TrueType) fonts \n",
    "    # for PostScript and PDF files. This allows you to avoid Type 3 fonts.\n",
    "    # Turning on usetex also works\n",
    "    # Needed on Ubuntu for pdf fonts \n",
    "    plt.rcParams.update({\n",
    "      'pdf.fonttype': 42,\n",
    "        'ps.fonttype': 42 \n",
    "    })"
   ]
  },
  {
   "cell_type": "markdown",
   "id": "fec986e8",
   "metadata": {},
   "source": [
    "### Function to set axes properties of the graphic"
   ]
  },
  {
   "cell_type": "code",
   "execution_count": 83,
   "id": "ripQudHNQ5XS",
   "metadata": {
    "id": "ripQudHNQ5XS"
   },
   "outputs": [],
   "source": [
    "def set_plot_props(ax, fig, xmin, xmax, ymin, ymax, xlabel, ylabel):\n",
    "\n",
    "    # ---------------------------------\n",
    "    # Plot properties for website plots\n",
    "    # ---------------------------------\n",
    "\n",
    "    # Allow room at top for the 2 titles\n",
    "    fig.subplots_adjust(top=0.85)\n",
    "\n",
    "    ax.tick_params(which='both', bottom=True, top=True, left=True, right=True)\n",
    "\n",
    "    ax.tick_params(axis='x', labelsize=12)\n",
    "    ax.tick_params(axis='y', labelsize=16)\n",
    "\n",
    "    ax.tick_params(axis='x', which='major', direction='in', length=6, width=1)\n",
    "    ax.tick_params(axis='y', which='major', direction='in', length=7, width=1)\n",
    "    \n",
    "    tick_spacing = 50\n",
    "    ax.yaxis.set_major_locator(ticker.MultipleLocator(tick_spacing))\n",
    "\n",
    "    ax.tick_params(which='minor', direction='in', length=4)\n",
    "    ax.yaxis.set_minor_locator(AutoMinorLocator(5))\n",
    "    \n",
    "    labels = ax.get_xticklabels() + ax.get_yticklabels()\n",
    "    for label in labels: label.set_fontweight('bold')\n",
    "\n",
    "    ax.set_xlabel(xlabel, fontweight='bold', fontsize=12, labelpad=5)\n",
    "    ax.set_ylabel(ylabel, fontweight='bold', fontsize=18, labelpad=5)\n",
    "\n",
    "    # Set axes limits last \n",
    "    # If did before, setting xtick labels past xmin & xmax would have\n",
    "    # extended the plot limits\n",
    "    ax.set_xlim(xmin, xmax)\n",
    "    ax.set_ylim(ymin, ymax)"
   ]
  },
  {
   "cell_type": "markdown",
   "id": "33ee9893",
   "metadata": {},
   "source": [
    "### Function to create x-axis text tick labels"
   ]
  },
  {
   "cell_type": "code",
   "execution_count": 84,
   "id": "rDw4rasjQ5XS",
   "metadata": {
    "id": "rDw4rasjQ5XS"
   },
   "outputs": [],
   "source": [
    "def create_xtick_labels(ax, xmin, xmax):\n",
    "    \n",
    "    xrange = range(xmin, xmax)\n",
    "    \n",
    "    date_labels = list(range(0, 1000, 100))\n",
    "    date_tick_labels = [str(x) for x in date_labels]\n",
    "    \n",
    "    date_tick_positions = list(range(0, -1000000, -100000))\n",
    "\n",
    "    plt.xticks(date_tick_positions, date_tick_labels)\n",
    "\n",
    "    ax.tick_params(axis='x', pad=7)"
   ]
  },
  {
   "cell_type": "markdown",
   "id": "1aa75a67",
   "metadata": {},
   "source": [
    "### Function to place the titles"
   ]
  },
  {
   "cell_type": "code",
   "execution_count": 85,
   "id": "7FRvfrThQ5XS",
   "metadata": {
    "id": "7FRvfrThQ5XS"
   },
   "outputs": [],
   "source": [
    "def add_plot_title(ax, title1, title2):\n",
    "\n",
    "    ax.annotate(title1, xy=(0, 1.15), xycoords='axes fraction', fontsize=14,\n",
    "                horizontalalignment='left', verticalalignment='top', fontweight=\"normal\")\n",
    "    ax.annotate(title2, xy=(0, 1.07), xycoords='axes fraction', fontsize=18,\n",
    "                horizontalalignment='left', verticalalignment='top', fontweight = 'bold')"
   ]
  },
  {
   "cell_type": "markdown",
   "id": "95508a0a",
   "metadata": {},
   "source": [
    "### Function to add an inset label"
   ]
  },
  {
   "cell_type": "code",
   "execution_count": 86,
   "id": "cc2db4fa",
   "metadata": {},
   "outputs": [],
   "source": [
    "def add_inset_label(ax, label_text):\n",
    "    ax.annotate(label_text, xy=(0.03, 0.9), xycoords='axes fraction', fontsize=12,\n",
    "                horizontalalignment='left', verticalalignment='top')\n"
   ]
  },
  {
   "cell_type": "markdown",
   "id": "2c099619",
   "metadata": {},
   "source": [
    "### Function to add arrow annotations"
   ]
  },
  {
   "cell_type": "code",
   "execution_count": 87,
   "id": "t_JQ0DAXQ5XT",
   "metadata": {
    "id": "t_JQ0DAXQ5XT"
   },
   "outputs": [],
   "source": [
    "def get_arrow_annotations_placement(ax, todays_decimal, mlo_date, mlo_co2):\n",
    "    \n",
    "    mlo_date_before_now = todays_decimal - mlo_date\n",
    "\n",
    "    #  1960, 1980, 2000, 2020\n",
    "    # In years before now\n",
    "    x_1960 = todays_decimal - 1960\n",
    "    x_1980 = todays_decimal - 1980\n",
    "    x_2000 = todays_decimal - 2000\n",
    "    x_2020 = todays_decimal - 2020\n",
    "\n",
    "    # Get a spline fit of the seasonal CO2 data\n",
    "    spl_fit = interpolate.splrep(-mlo_date_before_now, mlo_co2)\n",
    "\n",
    "    # Evaluate at negative years before now value since this is\n",
    "    # how the data is plotted with x labels replacing xaxis values later\n",
    "    spl_val_1960 = interpolate.splev(-x_1960, spl_fit)\n",
    "    spl_val_1980 = interpolate.splev(-x_1980, spl_fit)\n",
    "    spl_val_2000 = interpolate.splev(-x_2000, spl_fit)\n",
    "    spl_val_2020 = interpolate.splev(-x_2020, spl_fit)\n",
    "\n",
    "    spl_values = {}\n",
    "    spl_values['1960'] = spl_val_1960\n",
    "    spl_values['1980'] = spl_val_1980\n",
    "    spl_values['2000'] = spl_val_2000\n",
    "    spl_values['2020'] = spl_val_2020\n",
    "\n",
    "    \n",
    "    # Annotation start\n",
    "    x_start = -1000\n",
    "\n",
    "    return x_start, spl_values"
   ]
  },
  {
   "cell_type": "markdown",
   "id": "9a1e65bb",
   "metadata": {},
   "source": [
    "### Function to create a Context Manager\n",
    "\n",
    "This allows a message to display in a cell while a function is running.\n",
    "Usefull for indicating a function is running."
   ]
  },
  {
   "cell_type": "code",
   "execution_count": 88,
   "id": "7c01c8e4",
   "metadata": {},
   "outputs": [],
   "source": [
    "class ShowProgressContextManagerWidgets:\n",
    "\n",
    "    def __init__(self, out, command=''):\n",
    "        self.out = out\n",
    "        self.command = command\n",
    "        \n",
    "    def __enter__(self):\n",
    "        css_style = \"<style>span.start { margin:0; padding: 0; color: blue; }</style>\"\n",
    "        html_str = f'<span class=\"start\">Running {self.command}...</span>'\n",
    "\n",
    "        self.out.clear_output()\n",
    "        \n",
    "        with self.out:\n",
    "            display(HTML(css_style))\n",
    "            display(HTML(html_str))\n",
    "\n",
    "        self.time = perf_counter()\n",
    "\n",
    "        return self\n",
    "\n",
    "        \n",
    "    def __exit__(self, exc_type, exc_value, exc_tb):\n",
    "        \n",
    "        css_style = \"<style>span.end { margin: 0; padding: 0; color: green; }</style>\"\n",
    "        html_str = '<span class=\"end\">Finished</span>'\n",
    "\n",
    "        self.out.clear_output()\n",
    "\n",
    "        with self.out:\n",
    "            display(HTML(css_style)) \n",
    "            display(HTML(html_str))\n",
    "\n",
    "            self.time = perf_counter() - self.time\n",
    "            self.readout = f'Time to create animation: {self.time:.3f} seconds'\n",
    "            print(self.readout)\n",
    "\n"
   ]
  },
  {
   "cell_type": "markdown",
   "id": "90db3383",
   "metadata": {},
   "source": [
    "<a name='steps-to-create-the-animation'></a>\n",
    "# **Steps to create the animation**\n",
    "\n",
    "### Comment out any function in the overall function ['create_animation'](#function-to-create-the-animation) to remove an element from the final animation\n",
    "\n",
    "Comment out a line by adding a # symbol in front of a statement\n"
   ]
  },
  {
   "cell_type": "markdown",
   "id": "435a9655",
   "metadata": {},
   "source": [
    "## **Set properties to use for matplotlib (plotting engine)**"
   ]
  },
  {
   "cell_type": "code",
   "execution_count": 89,
   "id": "b018dc34",
   "metadata": {},
   "outputs": [],
   "source": [
    "set_matplotlib_properties()"
   ]
  },
  {
   "cell_type": "markdown",
   "id": "5Fu2mcaWQ5XT",
   "metadata": {
    "id": "5Fu2mcaWQ5XT"
   },
   "source": [
    "## **Set plot limits and labeling**"
   ]
  },
  {
   "cell_type": "markdown",
   "id": "Y8TpBTyDQ5XU",
   "metadata": {
    "id": "Y8TpBTyDQ5XU"
   },
   "source": [
    "#### Get todays date in various formats for labeling"
   ]
  },
  {
   "cell_type": "code",
   "execution_count": 90,
   "id": "AGX2jRP0Q5XV",
   "metadata": {
    "id": "AGX2jRP0Q5XV"
   },
   "outputs": [],
   "source": [
    "todays_date_moyr, todays_date_modyyr, todays_decimal, todays_year = get_todays_date_variations()"
   ]
  },
  {
   "cell_type": "markdown",
   "id": "91WttTYiQ5XV",
   "metadata": {
    "id": "91WttTYiQ5XV"
   },
   "source": [
    "### Set titles and axes labels"
   ]
  },
  {
   "cell_type": "code",
   "execution_count": 91,
   "id": "kECJLxgcQ5XV",
   "metadata": {
    "id": "kECJLxgcQ5XV"
   },
   "outputs": [],
   "source": [
    "xlabel = 'Thousands of Years Ago'\n",
    "ylabel = \"$\\mathregular{CO}\\\\bf{_2}$\" + \" Concentration (ppm)\"\n",
    "\n",
    "title1 = ''\n",
    "title2 = 'Mauna Loa Data starting in 1958. Ice-core data before 1958.'"
   ]
  },
  {
   "cell_type": "markdown",
   "id": "pNfvOxI4Q5XV",
   "metadata": {
    "id": "pNfvOxI4Q5XV"
   },
   "source": [
    "### Set yaxis min and max limits"
   ]
  },
  {
   "cell_type": "code",
   "execution_count": 92,
   "id": "dETH2MGRQ5XV",
   "metadata": {
    "id": "dETH2MGRQ5XV"
   },
   "outputs": [],
   "source": [
    "ymin = 150\n",
    "ymax = 430"
   ]
  },
  {
   "cell_type": "markdown",
   "id": "p74e0W44Q5XV",
   "metadata": {
    "id": "p74e0W44Q5XV"
   },
   "source": [
    "### Set xaxis min and max limits"
   ]
  },
  {
   "cell_type": "code",
   "execution_count": 93,
   "id": "D9s6x6yDQ5XW",
   "metadata": {
    "id": "D9s6x6yDQ5XW"
   },
   "outputs": [],
   "source": [
    "xmin = -825000\n",
    "xmax = 25000"
   ]
  },
  {
   "cell_type": "markdown",
   "id": "04pOCY4oQ5XW",
   "metadata": {
    "id": "04pOCY4oQ5XW"
   },
   "source": [
    "<a name=\"function-to-create-the-animation\"></a>\n",
    "## **Function to create and save the animation**"
   ]
  },
  {
   "cell_type": "code",
   "execution_count": 94,
   "id": "8aeab07e",
   "metadata": {},
   "outputs": [],
   "source": [
    "def create_animation(msg_out, anim_out, xmin, xmax, ymin, ymax, xlabel, ylabel, title1, title2, combined_years_before_now, combined_co2, mlo_date, mlo_co2, fps, dpi, btn):\n",
    "\n",
    "    msg_out.clear_output()\n",
    "    anim_out.clear_output()\n",
    "\n",
    "    # create a figure container\n",
    "    # and set aspect ration of the animation (width, height)\n",
    "    fig = plt.figure(figsize=(10,6))\n",
    "\n",
    "    ax =fig.gca()\n",
    "\n",
    "    fig_width, fig_height = fig.get_size_inches()\n",
    "\n",
    "    # set width in inches\n",
    "    width_in = 10\n",
    "    height_in = (fig_height / fig_width) * width_in\n",
    "\n",
    "    fig.set_size_inches(width_in, height_in)\n",
    "\n",
    "    fig.subplots_adjust(left=0.11, bottom=0.1, right=0.96, top=0.56, wspace=None, hspace=None)\n",
    "\n",
    "\n",
    "    # ---------------------------------------------------\n",
    "    # Context manager \n",
    "    # \n",
    "    # Used to show messages while creating the animiation\n",
    "    # ---------------------------------------------------\n",
    "\n",
    "    with ShowProgressContextManagerWidgets(msg_out, 'Create Animation') as progress:\n",
    "\n",
    "        # -------------\n",
    "        # Plot the data\n",
    "        # -------------\n",
    "\n",
    "        # -------------------------------------------\n",
    "        # Create the plot but don't display it\n",
    "        #\n",
    "        # The variable 'line_of_plot' is used \n",
    "        # to display pieces of the plot at each frame\n",
    "        # -------------------------------------------\n",
    "\n",
    "        # Plot years back in time (left of 0) so use negative of values\n",
    "        # Because want increasing years before now to appear farther left on x axis\n",
    "  \n",
    "        # to animate left to right, flip the arrays\n",
    "        x = combined_years_before_now[::-1]\n",
    "        y = combined_co2[::-1]\n",
    "\n",
    "        line_of_plot, = ax.plot(-x, y, '-', color='black', lw=2)\n",
    "        \n",
    "        # -----------------------------------------------------\n",
    "        # Change xaxis to use date labels and not decimal dates\n",
    "        # -----------------------------------------------------\n",
    "        create_xtick_labels(ax, xmin, xmax)\n",
    "\n",
    "        # ---------------\n",
    "        # Add date arrows\n",
    "        # ---------------\n",
    "\n",
    "        x_start, spl_values = get_arrow_annotations_placement(ax, todays_decimal, mlo_date, mlo_co2)\n",
    "\n",
    "        # ---------------\n",
    "        # Add plot titles\n",
    "        # ---------------\n",
    "        add_plot_title(ax, title1, title2)\n",
    "\n",
    "        # --------------\n",
    "        # Add inset text\n",
    "        # --------------\n",
    "        inset_text = f'Last updated {todays_date_modyyr}'\n",
    "        add_inset_label(ax, inset_text)\n",
    "\n",
    "        # ----------------------------------------\n",
    "        # Set plot properties\n",
    "\n",
    "        # Set after the other figure properties to\n",
    "        # update the default properties\n",
    "        # -----------------------------------------\n",
    "        set_plot_props(ax, fig, xmin, xmax, ymin, ymax, xlabel, ylabel)\n",
    "\n",
    "        # ====================\n",
    "        # Create the animation\n",
    "        # ====================\n",
    "\n",
    "        def apply_annotation(x, frame_number):\n",
    "\n",
    "            annotations = []\n",
    "\n",
    "            if x[frame_number] > 3000:\n",
    "\n",
    "                return annotations\n",
    "\n",
    "            for anot_year, co2_value in spl_values.items():\n",
    "\n",
    "                anot_year_int = int(anot_year)\n",
    "\n",
    "                mlo_before_now = anot_year_int - todays_decimal\n",
    "\n",
    "                near_year = math.isclose(-x[frame_number], mlo_before_now, abs_tol = 0.5)\n",
    "\n",
    "                if near_year:\n",
    "\n",
    "                    arrow_annotation = ax.annotate(anot_year,\n",
    "                            xy=[x_start, co2_value],\n",
    "                            xytext=[-60, 0], \n",
    "                            verticalalignment = \"center\",\n",
    "                            arrowprops=dict(arrowstyle='->',\n",
    "                                            relpos=(0, 0.5), lw=1),           \n",
    "                            fontsize=11,\n",
    "                            textcoords=\"offset points\")\n",
    "\n",
    "                    annotations.append(arrow_annotation)\n",
    "\n",
    "            return annotations\n",
    "\n",
    "\n",
    "        annotations = []\n",
    "        def init():\n",
    "            return line_of_plot, annotations\n",
    "\n",
    "        # -----------------------------\n",
    "        # function to update each frame\n",
    "        # -----------------------------\n",
    "\n",
    "        def update(frame_number):\n",
    "\n",
    "            line_of_plot.set_data(-x[:frame_number], y[:frame_number])\n",
    "\n",
    "            annotations = apply_annotation(x, frame_number)\n",
    "\n",
    "            return line_of_plot, annotations\n",
    "\n",
    "        number_of_frames = len(combined_years_before_now)\n",
    "\n",
    "        anim = animation.FuncAnimation(fig, func=update, init_func=init, frames = number_of_frames, interval=1, blit=False, save_count=number_of_frames+100)\n",
    "\n",
    "        #When testing, use a samaller set of frames\n",
    "        #anim = animation.FuncAnimation(fig, func=update, frames = 200, interval=5, blit=False)\n",
    "\n",
    "        # Save the animation\n",
    "        anim.save(f'{animation_dir}/{animation_file}', fps=fps, dpi=dpi)\n",
    "\n",
    "        # display the animation in the output cell\n",
    "        the_animation = open(f'{animation_dir}/{animation_file}','rb').read()\n",
    "\n",
    "        with anim_out:\n",
    "\n",
    "            data_url = \"data:video/mp4;base64,\" + b64encode(the_animation).decode()\n",
    "            \n",
    "            html_str = \"\"\"\n",
    "            <video width=800 controls>\n",
    "                    <source src=\"%s\" type=\"video/mp4\">\n",
    "            </video>\n",
    "            \"\"\" % data_url\n",
    "            \n",
    "            display(HTML(html_str))"
   ]
  },
  {
   "cell_type": "markdown",
   "id": "840c2cd4",
   "metadata": {},
   "source": [
    "<a name='button-to-create-animation'></a>\n",
    "## **Button to create and save the animation**\n",
    "\n",
    "**The animation takes about 1 1/2 minutes to create at fps=60 and dpi=72**"
   ]
  },
  {
   "cell_type": "code",
   "execution_count": 95,
   "id": "99828f71",
   "metadata": {},
   "outputs": [
    {
     "data": {
      "application/vnd.jupyter.widget-view+json": {
       "model_id": "561850b331904c288491cd9cbe917e6e",
       "version_major": 2,
       "version_minor": 0
      },
      "text/plain": [
       "Button(button_style='primary', description='Create animation', style=ButtonStyle())"
      ]
     },
     "metadata": {},
     "output_type": "display_data"
    },
    {
     "data": {
      "application/vnd.jupyter.widget-view+json": {
       "model_id": "065fc1e886de4b00ae415f849b34d818",
       "version_major": 2,
       "version_minor": 0
      },
      "text/plain": [
       "Output()"
      ]
     },
     "metadata": {},
     "output_type": "display_data"
    },
    {
     "data": {
      "application/vnd.jupyter.widget-view+json": {
       "model_id": "4c1624bd6697498c91f399e3bbdd5319",
       "version_major": 2,
       "version_minor": 0
      },
      "text/plain": [
       "Output()"
      ]
     },
     "metadata": {},
     "output_type": "display_data"
    }
   ],
   "source": [
    "msg_out = widgets.Output()\n",
    "anim_out = widgets.Output()\n",
    "\n",
    "# frames per secod\n",
    "fps = 60\n",
    "\n",
    "# dpi of animation\n",
    "dpi = 72\n",
    "\n",
    "button = widgets.Button(description='Create animation', button_style='primary')\n",
    "button.on_click(functools.partial(create_animation, msg_out, anim_out, xmin, xmax, ymin, ymax, xlabel, ylabel, title1, title2, combined_years_before_now, combined_co2, mlo_date, mlo_co2, fps, dpi))\n",
    "display(button)\n",
    "\n",
    "display(msg_out)\n",
    "display(anim_out)\n",
    "\n",
    "# If the animation is not created, there is most likely an error in the animation functions used\n",
    "# to create the plot. Turn on console to diagnose errors.\n"
   ]
  },
  {
   "cell_type": "markdown",
   "id": "1KjN7SwCsJLd",
   "metadata": {
    "id": "1KjN7SwCsJLd"
   },
   "source": [
    "## **Button to download the animation file**"
   ]
  },
  {
   "cell_type": "code",
   "execution_count": 96,
   "id": "go3N0EbjsJmQ",
   "metadata": {
    "colab": {
     "base_uri": "https://localhost:8080/",
     "height": 49,
     "referenced_widgets": [
      "e6165cd787824a949e2b999e17e62e0d",
      "29b539478ca045858a1438d6ac6c34b2",
      "59a8e1b37911413983e4c6b13d4824dd"
     ]
    },
    "id": "go3N0EbjsJmQ",
    "outputId": "54eca34b-1b1a-4cb3-aab5-fb2ef33b1023"
   },
   "outputs": [
    {
     "data": {
      "application/vnd.jupyter.widget-view+json": {
       "model_id": "14ca4954a13b4070838b5a4590049f68",
       "version_major": 2,
       "version_minor": 0
      },
      "text/plain": [
       "Button(button_style='primary', description='Download Animation File', layout=Layout(height='auto', width='auto…"
      ]
     },
     "metadata": {},
     "output_type": "display_data"
    },
    {
     "data": {
      "application/vnd.jupyter.widget-view+json": {
       "model_id": "d74e34685e4949a48fc8849efe7ecef4",
       "version_major": 2,
       "version_minor": 0
      },
      "text/plain": [
       "Output()"
      ]
     },
     "metadata": {},
     "output_type": "display_data"
    }
   ],
   "source": [
    "def download_files(msg_out, btn):\n",
    "\n",
    "    msg_out.clear_output()\n",
    "\n",
    "    try:\n",
    "        files.download(animation_file)\n",
    "    except:\n",
    "        with msg_out:\n",
    "            print(\"Need to create the animation first.\")\n",
    "\n",
    "\n",
    "msg_out = widgets.Output()\n",
    "\n",
    "layout = widgets.Layout(width='auto', height='auto') #set width and height\n",
    "\n",
    "button = widgets.Button(\n",
    "    description='Download Animation File',\n",
    "    disabled=False,\n",
    "    display='flex',\n",
    "    flex_flow='column',\n",
    "    align_items='stretch', \n",
    "    button_style='primary',\n",
    "    layout = layout\n",
    ")   \n",
    "\n",
    "button.on_click(functools.partial(download_files, msg_out))\n",
    "\n",
    "display(button)\n",
    "display(msg_out)"
   ]
  },
  {
   "cell_type": "code",
   "execution_count": null,
   "id": "QI6i9-f4Q5XW",
   "metadata": {
    "id": "QI6i9-f4Q5XW"
   },
   "outputs": [],
   "source": []
  }
 ],
 "metadata": {
  "colab": {
   "include_colab_link": true,
   "name": "create_animation_icecore_back_800K_keelingcurve.ipynb",
   "provenance": []
  },
  "kernelspec": {
   "display_name": "Python 3 (ipykernel)",
   "language": "python",
   "name": "python3"
  },
  "language_info": {
   "codemirror_mode": {
    "name": "ipython",
    "version": 3
   },
   "file_extension": ".py",
   "mimetype": "text/x-python",
   "name": "python",
   "nbconvert_exporter": "python",
   "pygments_lexer": "ipython3",
   "version": "3.8.10"
  },
  "title": "create_animation_icecore_back_800K_keelingcurve.ipynb",
  "vscode": {
   "interpreter": {
    "hash": "756fd7f3f44ab1b408c61a336bc63dd8b2b1c2a4bc9346285fbb85e9c22b620b"
   }
  },
  "widgets": {
   "application/vnd.jupyter.widget-state+json": {
    "29b539478ca045858a1438d6ac6c34b2": {
     "model_module": "@jupyter-widgets/controls",
     "model_module_version": "1.5.0",
     "model_name": "ButtonStyleModel",
     "state": {
      "_model_module": "@jupyter-widgets/controls",
      "_model_module_version": "1.5.0",
      "_model_name": "ButtonStyleModel",
      "_view_count": null,
      "_view_module": "@jupyter-widgets/base",
      "_view_module_version": "1.2.0",
      "_view_name": "StyleView",
      "button_color": null,
      "font_weight": ""
     }
    },
    "59a8e1b37911413983e4c6b13d4824dd": {
     "model_module": "@jupyter-widgets/base",
     "model_module_version": "1.2.0",
     "model_name": "LayoutModel",
     "state": {
      "_model_module": "@jupyter-widgets/base",
      "_model_module_version": "1.2.0",
      "_model_name": "LayoutModel",
      "_view_count": null,
      "_view_module": "@jupyter-widgets/base",
      "_view_module_version": "1.2.0",
      "_view_name": "LayoutView",
      "align_content": null,
      "align_items": null,
      "align_self": null,
      "border": null,
      "bottom": null,
      "display": null,
      "flex": null,
      "flex_flow": null,
      "grid_area": null,
      "grid_auto_columns": null,
      "grid_auto_flow": null,
      "grid_auto_rows": null,
      "grid_column": null,
      "grid_gap": null,
      "grid_row": null,
      "grid_template_areas": null,
      "grid_template_columns": null,
      "grid_template_rows": null,
      "height": null,
      "justify_content": null,
      "justify_items": null,
      "left": null,
      "margin": null,
      "max_height": null,
      "max_width": null,
      "min_height": null,
      "min_width": null,
      "object_fit": null,
      "object_position": null,
      "order": null,
      "overflow": null,
      "overflow_x": null,
      "overflow_y": null,
      "padding": null,
      "right": null,
      "top": null,
      "visibility": null,
      "width": null
     }
    },
    "e6165cd787824a949e2b999e17e62e0d": {
     "model_module": "@jupyter-widgets/controls",
     "model_module_version": "1.5.0",
     "model_name": "ButtonModel",
     "state": {
      "_dom_classes": [],
      "_model_module": "@jupyter-widgets/controls",
      "_model_module_version": "1.5.0",
      "_model_name": "ButtonModel",
      "_view_count": null,
      "_view_module": "@jupyter-widgets/controls",
      "_view_module_version": "1.5.0",
      "_view_name": "ButtonView",
      "button_style": "primary",
      "description": "Download Files",
      "disabled": false,
      "icon": "",
      "layout": "IPY_MODEL_59a8e1b37911413983e4c6b13d4824dd",
      "style": "IPY_MODEL_29b539478ca045858a1438d6ac6c34b2",
      "tooltip": ""
     }
    }
   }
  }
 },
 "nbformat": 4,
 "nbformat_minor": 5
}
