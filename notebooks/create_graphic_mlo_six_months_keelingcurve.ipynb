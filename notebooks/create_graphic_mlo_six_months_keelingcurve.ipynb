{
 "cells": [
  {
   "cell_type": "markdown",
   "id": "c8bc3c62",
   "metadata": {
    "colab_type": "text",
    "id": "view-in-github"
   },
   "source": [
    "<a href=\"https://colab.research.google.com/github/sio-co2o2/keelingcurve_notebooks/blob/main/notebooks/plot_mlo_six_months_keelingcurve.ipynb\" target=\"_parent\"><img src=\"https://colab.research.google.com/assets/colab-badge.svg\" alt=\"Open In Colab\"/></a>"
   ]
  },
  {
   "cell_type": "markdown",
   "id": "FED1rfaOKIhD",
   "metadata": {
    "id": "FED1rfaOKIhD"
   },
   "source": [
    "# Plot last six months of CO2 at Mauna Loa, Hawaii"
   ]
  },
  {
   "cell_type": "markdown",
   "id": "X33ltH65KIhG",
   "metadata": {
    "id": "X33ltH65KIhG"
   },
   "source": [
    "### The Keeling Curve\n",
    "https://keelingcurve.ucsd.edu\n",
    "\n",
    "This notebook creates pdf and png plot versions."
   ]
  },
  {
   "cell_type": "markdown",
   "id": "fj3bGXi2KIhH",
   "metadata": {
    "id": "fj3bGXi2KIhH"
   },
   "source": [
    "## Import packages"
   ]
  },
  {
   "cell_type": "code",
   "execution_count": 1,
   "id": "La3hBj2IKIhH",
   "metadata": {
    "id": "La3hBj2IKIhH"
   },
   "outputs": [],
   "source": [
    "import re\n",
    "import pandas as pd\n",
    "import numpy as np\n",
    "from datetime import datetime, date, timedelta\n",
    "from dateutil.relativedelta import relativedelta\n",
    "import pathlib\n",
    "import matplotlib.image as mpimg\n",
    "import matplotlib.pyplot as plt\n",
    "from matplotlib.pyplot import figure\n",
    "from matplotlib.ticker import (MultipleLocator, AutoMinorLocator)\n",
    "from matplotlib import ticker\n",
    "from matplotlib.path import Path\n",
    "import matplotlib.colors as mcolors\n",
    "from matplotlib.patches import Polygon\n",
    "import matplotlib.dates as mdates\n",
    "import matplotlib.lines as mlines\n",
    "from scipy.interpolate import UnivariateSpline\n",
    "from scipy import interpolate\n",
    "import matplotlib.transforms\n",
    "from matplotlib import animation\n",
    "from ipywidgets import widgets\n",
    "from IPython.display import HTML, display\n",
    "from base64 import b64encode\n",
    "from PIL import Image\n",
    "import urllib\n",
    "import os\n",
    "from cairosvg import svg2png\n",
    "\n",
    "%matplotlib inline"
   ]
  },
  {
   "cell_type": "code",
   "execution_count": 2,
   "id": "96027544-e3fb-4c1f-9960-0bf7cff6bcee",
   "metadata": {},
   "outputs": [],
   "source": [
    "# This import is to enable Google Colab to save files ane then download them\n",
    "\n",
    "# This import does not exist unless the notebook is run in Google Colab\n",
    "# Put in a try except block if user wants to use notebook off of Google Colab\n",
    "\n",
    "try:\n",
    "    from google.colab import files\n",
    "except:\n",
    "    pass"
   ]
  },
  {
   "cell_type": "markdown",
   "id": "AJzq88X2KIhJ",
   "metadata": {
    "id": "AJzq88X2KIhJ"
   },
   "source": [
    "## Set directories and file names for data,  plot, and logo"
   ]
  },
  {
   "cell_type": "code",
   "execution_count": 3,
   "id": "1gMcKyRSKIhJ",
   "metadata": {
    "id": "1gMcKyRSKIhJ"
   },
   "outputs": [],
   "source": [
    "# Read in data from github repository\n",
    "data_file = 'https://raw.githubusercontent.com/sio-co2o2/keelingcurve_notebooks/main/data/mlo/mlo_six_month_span.csv'\n",
    "\n",
    "logo_file = 'https://github.com/sio-co2o2/keelingcurve_notebooks/raw/main/images/ucsd_sio_logo.svg'\n",
    "\n",
    "plot_dir = pathlib.Path('./plots')\n",
    "plot_dir.mkdir(exist_ok=True)\n",
    "\n",
    "plot_basename = 'mlo_six_months'\n",
    "\n",
    "pdf_file = plot_dir / f\"{plot_basename}.pdf\"\n",
    "png_file = plot_dir / f\"{plot_basename}.png\""
   ]
  },
  {
   "cell_type": "markdown",
   "id": "RueC2d73KIhK",
   "metadata": {
    "id": "RueC2d73KIhK"
   },
   "source": [
    "## Load in Data and process"
   ]
  },
  {
   "cell_type": "code",
   "execution_count": 4,
   "id": "03NzHKyPKIhL",
   "metadata": {
    "colab": {
     "base_uri": "https://localhost:8080/",
     "height": 206
    },
    "id": "03NzHKyPKIhL",
    "outputId": "ad68df9d-3e2a-4866-931f-8d155273ea4e"
   },
   "outputs": [
    {
     "data": {
      "text/html": [
       "<div>\n",
       "<style scoped>\n",
       "    .dataframe tbody tr th:only-of-type {\n",
       "        vertical-align: middle;\n",
       "    }\n",
       "\n",
       "    .dataframe tbody tr th {\n",
       "        vertical-align: top;\n",
       "    }\n",
       "\n",
       "    .dataframe thead th {\n",
       "        text-align: right;\n",
       "    }\n",
       "</style>\n",
       "<table border=\"1\" class=\"dataframe\">\n",
       "  <thead>\n",
       "    <tr style=\"text-align: right;\">\n",
       "      <th></th>\n",
       "      <th>date_dy</th>\n",
       "      <th>co2_dy</th>\n",
       "      <th>date_wk</th>\n",
       "      <th>co2_wk</th>\n",
       "    </tr>\n",
       "  </thead>\n",
       "  <tbody>\n",
       "    <tr>\n",
       "      <th>0</th>\n",
       "      <td>2021.784932</td>\n",
       "      <td>413.43</td>\n",
       "      <td>2021.789041</td>\n",
       "      <td>413.97</td>\n",
       "    </tr>\n",
       "    <tr>\n",
       "      <th>1</th>\n",
       "      <td>2021.787671</td>\n",
       "      <td>414.05</td>\n",
       "      <td>2021.808219</td>\n",
       "      <td>413.97</td>\n",
       "    </tr>\n",
       "    <tr>\n",
       "      <th>2</th>\n",
       "      <td>2021.790411</td>\n",
       "      <td>414.35</td>\n",
       "      <td>2021.827397</td>\n",
       "      <td>413.64</td>\n",
       "    </tr>\n",
       "    <tr>\n",
       "      <th>3</th>\n",
       "      <td>2021.793151</td>\n",
       "      <td>414.41</td>\n",
       "      <td>2021.846575</td>\n",
       "      <td>414.32</td>\n",
       "    </tr>\n",
       "    <tr>\n",
       "      <th>4</th>\n",
       "      <td>2021.795890</td>\n",
       "      <td>414.16</td>\n",
       "      <td>2021.865753</td>\n",
       "      <td>414.77</td>\n",
       "    </tr>\n",
       "  </tbody>\n",
       "</table>\n",
       "</div>"
      ],
      "text/plain": [
       "       date_dy  co2_dy      date_wk  co2_wk\n",
       "0  2021.784932  413.43  2021.789041  413.97\n",
       "1  2021.787671  414.05  2021.808219  413.97\n",
       "2  2021.790411  414.35  2021.827397  413.64\n",
       "3  2021.793151  414.41  2021.846575  414.32\n",
       "4  2021.795890  414.16  2021.865753  414.77"
      ]
     },
     "execution_count": 4,
     "metadata": {},
     "output_type": "execute_result"
    }
   ],
   "source": [
    "# weekly spline is a spline fit to monthly data on a weekly timescale\n",
    "# to the last week less than the last plot date\n",
    "df = pd.read_csv(data_file,sep=',',comment='\"')\n",
    "df.head()"
   ]
  },
  {
   "cell_type": "markdown",
   "id": "Yqay1k27KIhM",
   "metadata": {
    "id": "Yqay1k27KIhM"
   },
   "source": [
    "### Break into dataframes for each time frequency"
   ]
  },
  {
   "cell_type": "code",
   "execution_count": 5,
   "id": "nd8Ex2AUKIhM",
   "metadata": {
    "id": "nd8Ex2AUKIhM"
   },
   "outputs": [],
   "source": [
    "df_daily = df[['date_dy', 'co2_dy']].copy()\n",
    "df_wk = df[['date_wk', 'co2_wk']].copy()\n"
   ]
  },
  {
   "cell_type": "markdown",
   "id": "0tYWnbXYKIhN",
   "metadata": {
    "id": "0tYWnbXYKIhN"
   },
   "source": [
    "### Remove rows with fill values NaN"
   ]
  },
  {
   "cell_type": "code",
   "execution_count": 6,
   "id": "NHRZuHj_KIhN",
   "metadata": {
    "id": "NHRZuHj_KIhN",
    "scrolled": true
   },
   "outputs": [],
   "source": [
    "df_daily = df_daily[df_daily['co2_dy'].notnull()]\n",
    "df_weekly = df_wk[df_wk['co2_wk'].notnull()]\n"
   ]
  },
  {
   "cell_type": "markdown",
   "id": "957-fntRKIhN",
   "metadata": {
    "id": "957-fntRKIhN"
   },
   "source": [
    "### Convert to numpy arrays for plotting"
   ]
  },
  {
   "cell_type": "code",
   "execution_count": 7,
   "id": "mks9uvaTKIhO",
   "metadata": {
    "id": "mks9uvaTKIhO"
   },
   "outputs": [],
   "source": [
    "date_daily = df_daily['date_dy'].to_numpy()\n",
    "co2_daily = df_daily['co2_dy'].to_numpy()\n",
    "date_weekly = df_weekly['date_wk'].to_numpy()\n",
    "co2_weekly = df_weekly['co2_wk'].to_numpy()"
   ]
  },
  {
   "cell_type": "markdown",
   "id": "4E4x_RZAKIhO",
   "metadata": {
    "id": "4E4x_RZAKIhO"
   },
   "source": [
    "## Define plot functions"
   ]
  },
  {
   "cell_type": "code",
   "execution_count": 8,
   "id": "Ep1DrILnKIhO",
   "metadata": {
    "id": "Ep1DrILnKIhO"
   },
   "outputs": [],
   "source": [
    "# https://stackoverflow.com/questions/29321835/is-it-possible-to-get-color-gradients-under-curve-in-matplotlib\n",
    "# Modified to add gradient below curve and have a bottom alpha\n",
    "\n",
    "# def gradient_fill(x, y, fill_color=None, ax=None, **kwargs):\n",
    "def gradient_fill(x, y, fill_color='#FFFFFF', xmin=None, ymin=None, xmax=None, \n",
    "                  ymax=None, alpha_bottom=None, ax=None, alpha=1, zorder=1, **kwargs):\n",
    "    \"\"\"\n",
    "    Plot a line with a linear alpha gradient filled beneath it.\n",
    "\n",
    "    Parameters\n",
    "    ----------\n",
    "    x, y : array-like\n",
    "        The data values of the line.\n",
    "    fill_color : a matplotlib color specifier (string, tuple) or None\n",
    "        The color for the fill. If None, the color of the line will be used.\n",
    "    ax : a matplotlib Axes instance\n",
    "        The axes to plot on. If None, the current pyplot axes will be used.\n",
    "    Additional arguments are passed on to matplotlib's ``plot`` function.\n",
    "\n",
    "    Returns\n",
    "    -------\n",
    "    line : a Line2D instance\n",
    "        The line plotted.\n",
    "    im : an AxesImage instance\n",
    "        The transparent gradient clipped to just the area beneath the curve.\n",
    "    \"\"\"\n",
    "    if ax is None:\n",
    "        ax = plt.gca()\n",
    "\n",
    "    # Only want the gradient to show\n",
    "    #line, = ax.plot(x, y, **kwargs)\n",
    "    #if fill_color is None:\n",
    "    #    fill_color = line.get_color()\n",
    "\n",
    "    if alpha_bottom is None:\n",
    "        alpha_bottom = 0\n",
    "\n",
    "    if xmin is None:\n",
    "        xmin = x.min()\n",
    "\n",
    "    if ymin is None:\n",
    "        ymin = y.min()\n",
    "        \n",
    "    if xmax is None:\n",
    "        xmax = x.max()\n",
    "\n",
    "    if ymax is None:\n",
    "        ymax = y.max()\n",
    "        \n",
    "    if zorder is None:\n",
    "        zorder = 1\n",
    "        \n",
    "    #zorder = line.get_zorder()\n",
    "    \n",
    "    #alpha = line.get_alpha()\n",
    "    #alpha = 1.0 if alpha is None else alpha\n",
    "\n",
    "    z = np.empty((100, 1, 4), dtype=float)\n",
    "    rgb = mcolors.colorConverter.to_rgb(fill_color)\n",
    "    z[:, :, :3] = rgb\n",
    "    #z[:,:,-1] = np.linspace(0, alpha, 100)[:,None]\n",
    "    z[:, :, -1] = np.linspace(alpha_bottom, alpha, 100)[:, None]\n",
    "\n",
    "    #xmin, xmax, ymin, ymax = x.min(), x.max(), y.min(), y.max()\n",
    "    \n",
    "    im = ax.imshow(z, aspect='auto', extent=[xmin, xmax, ymin, ymax],\n",
    "                   origin='lower', zorder=zorder)\n",
    "\n",
    "    xy = np.column_stack([x, y])\n",
    "    xy = np.vstack([[xmin, ymin], xy, [xmax, ymin], [xmin, ymin]])\n",
    "    clip_path = Polygon(xy, facecolor='none', edgecolor='none', closed=True)\n",
    "    ax.add_patch(clip_path)\n",
    "    im.set_clip_path(clip_path)\n",
    "    \n",
    "    ax.autoscale(True)\n",
    "    \n",
    "    #return line, im"
   ]
  },
  {
   "cell_type": "code",
   "execution_count": 9,
   "id": "yb_0gUwpKIhP",
   "metadata": {
    "id": "yb_0gUwpKIhP"
   },
   "outputs": [],
   "source": [
    "def set_matplotlib_properties():\n",
    "    \n",
    "    # Set default attributes for matplotlib\n",
    "    \n",
    "    # Reset rcparams in case modified defaults in another notebook during same session \n",
    "    plt.rcParams.update(plt.rcParamsDefault)\n",
    "\n",
    "    plt.rcParams.update({'axes.linewidth':1.5})\n",
    "    \n",
    "    plt.rcParams.update({\n",
    "        \"text.usetex\": False,\n",
    "        \"font.family\": \"sans-serif\",\n",
    "        \"font.weight\":  \"normal\",\n",
    "        \"font.sans-serif\": [\"Arial\", \"Tahoma\", \"Helvetica\",\"FreeSans\", \"NimbusSans\", \"LiberationSans\",\"DejaVu Sans\"],\n",
    "        \"mathtext.default\":'regular',\n",
    "        \"mathtext.fontset\": \"dejavusans\"\n",
    "    })\n",
    "        \n",
    "    # http://phyletica.org/matplotlib-fonts/\n",
    "    # This causes matplotlib to use Type 42 (a.k.a. TrueType) fonts \n",
    "    # for PostScript and PDF files. This allows you to avoid Type 3 fonts.\n",
    "    # Turning on usetex also works\n",
    "    # Needed on Ubuntu for pdf fonts \n",
    "    plt.rcParams.update({\n",
    "      'pdf.fonttype': 42,\n",
    "        'ps.fonttype': 42 \n",
    "    })"
   ]
  },
  {
   "cell_type": "code",
   "execution_count": 10,
   "id": "aaQwNsqqKIhQ",
   "metadata": {
    "id": "aaQwNsqqKIhQ"
   },
   "outputs": [],
   "source": [
    "def set_website_plot_props(ax, fig, xmin, xmax, ymin, ymax, xlabel, ylabel):\n",
    "\n",
    "    # ------------------------------------\n",
    "    # Set properties to use for matplotlib\n",
    "    # ------------------------------------\n",
    "    \n",
    "    set_matplotlib_properties()\n",
    "    \n",
    "    # ---------------------------------\n",
    "    # Plot properties for website plots\n",
    "    # ---------------------------------\n",
    "\n",
    "    # Allow room at top for the 2 titles\n",
    "    fig.subplots_adjust(top=0.85)\n",
    "\n",
    "    ax.tick_params(which='both', bottom=True, top=True, left=True, right=True)\n",
    "\n",
    "    ax.tick_params(axis='x', labelsize=10, pad=5)\n",
    "    ax.tick_params(axis='y', labelsize=16)\n",
    "\n",
    "    ax.tick_params(axis='x', which='major', direction='in', length=6, width=1)\n",
    "    ax.tick_params(axis='y', which='major', direction='in', length=8, width=1)\n",
    "\n",
    "    tick_spacing = 5\n",
    "    ax.yaxis.set_major_locator(ticker.MultipleLocator(tick_spacing))\n",
    "    \n",
    "    labels = ax.get_xticklabels() + ax.get_yticklabels()\n",
    "    for label in labels: label.set_fontweight('bold') \n",
    "\n",
    "    ax.tick_params(which='minor', direction='in', length=4)\n",
    "    ax.yaxis.set_minor_locator(AutoMinorLocator(5))\n",
    "\n",
    "    ax.set_xlabel(xlabel, fontweight='bold', fontsize=18, labelpad=5)\n",
    "    ax.set_ylabel(ylabel, fontweight='bold', fontsize=18, labelpad=5)\n",
    "\n",
    "    # Set axes limits last \n",
    "    # If did before, setting xtick labels past xmin & xmax would have\n",
    "    # extended the plot limits\n",
    "    ax.set_xlim(xmin, xmax)\n",
    "    ax.set_ylim(ymin, ymax)"
   ]
  },
  {
   "cell_type": "code",
   "execution_count": 11,
   "id": "R0HSuVu4KIhQ",
   "metadata": {
    "id": "R0HSuVu4KIhQ"
   },
   "outputs": [],
   "source": [
    "def create_xtick_labels(ax, xmin, xmax):\n",
    "    \n",
    "    # Have ticks at the first of the month and then move the tick label\n",
    "    # to position at the start of this tick mark\n",
    "\n",
    "    # Set tick marks to 1st of each month\n",
    "    start_date = datetime(xmin.year, xmin.month, 1, 0, 0)\n",
    "    end_date = datetime(xmax.year, xmax.month, 1, 0,0)\n",
    "\n",
    "    date_ticks_dt = []\n",
    "    current=start_date\n",
    "    while current <= end_date:\n",
    "        date_ticks_dt.append(current)\n",
    "        current += relativedelta(months=1)\n",
    "\n",
    "    date_tick_labels = [x.strftime(\"%b\") for x in date_ticks_dt]\n",
    "\n",
    "    date_tick_decimal = [dt2t(x) for x in date_ticks_dt]\n",
    "    \n",
    "    plt.xticks(date_tick_decimal, date_tick_labels)\n",
    "\n",
    "    # Move tick labels so left aligned with tick mark\n",
    "    # to represent the month as starting at the tick mark\n",
    "    # and not meaning the middle of the month.\n",
    "    for tick in ax.xaxis.get_majorticklabels():\n",
    "        tick.set_horizontalalignment(\"left\")\n",
    "        \n",
    "    # Place the starting and ending years below the xaxis tick labels\n",
    "    start_year = xmin.year\n",
    "\n",
    "    label_text = start_year\n",
    "    ax.annotate(label_text, xy=(0, -0.06), xycoords='axes fraction', fontsize=10,\n",
    "                horizontalalignment='left', verticalalignment='top', fontweight='bold')\n",
    "\n",
    "    end_year = xmax.year\n",
    "    label_text = end_year\n",
    "    ax.annotate(label_text, xy=(0.97, -0.06), xycoords='axes fraction', fontsize=10,\n",
    "                horizontalalignment='left', verticalalignment='top', fontweight='bold')\n",
    "\n",
    "    ax.tick_params(axis='x', pad=7)"
   ]
  },
  {
   "cell_type": "code",
   "execution_count": 12,
   "id": "Y8WqqJJFKIhQ",
   "metadata": {
    "id": "Y8WqqJJFKIhQ"
   },
   "outputs": [],
   "source": [
    "def add_plot_title(ax, title1, title2):\n",
    "\n",
    "    ax.annotate(title1, xy=(0, 1.15), xycoords='axes fraction', fontsize=14,\n",
    "                horizontalalignment='left', verticalalignment='top', fontweight=\"normal\")\n",
    "    ax.annotate(title2, xy=(0, 1.07), xycoords='axes fraction', fontsize=18,\n",
    "                horizontalalignment='left', verticalalignment='top', fontweight = 'bold')"
   ]
  },
  {
   "cell_type": "code",
   "execution_count": 13,
   "id": "_fID4yOmKIhR",
   "metadata": {
    "id": "_fID4yOmKIhR"
   },
   "outputs": [],
   "source": [
    "def add_inset_label(ax, label_start, today):\n",
    "    label_text = f\"{label_start} ending {today}\"\n",
    "    ax.annotate(label_text, xy=(0.03, 0.9), xycoords='axes fraction', fontsize=12,\n",
    "                horizontalalignment='left', verticalalignment='top')"
   ]
  },
  {
   "cell_type": "code",
   "execution_count": 14,
   "id": "TjX8509IKIhR",
   "metadata": {
    "id": "TjX8509IKIhR"
   },
   "outputs": [],
   "source": [
    "def add_legend_labels(ax):\n",
    "\n",
    "    legend_1 = 'Daily average'\n",
    "    legend_2 = 'Weekly average'\n",
    "    \n",
    "    legend_properties = {'weight':'bold'}\n",
    "\n",
    "    black_dot = mlines.Line2D([], [], marker = 'o', color='black',markersize=4, \n",
    "             markerfacecolor='black', markeredgecolor='black', markeredgewidth=0, linestyle='None')\n",
    "\n",
    "    black_filled_circle = mlines.Line2D([], [], marker = 'o', color='black',markersize=9, \n",
    "             markerfacecolor='black', markeredgecolor='black', markeredgewidth=0, linestyle='None')\n",
    "   \n",
    "    # Use best placement for legend\n",
    "    plt.rc('legend',fontsize=12)\n",
    "    ax.legend([black_dot, black_filled_circle], [legend_1, legend_2],\n",
    "              frameon=False,borderaxespad=1,labelspacing=0.2, prop=legend_properties)\n"
   ]
  },
  {
   "cell_type": "code",
   "execution_count": 15,
   "id": "38ed090b-0528-4eb4-8cd3-f04a690d98ca",
   "metadata": {},
   "outputs": [],
   "source": [
    "def add_sio_logo(fig, logo_file, xpos, ypos):\n",
    "\n",
    "    # Convert the logo svg file to a png file with the\n",
    "    # given scale and dpi\n",
    "    logo_png = 'logo.png'\n",
    "    svg2png(url=logo_file, write_to=logo_png, scale=10, dpi=300)\n",
    "\n",
    "    logo = mpimg.imread(logo_png)\n",
    "\n",
    "    fig.add_axes([xpos, ypos, 0.2, 0.2], anchor='SE', zorder=1)\n",
    "\n",
    "    plt.imshow(logo)\n",
    "    plt.axis('off')\n",
    "\n",
    "    # Delete the logo png version\n",
    "    os.remove(logo_png)\n"
   ]
  },
  {
   "cell_type": "code",
   "execution_count": 16,
   "id": "2a73cfda-d061-44e8-a51b-0b878b97fe00",
   "metadata": {},
   "outputs": [],
   "source": [
    "def save_plot_for_website(fig, pdf_file, png_file):\n",
    "\n",
    "    fig_width, fig_height = fig.get_size_inches()\n",
    "\n",
    "    # For pdf\n",
    "    width_in = 10\n",
    "    height_in = (fig_height/fig_width) * width_in\n",
    "\n",
    "    fig.set_size_inches(width_in, height_in)\n",
    "\n",
    "    # Save to a high dpi so that logo png file has a high resolution\n",
    "    fig.savefig(pdf_file, facecolor='w', edgecolor='w',\n",
    "                orientation='landscape', format=None,\n",
    "                transparent=False, bbox_inches='tight', dpi=600)\n",
    "\n",
    "    # For png\n",
    "    # Want a png of height 500px\n",
    "\n",
    "    # First save figure as a png and then scale to size needed\n",
    "\n",
    "    png_dpi = 300\n",
    "\n",
    "    fig.savefig(png_file, facecolor='w', edgecolor='w',\n",
    "                orientation='landscape', dpi=png_dpi, bbox_inches='tight')\n",
    "\n",
    "    # Now resize the image to be width 1000px for the\n",
    "    # keelingcurve website\n",
    "    img = Image.open(png_file)\n",
    "    img_width, img_height = img.size\n",
    "\n",
    "    # width_px = 1000\n",
    "    # img_scale = (width_px / img_width)\n",
    "    # height_px = int((float(img_height) * float(img_scale)))\n",
    "\n",
    "    height_px = 500\n",
    "    img_scale = (height_px / img_height)\n",
    "    width_px = int((float(img_width) * float(img_scale)))\n",
    "\n",
    "    #img = img.resize((width_px, height_px), Image.Resampling.LANCZOS)\n",
    "    img = img.resize((width_px, height_px), Image.ANTIALIAS)\n",
    "    img.save(png_file)\n"
   ]
  },
  {
   "cell_type": "markdown",
   "id": "hY7fkjfpKIhS",
   "metadata": {
    "id": "hY7fkjfpKIhS"
   },
   "source": [
    "## Set plot limits and labeling"
   ]
  },
  {
   "cell_type": "markdown",
   "id": "Brso_v1hKIhS",
   "metadata": {
    "id": "Brso_v1hKIhS"
   },
   "source": [
    "### Functions to convert dates into various formats\n",
    "For plot limits and labeling"
   ]
  },
  {
   "cell_type": "code",
   "execution_count": 17,
   "id": "1DJ-mJjdKIhS",
   "metadata": {
    "id": "1DJ-mJjdKIhS"
   },
   "outputs": [],
   "source": [
    "# Function to convert datetime to a float\n",
    "def dt2t(adatetime):\n",
    "    \"\"\"\n",
    "    Convert adatetime into a float. The integer part of the float should\n",
    "    represent the year.\n",
    "    Order should be preserved. If adate<bdate, then d2t(adate)<d2t(bdate)\n",
    "    time distances should be preserved: If bdate-adate=ddate-cdate then\n",
    "    dt2t(bdate)-dt2t(adate) = dt2t(ddate)-dt2t(cdate)\n",
    "    \"\"\"\n",
    "    year = adatetime.year\n",
    "    boy = datetime(year, 1, 1)\n",
    "    eoy = datetime(year + 1, 1, 1)\n",
    "    return year + ((adatetime - boy).total_seconds() / ((eoy - boy).total_seconds()))"
   ]
  },
  {
   "cell_type": "code",
   "execution_count": 18,
   "id": "i3hzqhwzKIhS",
   "metadata": {
    "id": "i3hzqhwzKIhS"
   },
   "outputs": [],
   "source": [
    "def get_todays_date_variations():\n",
    "    \n",
    "    now = datetime.now()\n",
    "    todays_decimal =  dt2t(now)\n",
    "    \n",
    "    today = date.today()\n",
    "\n",
    "    todays_day = today.day\n",
    "    todays_month = today.strftime(\"%B\")\n",
    "    todays_year = today.year\n",
    "    todays_date_moyr = today.strftime(\"%B %Y\")\n",
    "    todays_date_modyyr = f\"{todays_month} {todays_day}, {todays_year}\"\n",
    "\n",
    "    return todays_date_moyr, todays_date_modyyr, todays_decimal, todays_year"
   ]
  },
  {
   "cell_type": "code",
   "execution_count": 19,
   "id": "BrBRZWsoKIhS",
   "metadata": {
    "id": "BrBRZWsoKIhS"
   },
   "outputs": [],
   "source": [
    "#  https://stackoverflow.com/questions/19305991/convert-fractional-years-to-a-real-date-in-python\n",
    "def t2dt(atime):\n",
    "    \"\"\"\n",
    "    Convert atime (a float) to DT.datetime\n",
    "    This is the inverse of dt2t.\n",
    "    assert dt2t(t2dt(atime)) == atime\n",
    "    \"\"\"\n",
    "    year = int(atime)\n",
    "    remainder = atime - year\n",
    "    boy = datetime(year, 1, 1)\n",
    "    eoy = datetime(year + 1, 1, 1)\n",
    "    seconds = remainder * (eoy - boy).total_seconds()\n",
    "    return boy + timedelta(seconds=seconds)"
   ]
  },
  {
   "cell_type": "code",
   "execution_count": 20,
   "id": "oFNQXkIsKIhT",
   "metadata": {
    "id": "oFNQXkIsKIhT"
   },
   "outputs": [],
   "source": [
    "def get_data_end_date(date_data):\n",
    "    last_date = np.max(date_data)\n",
    "    last_date_datetime = t2dt(last_date)\n",
    "    \n",
    "    # Convert date format to month_name day, year\n",
    "    day = last_date_datetime.day\n",
    "    month = last_date_datetime.strftime(\"%B\")\n",
    "    year = last_date_datetime.year\n",
    "    date_modyyr = f\"{month} {day}, {year}\"\n",
    "    return date_modyyr"
   ]
  },
  {
   "cell_type": "markdown",
   "id": "pAQcdcwNKIhT",
   "metadata": {
    "id": "pAQcdcwNKIhT"
   },
   "source": [
    "### Set titles and axes labels"
   ]
  },
  {
   "cell_type": "code",
   "execution_count": 21,
   "id": "AeyP9aIlKIhT",
   "metadata": {
    "id": "AeyP9aIlKIhT"
   },
   "outputs": [],
   "source": [
    "xlabel = ''\n",
    "ylabel = \"$\\mathregular{CO}\\\\bf{_2}$\" + \" Concentration (ppm)\"\n",
    "\n",
    "title1 = ''\n",
    "title2 = 'Carbon dioxide concentration at Mauna Loa Observatory'"
   ]
  },
  {
   "cell_type": "markdown",
   "id": "aaRUhIEFKIhT",
   "metadata": {
    "id": "aaRUhIEFKIhT"
   },
   "source": [
    "### Set yaxis min and max limits"
   ]
  },
  {
   "cell_type": "code",
   "execution_count": 22,
   "id": "zS2CFYz9KIhT",
   "metadata": {
    "id": "zS2CFYz9KIhT"
   },
   "outputs": [],
   "source": [
    "ymin = 405\n",
    "ymax = 430"
   ]
  },
  {
   "cell_type": "markdown",
   "id": "9JDGo05sKIhT",
   "metadata": {
    "id": "9JDGo05sKIhT"
   },
   "source": [
    "### Set xaxis min and max limits"
   ]
  },
  {
   "cell_type": "code",
   "execution_count": 23,
   "id": "ZlZeuewHKIhT",
   "metadata": {
    "id": "ZlZeuewHKIhT"
   },
   "outputs": [],
   "source": [
    "now = datetime.now()\n",
    "time_ago = now + relativedelta(months=-6)\n",
    "\n",
    "# xaxis limits\n",
    "xmin = time_ago\n",
    "xmax = now\n",
    "\n",
    "# Need decimal range for plotting gradiant since\n",
    "# plotting the gradiant won't work with datetime values\n",
    "xmin_dt = datetime(year=xmin.year, month=xmin.month,day=xmin.day)\n",
    "xmin_dec = dt2t(xmin_dt)\n",
    "\n",
    "xmax_dt = datetime(year=xmax.year, month=xmax.month,day=xmax.day)\n",
    "xmax_dec = dt2t(xmax_dt)"
   ]
  },
  {
   "cell_type": "markdown",
   "id": "yLdHyGtgKIhU",
   "metadata": {
    "id": "yLdHyGtgKIhU"
   },
   "source": [
    "## Create plot and save"
   ]
  },
  {
   "cell_type": "code",
   "execution_count": 24,
   "id": "BSP0bsikKIhU",
   "metadata": {
    "colab": {
     "base_uri": "https://localhost:8080/",
     "height": 404
    },
    "id": "BSP0bsikKIhU",
    "outputId": "b60e6296-0e69-4ee3-b659-ff48dbb6dc88"
   },
   "outputs": [
    {
     "data": {
      "image/png": "[encoded data removed]",
      "text/plain": [
       "<Figure size 720x480 with 2 Axes>"
      ]
     },
     "metadata": {
      "needs_background": "light"
     },
     "output_type": "display_data"
    }
   ],
   "source": [
    "fig = plt.figure()\n",
    "\n",
    "# Add padding for exterior plot text\n",
    "ax = plt.axes([0.11, 0.12, 0.83, 0.54])\n",
    "\n",
    "\n",
    "# ------------------------\n",
    "# Add gradiant under curve\n",
    "# ------------------------\n",
    "\n",
    "# For gradient under all points, extend spline to last data point\n",
    "spline = UnivariateSpline(date_weekly, co2_weekly, s = 3) \n",
    "\n",
    "max_daily = np.max(date_daily)\n",
    "max_weekly = np.max(date_weekly)\n",
    "max_date = max(max_daily, max_weekly)\n",
    "\n",
    "xx = np.linspace(date_weekly[0], max_date, num=1000, endpoint=True)\n",
    "yy = spline(xx)\n",
    "\n",
    "if date_weekly[-1] < max_date:\n",
    "    extended_dates = np.linspace(max_weekly + 0.01, xmax_dec, num=10, endpoint=True)\n",
    "    extended_values = spline(extended_dates)\n",
    "\n",
    "    x = np.concatenate([date_weekly, extended_dates])\n",
    "    y = np.concatenate([co2_weekly, extended_values])\n",
    "else:\n",
    "    x = date_weekly\n",
    "    y = co2_weekly\n",
    "\n",
    "\n",
    "# For gradient max, use last date of data rather than current date\n",
    "xmax_gradient = max_date\n",
    "\n",
    "#area_color = '#ACCAE6'\n",
    "#area_color = '#8CB2E0'\n",
    "area_color = '#73a7e6'\n",
    "\n",
    "gradient_fill(x,y, fill_color=area_color, xmin=xmin_dec, ymin=ymin, \n",
    "              xmax=xmax_gradient, ymax=ymax, alpha_bottom=0.1, ax=ax, alpha=1.0)\n",
    "\n",
    "\n",
    "# -------------\n",
    "# Plot the data\n",
    "# -------------\n",
    "\n",
    "# Set plotting zorder above the gradient\n",
    "\n",
    "ax.plot(date_daily, co2_daily, 'o', color='black',markersize=4, \n",
    "         markerfacecolor='black', markeredgecolor='black', markeredgewidth=0, zorder=5)\n",
    "\n",
    "ax.plot(date_weekly, co2_weekly, 'o', color='black',markersize=9, \n",
    "         markerfacecolor='black', markeredgecolor='black', markeredgewidth=0, zorder=6)\n",
    "\n",
    "\n",
    "# -----------------------------------------------------\n",
    "# Change xaxis to use date labels and not decimal dates\n",
    "# -----------------------------------------------------\n",
    "create_xtick_labels(ax, xmin, xmax)\n",
    "\n",
    "\n",
    "# -------------------\n",
    "# Set plot properties\n",
    "# -------------------\n",
    "set_website_plot_props(ax, fig, xmin_dec, xmax_dec, ymin, ymax, xlabel, ylabel)\n",
    "\n",
    "# ------------------------------------------------\n",
    "# Get todays date in various formats for labeling\n",
    "# ------------------------------------------------\n",
    "todays_date_moyr, todays_date_modyyr, todays_decimal, todays_year = get_todays_date_variations()\n",
    "\n",
    "\n",
    "# ---------------\n",
    "# Add plot titles\n",
    "# ---------------\n",
    "add_plot_title(ax, title1, title2)\n",
    "\n",
    "# --------------\n",
    "# Add inset text\n",
    "# --------------\n",
    "add_inset_label(ax, 'Six months', todays_date_modyyr)\n",
    "\n",
    "# ----------------\n",
    "# Add legend\n",
    "# ----------------\n",
    "add_legend_labels(ax)\n",
    "\n",
    "# --------------------\n",
    "# Add SIO logo to plot\n",
    "# --------------------\n",
    "xpos = 0.715\n",
    "ypos = 0.155\n",
    "\n",
    "add_sio_logo(fig, logo_file, xpos, ypos)\n",
    "\n",
    "\n",
    "# ---------------------\n",
    "# Save plot for website\n",
    "# ---------------------\n",
    "fig = plt.gcf()\n",
    "\n",
    "save_plot_for_website(fig, pdf_file, png_file)\n",
    "\n",
    "\n",
    "plt.show()"
   ]
  },
  {
   "cell_type": "markdown",
   "id": "uMvY64Z0Tn_W",
   "metadata": {
    "id": "uMvY64Z0Tn_W"
   },
   "source": [
    "## Download Plots (pdf & png)"
   ]
  },
  {
   "cell_type": "code",
   "execution_count": 25,
   "id": "f2I4PpW_KIhU",
   "metadata": {
    "colab": {
     "base_uri": "https://localhost:8080/",
     "height": 49,
     "referenced_widgets": [
      "5f5b39df9490418593a3cca963147be4",
      "b5a627ecc5d94d2caa690b98f5c5fa31",
      "17eef0e4f6634284ade3c1c51b00702d"
     ]
    },
    "id": "f2I4PpW_KIhU",
    "outputId": "b0a12cda-631b-4dd4-cc83-e43c21c7cbcc"
   },
   "outputs": [
    {
     "data": {
      "application/vnd.jupyter.widget-view+json": {
       "model_id": "80d2febd0e2a4c34ba9febce98cdb665",
       "version_major": 2,
       "version_minor": 0
      },
      "text/plain": [
       "Button(button_style='primary', description='Download Files', style=ButtonStyle())"
      ]
     },
     "metadata": {},
     "output_type": "display_data"
    }
   ],
   "source": [
    "def download_files(ev):\n",
    "    files.download(png_file)\n",
    "    files.download(pdf_file)\n",
    "\n",
    "button = widgets.Button(description='Download Files', button_style='primary')\n",
    "button.on_click(download_files)\n",
    "display(button)"
   ]
  },
  {
   "cell_type": "code",
   "execution_count": null,
   "id": "F9_uAKJITq1s",
   "metadata": {
    "id": "F9_uAKJITq1s"
   },
   "outputs": [],
   "source": []
  }
 ],
 "metadata": {
  "colab": {
   "include_colab_link": true,
   "name": "plot_mlo_six_months_keelingcurve.ipynb",
   "provenance": []
  },
  "interpreter": {
   "hash": "756fd7f3f44ab1b408c61a336bc63dd8b2b1c2a4bc9346285fbb85e9c22b620b"
  },
  "kernelspec": {
   "display_name": "Python 3.8.5 64-bit ('notebooks')",
   "language": "python",
   "name": "python3"
  },
  "language_info": {
   "codemirror_mode": {
    "name": "ipython",
    "version": 3
   },
   "file_extension": ".py",
   "mimetype": "text/x-python",
   "name": "python",
   "nbconvert_exporter": "python",
   "pygments_lexer": "ipython3",
   "version": "3.8.5"
  },
  "widgets": {
   "application/vnd.jupyter.widget-state+json": {
    "17eef0e4f6634284ade3c1c51b00702d": {
     "model_module": "@jupyter-widgets/base",
     "model_module_version": "1.2.0",
     "model_name": "LayoutModel",
     "state": {
      "_model_module": "@jupyter-widgets/base",
      "_model_module_version": "1.2.0",
      "_model_name": "LayoutModel",
      "_view_count": null,
      "_view_module": "@jupyter-widgets/base",
      "_view_module_version": "1.2.0",
      "_view_name": "LayoutView",
      "align_content": null,
      "align_items": null,
      "align_self": null,
      "border": null,
      "bottom": null,
      "display": null,
      "flex": null,
      "flex_flow": null,
      "grid_area": null,
      "grid_auto_columns": null,
      "grid_auto_flow": null,
      "grid_auto_rows": null,
      "grid_column": null,
      "grid_gap": null,
      "grid_row": null,
      "grid_template_areas": null,
      "grid_template_columns": null,
      "grid_template_rows": null,
      "height": null,
      "justify_content": null,
      "justify_items": null,
      "left": null,
      "margin": null,
      "max_height": null,
      "max_width": null,
      "min_height": null,
      "min_width": null,
      "object_fit": null,
      "object_position": null,
      "order": null,
      "overflow": null,
      "overflow_x": null,
      "overflow_y": null,
      "padding": null,
      "right": null,
      "top": null,
      "visibility": null,
      "width": null
     }
    },
    "5f5b39df9490418593a3cca963147be4": {
     "model_module": "@jupyter-widgets/controls",
     "model_module_version": "1.5.0",
     "model_name": "ButtonModel",
     "state": {
      "_dom_classes": [],
      "_model_module": "@jupyter-widgets/controls",
      "_model_module_version": "1.5.0",
      "_model_name": "ButtonModel",
      "_view_count": null,
      "_view_module": "@jupyter-widgets/controls",
      "_view_module_version": "1.5.0",
      "_view_name": "ButtonView",
      "button_style": "primary",
      "description": "Download Files",
      "disabled": false,
      "icon": "",
      "layout": "IPY_MODEL_17eef0e4f6634284ade3c1c51b00702d",
      "style": "IPY_MODEL_b5a627ecc5d94d2caa690b98f5c5fa31",
      "tooltip": ""
     }
    },
    "b5a627ecc5d94d2caa690b98f5c5fa31": {
     "model_module": "@jupyter-widgets/controls",
     "model_module_version": "1.5.0",
     "model_name": "ButtonStyleModel",
     "state": {
      "_model_module": "@jupyter-widgets/controls",
      "_model_module_version": "1.5.0",
      "_model_name": "ButtonStyleModel",
      "_view_count": null,
      "_view_module": "@jupyter-widgets/base",
      "_view_module_version": "1.2.0",
      "_view_name": "StyleView",
      "button_color": null,
      "font_weight": ""
     }
    }
   }
  }
 },
 "nbformat": 4,
 "nbformat_minor": 5
}
