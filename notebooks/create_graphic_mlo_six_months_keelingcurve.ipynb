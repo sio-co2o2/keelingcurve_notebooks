{
 "cells": [
  {
   "cell_type": "markdown",
   "id": "c8bc3c62",
   "metadata": {
    "colab_type": "text",
    "id": "view-in-github"
   },
   "source": [
    "<a href=\"https://colab.research.google.com/github/sio-co2o2/keelingcurve_notebooks/blob/main/notebooks/create_graphic_mlo_six_months_keelingcurve.ipynb\" target=\"_parent\"><img src=\"https://colab.research.google.com/assets/colab-badge.svg\" alt=\"Open In Colab\"/></a>"
   ]
  },
  {
   "cell_type": "markdown",
   "id": "FED1rfaOKIhD",
   "metadata": {
    "id": "FED1rfaOKIhD"
   },
   "source": [
    "# Create a graphic appearing on the Keeling Curve website\n",
    "### **Graphic: CO<sub>2</sub> record at Mauna Loa, Hawaii for the last 6 months**"
   ]
  },
  {
   "cell_type": "markdown",
   "id": "X33ltH65KIhG",
   "metadata": {
    "id": "X33ltH65KIhG"
   },
   "source": [
    "#### This notebook creates customizable PDF and PNG images of a graphic appearing on the front page of [keelingcurve.ucsd.edu](keelingcurve.ucsd.edu).\n",
    "\n",
    "See an overview of the Keeling Curve notebooks and how to use them at [notebooks overview](https://colab.research.google.com/github/sio-co2o2/keelingcurve_notebooks/blob/main/notebooks/overview_of_notebooks_keelingcurve.ipynb)"
   ]
  },
  {
   "cell_type": "markdown",
   "id": "b2d0b76e",
   "metadata": {},
   "source": [
    "---\n",
    "\n",
    "### [Go to creating the graphic section](#button-to-create-and-save-the-graphic)\n",
    "\n",
    "---"
   ]
  },
  {
   "cell_type": "markdown",
   "id": "0a6858c0",
   "metadata": {},
   "source": [
    "### Sample of the graphic produced by this notebook"
   ]
  },
  {
   "cell_type": "markdown",
   "id": "9994e7a3",
   "metadata": {},
   "source": [
    "![title](https://github.com/sio-co2o2/keelingcurve_notebooks/blob/main/images/sample_plots/mlo_six_months.png?raw=1)"
   ]
  },
  {
   "cell_type": "markdown",
   "id": "9b5e1654",
   "metadata": {},
   "source": [
    "## **Notebook Code**"
   ]
  },
  {
   "cell_type": "markdown",
   "id": "fj3bGXi2KIhH",
   "metadata": {
    "id": "fj3bGXi2KIhH"
   },
   "source": [
    "### Import python packages"
   ]
  },
  {
   "cell_type": "code",
   "execution_count": 1,
   "id": "La3hBj2IKIhH",
   "metadata": {
    "id": "La3hBj2IKIhH"
   },
   "outputs": [],
   "source": [
    "import functools\n",
    "import pandas as pd\n",
    "import numpy as np\n",
    "from datetime import datetime, date, timedelta\n",
    "from dateutil.relativedelta import relativedelta\n",
    "import pathlib\n",
    "import matplotlib.image as mpimg\n",
    "import matplotlib.pyplot as plt\n",
    "from matplotlib.pyplot import figure\n",
    "from matplotlib.ticker import (MultipleLocator, AutoMinorLocator)\n",
    "from matplotlib import ticker\n",
    "from matplotlib.path import Path\n",
    "import matplotlib.colors as mcolors\n",
    "from matplotlib.patches import Polygon\n",
    "import matplotlib.dates as mdates\n",
    "import matplotlib.lines as mlines\n",
    "from scipy.interpolate import UnivariateSpline\n",
    "from scipy import interpolate\n",
    "import matplotlib.transforms\n",
    "from matplotlib import animation\n",
    "from ipywidgets import widgets\n",
    "from IPython.display import HTML, display\n",
    "from base64 import b64encode\n",
    "from PIL import Image\n",
    "import urllib\n",
    "import os\n",
    "from cairosvg import svg2png\n",
    "\n",
    "%matplotlib inline"
   ]
  },
  {
   "cell_type": "code",
   "execution_count": 2,
   "id": "24d56787",
   "metadata": {},
   "outputs": [],
   "source": [
    "# This package is used to convert a vector svg into a png\n",
    "\n",
    "try:\n",
    "  from cairosvg import svg2png\n",
    "except:\n",
    "  ! pip install cairosvg"
   ]
  },
  {
   "cell_type": "code",
   "execution_count": 3,
   "id": "96027544-e3fb-4c1f-9960-0bf7cff6bcee",
   "metadata": {},
   "outputs": [],
   "source": [
    "# This import is to enable Google Colab to save files ane then download them\n",
    "\n",
    "# This import does not exist unless the notebook is run in Google Colab\n",
    "# Put in a try except block if user wants to use notebook off of Google Colab\n",
    "\n",
    "try:\n",
    "    from google.colab import files\n",
    "except:\n",
    "    pass"
   ]
  },
  {
   "cell_type": "markdown",
   "id": "AJzq88X2KIhJ",
   "metadata": {
    "id": "AJzq88X2KIhJ"
   },
   "source": [
    "### Set directories and file names"
   ]
  },
  {
   "cell_type": "code",
   "execution_count": 4,
   "id": "1gMcKyRSKIhJ",
   "metadata": {
    "id": "1gMcKyRSKIhJ"
   },
   "outputs": [],
   "source": [
    "# Read in data from github repository\n",
    "data_file = 'https://raw.githubusercontent.com/sio-co2o2/keelingcurve_notebooks/main/preliminary_data/mlo/mlo_six_month_span.csv'\n",
    "\n",
    "logo_file = 'https://github.com/sio-co2o2/keelingcurve_notebooks/raw/main/images/logos/ucsd_sio_logo.svg'\n",
    "\n",
    "plot_dir = pathlib.Path('./plots')\n",
    "plot_dir.mkdir(exist_ok=True)\n",
    "\n",
    "plot_basename = 'mlo_six_months'\n",
    "\n",
    "pdf_file = plot_dir / f\"{plot_basename}.pdf\"\n",
    "png_file = plot_dir / f\"{plot_basename}.png\""
   ]
  },
  {
   "cell_type": "markdown",
   "id": "RueC2d73KIhK",
   "metadata": {
    "id": "RueC2d73KIhK"
   },
   "source": [
    "## **Load in data and prepare it for plotting**"
   ]
  },
  {
   "cell_type": "markdown",
   "id": "bb826dc0",
   "metadata": {},
   "source": [
    "### Load in MLO record"
   ]
  },
  {
   "cell_type": "code",
   "execution_count": 5,
   "id": "03NzHKyPKIhL",
   "metadata": {
    "colab": {
     "base_uri": "https://localhost:8080/",
     "height": 206
    },
    "id": "03NzHKyPKIhL",
    "outputId": "ad68df9d-3e2a-4866-931f-8d155273ea4e"
   },
   "outputs": [
    {
     "data": {
      "text/html": [
       "<div>\n",
       "<style scoped>\n",
       "    .dataframe tbody tr th:only-of-type {\n",
       "        vertical-align: middle;\n",
       "    }\n",
       "\n",
       "    .dataframe tbody tr th {\n",
       "        vertical-align: top;\n",
       "    }\n",
       "\n",
       "    .dataframe thead th {\n",
       "        text-align: right;\n",
       "    }\n",
       "</style>\n",
       "<table border=\"1\" class=\"dataframe\">\n",
       "  <thead>\n",
       "    <tr style=\"text-align: right;\">\n",
       "      <th></th>\n",
       "      <th>date_dy</th>\n",
       "      <th>co2_dy</th>\n",
       "      <th>date_wk</th>\n",
       "      <th>co2_wk</th>\n",
       "    </tr>\n",
       "  </thead>\n",
       "  <tbody>\n",
       "    <tr>\n",
       "      <th>0</th>\n",
       "      <td>2022.305479</td>\n",
       "      <td>419.44</td>\n",
       "      <td>2022.306849</td>\n",
       "      <td>420.11</td>\n",
       "    </tr>\n",
       "    <tr>\n",
       "      <th>1</th>\n",
       "      <td>2022.308219</td>\n",
       "      <td>419.36</td>\n",
       "      <td>2022.326027</td>\n",
       "      <td>419.81</td>\n",
       "    </tr>\n",
       "    <tr>\n",
       "      <th>2</th>\n",
       "      <td>2022.310959</td>\n",
       "      <td>420.21</td>\n",
       "      <td>2022.345205</td>\n",
       "      <td>419.64</td>\n",
       "    </tr>\n",
       "    <tr>\n",
       "      <th>3</th>\n",
       "      <td>2022.313699</td>\n",
       "      <td>421.14</td>\n",
       "      <td>2022.364384</td>\n",
       "      <td>421.36</td>\n",
       "    </tr>\n",
       "    <tr>\n",
       "      <th>4</th>\n",
       "      <td>2022.324658</td>\n",
       "      <td>419.42</td>\n",
       "      <td>2022.383562</td>\n",
       "      <td>420.55</td>\n",
       "    </tr>\n",
       "  </tbody>\n",
       "</table>\n",
       "</div>"
      ],
      "text/plain": [
       "       date_dy  co2_dy      date_wk  co2_wk\n",
       "0  2022.305479  419.44  2022.306849  420.11\n",
       "1  2022.308219  419.36  2022.326027  419.81\n",
       "2  2022.310959  420.21  2022.345205  419.64\n",
       "3  2022.313699  421.14  2022.364384  421.36\n",
       "4  2022.324658  419.42  2022.383562  420.55"
      ]
     },
     "execution_count": 5,
     "metadata": {},
     "output_type": "execute_result"
    }
   ],
   "source": [
    "df = pd.read_csv(data_file,sep=',',comment='\"')\n",
    "df.head()"
   ]
  },
  {
   "cell_type": "markdown",
   "id": "Yqay1k27KIhM",
   "metadata": {
    "id": "Yqay1k27KIhM"
   },
   "source": [
    "### Break into dataframes for each time frequency"
   ]
  },
  {
   "cell_type": "code",
   "execution_count": 6,
   "id": "nd8Ex2AUKIhM",
   "metadata": {
    "id": "nd8Ex2AUKIhM"
   },
   "outputs": [],
   "source": [
    "df_daily = df[['date_dy', 'co2_dy']].copy()\n",
    "df_wk = df[['date_wk', 'co2_wk']].copy()\n"
   ]
  },
  {
   "cell_type": "markdown",
   "id": "0tYWnbXYKIhN",
   "metadata": {
    "id": "0tYWnbXYKIhN"
   },
   "source": [
    "### Remove rows with fill values NaN"
   ]
  },
  {
   "cell_type": "code",
   "execution_count": 7,
   "id": "NHRZuHj_KIhN",
   "metadata": {
    "id": "NHRZuHj_KIhN",
    "scrolled": true
   },
   "outputs": [],
   "source": [
    "df_daily = df_daily[df_daily['co2_dy'].notnull()]\n",
    "df_weekly = df_wk[df_wk['co2_wk'].notnull()]\n"
   ]
  },
  {
   "cell_type": "markdown",
   "id": "957-fntRKIhN",
   "metadata": {
    "id": "957-fntRKIhN"
   },
   "source": [
    "### Convert to numpy arrays for plotting"
   ]
  },
  {
   "cell_type": "code",
   "execution_count": 8,
   "id": "mks9uvaTKIhO",
   "metadata": {
    "id": "mks9uvaTKIhO"
   },
   "outputs": [],
   "source": [
    "date_daily = df_daily['date_dy'].to_numpy()\n",
    "co2_daily = df_daily['co2_dy'].to_numpy()\n",
    "date_weekly = df_weekly['date_wk'].to_numpy()\n",
    "co2_weekly = df_weekly['co2_wk'].to_numpy()"
   ]
  },
  {
   "cell_type": "markdown",
   "id": "4E4x_RZAKIhO",
   "metadata": {
    "id": "4E4x_RZAKIhO"
   },
   "source": [
    "## **Define accessory functions**"
   ]
  },
  {
   "cell_type": "markdown",
   "id": "509f46f1",
   "metadata": {},
   "source": [
    "## Functions to convert dates into various formats\n",
    "Used for plot limits and labeling"
   ]
  },
  {
   "cell_type": "markdown",
   "id": "2889e9f2",
   "metadata": {},
   "source": [
    "### Function to convert a datetime to a float"
   ]
  },
  {
   "cell_type": "code",
   "execution_count": 9,
   "id": "1DJ-mJjdKIhS",
   "metadata": {
    "id": "1DJ-mJjdKIhS"
   },
   "outputs": [],
   "source": [
    "# Function to convert datetime to a float\n",
    "#  https://stackoverflow.com/questions/19305991/convert-fractional-years-to-a-real-date-in-python\n",
    "def dt2t(adatetime):\n",
    "    \"\"\"\n",
    "    Convert adatetime into a float. The integer part of the float should\n",
    "    represent the year.\n",
    "    Order should be preserved. If adate<bdate, then d2t(adate)<d2t(bdate)\n",
    "    time distances should be preserved: If bdate-adate=ddate-cdate then\n",
    "    dt2t(bdate)-dt2t(adate) = dt2t(ddate)-dt2t(cdate)\n",
    "    \"\"\"\n",
    "    year = adatetime.year\n",
    "    boy = datetime(year, 1, 1)\n",
    "    eoy = datetime(year + 1, 1, 1)\n",
    "    return year + ((adatetime - boy).total_seconds() / ((eoy - boy).total_seconds()))"
   ]
  },
  {
   "cell_type": "markdown",
   "id": "90089465",
   "metadata": {},
   "source": [
    "### Function to convert a float to a datetime"
   ]
  },
  {
   "cell_type": "code",
   "execution_count": 10,
   "id": "BrBRZWsoKIhS",
   "metadata": {
    "id": "BrBRZWsoKIhS"
   },
   "outputs": [],
   "source": [
    "#  https://stackoverflow.com/questions/19305991/convert-fractional-years-to-a-real-date-in-python\n",
    "def t2dt(atime):\n",
    "    \"\"\"\n",
    "    Convert atime (a float) to DT.datetime\n",
    "    This is the inverse of dt2t.\n",
    "    assert dt2t(t2dt(atime)) == atime\n",
    "    \"\"\"\n",
    "    year = int(atime)\n",
    "    remainder = atime - year\n",
    "    boy = datetime(year, 1, 1)\n",
    "    eoy = datetime(year + 1, 1, 1)\n",
    "    seconds = remainder * (eoy - boy).total_seconds()\n",
    "    return boy + timedelta(seconds=seconds)"
   ]
  },
  {
   "cell_type": "markdown",
   "id": "24da76d4",
   "metadata": {},
   "source": [
    "### Function to create various date versions for today's date"
   ]
  },
  {
   "cell_type": "code",
   "execution_count": 11,
   "id": "i3hzqhwzKIhS",
   "metadata": {
    "id": "i3hzqhwzKIhS"
   },
   "outputs": [],
   "source": [
    "def get_todays_date_variations():\n",
    "    \n",
    "    now = datetime.now()\n",
    "    todays_decimal =  dt2t(now)\n",
    "    \n",
    "    today = date.today()\n",
    "\n",
    "    todays_day = today.day\n",
    "    todays_month = today.strftime(\"%B\")\n",
    "    todays_year = today.year\n",
    "    todays_date_moyr = today.strftime(\"%B %Y\")\n",
    "    todays_date_modyyr = f\"{todays_month} {todays_day}, {todays_year}\"\n",
    "\n",
    "    return todays_date_moyr, todays_date_modyyr, todays_decimal, todays_year"
   ]
  },
  {
   "cell_type": "markdown",
   "id": "bae5438b",
   "metadata": {},
   "source": [
    "### Function to get the end date of data"
   ]
  },
  {
   "cell_type": "code",
   "execution_count": 12,
   "id": "oFNQXkIsKIhT",
   "metadata": {
    "id": "oFNQXkIsKIhT"
   },
   "outputs": [],
   "source": [
    "def get_data_end_date(date_data):\n",
    "    last_date = np.max(date_data)\n",
    "    last_date_datetime = t2dt(last_date)\n",
    "    \n",
    "    # Convert date format to month_name day, year\n",
    "    day = last_date_datetime.day\n",
    "    month = last_date_datetime.strftime(\"%B\")\n",
    "    year = last_date_datetime.year\n",
    "    date_modyyr = f\"{month} {day}, {year}\"\n",
    "    return date_modyyr"
   ]
  },
  {
   "cell_type": "markdown",
   "id": "c1d28085",
   "metadata": {},
   "source": [
    "## Function to create gradient under curve"
   ]
  },
  {
   "cell_type": "code",
   "execution_count": 13,
   "id": "Ep1DrILnKIhO",
   "metadata": {
    "id": "Ep1DrILnKIhO"
   },
   "outputs": [],
   "source": [
    "# https://stackoverflow.com/questions/29321835/is-it-possible-to-get-color-gradients-under-curve-in-matplotlib\n",
    "# Modified to add gradient below curve and have a bottom alpha\n",
    "\n",
    "# def gradient_fill(x, y, fill_color=None, ax=None, **kwargs):\n",
    "def gradient_fill(x, y, fill_color='#FFFFFF', xmin=None, ymin=None, xmax=None, \n",
    "                  ymax=None, alpha_bottom=None, ax=None, alpha=1, zorder=1, **kwargs):\n",
    "    \"\"\"\n",
    "    Plot a line with a linear alpha gradient filled beneath it.\n",
    "\n",
    "    Parameters\n",
    "    ----------\n",
    "    x, y : array-like\n",
    "        The data values of the line.\n",
    "    fill_color : a matplotlib color specifier (string, tuple) or None\n",
    "        The color for the fill. If None, the color of the line will be used.\n",
    "    ax : a matplotlib Axes instance\n",
    "        The axes to plot on. If None, the current pyplot axes will be used.\n",
    "    Additional arguments are passed on to matplotlib's ``plot`` function.\n",
    "\n",
    "    Returns\n",
    "    -------\n",
    "    line : a Line2D instance\n",
    "        The line plotted.\n",
    "    im : an AxesImage instance\n",
    "        The transparent gradient clipped to just the area beneath the curve.\n",
    "    \"\"\"\n",
    "    if ax is None:\n",
    "        ax = plt.gca()\n",
    "\n",
    "    # Only want the gradient to show\n",
    "    #line, = ax.plot(x, y, **kwargs)\n",
    "    #if fill_color is None:\n",
    "    #    fill_color = line.get_color()\n",
    "\n",
    "    if alpha_bottom is None:\n",
    "        alpha_bottom = 0\n",
    "\n",
    "    if xmin is None:\n",
    "        xmin = x.min()\n",
    "\n",
    "    if ymin is None:\n",
    "        ymin = y.min()\n",
    "        \n",
    "    if xmax is None:\n",
    "        xmax = x.max()\n",
    "\n",
    "    if ymax is None:\n",
    "        ymax = y.max()\n",
    "        \n",
    "    if zorder is None:\n",
    "        zorder = 1\n",
    "        \n",
    "    #zorder = line.get_zorder()\n",
    "    \n",
    "    #alpha = line.get_alpha()\n",
    "    #alpha = 1.0 if alpha is None else alpha\n",
    "\n",
    "    z = np.empty((100, 1, 4), dtype=float)\n",
    "    rgb = mcolors.colorConverter.to_rgb(fill_color)\n",
    "    z[:, :, :3] = rgb\n",
    "    #z[:,:,-1] = np.linspace(0, alpha, 100)[:,None]\n",
    "    z[:, :, -1] = np.linspace(alpha_bottom, alpha, 100)[:, None]\n",
    "\n",
    "    #xmin, xmax, ymin, ymax = x.min(), x.max(), y.min(), y.max()\n",
    "    \n",
    "    im = ax.imshow(z, aspect='auto', extent=[xmin, xmax, ymin, ymax],\n",
    "                   origin='lower', zorder=zorder)\n",
    "\n",
    "    xy = np.column_stack([x, y])\n",
    "    xy = np.vstack([[xmin, ymin], xy, [xmax, ymin], [xmin, ymin]])\n",
    "    clip_path = Polygon(xy, facecolor='none', edgecolor='none', closed=True)\n",
    "    ax.add_patch(clip_path)\n",
    "    im.set_clip_path(clip_path)\n",
    "    \n",
    "    ax.autoscale(True)\n",
    "    \n",
    "    #return line, im"
   ]
  },
  {
   "cell_type": "markdown",
   "id": "4af52e42",
   "metadata": {},
   "source": [
    "<a id=\"functions-to-modify-graphic\"></a>\n",
    "## **Define functions that can modify the graphic**"
   ]
  },
  {
   "cell_type": "markdown",
   "id": "fe4f5904",
   "metadata": {},
   "source": [
    "### Function to set global fonts and linewidth properties"
   ]
  },
  {
   "cell_type": "code",
   "execution_count": 14,
   "id": "yb_0gUwpKIhP",
   "metadata": {
    "id": "yb_0gUwpKIhP"
   },
   "outputs": [],
   "source": [
    "def set_matplotlib_properties():\n",
    "    \n",
    "    # Set default attributes for matplotlib\n",
    "    \n",
    "    # Reset rcparams in case modified defaults in another notebook during same session \n",
    "    plt.rcParams.update(plt.rcParamsDefault)\n",
    "\n",
    "    plt.rcParams.update({'axes.linewidth':1.5})\n",
    "    \n",
    "    plt.rcParams.update({\n",
    "        \"text.usetex\": False,\n",
    "        \"font.family\": \"sans-serif\",\n",
    "        \"font.weight\":  \"normal\",\n",
    "        \"font.sans-serif\": [\"Arial\", \"Tahoma\", \"Helvetica\",\"FreeSans\", \"NimbusSans\", \"LiberationSans\",\"DejaVu Sans\"],\n",
    "        \"mathtext.default\":'regular',\n",
    "        \"mathtext.fontset\": \"dejavusans\"\n",
    "    })\n",
    "        \n",
    "    # http://phyletica.org/matplotlib-fonts/\n",
    "    # This causes matplotlib to use Type 42 (a.k.a. TrueType) fonts \n",
    "    # for PostScript and PDF files. This allows you to avoid Type 3 fonts.\n",
    "    # Turning on usetex also works\n",
    "    # Needed on Ubuntu for pdf fonts \n",
    "    plt.rcParams.update({\n",
    "      'pdf.fonttype': 42,\n",
    "        'ps.fonttype': 42 \n",
    "    })"
   ]
  },
  {
   "cell_type": "markdown",
   "id": "86be8c47",
   "metadata": {},
   "source": [
    "### Function to set axes properties of the graphic"
   ]
  },
  {
   "cell_type": "code",
   "execution_count": 15,
   "id": "aaQwNsqqKIhQ",
   "metadata": {
    "id": "aaQwNsqqKIhQ"
   },
   "outputs": [],
   "source": [
    "def set_plot_props(ax, fig, xmin, xmax, ymin, ymax, xlabel, ylabel):\n",
    "    \n",
    "    # ---------------------------------\n",
    "    # Plot properties for website plots\n",
    "    # ---------------------------------\n",
    "\n",
    "    # Allow room at top for the 2 titles\n",
    "    fig.subplots_adjust(top=0.85)\n",
    "\n",
    "    ax.tick_params(which='both', bottom=True, top=True, left=True, right=True)\n",
    "\n",
    "    ax.tick_params(axis='x', labelsize=10, pad=5)\n",
    "    ax.tick_params(axis='y', labelsize=16)\n",
    "\n",
    "    ax.tick_params(axis='x', which='major', direction='in', length=6, width=1)\n",
    "    ax.tick_params(axis='y', which='major', direction='in', length=8, width=1)\n",
    "\n",
    "    tick_spacing = 5\n",
    "    ax.yaxis.set_major_locator(ticker.MultipleLocator(tick_spacing))\n",
    "    \n",
    "    labels = ax.get_xticklabels() + ax.get_yticklabels()\n",
    "    for label in labels: label.set_fontweight('bold') \n",
    "\n",
    "    ax.tick_params(which='minor', direction='in', length=4)\n",
    "    ax.yaxis.set_minor_locator(AutoMinorLocator(5))\n",
    "\n",
    "    ax.set_xlabel(xlabel, fontweight='bold', fontsize=18, labelpad=5)\n",
    "    ax.set_ylabel(ylabel, fontweight='bold', fontsize=18, labelpad=5)\n",
    "\n",
    "    # Set axes limits last \n",
    "    # If did before, setting xtick labels past xmin & xmax would have\n",
    "    # extended the plot limits\n",
    "    ax.set_xlim(xmin, xmax)\n",
    "    ax.set_ylim(ymin, ymax)"
   ]
  },
  {
   "cell_type": "markdown",
   "id": "66c8dc43",
   "metadata": {},
   "source": [
    "### Function to create text tick labels"
   ]
  },
  {
   "cell_type": "code",
   "execution_count": 16,
   "id": "R0HSuVu4KIhQ",
   "metadata": {
    "id": "R0HSuVu4KIhQ"
   },
   "outputs": [],
   "source": [
    "def create_xtick_labels(ax, xmin, xmax):\n",
    "    \n",
    "    # Have ticks at the first of the month and then move the tick label\n",
    "    # to position at the start of this tick mark\n",
    "\n",
    "    # Set tick marks to 1st of each month\n",
    "    start_date = datetime(xmin.year, xmin.month, 1, 0, 0)\n",
    "    end_date = datetime(xmax.year, xmax.month, 1, 0,0)\n",
    "\n",
    "    date_ticks_dt = []\n",
    "    current=start_date\n",
    "    while current <= end_date:\n",
    "        date_ticks_dt.append(current)\n",
    "        current += relativedelta(months=1)\n",
    "\n",
    "    date_tick_labels = [x.strftime(\"%b\") for x in date_ticks_dt]\n",
    "\n",
    "    date_tick_decimal = [dt2t(x) for x in date_ticks_dt]\n",
    "    \n",
    "    plt.xticks(date_tick_decimal, date_tick_labels)\n",
    "\n",
    "    # Move tick labels so left aligned with tick mark\n",
    "    # to represent the month as starting at the tick mark\n",
    "    # and not meaning the middle of the month.\n",
    "    for tick in ax.xaxis.get_majorticklabels():\n",
    "        tick.set_horizontalalignment(\"left\")\n",
    "        \n",
    "    # Place the starting and ending years below the xaxis tick labels\n",
    "    start_year = xmin.year\n",
    "\n",
    "    label_text = start_year\n",
    "    ax.annotate(label_text, xy=(0, -0.06), xycoords='axes fraction', fontsize=10,\n",
    "                horizontalalignment='left', verticalalignment='top', fontweight='bold')\n",
    "\n",
    "    end_year = xmax.year\n",
    "    label_text = end_year\n",
    "    ax.annotate(label_text, xy=(0.97, -0.06), xycoords='axes fraction', fontsize=10,\n",
    "                horizontalalignment='left', verticalalignment='top', fontweight='bold')\n",
    "\n",
    "    ax.tick_params(axis='x', pad=7)"
   ]
  },
  {
   "cell_type": "markdown",
   "id": "195cca01",
   "metadata": {},
   "source": [
    "### Function to place the titles"
   ]
  },
  {
   "cell_type": "code",
   "execution_count": 17,
   "id": "Y8WqqJJFKIhQ",
   "metadata": {
    "id": "Y8WqqJJFKIhQ"
   },
   "outputs": [],
   "source": [
    "def add_plot_title(ax, title1, title2):\n",
    "\n",
    "    ax.annotate(title1, xy=(0, 1.15), xycoords='axes fraction', fontsize=14,\n",
    "                horizontalalignment='left', verticalalignment='top', fontweight=\"normal\")\n",
    "    ax.annotate(title2, xy=(0, 1.07), xycoords='axes fraction', fontsize=18,\n",
    "                horizontalalignment='left', verticalalignment='top', fontweight = 'bold')"
   ]
  },
  {
   "cell_type": "markdown",
   "id": "b78f04bb",
   "metadata": {},
   "source": []
  },
  {
   "cell_type": "code",
   "execution_count": 18,
   "id": "_fID4yOmKIhR",
   "metadata": {
    "id": "_fID4yOmKIhR"
   },
   "outputs": [],
   "source": [
    "def add_inset_label(ax, label_start, today):\n",
    "    label_text = f\"{label_start} ending {today}\"\n",
    "    ax.annotate(label_text, xy=(0.03, 0.9), xycoords='axes fraction', fontsize=12,\n",
    "                horizontalalignment='left', verticalalignment='top')"
   ]
  },
  {
   "cell_type": "markdown",
   "id": "231c472a",
   "metadata": {},
   "source": [
    "### Function to add an inset label"
   ]
  },
  {
   "cell_type": "code",
   "execution_count": 19,
   "id": "TjX8509IKIhR",
   "metadata": {
    "id": "TjX8509IKIhR"
   },
   "outputs": [],
   "source": [
    "def add_legend_labels(ax):\n",
    "\n",
    "    legend_1 = 'Daily average'\n",
    "    legend_2 = 'Weekly average'\n",
    "    \n",
    "    legend_properties = {'weight':'bold'}\n",
    "\n",
    "    black_dot = mlines.Line2D([], [], marker = 'o', color='black',markersize=4, \n",
    "             markerfacecolor='black', markeredgecolor='black', markeredgewidth=0, linestyle='None')\n",
    "\n",
    "    black_filled_circle = mlines.Line2D([], [], marker = 'o', color='black',markersize=9, \n",
    "             markerfacecolor='black', markeredgecolor='black', markeredgewidth=0, linestyle='None')\n",
    "   \n",
    "    # Use best placement for legend\n",
    "    plt.rc('legend',fontsize=12)\n",
    "    ax.legend([black_dot, black_filled_circle], [legend_1, legend_2],\n",
    "              frameon=False,borderaxespad=1,labelspacing=0.2, prop=legend_properties)\n"
   ]
  },
  {
   "cell_type": "markdown",
   "id": "eb3c75ad",
   "metadata": {},
   "source": [
    "### Function to add the SIO logo"
   ]
  },
  {
   "cell_type": "code",
   "execution_count": 20,
   "id": "38ed090b-0528-4eb4-8cd3-f04a690d98ca",
   "metadata": {},
   "outputs": [],
   "source": [
    "def add_sio_logo(fig, logo_file, xpos, ypos):\n",
    "\n",
    "    # Convert the logo svg file to a png file with the\n",
    "    # given scale and dpi\n",
    "    logo_png = 'logo.png'\n",
    "    svg2png(url=logo_file, write_to=logo_png, scale=10, dpi=300)\n",
    "\n",
    "    logo = mpimg.imread(logo_png)\n",
    "\n",
    "    fig.add_axes([xpos, ypos, 0.2, 0.2], anchor='SE', zorder=1)\n",
    "\n",
    "    plt.imshow(logo)\n",
    "    plt.axis('off')\n",
    "\n",
    "    # Delete the logo png version\n",
    "    os.remove(logo_png)\n"
   ]
  },
  {
   "cell_type": "markdown",
   "id": "dd4f8484",
   "metadata": {},
   "source": [
    "### Function to save the graphic"
   ]
  },
  {
   "cell_type": "code",
   "execution_count": 21,
   "id": "2a73cfda-d061-44e8-a51b-0b878b97fe00",
   "metadata": {},
   "outputs": [],
   "source": [
    "def save_graphic(fig, pdf_file, png_file):\n",
    "\n",
    "    fig_width, fig_height = fig.get_size_inches()\n",
    "\n",
    "    # For pdf\n",
    "    width_in = 10\n",
    "    height_in = (fig_height/fig_width) * width_in\n",
    "\n",
    "    fig.set_size_inches(width_in, height_in)\n",
    "\n",
    "    # Save to a high dpi so that logo png file has a high resolution\n",
    "    fig.savefig(pdf_file, facecolor='w', edgecolor='w',\n",
    "                orientation='landscape', format=None,\n",
    "                transparent=False, bbox_inches='tight', dpi=600)\n",
    "\n",
    "    # For png\n",
    "    # Want a png of height 500px\n",
    "\n",
    "    # First save figure as a png and then scale to size needed\n",
    "\n",
    "    png_dpi = 300\n",
    "\n",
    "    fig.savefig(png_file, facecolor='w', edgecolor='w',\n",
    "                orientation='landscape', dpi=png_dpi, bbox_inches='tight')\n",
    "\n",
    "    # Now resize the image to be width 1000px for the\n",
    "    # keelingcurve website\n",
    "    img = Image.open(png_file)\n",
    "    img_width, img_height = img.size\n",
    "\n",
    "    # width_px = 1000\n",
    "    # img_scale = (width_px / img_width)\n",
    "    # height_px = int((float(img_height) * float(img_scale)))\n",
    "\n",
    "    height_px = 500\n",
    "    img_scale = (height_px / img_height)\n",
    "    width_px = int((float(img_width) * float(img_scale)))\n",
    "\n",
    "    #img = img.resize((width_px, height_px), Image.Resampling.LANCZOS)\n",
    "    img = img.resize((width_px, height_px), Image.ANTIALIAS)\n",
    "    img.save(png_file)\n"
   ]
  },
  {
   "cell_type": "markdown",
   "id": "3ee56f8a",
   "metadata": {},
   "source": [
    "### Function to create a Context Manager\n",
    "\n",
    "This allows a message to display in a cell while a function is running.\n",
    "Usefull for indicating a function is running."
   ]
  },
  {
   "cell_type": "code",
   "execution_count": 22,
   "id": "1c462714",
   "metadata": {},
   "outputs": [],
   "source": [
    "class ShowProgressContextManagerWidgets:\n",
    "\n",
    "    def __init__(self, out, command=''):\n",
    "        self.out = out\n",
    "        self.command = command\n",
    "        \n",
    "    def __enter__(self):\n",
    "        css_style = \"<style>span.start { margin:0; padding: 0; color: blue; }</style>\"\n",
    "        html_str = f'<span class=\"start\">Running {self.command}...</span>'\n",
    "\n",
    "        self.out.clear_output()\n",
    "        \n",
    "        with self.out:\n",
    "            display(HTML(css_style))\n",
    "            display(HTML(html_str))\n",
    "\n",
    "        \n",
    "    def __exit__(self, exc_type, exc_value, exc_tb):\n",
    "        \n",
    "        css_style = \"<style>span.end { margin: 0; padding: 0; color: green; }</style>\"\n",
    "        html_str = '<span class=\"end\">Finished</span>'\n",
    "\n",
    "        self.out.clear_output()\n",
    "\n",
    "        with self.out:\n",
    "            display(HTML(css_style)) \n",
    "            display(HTML(html_str))\n"
   ]
  },
  {
   "cell_type": "markdown",
   "id": "73519652",
   "metadata": {},
   "source": [
    "# **Steps to create the graphic**\n",
    "\n",
    "### Change any properties in the section [Functions to modify the graphic](#functions-to-modify-graphic)\n",
    "\n",
    "### Comment out any function in the overall function [create_graphic](#function-to-create-the-graphic) to remove an element from the final graphic\n",
    "\n",
    "Comment out a line by adding a # symbol in front of a statement\n"
   ]
  },
  {
   "cell_type": "markdown",
   "id": "2653ac38",
   "metadata": {},
   "source": [
    "## **Set properties to use for matplotlib (plotting engine)**"
   ]
  },
  {
   "cell_type": "code",
   "execution_count": 23,
   "id": "346c93b6",
   "metadata": {},
   "outputs": [],
   "source": [
    "set_matplotlib_properties()"
   ]
  },
  {
   "cell_type": "markdown",
   "id": "hY7fkjfpKIhS",
   "metadata": {
    "id": "hY7fkjfpKIhS"
   },
   "source": [
    "## **Set plot limits and labeling**"
   ]
  },
  {
   "cell_type": "markdown",
   "id": "pAQcdcwNKIhT",
   "metadata": {
    "id": "pAQcdcwNKIhT"
   },
   "source": [
    "### Set titles and axes labels"
   ]
  },
  {
   "cell_type": "code",
   "execution_count": 24,
   "id": "AeyP9aIlKIhT",
   "metadata": {
    "id": "AeyP9aIlKIhT"
   },
   "outputs": [],
   "source": [
    "xlabel = ''\n",
    "ylabel = \"$\\mathregular{CO}\\\\bf{_2}$\" + \" Concentration (ppm)\"\n",
    "\n",
    "title1 = ''\n",
    "title2 = 'Carbon dioxide concentration at Mauna Loa Observatory'"
   ]
  },
  {
   "cell_type": "markdown",
   "id": "aaRUhIEFKIhT",
   "metadata": {
    "id": "aaRUhIEFKIhT"
   },
   "source": [
    "### Set yaxis min and max limits"
   ]
  },
  {
   "cell_type": "code",
   "execution_count": 25,
   "id": "zS2CFYz9KIhT",
   "metadata": {
    "id": "zS2CFYz9KIhT"
   },
   "outputs": [],
   "source": [
    "ymin = 405\n",
    "ymax = 430"
   ]
  },
  {
   "cell_type": "markdown",
   "id": "9JDGo05sKIhT",
   "metadata": {
    "id": "9JDGo05sKIhT"
   },
   "source": [
    "### Set xaxis min and max limits"
   ]
  },
  {
   "cell_type": "code",
   "execution_count": 26,
   "id": "ZlZeuewHKIhT",
   "metadata": {
    "id": "ZlZeuewHKIhT"
   },
   "outputs": [],
   "source": [
    "now = datetime.now()\n",
    "time_ago = now + relativedelta(months=-6)\n",
    "\n",
    "# xaxis limits\n",
    "xmin = time_ago\n",
    "xmax = now\n",
    "\n",
    "# Need decimal range for plotting gradiant since\n",
    "# plotting the gradiant won't work with datetime values\n",
    "xmin_dt = datetime(year=xmin.year, month=xmin.month,day=xmin.day)\n",
    "xmin_dec = dt2t(xmin_dt)\n",
    "\n",
    "xmax_dt = datetime(year=xmax.year, month=xmax.month,day=xmax.day)\n",
    "xmax_dec = dt2t(xmax_dt)"
   ]
  },
  {
   "cell_type": "markdown",
   "id": "yLdHyGtgKIhU",
   "metadata": {
    "id": "yLdHyGtgKIhU"
   },
   "source": [
    "<a name=\"function-to-create-the-graphic\"></a>\n",
    "## **Function to create the graphic**"
   ]
  },
  {
   "cell_type": "code",
   "execution_count": 27,
   "id": "BSP0bsikKIhU",
   "metadata": {
    "colab": {
     "base_uri": "https://localhost:8080/",
     "height": 404
    },
    "id": "BSP0bsikKIhU",
    "outputId": "b60e6296-0e69-4ee3-b659-ff48dbb6dc88"
   },
   "outputs": [],
   "source": [
    "def create_graphic(msg_out, graphic_out, xmin, xmax, ymin, ymax, xlabel, ylabel, title1, title2, date_daily, co2_daily, date_weekly, co2_weekly, btn):\n",
    "\n",
    "    msg_out.clear_output()\n",
    "    graphic_out.clear_output()\n",
    "\n",
    "    # create a figure container\n",
    "    fig = plt.figure()\n",
    "\n",
    "    # Add padding for exterior plot text\n",
    "    ax = plt.axes([0.11, 0.12, 0.83, 0.54])\n",
    "\n",
    "    # ---------------------------------------------------\n",
    "    # Context manager \n",
    "    # \n",
    "    # Used to show messages while creating the animiation\n",
    "    # ---------------------------------------------------\n",
    "\n",
    "    with ShowProgressContextManagerWidgets(msg_out, 'Create Graphic') as progress:\n",
    "\n",
    "        # ------------------------\n",
    "        # Add gradient under curve\n",
    "        # ------------------------\n",
    "\n",
    "        # The gradient is a guide to the eye\n",
    "        # Extend it to the last data point\n",
    "\n",
    "        max_daily = np.max(date_daily)\n",
    "        max_weekly = np.max(date_weekly)\n",
    "        max_date = max(max_daily, max_weekly)\n",
    "\n",
    "        if date_weekly[-1] < max_date:\n",
    "\n",
    "            # For gradient under all points, evaluate a spline\n",
    "            # to the weekly values and then evaluate spline to the last\n",
    "            # daily value\n",
    "            spline = UnivariateSpline(date_weekly, co2_weekly, s=1) \n",
    "\n",
    "            extended_dates = np.linspace(max_weekly + 0.01, xmax_dec, num=10, endpoint=True)\n",
    "            extended_values = spline(extended_dates)\n",
    "\n",
    "            x = np.concatenate([date_weekly, extended_dates])\n",
    "            y = np.concatenate([co2_weekly, extended_values])\n",
    "\n",
    "        else:\n",
    "            x = date_weekly\n",
    "            y = co2_weekly\n",
    "\n",
    "\n",
    "        # For gradient max, use last date of data rather than current date\n",
    "        xmax_gradient = max_date\n",
    "\n",
    "        area_color = '#73a7e6'\n",
    "\n",
    "        gradient_fill(x,y, fill_color=area_color, xmin=xmin_dec, ymin=ymin, \n",
    "                    xmax=xmax_gradient, ymax=ymax, alpha_bottom=0.1, ax=ax, alpha=1.0)\n",
    "\n",
    "\n",
    "        # -------------\n",
    "        # Plot the data\n",
    "        # -------------\n",
    "\n",
    "        # Set plotting zorder above the gradient\n",
    "\n",
    "        ax.plot(date_daily, co2_daily, 'o', color='black',markersize=4, \n",
    "                markerfacecolor='black', markeredgecolor='black', markeredgewidth=0, zorder=5)\n",
    "\n",
    "        ax.plot(date_weekly, co2_weekly, 'o', color='black',markersize=9, \n",
    "                markerfacecolor='black', markeredgecolor='black', markeredgewidth=0, zorder=6)\n",
    "\n",
    "\n",
    "        # -----------------------------------------------------\n",
    "        # Change xaxis to use date labels and not decimal dates\n",
    "        # -----------------------------------------------------\n",
    "        create_xtick_labels(ax, xmin, xmax)\n",
    "\n",
    "        # -------------------\n",
    "        # Set plot properties\n",
    "        # -------------------\n",
    "        set_plot_props(ax, fig, xmin_dec, xmax_dec, ymin, ymax, xlabel, ylabel)\n",
    "\n",
    "        # ------------------------------------------------\n",
    "        # Get todays date in various formats for labeling\n",
    "        # ------------------------------------------------\n",
    "        todays_date_moyr, todays_date_modyyr, todays_decimal, todays_year = get_todays_date_variations()\n",
    "\n",
    "        # ---------------\n",
    "        # Add plot titles\n",
    "        # ---------------\n",
    "        add_plot_title(ax, title1, title2)\n",
    "\n",
    "        # --------------\n",
    "        # Add inset text\n",
    "        # --------------\n",
    "        add_inset_label(ax, 'Six months', todays_date_modyyr)\n",
    "\n",
    "        # ----------------\n",
    "        # Add legend\n",
    "        # ----------------\n",
    "        add_legend_labels(ax)\n",
    "\n",
    "        # --------------------\n",
    "        # Add SIO logo to plot\n",
    "        # --------------------\n",
    "        xpos = 0.715\n",
    "        ypos = 0.155\n",
    "\n",
    "        add_sio_logo(fig, logo_file, xpos, ypos)\n",
    "\n",
    "        # ------------\n",
    "        # Save graphic\n",
    "        # ------------\n",
    "        fig = plt.gcf()\n",
    "\n",
    "        save_graphic(fig, pdf_file, png_file)\n",
    "\n",
    "\n",
    "    with graphic_out:\n",
    "\n",
    "        plt.show()"
   ]
  },
  {
   "cell_type": "markdown",
   "id": "fa2f0c2f",
   "metadata": {},
   "source": [
    "<a id='button-to-create-and-save-the-graphic'></a>\n",
    "## **Button to create and save the graphic**"
   ]
  },
  {
   "cell_type": "code",
   "execution_count": 28,
   "id": "e7f6578d",
   "metadata": {},
   "outputs": [
    {
     "data": {
      "application/vnd.jupyter.widget-view+json": {
       "model_id": "b7e38261812d41d7be708357c336c40a",
       "version_major": 2,
       "version_minor": 0
      },
      "text/plain": [
       "Button(button_style='primary', description='Create Graphic', style=ButtonStyle())"
      ]
     },
     "metadata": {},
     "output_type": "display_data"
    },
    {
     "data": {
      "application/vnd.jupyter.widget-view+json": {
       "model_id": "8f6c0db245cd4065a5c6b11c27ad765d",
       "version_major": 2,
       "version_minor": 0
      },
      "text/plain": [
       "Output()"
      ]
     },
     "metadata": {},
     "output_type": "display_data"
    },
    {
     "data": {
      "application/vnd.jupyter.widget-view+json": {
       "model_id": "2f6291710b3d4f278891d16de2e2a4d9",
       "version_major": 2,
       "version_minor": 0
      },
      "text/plain": [
       "Output()"
      ]
     },
     "metadata": {},
     "output_type": "display_data"
    }
   ],
   "source": [
    "msg_out = widgets.Output()\n",
    "graphic_out = widgets.Output()\n",
    "\n",
    "button = widgets.Button(description='Create Graphic', button_style='primary')\n",
    "button.on_click(functools.partial(create_graphic, msg_out, graphic_out, xmin, xmax, ymin, ymax, xlabel, ylabel, title1, title2, date_daily, co2_daily, date_weekly, co2_weekly))\n",
    "display(button)\n",
    "\n",
    "display(msg_out)\n",
    "display(graphic_out)"
   ]
  },
  {
   "cell_type": "markdown",
   "id": "uMvY64Z0Tn_W",
   "metadata": {
    "id": "uMvY64Z0Tn_W"
   },
   "source": [
    "## **Button to download PDF & PNG files of the graphic**\n",
    "\n",
    "The download button only works when the notebook is run with Google Colab\n",
    "\n",
    "If the notebook is run on a local machine, the graphics are inside the plots directory"
   ]
  },
  {
   "cell_type": "code",
   "execution_count": 29,
   "id": "f2I4PpW_KIhU",
   "metadata": {
    "colab": {
     "base_uri": "https://localhost:8080/",
     "height": 49,
     "referenced_widgets": [
      "5f5b39df9490418593a3cca963147be4",
      "b5a627ecc5d94d2caa690b98f5c5fa31",
      "17eef0e4f6634284ade3c1c51b00702d"
     ]
    },
    "id": "f2I4PpW_KIhU",
    "outputId": "b0a12cda-631b-4dd4-cc83-e43c21c7cbcc"
   },
   "outputs": [
    {
     "data": {
      "application/vnd.jupyter.widget-view+json": {
       "model_id": "e5fca39e71ad4c49a3008dbd589bb370",
       "version_major": 2,
       "version_minor": 0
      },
      "text/plain": [
       "Button(button_style='primary', description='Download Graphic Files', layout=Layout(height='auto', width='auto'…"
      ]
     },
     "metadata": {},
     "output_type": "display_data"
    },
    {
     "data": {
      "application/vnd.jupyter.widget-view+json": {
       "model_id": "891b91e67fe141ffb9593ba8aea28195",
       "version_major": 2,
       "version_minor": 0
      },
      "text/plain": [
       "Output()"
      ]
     },
     "metadata": {},
     "output_type": "display_data"
    }
   ],
   "source": [
    "def download_files(msg_out, btn):\n",
    "\n",
    "    msg_out.clear_output()\n",
    "\n",
    "    try:\n",
    "        files.download(png_file)\n",
    "        files.download(pdf_file)\n",
    "    except:\n",
    "        with msg_out:\n",
    "            print(\"If running notebook in Google Colab:\")\n",
    "            print(\"Need to create the graphic first.\")\n",
    "            print(f\"\\nIf running in a python environment, the graphics are in the plots directory.\")\n",
    "\n",
    "\n",
    "msg_out = widgets.Output()\n",
    "\n",
    "button = widgets.Button(description=\"Download Graphic Files\", button_style=\"primary\")\n",
    "\n",
    "layout = widgets.Layout(width='auto', height='auto') #set width and height\n",
    "\n",
    "button = widgets.Button(\n",
    "    description='Download Graphic Files',\n",
    "    disabled=False,\n",
    "    display='flex',\n",
    "    flex_flow='column',\n",
    "    align_items='stretch', \n",
    "    button_style='primary',\n",
    "    layout = layout\n",
    ")   \n",
    "\n",
    "button.on_click(functools.partial(download_files, msg_out))\n",
    "\n",
    "display(button)\n",
    "display(msg_out)"
   ]
  },
  {
   "cell_type": "code",
   "execution_count": null,
   "id": "F9_uAKJITq1s",
   "metadata": {
    "id": "F9_uAKJITq1s"
   },
   "outputs": [],
   "source": []
  }
 ],
 "metadata": {
  "colab": {
   "include_colab_link": true,
   "name": "plot_mlo_six_months_keelingcurve.ipynb",
   "provenance": []
  },
  "interpreter": {
   "hash": "756fd7f3f44ab1b408c61a336bc63dd8b2b1c2a4bc9346285fbb85e9c22b620b"
  },
  "kernelspec": {
   "display_name": "Python 3.8.5 64-bit ('notebooks')",
   "language": "python",
   "name": "python3"
  },
  "language_info": {
   "codemirror_mode": {
    "name": "ipython",
    "version": 3
   },
   "file_extension": ".py",
   "mimetype": "text/x-python",
   "name": "python",
   "nbconvert_exporter": "python",
   "pygments_lexer": "ipython3",
   "version": "3.8.5"
  },
  "widgets": {
   "application/vnd.jupyter.widget-state+json": {
    "17eef0e4f6634284ade3c1c51b00702d": {
     "model_module": "@jupyter-widgets/base",
     "model_module_version": "1.2.0",
     "model_name": "LayoutModel",
     "state": {
      "_model_module": "@jupyter-widgets/base",
      "_model_module_version": "1.2.0",
      "_model_name": "LayoutModel",
      "_view_count": null,
      "_view_module": "@jupyter-widgets/base",
      "_view_module_version": "1.2.0",
      "_view_name": "LayoutView",
      "align_content": null,
      "align_items": null,
      "align_self": null,
      "border": null,
      "bottom": null,
      "display": null,
      "flex": null,
      "flex_flow": null,
      "grid_area": null,
      "grid_auto_columns": null,
      "grid_auto_flow": null,
      "grid_auto_rows": null,
      "grid_column": null,
      "grid_gap": null,
      "grid_row": null,
      "grid_template_areas": null,
      "grid_template_columns": null,
      "grid_template_rows": null,
      "height": null,
      "justify_content": null,
      "justify_items": null,
      "left": null,
      "margin": null,
      "max_height": null,
      "max_width": null,
      "min_height": null,
      "min_width": null,
      "object_fit": null,
      "object_position": null,
      "order": null,
      "overflow": null,
      "overflow_x": null,
      "overflow_y": null,
      "padding": null,
      "right": null,
      "top": null,
      "visibility": null,
      "width": null
     }
    },
    "5f5b39df9490418593a3cca963147be4": {
     "model_module": "@jupyter-widgets/controls",
     "model_module_version": "1.5.0",
     "model_name": "ButtonModel",
     "state": {
      "_dom_classes": [],
      "_model_module": "@jupyter-widgets/controls",
      "_model_module_version": "1.5.0",
      "_model_name": "ButtonModel",
      "_view_count": null,
      "_view_module": "@jupyter-widgets/controls",
      "_view_module_version": "1.5.0",
      "_view_name": "ButtonView",
      "button_style": "primary",
      "description": "Download Files",
      "disabled": false,
      "icon": "",
      "layout": "IPY_MODEL_17eef0e4f6634284ade3c1c51b00702d",
      "style": "IPY_MODEL_b5a627ecc5d94d2caa690b98f5c5fa31",
      "tooltip": ""
     }
    },
    "b5a627ecc5d94d2caa690b98f5c5fa31": {
     "model_module": "@jupyter-widgets/controls",
     "model_module_version": "1.5.0",
     "model_name": "ButtonStyleModel",
     "state": {
      "_model_module": "@jupyter-widgets/controls",
      "_model_module_version": "1.5.0",
      "_model_name": "ButtonStyleModel",
      "_view_count": null,
      "_view_module": "@jupyter-widgets/base",
      "_view_module_version": "1.2.0",
      "_view_name": "StyleView",
      "button_color": null,
      "font_weight": ""
     }
    }
   }
  }
 },
 "nbformat": 4,
 "nbformat_minor": 5
}
