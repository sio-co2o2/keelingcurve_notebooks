{
 "cells": [
  {
   "cell_type": "markdown",
   "metadata": {},
   "source": [
    "<a href=\"https://colab.research.google.com/github/sio-co2o2/keelingcurve_notebooks/blob/main/notebooks/how_to_modify_notebooks_keelingcurve.ipynb\" target=\"_parent\"><img src=\"https://colab.research.google.com/assets/colab-badge.svg\" alt=\"Open In Colab\"/></a>"
   ]
  },
  {
   "attachments": {},
   "cell_type": "markdown",
   "metadata": {},
   "source": [
    "# How to modify the Keeling Curve python notebooks\n",
    "\n",
    "The Keeling Curve python notebooks create graphics and select animations of graphics found on the Keeling Curve website [keelingcurve.ucsd.edu](keelingcurve.ucsd.edu).\n",
    "\n",
    "The user can create, modify, and save the graphics or animations in each notebook.\n",
    "\n",
    "The Keeling Curve notebooks make use of the latest preliminary CO<sub>2</sub> data from the Mauna Loa, Hawaii Observatory.\n"
   ]
  },
  {
   "cell_type": "markdown",
   "metadata": {},
   "source": [
    "<a name=\"toc\"></a>\n",
    "## Table of Contents\n",
    "\n",
    "1. [How to modify graphics](#modify-graphics)\n",
    "   \n",
    "2. [How to modify animations](#modify-animations)\n",
    "\n",
    "3. [Data processing steps](#data-processing) \n",
    "\n",
    "4. [Supporting functions](#supporting-functions)"
   ]
  },
  {
   "attachments": {},
   "cell_type": "markdown",
   "metadata": {},
   "source": [
    "## How to modify graphics"
   ]
  },
  {
   "attachments": {},
   "cell_type": "markdown",
   "metadata": {},
   "source": [
    "The function create_graphic is the main function used to create the graphics with options. There is a button below it (Create Graphic) that will call this function and create the graphic. To use this button, all the cells in the notebook must be run. Afterward, the button will appear and it can be clicked. After the graphic is created, it can be downloaded with the download button (Download Graphic Files) created when the notebook was run. The download button will download png and pdf formats of the created plot."
   ]
  },
  {
   "attachments": {},
   "cell_type": "markdown",
   "metadata": {},
   "source": [
    "### **Plot options to configure**\n",
    "\n",
    "#### Plot text\n",
    "\n",
    "Titles, inset text, plot labels can be changed in value. In addition, these values and tic numbers can be formatted with different fonts and font sizes.\n",
    "\n",
    "#### Plot axes\n",
    "\n",
    "Modify tic length and thickness, modify axis thickness.\n",
    "\n",
    "#### Plot colors\n",
    "\n",
    "The dots, line, and gradient colors can be modified.\n",
    "\n",
    "#### Resolution and size of the graphic\n",
    "\n",
    "Modify the resolution and size of the png file of the graphic created.\n",
    "\n",
    "#### Time range\n",
    "\n",
    "The time range and CO2 concentration range can be varied.\n"
   ]
  },
  {
   "attachments": {},
   "cell_type": "markdown",
   "metadata": {},
   "source": [
    "## How to modify animations"
   ]
  },
  {
   "cell_type": "markdown",
   "metadata": {},
   "source": []
  },
  {
   "attachments": {},
   "cell_type": "markdown",
   "metadata": {},
   "source": [
    "## Data processing steps"
   ]
  },
  {
   "attachments": {},
   "cell_type": "markdown",
   "metadata": {},
   "source": [
    "At the beginning of each notebook, data is downloaded from the keeling curve GitHub repository and from web links.\n",
    "\n",
    "The data is processed so that it can be imported into Pandas dataframes. This makes it easier to modify the data, such as choosing the time range and variables to plot. And then the dataframes are output as decimals to use in creating the plot. "
   ]
  },
  {
   "attachments": {},
   "cell_type": "markdown",
   "metadata": {},
   "source": [
    "## Supporting functions to the main graphics functions"
   ]
  },
  {
   "attachments": {},
   "cell_type": "markdown",
   "metadata": {},
   "source": [
    "There are supporting functions to convert date and time formats.\n",
    "\n",
    "There are also functions that setup universal plot formatting."
   ]
  }
 ],
 "metadata": {
  "kernelspec": {
   "display_name": "Python 3.8.5 64-bit ('notebooks')",
   "language": "python",
   "name": "python3"
  },
  "language_info": {
   "codemirror_mode": {
    "name": "ipython",
    "version": 3
   },
   "file_extension": ".py",
   "mimetype": "text/x-python",
   "name": "python",
   "nbconvert_exporter": "python",
   "pygments_lexer": "ipython3",
   "version": "3.8.5 (default, Dec 16 2021, 04:45:45) \n[GCC 9.3.0]"
  },
  "orig_nbformat": 4,
  "vscode": {
   "interpreter": {
    "hash": "756fd7f3f44ab1b408c61a336bc63dd8b2b1c2a4bc9346285fbb85e9c22b620b"
   }
  }
 },
 "nbformat": 4,
 "nbformat_minor": 2
}
