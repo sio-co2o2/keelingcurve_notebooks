{
 "cells": [
  {
   "cell_type": "markdown",
   "metadata": {},
   "source": [
    "<a href=\"https://colab.research.google.com/github/sio-co2o2/keelingcurve_notebooks/blob/main/notebooks/how_to_modify_notebooks_keelingcurve.ipynb\" target=\"_parent\"><img src=\"https://colab.research.google.com/assets/colab-badge.svg\" alt=\"Open In Colab\"/></a>"
   ]
  },
  {
   "attachments": {},
   "cell_type": "markdown",
   "metadata": {},
   "source": [
    "# How to modify the Keeling Curve python notebooks\n",
    "\n",
    "The Keeling Curve python notebooks create graphics and select animations of graphics found on the Keeling Curve website [keelingcurve.ucsd.edu](keelingcurve.ucsd.edu).\n",
    "\n",
    "The user can create, modify, and save the graphics or animations in each notebook.\n",
    "\n",
    "The Keeling Curve notebooks make use of the latest preliminary CO<sub>2</sub> data from the Mauna Loa, Hawaii Observatory and ice-core data going back 800K years.\n",
    "\n",
    "Direct questions to [webmaster-co2o2-sio@ucsd.edu](mailto:webmaster-co2o2-sio@ucsd.edu)\n"
   ]
  },
  {
   "attachments": {},
   "cell_type": "markdown",
   "metadata": {},
   "source": [
    "<a name=\"toc\"></a>\n",
    "## Table of Contents\n",
    "\n",
    "1. [How to modify graphics](#modify-graphics)\n",
    "   \n",
    "2. [How to modify animations](#modify-animations)\n",
    "\n",
    "3. [Overview of steps to get the data](#overview-of-steps-to-get-the-data) \n",
    "\n",
    "4. [Supporting functions](#supporting-functions)\n",
    "\n",
    "5. [Button creation to run functions](#button-creation-to-run-functions)"
   ]
  },
  {
   "cell_type": "markdown",
   "metadata": {},
   "source": [
    "## How to modify graphics"
   ]
  },
  {
   "attachments": {},
   "cell_type": "markdown",
   "metadata": {},
   "source": [
    "The function **create_graphic** is the main function used to create the graphics with options. \n",
    "\n",
    "There is a button below it (Create Graphic) that will call this function and create the graphic. To use this button, all the cells in the notebook must be run first and then the button will appear and it can be clicked to create the graphic which is displayed. \n",
    "\n",
    "After the graphic is created, the png and pdf file versions can be downloaded with the download button (Download Graphic Files) which was created when all the notebook cells were run."
   ]
  },
  {
   "attachments": {},
   "cell_type": "markdown",
   "metadata": {},
   "source": [
    "### **Plot options to configure**\n",
    "\n",
    "#### Plot text\n",
    "\n",
    "Titles, inset text, and plot labels can be modified for content, font properties and placement. \n",
    "\n",
    "Plot ticks can be modified in the number created, spacing, length and thickness and the tick numbers can be formatted with font properties and modified to change how close they are to the axes.\n",
    "\n",
    "Functions to make these changes are:\n",
    "\n",
    "**set_matplotlib_properties** sets axes line width, font properties, \n",
    "\n",
    "**set_plot_props** sets tick and label properties and axes limits\n",
    "\n",
    "**create_xtick_labels** Function used for some plots and it changes decimal dates into date text and changes the positions of tick labels.\n",
    "\n",
    "**add_plot_title** Sets the placement of any plot titles of the plot and their font properties. Titles as function arguments can be blank strings and then they won't show up. The function can be modified to use only one title or more than two. In the function 'set_plot_props', the spacing above the axes bounds of the plot used to give space for any titles can be adjusted by changing the 'top' property. \n",
    "\n",
    "**add_inset_label** Sets the placement of text displayed within the plot axes bounds and sets their font properties.\n",
    "\n",
    "**add_legend_labels** Sets the placement of legends and their font properties.\n",
    "\n",
    "**add_sio_logo** Sets the placement, resolution and size of the sio logo.\n",
    "\n",
    "#### Plot axes\n",
    "\n",
    "Modify modify axes thickness and whether they appear on the plot. This is done by modifying rcParams in the **set_matplotlib_properties** function. As an example, to remove the top and right axis, add the following:\n",
    "\n",
    "    plt.rcParams[\"axes.spines.top\"] = False\n",
    "\n",
    "    plt.rcParams[\"axes.spines.right\"] = False\n",
    "\n",
    "#### Plot colors\n",
    "\n",
    "The dots, line, and gradient colors can be modified.\n",
    "\n",
    "**gradient_fill** Sets properties of the gradient under the plot line. This is a guide to the eye.\n",
    "\n",
    "#### Resolution and size of the graphic\n",
    "\n",
    "**save_graphic** Modify the resolution and size of the png file of the graphic.\n",
    "\n",
    "#### Time range\n",
    "\n",
    "The time range and CO2 concentration range can be varied by changing the values of xmin, xmax, ymin, ymax.\n",
    "\n",
    "#### Set plot features to add \n",
    "\n",
    "**create_graphic** The titles, gradient, inset text, legend and logo can be changed and included or excluded from the graphic.\n"
   ]
  },
  {
   "cell_type": "markdown",
   "metadata": {},
   "source": [
    "## How to modify animations"
   ]
  },
  {
   "attachments": {},
   "cell_type": "markdown",
   "metadata": {},
   "source": [
    "#### See the above section to set the graphic settings\n",
    "\n",
    "#### The gradient is not included\n",
    "\n",
    "The gradient is not included for the plots since the time for animation creation would be longer. If you wanted to include it, of which these steps are not shown, one would have to modify the axes limits every time the function is called to creat an animation frame. If you find a good way to include the gradient, please email the solution to [webmaster-co2o2-sio@ucsd.edu](mailto:webmaster-co2o2-sio@ucsd.edu) or create a pull request in the github repo [https://github.com/sio-co2o2/keelingcurve_notebooks](https://github.com/sio-co2o2/keelingcurve_notebooks).\n",
    "\n",
    "#### To reduce the time of the animation creation\n",
    "\n",
    "Create an animation with less features than the graphic can be configured with. This is called a bare animation.\n",
    "\n",
    "**create_animation_bare** Removes titles, descriptive text, and sio logo and set the resolution to 72dpi. The size of the animation can be changed from the default 10 inches wide.\n",
    "\n",
    "The bare animation takes about 2 minutes on a local computer and about 4 minutes using Google Colab to create at frames per second = 60 and dpi=72\n",
    "\n",
    "#### Create an animation with more plot features but with a longer creation time\n",
    "\n",
    "**create_animation** Adds titles, descriptive text, and sio logo to create at frames per second = 60 and dpi=72\n",
    "\n",
    "#### Animation width\n",
    "\n",
    "The animation width is set at 10 inches, and if changed, the graph properties have to be modified so that they scale appropriately. This example code is not given.\n",
    "\n",
    "#### Testing the animation settings\n",
    "\n",
    "Use a smaller number of frames and/or increase the frame interval and/or change the frames per second, fps. Uncomment the testing code, comment the current creation code, and change comments back when you are done testing.\n"
   ]
  },
  {
   "attachments": {},
   "cell_type": "markdown",
   "metadata": {},
   "source": [
    "## Overview of steps to get the data"
   ]
  },
  {
   "cell_type": "markdown",
   "metadata": {},
   "source": [
    "At the beginning of each notebook, data is downloaded from the keeling curve GitHub repository and from web links.\n",
    "\n",
    "The data is processed so that it can be imported into Pandas dataframes. This makes it easier to modify the data, such as choosing the time range and variables to plot. And then the dataframes are output as decimals to use in creating the plot. "
   ]
  },
  {
   "attachments": {},
   "cell_type": "markdown",
   "metadata": {},
   "source": [
    "## Button creation to run functions"
   ]
  },
  {
   "attachments": {},
   "cell_type": "markdown",
   "metadata": {},
   "source": [
    "Buttons are created when the cell is run. It uses widgets to create the button and its properties\n",
    "\n",
    "To learn more about widgets, see [https://coderzcolumn.com/tutorials/python/interactive-widgets-in-jupyter-notebook-using-ipywidgets](https://coderzcolumn.com/tutorials/python/interactive-widgets-in-jupyter-notebook-using-ipywidgets)"
   ]
  },
  {
   "cell_type": "markdown",
   "metadata": {},
   "source": [
    "## Supporting functions to the main graphics functions"
   ]
  },
  {
   "attachments": {},
   "cell_type": "markdown",
   "metadata": {},
   "source": [
    "#### There are supporting functions in some notebooks to convert date and time formats\n",
    "\n",
    "**dt2t** Function to convert a datetime to a float\n",
    "\n",
    "**t2dt** Function to convert a float to a datetime\n",
    "\n",
    "**get_todays_date_variations** Function to create various date versions for today's date\n",
    "\n",
    "**get_data_end_date** Function to get the end date of data\n"
   ]
  }
 ],
 "metadata": {
  "colab": {
   "collapsed_sections": [],
   "include_colab_link": true,
   "name": "how_to_modify_notebooks_keelingcurve.ipynb",
   "provenance": []
  },
  "kernelspec": {
   "display_name": "Python 3 (ipykernel)",
   "language": "python",
   "name": "python3"
  },
  "language_info": {
   "codemirror_mode": {
    "name": "ipython",
    "version": 3
   },
   "file_extension": ".py",
   "mimetype": "text/x-python",
   "name": "python",
   "nbconvert_exporter": "python",
   "pygments_lexer": "ipython3",
   "version": "3.8.5"
  },
  "title": "how_to_modify_notebooks_keelingcurve.ipynb",
  "vscode": {
   "interpreter": {
    "hash": "756fd7f3f44ab1b408c61a336bc63dd8b2b1c2a4bc9346285fbb85e9c22b620b"
   }
  }
 },
 "nbformat": 4,
 "nbformat_minor": 2
}
