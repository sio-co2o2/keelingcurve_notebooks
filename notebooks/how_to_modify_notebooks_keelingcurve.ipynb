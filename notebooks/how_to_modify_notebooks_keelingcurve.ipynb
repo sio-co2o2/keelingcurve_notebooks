{
 "cells": [
  {
   "cell_type": "markdown",
   "metadata": {},
   "source": [
    "<a href=\"https://colab.research.google.com/github/sio-co2o2/keelingcurve_notebooks/blob/main/notebooks/how_to_modify_notebooks_keelingcurve.ipynb\" target=\"_parent\"><img src=\"https://colab.research.google.com/assets/colab-badge.svg\" alt=\"Open In Colab\"/></a>"
   ]
  },
  {
   "cell_type": "markdown",
   "metadata": {},
   "source": [
    "# How to modify the Keeling Curve python notebooks\n",
    "\n",
    "**The Keeling Curve python notebooks create graphics and select animations of graphics found on the Keeling Curve website [keelingcurve.ucsd.edu](keelingcurve.ucsd.edu).**\n",
    "\n",
    "**The user can create, modify, and save the graphics or animations in each notebook.**\n",
    "\n",
    "**The Keeling Curve notebooks make use of the latest preliminary CO<sub>2</sub> data from the Mauna Loa, Hawaii Observatory.**\n"
   ]
  },
  {
   "cell_type": "markdown",
   "metadata": {},
   "source": [
    "<a name=\"toc\"></a>\n",
    "## Table of Contents\n",
    "\n",
    "1. [How to modify graphics](#modify-graphics)\n",
    "   \n",
    "2. [How to modify animations](#modify-animations)\n",
    "\n",
    "3. [Data processing steps](#data-processing) \n",
    "\n",
    "4. [Supporting functions](#supporting-functions)"
   ]
  },
  {
   "cell_type": "markdown",
   "metadata": {},
   "source": []
  }
 ],
 "metadata": {
  "kernelspec": {
   "display_name": "Python 3.8.5 64-bit ('notebooks')",
   "language": "python",
   "name": "python3"
  },
  "language_info": {
   "codemirror_mode": {
    "name": "ipython",
    "version": 3
   },
   "file_extension": ".py",
   "mimetype": "text/x-python",
   "name": "python",
   "nbconvert_exporter": "python",
   "pygments_lexer": "ipython3",
   "version": "3.8.5"
  },
  "orig_nbformat": 4,
  "vscode": {
   "interpreter": {
    "hash": "756fd7f3f44ab1b408c61a336bc63dd8b2b1c2a4bc9346285fbb85e9c22b620b"
   }
  }
 },
 "nbformat": 4,
 "nbformat_minor": 2
}
