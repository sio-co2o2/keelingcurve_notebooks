{
 "cells": [
  {
   "cell_type": "markdown",
   "id": "9f93b177",
   "metadata": {
    "colab_type": "text",
    "id": "view-in-github"
   },
   "source": [
    "<a href=\"https://colab.research.google.com/github/sio-co2o2/keelingcurve_notebooks/blob/main/notebooks/create_graphic_icecore_back_800K_keelingcurve.ipynb\" target=\"_parent\"><img src=\"https://colab.research.google.com/assets/colab-badge.svg\" alt=\"Open In Colab\"/></a>"
   ]
  },
  {
   "cell_type": "markdown",
   "id": "sqKglU_WQ5XF",
   "metadata": {
    "id": "sqKglU_WQ5XF"
   },
   "source": [
    "# Create a graphic appearing on the Keeling Curve website\n",
    "### **Graphic: CO<sub>2</sub> record from 800K years ago to now**\n",
    "\n",
    "**Mauna Loa, Hawaii CO<sub>2</sub> record starting in 1958 and ice-core CO<sub>2</sub> record before 1958**"
   ]
  },
  {
   "cell_type": "markdown",
   "id": "SriEfCPyQ5XI",
   "metadata": {
    "id": "SriEfCPyQ5XI"
   },
   "source": [
    "#### This notebook creates customizable PDF and PNG images of a graphic appearing on the front page of [keelingcurve.ucsd.edu](keelingcurve.ucsd.edu).\n",
    "\n",
    "See an overview of the Keeling Curve notebooks and how to use them at [notebooks overview](https://colab.research.google.com/github/sio-co2o2/keelingcurve_notebooks/blob/main/notebooks/overview_of_notebooks_keelingcurve.ipynb)"
   ]
  },
  {
   "cell_type": "markdown",
   "id": "b7b0b0b2",
   "metadata": {},
   "source": [
    "---\n",
    "\n",
    "### [Go to creating the graphic section](#button-to-create-and-save-the-graphic)\n",
    "\n",
    "---"
   ]
  },
  {
   "cell_type": "markdown",
   "id": "c85b9696",
   "metadata": {},
   "source": [
    "### Sample of the graphic produced by this notebook"
   ]
  },
  {
   "cell_type": "markdown",
   "id": "4928ceaa",
   "metadata": {},
   "source": [
    "![title](https://github.com/sio-co2o2/keelingcurve_notebooks/blob/main/images/sample_graphics/co2_800k.png?raw=1)"
   ]
  },
  {
   "cell_type": "markdown",
   "id": "a6384722",
   "metadata": {},
   "source": [
    "## **Notebook Code**"
   ]
  },
  {
   "cell_type": "markdown",
   "id": "qavgQ5z6Q5XJ",
   "metadata": {
    "id": "qavgQ5z6Q5XJ"
   },
   "source": [
    "### Import packages"
   ]
  },
  {
   "cell_type": "code",
   "execution_count": 1,
   "id": "28Ba9hNwQ5XJ",
   "metadata": {
    "id": "28Ba9hNwQ5XJ"
   },
   "outputs": [],
   "source": [
    "import functools\n",
    "import requests\n",
    "import re\n",
    "import pandas as pd\n",
    "import numpy as np\n",
    "from scipy import interpolate\n",
    "from datetime import datetime, date, timedelta\n",
    "from dateutil.relativedelta import relativedelta\n",
    "import pathlib\n",
    "import matplotlib.image as mpimg\n",
    "import matplotlib.pyplot as plt\n",
    "from matplotlib.pyplot import figure\n",
    "from matplotlib.ticker import (MultipleLocator, AutoMinorLocator)\n",
    "from matplotlib import ticker\n",
    "from matplotlib import rc,rcParams\n",
    "from matplotlib.path import Path\n",
    "import matplotlib.colors as mcolors\n",
    "from matplotlib.patches import Polygon\n",
    "import matplotlib.dates as mdates\n",
    "import matplotlib.lines as mlines\n",
    "import matplotlib.transforms\n",
    "from matplotlib import animation\n",
    "from ipywidgets import widgets\n",
    "from IPython.display import HTML, display\n",
    "from base64 import b64encode\n",
    "from PIL import Image\n",
    "import urllib\n",
    "import os\n",
    "\n",
    "%matplotlib inline"
   ]
  },
  {
   "cell_type": "code",
   "execution_count": 2,
   "id": "e515257a",
   "metadata": {},
   "outputs": [],
   "source": [
    "# This package is used to convert a vector svg into a png\n",
    "\n",
    "try:\n",
    "  from cairosvg import svg2png\n",
    "except:\n",
    "  ! pip install cairosvg"
   ]
  },
  {
   "cell_type": "code",
   "execution_count": 3,
   "id": "f659499b-5b9c-483a-8e3e-9356bf581855",
   "metadata": {},
   "outputs": [],
   "source": [
    "# This import is to enable Google Colab to save files ane then download them\n",
    "\n",
    "# This import does not exist unless the notebook is run in Google Colab\n",
    "# Put in a try except block if user wants to use notebook off of Google Colab\n",
    "\n",
    "try:\n",
    "    from google.colab import files\n",
    "except:\n",
    "    pass"
   ]
  },
  {
   "cell_type": "markdown",
   "id": "9rUZHoSlQ5XL",
   "metadata": {
    "id": "9rUZHoSlQ5XL"
   },
   "source": [
    "### Set directories and file names"
   ]
  },
  {
   "cell_type": "code",
   "execution_count": 4,
   "id": "7k1m0yfKQ5XL",
   "metadata": {
    "id": "7k1m0yfKQ5XL"
   },
   "outputs": [],
   "source": [
    "# Get MLO data from the keelingcurve_notebooks github repository\n",
    "mlo_data_file = 'https://raw.githubusercontent.com/sio-co2o2/keelingcurve_notebooks/main/preliminary_data/mlo/mlo_full_record_now_span.csv'\n",
    "\n",
    "# Get the icecore dataset back 2K years located at\n",
    "# the site: https://www.ncei.noaa.gov/access/paleo-search/study/9959\n",
    "# the file: https://www.ncei.noaa.gov/pub/data/paleo/icecore/antarctica/law/law2006.txt\n",
    "# with a reference to the journal article at https://doi.org/10.1029/2006GL026152\n",
    "icecore_2K_url = 'https://www.ncei.noaa.gov/pub/data/paleo/icecore/antarctica/law/law2006.txt'\n",
    "\n",
    "# Get the icecore dataset back 800K years located at \n",
    "# the site: https://www.ncei.noaa.gov/access/paleo-search/study/6091\n",
    "# the file: https://www.ncei.noaa.gov/pub/data/paleo/icecore/antarctica/epica_domec/edc-co2-2008.txt\n",
    "# with a reference to the journal articls at https://doi.org/10.1038/nature06949\n",
    "icecore_800K_url = 'https://www.ncei.noaa.gov/pub/data/paleo/icecore/antarctica/epica_domec/edc-co2-2008.txt'\n",
    "\n",
    "logo_file = 'https://github.com/sio-co2o2/keelingcurve_notebooks/raw/main/images/logos/ucsd_sio_logo.svg'\n",
    "\n",
    "plot_dir = pathlib.Path('./plots')\n",
    "plot_dir.mkdir(exist_ok=True)\n",
    "\n",
    "plot_basename = 'co2_800k'\n",
    "\n",
    "pdf_file = plot_dir / f\"{plot_basename}.pdf\"\n",
    "png_file = plot_dir / f\"{plot_basename}.png\""
   ]
  },
  {
   "cell_type": "markdown",
   "id": "1d8c1271",
   "metadata": {},
   "source": [
    "## **Define accessory functions needed to prepare data for plotting**\n",
    "\n",
    "## Functions to convert dates into various formats\n",
    "\n",
    "More date conversion functions are below in the Accessory Functions section"
   ]
  },
  {
   "cell_type": "markdown",
   "id": "f8e711e2",
   "metadata": {},
   "source": [
    "### Function to convert a datetime to a float"
   ]
  },
  {
   "cell_type": "code",
   "execution_count": 5,
   "id": "670ec05c",
   "metadata": {},
   "outputs": [],
   "source": [
    "# source, https://stackoverflow.com/questions/19305991/convert-fractional-years-to-a-real-date-in-python\n",
    "def dt2t(adatetime):\n",
    "    \"\"\"\n",
    "    Convert adatetime into a float. The integer part of the float should\n",
    "    represent the year.\n",
    "    Order should be preserved. If adate<bdate, then d2t(adate)<d2t(bdate)\n",
    "    time distances should be preserved: If bdate-adate=ddate-cdate then\n",
    "    dt2t(bdate)-dt2t(adate) = dt2t(ddate)-dt2t(cdate)\n",
    "    \"\"\"\n",
    "    year = adatetime.year\n",
    "    boy = datetime(year, 1, 1)\n",
    "    eoy = datetime(year + 1, 1, 1)\n",
    "    return year + ((adatetime - boy).total_seconds() / ((eoy - boy).total_seconds()))"
   ]
  },
  {
   "cell_type": "markdown",
   "id": "0f01d106",
   "metadata": {},
   "source": [
    "### Function to create various date versions for today's date"
   ]
  },
  {
   "cell_type": "code",
   "execution_count": 6,
   "id": "ab48119c",
   "metadata": {},
   "outputs": [],
   "source": [
    "def get_todays_date_variations():\n",
    "    \n",
    "    now = datetime.now()\n",
    "    todays_decimal =  dt2t(now)\n",
    "    \n",
    "    today = date.today()\n",
    "\n",
    "    todays_day = today.day\n",
    "    todays_month = today.strftime(\"%B\")\n",
    "    todays_year = today.year\n",
    "    todays_date_moyr = today.strftime(\"%B %Y\")\n",
    "    todays_date_modyyr = f\"{todays_month} {todays_day}, {todays_year}\"\n",
    "\n",
    "    return todays_date_moyr, todays_date_modyyr, todays_decimal, todays_year"
   ]
  },
  {
   "cell_type": "markdown",
   "id": "WPHBfzSaQ5XM",
   "metadata": {
    "id": "WPHBfzSaQ5XM"
   },
   "source": [
    "## **Load in data and prepare it for plotting**"
   ]
  },
  {
   "cell_type": "markdown",
   "id": "3q85K8kuQ5XM",
   "metadata": {
    "id": "3q85K8kuQ5XM"
   },
   "source": [
    "### Load in MLO record"
   ]
  },
  {
   "cell_type": "code",
   "execution_count": 7,
   "id": "8Uv_3XpdQ5XN",
   "metadata": {
    "colab": {
     "base_uri": "https://localhost:8080/",
     "height": 206
    },
    "id": "8Uv_3XpdQ5XN",
    "outputId": "acbfeb72-b55c-486e-a7d1-64d8018b51a4"
   },
   "outputs": [
    {
     "data": {
      "text/html": [
       "<div>\n",
       "<style scoped>\n",
       "    .dataframe tbody tr th:only-of-type {\n",
       "        vertical-align: middle;\n",
       "    }\n",
       "\n",
       "    .dataframe tbody tr th {\n",
       "        vertical-align: top;\n",
       "    }\n",
       "\n",
       "    .dataframe thead th {\n",
       "        text-align: right;\n",
       "    }\n",
       "</style>\n",
       "<table border=\"1\" class=\"dataframe\">\n",
       "  <thead>\n",
       "    <tr style=\"text-align: right;\">\n",
       "      <th></th>\n",
       "      <th>date</th>\n",
       "      <th>co2</th>\n",
       "      <th>date_seas_adj</th>\n",
       "      <th>co2_seas_adj</th>\n",
       "      <th>date_fit</th>\n",
       "      <th>co2_fit</th>\n",
       "      <th>date_seas_adj_fit</th>\n",
       "      <th>co2_seas_adj_fit</th>\n",
       "      <th>date_filled</th>\n",
       "      <th>co2_filled</th>\n",
       "      <th>date_seas_adj_filled</th>\n",
       "      <th>co2_seas_adj_filled</th>\n",
       "    </tr>\n",
       "  </thead>\n",
       "  <tbody>\n",
       "    <tr>\n",
       "      <th>0</th>\n",
       "      <td>1958.202740</td>\n",
       "      <td>315.71</td>\n",
       "      <td>1958.202740</td>\n",
       "      <td>314.43</td>\n",
       "      <td>1958.202740</td>\n",
       "      <td>316.20</td>\n",
       "      <td>1958.202740</td>\n",
       "      <td>314.91</td>\n",
       "      <td>1958.202740</td>\n",
       "      <td>315.71</td>\n",
       "      <td>1958.202740</td>\n",
       "      <td>314.43</td>\n",
       "    </tr>\n",
       "    <tr>\n",
       "      <th>1</th>\n",
       "      <td>1958.287671</td>\n",
       "      <td>317.45</td>\n",
       "      <td>1958.287671</td>\n",
       "      <td>315.16</td>\n",
       "      <td>1958.287671</td>\n",
       "      <td>317.30</td>\n",
       "      <td>1958.287671</td>\n",
       "      <td>314.99</td>\n",
       "      <td>1958.287671</td>\n",
       "      <td>317.45</td>\n",
       "      <td>1958.287671</td>\n",
       "      <td>315.16</td>\n",
       "    </tr>\n",
       "    <tr>\n",
       "      <th>2</th>\n",
       "      <td>1958.369863</td>\n",
       "      <td>317.51</td>\n",
       "      <td>1958.369863</td>\n",
       "      <td>314.70</td>\n",
       "      <td>1958.369863</td>\n",
       "      <td>317.88</td>\n",
       "      <td>1958.369863</td>\n",
       "      <td>315.06</td>\n",
       "      <td>1958.369863</td>\n",
       "      <td>317.51</td>\n",
       "      <td>1958.369863</td>\n",
       "      <td>314.70</td>\n",
       "    </tr>\n",
       "    <tr>\n",
       "      <th>3</th>\n",
       "      <td>1958.536986</td>\n",
       "      <td>315.87</td>\n",
       "      <td>1958.536986</td>\n",
       "      <td>315.20</td>\n",
       "      <td>1958.454795</td>\n",
       "      <td>317.26</td>\n",
       "      <td>1958.454795</td>\n",
       "      <td>315.14</td>\n",
       "      <td>1958.454795</td>\n",
       "      <td>317.26</td>\n",
       "      <td>1958.454795</td>\n",
       "      <td>315.14</td>\n",
       "    </tr>\n",
       "    <tr>\n",
       "      <th>4</th>\n",
       "      <td>1958.621918</td>\n",
       "      <td>314.93</td>\n",
       "      <td>1958.621918</td>\n",
       "      <td>316.21</td>\n",
       "      <td>1958.536986</td>\n",
       "      <td>315.85</td>\n",
       "      <td>1958.536986</td>\n",
       "      <td>315.22</td>\n",
       "      <td>1958.536986</td>\n",
       "      <td>315.87</td>\n",
       "      <td>1958.536986</td>\n",
       "      <td>315.20</td>\n",
       "    </tr>\n",
       "  </tbody>\n",
       "</table>\n",
       "</div>"
      ],
      "text/plain": [
       "          date     co2  date_seas_adj  co2_seas_adj     date_fit  co2_fit  \\\n",
       "0  1958.202740  315.71    1958.202740        314.43  1958.202740   316.20   \n",
       "1  1958.287671  317.45    1958.287671        315.16  1958.287671   317.30   \n",
       "2  1958.369863  317.51    1958.369863        314.70  1958.369863   317.88   \n",
       "3  1958.536986  315.87    1958.536986        315.20  1958.454795   317.26   \n",
       "4  1958.621918  314.93    1958.621918        316.21  1958.536986   315.85   \n",
       "\n",
       "   date_seas_adj_fit  co2_seas_adj_fit  date_filled  co2_filled  \\\n",
       "0        1958.202740            314.91  1958.202740      315.71   \n",
       "1        1958.287671            314.99  1958.287671      317.45   \n",
       "2        1958.369863            315.06  1958.369863      317.51   \n",
       "3        1958.454795            315.14  1958.454795      317.26   \n",
       "4        1958.536986            315.22  1958.536986      315.87   \n",
       "\n",
       "   date_seas_adj_filled  co2_seas_adj_filled  \n",
       "0           1958.202740               314.43  \n",
       "1           1958.287671               315.16  \n",
       "2           1958.369863               314.70  \n",
       "3           1958.454795               315.14  \n",
       "4           1958.536986               315.20  "
      ]
     },
     "execution_count": 7,
     "metadata": {},
     "output_type": "execute_result"
    }
   ],
   "source": [
    "df_mlo = pd.read_csv(mlo_data_file,sep=',',comment='\"')\n",
    "df_mlo.head()"
   ]
  },
  {
   "cell_type": "markdown",
   "id": "pXa54NU2Q5XO",
   "metadata": {
    "id": "pXa54NU2Q5XO"
   },
   "source": [
    "### Get MLO seasonally adjusted data"
   ]
  },
  {
   "cell_type": "code",
   "execution_count": 8,
   "id": "hq_kCRDtQ5XO",
   "metadata": {
    "id": "hq_kCRDtQ5XO"
   },
   "outputs": [],
   "source": [
    "df_mlo = df_mlo[['date_seas_adj', 'co2_seas_adj']].copy()"
   ]
  },
  {
   "cell_type": "markdown",
   "id": "oY-KeJiSQ5XP",
   "metadata": {
    "id": "oY-KeJiSQ5XP"
   },
   "source": [
    "### Remove rows with fill values NaN"
   ]
  },
  {
   "cell_type": "code",
   "execution_count": 9,
   "id": "JYGwDl1gQ5XQ",
   "metadata": {
    "id": "JYGwDl1gQ5XQ",
    "scrolled": true
   },
   "outputs": [],
   "source": [
    "df_mlo = df_mlo.dropna()"
   ]
  },
  {
   "cell_type": "markdown",
   "id": "tFuV0BsbQ5XQ",
   "metadata": {
    "id": "tFuV0BsbQ5XQ"
   },
   "source": [
    "### Convert to numpy arrays for plotting.\n",
    "\n",
    "Will use this to annotate the plot at various years"
   ]
  },
  {
   "cell_type": "code",
   "execution_count": 10,
   "id": "xH9ta_LoQ5XQ",
   "metadata": {
    "id": "xH9ta_LoQ5XQ"
   },
   "outputs": [],
   "source": [
    "mlo_date = df_mlo['date_seas_adj'].to_numpy()\n",
    "mlo_co2 = df_mlo['co2_seas_adj'].to_numpy()"
   ]
  },
  {
   "cell_type": "markdown",
   "id": "wzYabkHeTR5y",
   "metadata": {
    "id": "wzYabkHeTR5y"
   },
   "source": [
    "### Load in the icecore record back 2K years"
   ]
  },
  {
   "cell_type": "code",
   "execution_count": 11,
   "id": "HGdki2hTTSWt",
   "metadata": {
    "id": "HGdki2hTTSWt"
   },
   "outputs": [],
   "source": [
    "response = requests.get(icecore_2K_url)\n",
    "file_text = response.text\n",
    "text_lines = file_text.split('\\n')"
   ]
  },
  {
   "cell_type": "markdown",
   "id": "WKeXrjgkTqTC",
   "metadata": {
    "id": "WKeXrjgkTqTC"
   },
   "source": [
    "#### Use data from section 2 of the ice-core file law2006.txt labeled: \"CO2 by Core\"\n",
    "\n",
    "**Section to start with**\n",
    "\n",
    "2\\. CO2 by Core \n",
    "\n",
    "Gas age, Year AD \n",
    "\n",
    "SampleType   CO2gasAge  CO2(ppm)  Publication status\n",
    "\n",
    "\n",
    "**Section to stop at**\n",
    "\n",
    "3\\. CO2 by Age "
   ]
  },
  {
   "cell_type": "code",
   "execution_count": 12,
   "id": "Bw0Y0B4zTqyA",
   "metadata": {
    "colab": {
     "base_uri": "https://localhost:8080/"
    },
    "id": "Bw0Y0B4zTqyA",
    "outputId": "3af893fe-08be-4d6d-caee-3ba843a174e5"
   },
   "outputs": [
    {
     "data": {
      "text/plain": [
       "['DSS            1036.8    280.3    Eth et al., 1996',\n",
       " 'DSS            1087.5    282.4    Eth et al., 1996',\n",
       " 'DSS            1136.8    283.8    Eth et al., 1996',\n",
       " 'DSS            1192.6    283.9    Eth et al., 1996',\n",
       " 'DSS            1246.3    281.7    Eth et al., 1996',\n",
       " 'DSS            1330.1    283.4    Eth et al., 1996',\n",
       " 'DSS            1390.5    280.4    Eth et al., 1996',\n",
       " 'DSS            1390.5    280.0    Eth et al., 1996',\n",
       " 'DSS            1449.1    281.7    Eth et al., 1996']"
      ]
     },
     "execution_count": 12,
     "metadata": {},
     "output_type": "execute_result"
    }
   ],
   "source": [
    "start_section = [i for i in range(len(text_lines))\n",
    "               if text_lines[i].startswith('2. CO2 by Core')][0]\n",
    "\n",
    "end_section = [i for i in range(len(text_lines))\n",
    "             if text_lines[i].startswith('3. CO2 by Age ')][0]\n",
    "\n",
    "section_lines = text_lines[start_section: end_section]\n",
    "\n",
    "# start data selection after line \"SampleType   CO2gasAge  CO2(ppm)  Publication status\"\n",
    "header_end = [i for i in range(len(section_lines))\n",
    "              if section_lines[i].startswith('SampleType')][0]\n",
    "\n",
    "start_data = header_end + 1\n",
    "\n",
    "data_lines = section_lines[start_data: end_section]\n",
    "\n",
    "data_lines[1:10]"
   ]
  },
  {
   "cell_type": "markdown",
   "id": "sKx0EUDDTrXy",
   "metadata": {
    "id": "sKx0EUDDTrXy"
   },
   "source": [
    "#### Filter data\n",
    "\n",
    "Further exclude sample types: DSSW20K firn and CAPE GRIM\n",
    "\n",
    "Keep sample types: DSS, DE08, and DE08-2"
   ]
  },
  {
   "cell_type": "code",
   "execution_count": 13,
   "id": "CleoKTljTr1_",
   "metadata": {
    "id": "CleoKTljTr1_"
   },
   "outputs": [],
   "source": [
    "filtered_data_lines = []\n",
    "\n",
    "for line in data_lines:\n",
    "\n",
    "    # Don't include empty lines\n",
    "    if not line:\n",
    "        continue\n",
    "\n",
    "    if \"DSSW20K firn\" in line or \"CAPE GRIM\" in line:\n",
    "        continue\n",
    "    else:\n",
    "        filtered_data_lines.append(line)"
   ]
  },
  {
   "cell_type": "markdown",
   "id": "6mrydT-dT8Ha",
   "metadata": {
    "id": "6mrydT-dT8Ha"
   },
   "source": [
    "#### Remove Publication status from lines"
   ]
  },
  {
   "cell_type": "code",
   "execution_count": 14,
   "id": "3J5gOHvUT8lF",
   "metadata": {
    "id": "3J5gOHvUT8lF"
   },
   "outputs": [],
   "source": [
    "r = re.compile('(.+\\d+.*\\d+.*\\d)\\s.*')\n",
    "\n",
    "filtered_list = [m.group(1) for m in (r.match(line) for line in filtered_data_lines) if m]"
   ]
  },
  {
   "cell_type": "markdown",
   "id": "ldB0sZDZT87v",
   "metadata": {
    "id": "ldB0sZDZT87v"
   },
   "source": [
    "#### Remove SampleType from lines"
   ]
  },
  {
   "cell_type": "code",
   "execution_count": 15,
   "id": "Ld84cxhfT9Tc",
   "metadata": {
    "id": "Ld84cxhfT9Tc"
   },
   "outputs": [],
   "source": [
    "r = re.compile('.+\\s+(\\d.*\\s+\\d.*)')\n",
    "\n",
    "data_list = [m.group(1) for m in (r.match(line)\n",
    "                                      for line in filtered_list) if m]"
   ]
  },
  {
   "cell_type": "markdown",
   "id": "UIA3yGxcULMx",
   "metadata": {
    "id": "UIA3yGxcULMx"
   },
   "source": [
    "#### Read data list into a Pandas dataframe and split into columns year and co2"
   ]
  },
  {
   "cell_type": "code",
   "execution_count": 16,
   "id": "TGGZlWYaULjL",
   "metadata": {
    "colab": {
     "base_uri": "https://localhost:8080/"
    },
    "id": "TGGZlWYaULjL",
    "outputId": "15ab0452-492c-4239-936e-a008fb004a77"
   },
   "outputs": [
    {
     "data": {
      "text/html": [
       "<div>\n",
       "<style scoped>\n",
       "    .dataframe tbody tr th:only-of-type {\n",
       "        vertical-align: middle;\n",
       "    }\n",
       "\n",
       "    .dataframe tbody tr th {\n",
       "        vertical-align: top;\n",
       "    }\n",
       "\n",
       "    .dataframe thead th {\n",
       "        text-align: right;\n",
       "    }\n",
       "</style>\n",
       "<table border=\"1\" class=\"dataframe\">\n",
       "  <thead>\n",
       "    <tr style=\"text-align: right;\">\n",
       "      <th></th>\n",
       "      <th>date_ce</th>\n",
       "      <th>co2</th>\n",
       "    </tr>\n",
       "  </thead>\n",
       "  <tbody>\n",
       "    <tr>\n",
       "      <th>0</th>\n",
       "      <td>1005.0</td>\n",
       "      <td>279.4</td>\n",
       "    </tr>\n",
       "    <tr>\n",
       "      <th>1</th>\n",
       "      <td>1036.8</td>\n",
       "      <td>280.3</td>\n",
       "    </tr>\n",
       "    <tr>\n",
       "      <th>2</th>\n",
       "      <td>1087.5</td>\n",
       "      <td>282.4</td>\n",
       "    </tr>\n",
       "    <tr>\n",
       "      <th>3</th>\n",
       "      <td>1136.8</td>\n",
       "      <td>283.8</td>\n",
       "    </tr>\n",
       "    <tr>\n",
       "      <th>4</th>\n",
       "      <td>1192.6</td>\n",
       "      <td>283.9</td>\n",
       "    </tr>\n",
       "  </tbody>\n",
       "</table>\n",
       "</div>"
      ],
      "text/plain": [
       "  date_ce       co2\n",
       "0  1005.0     279.4\n",
       "1  1036.8     280.3\n",
       "2  1087.5     282.4\n",
       "3  1136.8     283.8\n",
       "4  1192.6     283.9"
      ]
     },
     "execution_count": 16,
     "metadata": {},
     "output_type": "execute_result"
    }
   ],
   "source": [
    "df_icecore_2K = pd.DataFrame(data_list)\n",
    "df_icecore_2K.columns = ['data']\n",
    "\n",
    "df_icecore_2K[['date_ce', 'co2']] = df_icecore_2K['data'].str.split(\" \", 1, expand=True)\n",
    "df_icecore_2K.drop('data', axis=1, inplace=True)\n",
    "\n",
    "df_icecore_2K.head()"
   ]
  },
  {
   "cell_type": "markdown",
   "id": "NYUNEqOgUL4i",
   "metadata": {
    "id": "NYUNEqOgUL4i"
   },
   "source": [
    "#### Convert columns from strings to numbers"
   ]
  },
  {
   "cell_type": "code",
   "execution_count": 17,
   "id": "cB56Zjk6UMXh",
   "metadata": {
    "id": "cB56Zjk6UMXh"
   },
   "outputs": [],
   "source": [
    "df_icecore_2K = df_icecore_2K.astype(float)"
   ]
  },
  {
   "cell_type": "markdown",
   "id": "anG_ejIAUepH",
   "metadata": {
    "id": "anG_ejIAUepH"
   },
   "source": [
    "#### Sort from lowest to highest year\n"
   ]
  },
  {
   "cell_type": "code",
   "execution_count": 18,
   "id": "2MKemIVVUe_e",
   "metadata": {
    "colab": {
     "base_uri": "https://localhost:8080/",
     "height": 206
    },
    "id": "2MKemIVVUe_e",
    "outputId": "5005c423-4acd-4dcb-f1e8-75153bdb7467"
   },
   "outputs": [
    {
     "data": {
      "text/html": [
       "<div>\n",
       "<style scoped>\n",
       "    .dataframe tbody tr th:only-of-type {\n",
       "        vertical-align: middle;\n",
       "    }\n",
       "\n",
       "    .dataframe tbody tr th {\n",
       "        vertical-align: top;\n",
       "    }\n",
       "\n",
       "    .dataframe thead th {\n",
       "        text-align: right;\n",
       "    }\n",
       "</style>\n",
       "<table border=\"1\" class=\"dataframe\">\n",
       "  <thead>\n",
       "    <tr style=\"text-align: right;\">\n",
       "      <th></th>\n",
       "      <th>date_ce</th>\n",
       "      <th>co2</th>\n",
       "    </tr>\n",
       "  </thead>\n",
       "  <tbody>\n",
       "    <tr>\n",
       "      <th>0</th>\n",
       "      <td>13.3</td>\n",
       "      <td>276.7</td>\n",
       "    </tr>\n",
       "    <tr>\n",
       "      <th>1</th>\n",
       "      <td>29.5</td>\n",
       "      <td>277.9</td>\n",
       "    </tr>\n",
       "    <tr>\n",
       "      <th>2</th>\n",
       "      <td>56.0</td>\n",
       "      <td>277.4</td>\n",
       "    </tr>\n",
       "    <tr>\n",
       "      <th>3</th>\n",
       "      <td>104.5</td>\n",
       "      <td>277.5</td>\n",
       "    </tr>\n",
       "    <tr>\n",
       "      <th>4</th>\n",
       "      <td>136.0</td>\n",
       "      <td>278.1</td>\n",
       "    </tr>\n",
       "  </tbody>\n",
       "</table>\n",
       "</div>"
      ],
      "text/plain": [
       "   date_ce    co2\n",
       "0     13.3  276.7\n",
       "1     29.5  277.9\n",
       "2     56.0  277.4\n",
       "3    104.5  277.5\n",
       "4    136.0  278.1"
      ]
     },
     "execution_count": 18,
     "metadata": {},
     "output_type": "execute_result"
    }
   ],
   "source": [
    "df_icecore_2K = df_icecore_2K.sort_values(by=['date_ce'], ascending=True)\n",
    "\n",
    "# And reset the index\n",
    "df_icecore_2K = df_icecore_2K.reset_index(drop=True)\n",
    "\n",
    "df_icecore_2K.head()"
   ]
  },
  {
   "cell_type": "markdown",
   "id": "4wCnI0xXUfXs",
   "metadata": {
    "id": "4wCnI0xXUfXs"
   },
   "source": [
    "#### Filter out icecore data past 1957 when MLO data starts"
   ]
  },
  {
   "cell_type": "code",
   "execution_count": 19,
   "id": "W9A_fJQzUfuW",
   "metadata": {
    "id": "W9A_fJQzUfuW"
   },
   "outputs": [],
   "source": [
    "df_icecore_2K = df_icecore_2K[df_icecore_2K['date_ce'] <= 1957]"
   ]
  },
  {
   "cell_type": "markdown",
   "id": "p9_tBNmmTSua",
   "metadata": {
    "id": "p9_tBNmmTSua"
   },
   "source": [
    "### Load in the icecore record back 800K years\n",
    "The date column is in BP units which stands for \"before present year\"\n"
   ]
  },
  {
   "cell_type": "code",
   "execution_count": 20,
   "id": "9RJLTRHiTTR1",
   "metadata": {
    "id": "9RJLTRHiTTR1"
   },
   "outputs": [],
   "source": [
    "response = requests.get(icecore_800K_url)\n",
    "file_text = response.text\n",
    "text_lines = file_text.split('\\n')"
   ]
  },
  {
   "cell_type": "markdown",
   "id": "TpOIvrhsVY8K",
   "metadata": {
    "id": "TpOIvrhsVY8K"
   },
   "source": [
    "#### Use data from section 3 of ice-core file edc-co2-2008.txt labeled: \"Composite CO2 record\"\n",
    "\n",
    "**Section to start with**\n",
    "\n",
    "3. Composite CO2 record (0-800 kyr BP)\n",
    "\n",
    "**Section to stop with**\n",
    "\n",
    "end of file"
   ]
  },
  {
   "cell_type": "code",
   "execution_count": 21,
   "id": "1EMwe8SBVZQr",
   "metadata": {
    "colab": {
     "base_uri": "https://localhost:8080/"
    },
    "id": "1EMwe8SBVZQr",
    "outputId": "0ee93a36-e5ad-4419-e6ef-a871826e764f"
   },
   "outputs": [
    {
     "data": {
      "text/plain": [
       "['268           274.9\\r',\n",
       " '279           277.9\\r',\n",
       " '395           279.1\\r',\n",
       " '404           281.9\\r',\n",
       " '485           277.7\\r',\n",
       " '559           281.1\\r',\n",
       " '672           282.2\\r',\n",
       " '754           280.1\\r',\n",
       " '877           278.4\\r']"
      ]
     },
     "execution_count": 21,
     "metadata": {},
     "output_type": "execute_result"
    }
   ],
   "source": [
    "start_section = [i for i in range(len(text_lines))\n",
    "               if text_lines[i].startswith('3. Composite CO2 record (0-800 kyr BP)')][0]\n",
    "\n",
    "# Select to end of file since no more sections after Section 3\n",
    "section_lines = text_lines[start_section:]\n",
    "\n",
    "# start data selection after line \"Age(yrBP)    CO2(ppmv)\"\n",
    "header_end = [i for i in range(len(section_lines))\n",
    "              if section_lines[i].startswith('Age(yrBP)')][0]\n",
    "\n",
    "start_data = header_end + 1\n",
    "\n",
    "data_lines = section_lines[start_data:]\n",
    "\n",
    "data_lines[1:10]"
   ]
  },
  {
   "cell_type": "markdown",
   "id": "Tc0IHYLKVZjc",
   "metadata": {
    "id": "Tc0IHYLKVZjc"
   },
   "source": [
    "#### Remove trailing return character"
   ]
  },
  {
   "cell_type": "code",
   "execution_count": 22,
   "id": "AlfT4_LnVZ2d",
   "metadata": {
    "colab": {
     "base_uri": "https://localhost:8080/"
    },
    "id": "AlfT4_LnVZ2d",
    "outputId": "7dc725cf-4de2-41f0-8f4f-f6d12c082284"
   },
   "outputs": [
    {
     "data": {
      "text/plain": [
       "['137           280.4',\n",
       " '268           274.9',\n",
       " '279           277.9',\n",
       " '395           279.1',\n",
       " '404           281.9',\n",
       " '485           277.7',\n",
       " '559           281.1',\n",
       " '672           282.2',\n",
       " '754           280.1',\n",
       " '877           278.4']"
      ]
     },
     "execution_count": 22,
     "metadata": {},
     "output_type": "execute_result"
    }
   ],
   "source": [
    "data_list = [line.rstrip() for line in data_lines]\n",
    "data_list[0:10]"
   ]
  },
  {
   "cell_type": "markdown",
   "id": "duGfzMNvVaQf",
   "metadata": {
    "id": "duGfzMNvVaQf"
   },
   "source": [
    "#### Read data list into a Pandas dataframe and split into columns date_ce and co2"
   ]
  },
  {
   "cell_type": "code",
   "execution_count": 23,
   "id": "ujRpeSNAVakj",
   "metadata": {
    "colab": {
     "base_uri": "https://localhost:8080/"
    },
    "id": "ujRpeSNAVakj",
    "outputId": "0db33db3-652b-4c4d-f13d-ff67baf9d89f"
   },
   "outputs": [
    {
     "data": {
      "text/html": [
       "<div>\n",
       "<style scoped>\n",
       "    .dataframe tbody tr th:only-of-type {\n",
       "        vertical-align: middle;\n",
       "    }\n",
       "\n",
       "    .dataframe tbody tr th {\n",
       "        vertical-align: top;\n",
       "    }\n",
       "\n",
       "    .dataframe thead th {\n",
       "        text-align: right;\n",
       "    }\n",
       "</style>\n",
       "<table border=\"1\" class=\"dataframe\">\n",
       "  <thead>\n",
       "    <tr style=\"text-align: right;\">\n",
       "      <th></th>\n",
       "      <th>date_bp</th>\n",
       "      <th>co2</th>\n",
       "    </tr>\n",
       "  </thead>\n",
       "  <tbody>\n",
       "    <tr>\n",
       "      <th>0</th>\n",
       "      <td>137</td>\n",
       "      <td>280.4</td>\n",
       "    </tr>\n",
       "    <tr>\n",
       "      <th>1</th>\n",
       "      <td>268</td>\n",
       "      <td>274.9</td>\n",
       "    </tr>\n",
       "    <tr>\n",
       "      <th>2</th>\n",
       "      <td>279</td>\n",
       "      <td>277.9</td>\n",
       "    </tr>\n",
       "    <tr>\n",
       "      <th>3</th>\n",
       "      <td>395</td>\n",
       "      <td>279.1</td>\n",
       "    </tr>\n",
       "    <tr>\n",
       "      <th>4</th>\n",
       "      <td>404</td>\n",
       "      <td>281.9</td>\n",
       "    </tr>\n",
       "  </tbody>\n",
       "</table>\n",
       "</div>"
      ],
      "text/plain": [
       "  date_bp              co2\n",
       "0     137            280.4\n",
       "1     268            274.9\n",
       "2     279            277.9\n",
       "3     395            279.1\n",
       "4     404            281.9"
      ]
     },
     "execution_count": 23,
     "metadata": {},
     "output_type": "execute_result"
    }
   ],
   "source": [
    "df_icecore_800K = pd.DataFrame(data_list)\n",
    "df_icecore_800K.columns = ['data']\n",
    "\n",
    "df_icecore_800K[['date_bp', 'co2']] = df_icecore_800K['data'].str.split(\" \", 1, expand=True)\n",
    "df_icecore_800K.drop('data', axis=1, inplace=True)\n",
    "\n",
    "df_icecore_800K.head()"
   ]
  },
  {
   "cell_type": "markdown",
   "id": "8meDhQtRVbAa",
   "metadata": {
    "id": "8meDhQtRVbAa"
   },
   "source": [
    "#### Remove empty rows and convert columns from strings to numbers"
   ]
  },
  {
   "cell_type": "code",
   "execution_count": 24,
   "id": "_wmlWaAyVbXV",
   "metadata": {
    "id": "_wmlWaAyVbXV"
   },
   "outputs": [],
   "source": [
    "# First change empty strings to NaN. Then can easily drop NaN rows\n",
    "df_icecore_800K['date_bp'].replace('', np.nan, inplace=True)\n",
    "\n",
    "df_icecore_800K = df_icecore_800K.dropna()\n",
    "\n",
    "df_icecore_800K = df_icecore_800K.astype(float)"
   ]
  },
  {
   "cell_type": "markdown",
   "id": "YhMiOASfZzkJ",
   "metadata": {
    "id": "YhMiOASfZzkJ"
   },
   "source": [
    "### Combine 800K back and 2K back together\n",
    "Exclude 800K dataset points that overlap with the start of the 2K dataset"
   ]
  },
  {
   "cell_type": "markdown",
   "id": "j_ar-bylb8bg",
   "metadata": {
    "id": "j_ar-bylb8bg"
   },
   "source": [
    "The date in the 800K dataset is in BP years which means (before present) years. Here in the dataset, present year is 1950"
   ]
  },
  {
   "cell_type": "markdown",
   "id": "yuRZl_lwbW8T",
   "metadata": {
    "id": "yuRZl_lwbW8T"
   },
   "source": [
    "#### First convert 800K dataset from dates BP (before present) to CE\n",
    "\n",
    "years before present = 1950 - year ce\n",
    "\n",
    "year ce = 1950 - years before present"
   ]
  },
  {
   "cell_type": "code",
   "execution_count": 25,
   "id": "LBUkd7AUZ0BS",
   "metadata": {
    "colab": {
     "base_uri": "https://localhost:8080/",
     "height": 363
    },
    "id": "LBUkd7AUZ0BS",
    "outputId": "6dbfed77-addb-4f9c-ea06-d551f73b3d82"
   },
   "outputs": [
    {
     "data": {
      "text/html": [
       "<div>\n",
       "<style scoped>\n",
       "    .dataframe tbody tr th:only-of-type {\n",
       "        vertical-align: middle;\n",
       "    }\n",
       "\n",
       "    .dataframe tbody tr th {\n",
       "        vertical-align: top;\n",
       "    }\n",
       "\n",
       "    .dataframe thead th {\n",
       "        text-align: right;\n",
       "    }\n",
       "</style>\n",
       "<table border=\"1\" class=\"dataframe\">\n",
       "  <thead>\n",
       "    <tr style=\"text-align: right;\">\n",
       "      <th></th>\n",
       "      <th>date_bp</th>\n",
       "      <th>co2</th>\n",
       "      <th>date_ce</th>\n",
       "    </tr>\n",
       "  </thead>\n",
       "  <tbody>\n",
       "    <tr>\n",
       "      <th>0</th>\n",
       "      <td>137.0</td>\n",
       "      <td>280.4</td>\n",
       "      <td>1813.0</td>\n",
       "    </tr>\n",
       "    <tr>\n",
       "      <th>1</th>\n",
       "      <td>268.0</td>\n",
       "      <td>274.9</td>\n",
       "      <td>1682.0</td>\n",
       "    </tr>\n",
       "    <tr>\n",
       "      <th>2</th>\n",
       "      <td>279.0</td>\n",
       "      <td>277.9</td>\n",
       "      <td>1671.0</td>\n",
       "    </tr>\n",
       "    <tr>\n",
       "      <th>3</th>\n",
       "      <td>395.0</td>\n",
       "      <td>279.1</td>\n",
       "      <td>1555.0</td>\n",
       "    </tr>\n",
       "    <tr>\n",
       "      <th>4</th>\n",
       "      <td>404.0</td>\n",
       "      <td>281.9</td>\n",
       "      <td>1546.0</td>\n",
       "    </tr>\n",
       "    <tr>\n",
       "      <th>5</th>\n",
       "      <td>485.0</td>\n",
       "      <td>277.7</td>\n",
       "      <td>1465.0</td>\n",
       "    </tr>\n",
       "    <tr>\n",
       "      <th>6</th>\n",
       "      <td>559.0</td>\n",
       "      <td>281.1</td>\n",
       "      <td>1391.0</td>\n",
       "    </tr>\n",
       "    <tr>\n",
       "      <th>7</th>\n",
       "      <td>672.0</td>\n",
       "      <td>282.2</td>\n",
       "      <td>1278.0</td>\n",
       "    </tr>\n",
       "    <tr>\n",
       "      <th>8</th>\n",
       "      <td>754.0</td>\n",
       "      <td>280.1</td>\n",
       "      <td>1196.0</td>\n",
       "    </tr>\n",
       "    <tr>\n",
       "      <th>9</th>\n",
       "      <td>877.0</td>\n",
       "      <td>278.4</td>\n",
       "      <td>1073.0</td>\n",
       "    </tr>\n",
       "  </tbody>\n",
       "</table>\n",
       "</div>"
      ],
      "text/plain": [
       "   date_bp    co2  date_ce\n",
       "0    137.0  280.4   1813.0\n",
       "1    268.0  274.9   1682.0\n",
       "2    279.0  277.9   1671.0\n",
       "3    395.0  279.1   1555.0\n",
       "4    404.0  281.9   1546.0\n",
       "5    485.0  277.7   1465.0\n",
       "6    559.0  281.1   1391.0\n",
       "7    672.0  282.2   1278.0\n",
       "8    754.0  280.1   1196.0\n",
       "9    877.0  278.4   1073.0"
      ]
     },
     "execution_count": 25,
     "metadata": {},
     "output_type": "execute_result"
    }
   ],
   "source": [
    "df_icecore_800K['date_ce'] = 1950 - df_icecore_800K['date_bp']\n",
    "df_icecore_800K[0:10]"
   ]
  },
  {
   "cell_type": "markdown",
   "id": "wUTzh1aMhbgc",
   "metadata": {
    "id": "wUTzh1aMhbgc"
   },
   "source": [
    "#### Sort date ascending"
   ]
  },
  {
   "cell_type": "code",
   "execution_count": 26,
   "id": "VumMyo_vhb4H",
   "metadata": {
    "colab": {
     "base_uri": "https://localhost:8080/",
     "height": 206
    },
    "id": "VumMyo_vhb4H",
    "outputId": "8b8c5dea-78fe-4519-b914-97c8c9b5028e"
   },
   "outputs": [
    {
     "data": {
      "text/html": [
       "<div>\n",
       "<style scoped>\n",
       "    .dataframe tbody tr th:only-of-type {\n",
       "        vertical-align: middle;\n",
       "    }\n",
       "\n",
       "    .dataframe tbody tr th {\n",
       "        vertical-align: top;\n",
       "    }\n",
       "\n",
       "    .dataframe thead th {\n",
       "        text-align: right;\n",
       "    }\n",
       "</style>\n",
       "<table border=\"1\" class=\"dataframe\">\n",
       "  <thead>\n",
       "    <tr style=\"text-align: right;\">\n",
       "      <th></th>\n",
       "      <th>date_bp</th>\n",
       "      <th>co2</th>\n",
       "      <th>date_ce</th>\n",
       "    </tr>\n",
       "  </thead>\n",
       "  <tbody>\n",
       "    <tr>\n",
       "      <th>0</th>\n",
       "      <td>798512.0</td>\n",
       "      <td>191.0</td>\n",
       "      <td>-796562.0</td>\n",
       "    </tr>\n",
       "    <tr>\n",
       "      <th>1</th>\n",
       "      <td>797099.0</td>\n",
       "      <td>188.4</td>\n",
       "      <td>-795149.0</td>\n",
       "    </tr>\n",
       "    <tr>\n",
       "      <th>2</th>\n",
       "      <td>796467.0</td>\n",
       "      <td>189.3</td>\n",
       "      <td>-794517.0</td>\n",
       "    </tr>\n",
       "    <tr>\n",
       "      <th>3</th>\n",
       "      <td>795202.0</td>\n",
       "      <td>195.2</td>\n",
       "      <td>-793252.0</td>\n",
       "    </tr>\n",
       "    <tr>\n",
       "      <th>4</th>\n",
       "      <td>794608.0</td>\n",
       "      <td>199.4</td>\n",
       "      <td>-792658.0</td>\n",
       "    </tr>\n",
       "  </tbody>\n",
       "</table>\n",
       "</div>"
      ],
      "text/plain": [
       "    date_bp    co2   date_ce\n",
       "0  798512.0  191.0 -796562.0\n",
       "1  797099.0  188.4 -795149.0\n",
       "2  796467.0  189.3 -794517.0\n",
       "3  795202.0  195.2 -793252.0\n",
       "4  794608.0  199.4 -792658.0"
      ]
     },
     "execution_count": 26,
     "metadata": {},
     "output_type": "execute_result"
    }
   ],
   "source": [
    "df_icecore_800K = df_icecore_800K.sort_values(by=['date_ce'], ascending=True)\n",
    "\n",
    "# And reset the index\n",
    "df_icecore_800K = df_icecore_800K.reset_index(drop=True)\n",
    "\n",
    "df_icecore_800K.head()"
   ]
  },
  {
   "cell_type": "markdown",
   "id": "SOzAnbgLdOMm",
   "metadata": {
    "id": "SOzAnbgLdOMm"
   },
   "source": [
    "#### Remove data points from the 800K dataset that overlap with the 2K dataset"
   ]
  },
  {
   "cell_type": "code",
   "execution_count": 27,
   "id": "B2HFWY1PdOkR",
   "metadata": {
    "id": "B2HFWY1PdOkR"
   },
   "outputs": [],
   "source": [
    "min_2K = min(df_icecore_2K['date_ce'])\n",
    "\n",
    "df_icecore_800K = df_icecore_800K[df_icecore_800K['date_ce'] < min_2K]"
   ]
  },
  {
   "cell_type": "markdown",
   "id": "uKZXsuYQdO55",
   "metadata": {
    "id": "uKZXsuYQdO55"
   },
   "source": [
    "#### Remove 'date_bp' column to have matching columns when concatenate 2K and 800K datasets"
   ]
  },
  {
   "cell_type": "code",
   "execution_count": 28,
   "id": "c3Vkyi7qdPjT",
   "metadata": {
    "colab": {
     "base_uri": "https://localhost:8080/",
     "height": 206
    },
    "id": "c3Vkyi7qdPjT",
    "outputId": "1690cd01-0cb5-4030-bcf0-58fe44c8ceed"
   },
   "outputs": [
    {
     "data": {
      "text/html": [
       "<div>\n",
       "<style scoped>\n",
       "    .dataframe tbody tr th:only-of-type {\n",
       "        vertical-align: middle;\n",
       "    }\n",
       "\n",
       "    .dataframe tbody tr th {\n",
       "        vertical-align: top;\n",
       "    }\n",
       "\n",
       "    .dataframe thead th {\n",
       "        text-align: right;\n",
       "    }\n",
       "</style>\n",
       "<table border=\"1\" class=\"dataframe\">\n",
       "  <thead>\n",
       "    <tr style=\"text-align: right;\">\n",
       "      <th></th>\n",
       "      <th>date_ce</th>\n",
       "      <th>co2</th>\n",
       "    </tr>\n",
       "  </thead>\n",
       "  <tbody>\n",
       "    <tr>\n",
       "      <th>0</th>\n",
       "      <td>-796562.0</td>\n",
       "      <td>191.0</td>\n",
       "    </tr>\n",
       "    <tr>\n",
       "      <th>1</th>\n",
       "      <td>-795149.0</td>\n",
       "      <td>188.4</td>\n",
       "    </tr>\n",
       "    <tr>\n",
       "      <th>2</th>\n",
       "      <td>-794517.0</td>\n",
       "      <td>189.3</td>\n",
       "    </tr>\n",
       "    <tr>\n",
       "      <th>3</th>\n",
       "      <td>-793252.0</td>\n",
       "      <td>195.2</td>\n",
       "    </tr>\n",
       "    <tr>\n",
       "      <th>4</th>\n",
       "      <td>-792658.0</td>\n",
       "      <td>199.4</td>\n",
       "    </tr>\n",
       "  </tbody>\n",
       "</table>\n",
       "</div>"
      ],
      "text/plain": [
       "    date_ce    co2\n",
       "0 -796562.0  191.0\n",
       "1 -795149.0  188.4\n",
       "2 -794517.0  189.3\n",
       "3 -793252.0  195.2\n",
       "4 -792658.0  199.4"
      ]
     },
     "execution_count": 28,
     "metadata": {},
     "output_type": "execute_result"
    }
   ],
   "source": [
    "df_icecore_800K.drop('date_bp', axis=1, inplace=True)\n",
    "\n",
    "# move date_ce column before co2\n",
    "df_icecore_800K = df_icecore_800K.reindex(columns=['date_ce', 'co2'])\n",
    "\n",
    "df_icecore_800K.head()"
   ]
  },
  {
   "cell_type": "markdown",
   "id": "Sb_ebaLKdP8C",
   "metadata": {
    "id": "Sb_ebaLKdP8C"
   },
   "source": [
    "#### Concatenate the icecore 800K and 2K datasets"
   ]
  },
  {
   "cell_type": "code",
   "execution_count": 29,
   "id": "oIPJ9fIXdQQ3",
   "metadata": {
    "id": "oIPJ9fIXdQQ3"
   },
   "outputs": [],
   "source": [
    "df_combined_icecore = pd.concat([df_icecore_800K, df_icecore_2K], ignore_index=True)"
   ]
  },
  {
   "cell_type": "markdown",
   "id": "HsxqfMFZmRMh",
   "metadata": {
    "id": "HsxqfMFZmRMh"
   },
   "source": [
    "### Combine icecore data with MLO data"
   ]
  },
  {
   "cell_type": "markdown",
   "id": "HUE6sCWynD4k",
   "metadata": {
    "id": "HUE6sCWynD4k"
   },
   "source": [
    "#### Rename columns so will have same column names when combine with the icecore dataframe"
   ]
  },
  {
   "cell_type": "code",
   "execution_count": 30,
   "id": "WjhxOIBkmRi5",
   "metadata": {
    "colab": {
     "base_uri": "https://localhost:8080/",
     "height": 206
    },
    "id": "WjhxOIBkmRi5",
    "outputId": "b3626a43-ef4d-4d51-98ac-c62f570d6997"
   },
   "outputs": [
    {
     "data": {
      "text/html": [
       "<div>\n",
       "<style scoped>\n",
       "    .dataframe tbody tr th:only-of-type {\n",
       "        vertical-align: middle;\n",
       "    }\n",
       "\n",
       "    .dataframe tbody tr th {\n",
       "        vertical-align: top;\n",
       "    }\n",
       "\n",
       "    .dataframe thead th {\n",
       "        text-align: right;\n",
       "    }\n",
       "</style>\n",
       "<table border=\"1\" class=\"dataframe\">\n",
       "  <thead>\n",
       "    <tr style=\"text-align: right;\">\n",
       "      <th></th>\n",
       "      <th>date_ce</th>\n",
       "      <th>co2</th>\n",
       "    </tr>\n",
       "  </thead>\n",
       "  <tbody>\n",
       "    <tr>\n",
       "      <th>0</th>\n",
       "      <td>1958.202740</td>\n",
       "      <td>314.43</td>\n",
       "    </tr>\n",
       "    <tr>\n",
       "      <th>1</th>\n",
       "      <td>1958.287671</td>\n",
       "      <td>315.16</td>\n",
       "    </tr>\n",
       "    <tr>\n",
       "      <th>2</th>\n",
       "      <td>1958.369863</td>\n",
       "      <td>314.70</td>\n",
       "    </tr>\n",
       "    <tr>\n",
       "      <th>3</th>\n",
       "      <td>1958.536986</td>\n",
       "      <td>315.20</td>\n",
       "    </tr>\n",
       "    <tr>\n",
       "      <th>4</th>\n",
       "      <td>1958.621918</td>\n",
       "      <td>316.21</td>\n",
       "    </tr>\n",
       "  </tbody>\n",
       "</table>\n",
       "</div>"
      ],
      "text/plain": [
       "       date_ce     co2\n",
       "0  1958.202740  314.43\n",
       "1  1958.287671  315.16\n",
       "2  1958.369863  314.70\n",
       "3  1958.536986  315.20\n",
       "4  1958.621918  316.21"
      ]
     },
     "execution_count": 30,
     "metadata": {},
     "output_type": "execute_result"
    }
   ],
   "source": [
    "df_mlo.columns = ['date_ce', 'co2']\n",
    "\n",
    "df_mlo.head()"
   ]
  },
  {
   "cell_type": "markdown",
   "id": "PtawDwbDnhmK",
   "metadata": {
    "id": "PtawDwbDnhmK"
   },
   "source": [
    "### Concatenate combined icecore with MLO data\n",
    "\n",
    "and sort ascending"
   ]
  },
  {
   "cell_type": "code",
   "execution_count": 31,
   "id": "B6owPLYUnh-5",
   "metadata": {
    "colab": {
     "base_uri": "https://localhost:8080/",
     "height": 363
    },
    "id": "B6owPLYUnh-5",
    "outputId": "419d83f8-0cd0-4123-e911-cd8d1246cb0a"
   },
   "outputs": [
    {
     "data": {
      "text/html": [
       "<div>\n",
       "<style scoped>\n",
       "    .dataframe tbody tr th:only-of-type {\n",
       "        vertical-align: middle;\n",
       "    }\n",
       "\n",
       "    .dataframe tbody tr th {\n",
       "        vertical-align: top;\n",
       "    }\n",
       "\n",
       "    .dataframe thead th {\n",
       "        text-align: right;\n",
       "    }\n",
       "</style>\n",
       "<table border=\"1\" class=\"dataframe\">\n",
       "  <thead>\n",
       "    <tr style=\"text-align: right;\">\n",
       "      <th></th>\n",
       "      <th>date_ce</th>\n",
       "      <th>co2</th>\n",
       "    </tr>\n",
       "  </thead>\n",
       "  <tbody>\n",
       "    <tr>\n",
       "      <th>0</th>\n",
       "      <td>-796562.0</td>\n",
       "      <td>191.0</td>\n",
       "    </tr>\n",
       "    <tr>\n",
       "      <th>1</th>\n",
       "      <td>-795149.0</td>\n",
       "      <td>188.4</td>\n",
       "    </tr>\n",
       "    <tr>\n",
       "      <th>2</th>\n",
       "      <td>-794517.0</td>\n",
       "      <td>189.3</td>\n",
       "    </tr>\n",
       "    <tr>\n",
       "      <th>3</th>\n",
       "      <td>-793252.0</td>\n",
       "      <td>195.2</td>\n",
       "    </tr>\n",
       "    <tr>\n",
       "      <th>4</th>\n",
       "      <td>-792658.0</td>\n",
       "      <td>199.4</td>\n",
       "    </tr>\n",
       "    <tr>\n",
       "      <th>5</th>\n",
       "      <td>-791310.0</td>\n",
       "      <td>209.0</td>\n",
       "    </tr>\n",
       "    <tr>\n",
       "      <th>6</th>\n",
       "      <td>-790993.0</td>\n",
       "      <td>204.0</td>\n",
       "    </tr>\n",
       "    <tr>\n",
       "      <th>7</th>\n",
       "      <td>-790131.0</td>\n",
       "      <td>205.1</td>\n",
       "    </tr>\n",
       "    <tr>\n",
       "      <th>8</th>\n",
       "      <td>-789541.0</td>\n",
       "      <td>215.4</td>\n",
       "    </tr>\n",
       "    <tr>\n",
       "      <th>9</th>\n",
       "      <td>-788588.0</td>\n",
       "      <td>221.3</td>\n",
       "    </tr>\n",
       "  </tbody>\n",
       "</table>\n",
       "</div>"
      ],
      "text/plain": [
       "    date_ce    co2\n",
       "0 -796562.0  191.0\n",
       "1 -795149.0  188.4\n",
       "2 -794517.0  189.3\n",
       "3 -793252.0  195.2\n",
       "4 -792658.0  199.4\n",
       "5 -791310.0  209.0\n",
       "6 -790993.0  204.0\n",
       "7 -790131.0  205.1\n",
       "8 -789541.0  215.4\n",
       "9 -788588.0  221.3"
      ]
     },
     "execution_count": 31,
     "metadata": {},
     "output_type": "execute_result"
    }
   ],
   "source": [
    "df_combined = pd.concat([df_combined_icecore, df_mlo], ignore_index=True)\n",
    "\n",
    "# And reset the index\n",
    "df_combined = df_combined.reset_index(drop=True)\n",
    "\n",
    "# sort ascending\n",
    "df_combined = df_combined.sort_values(by=['date_ce'], ascending=True)\n",
    "\n",
    "df_combined[0:10]"
   ]
  },
  {
   "cell_type": "markdown",
   "id": "fGZrUmediI1u",
   "metadata": {
    "id": "fGZrUmediI1u"
   },
   "source": [
    "### Convert back into units BP (before present)\n",
    "\n",
    "Today is the present date."
   ]
  },
  {
   "cell_type": "markdown",
   "id": "zoRTUybgiJgK",
   "metadata": {
    "id": "zoRTUybgiJgK"
   },
   "source": [
    "#### Run function to get todays date in decimal year format\n"
   ]
  },
  {
   "cell_type": "code",
   "execution_count": 32,
   "id": "MdA-ptpYiJ3m",
   "metadata": {
    "id": "MdA-ptpYiJ3m"
   },
   "outputs": [],
   "source": [
    "todays_date_moyr, todays_date_modyyr, todays_decimal, todays_year = get_todays_date_variations()"
   ]
  },
  {
   "cell_type": "markdown",
   "id": "04LmvY8VoVZF",
   "metadata": {
    "id": "04LmvY8VoVZF"
   },
   "source": [
    "#### Convert combined data from date_ce to date_bp (before present now)"
   ]
  },
  {
   "cell_type": "code",
   "execution_count": 33,
   "id": "V_lhtIp2kS7d",
   "metadata": {
    "id": "V_lhtIp2kS7d"
   },
   "outputs": [],
   "source": [
    "# years before now = present year - date ce\n",
    "df_combined['date_bp'] = todays_decimal - df_combined['date_ce']"
   ]
  },
  {
   "cell_type": "markdown",
   "id": "eirNPYHfkTQj",
   "metadata": {
    "id": "eirNPYHfkTQj"
   },
   "source": [
    "#### And sort the data ascending"
   ]
  },
  {
   "cell_type": "code",
   "execution_count": 34,
   "id": "QjjktXqMkTrI",
   "metadata": {
    "id": "QjjktXqMkTrI"
   },
   "outputs": [],
   "source": [
    "df_combined = df_combined.sort_values(by=['date_bp'], ascending=True)"
   ]
  },
  {
   "cell_type": "markdown",
   "id": "DAIlBZhIqxsg",
   "metadata": {
    "id": "DAIlBZhIqxsg"
   },
   "source": [
    "#### Convert the dataframe into numpy arrays for plotting"
   ]
  },
  {
   "cell_type": "code",
   "execution_count": 35,
   "id": "wQe1XECoqyEc",
   "metadata": {
    "id": "wQe1XECoqyEc"
   },
   "outputs": [],
   "source": [
    "combined_years_before_now = df_combined['date_bp'].to_numpy()\n",
    "\n",
    "combined_co2 = df_combined['co2'].to_numpy()"
   ]
  },
  {
   "cell_type": "markdown",
   "id": "bRzJoxIYQ5XR",
   "metadata": {
    "id": "bRzJoxIYQ5XR"
   },
   "source": [
    "## **Define accessory functions**"
   ]
  },
  {
   "cell_type": "markdown",
   "id": "8f5c90dc",
   "metadata": {},
   "source": [
    "## Functions to convert dates into various formats\n",
    "Used for plot limits and labeling"
   ]
  },
  {
   "cell_type": "markdown",
   "id": "169bf794",
   "metadata": {},
   "source": [
    "### Function to convert a float to a datetime"
   ]
  },
  {
   "cell_type": "code",
   "execution_count": 36,
   "id": "_pEoKuyQQ5XU",
   "metadata": {
    "id": "_pEoKuyQQ5XU"
   },
   "outputs": [],
   "source": [
    "#  https://stackoverflow.com/questions/19305991/convert-fractional-years-to-a-real-date-in-python\n",
    "def t2dt(atime):\n",
    "    \"\"\"\n",
    "    Convert atime (a float) to DT.datetime\n",
    "    This is the inverse of dt2t.\n",
    "    assert dt2t(t2dt(atime)) == atime\n",
    "    \"\"\"\n",
    "    year = int(atime)\n",
    "    remainder = atime - year\n",
    "    boy = datetime(year, 1, 1)\n",
    "    eoy = datetime(year + 1, 1, 1)\n",
    "    seconds = remainder * (eoy - boy).total_seconds()\n",
    "    return boy + timedelta(seconds=seconds)"
   ]
  },
  {
   "cell_type": "markdown",
   "id": "aa71df2d",
   "metadata": {},
   "source": [
    "### Function to get the end date of data"
   ]
  },
  {
   "cell_type": "code",
   "execution_count": 37,
   "id": "g5XQ4cRrQ5XU",
   "metadata": {
    "id": "g5XQ4cRrQ5XU"
   },
   "outputs": [],
   "source": [
    "def get_data_end_date(date_data):\n",
    "    last_date = np.max(date_data)\n",
    "    last_date_datetime = t2dt(last_date)\n",
    "    \n",
    "    # Convert date format to month_name day, year\n",
    "    day = last_date_datetime.day\n",
    "    month = last_date_datetime.strftime(\"%B\")\n",
    "    year = last_date_datetime.year\n",
    "    date_modyyr = f\"{month} {day}, {year}\"\n",
    "    return date_modyyr"
   ]
  },
  {
   "cell_type": "markdown",
   "id": "48140ea8",
   "metadata": {},
   "source": [
    "## Function to create gradient under curve"
   ]
  },
  {
   "cell_type": "code",
   "execution_count": 38,
   "id": "TKvH1EQ8Q5XR",
   "metadata": {
    "id": "TKvH1EQ8Q5XR"
   },
   "outputs": [],
   "source": [
    "# https://stackoverflow.com/questions/29321835/is-it-possible-to-get-color-gradients-under-curve-in-matplotlib\n",
    "# Modified to add gradient below curve and have a bottom alpha\n",
    "\n",
    "# def gradient_fill(x, y, fill_color=None, ax=None, **kwargs):\n",
    "def gradient_fill(x, y, fill_color='#FFFFFF', xmin=None, ymin=None, xmax=None, \n",
    "                  ymax=None, alpha_bottom=None, ax=None, alpha=1, zorder=1, **kwargs):\n",
    "    \"\"\"\n",
    "    Plot a line with a linear alpha gradient filled beneath it.\n",
    "\n",
    "    Parameters\n",
    "    ----------\n",
    "    x, y : array-like\n",
    "        The data values of the line.\n",
    "    fill_color : a matplotlib color specifier (string, tuple) or None\n",
    "        The color for the fill. If None, the color of the line will be used.\n",
    "    ax : a matplotlib Axes instance\n",
    "        The axes to plot on. If None, the current pyplot axes will be used.\n",
    "    Additional arguments are passed on to matplotlib's ``plot`` function.\n",
    "\n",
    "    Returns\n",
    "    -------\n",
    "    line : a Line2D instance\n",
    "        The line plotted.\n",
    "    im : an AxesImage instance\n",
    "        The transparent gradient clipped to just the area beneath the curve.\n",
    "    \"\"\"\n",
    "    if ax is None:\n",
    "        ax = plt.gca()\n",
    "\n",
    "    # Only want the gradient to show\n",
    "    #line, = ax.plot(x, y, **kwargs)\n",
    "    #if fill_color is None:\n",
    "    #    fill_color = line.get_color()\n",
    "\n",
    "    if alpha_bottom is None:\n",
    "        alpha_bottom = 0\n",
    "\n",
    "    if xmin is None:\n",
    "        xmin = x.min()\n",
    "\n",
    "    if ymin is None:\n",
    "        ymin = y.min()\n",
    "        \n",
    "    if xmax is None:\n",
    "        xmax = x.max()\n",
    "\n",
    "    if ymax is None:\n",
    "        ymax = y.max()\n",
    "        \n",
    "    if zorder is None:\n",
    "        zorder = 1\n",
    "        \n",
    "    #zorder = line.get_zorder()\n",
    "    \n",
    "    #alpha = line.get_alpha()\n",
    "    #alpha = 1.0 if alpha is None else alpha\n",
    "\n",
    "    z = np.empty((100, 1, 4), dtype=float)\n",
    "    rgb = mcolors.colorConverter.to_rgb(fill_color)\n",
    "    z[:, :, :3] = rgb\n",
    "    #z[:,:,-1] = np.linspace(0, alpha, 100)[:,None]\n",
    "    z[:, :, -1] = np.linspace(alpha_bottom, alpha, 100)[:, None]\n",
    "\n",
    "    #xmin, xmax, ymin, ymax = x.min(), x.max(), y.min(), y.max()\n",
    "    \n",
    "    im = ax.imshow(z, aspect='auto', extent=[xmin, xmax, ymin, ymax],\n",
    "                   origin='lower', zorder=zorder)\n",
    "\n",
    "    xy = np.column_stack([x, y])\n",
    "    xy = np.vstack([[xmin, ymin], xy, [xmax, ymin], [xmin, ymin]])\n",
    "    clip_path = Polygon(xy, facecolor='none', edgecolor='none', closed=True)\n",
    "    ax.add_patch(clip_path)\n",
    "    im.set_clip_path(clip_path)\n",
    "    \n",
    "    ax.autoscale(True)\n",
    "    \n",
    "    #return line, im"
   ]
  },
  {
   "cell_type": "markdown",
   "id": "a5b925e8",
   "metadata": {},
   "source": [
    "<a name=\"functions-to-modify-graphic\"></a>\n",
    "## **Define functions that can modify the graphic**"
   ]
  },
  {
   "cell_type": "markdown",
   "id": "76df293f",
   "metadata": {},
   "source": [
    "### Function to set global fonts and linewidth properties"
   ]
  },
  {
   "cell_type": "code",
   "execution_count": 39,
   "id": "H4fU5_v1Q5XR",
   "metadata": {
    "id": "H4fU5_v1Q5XR"
   },
   "outputs": [],
   "source": [
    "def set_matplotlib_properties():\n",
    "    \n",
    "    # Set default properties for matplotlib\n",
    "    \n",
    "    # Reset rcparams in case modified defaults in another notebook during same session \n",
    "    plt.rcParams.update(plt.rcParamsDefault)\n",
    "\n",
    "    plt.rcParams.update({'axes.linewidth':1.5})\n",
    "    \n",
    "    plt.rcParams.update({\n",
    "        \"text.usetex\": False,\n",
    "        \"font.family\": \"sans-serif\",\n",
    "        \"font.weight\":  \"normal\",\n",
    "        \"font.sans-serif\": [\"Arial\", \"Tahoma\", \"Helvetica\",\"FreeSans\", \"NimbusSans\", \"LiberationSans\",\"DejaVu Sans\"],\n",
    "        \"mathtext.default\":'regular',\n",
    "        \"mathtext.fontset\": \"dejavusans\"\n",
    "    })\n",
    "        \n",
    "    # http://phyletica.org/matplotlib-fonts/\n",
    "    # This causes matplotlib to use Type 42 (a.k.a. TrueType) fonts \n",
    "    # for PostScript and PDF files. This allows you to avoid Type 3 fonts.\n",
    "    # Turning on usetex also works\n",
    "    # Needed on Ubuntu for pdf fonts \n",
    "    plt.rcParams.update({\n",
    "      'pdf.fonttype': 42,\n",
    "        'ps.fonttype': 42 \n",
    "    })"
   ]
  },
  {
   "cell_type": "markdown",
   "id": "fec986e8",
   "metadata": {},
   "source": [
    "### Function to set axes properties of the graphic"
   ]
  },
  {
   "cell_type": "code",
   "execution_count": 40,
   "id": "ripQudHNQ5XS",
   "metadata": {
    "id": "ripQudHNQ5XS"
   },
   "outputs": [],
   "source": [
    "def set_plot_props(ax, fig, xmin, xmax, ymin, ymax, xlabel, ylabel):\n",
    "\n",
    "    # ---------------------------------\n",
    "    # Plot properties for website plots\n",
    "    # ---------------------------------\n",
    "\n",
    "    # Allow room at top for the 2 titles\n",
    "    fig.subplots_adjust(top=0.85)\n",
    "\n",
    "    ax.tick_params(which='both', bottom=True, top=True, left=True, right=True)\n",
    "\n",
    "    ax.tick_params(axis='x', labelsize=12)\n",
    "    ax.tick_params(axis='y', labelsize=16)\n",
    "\n",
    "    ax.tick_params(axis='x', which='major', direction='in', length=6, width=1)\n",
    "    ax.tick_params(axis='y', which='major', direction='in', length=7, width=1)\n",
    "    \n",
    "    tick_spacing = 50\n",
    "    ax.yaxis.set_major_locator(ticker.MultipleLocator(tick_spacing))\n",
    "\n",
    "    ax.tick_params(which='minor', direction='in', length=4)\n",
    "    ax.yaxis.set_minor_locator(AutoMinorLocator(5))\n",
    "    \n",
    "    labels = ax.get_xticklabels() + ax.get_yticklabels()\n",
    "    for label in labels: label.set_fontweight('bold')\n",
    "\n",
    "    ax.set_xlabel(xlabel, fontweight='bold', fontsize=12, labelpad=5)\n",
    "    ax.set_ylabel(ylabel, fontweight='bold', fontsize=18, labelpad=5)\n",
    "\n",
    "    # Set axes limits last \n",
    "    # If did before, setting xtick labels past xmin & xmax would have\n",
    "    # extended the plot limits\n",
    "    ax.set_xlim(xmin, xmax)\n",
    "    ax.set_ylim(ymin, ymax)"
   ]
  },
  {
   "cell_type": "markdown",
   "id": "33ee9893",
   "metadata": {},
   "source": [
    "### Function to create x-axis text tick labels"
   ]
  },
  {
   "cell_type": "code",
   "execution_count": 41,
   "id": "rDw4rasjQ5XS",
   "metadata": {
    "id": "rDw4rasjQ5XS"
   },
   "outputs": [],
   "source": [
    "def create_xtick_labels(ax, xmin, xmax):\n",
    "    \n",
    "    xrange = range(xmin, xmax)\n",
    "    \n",
    "    date_labels = list(range(0, 1000, 100))\n",
    "    date_tick_labels = [str(x) for x in date_labels]\n",
    "    \n",
    "    date_tick_positions = list(range(0, -1000000, -100000))\n",
    "\n",
    "    plt.xticks(date_tick_positions, date_tick_labels)\n",
    "\n",
    "    ax.tick_params(axis='x', pad=7)"
   ]
  },
  {
   "cell_type": "markdown",
   "id": "1aa75a67",
   "metadata": {},
   "source": [
    "### Function to place the titles"
   ]
  },
  {
   "cell_type": "code",
   "execution_count": 42,
   "id": "7FRvfrThQ5XS",
   "metadata": {
    "id": "7FRvfrThQ5XS"
   },
   "outputs": [],
   "source": [
    "def add_plot_title(ax, title1, title2):\n",
    "\n",
    "    ax.annotate(title1, xy=(0, 1.15), xycoords='axes fraction', fontsize=14,\n",
    "                horizontalalignment='left', verticalalignment='top', fontweight=\"normal\")\n",
    "    ax.annotate(title2, xy=(0, 1.07), xycoords='axes fraction', fontsize=18,\n",
    "                horizontalalignment='left', verticalalignment='top', fontweight = 'bold')"
   ]
  },
  {
   "cell_type": "markdown",
   "id": "95508a0a",
   "metadata": {},
   "source": [
    "### Function to add an inset label"
   ]
  },
  {
   "cell_type": "code",
   "execution_count": 43,
   "id": "cc2db4fa",
   "metadata": {},
   "outputs": [],
   "source": [
    "def add_inset_label(ax, label_text):\n",
    "    ax.annotate(label_text, xy=(0.03, 0.9), xycoords='axes fraction', fontsize=12,\n",
    "                horizontalalignment='left', verticalalignment='top')\n"
   ]
  },
  {
   "cell_type": "markdown",
   "id": "2c099619",
   "metadata": {},
   "source": [
    "### Function to add arrow annotations"
   ]
  },
  {
   "cell_type": "code",
   "execution_count": 44,
   "id": "t_JQ0DAXQ5XT",
   "metadata": {
    "id": "t_JQ0DAXQ5XT"
   },
   "outputs": [],
   "source": [
    "def apply_arrow_annotations(todays_decimal, mlo_date, mlo_co2):\n",
    "    \n",
    "    mlo_date_before_now = todays_decimal - mlo_date\n",
    "\n",
    "    #  1960, 1980, 2000, 2020\n",
    "    # In years before now\n",
    "    x_1960 = todays_decimal - 1960\n",
    "    x_1980 = todays_decimal - 1980\n",
    "    x_2000 = todays_decimal - 2000\n",
    "    x_2020 = todays_decimal - 2020\n",
    "\n",
    "    spl_fit = interpolate.splrep(-mlo_date_before_now, mlo_co2)\n",
    "\n",
    "    # Evaluate at negative years before now value since this is\n",
    "    # how the data is plotted with x labels replacing xaxis values later\n",
    "    spl_val_1960 = interpolate.splev(-x_1960, spl_fit)\n",
    "    spl_val_1980 = interpolate.splev(-x_1980, spl_fit)\n",
    "    spl_val_2000 = interpolate.splev(-x_2000, spl_fit)\n",
    "    spl_val_2020 = interpolate.splev(-x_2020, spl_fit)\n",
    "    \n",
    "    # Annotation start\n",
    "    x_start = -1000\n",
    "    \n",
    "    plt.annotate('1960',\n",
    "             xy=[x_start, spl_val_1960],\n",
    "             xytext=[-60, 0], \n",
    "             verticalalignment = \"center\",\n",
    "             arrowprops=dict(arrowstyle='->',\n",
    "                             relpos=(0, 0.5), lw=1),           \n",
    "             fontsize=11,\n",
    "             textcoords=\"offset points\")\n",
    "\n",
    "    plt.annotate('1980',\n",
    "             xy=[x_start, spl_val_1980],\n",
    "             xytext=[-60, 0], \n",
    "             verticalalignment = \"center\",\n",
    "             arrowprops=dict(arrowstyle='->',\n",
    "                             relpos=(0, 0.5), lw=1),             \n",
    "             fontsize=11, \n",
    "             textcoords=\"offset points\")\n",
    "\n",
    "\n",
    "    plt.annotate('2000',\n",
    "             xy=[x_start, spl_val_2000],\n",
    "             xytext=[-60, 0], \n",
    "             verticalalignment = \"center\",\n",
    "             arrowprops=dict(arrowstyle='->',\n",
    "                             relpos=(0, 0.5), lw=1),             \n",
    "             fontsize=11, \n",
    "             textcoords=\"offset points\")\n",
    "\n",
    "\n",
    "    plt.annotate('2020',\n",
    "             xy=[x_start, spl_val_2020],\n",
    "             xytext=[-60, 0], \n",
    "             verticalalignment = \"center\",\n",
    "             arrowprops=dict(arrowstyle='->',\n",
    "                             relpos=(0, 0.5), lw=1),           \n",
    "             fontsize=11, \n",
    "             textcoords=\"offset points\")"
   ]
  },
  {
   "cell_type": "markdown",
   "id": "6a2912db",
   "metadata": {},
   "source": [
    "### Function to save the graphic"
   ]
  },
  {
   "cell_type": "code",
   "execution_count": 45,
   "id": "2c419e49-6e7c-4080-ac2b-ddf0dfaabf67",
   "metadata": {},
   "outputs": [],
   "source": [
    "def save_graphic(fig, pdf_file, png_file):\n",
    "\n",
    "    fig_width, fig_height = fig.get_size_inches()\n",
    "\n",
    "    # For pdf\n",
    "    width_in = 10\n",
    "    height_in = (fig_height/fig_width) * width_in\n",
    "\n",
    "    fig.set_size_inches(width_in, height_in)\n",
    "\n",
    "    # Save to a high dpi so that logo png file has a high resolution\n",
    "    fig.savefig(pdf_file, facecolor='w', edgecolor='w',\n",
    "                orientation='landscape', format=None,\n",
    "                transparent=False, bbox_inches='tight', dpi=600)\n",
    "\n",
    "    # For png\n",
    "    # Want a png of height 500px\n",
    "\n",
    "    # First save figure as a png and then scale to size needed\n",
    "\n",
    "    png_dpi = 300\n",
    "\n",
    "    fig.savefig(png_file, facecolor='w', edgecolor='w',\n",
    "                orientation='landscape', dpi=png_dpi, bbox_inches='tight')\n",
    "\n",
    "    # Now resize the image to be width 1000px for the\n",
    "    # keelingcurve website\n",
    "    img = Image.open(png_file)\n",
    "    img_width, img_height = img.size\n",
    "\n",
    "    # width_px = 1000\n",
    "    # img_scale = (width_px / img_width)\n",
    "    # height_px = int((float(img_height) * float(img_scale)))\n",
    "\n",
    "    height_px = 500\n",
    "    img_scale = (height_px / img_height)\n",
    "    width_px = int((float(img_width) * float(img_scale)))\n",
    "\n",
    "    #img = img.resize((width_px, height_px), Image.Resampling.LANCZOS)\n",
    "    img = img.resize((width_px, height_px), Image.ANTIALIAS)\n",
    "    img.save(png_file)\n"
   ]
  },
  {
   "cell_type": "markdown",
   "id": "9a1e65bb",
   "metadata": {},
   "source": [
    "### Function to create a Context Manager\n",
    "\n",
    "This allows a message to display in a cell while a function is running.\n",
    "Usefull for indicating a function is running."
   ]
  },
  {
   "cell_type": "code",
   "execution_count": 46,
   "id": "7c01c8e4",
   "metadata": {},
   "outputs": [],
   "source": [
    "class ShowProgressContextManagerWidgets:\n",
    "\n",
    "    def __init__(self, out, command=''):\n",
    "        self.out = out\n",
    "        self.command = command\n",
    "        \n",
    "    def __enter__(self):\n",
    "        css_style = \"<style>span.start { margin:0; padding: 0; color: blue; }</style>\"\n",
    "        html_str = f'<span class=\"start\">Running {self.command}...</span>'\n",
    "\n",
    "        self.out.clear_output()\n",
    "        \n",
    "        with self.out:\n",
    "            display(HTML(css_style))\n",
    "            display(HTML(html_str))\n",
    "\n",
    "        \n",
    "    def __exit__(self, exc_type, exc_value, exc_tb):\n",
    "        \n",
    "        css_style = \"<style>span.end { margin: 0; padding: 0; color: green; }</style>\"\n",
    "        html_str = '<span class=\"end\">Finished</span>'\n",
    "\n",
    "        self.out.clear_output()\n",
    "\n",
    "        with self.out:\n",
    "            display(HTML(css_style)) \n",
    "            display(HTML(html_str))\n"
   ]
  },
  {
   "cell_type": "markdown",
   "id": "90db3383",
   "metadata": {},
   "source": [
    "# **Steps to create the graphic**\n",
    "\n",
    "### Change any properties in the section [Functions to modify the graphic](#functions-to-modify-graphic)\n",
    "\n",
    "### Comment out any function in the overall function [create_graphic](#function-to-create-the-graphic) to remove an element from the final graphic\n",
    "\n",
    "Comment out a line by adding a # symbol in front of a statement\n"
   ]
  },
  {
   "cell_type": "markdown",
   "id": "435a9655",
   "metadata": {},
   "source": [
    "## **Set properties to use for matplotlib (plotting engine)**"
   ]
  },
  {
   "cell_type": "code",
   "execution_count": 47,
   "id": "b018dc34",
   "metadata": {},
   "outputs": [],
   "source": [
    "set_matplotlib_properties()"
   ]
  },
  {
   "cell_type": "markdown",
   "id": "5Fu2mcaWQ5XT",
   "metadata": {
    "id": "5Fu2mcaWQ5XT"
   },
   "source": [
    "## **Set plot limits and labeling**"
   ]
  },
  {
   "cell_type": "markdown",
   "id": "Y8TpBTyDQ5XU",
   "metadata": {
    "id": "Y8TpBTyDQ5XU"
   },
   "source": [
    "#### Get todays date in various formats for labeling"
   ]
  },
  {
   "cell_type": "code",
   "execution_count": 48,
   "id": "AGX2jRP0Q5XV",
   "metadata": {
    "id": "AGX2jRP0Q5XV"
   },
   "outputs": [],
   "source": [
    "todays_date_moyr, todays_date_modyyr, todays_decimal, todays_year = get_todays_date_variations()"
   ]
  },
  {
   "cell_type": "markdown",
   "id": "91WttTYiQ5XV",
   "metadata": {
    "id": "91WttTYiQ5XV"
   },
   "source": [
    "### Set titles and axes labels"
   ]
  },
  {
   "cell_type": "code",
   "execution_count": 49,
   "id": "kECJLxgcQ5XV",
   "metadata": {
    "id": "kECJLxgcQ5XV"
   },
   "outputs": [],
   "source": [
    "xlabel = 'Thousands of Years Ago'\n",
    "ylabel = \"$\\mathregular{CO}\\\\bf{_2}$\" + \" Concentration (ppm)\"\n",
    "\n",
    "title1 = ''\n",
    "title2 = 'Mauna Loa Data starting in 1958. Ice-core data before 1958.'"
   ]
  },
  {
   "cell_type": "markdown",
   "id": "pNfvOxI4Q5XV",
   "metadata": {
    "id": "pNfvOxI4Q5XV"
   },
   "source": [
    "### Set yaxis min and max limits"
   ]
  },
  {
   "cell_type": "code",
   "execution_count": 50,
   "id": "dETH2MGRQ5XV",
   "metadata": {
    "id": "dETH2MGRQ5XV"
   },
   "outputs": [],
   "source": [
    "ymin = 150\n",
    "ymax = 430"
   ]
  },
  {
   "cell_type": "markdown",
   "id": "p74e0W44Q5XV",
   "metadata": {
    "id": "p74e0W44Q5XV"
   },
   "source": [
    "### Set xaxis min and max limits"
   ]
  },
  {
   "cell_type": "code",
   "execution_count": 51,
   "id": "D9s6x6yDQ5XW",
   "metadata": {
    "id": "D9s6x6yDQ5XW"
   },
   "outputs": [],
   "source": [
    "xmin = -825000\n",
    "xmax = 25000"
   ]
  },
  {
   "cell_type": "markdown",
   "id": "04pOCY4oQ5XW",
   "metadata": {
    "id": "04pOCY4oQ5XW"
   },
   "source": [
    "<a name=\"function-to-create-the-graphic\"></a>\n",
    "## **Function to create the graphic**"
   ]
  },
  {
   "cell_type": "code",
   "execution_count": 52,
   "id": "KfhSBznlQ5XW",
   "metadata": {
    "colab": {
     "base_uri": "https://localhost:8080/",
     "height": 414
    },
    "id": "KfhSBznlQ5XW",
    "outputId": "a69c925c-f727-4637-dd47-03592967a8f2"
   },
   "outputs": [],
   "source": [
    "def create_graphic(msg_out, graphic_out, xmin, xmax, ymin, ymax, xlabel, ylabel, title1, title2, combined_years_before_now, combined_co2, btn):\n",
    "\n",
    "    msg_out.clear_output()\n",
    "    graphic_out.clear_output()\n",
    "\n",
    "    # create a figure container\n",
    "    fig = plt.figure()\n",
    "\n",
    "    # Set axes\n",
    "    # Add padding for exterior plot text\n",
    "    ax = plt.axes([0.11, 0.12, 0.83, 0.54])\n",
    "\n",
    "    # ---------------------------------------------------\n",
    "    # Context manager \n",
    "    # \n",
    "    # Used to show messages while creating the animiation\n",
    "    # ---------------------------------------------------\n",
    "\n",
    "    with ShowProgressContextManagerWidgets(msg_out, 'Create Graphic') as progress:\n",
    "\n",
    "        # ------------------------\n",
    "        # Add gradient under curve\n",
    "        # ------------------------\n",
    "\n",
    "        # The gradient is a guide to the eye\n",
    "\n",
    "        # Set gradient limits to the data limits\n",
    "\n",
    "        # Reverse the order of the arrays for the gradient to plot left to right\n",
    "        # This order is necessary for the gradient to plot properly\n",
    "        combined_years_before_now =  np.flipud(combined_years_before_now)\n",
    "        combined_co2 = np.flipud(combined_co2)\n",
    "\n",
    "        # Plot gradiant starting at start of data (want negative value of max years back)\n",
    "        data_start_date = -max(combined_years_before_now)\n",
    "        data_end_date = -min(combined_years_before_now)\n",
    "\n",
    "        area_color = '#73a7e6'\n",
    "\n",
    "        gradient_fill(-combined_years_before_now, combined_co2, fill_color=area_color, \n",
    "                    xmin=data_start_date, ymin=ymin, xmax=data_end_date, ymax=ymax, \n",
    "                    ax=ax, alpha_bottom=0.1, alpha=1.0)\n",
    "\n",
    "\n",
    "        # -------------\n",
    "        # Plot the data\n",
    "        # -------------\n",
    "\n",
    "        # Set plotting zorder above the gradient\n",
    "\n",
    "        # Plot years back in time (left of 0) so use negative of values\n",
    "        # Because want increasing years before now to appear farther left on x axis\n",
    "        ax.plot(-combined_years_before_now, combined_co2, '-', color='black', linewidth=0.75, zorder=5)\n",
    "\n",
    "        # -----------------------------------------------------\n",
    "        # Change xaxis to use date labels and not decimal dates\n",
    "        # -----------------------------------------------------\n",
    "        create_xtick_labels(ax, xmin, xmax)\n",
    "\n",
    "        # -------------------\n",
    "        # Set plot properties\n",
    "        # -------------------\n",
    "        set_plot_props(ax, fig, xmin, xmax, ymin, ymax, xlabel, ylabel)\n",
    "\n",
    "        # ---------------\n",
    "        # Add date arrows\n",
    "        # ---------------\n",
    "        apply_arrow_annotations(todays_decimal, mlo_date, mlo_co2)\n",
    "\n",
    "        # ---------------\n",
    "        # Add plot titles\n",
    "        # ---------------\n",
    "        add_plot_title(ax, title1, title2)\n",
    "\n",
    "        # --------------\n",
    "        # Add inset text\n",
    "        # --------------\n",
    "        inset_text = f'Last updated {todays_date_modyyr}'\n",
    "        add_inset_label(ax, inset_text)\n",
    "\n",
    "        # ------------\n",
    "        # Save graphic\n",
    "        # ------------\n",
    "        fig = plt.gcf()\n",
    "\n",
    "        save_graphic(fig, pdf_file, png_file)\n",
    "\n",
    "    with graphic_out:\n",
    "\n",
    "        plt.show()"
   ]
  },
  {
   "cell_type": "markdown",
   "id": "840c2cd4",
   "metadata": {},
   "source": [
    "<a name='button-to-create-and-save-the-graphic'></a>\n",
    "## **Button to create and save the graphic**"
   ]
  },
  {
   "cell_type": "code",
   "execution_count": 53,
   "id": "99828f71",
   "metadata": {},
   "outputs": [
    {
     "data": {
      "application/vnd.jupyter.widget-view+json": {
       "model_id": "74c8062fce8544c199d7247f31bd8564",
       "version_major": 2,
       "version_minor": 0
      },
      "text/plain": [
       "Button(button_style='primary', description='Create Graphic', style=ButtonStyle())"
      ]
     },
     "metadata": {},
     "output_type": "display_data"
    },
    {
     "data": {
      "application/vnd.jupyter.widget-view+json": {
       "model_id": "5bf62aacf71d46ab98d003dc9a7fd10d",
       "version_major": 2,
       "version_minor": 0
      },
      "text/plain": [
       "Output()"
      ]
     },
     "metadata": {},
     "output_type": "display_data"
    },
    {
     "data": {
      "application/vnd.jupyter.widget-view+json": {
       "model_id": "c2a4a6167fc144a9a7d04af712ab7eaa",
       "version_major": 2,
       "version_minor": 0
      },
      "text/plain": [
       "Output()"
      ]
     },
     "metadata": {},
     "output_type": "display_data"
    }
   ],
   "source": [
    "msg_out = widgets.Output()\n",
    "graphic_out = widgets.Output()\n",
    "\n",
    "button = widgets.Button(description='Create Graphic', button_style='primary')\n",
    "button.on_click(functools.partial(create_graphic, msg_out, graphic_out, xmin, xmax, ymin, ymax, xlabel, ylabel, title1, title2, combined_years_before_now, combined_co2))\n",
    "display(button)\n",
    "\n",
    "display(msg_out)\n",
    "display(graphic_out)"
   ]
  },
  {
   "cell_type": "markdown",
   "id": "1KjN7SwCsJLd",
   "metadata": {
    "id": "1KjN7SwCsJLd"
   },
   "source": [
    "## **Button to download PDF & PNG files of the graphic**\n",
    "\n",
    "The download button only works when the notebook is run with Google Colab\n",
    "\n",
    "If the notebook is run on a local machine, the graphics are inside the plots directory"
   ]
  },
  {
   "cell_type": "code",
   "execution_count": 54,
   "id": "go3N0EbjsJmQ",
   "metadata": {
    "colab": {
     "base_uri": "https://localhost:8080/",
     "height": 49,
     "referenced_widgets": [
      "e6165cd787824a949e2b999e17e62e0d",
      "29b539478ca045858a1438d6ac6c34b2",
      "59a8e1b37911413983e4c6b13d4824dd"
     ]
    },
    "id": "go3N0EbjsJmQ",
    "outputId": "54eca34b-1b1a-4cb3-aab5-fb2ef33b1023"
   },
   "outputs": [
    {
     "data": {
      "application/vnd.jupyter.widget-view+json": {
       "model_id": "43f6ca59fb944624891418ed8334bb2a",
       "version_major": 2,
       "version_minor": 0
      },
      "text/plain": [
       "Button(button_style='primary', description='Download Graphic Files', layout=Layout(height='auto', width='auto'…"
      ]
     },
     "metadata": {},
     "output_type": "display_data"
    },
    {
     "data": {
      "application/vnd.jupyter.widget-view+json": {
       "model_id": "3d3662d833cd4e1886c06f5d04b04455",
       "version_major": 2,
       "version_minor": 0
      },
      "text/plain": [
       "Output()"
      ]
     },
     "metadata": {},
     "output_type": "display_data"
    }
   ],
   "source": [
    "def download_files(msg_out, btn):\n",
    "\n",
    "    msg_out.clear_output()\n",
    "\n",
    "    try:\n",
    "        files.download(png_file)\n",
    "        files.download(pdf_file)\n",
    "    except:\n",
    "        with msg_out:\n",
    "            print(\"If running notebook in Google Colab:\")\n",
    "            print(\"Need to create the graphic first.\")\n",
    "            print(f\"\\nIf running in a python environment, the graphics are in the plots directory.\")\n",
    "\n",
    "\n",
    "msg_out = widgets.Output()\n",
    "\n",
    "button = widgets.Button(description=\"Download Graphic Files\", button_style=\"primary\")\n",
    "\n",
    "layout = widgets.Layout(width='auto', height='auto') #set width and height\n",
    "\n",
    "button = widgets.Button(\n",
    "    description='Download Graphic Files',\n",
    "    disabled=False,\n",
    "    display='flex',\n",
    "    flex_flow='column',\n",
    "    align_items='stretch', \n",
    "    button_style='primary',\n",
    "    layout = layout\n",
    ")   \n",
    "\n",
    "button.on_click(functools.partial(download_files, msg_out))\n",
    "\n",
    "display(button)\n",
    "display(msg_out)"
   ]
  },
  {
   "cell_type": "code",
   "execution_count": null,
   "id": "QI6i9-f4Q5XW",
   "metadata": {
    "id": "QI6i9-f4Q5XW"
   },
   "outputs": [],
   "source": []
  }
 ],
 "metadata": {
  "colab": {
   "include_colab_link": true,
   "name": "plot_icecore_back_800K_keelingcurve.ipynb",
   "provenance": []
  },
  "kernelspec": {
   "display_name": "Python 3.8.5 64-bit ('notebooks')",
   "language": "python",
   "name": "python3"
  },
  "language_info": {
   "codemirror_mode": {
    "name": "ipython",
    "version": 3
   },
   "file_extension": ".py",
   "mimetype": "text/x-python",
   "name": "python",
   "nbconvert_exporter": "python",
   "pygments_lexer": "ipython3",
   "version": "3.8.5"
  },
  "vscode": {
   "interpreter": {
    "hash": "756fd7f3f44ab1b408c61a336bc63dd8b2b1c2a4bc9346285fbb85e9c22b620b"
   }
  },
  "widgets": {
   "application/vnd.jupyter.widget-state+json": {
    "29b539478ca045858a1438d6ac6c34b2": {
     "model_module": "@jupyter-widgets/controls",
     "model_module_version": "1.5.0",
     "model_name": "ButtonStyleModel",
     "state": {
      "_model_module": "@jupyter-widgets/controls",
      "_model_module_version": "1.5.0",
      "_model_name": "ButtonStyleModel",
      "_view_count": null,
      "_view_module": "@jupyter-widgets/base",
      "_view_module_version": "1.2.0",
      "_view_name": "StyleView",
      "button_color": null,
      "font_weight": ""
     }
    },
    "59a8e1b37911413983e4c6b13d4824dd": {
     "model_module": "@jupyter-widgets/base",
     "model_module_version": "1.2.0",
     "model_name": "LayoutModel",
     "state": {
      "_model_module": "@jupyter-widgets/base",
      "_model_module_version": "1.2.0",
      "_model_name": "LayoutModel",
      "_view_count": null,
      "_view_module": "@jupyter-widgets/base",
      "_view_module_version": "1.2.0",
      "_view_name": "LayoutView",
      "align_content": null,
      "align_items": null,
      "align_self": null,
      "border": null,
      "bottom": null,
      "display": null,
      "flex": null,
      "flex_flow": null,
      "grid_area": null,
      "grid_auto_columns": null,
      "grid_auto_flow": null,
      "grid_auto_rows": null,
      "grid_column": null,
      "grid_gap": null,
      "grid_row": null,
      "grid_template_areas": null,
      "grid_template_columns": null,
      "grid_template_rows": null,
      "height": null,
      "justify_content": null,
      "justify_items": null,
      "left": null,
      "margin": null,
      "max_height": null,
      "max_width": null,
      "min_height": null,
      "min_width": null,
      "object_fit": null,
      "object_position": null,
      "order": null,
      "overflow": null,
      "overflow_x": null,
      "overflow_y": null,
      "padding": null,
      "right": null,
      "top": null,
      "visibility": null,
      "width": null
     }
    },
    "e6165cd787824a949e2b999e17e62e0d": {
     "model_module": "@jupyter-widgets/controls",
     "model_module_version": "1.5.0",
     "model_name": "ButtonModel",
     "state": {
      "_dom_classes": [],
      "_model_module": "@jupyter-widgets/controls",
      "_model_module_version": "1.5.0",
      "_model_name": "ButtonModel",
      "_view_count": null,
      "_view_module": "@jupyter-widgets/controls",
      "_view_module_version": "1.5.0",
      "_view_name": "ButtonView",
      "button_style": "primary",
      "description": "Download Files",
      "disabled": false,
      "icon": "",
      "layout": "IPY_MODEL_59a8e1b37911413983e4c6b13d4824dd",
      "style": "IPY_MODEL_29b539478ca045858a1438d6ac6c34b2",
      "tooltip": ""
     }
    }
   }
  }
 },
 "nbformat": 4,
 "nbformat_minor": 5
}
