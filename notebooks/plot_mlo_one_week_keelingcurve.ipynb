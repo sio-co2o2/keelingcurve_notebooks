{
  "cells": [
    {
      "cell_type": "markdown",
      "metadata": {
        "id": "view-in-github",
        "colab_type": "text"
      },
      "source": [
        "<a href=\"https://colab.research.google.com/github/sio-co2o2/keelingcurve_notebooks/blob/main/notebooks/plot_mlo_one_week_keelingcurve.ipynb\" target=\"_parent\"><img src=\"https://colab.research.google.com/assets/colab-badge.svg\" alt=\"Open In Colab\"/></a>"
      ]
    },
    {
      "cell_type": "markdown",
      "source": [
        "# Plot last week of CO2 at Mauna Loa, Hawaii"
      ],
      "metadata": {
        "id": "Sb2FjadjB1zn"
      },
      "id": "Sb2FjadjB1zn"
    },
    {
      "cell_type": "markdown",
      "source": [
        "### The Keeling Curve\n",
        "https://keelingcurve.ucsd.edu\n",
        "\n",
        "This notebook creates pdf and png plot versions."
      ],
      "metadata": {
        "id": "2PSHz5OjB1zq"
      },
      "id": "2PSHz5OjB1zq"
    },
    {
      "cell_type": "markdown",
      "source": [
        "## Import packages"
      ],
      "metadata": {
        "id": "GGTd63Q3B1zr"
      },
      "id": "GGTd63Q3B1zr"
    },
    {
      "cell_type": "code",
      "execution_count": null,
      "source": [
        "import re\n",
        "import pandas as pd\n",
        "import numpy as np\n",
        "from datetime import datetime, date, timedelta\n",
        "from dateutil.relativedelta import relativedelta\n",
        "import pathlib\n",
        "import matplotlib.image as mpimg\n",
        "import matplotlib.pyplot as plt\n",
        "from matplotlib.pyplot import figure\n",
        "from matplotlib.ticker import (MultipleLocator, AutoMinorLocator)\n",
        "from matplotlib import ticker\n",
        "from matplotlib import rc,rcParams\n",
        "from matplotlib.path import Path\n",
        "import matplotlib.colors as mcolors\n",
        "from matplotlib.patches import Polygon\n",
        "import matplotlib.dates as mdates\n",
        "import matplotlib.lines as mlines\n",
        "from scipy.interpolate import UnivariateSpline\n",
        "from scipy import interpolate\n",
        "import matplotlib.transforms\n",
        "from google.colab import files\n",
        "from matplotlib import animation\n",
        "from ipywidgets import widgets\n",
        "from IPython.display import HTML\n",
        "from base64 import b64encode\n",
        "\n",
        "%matplotlib inline"
      ],
      "outputs": [],
      "metadata": {
        "id": "OR3Um-cXB1zr"
      },
      "id": "OR3Um-cXB1zr"
    },
    {
      "cell_type": "markdown",
      "source": [
        "## Set directories and file names for data,  plot, and logo"
      ],
      "metadata": {
        "id": "tghi9jH5B1zt"
      },
      "id": "tghi9jH5B1zt"
    },
    {
      "cell_type": "code",
      "execution_count": null,
      "source": [
        "# Read in data from github repository\n",
        "# One week of data is part of this file\n",
        "data_file = 'https://raw.githubusercontent.com/sio-co2o2/keelingcurve_notebooks/main/data/mlo/mlo_one_month_span.csv'\n",
        "\n",
        "logo_file = 'https://github.com/sio-co2o2/keelingcurve_notebooks/raw/main/images/sio_logo.png'\n",
        "\n",
        "plot_dir = pathlib.Path('./plots')\n",
        "plot_dir.mkdir(exist_ok=True)\n",
        "\n",
        "plot_basename = 'mlo_one_week'\n",
        "\n",
        "pdf_file = plot_dir / f\"{plot_basename}.pdf\"\n",
        "png_file = plot_dir / f\"{plot_basename}.png\""
      ],
      "outputs": [],
      "metadata": {
        "id": "LTxPcMtCB1zt"
      },
      "id": "LTxPcMtCB1zt"
    },
    {
      "cell_type": "markdown",
      "source": [
        "## Load in Data and process"
      ],
      "metadata": {
        "id": "ZroDtvIHB1zu"
      },
      "id": "ZroDtvIHB1zu"
    },
    {
      "cell_type": "code",
      "execution_count": null,
      "source": [
        "df = pd.read_csv(data_file,sep=',',comment='\"')\n",
        "df.head()"
      ],
      "outputs": [
        {
          "output_type": "execute_result",
          "data": {
            "text/html": [
              "\n",
              "  <div id=\"df-9ec83cfa-b5a6-434b-a37e-889381646d7a\">\n",
              "    <div class=\"colab-df-container\">\n",
              "      <div>\n",
              "<style scoped>\n",
              "    .dataframe tbody tr th:only-of-type {\n",
              "        vertical-align: middle;\n",
              "    }\n",
              "\n",
              "    .dataframe tbody tr th {\n",
              "        vertical-align: top;\n",
              "    }\n",
              "\n",
              "    .dataframe thead th {\n",
              "        text-align: right;\n",
              "    }\n",
              "</style>\n",
              "<table border=\"1\" class=\"dataframe\">\n",
              "  <thead>\n",
              "    <tr style=\"text-align: right;\">\n",
              "      <th></th>\n",
              "      <th>date_hr</th>\n",
              "      <th>co2_hr</th>\n",
              "      <th>date_dy</th>\n",
              "      <th>co2_dy</th>\n",
              "      <th>date_wk</th>\n",
              "      <th>co2_wk</th>\n",
              "    </tr>\n",
              "  </thead>\n",
              "  <tbody>\n",
              "    <tr>\n",
              "      <th>0</th>\n",
              "      <td>2021.860316</td>\n",
              "      <td>414.90</td>\n",
              "      <td>2021.861644</td>\n",
              "      <td>415.29</td>\n",
              "      <td>2021.865753</td>\n",
              "      <td>414.77</td>\n",
              "    </tr>\n",
              "    <tr>\n",
              "      <th>1</th>\n",
              "      <td>2021.860354</td>\n",
              "      <td>414.89</td>\n",
              "      <td>2021.864384</td>\n",
              "      <td>415.44</td>\n",
              "      <td>2021.884932</td>\n",
              "      <td>414.91</td>\n",
              "    </tr>\n",
              "    <tr>\n",
              "      <th>2</th>\n",
              "      <td>2021.860377</td>\n",
              "      <td>414.93</td>\n",
              "      <td>2021.867123</td>\n",
              "      <td>414.51</td>\n",
              "      <td>2021.904110</td>\n",
              "      <td>415.58</td>\n",
              "    </tr>\n",
              "    <tr>\n",
              "      <th>3</th>\n",
              "      <td>2021.860457</td>\n",
              "      <td>414.97</td>\n",
              "      <td>2021.869863</td>\n",
              "      <td>414.36</td>\n",
              "      <td>2021.923288</td>\n",
              "      <td>415.77</td>\n",
              "    </tr>\n",
              "    <tr>\n",
              "      <th>4</th>\n",
              "      <td>2021.860546</td>\n",
              "      <td>414.91</td>\n",
              "      <td>2021.872603</td>\n",
              "      <td>414.39</td>\n",
              "      <td>2021.942466</td>\n",
              "      <td>415.91</td>\n",
              "    </tr>\n",
              "  </tbody>\n",
              "</table>\n",
              "</div>\n",
              "      <button class=\"colab-df-convert\" onclick=\"convertToInteractive('df-9ec83cfa-b5a6-434b-a37e-889381646d7a')\"\n",
              "              title=\"Convert this dataframe to an interactive table.\"\n",
              "              style=\"display:none;\">\n",
              "        \n",
              "  <svg xmlns=\"http://www.w3.org/2000/svg\" height=\"24px\"viewBox=\"0 0 24 24\"\n",
              "       width=\"24px\">\n",
              "    <path d=\"M0 0h24v24H0V0z\" fill=\"none\"/>\n",
              "    <path d=\"M18.56 5.44l.94 2.06.94-2.06 2.06-.94-2.06-.94-.94-2.06-.94 2.06-2.06.94zm-11 1L8.5 8.5l.94-2.06 2.06-.94-2.06-.94L8.5 2.5l-.94 2.06-2.06.94zm10 10l.94 2.06.94-2.06 2.06-.94-2.06-.94-.94-2.06-.94 2.06-2.06.94z\"/><path d=\"M17.41 7.96l-1.37-1.37c-.4-.4-.92-.59-1.43-.59-.52 0-1.04.2-1.43.59L10.3 9.45l-7.72 7.72c-.78.78-.78 2.05 0 2.83L4 21.41c.39.39.9.59 1.41.59.51 0 1.02-.2 1.41-.59l7.78-7.78 2.81-2.81c.8-.78.8-2.07 0-2.86zM5.41 20L4 18.59l7.72-7.72 1.47 1.35L5.41 20z\"/>\n",
              "  </svg>\n",
              "      </button>\n",
              "      \n",
              "  <style>\n",
              "    .colab-df-container {\n",
              "      display:flex;\n",
              "      flex-wrap:wrap;\n",
              "      gap: 12px;\n",
              "    }\n",
              "\n",
              "    .colab-df-convert {\n",
              "      background-color: #E8F0FE;\n",
              "      border: none;\n",
              "      border-radius: 50%;\n",
              "      cursor: pointer;\n",
              "      display: none;\n",
              "      fill: #1967D2;\n",
              "      height: 32px;\n",
              "      padding: 0 0 0 0;\n",
              "      width: 32px;\n",
              "    }\n",
              "\n",
              "    .colab-df-convert:hover {\n",
              "      background-color: #E2EBFA;\n",
              "      box-shadow: 0px 1px 2px rgba(60, 64, 67, 0.3), 0px 1px 3px 1px rgba(60, 64, 67, 0.15);\n",
              "      fill: #174EA6;\n",
              "    }\n",
              "\n",
              "    [theme=dark] .colab-df-convert {\n",
              "      background-color: #3B4455;\n",
              "      fill: #D2E3FC;\n",
              "    }\n",
              "\n",
              "    [theme=dark] .colab-df-convert:hover {\n",
              "      background-color: #434B5C;\n",
              "      box-shadow: 0px 1px 3px 1px rgba(0, 0, 0, 0.15);\n",
              "      filter: drop-shadow(0px 1px 2px rgba(0, 0, 0, 0.3));\n",
              "      fill: #FFFFFF;\n",
              "    }\n",
              "  </style>\n",
              "\n",
              "      <script>\n",
              "        const buttonEl =\n",
              "          document.querySelector('#df-9ec83cfa-b5a6-434b-a37e-889381646d7a button.colab-df-convert');\n",
              "        buttonEl.style.display =\n",
              "          google.colab.kernel.accessAllowed ? 'block' : 'none';\n",
              "\n",
              "        async function convertToInteractive(key) {\n",
              "          const element = document.querySelector('#df-9ec83cfa-b5a6-434b-a37e-889381646d7a');\n",
              "          const dataTable =\n",
              "            await google.colab.kernel.invokeFunction('convertToInteractive',\n",
              "                                                     [key], {});\n",
              "          if (!dataTable) return;\n",
              "\n",
              "          const docLinkHtml = 'Like what you see? Visit the ' +\n",
              "            '<a target=\"_blank\" href=https://colab.research.google.com/notebooks/data_table.ipynb>data table notebook</a>'\n",
              "            + ' to learn more about interactive tables.';\n",
              "          element.innerHTML = '';\n",
              "          dataTable['output_type'] = 'display_data';\n",
              "          await google.colab.output.renderOutput(dataTable, element);\n",
              "          const docLink = document.createElement('div');\n",
              "          docLink.innerHTML = docLinkHtml;\n",
              "          element.appendChild(docLink);\n",
              "        }\n",
              "      </script>\n",
              "    </div>\n",
              "  </div>\n",
              "  "
            ],
            "text/plain": [
              "       date_hr  co2_hr      date_dy  co2_dy      date_wk  co2_wk\n",
              "0  2021.860316  414.90  2021.861644  415.29  2021.865753  414.77\n",
              "1  2021.860354  414.89  2021.864384  415.44  2021.884932  414.91\n",
              "2  2021.860377  414.93  2021.867123  414.51  2021.904110  415.58\n",
              "3  2021.860457  414.97  2021.869863  414.36  2021.923288  415.77\n",
              "4  2021.860546  414.91  2021.872603  414.39  2021.942466  415.91"
            ]
          },
          "metadata": {},
          "execution_count": 3
        }
      ],
      "metadata": {
        "colab": {
          "base_uri": "https://localhost:8080/",
          "height": 206
        },
        "id": "0wxM3YHRB1zu",
        "outputId": "4cd3fc54-f872-4963-a8bf-7399a2b75cd8"
      },
      "id": "0wxM3YHRB1zu"
    },
    {
      "cell_type": "markdown",
      "source": [
        "### Break into dataframes for each time frequency"
      ],
      "metadata": {
        "id": "rQcKx1mSB1zv"
      },
      "id": "rQcKx1mSB1zv"
    },
    {
      "cell_type": "code",
      "execution_count": null,
      "source": [
        "df_hourly = df[['date_hr', 'co2_hr']].copy()\n",
        "df_daily = df[['date_dy', 'co2_dy']].copy()"
      ],
      "outputs": [],
      "metadata": {
        "id": "C8Md-_N7B1zw"
      },
      "id": "C8Md-_N7B1zw"
    },
    {
      "cell_type": "markdown",
      "source": [
        "### Remove rows with fill values NaN"
      ],
      "metadata": {
        "id": "5P8VWag_B1zw"
      },
      "id": "5P8VWag_B1zw"
    },
    {
      "cell_type": "code",
      "execution_count": null,
      "source": [
        "df_hourly = df_hourly[df_hourly['co2_hr'].notnull()]\n",
        "df_daily = df_daily[df_daily['co2_dy'].notnull()]"
      ],
      "outputs": [],
      "metadata": {
        "scrolled": true,
        "id": "MCT4LQSRB1zx"
      },
      "id": "MCT4LQSRB1zx"
    },
    {
      "cell_type": "markdown",
      "source": [
        "### Convert to numpy arrays for plotting"
      ],
      "metadata": {
        "id": "y1gIhAndB1zx"
      },
      "id": "y1gIhAndB1zx"
    },
    {
      "cell_type": "code",
      "execution_count": null,
      "source": [
        "date_hourly = df_hourly['date_hr'].to_numpy()\n",
        "co2_hourly = df_hourly['co2_hr'].to_numpy()\n",
        "date_daily = df_daily['date_dy'].to_numpy()\n",
        "co2_daily = df_daily['co2_dy'].to_numpy()"
      ],
      "outputs": [],
      "metadata": {
        "id": "llV7-2xXB1zx"
      },
      "id": "llV7-2xXB1zx"
    },
    {
      "cell_type": "markdown",
      "source": [
        "### Convert decimal year to datetime for plotting"
      ],
      "metadata": {
        "id": "WYyBlZUsB1zx"
      },
      "id": "WYyBlZUsB1zx"
    },
    {
      "cell_type": "code",
      "execution_count": null,
      "source": [
        "#  https://stackoverflow.com/questions/19305991/convert-fractional-years-to-a-real-date-in-python\n",
        "def t2dt(atime):\n",
        "    \"\"\"\n",
        "    Convert atime (a float) to DT.datetime\n",
        "    This is the inverse of dt2t.\n",
        "    assert dt2t(t2dt(atime)) == atime\n",
        "    \"\"\"\n",
        "    year = int(atime)\n",
        "    remainder = atime - year\n",
        "    boy = datetime(year, 1, 1)\n",
        "    eoy = datetime(year + 1, 1, 1)\n",
        "    seconds = remainder * (eoy - boy).total_seconds()\n",
        "    return boy + timedelta(seconds=seconds)"
      ],
      "outputs": [],
      "metadata": {
        "id": "O3sUtwjLB1zy"
      },
      "id": "O3sUtwjLB1zy"
    },
    {
      "cell_type": "code",
      "execution_count": null,
      "source": [
        "datetime_hourly = np.array([t2dt(x) for x in date_hourly])\n",
        "datetime_daily = np.array([t2dt(x) for x in date_daily])"
      ],
      "outputs": [],
      "metadata": {
        "id": "jyB-r-J9B1zy"
      },
      "id": "jyB-r-J9B1zy"
    },
    {
      "cell_type": "markdown",
      "source": [
        "## Define plot functions"
      ],
      "metadata": {
        "id": "D2LXZ3InB1zy"
      },
      "id": "D2LXZ3InB1zy"
    },
    {
      "cell_type": "code",
      "execution_count": null,
      "source": [
        "# https://stackoverflow.com/questions/29321835/is-it-possible-to-get-color-gradients-under-curve-in-matplotlib\n",
        "# Modified to add gradient below curve and have a bottom alpha\n",
        "\n",
        "# def gradient_fill(x, y, fill_color=None, ax=None, **kwargs):\n",
        "def gradient_fill(x, y, fill_color='#FFFFFF', xmin=None, ymin=None, xmax=None, \n",
        "                  ymax=None, alpha_bottom=None, ax=None, alpha=1, zorder=1, **kwargs):\n",
        "    \"\"\"\n",
        "    Plot a line with a linear alpha gradient filled beneath it.\n",
        "\n",
        "    Parameters\n",
        "    ----------\n",
        "    x, y : array-like\n",
        "        The data values of the line.\n",
        "    fill_color : a matplotlib color specifier (string, tuple) or None\n",
        "        The color for the fill. If None, the color of the line will be used.\n",
        "    ax : a matplotlib Axes instance\n",
        "        The axes to plot on. If None, the current pyplot axes will be used.\n",
        "    Additional arguments are passed on to matplotlib's ``plot`` function.\n",
        "\n",
        "    Returns\n",
        "    -------\n",
        "    line : a Line2D instance\n",
        "        The line plotted.\n",
        "    im : an AxesImage instance\n",
        "        The transparent gradient clipped to just the area beneath the curve.\n",
        "    \"\"\"\n",
        "    if ax is None:\n",
        "        ax = plt.gca()\n",
        "\n",
        "    # Only want the gradient to show\n",
        "    #line, = ax.plot(x, y, **kwargs)\n",
        "    #if fill_color is None:\n",
        "    #    fill_color = line.get_color()\n",
        "\n",
        "    if alpha_bottom is None:\n",
        "        alpha_bottom = 0\n",
        "\n",
        "    if xmin is None:\n",
        "        xmin = x.min()\n",
        "\n",
        "    if ymin is None:\n",
        "        ymin = y.min()\n",
        "        \n",
        "    if xmax is None:\n",
        "        xmax = x.max()\n",
        "\n",
        "    if ymax is None:\n",
        "        ymax = y.max()\n",
        "        \n",
        "    if zorder is None:\n",
        "        zorder = 1\n",
        "        \n",
        "    #zorder = line.get_zorder()\n",
        "    \n",
        "    #alpha = line.get_alpha()\n",
        "    #alpha = 1.0 if alpha is None else alpha\n",
        "\n",
        "    z = np.empty((100, 1, 4), dtype=float)\n",
        "    rgb = mcolors.colorConverter.to_rgb(fill_color)\n",
        "    z[:, :, :3] = rgb\n",
        "    #z[:,:,-1] = np.linspace(0, alpha, 100)[:,None]\n",
        "    z[:, :, -1] = np.linspace(alpha_bottom, alpha, 100)[:, None]\n",
        "\n",
        "    #xmin, xmax, ymin, ymax = x.min(), x.max(), y.min(), y.max()\n",
        "    \n",
        "    im = ax.imshow(z, aspect='auto', extent=[xmin, xmax, ymin, ymax],\n",
        "                   origin='lower', zorder=zorder)\n",
        "\n",
        "    xy = np.column_stack([x, y])\n",
        "    xy = np.vstack([[xmin, ymin], xy, [xmax, ymin], [xmin, ymin]])\n",
        "    clip_path = Polygon(xy, facecolor='none', edgecolor='none', closed=True)\n",
        "    ax.add_patch(clip_path)\n",
        "    im.set_clip_path(clip_path)\n",
        "    \n",
        "    ax.autoscale(True)\n",
        "    \n",
        "    #return line, im"
      ],
      "outputs": [],
      "metadata": {
        "id": "7-W1ERwfB1zy"
      },
      "id": "7-W1ERwfB1zy"
    },
    {
      "cell_type": "code",
      "execution_count": null,
      "source": [
        "def set_matplotlib_properties():\n",
        "    \n",
        "    # Set default properties for matplotlib\n",
        "    \n",
        "    # Reset rcparams in case modified defaults in another notebook during same session \n",
        "    plt.rcParams.update(plt.rcParamsDefault)\n",
        "\n",
        "    plt.rcParams.update({'axes.linewidth':1.5})\n",
        "    \n",
        "    plt.rcParams.update({\n",
        "        \"text.usetex\": False,\n",
        "        \"font.family\": \"sans-serif\",\n",
        "        \"font.weight\":  \"normal\",\n",
        "        \"font.sans-serif\": [\"Arial\", \"Tahoma\", \"Helvetica\",\"FreeSans\", \"NimbusSans\", \"LiberationSans\",\"DejaVu Sans\"],\n",
        "        \"mathtext.default\":'regular',\n",
        "        \"mathtext.fontset\": \"dejavusans\"\n",
        "    })\n",
        "        \n",
        "    # http://phyletica.org/matplotlib-fonts/\n",
        "    # This causes matplotlib to use Type 42 (a.k.a. TrueType) fonts \n",
        "    # for PostScript and PDF files. This allows you to avoid Type 3 fonts.\n",
        "    # Turning on usetex also works\n",
        "    # Needed on Ubuntu for pdf fonts \n",
        "    plt.rcParams.update({\n",
        "      'pdf.fonttype': 42,\n",
        "        'ps.fonttype': 42 \n",
        "    })"
      ],
      "outputs": [],
      "metadata": {
        "id": "7vYiAAHbB1zz"
      },
      "id": "7vYiAAHbB1zz"
    },
    {
      "cell_type": "code",
      "execution_count": null,
      "source": [
        "def set_website_plot_props(ax, fig, xmin, xmax, ymin, ymax, xlabel, ylabel):\n",
        "\n",
        "    # ------------------------------------\n",
        "    # Set properties to use for matplotlib\n",
        "    # ------------------------------------\n",
        "    \n",
        "    set_matplotlib_properties()\n",
        "    \n",
        "    # ---------------------------------\n",
        "    # Plot properties for website plots\n",
        "    # ---------------------------------\n",
        "\n",
        "    # Allow room at top for the 2 titles\n",
        "    fig.subplots_adjust(top=0.85)\n",
        "\n",
        "    ax.tick_params(which='both', bottom=True, top=True, left=True, right=True)\n",
        "\n",
        "    ax.tick_params(axis='x', labelsize=14, pad=5)\n",
        "    ax.tick_params(axis='y', labelsize=16)\n",
        "\n",
        "    ax.tick_params(axis='x', which='major', direction='in', length=8, width=1)\n",
        "    ax.tick_params(axis='y', which='major', direction='in', length=8, width=1)\n",
        "\n",
        "    tick_spacing = 5\n",
        "    ax.yaxis.set_major_locator(ticker.MultipleLocator(tick_spacing))\n",
        "\n",
        "    labels = ax.get_xticklabels() + ax.get_yticklabels()\n",
        "    for label in labels: label.set_fontweight('bold')  \n",
        "\n",
        "    ax.tick_params(axis='x', which='minor', direction='in', length=6)\n",
        "    ax.tick_params(axis='y', which='minor', direction='in', length=4)\n",
        "\n",
        "    ax.yaxis.set_minor_locator(AutoMinorLocator(5))\n",
        "\n",
        "    ax.set_xlabel(xlabel, fontweight='bold', fontsize=18, labelpad=5)\n",
        "    ax.set_ylabel(ylabel, fontweight='bold', fontsize=18, labelpad=5)\n",
        "\n",
        "    # Set axes limits last \n",
        "    # If did before, setting xtick labels past xmin & xmax would have\n",
        "    # extended the plot limits\n",
        "    ax.set_xlim(xmin, xmax)\n",
        "    ax.set_ylim(ymin, ymax)"
      ],
      "outputs": [],
      "metadata": {
        "id": "0knyxVfMB1z0"
      },
      "id": "0knyxVfMB1z0"
    },
    {
      "cell_type": "code",
      "execution_count": null,
      "source": [
        "def create_xtick_labels(ax):\n",
        "\n",
        "    # Major ticks\n",
        "    ax.xaxis.set_major_formatter(mdates.DateFormatter('%d'))\n",
        "\n",
        "    fmt_every_day = mdates.DayLocator(interval=1)\n",
        "    ax.xaxis.set_major_locator(fmt_every_day)\n",
        "\n",
        "    fmt_half_day = mdates.HourLocator(byhour=12)\n",
        "    ax.xaxis.set_minor_locator(fmt_half_day)\n",
        "    ax.xaxis.set_minor_formatter(mdates.DateFormatter('%H %p'))\n",
        "\n",
        "    ax.tick_params(axis='x', which='both', pad=8)\n"
      ],
      "outputs": [],
      "metadata": {
        "id": "pEu1OMj5B1z0"
      },
      "id": "pEu1OMj5B1z0"
    },
    {
      "cell_type": "code",
      "execution_count": null,
      "source": [
        "def add_plot_title(ax, title1, title2):\n",
        "\n",
        "    ax.annotate(title1, xy=(0, 1.15), xycoords='axes fraction', fontsize=14,\n",
        "                horizontalalignment='left', verticalalignment='top', fontweight=\"normal\")\n",
        "    ax.annotate(title2, xy=(0, 1.07), xycoords='axes fraction', fontsize=18,\n",
        "                horizontalalignment='left', verticalalignment='top', fontweight = 'bold')"
      ],
      "outputs": [],
      "metadata": {
        "id": "5Zi3STV5B1z0"
      },
      "id": "5Zi3STV5B1z0"
    },
    {
      "cell_type": "code",
      "execution_count": null,
      "source": [
        "def add_inset_label(ax, label_start, today):\n",
        "    label_text = f\"{label_start} ending {today}\"\n",
        "    ax.annotate(label_text, xy=(0.03, 0.9), xycoords='axes fraction', fontsize=12,\n",
        "                horizontalalignment='left', verticalalignment='top')"
      ],
      "outputs": [],
      "metadata": {
        "id": "EZJWCHzMB1z1"
      },
      "id": "EZJWCHzMB1z1"
    },
    {
      "cell_type": "code",
      "execution_count": null,
      "source": [
        "def add_legend_labels(ax):\n",
        "\n",
        "    legend_1 = 'Hourly average'\n",
        "    legend_2 = 'Daily average'\n",
        "\n",
        "    legend_properties = {'weight':'bold'}\n",
        "\n",
        "    gray = '#666666'\n",
        "    gray_dot = mlines.Line2D([], [], marker='o', color=gray, markersize=4,\n",
        "                             markerfacecolor=gray, markeredgecolor=gray, markeredgewidth=0, linestyle='None')\n",
        "\n",
        "    black_filled_circle = mlines.Line2D([], [], marker = 'o', color='black',markersize=6, \n",
        "             markerfacecolor='black', markeredgecolor='black', markeredgewidth=1, linestyle='None')\n",
        "\n",
        "    \n",
        "    # Use best placement for legend\n",
        "    plt.rc('legend',fontsize=12)\n",
        "    ax.legend([gray_dot, black_filled_circle,], [legend_1, legend_2],frameon=False,borderaxespad=1,labelspacing=0.2, prop=legend_properties)"
      ],
      "outputs": [],
      "metadata": {
        "id": "hOw21YTHB1z1"
      },
      "id": "hOw21YTHB1z1"
    },
    {
      "cell_type": "code",
      "execution_count": null,
      "source": [
        "def add_sio_logo(fig, logo_file, xpos, ypos):\n",
        "\n",
        "    logo = mpimg.imread(logo_file)\n",
        "\n",
        "    fig.add_axes([xpos, ypos, 0.2, 0.2], anchor='SE', zorder=1)\n",
        "\n",
        "    plt.imshow(logo)\n",
        "    plt.axis('off')"
      ],
      "outputs": [],
      "metadata": {
        "id": "on4WXPgdB1z1"
      },
      "id": "on4WXPgdB1z1"
    },
    {
      "cell_type": "code",
      "execution_count": null,
      "source": [
        "def save_plot_for_website(fig, pdf_file, png_file):\n",
        "\n",
        "    # For pdf\n",
        "    width_in = 11\n",
        "    height_in = 8.5\n",
        "    fig.set_size_inches(width_in, height_in, forward=True)\n",
        "\n",
        "    plt.subplots_adjust(left=0.1, right=0.11, top=0.8, bottom=0.2)\n",
        "\n",
        "    fig.savefig(pdf_file, facecolor='w', edgecolor='w',\n",
        "                orientation='landscape', format=None,\n",
        "                transparent=False, pad_inches=0)\n",
        "\n",
        "    # For png\n",
        "    width_px = 1000\n",
        "    height_px = (height_in/width_in) * width_px\n",
        "\n",
        "    png_dpi = 100\n",
        "    fig.set_size_inches(width_px/png_dpi, height_px/png_dpi)\n",
        "\n",
        "    fig.savefig(png_file, facecolor='w', edgecolor='w',\n",
        "                orientation='landscape', dpi=png_dpi, pad_inches=0)"
      ],
      "outputs": [],
      "metadata": {
        "id": "8iNxsxhmB1z1"
      },
      "id": "8iNxsxhmB1z1"
    },
    {
      "cell_type": "markdown",
      "source": [
        "## Set plot limits and labeling"
      ],
      "metadata": {
        "id": "tq_fFCYOB1z1"
      },
      "id": "tq_fFCYOB1z1"
    },
    {
      "cell_type": "markdown",
      "source": [
        "### Functions to convert dates into various formats\n",
        "For plot limits and labeling"
      ],
      "metadata": {
        "id": "PII49nK3B1z1"
      },
      "id": "PII49nK3B1z1"
    },
    {
      "cell_type": "code",
      "execution_count": null,
      "source": [
        "# Function to convert datetime to a float\n",
        "def dt2t(adatetime):\n",
        "    \"\"\"\n",
        "    Convert adatetime into a float. The integer part of the float should\n",
        "    represent the year.\n",
        "    Order should be preserved. If adate<bdate, then d2t(adate)<d2t(bdate)\n",
        "    time distances should be preserved: If bdate-adate=ddate-cdate then\n",
        "    dt2t(bdate)-dt2t(adate) = dt2t(ddate)-dt2t(cdate)\n",
        "    \"\"\"\n",
        "    year = adatetime.year\n",
        "    boy = datetime(year, 1, 1)\n",
        "    eoy = datetime(year + 1, 1, 1)\n",
        "    return year + ((adatetime - boy).total_seconds() / ((eoy - boy).total_seconds()))"
      ],
      "outputs": [],
      "metadata": {
        "id": "oy33sFZjB1z2"
      },
      "id": "oy33sFZjB1z2"
    },
    {
      "cell_type": "code",
      "execution_count": null,
      "source": [
        "def get_todays_date_variations():\n",
        "    \n",
        "    now = datetime.now()\n",
        "    todays_decimal =  dt2t(now)\n",
        "    \n",
        "    today = date.today()\n",
        "\n",
        "    todays_day = today.day\n",
        "    todays_month = today.strftime(\"%B\")\n",
        "    todays_year = today.year\n",
        "    todays_date_moyr = today.strftime(\"%B %Y\")\n",
        "    todays_date_modyyr = f\"{todays_month} {todays_day}, {todays_year}\"\n",
        "\n",
        "    return todays_date_moyr, todays_date_modyyr, todays_decimal, todays_year"
      ],
      "outputs": [],
      "metadata": {
        "id": "IGoHDIXcB1z2"
      },
      "id": "IGoHDIXcB1z2"
    },
    {
      "cell_type": "code",
      "execution_count": null,
      "source": [
        "#  https://stackoverflow.com/questions/19305991/convert-fractional-years-to-a-real-date-in-python\n",
        "def t2dt(atime):\n",
        "    \"\"\"\n",
        "    Convert atime (a float) to DT.datetime\n",
        "    This is the inverse of dt2t.\n",
        "    assert dt2t(t2dt(atime)) == atime\n",
        "    \"\"\"\n",
        "    year = int(atime)\n",
        "    remainder = atime - year\n",
        "    boy = datetime(year, 1, 1)\n",
        "    eoy = datetime(year + 1, 1, 1)\n",
        "    seconds = remainder * (eoy - boy).total_seconds()\n",
        "    return boy + timedelta(seconds=seconds)"
      ],
      "outputs": [],
      "metadata": {
        "id": "Nd9XfqJxB1z2"
      },
      "id": "Nd9XfqJxB1z2"
    },
    {
      "cell_type": "code",
      "execution_count": null,
      "source": [
        "def get_data_end_date(date_data):\n",
        "    last_date = np.max(date_data)\n",
        "    last_date_datetime = t2dt(last_date)\n",
        "    \n",
        "    # Convert date format to month_name day, year\n",
        "    day = last_date_datetime.day\n",
        "    month = last_date_datetime.strftime(\"%B\")\n",
        "    year = last_date_datetime.year\n",
        "    date_modyyr = f\"{month} {day}, {year}\"\n",
        "    return date_modyyr"
      ],
      "outputs": [],
      "metadata": {
        "id": "yNCNq95vB1z2"
      },
      "id": "yNCNq95vB1z2"
    },
    {
      "cell_type": "markdown",
      "source": [
        "### Set titles and axes labels"
      ],
      "metadata": {
        "id": "uKfV5I1aB1z2"
      },
      "id": "uKfV5I1aB1z2"
    },
    {
      "cell_type": "code",
      "execution_count": null,
      "source": [
        "xlabel = ''\n",
        "ylabel = \"$\\mathregular{CO}\\\\bf{_2}$\" + \" Concentration (ppm)\"\n",
        "\n",
        "title1 = get_data_end_date(date_daily)\n",
        "title2 = 'Carbon dioxide concentration at Mauna Loa Observatory'"
      ],
      "outputs": [],
      "metadata": {
        "id": "Q33a3bdjB1z2"
      },
      "id": "Q33a3bdjB1z2"
    },
    {
      "cell_type": "markdown",
      "source": [
        "### Set yaxis min and max limits"
      ],
      "metadata": {
        "id": "sK4-R0iLB1z3"
      },
      "id": "sK4-R0iLB1z3"
    },
    {
      "cell_type": "code",
      "execution_count": null,
      "source": [
        "ymin = 405\n",
        "ymax = 430"
      ],
      "outputs": [],
      "metadata": {
        "id": "hZzmPpNwB1z3"
      },
      "id": "hZzmPpNwB1z3"
    },
    {
      "cell_type": "markdown",
      "source": [
        "### Set xaxis min and max limits as both dates and decimals"
      ],
      "metadata": {
        "id": "9jP6N6_CB1z3"
      },
      "id": "9jP6N6_CB1z3"
    },
    {
      "cell_type": "code",
      "execution_count": null,
      "source": [
        "now = datetime.now()\n",
        "time_ago = now + relativedelta(days=-7)\n",
        "\n",
        "xmin = time_ago\n",
        "xmax = now"
      ],
      "outputs": [],
      "metadata": {
        "id": "zrJDx6h8B1z3"
      },
      "id": "zrJDx6h8B1z3"
    },
    {
      "cell_type": "markdown",
      "source": [
        "## Create plot and save"
      ],
      "metadata": {
        "id": "5LCXs5WHB1z3"
      },
      "id": "5LCXs5WHB1z3"
    },
    {
      "cell_type": "code",
      "execution_count": null,
      "source": [
        "fig = plt.figure()\n",
        "\n",
        "# Add padding for exterior plot text\n",
        "ax = plt.axes([0.11, 0.12, 0.83, 0.54])\n",
        "\n",
        "\n",
        "# -------------\n",
        "# Plot the data\n",
        "# -------------\n",
        "\n",
        "gray = '#666666'\n",
        "ax.plot(datetime_hourly, co2_hourly, 'o', color=gray, markersize=4,\n",
        "        markerfacecolor=gray, markeredgecolor=gray, markeredgewidth=0, zorder=5)\n",
        "\n",
        "ax.plot(datetime_daily, co2_daily, 'o', color='black', markersize=6,\n",
        "        markerfacecolor='black', markeredgecolor='black', markeredgewidth=0, zorder=6)\n",
        "\n",
        "\n",
        "# -----------------------------------------------------\n",
        "# Change xaxis to use date labels and mark every 12 hr\n",
        "# -----------------------------------------------------\n",
        "create_xtick_labels(ax)\n",
        "\n",
        "\n",
        "# -------------------\n",
        "# Set plot properties\n",
        "# -------------------\n",
        "set_website_plot_props(ax, fig, xmin, xmax, ymin, ymax, xlabel, ylabel)\n",
        "\n",
        "# ------------------------------------------------\n",
        "# Get todays date in various formats for labeling\n",
        "# ------------------------------------------------\n",
        "todays_date_moyr, todays_date_modyyr, todays_decimal, todays_year = get_todays_date_variations()\n",
        "\n",
        "\n",
        "# ---------------\n",
        "# Add plot titles\n",
        "# ---------------\n",
        "add_plot_title(ax, title1, title2)\n",
        "\n",
        "# --------------\n",
        "# Add inset text\n",
        "# --------------\n",
        "add_inset_label(ax, 'Week', todays_date_modyyr)\n",
        "\n",
        "# ----------------\n",
        "# Add legend\n",
        "# ----------------\n",
        "add_legend_labels(ax)\n",
        "\n",
        "# --------------------\n",
        "# Add SIO logo to plot\n",
        "# --------------------\n",
        "xpos = 0.715\n",
        "ypos = 0.155\n",
        "\n",
        "add_sio_logo(fig, logo_file, xpos, ypos)\n",
        "\n",
        "\n",
        "# ---------------------\n",
        "# Save plot for website\n",
        "# ---------------------\n",
        "fig = plt.gcf()\n",
        "\n",
        "save_plot_for_website(fig, pdf_file, png_file)\n",
        "\n",
        "\n",
        "plt.show()"
      ],
      "outputs": [
        {
          "output_type": "display_data",
          "data": {
            "image/png": "[encoded data removed]",
            "text/plain": [
              "<Figure size 720x556.364 with 2 Axes>"
            ]
          },
          "metadata": {
            "needs_background": "light"
          }
        }
      ],
      "metadata": {
        "scrolled": false,
        "colab": {
          "base_uri": "https://localhost:8080/",
          "height": 395
        },
        "id": "4AF0AP5xB1z3",
        "outputId": "2ab2fce1-5c13-45bb-e305-4835582e0190"
      },
      "id": "4AF0AP5xB1z3"
    },
    {
      "cell_type": "markdown",
      "source": [
        "## Download Plots (pdf & png)"
      ],
      "metadata": {
        "id": "1o49bFZeDICu"
      },
      "id": "1o49bFZeDICu"
    },
    {
      "cell_type": "code",
      "execution_count": null,
      "source": [
        "def download_files(ev):\n",
        "    files.download(png_file)\n",
        "    files.download(pdf_file)\n",
        "\n",
        "button = widgets.Button(description='Download Files', button_style='primary')\n",
        "button.on_click(download_files)\n",
        "display(button)"
      ],
      "outputs": [
        {
          "output_type": "display_data",
          "data": {
            "application/vnd.jupyter.widget-view+json": {
              "model_id": "39cc854820f0496c8739a9073b18e844",
              "version_minor": 0,
              "version_major": 2
            },
            "text/plain": [
              "Button(button_style='primary', description='Download Files', style=ButtonStyle())"
            ]
          },
          "metadata": {}
        }
      ],
      "metadata": {
        "colab": {
          "base_uri": "https://localhost:8080/",
          "height": 49,
          "referenced_widgets": [
            "39cc854820f0496c8739a9073b18e844",
            "a3bc9d82eebd4bed867845999896cd46",
            "6a2280ab31404b3d9aa063228e3df338"
          ]
        },
        "id": "5WaYIj11B1z4",
        "outputId": "679878fe-f317-4a80-e283-3ce2419bc05a"
      },
      "id": "5WaYIj11B1z4"
    }
  ],
  "metadata": {
    "kernelspec": {
      "name": "python3",
      "display_name": "Python 3.8.5 64-bit"
    },
    "language_info": {
      "codemirror_mode": {
        "name": "ipython",
        "version": 3
      },
      "file_extension": ".py",
      "mimetype": "text/x-python",
      "name": "python",
      "nbconvert_exporter": "python",
      "pygments_lexer": "ipython3",
      "version": "3.8.5"
    },
    "interpreter": {
      "hash": "31f2aee4e71d21fbe5cf8b01ff0e069b9275f58929596ceb00d14d90e3e16cd6"
    },
    "colab": {
      "name": "plot_mlo_one_week_keelingcurve.ipynb",
      "provenance": [],
      "include_colab_link": true
    },
    "widgets": {
      "application/vnd.jupyter.widget-state+json": {
        "39cc854820f0496c8739a9073b18e844": {
          "model_module": "@jupyter-widgets/controls",
          "model_name": "ButtonModel",
          "model_module_version": "1.5.0",
          "state": {
            "_view_name": "ButtonView",
            "style": "IPY_MODEL_a3bc9d82eebd4bed867845999896cd46",
            "_dom_classes": [],
            "description": "Download Files",
            "_model_name": "ButtonModel",
            "button_style": "primary",
            "_view_module": "@jupyter-widgets/controls",
            "_model_module_version": "1.5.0",
            "tooltip": "",
            "_view_count": null,
            "disabled": false,
            "_view_module_version": "1.5.0",
            "layout": "IPY_MODEL_6a2280ab31404b3d9aa063228e3df338",
            "_model_module": "@jupyter-widgets/controls",
            "icon": ""
          }
        },
        "a3bc9d82eebd4bed867845999896cd46": {
          "model_module": "@jupyter-widgets/controls",
          "model_name": "ButtonStyleModel",
          "model_module_version": "1.5.0",
          "state": {
            "_view_name": "StyleView",
            "_model_name": "ButtonStyleModel",
            "_view_module": "@jupyter-widgets/base",
            "_model_module_version": "1.5.0",
            "_view_count": null,
            "button_color": null,
            "font_weight": "",
            "_view_module_version": "1.2.0",
            "_model_module": "@jupyter-widgets/controls"
          }
        },
        "6a2280ab31404b3d9aa063228e3df338": {
          "model_module": "@jupyter-widgets/base",
          "model_name": "LayoutModel",
          "model_module_version": "1.2.0",
          "state": {
            "_view_name": "LayoutView",
            "grid_template_rows": null,
            "right": null,
            "justify_content": null,
            "_view_module": "@jupyter-widgets/base",
            "overflow": null,
            "_model_module_version": "1.2.0",
            "_view_count": null,
            "flex_flow": null,
            "width": null,
            "min_width": null,
            "border": null,
            "align_items": null,
            "bottom": null,
            "_model_module": "@jupyter-widgets/base",
            "top": null,
            "grid_column": null,
            "overflow_y": null,
            "overflow_x": null,
            "grid_auto_flow": null,
            "grid_area": null,
            "grid_template_columns": null,
            "flex": null,
            "_model_name": "LayoutModel",
            "justify_items": null,
            "grid_row": null,
            "max_height": null,
            "align_content": null,
            "visibility": null,
            "align_self": null,
            "height": null,
            "min_height": null,
            "padding": null,
            "grid_auto_rows": null,
            "grid_gap": null,
            "max_width": null,
            "order": null,
            "_view_module_version": "1.2.0",
            "grid_template_areas": null,
            "object_position": null,
            "object_fit": null,
            "grid_auto_columns": null,
            "margin": null,
            "display": null,
            "left": null
          }
        }
      }
    }
  },
  "nbformat": 4,
  "nbformat_minor": 5
}