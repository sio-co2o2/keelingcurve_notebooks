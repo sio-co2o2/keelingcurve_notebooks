{
 "cells": [
  {
   "cell_type": "markdown",
   "id": "3e25834c",
   "metadata": {
    "colab_type": "text",
    "id": "view-in-github"
   },
   "source": [
    "<a href=\"https://colab.research.google.com/github/sio-co2o2/keelingcurve_notebooks/blob/main/notebooks/create_graphic_mlo_one_month_keelingcurve.ipynb\" target=\"_parent\"><img src=\"https://colab.research.google.com/assets/colab-badge.svg\" alt=\"Open In Colab\"/></a>"
   ]
  },
  {
   "cell_type": "markdown",
   "id": "5trLM-gDIv8O",
   "metadata": {
    "id": "5trLM-gDIv8O"
   },
   "source": [
    "# Create a graphic appearing on the Keeling Curve website\n",
    "### **Graphic: CO<sub>2</sub> record at Mauna Loa, Hawaii for the last month**"
   ]
  },
  {
   "cell_type": "markdown",
   "id": "JxrYCKJ2Iv8R",
   "metadata": {
    "id": "JxrYCKJ2Iv8R"
   },
   "source": [
    "#### This notebook creates customizable PDF and PNG images of a graphic appearing on the front page of [keelingcurve.ucsd.edu](keelingcurve.ucsd.edu).\n",
    "\n",
    "See an overview of the Keeling Curve notebooks and how to use them at [notebooks overview](https://colab.research.google.com/github/sio-co2o2/keelingcurve_notebooks/blob/main/notebooks/overview_of_notebooks_keelingcurve.ipynb)"
   ]
  },
  {
   "cell_type": "markdown",
   "id": "f43073aa",
   "metadata": {},
   "source": [
    "---\n",
    "\n",
    "### [Go to creating the graphic section](#button-to-create-and-save-the-graphic)\n",
    "\n",
    "---"
   ]
  },
  {
   "cell_type": "markdown",
   "id": "f447e22c",
   "metadata": {},
   "source": [
    "### Sample of the graphic produced by this notebook"
   ]
  },
  {
   "cell_type": "markdown",
   "id": "9543f5d4",
   "metadata": {},
   "source": [
    "![title](https://github.com/sio-co2o2/keelingcurve_notebooks/blob/main/images/sample_graphics/mlo_one_month.png?raw=1)"
   ]
  },
  {
   "cell_type": "markdown",
   "id": "c84ec15d",
   "metadata": {},
   "source": [
    "## **Notebook Code**"
   ]
  },
  {
   "cell_type": "markdown",
   "id": "jDT8BV6aIv8S",
   "metadata": {
    "id": "jDT8BV6aIv8S"
   },
   "source": [
    "### Import python packages"
   ]
  },
  {
   "cell_type": "code",
   "execution_count": 1,
   "id": "h54snReMIv8S",
   "metadata": {
    "id": "h54snReMIv8S"
   },
   "outputs": [],
   "source": [
    "import functools\n",
    "import re\n",
    "import pandas as pd\n",
    "import numpy as np\n",
    "from datetime import datetime, date, timedelta\n",
    "from dateutil.relativedelta import relativedelta\n",
    "import pathlib\n",
    "import matplotlib.image as mpimg\n",
    "import matplotlib.pyplot as plt\n",
    "from matplotlib.pyplot import figure\n",
    "from matplotlib.ticker import (MultipleLocator, AutoMinorLocator)\n",
    "from matplotlib import ticker\n",
    "from matplotlib import rc,rcParams\n",
    "from matplotlib.path import Path\n",
    "import matplotlib.colors as mcolors\n",
    "from matplotlib.patches import Polygon\n",
    "import matplotlib.dates as mdates\n",
    "import matplotlib.lines as mlines\n",
    "from scipy.interpolate import UnivariateSpline\n",
    "from scipy import interpolate\n",
    "import matplotlib.transforms\n",
    "from matplotlib import animation\n",
    "from ipywidgets import widgets\n",
    "from IPython.display import HTML, display\n",
    "from base64 import b64encode\n",
    "from PIL import Image\n",
    "import urllib\n",
    "import os\n",
    "\n",
    "%matplotlib inline"
   ]
  },
  {
   "cell_type": "code",
   "execution_count": 2,
   "id": "8b4ca1dd",
   "metadata": {},
   "outputs": [],
   "source": [
    "# This package is used to convert a vector svg into a png\n",
    "\n",
    "try:\n",
    "  from cairosvg import svg2png\n",
    "except:\n",
    "  ! pip install cairosvg\n",
    "  from cairosvg import svg2png"
   ]
  },
  {
   "cell_type": "code",
   "execution_count": 3,
   "id": "296a622b-2a07-4b34-900b-3bc237674abb",
   "metadata": {},
   "outputs": [],
   "source": [
    "# This import is to enable Google Colab to save files ane then download them\n",
    "\n",
    "# This import does not exist unless the notebook is run in Google Colab\n",
    "# Put in a try except block if user wants to use notebook off of Google Colab\n",
    "\n",
    "try:\n",
    "    from google.colab import files\n",
    "except:\n",
    "    pass"
   ]
  },
  {
   "cell_type": "markdown",
   "id": "vbnaI4gHIv8T",
   "metadata": {
    "id": "vbnaI4gHIv8T"
   },
   "source": [
    "### Set directories and file names"
   ]
  },
  {
   "cell_type": "code",
   "execution_count": 4,
   "id": "Bw62ok04Iv8U",
   "metadata": {
    "id": "Bw62ok04Iv8U"
   },
   "outputs": [],
   "source": [
    "# Read in data from github repository\n",
    "data_file = 'https://raw.githubusercontent.com/sio-co2o2/keelingcurve_notebooks/main/preliminary_data/mlo/mlo_one_month_span.csv'\n",
    "\n",
    "logo_file = 'https://github.com/sio-co2o2/keelingcurve_notebooks/raw/main/images/logos/ucsd_sio_logo.svg'\n",
    "\n",
    "plot_dir = pathlib.Path('./plots')\n",
    "plot_dir.mkdir(exist_ok=True)\n",
    "\n",
    "plot_basename = 'mlo_one_month'\n",
    "\n",
    "pdf_file = plot_dir / f\"{plot_basename}.pdf\"\n",
    "png_file = plot_dir / f\"{plot_basename}.png\""
   ]
  },
  {
   "cell_type": "markdown",
   "id": "Kj33X1F7Iv8U",
   "metadata": {
    "id": "Kj33X1F7Iv8U"
   },
   "source": [
    "## **Load in data and prepare it for plotting**"
   ]
  },
  {
   "cell_type": "markdown",
   "id": "203ac964",
   "metadata": {},
   "source": [
    "### Load in MLO record"
   ]
  },
  {
   "cell_type": "code",
   "execution_count": 5,
   "id": "DtxNINwGIv8V",
   "metadata": {
    "colab": {
     "base_uri": "https://localhost:8080/",
     "height": 206
    },
    "id": "DtxNINwGIv8V",
    "outputId": "6a91841d-f1d9-4af5-9982-b10f0ee2e39e"
   },
   "outputs": [
    {
     "data": {
      "text/html": [
       "<div>\n",
       "<style scoped>\n",
       "    .dataframe tbody tr th:only-of-type {\n",
       "        vertical-align: middle;\n",
       "    }\n",
       "\n",
       "    .dataframe tbody tr th {\n",
       "        vertical-align: top;\n",
       "    }\n",
       "\n",
       "    .dataframe thead th {\n",
       "        text-align: right;\n",
       "    }\n",
       "</style>\n",
       "<table border=\"1\" class=\"dataframe\">\n",
       "  <thead>\n",
       "    <tr style=\"text-align: right;\">\n",
       "      <th></th>\n",
       "      <th>date_hr</th>\n",
       "      <th>co2_hr</th>\n",
       "      <th>date_dy</th>\n",
       "      <th>co2_dy</th>\n",
       "      <th>date_wk</th>\n",
       "      <th>co2_wk</th>\n",
       "    </tr>\n",
       "  </thead>\n",
       "  <tbody>\n",
       "    <tr>\n",
       "      <th>0</th>\n",
       "      <td>2022.723314</td>\n",
       "      <td>414.48</td>\n",
       "      <td>2022.724658</td>\n",
       "      <td>414.33</td>\n",
       "      <td>2022.728767</td>\n",
       "      <td>414.82</td>\n",
       "    </tr>\n",
       "    <tr>\n",
       "      <th>1</th>\n",
       "      <td>2022.723352</td>\n",
       "      <td>414.42</td>\n",
       "      <td>2022.727397</td>\n",
       "      <td>414.43</td>\n",
       "      <td>2022.747945</td>\n",
       "      <td>415.12</td>\n",
       "    </tr>\n",
       "    <tr>\n",
       "      <th>2</th>\n",
       "      <td>2022.723390</td>\n",
       "      <td>414.41</td>\n",
       "      <td>2022.732877</td>\n",
       "      <td>415.35</td>\n",
       "      <td>2022.767123</td>\n",
       "      <td>414.85</td>\n",
       "    </tr>\n",
       "    <tr>\n",
       "      <th>3</th>\n",
       "      <td>2022.723428</td>\n",
       "      <td>414.41</td>\n",
       "      <td>2022.735616</td>\n",
       "      <td>414.75</td>\n",
       "      <td>2022.786301</td>\n",
       "      <td>415.31</td>\n",
       "    </tr>\n",
       "    <tr>\n",
       "      <th>4</th>\n",
       "      <td>2022.723465</td>\n",
       "      <td>414.40</td>\n",
       "      <td>2022.738356</td>\n",
       "      <td>414.93</td>\n",
       "      <td>2022.805479</td>\n",
       "      <td>415.60</td>\n",
       "    </tr>\n",
       "  </tbody>\n",
       "</table>\n",
       "</div>"
      ],
      "text/plain": [
       "       date_hr  co2_hr      date_dy  co2_dy      date_wk  co2_wk\n",
       "0  2022.723314  414.48  2022.724658  414.33  2022.728767  414.82\n",
       "1  2022.723352  414.42  2022.727397  414.43  2022.747945  415.12\n",
       "2  2022.723390  414.41  2022.732877  415.35  2022.767123  414.85\n",
       "3  2022.723428  414.41  2022.735616  414.75  2022.786301  415.31\n",
       "4  2022.723465  414.40  2022.738356  414.93  2022.805479  415.60"
      ]
     },
     "execution_count": 5,
     "metadata": {},
     "output_type": "execute_result"
    }
   ],
   "source": [
    "df = pd.read_csv(data_file,sep=',',comment='\"')\n",
    "df.head()"
   ]
  },
  {
   "cell_type": "markdown",
   "id": "4-utOXLVIv8W",
   "metadata": {
    "id": "4-utOXLVIv8W"
   },
   "source": [
    "### Break into dataframes for each time frequency"
   ]
  },
  {
   "cell_type": "code",
   "execution_count": 6,
   "id": "gqr77H-fIv8X",
   "metadata": {
    "id": "gqr77H-fIv8X"
   },
   "outputs": [],
   "source": [
    "df_hourly = df[['date_hr', 'co2_hr']].copy()\n",
    "df_daily = df[['date_dy', 'co2_dy']].copy()\n",
    "df_wk = df[['date_wk', 'co2_wk']].copy()"
   ]
  },
  {
   "cell_type": "markdown",
   "id": "0m1jr6GXIv8X",
   "metadata": {
    "id": "0m1jr6GXIv8X"
   },
   "source": [
    "### Remove rows with fill values NaN"
   ]
  },
  {
   "cell_type": "code",
   "execution_count": 7,
   "id": "aMzdWwzCIv8Y",
   "metadata": {
    "id": "aMzdWwzCIv8Y",
    "scrolled": true
   },
   "outputs": [],
   "source": [
    "df_hourly = df_hourly[df_hourly['co2_hr'].notnull()]\n",
    "df_daily = df_daily[df_daily['co2_dy'].notnull()]\n",
    "df_weekly = df_wk[df_wk['co2_wk'].notnull()]"
   ]
  },
  {
   "cell_type": "markdown",
   "id": "AasQfSJtIv8Y",
   "metadata": {
    "id": "AasQfSJtIv8Y"
   },
   "source": [
    "### Convert to numpy arrays for plotting"
   ]
  },
  {
   "cell_type": "code",
   "execution_count": 8,
   "id": "POASbpOiIv8Y",
   "metadata": {
    "id": "POASbpOiIv8Y"
   },
   "outputs": [],
   "source": [
    "date_hourly = df_hourly['date_hr'].to_numpy()\n",
    "co2_hourly = df_hourly['co2_hr'].to_numpy()\n",
    "date_daily = df_daily['date_dy'].to_numpy()\n",
    "co2_daily = df_daily['co2_dy'].to_numpy()\n",
    "date_weekly = df_weekly['date_wk'].to_numpy()\n",
    "co2_weekly = df_weekly['co2_wk'].to_numpy()"
   ]
  },
  {
   "cell_type": "markdown",
   "id": "de7d382d",
   "metadata": {},
   "source": [
    "## **Define accessory functions**"
   ]
  },
  {
   "cell_type": "markdown",
   "id": "3ae94b46",
   "metadata": {},
   "source": [
    "## Functions to convert dates into various formats\n",
    "Used for plot limits and labeling"
   ]
  },
  {
   "cell_type": "markdown",
   "id": "4cba99ea",
   "metadata": {},
   "source": [
    "### Function to convert a datetime to a float"
   ]
  },
  {
   "cell_type": "code",
   "execution_count": 9,
   "id": "7H37rVwzIv8d",
   "metadata": {
    "id": "7H37rVwzIv8d"
   },
   "outputs": [],
   "source": [
    "#  https://stackoverflow.com/questions/19305991/convert-fractional-years-to-a-real-date-in-python\n",
    "def dt2t(adatetime):\n",
    "    \"\"\"\n",
    "    Convert adatetime into a float. The integer part of the float should\n",
    "    represent the year.\n",
    "    Order should be preserved. If adate<bdate, then d2t(adate)<d2t(bdate)\n",
    "    time distances should be preserved: If bdate-adate=ddate-cdate then\n",
    "    dt2t(bdate)-dt2t(adate) = dt2t(ddate)-dt2t(cdate)\n",
    "    \"\"\"\n",
    "    year = adatetime.year\n",
    "    boy = datetime(year, 1, 1)\n",
    "    eoy = datetime(year + 1, 1, 1)\n",
    "    \n",
    "    return year + ((adatetime - boy).total_seconds() / ((eoy - boy).total_seconds()))"
   ]
  },
  {
   "cell_type": "markdown",
   "id": "dfbe8677",
   "metadata": {},
   "source": [
    "### Function to convert a float to a datetime"
   ]
  },
  {
   "cell_type": "code",
   "execution_count": 10,
   "id": "96KZXd27Iv8Z",
   "metadata": {
    "id": "96KZXd27Iv8Z"
   },
   "outputs": [],
   "source": [
    "#  https://stackoverflow.com/questions/19305991/convert-fractional-years-to-a-real-date-in-python\n",
    "def t2dt(atime):\n",
    "    \"\"\"\n",
    "    Convert atime (a float) to DT.datetime\n",
    "    This is the inverse of dt2t.\n",
    "    assert dt2t(t2dt(atime)) == atime\n",
    "    \"\"\"\n",
    "    year = int(atime)\n",
    "    remainder = atime - year\n",
    "    boy = datetime(year, 1, 1)\n",
    "    eoy = datetime(year + 1, 1, 1)\n",
    "    seconds = remainder * (eoy - boy).total_seconds()\n",
    "    \n",
    "    return boy + timedelta(seconds=seconds)"
   ]
  },
  {
   "cell_type": "markdown",
   "id": "f4f16e06",
   "metadata": {},
   "source": [
    "### Function to create various date versions for today's date"
   ]
  },
  {
   "cell_type": "code",
   "execution_count": 11,
   "id": "673b3512",
   "metadata": {},
   "outputs": [],
   "source": [
    "def get_todays_date_variations():\n",
    "    \n",
    "    now = datetime.now()\n",
    "    todays_decimal =  dt2t(now)\n",
    "    \n",
    "    today = date.today()\n",
    "\n",
    "    todays_day = today.day\n",
    "    todays_month = today.strftime(\"%B\")\n",
    "    todays_year = today.year\n",
    "    todays_date_moyr = today.strftime(\"%B %Y\")\n",
    "    todays_date_modyyr = f\"{todays_month} {todays_day}, {todays_year}\"\n",
    "\n",
    "    return todays_date_moyr, todays_date_modyyr, todays_decimal, todays_year"
   ]
  },
  {
   "cell_type": "markdown",
   "id": "489270cf",
   "metadata": {},
   "source": [
    "### Function to get the end date of data"
   ]
  },
  {
   "cell_type": "code",
   "execution_count": 12,
   "id": "3fa502a3",
   "metadata": {},
   "outputs": [],
   "source": [
    "def get_data_end_date(date_data):\n",
    "    last_date = np.max(date_data)\n",
    "    last_date_datetime = t2dt(last_date)\n",
    "    \n",
    "    # Convert date format to month_name day, year\n",
    "    day = last_date_datetime.day\n",
    "    month = last_date_datetime.strftime(\"%B\")\n",
    "    year = last_date_datetime.year\n",
    "    date_modyyr = f\"{month} {day}, {year}\"\n",
    "    return date_modyyr"
   ]
  },
  {
   "cell_type": "markdown",
   "id": "a5c7802d",
   "metadata": {},
   "source": [
    "## Function to create gradient under curve"
   ]
  },
  {
   "cell_type": "code",
   "execution_count": 13,
   "id": "0iY6-ygWIv8a",
   "metadata": {
    "id": "0iY6-ygWIv8a"
   },
   "outputs": [],
   "source": [
    "# https://stackoverflow.com/questions/29321835/is-it-possible-to-get-color-gradients-under-curve-in-matplotlib\n",
    "# Modified to add gradient below curve and have a bottom alpha\n",
    "\n",
    "# def gradient_fill(x, y, fill_color=None, ax=None, **kwargs):\n",
    "def gradient_fill(x, y, fill_color='#FFFFFF', xmin=None, ymin=None, xmax=None, \n",
    "                  ymax=None, alpha_bottom=None, ax=None, alpha=1, zorder=1, **kwargs):\n",
    "    \"\"\"\n",
    "    Plot a line with a linear alpha gradient filled beneath it.\n",
    "\n",
    "    Parameters\n",
    "    ----------\n",
    "    x, y : array-like\n",
    "        The data values of the line.\n",
    "    fill_color : a matplotlib color specifier (string, tuple) or None\n",
    "        The color for the fill. If None, the color of the line will be used.\n",
    "    ax : a matplotlib Axes instance\n",
    "        The axes to plot on. If None, the current pyplot axes will be used.\n",
    "    Additional arguments are passed on to matplotlib's ``plot`` function.\n",
    "\n",
    "    Returns\n",
    "    -------\n",
    "    line : a Line2D instance\n",
    "        The line plotted.\n",
    "    im : an AxesImage instance\n",
    "        The transparent gradient clipped to just the area beneath the curve.\n",
    "    \"\"\"\n",
    "    if ax is None:\n",
    "        ax = plt.gca()\n",
    "\n",
    "    # Only want the gradient to show\n",
    "    #line, = ax.plot(x, y, **kwargs)\n",
    "    #if fill_color is None:\n",
    "    #    fill_color = line.get_color()\n",
    "\n",
    "    if alpha_bottom is None:\n",
    "        alpha_bottom = 0\n",
    "\n",
    "    if xmin is None:\n",
    "        xmin = x.min()\n",
    "\n",
    "    if ymin is None:\n",
    "        ymin = y.min()\n",
    "        \n",
    "    if xmax is None:\n",
    "        xmax = x.max()\n",
    "\n",
    "    if ymax is None:\n",
    "        ymax = y.max()\n",
    "        \n",
    "    if zorder is None:\n",
    "        zorder = 1\n",
    "        \n",
    "    #zorder = line.get_zorder()\n",
    "    \n",
    "    #alpha = line.get_alpha()\n",
    "    #alpha = 1.0 if alpha is None else alpha\n",
    "\n",
    "    z = np.empty((100, 1, 4), dtype=float)\n",
    "    rgb = mcolors.colorConverter.to_rgb(fill_color)\n",
    "    z[:, :, :3] = rgb\n",
    "    #z[:,:,-1] = np.linspace(0, alpha, 100)[:,None]\n",
    "    z[:, :, -1] = np.linspace(alpha_bottom, alpha, 100)[:, None]\n",
    "\n",
    "    #xmin, xmax, ymin, ymax = x.min(), x.max(), y.min(), y.max()\n",
    "    \n",
    "    im = ax.imshow(z, aspect='auto', extent=[xmin, xmax, ymin, ymax],\n",
    "                   origin='lower', zorder=zorder)\n",
    "\n",
    "    xy = np.column_stack([x, y])\n",
    "    xy = np.vstack([[xmin, ymin], xy, [xmax, ymin], [xmin, ymin]])\n",
    "    clip_path = Polygon(xy, facecolor='none', edgecolor='none', closed=True)\n",
    "    ax.add_patch(clip_path)\n",
    "    im.set_clip_path(clip_path)\n",
    "    \n",
    "    ax.autoscale(True)\n",
    "    \n",
    "    #return line, im"
   ]
  },
  {
   "cell_type": "markdown",
   "id": "207529d9",
   "metadata": {},
   "source": [
    "<a name=\"functions-to-modify-graphic\"></a>\n",
    "## **Define functions that can modify the graphic**"
   ]
  },
  {
   "cell_type": "markdown",
   "id": "c2b6db97",
   "metadata": {},
   "source": [
    "### Function to set global fonts and linewidth properties"
   ]
  },
  {
   "cell_type": "code",
   "execution_count": 14,
   "id": "mG9NoI94Iv8a",
   "metadata": {
    "id": "mG9NoI94Iv8a"
   },
   "outputs": [],
   "source": [
    "def set_matplotlib_properties():\n",
    "    \n",
    "    # Set default properties for matplotlib\n",
    "    \n",
    "    # Reset rcparams in case modified defaults in another notebook during same session \n",
    "    plt.rcParams.update(plt.rcParamsDefault)\n",
    "\n",
    "    plt.rcParams.update({'axes.linewidth':1.5})\n",
    "    \n",
    "    plt.rcParams.update({\n",
    "        \"text.usetex\": False,\n",
    "        \"font.family\": \"sans-serif\",\n",
    "        \"font.weight\":  \"normal\",\n",
    "        \"font.sans-serif\": [\"Arial\", \"Tahoma\", \"Helvetica\",\"FreeSans\", \"NimbusSans\", \"LiberationSans\",\"DejaVu Sans\"],\n",
    "        \"mathtext.default\":'regular',\n",
    "        \"mathtext.fontset\": \"dejavusans\"\n",
    "    })\n",
    "        \n",
    "    # http://phyletica.org/matplotlib-fonts/\n",
    "    # This causes matplotlib to use Type 42 (a.k.a. TrueType) fonts \n",
    "    # for PostScript and PDF files. This allows you to avoid Type 3 fonts.\n",
    "    # Turning on usetex also works\n",
    "    # Needed on Ubuntu for pdf fonts \n",
    "    plt.rcParams.update({\n",
    "      'pdf.fonttype': 42,\n",
    "        'ps.fonttype': 42 \n",
    "    })"
   ]
  },
  {
   "cell_type": "markdown",
   "id": "b68202c7",
   "metadata": {},
   "source": [
    "### Function to set axes properties of the graphic"
   ]
  },
  {
   "cell_type": "code",
   "execution_count": 15,
   "id": "c-a5s8meIv8b",
   "metadata": {
    "id": "c-a5s8meIv8b"
   },
   "outputs": [],
   "source": [
    "def set_plot_props(ax, fig, xmin, xmax, ymin, ymax, xlabel, ylabel):\n",
    "\n",
    "    # ---------------------------------\n",
    "    # Plot properties for website plots\n",
    "    # ---------------------------------\n",
    "\n",
    "    # Allow room at top for the 2 titles\n",
    "    fig.subplots_adjust(top=0.85)\n",
    "\n",
    "    ax.tick_params(which='both', bottom=True, top=True, left=True, right=True)\n",
    "\n",
    "    ax.tick_params(axis='x', labelsize=12, pad=5)\n",
    "    ax.tick_params(axis='y', labelsize=16)\n",
    "\n",
    "    ax.tick_params(axis='x', which='major', direction='in', length=6, width=1)\n",
    "    ax.tick_params(axis='y', which='major', direction='in', length=8, width=1)\n",
    "\n",
    "    ax.xaxis.set_major_formatter(mdates.DateFormatter('%-d'))\n",
    "    \n",
    "    fmt_every_day = mdates.DayLocator(interval=1)\n",
    "    ax.xaxis.set_major_locator(fmt_every_day)\n",
    "    \n",
    "    tick_spacing = 5\n",
    "    ax.yaxis.set_major_locator(ticker.MultipleLocator(tick_spacing))\n",
    "\n",
    "    labels = ax.get_xticklabels() + ax.get_yticklabels()\n",
    "    for label in labels: label.set_fontweight('bold') \n",
    "\n",
    "    ax.tick_params(which='minor', direction='in', length=4)\n",
    "    \n",
    "    ax.yaxis.set_minor_locator(AutoMinorLocator(5))\n",
    "    \n",
    "    ax.tick_params(axis='x', which='minor', bottom=False)\n",
    "    \n",
    "    ax.set_xlabel(xlabel, fontweight='bold', fontsize=18, labelpad=5)\n",
    "    ax.set_ylabel(ylabel, fontweight='bold', fontsize=18, labelpad=5)\n",
    "\n",
    "    # Set axes limits last \n",
    "    # If did before, setting xtick labels past xmin & xmax would have\n",
    "    # extended the plot limits\n",
    "    ax.set_xlim(xmin, xmax)\n",
    "    ax.set_ylim(ymin, ymax)"
   ]
  },
  {
   "cell_type": "markdown",
   "id": "a4eb0054",
   "metadata": {},
   "source": [
    "### Function to create text tick labels"
   ]
  },
  {
   "cell_type": "code",
   "execution_count": 16,
   "id": "VUWApPJHIv8b",
   "metadata": {
    "id": "VUWApPJHIv8b"
   },
   "outputs": [],
   "source": [
    "def create_xtick_labels(ax, xmin, xmax):\n",
    "    \n",
    "    # Move tick labels so left aligned with tick mark\n",
    "    # to represent the day as starting at the tick mark\n",
    "    for tick in ax.xaxis.get_majorticklabels():\n",
    "        tick.set_horizontalalignment(\"left\")\n",
    "        \n",
    "    # Place the starting and ending months below the xaxis tick labels\n",
    "    start_month = xmin.month\n",
    "    start_month = date(1900, start_month, 1).strftime('%b')\n",
    "\n",
    "    label_text = start_month\n",
    "    ax.annotate(label_text, xy=(0, -0.06), xycoords='axes fraction', fontsize=10, fontweight='bold',\n",
    "                horizontalalignment='left', verticalalignment='top')\n",
    "\n",
    "    end_month = xmax.month\n",
    "    end_month = date(1900, end_month, 1).strftime('%b')\n",
    "    \n",
    "    label_text = end_month\n",
    "    ax.annotate(label_text, xy=(0.97, -0.06), xycoords='axes fraction', fontsize=10, fontweight='bold',\n",
    "                horizontalalignment='left', verticalalignment='top')\n",
    "\n",
    "    ax.tick_params(axis='x', pad=7)"
   ]
  },
  {
   "cell_type": "markdown",
   "id": "34bc6556",
   "metadata": {},
   "source": [
    "### Function to place the titles"
   ]
  },
  {
   "cell_type": "code",
   "execution_count": 17,
   "id": "s1USDb05Iv8b",
   "metadata": {
    "id": "s1USDb05Iv8b"
   },
   "outputs": [],
   "source": [
    "def add_plot_title(ax, title1, title2):\n",
    "\n",
    "    ax.annotate(title1, xy=(0, 1.15), xycoords='axes fraction', fontsize=14,\n",
    "                horizontalalignment='left', verticalalignment='top', fontweight=\"normal\")\n",
    "    ax.annotate(title2, xy=(0, 1.07), xycoords='axes fraction', fontsize=18,\n",
    "                horizontalalignment='left', verticalalignment='top', fontweight = 'bold')"
   ]
  },
  {
   "cell_type": "markdown",
   "id": "8d9acea5",
   "metadata": {},
   "source": [
    "### Function to add an inset label"
   ]
  },
  {
   "cell_type": "code",
   "execution_count": 18,
   "id": "Uo4Ac0M5Iv8c",
   "metadata": {
    "id": "Uo4Ac0M5Iv8c"
   },
   "outputs": [],
   "source": [
    "def add_inset_label(ax, label_start, today):\n",
    "    label_text = f\"{label_start} ending {today}\"\n",
    "    ax.annotate(label_text, xy=(0.03, 0.9), xycoords='axes fraction', fontsize=12,\n",
    "                horizontalalignment='left', verticalalignment='top')"
   ]
  },
  {
   "cell_type": "markdown",
   "id": "e5b31ab8",
   "metadata": {},
   "source": [
    "### Function to add legend"
   ]
  },
  {
   "cell_type": "code",
   "execution_count": 19,
   "id": "om9l0SC2Iv8c",
   "metadata": {
    "id": "om9l0SC2Iv8c"
   },
   "outputs": [],
   "source": [
    "def add_legend_labels(ax):\n",
    "\n",
    "    legend_1 = 'Hourly average'\n",
    "    legend_2 = 'Daily average'\n",
    "    legend_3 = 'Weekly average'\n",
    "    \n",
    "    legend_properties = {'weight':'bold'}\n",
    "\n",
    "    gray = '#666666'\n",
    "    gray_dot = mlines.Line2D([], [], marker = 'o', color=gray,markersize=4, \n",
    "             markerfacecolor=gray, markeredgecolor=gray, markeredgewidth=0, linestyle='None')\n",
    "\n",
    "    black_filled_circle = mlines.Line2D([], [], marker = 'o', color='black',markersize=6, \n",
    "             markerfacecolor='black', markeredgecolor='black', markeredgewidth=0, linestyle='None')\n",
    "   \n",
    "    black_filled_circle_lg = mlines.Line2D([], [], marker = 'o', color='black',markersize=9, \n",
    "             markerfacecolor='black', markeredgecolor='black', markeredgewidth=0, linestyle='None')\n",
    "   \n",
    "    # Use best placement for legend\n",
    "    plt.rc('legend',fontsize=12)\n",
    "    ax.legend([gray_dot, black_filled_circle, black_filled_circle_lg], \n",
    "              [legend_1, legend_2, legend_3],frameon=False,borderaxespad=1,\n",
    "              labelspacing=0.2, prop=legend_properties)"
   ]
  },
  {
   "cell_type": "markdown",
   "id": "7c25ad5b",
   "metadata": {},
   "source": [
    "### Function to add the SIO logo"
   ]
  },
  {
   "cell_type": "code",
   "execution_count": 20,
   "id": "57db8d08-b94c-4698-b7f3-004892d0af1e",
   "metadata": {},
   "outputs": [],
   "source": [
    "def add_sio_logo(fig, logo_file, xpos, ypos):\n",
    "\n",
    "    # Convert the logo svg file to a png file with the\n",
    "    # given scale and dpi\n",
    "    logo_png = 'logo.png'\n",
    "    svg2png(url=logo_file, write_to=logo_png, scale=10, dpi=300)\n",
    "\n",
    "    logo = mpimg.imread(logo_png)\n",
    "\n",
    "    fig.add_axes([xpos, ypos, 0.2, 0.2], anchor='SE', zorder=1)\n",
    "\n",
    "    plt.imshow(logo)\n",
    "    plt.axis('off')\n",
    "\n",
    "    # Delete the logo png version\n",
    "    os.remove(logo_png)\n"
   ]
  },
  {
   "cell_type": "markdown",
   "id": "4e9d9be6",
   "metadata": {},
   "source": [
    "### Function to save the graphic"
   ]
  },
  {
   "cell_type": "code",
   "execution_count": 21,
   "id": "25fbcf1c-bc82-482f-bb97-8abc9660ceb9",
   "metadata": {},
   "outputs": [],
   "source": [
    "def save_graphic(fig, pdf_file, png_file):\n",
    "\n",
    "    fig_width, fig_height = fig.get_size_inches()\n",
    "\n",
    "    # For pdf\n",
    "    width_in = 10\n",
    "    height_in = (fig_height/fig_width) * width_in\n",
    "\n",
    "    fig.set_size_inches(width_in, height_in)\n",
    "\n",
    "    # Save to a high dpi so that logo png file has a high resolution\n",
    "    fig.savefig(pdf_file, facecolor='w', edgecolor='w',\n",
    "                orientation='landscape', format=None,\n",
    "                transparent=False, bbox_inches='tight', dpi=600)\n",
    "\n",
    "    # For png\n",
    "    # Want a png of height 500px\n",
    "\n",
    "    # First save figure as a png and then scale to size needed\n",
    "\n",
    "    png_dpi = 300\n",
    "\n",
    "    fig.savefig(png_file, facecolor='w', edgecolor='w',\n",
    "                orientation='landscape', dpi=png_dpi, bbox_inches='tight')\n",
    "\n",
    "    # Now resize the image to be width 1000px for the\n",
    "    # keelingcurve website\n",
    "    img = Image.open(png_file)\n",
    "    img_width, img_height = img.size\n",
    "\n",
    "    # width_px = 1000\n",
    "    # img_scale = (width_px / img_width)\n",
    "    # height_px = int((float(img_height) * float(img_scale)))\n",
    "\n",
    "    height_px = 500\n",
    "    img_scale = (height_px / img_height)\n",
    "    width_px = int((float(img_width) * float(img_scale)))\n",
    "\n",
    "    img = img.resize((width_px, height_px), Image.ANTIALIAS)\n",
    "    img.save(png_file)\n"
   ]
  },
  {
   "cell_type": "markdown",
   "id": "d9e66988",
   "metadata": {},
   "source": [
    "### Function to create a Context Manager\n",
    "\n",
    "This allows a message to display in a cell while a function is running.\n",
    "Usefull for indicating a function is running."
   ]
  },
  {
   "cell_type": "code",
   "execution_count": 22,
   "id": "f7d60156",
   "metadata": {},
   "outputs": [],
   "source": [
    "class ShowProgressContextManagerWidgets:\n",
    "\n",
    "    def __init__(self, out, command=''):\n",
    "        self.out = out\n",
    "        self.command = command\n",
    "        \n",
    "    def __enter__(self):\n",
    "        css_style = \"<style>span.start { margin:0; padding: 0; color: blue; }</style>\"\n",
    "        html_str = f'<span class=\"start\">Running {self.command}...</span>'\n",
    "\n",
    "        self.out.clear_output()\n",
    "        \n",
    "        with self.out:\n",
    "            display(HTML(css_style))\n",
    "            display(HTML(html_str))\n",
    "\n",
    "        \n",
    "    def __exit__(self, exc_type, exc_value, exc_tb):\n",
    "        \n",
    "        css_style = \"<style>span.end { margin: 0; padding: 0; color: green; }</style>\"\n",
    "        html_str = '<span class=\"end\">Finished</span>'\n",
    "\n",
    "        self.out.clear_output()\n",
    "\n",
    "        with self.out:\n",
    "            display(HTML(css_style)) \n",
    "            display(HTML(html_str))\n"
   ]
  },
  {
   "cell_type": "markdown",
   "id": "4ea347c5",
   "metadata": {},
   "source": [
    "# **Steps to create the graphic**\n",
    "\n",
    "### Change any properties in the section [Functions to modify the graphic](#functions-to-modify-graphic)\n",
    "\n",
    "### Comment out any function in the overall function [create_graphic](#function-to-create-the-graphic) to remove an element from the final graphic\n",
    "\n",
    "Comment out a line by adding a # symbol in front of a statement\n"
   ]
  },
  {
   "cell_type": "markdown",
   "id": "4eb1c76e",
   "metadata": {},
   "source": [
    "## **Set properties to use for matplotlib (plotting engine)**"
   ]
  },
  {
   "cell_type": "code",
   "execution_count": 23,
   "id": "11a2a8c9",
   "metadata": {},
   "outputs": [],
   "source": [
    "set_matplotlib_properties()"
   ]
  },
  {
   "cell_type": "markdown",
   "id": "QOr6l1_FIv8Z",
   "metadata": {
    "id": "QOr6l1_FIv8Z"
   },
   "source": [
    "## **Set plot limits and labeling**"
   ]
  },
  {
   "cell_type": "markdown",
   "id": "JJNvqPiNIv8d",
   "metadata": {
    "id": "JJNvqPiNIv8d"
   },
   "source": [
    "### Set titles and axes labels"
   ]
  },
  {
   "cell_type": "code",
   "execution_count": 24,
   "id": "DTHs1dzvIv8d",
   "metadata": {
    "id": "DTHs1dzvIv8d"
   },
   "outputs": [],
   "source": [
    "xlabel = ''\n",
    "ylabel = \"$\\mathregular{CO}\\\\bf{_2}$\" + \" Concentration (ppm)\"\n",
    "\n",
    "title1 = ''\n",
    "title2 = 'Carbon dioxide concentration at Mauna Loa Observatory'"
   ]
  },
  {
   "cell_type": "markdown",
   "id": "7qBE4dtMIv8e",
   "metadata": {
    "id": "7qBE4dtMIv8e"
   },
   "source": [
    "### Set yaxis min and max limits"
   ]
  },
  {
   "cell_type": "code",
   "execution_count": 25,
   "id": "2TL5tOwIIv8e",
   "metadata": {
    "id": "2TL5tOwIIv8e"
   },
   "outputs": [],
   "source": [
    "ymin = 405\n",
    "ymax = 430"
   ]
  },
  {
   "cell_type": "markdown",
   "id": "bJw10d9qIv8e",
   "metadata": {
    "id": "bJw10d9qIv8e"
   },
   "source": [
    "### Set xaxis min and max limits as both dates and decimals"
   ]
  },
  {
   "cell_type": "code",
   "execution_count": 26,
   "id": "fNVqM9xhIv8e",
   "metadata": {
    "id": "fNVqM9xhIv8e"
   },
   "outputs": [],
   "source": [
    "now = datetime.now()\n",
    "time_ago = now + relativedelta(months=-1)\n",
    "\n",
    "xmin = time_ago\n",
    "xmax = now"
   ]
  },
  {
   "cell_type": "markdown",
   "id": "derpprDOIv8e",
   "metadata": {
    "id": "derpprDOIv8e"
   },
   "source": [
    "<a name=\"function-to-create-the-graphic\"></a>\n",
    "## **Function to create the graphic**"
   ]
  },
  {
   "cell_type": "code",
   "execution_count": 27,
   "id": "EbTYj0_mIv8e",
   "metadata": {
    "colab": {
     "base_uri": "https://localhost:8080/",
     "height": 404
    },
    "id": "EbTYj0_mIv8e",
    "outputId": "dc89c27a-570b-49a2-94fb-9eca69f7f802"
   },
   "outputs": [],
   "source": [
    "def create_graphic(msg_out, graphic_out, xmin, xmax, ymin, ymax, xlabel, ylabel, title1, title2, date_hourly, co2_hourly, date_daily, co2_daily, date_weekly, co2_weekly, btn):\n",
    "\n",
    "    msg_out.clear_output()\n",
    "    graphic_out.clear_output()\n",
    "\n",
    "    # create a figure container\n",
    "    fig = plt.figure()\n",
    "\n",
    "    # Set axes\n",
    "    # Add padding for exterior plot text\n",
    "    ax = plt.axes([0.11, 0.12, 0.83, 0.54])\n",
    "\n",
    "    # ---------------------------------------------------\n",
    "    # Context manager \n",
    "    # \n",
    "    # Used to show messages while creating the animiation\n",
    "    # ---------------------------------------------------\n",
    "\n",
    "    with ShowProgressContextManagerWidgets(msg_out, 'Create Graphic') as progress:\n",
    "\n",
    "        # ---------------------------------------------        \n",
    "        # Convert decimal year to datetime for plotting\n",
    "        # ---------------------------------------------  \n",
    "\n",
    "        datetime_hourly = np.array([t2dt(x) for x in date_hourly])\n",
    "        datetime_daily = np.array([t2dt(x) for x in date_daily])\n",
    "        datetime_weekly = np.array([t2dt(x) for x in date_weekly])\n",
    "\n",
    "        # -------------\n",
    "        # Plot the data\n",
    "        # -------------\n",
    "\n",
    "        gray = '#666666'\n",
    "        ax.plot(datetime_hourly, co2_hourly, 'o', color=gray,markersize=4, \n",
    "                markerfacecolor=gray, markeredgecolor=gray, markeredgewidth=0, zorder=5)\n",
    "\n",
    "        ax.plot(datetime_daily, co2_daily, 'o', color='black',markersize=6, \n",
    "                markerfacecolor='black', markeredgecolor='black', markeredgewidth=0, zorder=6)\n",
    "\n",
    "        ax.plot(datetime_weekly, co2_weekly, 'o', color='black',markersize=9, \n",
    "                markerfacecolor='black', markeredgecolor='black', markeredgewidth=0, zorder=7)\n",
    "\n",
    "\n",
    "        # -----------------------------------------------------\n",
    "        # Change xaxis to use date labels and not decimal dates\n",
    "        # -----------------------------------------------------\n",
    "        create_xtick_labels(ax, xmin, xmax)\n",
    "\n",
    "        # -------------------\n",
    "        # Set plot properties\n",
    "        # -------------------\n",
    "        set_plot_props(ax, fig, xmin, xmax, ymin, ymax, xlabel, ylabel)\n",
    "\n",
    "        # ------------------------------------------------\n",
    "        # Get todays date in various formats for labeling\n",
    "        # ------------------------------------------------\n",
    "        todays_date_moyr, todays_date_modyyr, todays_decimal, todays_year = get_todays_date_variations()\n",
    "\n",
    "        # ---------------\n",
    "        # Add plot titles\n",
    "        # ---------------\n",
    "        add_plot_title(ax, title1, title2)\n",
    "\n",
    "        # --------------\n",
    "        # Add inset text\n",
    "        # --------------\n",
    "        add_inset_label(ax, 'Month', todays_date_modyyr)\n",
    "\n",
    "        # ----------------\n",
    "        # Add legend\n",
    "        # ----------------\n",
    "        add_legend_labels(ax)\n",
    "\n",
    "        # --------------------\n",
    "        # Add SIO logo to plot\n",
    "        # --------------------\n",
    "        xpos = 0.715\n",
    "        ypos = 0.155\n",
    "\n",
    "        add_sio_logo(fig, logo_file, xpos, ypos)\n",
    "\n",
    "        # ------------\n",
    "        # Save graphic\n",
    "        # ------------\n",
    "        fig = plt.gcf()\n",
    "\n",
    "        save_graphic(fig, pdf_file, png_file)\n",
    "\n",
    "    with graphic_out:\n",
    "\n",
    "        plt.show()"
   ]
  },
  {
   "cell_type": "markdown",
   "id": "c30c62a0",
   "metadata": {},
   "source": [
    "<a name='button-to-create-and-save-the-graphic'></a>\n",
    "## **Button to create and save the graphic**"
   ]
  },
  {
   "cell_type": "code",
   "execution_count": 28,
   "id": "9c1d80d2",
   "metadata": {},
   "outputs": [
    {
     "data": {
      "application/vnd.jupyter.widget-view+json": {
       "model_id": "ba4b7deb2bf1490096e8a138dec36331",
       "version_major": 2,
       "version_minor": 0
      },
      "text/plain": [
       "Button(button_style='primary', description='Create Graphic', style=ButtonStyle())"
      ]
     },
     "metadata": {},
     "output_type": "display_data"
    },
    {
     "data": {
      "application/vnd.jupyter.widget-view+json": {
       "model_id": "40b7950f2b534cf8a37a75ec315f07ad",
       "version_major": 2,
       "version_minor": 0
      },
      "text/plain": [
       "Output()"
      ]
     },
     "metadata": {},
     "output_type": "display_data"
    },
    {
     "data": {
      "application/vnd.jupyter.widget-view+json": {
       "model_id": "69901a31c33145b089cddc99c20ae9de",
       "version_major": 2,
       "version_minor": 0
      },
      "text/plain": [
       "Output()"
      ]
     },
     "metadata": {},
     "output_type": "display_data"
    }
   ],
   "source": [
    "msg_out = widgets.Output()\n",
    "graphic_out = widgets.Output()\n",
    "\n",
    "button = widgets.Button(description='Create Graphic', button_style='primary')\n",
    "button.on_click(functools.partial(create_graphic, msg_out, graphic_out, xmin, xmax, ymin, ymax, xlabel, ylabel, title1, title2, date_hourly, co2_hourly, date_daily, co2_daily, date_weekly, co2_weekly))\n",
    "display(button)\n",
    "\n",
    "display(msg_out)\n",
    "display(graphic_out)"
   ]
  },
  {
   "cell_type": "markdown",
   "id": "4KiXc5p8JhM_",
   "metadata": {
    "id": "4KiXc5p8JhM_"
   },
   "source": [
    "## **Button to download PDF & PNG files of the graphic**\n",
    "\n",
    "The download button only works when the notebook is run with Google Colab\n",
    "\n",
    "If the notebook is run on a local machine, the graphics are inside the plots directory"
   ]
  },
  {
   "cell_type": "code",
   "execution_count": 29,
   "id": "Mwj8CqdRIv8f",
   "metadata": {
    "colab": {
     "base_uri": "https://localhost:8080/",
     "height": 49,
     "referenced_widgets": [
      "413f50524e0d4de3aba3d8f5b8a54463",
      "b06fb92c255e42e4b64ff78a87e1fb81",
      "d1690dd1e56d41bab2ea2263ae098892"
     ]
    },
    "id": "Mwj8CqdRIv8f",
    "outputId": "e81ad01c-e8b1-4e22-ca89-bebb23ac95b6"
   },
   "outputs": [
    {
     "data": {
      "application/vnd.jupyter.widget-view+json": {
       "model_id": "469fd3fdd3434cd7ae24f127f9501b89",
       "version_major": 2,
       "version_minor": 0
      },
      "text/plain": [
       "Button(button_style='primary', description='Download Graphic Files', layout=Layout(height='auto', width='auto'…"
      ]
     },
     "metadata": {},
     "output_type": "display_data"
    },
    {
     "data": {
      "application/vnd.jupyter.widget-view+json": {
       "model_id": "d4fcdee7384c4ff097dec3165bfae420",
       "version_major": 2,
       "version_minor": 0
      },
      "text/plain": [
       "Output()"
      ]
     },
     "metadata": {},
     "output_type": "display_data"
    }
   ],
   "source": [
    "def download_files(msg_out, btn):\n",
    "\n",
    "    msg_out.clear_output()\n",
    "\n",
    "    try:\n",
    "        files.download(png_file)\n",
    "        files.download(pdf_file)\n",
    "    except:\n",
    "        with msg_out:\n",
    "            print(\"If running notebook in Google Colab:\")\n",
    "            print(\"Need to create the graphic first.\")\n",
    "            print(f\"\\nIf running in a python environment, the graphics are in the plots directory.\")\n",
    "\n",
    "\n",
    "msg_out = widgets.Output()\n",
    "\n",
    "button = widgets.Button(description=\"Download Graphic Files\", button_style=\"primary\")\n",
    "\n",
    "layout = widgets.Layout(width='auto', height='auto') #set width and height\n",
    "\n",
    "button = widgets.Button(\n",
    "    description='Download Graphic Files',\n",
    "    disabled=False,\n",
    "    display='flex',\n",
    "    flex_flow='column',\n",
    "    align_items='stretch', \n",
    "    button_style='primary',\n",
    "    layout = layout\n",
    ")   \n",
    "\n",
    "button.on_click(functools.partial(download_files, msg_out))\n",
    "\n",
    "display(button)\n",
    "display(msg_out)"
   ]
  },
  {
   "cell_type": "code",
   "execution_count": null,
   "id": "R0tkI07BJlMq",
   "metadata": {
    "id": "R0tkI07BJlMq"
   },
   "outputs": [],
   "source": []
  }
 ],
 "metadata": {
  "colab": {
   "include_colab_link": true,
   "name": "plot_mlo_one_month_keelingcurve.ipynb",
   "provenance": []
  },
  "interpreter": {
   "hash": "756fd7f3f44ab1b408c61a336bc63dd8b2b1c2a4bc9346285fbb85e9c22b620b"
  },
  "kernelspec": {
   "display_name": "Python 3.8.5 64-bit ('notebooks')",
   "language": "python",
   "name": "python3"
  },
  "language_info": {
   "codemirror_mode": {
    "name": "ipython",
    "version": 3
   },
   "file_extension": ".py",
   "mimetype": "text/x-python",
   "name": "python",
   "nbconvert_exporter": "python",
   "pygments_lexer": "ipython3",
   "version": "3.8.5"
  },
  "widgets": {
   "application/vnd.jupyter.widget-state+json": {
    "413f50524e0d4de3aba3d8f5b8a54463": {
     "model_module": "@jupyter-widgets/controls",
     "model_module_version": "1.5.0",
     "model_name": "ButtonModel",
     "state": {
      "_dom_classes": [],
      "_model_module": "@jupyter-widgets/controls",
      "_model_module_version": "1.5.0",
      "_model_name": "ButtonModel",
      "_view_count": null,
      "_view_module": "@jupyter-widgets/controls",
      "_view_module_version": "1.5.0",
      "_view_name": "ButtonView",
      "button_style": "primary",
      "description": "Download Files",
      "disabled": false,
      "icon": "",
      "layout": "IPY_MODEL_d1690dd1e56d41bab2ea2263ae098892",
      "style": "IPY_MODEL_b06fb92c255e42e4b64ff78a87e1fb81",
      "tooltip": ""
     }
    },
    "b06fb92c255e42e4b64ff78a87e1fb81": {
     "model_module": "@jupyter-widgets/controls",
     "model_module_version": "1.5.0",
     "model_name": "ButtonStyleModel",
     "state": {
      "_model_module": "@jupyter-widgets/controls",
      "_model_module_version": "1.5.0",
      "_model_name": "ButtonStyleModel",
      "_view_count": null,
      "_view_module": "@jupyter-widgets/base",
      "_view_module_version": "1.2.0",
      "_view_name": "StyleView",
      "button_color": null,
      "font_weight": ""
     }
    },
    "d1690dd1e56d41bab2ea2263ae098892": {
     "model_module": "@jupyter-widgets/base",
     "model_module_version": "1.2.0",
     "model_name": "LayoutModel",
     "state": {
      "_model_module": "@jupyter-widgets/base",
      "_model_module_version": "1.2.0",
      "_model_name": "LayoutModel",
      "_view_count": null,
      "_view_module": "@jupyter-widgets/base",
      "_view_module_version": "1.2.0",
      "_view_name": "LayoutView",
      "align_content": null,
      "align_items": null,
      "align_self": null,
      "border": null,
      "bottom": null,
      "display": null,
      "flex": null,
      "flex_flow": null,
      "grid_area": null,
      "grid_auto_columns": null,
      "grid_auto_flow": null,
      "grid_auto_rows": null,
      "grid_column": null,
      "grid_gap": null,
      "grid_row": null,
      "grid_template_areas": null,
      "grid_template_columns": null,
      "grid_template_rows": null,
      "height": null,
      "justify_content": null,
      "justify_items": null,
      "left": null,
      "margin": null,
      "max_height": null,
      "max_width": null,
      "min_height": null,
      "min_width": null,
      "object_fit": null,
      "object_position": null,
      "order": null,
      "overflow": null,
      "overflow_x": null,
      "overflow_y": null,
      "padding": null,
      "right": null,
      "top": null,
      "visibility": null,
      "width": null
     }
    }
   }
  }
 },
 "nbformat": 4,
 "nbformat_minor": 5
}
