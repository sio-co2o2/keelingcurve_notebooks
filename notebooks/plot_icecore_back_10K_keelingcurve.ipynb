{
  "cells": [
    {
      "cell_type": "markdown",
      "metadata": {
        "id": "view-in-github",
        "colab_type": "text"
      },
      "source": [
        "<a href=\"https://colab.research.google.com/github/sio-co2o2/keelingcurve_notebooks/blob/main/notebooks/plot_icecore_back_10K_keelingcurve.ipynb\" target=\"_parent\"><img src=\"https://colab.research.google.com/assets/colab-badge.svg\" alt=\"Open In Colab\"/></a>"
      ]
    },
    {
      "cell_type": "markdown",
      "source": [
        "# Plot  icecore CO2 going back 10K to 1958 and MLO after 1958\n",
        "\n",
        "---\n",
        "\n"
      ],
      "metadata": {
        "id": "sqKglU_WQ5XF"
      },
      "id": "sqKglU_WQ5XF"
    },
    {
      "cell_type": "markdown",
      "source": [
        "### The Keeling Curve\n",
        "https://keelingcurve.ucsd.edu\n",
        "\n",
        "This notebook creates pdf and png plot versions."
      ],
      "metadata": {
        "id": "SriEfCPyQ5XI"
      },
      "id": "SriEfCPyQ5XI"
    },
    {
      "cell_type": "markdown",
      "source": [
        "## Import packages"
      ],
      "metadata": {
        "id": "qavgQ5z6Q5XJ"
      },
      "id": "qavgQ5z6Q5XJ"
    },
    {
      "cell_type": "code",
      "execution_count": 51,
      "source": [
        "import requests\n",
        "import re\n",
        "import pandas as pd\n",
        "import numpy as np\n",
        "from scipy import interpolate\n",
        "from datetime import datetime, date, timedelta\n",
        "from dateutil.relativedelta import relativedelta\n",
        "import pathlib\n",
        "import matplotlib.image as mpimg\n",
        "import matplotlib.pyplot as plt\n",
        "from matplotlib.pyplot import figure\n",
        "from matplotlib.ticker import (MultipleLocator, AutoMinorLocator)\n",
        "from matplotlib import ticker\n",
        "from matplotlib import rc,rcParams\n",
        "from matplotlib.path import Path\n",
        "import matplotlib.colors as mcolors\n",
        "from matplotlib.patches import Polygon\n",
        "import matplotlib.dates as mdates\n",
        "import matplotlib.lines as mlines\n",
        "import matplotlib.transforms\n",
        "from google.colab import files\n",
        "from matplotlib import animation\n",
        "from ipywidgets import widgets\n",
        "from IPython.display import HTML\n",
        "from base64 import b64encode\n",
        "\n",
        "%matplotlib inline"
      ],
      "outputs": [],
      "metadata": {
        "id": "28Ba9hNwQ5XJ"
      },
      "id": "28Ba9hNwQ5XJ"
    },
    {
      "cell_type": "markdown",
      "source": [
        "## Set directories and file names for data,  plot, and logo"
      ],
      "metadata": {
        "id": "9rUZHoSlQ5XL"
      },
      "id": "9rUZHoSlQ5XL"
    },
    {
      "cell_type": "code",
      "execution_count": 52,
      "source": [
        "# Get MLO data from the keelingcurve_notebooks github repository\n",
        "mlo_data_file = 'https://raw.githubusercontent.com/sio-co2o2/keelingcurve_notebooks/main/data/mlo/mlo_full_record_now_span.csv'\n",
        "\n",
        "# Get the icecore dataset back 2K years located at\n",
        "# the site: https://www.ncei.noaa.gov/access/paleo-search/study/9959\n",
        "# the file: https://www.ncei.noaa.gov/pub/data/paleo/icecore/antarctica/law/law2006.txt\n",
        "# with a reference to the journal article at https://doi.org/10.1029/2006GL026152\n",
        "icecore_2K_url = 'https://www.ncei.noaa.gov/pub/data/paleo/icecore/antarctica/law/law2006.txt'\n",
        "\n",
        "# Get the icecore dataset back 800K years located at \n",
        "# the site: https://www.ncei.noaa.gov/access/paleo-search/study/6091\n",
        "# the file: https://www.ncei.noaa.gov/pub/data/paleo/icecore/antarctica/epica_domec/edc-co2-2008.txt\n",
        "# with a reference to the journal articls at https://doi.org/10.1038/nature06949\n",
        "icecore_800K_url = 'https://www.ncei.noaa.gov/pub/data/paleo/icecore/antarctica/epica_domec/edc-co2-2008.txt'\n",
        "\n",
        "logo_file = 'https://github.com/sio-co2o2/keelingcurve_notebooks/raw/main/images/sio_logo.png'\n",
        "\n",
        "plot_dir = pathlib.Path('./plots')\n",
        "plot_dir.mkdir(exist_ok=True)\n",
        "\n",
        "plot_basename = 'co2_800k'\n",
        "\n",
        "pdf_file = plot_dir / f\"{plot_basename}.pdf\"\n",
        "png_file = plot_dir / f\"{plot_basename}.png\""
      ],
      "outputs": [],
      "metadata": {
        "id": "7k1m0yfKQ5XL"
      },
      "id": "7k1m0yfKQ5XL"
    },
    {
      "cell_type": "markdown",
      "source": [
        "## Load in Data and process"
      ],
      "metadata": {
        "id": "WPHBfzSaQ5XM"
      },
      "id": "WPHBfzSaQ5XM"
    },
    {
      "cell_type": "markdown",
      "source": [
        "### Read in MLO record"
      ],
      "metadata": {
        "id": "3q85K8kuQ5XM"
      },
      "id": "3q85K8kuQ5XM"
    },
    {
      "cell_type": "code",
      "execution_count": 53,
      "source": [
        "df_mlo = pd.read_csv(mlo_data_file,sep=',',comment='\"')\n",
        "df_mlo.head()"
      ],
      "outputs": [
        {
          "output_type": "execute_result",
          "data": {
            "text/html": [
              "\n",
              "  <div id=\"df-81d34cad-ab9b-4fe3-ba3b-4a4949082b85\">\n",
              "    <div class=\"colab-df-container\">\n",
              "      <div>\n",
              "<style scoped>\n",
              "    .dataframe tbody tr th:only-of-type {\n",
              "        vertical-align: middle;\n",
              "    }\n",
              "\n",
              "    .dataframe tbody tr th {\n",
              "        vertical-align: top;\n",
              "    }\n",
              "\n",
              "    .dataframe thead th {\n",
              "        text-align: right;\n",
              "    }\n",
              "</style>\n",
              "<table border=\"1\" class=\"dataframe\">\n",
              "  <thead>\n",
              "    <tr style=\"text-align: right;\">\n",
              "      <th></th>\n",
              "      <th>date</th>\n",
              "      <th>co2</th>\n",
              "      <th>date_seas_adj</th>\n",
              "      <th>co2_seas_adj</th>\n",
              "      <th>date_spl</th>\n",
              "      <th>co2_spl</th>\n",
              "      <th>date_seas_adj_spl</th>\n",
              "      <th>co2_seas_adj_spl</th>\n",
              "    </tr>\n",
              "  </thead>\n",
              "  <tbody>\n",
              "    <tr>\n",
              "      <th>0</th>\n",
              "      <td>1958.202740</td>\n",
              "      <td>315.70</td>\n",
              "      <td>1958.202740</td>\n",
              "      <td>314.43</td>\n",
              "      <td>1958.202740</td>\n",
              "      <td>316.20</td>\n",
              "      <td>1958.202740</td>\n",
              "      <td>314.91</td>\n",
              "    </tr>\n",
              "    <tr>\n",
              "      <th>1</th>\n",
              "      <td>1958.287671</td>\n",
              "      <td>317.45</td>\n",
              "      <td>1958.287671</td>\n",
              "      <td>315.16</td>\n",
              "      <td>1958.287671</td>\n",
              "      <td>317.30</td>\n",
              "      <td>1958.287671</td>\n",
              "      <td>314.99</td>\n",
              "    </tr>\n",
              "    <tr>\n",
              "      <th>2</th>\n",
              "      <td>1958.369863</td>\n",
              "      <td>317.51</td>\n",
              "      <td>1958.369863</td>\n",
              "      <td>314.71</td>\n",
              "      <td>1958.369863</td>\n",
              "      <td>317.87</td>\n",
              "      <td>1958.369863</td>\n",
              "      <td>315.07</td>\n",
              "    </tr>\n",
              "    <tr>\n",
              "      <th>3</th>\n",
              "      <td>1958.536986</td>\n",
              "      <td>315.86</td>\n",
              "      <td>1958.536986</td>\n",
              "      <td>315.20</td>\n",
              "      <td>1958.454795</td>\n",
              "      <td>317.25</td>\n",
              "      <td>1958.454795</td>\n",
              "      <td>315.15</td>\n",
              "    </tr>\n",
              "    <tr>\n",
              "      <th>4</th>\n",
              "      <td>1958.621918</td>\n",
              "      <td>314.93</td>\n",
              "      <td>1958.621918</td>\n",
              "      <td>316.20</td>\n",
              "      <td>1958.536986</td>\n",
              "      <td>315.86</td>\n",
              "      <td>1958.536986</td>\n",
              "      <td>315.22</td>\n",
              "    </tr>\n",
              "  </tbody>\n",
              "</table>\n",
              "</div>\n",
              "      <button class=\"colab-df-convert\" onclick=\"convertToInteractive('df-81d34cad-ab9b-4fe3-ba3b-4a4949082b85')\"\n",
              "              title=\"Convert this dataframe to an interactive table.\"\n",
              "              style=\"display:none;\">\n",
              "        \n",
              "  <svg xmlns=\"http://www.w3.org/2000/svg\" height=\"24px\"viewBox=\"0 0 24 24\"\n",
              "       width=\"24px\">\n",
              "    <path d=\"M0 0h24v24H0V0z\" fill=\"none\"/>\n",
              "    <path d=\"M18.56 5.44l.94 2.06.94-2.06 2.06-.94-2.06-.94-.94-2.06-.94 2.06-2.06.94zm-11 1L8.5 8.5l.94-2.06 2.06-.94-2.06-.94L8.5 2.5l-.94 2.06-2.06.94zm10 10l.94 2.06.94-2.06 2.06-.94-2.06-.94-.94-2.06-.94 2.06-2.06.94z\"/><path d=\"M17.41 7.96l-1.37-1.37c-.4-.4-.92-.59-1.43-.59-.52 0-1.04.2-1.43.59L10.3 9.45l-7.72 7.72c-.78.78-.78 2.05 0 2.83L4 21.41c.39.39.9.59 1.41.59.51 0 1.02-.2 1.41-.59l7.78-7.78 2.81-2.81c.8-.78.8-2.07 0-2.86zM5.41 20L4 18.59l7.72-7.72 1.47 1.35L5.41 20z\"/>\n",
              "  </svg>\n",
              "      </button>\n",
              "      \n",
              "  <style>\n",
              "    .colab-df-container {\n",
              "      display:flex;\n",
              "      flex-wrap:wrap;\n",
              "      gap: 12px;\n",
              "    }\n",
              "\n",
              "    .colab-df-convert {\n",
              "      background-color: #E8F0FE;\n",
              "      border: none;\n",
              "      border-radius: 50%;\n",
              "      cursor: pointer;\n",
              "      display: none;\n",
              "      fill: #1967D2;\n",
              "      height: 32px;\n",
              "      padding: 0 0 0 0;\n",
              "      width: 32px;\n",
              "    }\n",
              "\n",
              "    .colab-df-convert:hover {\n",
              "      background-color: #E2EBFA;\n",
              "      box-shadow: 0px 1px 2px rgba(60, 64, 67, 0.3), 0px 1px 3px 1px rgba(60, 64, 67, 0.15);\n",
              "      fill: #174EA6;\n",
              "    }\n",
              "\n",
              "    [theme=dark] .colab-df-convert {\n",
              "      background-color: #3B4455;\n",
              "      fill: #D2E3FC;\n",
              "    }\n",
              "\n",
              "    [theme=dark] .colab-df-convert:hover {\n",
              "      background-color: #434B5C;\n",
              "      box-shadow: 0px 1px 3px 1px rgba(0, 0, 0, 0.15);\n",
              "      filter: drop-shadow(0px 1px 2px rgba(0, 0, 0, 0.3));\n",
              "      fill: #FFFFFF;\n",
              "    }\n",
              "  </style>\n",
              "\n",
              "      <script>\n",
              "        const buttonEl =\n",
              "          document.querySelector('#df-81d34cad-ab9b-4fe3-ba3b-4a4949082b85 button.colab-df-convert');\n",
              "        buttonEl.style.display =\n",
              "          google.colab.kernel.accessAllowed ? 'block' : 'none';\n",
              "\n",
              "        async function convertToInteractive(key) {\n",
              "          const element = document.querySelector('#df-81d34cad-ab9b-4fe3-ba3b-4a4949082b85');\n",
              "          const dataTable =\n",
              "            await google.colab.kernel.invokeFunction('convertToInteractive',\n",
              "                                                     [key], {});\n",
              "          if (!dataTable) return;\n",
              "\n",
              "          const docLinkHtml = 'Like what you see? Visit the ' +\n",
              "            '<a target=\"_blank\" href=https://colab.research.google.com/notebooks/data_table.ipynb>data table notebook</a>'\n",
              "            + ' to learn more about interactive tables.';\n",
              "          element.innerHTML = '';\n",
              "          dataTable['output_type'] = 'display_data';\n",
              "          await google.colab.output.renderOutput(dataTable, element);\n",
              "          const docLink = document.createElement('div');\n",
              "          docLink.innerHTML = docLinkHtml;\n",
              "          element.appendChild(docLink);\n",
              "        }\n",
              "      </script>\n",
              "    </div>\n",
              "  </div>\n",
              "  "
            ],
            "text/plain": [
              "          date     co2  ...  date_seas_adj_spl  co2_seas_adj_spl\n",
              "0  1958.202740  315.70  ...        1958.202740            314.91\n",
              "1  1958.287671  317.45  ...        1958.287671            314.99\n",
              "2  1958.369863  317.51  ...        1958.369863            315.07\n",
              "3  1958.536986  315.86  ...        1958.454795            315.15\n",
              "4  1958.621918  314.93  ...        1958.536986            315.22\n",
              "\n",
              "[5 rows x 8 columns]"
            ]
          },
          "metadata": {},
          "execution_count": 53
        }
      ],
      "metadata": {
        "colab": {
          "base_uri": "https://localhost:8080/",
          "height": 206
        },
        "id": "8Uv_3XpdQ5XN",
        "outputId": "078ec48d-b7bf-4120-ef17-a3524e3baaa1"
      },
      "id": "8Uv_3XpdQ5XN"
    },
    {
      "cell_type": "markdown",
      "source": [
        "### Get MLO seasonally adjusted data"
      ],
      "metadata": {
        "id": "pXa54NU2Q5XO"
      },
      "id": "pXa54NU2Q5XO"
    },
    {
      "cell_type": "code",
      "execution_count": 54,
      "source": [
        "df_mlo = df_mlo[['date_seas_adj', 'co2_seas_adj']].copy()"
      ],
      "outputs": [],
      "metadata": {
        "id": "hq_kCRDtQ5XO"
      },
      "id": "hq_kCRDtQ5XO"
    },
    {
      "cell_type": "markdown",
      "source": [
        "### Remove rows with fill values NaN"
      ],
      "metadata": {
        "id": "oY-KeJiSQ5XP"
      },
      "id": "oY-KeJiSQ5XP"
    },
    {
      "cell_type": "code",
      "execution_count": 55,
      "source": [
        "df_mlo = df_mlo.dropna()"
      ],
      "outputs": [],
      "metadata": {
        "scrolled": true,
        "id": "JYGwDl1gQ5XQ"
      },
      "id": "JYGwDl1gQ5XQ"
    },
    {
      "cell_type": "markdown",
      "source": [
        "### Convert to numpy arrays for plotting.\n",
        "\n",
        "Will use this to annotate the plot at various years"
      ],
      "metadata": {
        "id": "tFuV0BsbQ5XQ"
      },
      "id": "tFuV0BsbQ5XQ"
    },
    {
      "cell_type": "code",
      "execution_count": 56,
      "source": [
        "mlo_date = df_mlo['date_seas_adj'].to_numpy()\n",
        "mlo_co2 = df_mlo['co2_seas_adj'].to_numpy()"
      ],
      "outputs": [],
      "metadata": {
        "id": "xH9ta_LoQ5XQ"
      },
      "id": "xH9ta_LoQ5XQ"
    },
    {
      "cell_type": "markdown",
      "source": [
        "### Read in the icecore record back 2K years"
      ],
      "metadata": {
        "id": "wzYabkHeTR5y"
      },
      "id": "wzYabkHeTR5y"
    },
    {
      "cell_type": "code",
      "source": [
        "response = requests.get(icecore_2K_url)\n",
        "file_text = response.text\n",
        "text_lines = file_text.split('\\n')"
      ],
      "metadata": {
        "id": "HGdki2hTTSWt"
      },
      "id": "HGdki2hTTSWt",
      "execution_count": 57,
      "outputs": []
    },
    {
      "cell_type": "markdown",
      "source": [
        "#### Use data from \"CO2 by Core\" in section 2 of law2006.txt\n",
        "\n",
        "**Section to start with**\n",
        "\n",
        "2\\. CO2 by Core \n",
        "\n",
        "Gas age, Year AD \n",
        "\n",
        "SampleType   CO2gasAge  CO2(ppm)  Publication status\n",
        "\n",
        "\n",
        "**Section to stop at**\n",
        "\n",
        "3\\. CO2 by Age "
      ],
      "metadata": {
        "id": "WKeXrjgkTqTC"
      },
      "id": "WKeXrjgkTqTC"
    },
    {
      "cell_type": "code",
      "source": [
        "start_section = [i for i in range(len(text_lines))\n",
        "               if text_lines[i].startswith('2. CO2 by Core')][0]\n",
        "\n",
        "end_section = [i for i in range(len(text_lines))\n",
        "             if text_lines[i].startswith('3. CO2 by Age ')][0]\n",
        "\n",
        "section_lines = text_lines[start_section: end_section]\n",
        "\n",
        "# start data selection after line \"SampleType   CO2gasAge  CO2(ppm)  Publication status\"\n",
        "header_end = [i for i in range(len(section_lines))\n",
        "              if section_lines[i].startswith('SampleType')][0]\n",
        "\n",
        "start_data = header_end + 1\n",
        "\n",
        "data_lines = section_lines[start_data: end_section]\n",
        "\n",
        "data_lines[1:10]"
      ],
      "metadata": {
        "colab": {
          "base_uri": "https://localhost:8080/"
        },
        "id": "Bw0Y0B4zTqyA",
        "outputId": "c4e0086f-b698-44d8-8ae8-cd920e8cfa08"
      },
      "id": "Bw0Y0B4zTqyA",
      "execution_count": 58,
      "outputs": [
        {
          "output_type": "execute_result",
          "data": {
            "text/plain": [
              "['DSS            1036.8    280.3    Eth et al., 1996',\n",
              " 'DSS            1087.5    282.4    Eth et al., 1996',\n",
              " 'DSS            1136.8    283.8    Eth et al., 1996',\n",
              " 'DSS            1192.6    283.9    Eth et al., 1996',\n",
              " 'DSS            1246.3    281.7    Eth et al., 1996',\n",
              " 'DSS            1330.1    283.4    Eth et al., 1996',\n",
              " 'DSS            1390.5    280.4    Eth et al., 1996',\n",
              " 'DSS            1390.5    280.0    Eth et al., 1996',\n",
              " 'DSS            1449.1    281.7    Eth et al., 1996']"
            ]
          },
          "metadata": {},
          "execution_count": 58
        }
      ]
    },
    {
      "cell_type": "markdown",
      "source": [
        "#### Filter data\n",
        "\n",
        "Further exclude sample types: DSSW20K firn and CAPE GRIM\n",
        "\n",
        "Keep sample types: DSS, DE08, and DE08-2"
      ],
      "metadata": {
        "id": "sKx0EUDDTrXy"
      },
      "id": "sKx0EUDDTrXy"
    },
    {
      "cell_type": "code",
      "source": [
        "filtered_data_lines = []\n",
        "\n",
        "for line in data_lines:\n",
        "\n",
        "    # Don't include empty lines\n",
        "    if not line:\n",
        "        continue\n",
        "\n",
        "    if \"DSSW20K firn\" in line or \"CAPE GRIM\" in line:\n",
        "        continue\n",
        "    else:\n",
        "        filtered_data_lines.append(line)"
      ],
      "metadata": {
        "id": "CleoKTljTr1_"
      },
      "id": "CleoKTljTr1_",
      "execution_count": 59,
      "outputs": []
    },
    {
      "cell_type": "markdown",
      "source": [
        "Remove Publication status from lines"
      ],
      "metadata": {
        "id": "6mrydT-dT8Ha"
      },
      "id": "6mrydT-dT8Ha"
    },
    {
      "cell_type": "code",
      "source": [
        "r = re.compile('(.+\\d+.*\\d+.*\\d)\\s.*')\n",
        "\n",
        "filtered_list = [m.group(1) for m in (r.match(line) for line in filtered_data_lines) if m]"
      ],
      "metadata": {
        "id": "3J5gOHvUT8lF"
      },
      "id": "3J5gOHvUT8lF",
      "execution_count": 60,
      "outputs": []
    },
    {
      "cell_type": "markdown",
      "source": [
        "Remove SampleType from lines"
      ],
      "metadata": {
        "id": "ldB0sZDZT87v"
      },
      "id": "ldB0sZDZT87v"
    },
    {
      "cell_type": "code",
      "source": [
        "r = re.compile('.+\\s+(\\d.*\\s+\\d.*)')\n",
        "\n",
        "data_list = [m.group(1) for m in (r.match(line)\n",
        "                                      for line in filtered_list) if m]"
      ],
      "metadata": {
        "id": "Ld84cxhfT9Tc"
      },
      "id": "Ld84cxhfT9Tc",
      "execution_count": 61,
      "outputs": []
    },
    {
      "cell_type": "markdown",
      "source": [
        "Read data list into a Pandas dataframe and split into columns year and co2"
      ],
      "metadata": {
        "id": "UIA3yGxcULMx"
      },
      "id": "UIA3yGxcULMx"
    },
    {
      "cell_type": "code",
      "source": [
        "df_icecore_2K = pd.DataFrame(data_list)\n",
        "df_icecore_2K.columns = ['data']\n",
        "\n",
        "df_icecore_2K[['date_ce', 'co2']] = df_icecore_2K['data'].str.split(\" \", 1, expand=True)\n",
        "df_icecore_2K.drop('data', axis=1, inplace=True)\n",
        "\n",
        "print(df_icecore_2K.head())"
      ],
      "metadata": {
        "colab": {
          "base_uri": "https://localhost:8080/"
        },
        "id": "TGGZlWYaULjL",
        "outputId": "4d0dc4ec-192f-4ef8-fada-daf7d3d6a006"
      },
      "id": "TGGZlWYaULjL",
      "execution_count": 62,
      "outputs": [
        {
          "output_type": "stream",
          "name": "stdout",
          "text": [
            "  date_ce       co2\n",
            "0  1005.0     279.4\n",
            "1  1036.8     280.3\n",
            "2  1087.5     282.4\n",
            "3  1136.8     283.8\n",
            "4  1192.6     283.9\n"
          ]
        }
      ]
    },
    {
      "cell_type": "markdown",
      "source": [
        "Convert columns from strings to numbers"
      ],
      "metadata": {
        "id": "NYUNEqOgUL4i"
      },
      "id": "NYUNEqOgUL4i"
    },
    {
      "cell_type": "code",
      "source": [
        "df_icecore_2K = df_icecore_2K.astype(float)"
      ],
      "metadata": {
        "id": "cB56Zjk6UMXh"
      },
      "id": "cB56Zjk6UMXh",
      "execution_count": 63,
      "outputs": []
    },
    {
      "cell_type": "markdown",
      "source": [
        "Sort from lowest to highest year\n"
      ],
      "metadata": {
        "id": "anG_ejIAUepH"
      },
      "id": "anG_ejIAUepH"
    },
    {
      "cell_type": "code",
      "source": [
        "df_icecore_2K = df_icecore_2K.sort_values(by=['date_ce'], ascending=True)\n",
        "\n",
        "# And reset the index\n",
        "df_icecore_2K = df_icecore_2K.reset_index(drop=True)\n",
        "\n",
        "df_icecore_2K.head()"
      ],
      "metadata": {
        "colab": {
          "base_uri": "https://localhost:8080/",
          "height": 0
        },
        "id": "2MKemIVVUe_e",
        "outputId": "ee3adeed-5fd3-4846-8d34-0d355e6a6f2c"
      },
      "id": "2MKemIVVUe_e",
      "execution_count": 64,
      "outputs": [
        {
          "output_type": "execute_result",
          "data": {
            "text/html": [
              "\n",
              "  <div id=\"df-913f2ae0-146d-455e-8747-59ba0ce64f13\">\n",
              "    <div class=\"colab-df-container\">\n",
              "      <div>\n",
              "<style scoped>\n",
              "    .dataframe tbody tr th:only-of-type {\n",
              "        vertical-align: middle;\n",
              "    }\n",
              "\n",
              "    .dataframe tbody tr th {\n",
              "        vertical-align: top;\n",
              "    }\n",
              "\n",
              "    .dataframe thead th {\n",
              "        text-align: right;\n",
              "    }\n",
              "</style>\n",
              "<table border=\"1\" class=\"dataframe\">\n",
              "  <thead>\n",
              "    <tr style=\"text-align: right;\">\n",
              "      <th></th>\n",
              "      <th>date_ce</th>\n",
              "      <th>co2</th>\n",
              "    </tr>\n",
              "  </thead>\n",
              "  <tbody>\n",
              "    <tr>\n",
              "      <th>0</th>\n",
              "      <td>13.3</td>\n",
              "      <td>276.7</td>\n",
              "    </tr>\n",
              "    <tr>\n",
              "      <th>1</th>\n",
              "      <td>29.5</td>\n",
              "      <td>277.9</td>\n",
              "    </tr>\n",
              "    <tr>\n",
              "      <th>2</th>\n",
              "      <td>56.0</td>\n",
              "      <td>277.4</td>\n",
              "    </tr>\n",
              "    <tr>\n",
              "      <th>3</th>\n",
              "      <td>104.5</td>\n",
              "      <td>277.5</td>\n",
              "    </tr>\n",
              "    <tr>\n",
              "      <th>4</th>\n",
              "      <td>136.0</td>\n",
              "      <td>278.1</td>\n",
              "    </tr>\n",
              "  </tbody>\n",
              "</table>\n",
              "</div>\n",
              "      <button class=\"colab-df-convert\" onclick=\"convertToInteractive('df-913f2ae0-146d-455e-8747-59ba0ce64f13')\"\n",
              "              title=\"Convert this dataframe to an interactive table.\"\n",
              "              style=\"display:none;\">\n",
              "        \n",
              "  <svg xmlns=\"http://www.w3.org/2000/svg\" height=\"24px\"viewBox=\"0 0 24 24\"\n",
              "       width=\"24px\">\n",
              "    <path d=\"M0 0h24v24H0V0z\" fill=\"none\"/>\n",
              "    <path d=\"M18.56 5.44l.94 2.06.94-2.06 2.06-.94-2.06-.94-.94-2.06-.94 2.06-2.06.94zm-11 1L8.5 8.5l.94-2.06 2.06-.94-2.06-.94L8.5 2.5l-.94 2.06-2.06.94zm10 10l.94 2.06.94-2.06 2.06-.94-2.06-.94-.94-2.06-.94 2.06-2.06.94z\"/><path d=\"M17.41 7.96l-1.37-1.37c-.4-.4-.92-.59-1.43-.59-.52 0-1.04.2-1.43.59L10.3 9.45l-7.72 7.72c-.78.78-.78 2.05 0 2.83L4 21.41c.39.39.9.59 1.41.59.51 0 1.02-.2 1.41-.59l7.78-7.78 2.81-2.81c.8-.78.8-2.07 0-2.86zM5.41 20L4 18.59l7.72-7.72 1.47 1.35L5.41 20z\"/>\n",
              "  </svg>\n",
              "      </button>\n",
              "      \n",
              "  <style>\n",
              "    .colab-df-container {\n",
              "      display:flex;\n",
              "      flex-wrap:wrap;\n",
              "      gap: 12px;\n",
              "    }\n",
              "\n",
              "    .colab-df-convert {\n",
              "      background-color: #E8F0FE;\n",
              "      border: none;\n",
              "      border-radius: 50%;\n",
              "      cursor: pointer;\n",
              "      display: none;\n",
              "      fill: #1967D2;\n",
              "      height: 32px;\n",
              "      padding: 0 0 0 0;\n",
              "      width: 32px;\n",
              "    }\n",
              "\n",
              "    .colab-df-convert:hover {\n",
              "      background-color: #E2EBFA;\n",
              "      box-shadow: 0px 1px 2px rgba(60, 64, 67, 0.3), 0px 1px 3px 1px rgba(60, 64, 67, 0.15);\n",
              "      fill: #174EA6;\n",
              "    }\n",
              "\n",
              "    [theme=dark] .colab-df-convert {\n",
              "      background-color: #3B4455;\n",
              "      fill: #D2E3FC;\n",
              "    }\n",
              "\n",
              "    [theme=dark] .colab-df-convert:hover {\n",
              "      background-color: #434B5C;\n",
              "      box-shadow: 0px 1px 3px 1px rgba(0, 0, 0, 0.15);\n",
              "      filter: drop-shadow(0px 1px 2px rgba(0, 0, 0, 0.3));\n",
              "      fill: #FFFFFF;\n",
              "    }\n",
              "  </style>\n",
              "\n",
              "      <script>\n",
              "        const buttonEl =\n",
              "          document.querySelector('#df-913f2ae0-146d-455e-8747-59ba0ce64f13 button.colab-df-convert');\n",
              "        buttonEl.style.display =\n",
              "          google.colab.kernel.accessAllowed ? 'block' : 'none';\n",
              "\n",
              "        async function convertToInteractive(key) {\n",
              "          const element = document.querySelector('#df-913f2ae0-146d-455e-8747-59ba0ce64f13');\n",
              "          const dataTable =\n",
              "            await google.colab.kernel.invokeFunction('convertToInteractive',\n",
              "                                                     [key], {});\n",
              "          if (!dataTable) return;\n",
              "\n",
              "          const docLinkHtml = 'Like what you see? Visit the ' +\n",
              "            '<a target=\"_blank\" href=https://colab.research.google.com/notebooks/data_table.ipynb>data table notebook</a>'\n",
              "            + ' to learn more about interactive tables.';\n",
              "          element.innerHTML = '';\n",
              "          dataTable['output_type'] = 'display_data';\n",
              "          await google.colab.output.renderOutput(dataTable, element);\n",
              "          const docLink = document.createElement('div');\n",
              "          docLink.innerHTML = docLinkHtml;\n",
              "          element.appendChild(docLink);\n",
              "        }\n",
              "      </script>\n",
              "    </div>\n",
              "  </div>\n",
              "  "
            ],
            "text/plain": [
              "   date_ce    co2\n",
              "0     13.3  276.7\n",
              "1     29.5  277.9\n",
              "2     56.0  277.4\n",
              "3    104.5  277.5\n",
              "4    136.0  278.1"
            ]
          },
          "metadata": {},
          "execution_count": 64
        }
      ]
    },
    {
      "cell_type": "markdown",
      "source": [
        "Filter out icecore data past 1957 when MLO data starts"
      ],
      "metadata": {
        "id": "4wCnI0xXUfXs"
      },
      "id": "4wCnI0xXUfXs"
    },
    {
      "cell_type": "code",
      "source": [
        "df_icecore_2K = df_icecore_2K[df_icecore_2K['date_ce'] <= 1957]"
      ],
      "metadata": {
        "id": "W9A_fJQzUfuW"
      },
      "id": "W9A_fJQzUfuW",
      "execution_count": 65,
      "outputs": []
    },
    {
      "cell_type": "markdown",
      "source": [
        "### Read in the icecore record back 800K years\n",
        "The date column is in BP units which stands for \"before present year\"\n"
      ],
      "metadata": {
        "id": "p9_tBNmmTSua"
      },
      "id": "p9_tBNmmTSua"
    },
    {
      "cell_type": "code",
      "source": [
        "response = requests.get(icecore_800K_url)\n",
        "file_text = response.text\n",
        "text_lines = file_text.split('\\n')"
      ],
      "metadata": {
        "id": "9RJLTRHiTTR1"
      },
      "id": "9RJLTRHiTTR1",
      "execution_count": 66,
      "outputs": []
    },
    {
      "cell_type": "markdown",
      "source": [
        "Use data from section 3 of edc-co2-2008.txt: \"Composite CO2 record\"\n",
        "\n",
        "**Section to start with**\n",
        "\n",
        "3. Composite CO2 record (0-800 kyr BP)\n",
        "\n",
        "**Section to stop with**\n",
        "\n",
        "end of file"
      ],
      "metadata": {
        "id": "TpOIvrhsVY8K"
      },
      "id": "TpOIvrhsVY8K"
    },
    {
      "cell_type": "code",
      "source": [
        "start_section = [i for i in range(len(text_lines))\n",
        "               if text_lines[i].startswith('3. Composite CO2 record (0-800 kyr BP)')][0]\n",
        "\n",
        "# Select to end of file since no more sections after Section 3\n",
        "section_lines = text_lines[start_section:]\n",
        "\n",
        "# start data selection after line \"Age(yrBP)    CO2(ppmv)\"\n",
        "header_end = [i for i in range(len(section_lines))\n",
        "              if section_lines[i].startswith('Age(yrBP)')][0]\n",
        "\n",
        "start_data = header_end + 1\n",
        "\n",
        "data_lines = section_lines[start_data:]\n",
        "\n",
        "data_lines[1:10]"
      ],
      "metadata": {
        "colab": {
          "base_uri": "https://localhost:8080/"
        },
        "id": "1EMwe8SBVZQr",
        "outputId": "0cb707d3-33b7-4632-ef5b-ddaf8f8b4e95"
      },
      "id": "1EMwe8SBVZQr",
      "execution_count": 67,
      "outputs": [
        {
          "output_type": "execute_result",
          "data": {
            "text/plain": [
              "['268           274.9\\r',\n",
              " '279           277.9\\r',\n",
              " '395           279.1\\r',\n",
              " '404           281.9\\r',\n",
              " '485           277.7\\r',\n",
              " '559           281.1\\r',\n",
              " '672           282.2\\r',\n",
              " '754           280.1\\r',\n",
              " '877           278.4\\r']"
            ]
          },
          "metadata": {},
          "execution_count": 67
        }
      ]
    },
    {
      "cell_type": "markdown",
      "source": [
        "Remove trailing return character"
      ],
      "metadata": {
        "id": "Tc0IHYLKVZjc"
      },
      "id": "Tc0IHYLKVZjc"
    },
    {
      "cell_type": "code",
      "source": [
        "data_list = [line.rstrip() for line in data_lines]\n",
        "data_list[0:10]"
      ],
      "metadata": {
        "colab": {
          "base_uri": "https://localhost:8080/"
        },
        "id": "AlfT4_LnVZ2d",
        "outputId": "4981bb74-7e08-4e84-bd2e-3d87f56c35a1"
      },
      "id": "AlfT4_LnVZ2d",
      "execution_count": 68,
      "outputs": [
        {
          "output_type": "execute_result",
          "data": {
            "text/plain": [
              "['137           280.4',\n",
              " '268           274.9',\n",
              " '279           277.9',\n",
              " '395           279.1',\n",
              " '404           281.9',\n",
              " '485           277.7',\n",
              " '559           281.1',\n",
              " '672           282.2',\n",
              " '754           280.1',\n",
              " '877           278.4']"
            ]
          },
          "metadata": {},
          "execution_count": 68
        }
      ]
    },
    {
      "cell_type": "markdown",
      "source": [
        "Read data list into a Pandas dataframe and split into columns date_ce and co2"
      ],
      "metadata": {
        "id": "duGfzMNvVaQf"
      },
      "id": "duGfzMNvVaQf"
    },
    {
      "cell_type": "code",
      "source": [
        "df_icecore_800K = pd.DataFrame(data_list)\n",
        "df_icecore_800K.columns = ['data']\n",
        "\n",
        "df_icecore_800K[['date_bp', 'co2']] = df_icecore_800K['data'].str.split(\" \", 1, expand=True)\n",
        "df_icecore_800K.drop('data', axis=1, inplace=True)\n",
        "\n",
        "print(df_icecore_800K.head())"
      ],
      "metadata": {
        "colab": {
          "base_uri": "https://localhost:8080/"
        },
        "id": "ujRpeSNAVakj",
        "outputId": "1cdbb36d-1dca-4771-8b41-6fbe843a76be"
      },
      "id": "ujRpeSNAVakj",
      "execution_count": 69,
      "outputs": [
        {
          "output_type": "stream",
          "name": "stdout",
          "text": [
            "  date_bp              co2\n",
            "0     137            280.4\n",
            "1     268            274.9\n",
            "2     279            277.9\n",
            "3     395            279.1\n",
            "4     404            281.9\n"
          ]
        }
      ]
    },
    {
      "cell_type": "markdown",
      "source": [
        "Remove empty rows and convert columns from strings to numbers"
      ],
      "metadata": {
        "id": "8meDhQtRVbAa"
      },
      "id": "8meDhQtRVbAa"
    },
    {
      "cell_type": "code",
      "source": [
        "# First change empty strings to NaN. Then can easily drop NaN rows\n",
        "df_icecore_800K['date_bp'].replace('', np.nan, inplace=True)\n",
        "\n",
        "df_icecore_800K = df_icecore_800K.dropna()\n",
        "\n",
        "df_icecore_800K = df_icecore_800K.astype(float)"
      ],
      "metadata": {
        "id": "_wmlWaAyVbXV"
      },
      "id": "_wmlWaAyVbXV",
      "execution_count": 70,
      "outputs": []
    },
    {
      "cell_type": "markdown",
      "source": [
        "### Combine 800K back and 2K back together\n",
        "Exclude 800K dataset points that overlap with the start of the 2K dataset"
      ],
      "metadata": {
        "id": "YhMiOASfZzkJ"
      },
      "id": "YhMiOASfZzkJ"
    },
    {
      "cell_type": "markdown",
      "source": [
        "The date in the 800K dataset is in BP years which means (before present) years. Here in the dataset, present year is 1950"
      ],
      "metadata": {
        "id": "j_ar-bylb8bg"
      },
      "id": "j_ar-bylb8bg"
    },
    {
      "cell_type": "markdown",
      "source": [
        "First convert 800K dataset from dates BP (before present) to CE\n",
        "\n",
        "years before present = 1950 - year ce\n",
        "\n",
        "year ce = 1950 - years before present"
      ],
      "metadata": {
        "id": "yuRZl_lwbW8T"
      },
      "id": "yuRZl_lwbW8T"
    },
    {
      "cell_type": "code",
      "source": [
        "df_icecore_800K['date_ce'] = 1950 - df_icecore_800K['date_bp']\n",
        "df_icecore_800K[0:10]"
      ],
      "metadata": {
        "colab": {
          "base_uri": "https://localhost:8080/",
          "height": 363
        },
        "id": "LBUkd7AUZ0BS",
        "outputId": "954ba986-ef33-40ec-f13d-3dffea09f739"
      },
      "id": "LBUkd7AUZ0BS",
      "execution_count": 71,
      "outputs": [
        {
          "output_type": "execute_result",
          "data": {
            "text/html": [
              "\n",
              "  <div id=\"df-eed61c5f-efd9-41c0-9616-5dd5219adf8e\">\n",
              "    <div class=\"colab-df-container\">\n",
              "      <div>\n",
              "<style scoped>\n",
              "    .dataframe tbody tr th:only-of-type {\n",
              "        vertical-align: middle;\n",
              "    }\n",
              "\n",
              "    .dataframe tbody tr th {\n",
              "        vertical-align: top;\n",
              "    }\n",
              "\n",
              "    .dataframe thead th {\n",
              "        text-align: right;\n",
              "    }\n",
              "</style>\n",
              "<table border=\"1\" class=\"dataframe\">\n",
              "  <thead>\n",
              "    <tr style=\"text-align: right;\">\n",
              "      <th></th>\n",
              "      <th>date_bp</th>\n",
              "      <th>co2</th>\n",
              "      <th>date_ce</th>\n",
              "    </tr>\n",
              "  </thead>\n",
              "  <tbody>\n",
              "    <tr>\n",
              "      <th>0</th>\n",
              "      <td>137.0</td>\n",
              "      <td>280.4</td>\n",
              "      <td>1813.0</td>\n",
              "    </tr>\n",
              "    <tr>\n",
              "      <th>1</th>\n",
              "      <td>268.0</td>\n",
              "      <td>274.9</td>\n",
              "      <td>1682.0</td>\n",
              "    </tr>\n",
              "    <tr>\n",
              "      <th>2</th>\n",
              "      <td>279.0</td>\n",
              "      <td>277.9</td>\n",
              "      <td>1671.0</td>\n",
              "    </tr>\n",
              "    <tr>\n",
              "      <th>3</th>\n",
              "      <td>395.0</td>\n",
              "      <td>279.1</td>\n",
              "      <td>1555.0</td>\n",
              "    </tr>\n",
              "    <tr>\n",
              "      <th>4</th>\n",
              "      <td>404.0</td>\n",
              "      <td>281.9</td>\n",
              "      <td>1546.0</td>\n",
              "    </tr>\n",
              "    <tr>\n",
              "      <th>5</th>\n",
              "      <td>485.0</td>\n",
              "      <td>277.7</td>\n",
              "      <td>1465.0</td>\n",
              "    </tr>\n",
              "    <tr>\n",
              "      <th>6</th>\n",
              "      <td>559.0</td>\n",
              "      <td>281.1</td>\n",
              "      <td>1391.0</td>\n",
              "    </tr>\n",
              "    <tr>\n",
              "      <th>7</th>\n",
              "      <td>672.0</td>\n",
              "      <td>282.2</td>\n",
              "      <td>1278.0</td>\n",
              "    </tr>\n",
              "    <tr>\n",
              "      <th>8</th>\n",
              "      <td>754.0</td>\n",
              "      <td>280.1</td>\n",
              "      <td>1196.0</td>\n",
              "    </tr>\n",
              "    <tr>\n",
              "      <th>9</th>\n",
              "      <td>877.0</td>\n",
              "      <td>278.4</td>\n",
              "      <td>1073.0</td>\n",
              "    </tr>\n",
              "  </tbody>\n",
              "</table>\n",
              "</div>\n",
              "      <button class=\"colab-df-convert\" onclick=\"convertToInteractive('df-eed61c5f-efd9-41c0-9616-5dd5219adf8e')\"\n",
              "              title=\"Convert this dataframe to an interactive table.\"\n",
              "              style=\"display:none;\">\n",
              "        \n",
              "  <svg xmlns=\"http://www.w3.org/2000/svg\" height=\"24px\"viewBox=\"0 0 24 24\"\n",
              "       width=\"24px\">\n",
              "    <path d=\"M0 0h24v24H0V0z\" fill=\"none\"/>\n",
              "    <path d=\"M18.56 5.44l.94 2.06.94-2.06 2.06-.94-2.06-.94-.94-2.06-.94 2.06-2.06.94zm-11 1L8.5 8.5l.94-2.06 2.06-.94-2.06-.94L8.5 2.5l-.94 2.06-2.06.94zm10 10l.94 2.06.94-2.06 2.06-.94-2.06-.94-.94-2.06-.94 2.06-2.06.94z\"/><path d=\"M17.41 7.96l-1.37-1.37c-.4-.4-.92-.59-1.43-.59-.52 0-1.04.2-1.43.59L10.3 9.45l-7.72 7.72c-.78.78-.78 2.05 0 2.83L4 21.41c.39.39.9.59 1.41.59.51 0 1.02-.2 1.41-.59l7.78-7.78 2.81-2.81c.8-.78.8-2.07 0-2.86zM5.41 20L4 18.59l7.72-7.72 1.47 1.35L5.41 20z\"/>\n",
              "  </svg>\n",
              "      </button>\n",
              "      \n",
              "  <style>\n",
              "    .colab-df-container {\n",
              "      display:flex;\n",
              "      flex-wrap:wrap;\n",
              "      gap: 12px;\n",
              "    }\n",
              "\n",
              "    .colab-df-convert {\n",
              "      background-color: #E8F0FE;\n",
              "      border: none;\n",
              "      border-radius: 50%;\n",
              "      cursor: pointer;\n",
              "      display: none;\n",
              "      fill: #1967D2;\n",
              "      height: 32px;\n",
              "      padding: 0 0 0 0;\n",
              "      width: 32px;\n",
              "    }\n",
              "\n",
              "    .colab-df-convert:hover {\n",
              "      background-color: #E2EBFA;\n",
              "      box-shadow: 0px 1px 2px rgba(60, 64, 67, 0.3), 0px 1px 3px 1px rgba(60, 64, 67, 0.15);\n",
              "      fill: #174EA6;\n",
              "    }\n",
              "\n",
              "    [theme=dark] .colab-df-convert {\n",
              "      background-color: #3B4455;\n",
              "      fill: #D2E3FC;\n",
              "    }\n",
              "\n",
              "    [theme=dark] .colab-df-convert:hover {\n",
              "      background-color: #434B5C;\n",
              "      box-shadow: 0px 1px 3px 1px rgba(0, 0, 0, 0.15);\n",
              "      filter: drop-shadow(0px 1px 2px rgba(0, 0, 0, 0.3));\n",
              "      fill: #FFFFFF;\n",
              "    }\n",
              "  </style>\n",
              "\n",
              "      <script>\n",
              "        const buttonEl =\n",
              "          document.querySelector('#df-eed61c5f-efd9-41c0-9616-5dd5219adf8e button.colab-df-convert');\n",
              "        buttonEl.style.display =\n",
              "          google.colab.kernel.accessAllowed ? 'block' : 'none';\n",
              "\n",
              "        async function convertToInteractive(key) {\n",
              "          const element = document.querySelector('#df-eed61c5f-efd9-41c0-9616-5dd5219adf8e');\n",
              "          const dataTable =\n",
              "            await google.colab.kernel.invokeFunction('convertToInteractive',\n",
              "                                                     [key], {});\n",
              "          if (!dataTable) return;\n",
              "\n",
              "          const docLinkHtml = 'Like what you see? Visit the ' +\n",
              "            '<a target=\"_blank\" href=https://colab.research.google.com/notebooks/data_table.ipynb>data table notebook</a>'\n",
              "            + ' to learn more about interactive tables.';\n",
              "          element.innerHTML = '';\n",
              "          dataTable['output_type'] = 'display_data';\n",
              "          await google.colab.output.renderOutput(dataTable, element);\n",
              "          const docLink = document.createElement('div');\n",
              "          docLink.innerHTML = docLinkHtml;\n",
              "          element.appendChild(docLink);\n",
              "        }\n",
              "      </script>\n",
              "    </div>\n",
              "  </div>\n",
              "  "
            ],
            "text/plain": [
              "   date_bp    co2  date_ce\n",
              "0    137.0  280.4   1813.0\n",
              "1    268.0  274.9   1682.0\n",
              "2    279.0  277.9   1671.0\n",
              "3    395.0  279.1   1555.0\n",
              "4    404.0  281.9   1546.0\n",
              "5    485.0  277.7   1465.0\n",
              "6    559.0  281.1   1391.0\n",
              "7    672.0  282.2   1278.0\n",
              "8    754.0  280.1   1196.0\n",
              "9    877.0  278.4   1073.0"
            ]
          },
          "metadata": {},
          "execution_count": 71
        }
      ]
    },
    {
      "cell_type": "markdown",
      "source": [
        "Sort date ascending"
      ],
      "metadata": {
        "id": "wUTzh1aMhbgc"
      },
      "id": "wUTzh1aMhbgc"
    },
    {
      "cell_type": "code",
      "source": [
        "df_icecore_800K = df_icecore_800K.sort_values(by=['date_ce'], ascending=True)\n",
        "\n",
        "# And reset the index\n",
        "df_icecore_800K = df_icecore_800K.reset_index(drop=True)\n",
        "\n",
        "df_icecore_800K.head()"
      ],
      "metadata": {
        "colab": {
          "base_uri": "https://localhost:8080/",
          "height": 206
        },
        "id": "VumMyo_vhb4H",
        "outputId": "32d4402e-abd5-4622-9e60-98461bf1928b"
      },
      "id": "VumMyo_vhb4H",
      "execution_count": 72,
      "outputs": [
        {
          "output_type": "execute_result",
          "data": {
            "text/html": [
              "\n",
              "  <div id=\"df-51242481-b0f2-4050-bc7d-da1ba1109493\">\n",
              "    <div class=\"colab-df-container\">\n",
              "      <div>\n",
              "<style scoped>\n",
              "    .dataframe tbody tr th:only-of-type {\n",
              "        vertical-align: middle;\n",
              "    }\n",
              "\n",
              "    .dataframe tbody tr th {\n",
              "        vertical-align: top;\n",
              "    }\n",
              "\n",
              "    .dataframe thead th {\n",
              "        text-align: right;\n",
              "    }\n",
              "</style>\n",
              "<table border=\"1\" class=\"dataframe\">\n",
              "  <thead>\n",
              "    <tr style=\"text-align: right;\">\n",
              "      <th></th>\n",
              "      <th>date_bp</th>\n",
              "      <th>co2</th>\n",
              "      <th>date_ce</th>\n",
              "    </tr>\n",
              "  </thead>\n",
              "  <tbody>\n",
              "    <tr>\n",
              "      <th>0</th>\n",
              "      <td>798512.0</td>\n",
              "      <td>191.0</td>\n",
              "      <td>-796562.0</td>\n",
              "    </tr>\n",
              "    <tr>\n",
              "      <th>1</th>\n",
              "      <td>797099.0</td>\n",
              "      <td>188.4</td>\n",
              "      <td>-795149.0</td>\n",
              "    </tr>\n",
              "    <tr>\n",
              "      <th>2</th>\n",
              "      <td>796467.0</td>\n",
              "      <td>189.3</td>\n",
              "      <td>-794517.0</td>\n",
              "    </tr>\n",
              "    <tr>\n",
              "      <th>3</th>\n",
              "      <td>795202.0</td>\n",
              "      <td>195.2</td>\n",
              "      <td>-793252.0</td>\n",
              "    </tr>\n",
              "    <tr>\n",
              "      <th>4</th>\n",
              "      <td>794608.0</td>\n",
              "      <td>199.4</td>\n",
              "      <td>-792658.0</td>\n",
              "    </tr>\n",
              "  </tbody>\n",
              "</table>\n",
              "</div>\n",
              "      <button class=\"colab-df-convert\" onclick=\"convertToInteractive('df-51242481-b0f2-4050-bc7d-da1ba1109493')\"\n",
              "              title=\"Convert this dataframe to an interactive table.\"\n",
              "              style=\"display:none;\">\n",
              "        \n",
              "  <svg xmlns=\"http://www.w3.org/2000/svg\" height=\"24px\"viewBox=\"0 0 24 24\"\n",
              "       width=\"24px\">\n",
              "    <path d=\"M0 0h24v24H0V0z\" fill=\"none\"/>\n",
              "    <path d=\"M18.56 5.44l.94 2.06.94-2.06 2.06-.94-2.06-.94-.94-2.06-.94 2.06-2.06.94zm-11 1L8.5 8.5l.94-2.06 2.06-.94-2.06-.94L8.5 2.5l-.94 2.06-2.06.94zm10 10l.94 2.06.94-2.06 2.06-.94-2.06-.94-.94-2.06-.94 2.06-2.06.94z\"/><path d=\"M17.41 7.96l-1.37-1.37c-.4-.4-.92-.59-1.43-.59-.52 0-1.04.2-1.43.59L10.3 9.45l-7.72 7.72c-.78.78-.78 2.05 0 2.83L4 21.41c.39.39.9.59 1.41.59.51 0 1.02-.2 1.41-.59l7.78-7.78 2.81-2.81c.8-.78.8-2.07 0-2.86zM5.41 20L4 18.59l7.72-7.72 1.47 1.35L5.41 20z\"/>\n",
              "  </svg>\n",
              "      </button>\n",
              "      \n",
              "  <style>\n",
              "    .colab-df-container {\n",
              "      display:flex;\n",
              "      flex-wrap:wrap;\n",
              "      gap: 12px;\n",
              "    }\n",
              "\n",
              "    .colab-df-convert {\n",
              "      background-color: #E8F0FE;\n",
              "      border: none;\n",
              "      border-radius: 50%;\n",
              "      cursor: pointer;\n",
              "      display: none;\n",
              "      fill: #1967D2;\n",
              "      height: 32px;\n",
              "      padding: 0 0 0 0;\n",
              "      width: 32px;\n",
              "    }\n",
              "\n",
              "    .colab-df-convert:hover {\n",
              "      background-color: #E2EBFA;\n",
              "      box-shadow: 0px 1px 2px rgba(60, 64, 67, 0.3), 0px 1px 3px 1px rgba(60, 64, 67, 0.15);\n",
              "      fill: #174EA6;\n",
              "    }\n",
              "\n",
              "    [theme=dark] .colab-df-convert {\n",
              "      background-color: #3B4455;\n",
              "      fill: #D2E3FC;\n",
              "    }\n",
              "\n",
              "    [theme=dark] .colab-df-convert:hover {\n",
              "      background-color: #434B5C;\n",
              "      box-shadow: 0px 1px 3px 1px rgba(0, 0, 0, 0.15);\n",
              "      filter: drop-shadow(0px 1px 2px rgba(0, 0, 0, 0.3));\n",
              "      fill: #FFFFFF;\n",
              "    }\n",
              "  </style>\n",
              "\n",
              "      <script>\n",
              "        const buttonEl =\n",
              "          document.querySelector('#df-51242481-b0f2-4050-bc7d-da1ba1109493 button.colab-df-convert');\n",
              "        buttonEl.style.display =\n",
              "          google.colab.kernel.accessAllowed ? 'block' : 'none';\n",
              "\n",
              "        async function convertToInteractive(key) {\n",
              "          const element = document.querySelector('#df-51242481-b0f2-4050-bc7d-da1ba1109493');\n",
              "          const dataTable =\n",
              "            await google.colab.kernel.invokeFunction('convertToInteractive',\n",
              "                                                     [key], {});\n",
              "          if (!dataTable) return;\n",
              "\n",
              "          const docLinkHtml = 'Like what you see? Visit the ' +\n",
              "            '<a target=\"_blank\" href=https://colab.research.google.com/notebooks/data_table.ipynb>data table notebook</a>'\n",
              "            + ' to learn more about interactive tables.';\n",
              "          element.innerHTML = '';\n",
              "          dataTable['output_type'] = 'display_data';\n",
              "          await google.colab.output.renderOutput(dataTable, element);\n",
              "          const docLink = document.createElement('div');\n",
              "          docLink.innerHTML = docLinkHtml;\n",
              "          element.appendChild(docLink);\n",
              "        }\n",
              "      </script>\n",
              "    </div>\n",
              "  </div>\n",
              "  "
            ],
            "text/plain": [
              "    date_bp    co2   date_ce\n",
              "0  798512.0  191.0 -796562.0\n",
              "1  797099.0  188.4 -795149.0\n",
              "2  796467.0  189.3 -794517.0\n",
              "3  795202.0  195.2 -793252.0\n",
              "4  794608.0  199.4 -792658.0"
            ]
          },
          "metadata": {},
          "execution_count": 72
        }
      ]
    },
    {
      "cell_type": "markdown",
      "source": [
        "Remove data points from the 800K dataset that overlap with the 2K dataset"
      ],
      "metadata": {
        "id": "SOzAnbgLdOMm"
      },
      "id": "SOzAnbgLdOMm"
    },
    {
      "cell_type": "code",
      "source": [
        "min_2K = min(df_icecore_2K['date_ce'])\n",
        "\n",
        "df_icecore_800K = df_icecore_800K[df_icecore_800K['date_ce'] < min_2K]"
      ],
      "metadata": {
        "id": "B2HFWY1PdOkR"
      },
      "id": "B2HFWY1PdOkR",
      "execution_count": 73,
      "outputs": []
    },
    {
      "cell_type": "markdown",
      "source": [
        "Remove 'date_bp' column to have matching columns when concatenate 2K and 800K datasets"
      ],
      "metadata": {
        "id": "uKZXsuYQdO55"
      },
      "id": "uKZXsuYQdO55"
    },
    {
      "cell_type": "code",
      "source": [
        "df_icecore_800K.drop('date_bp', axis=1, inplace=True)\n",
        "\n",
        "# move date_ce column before co2\n",
        "df_icecore_800K = df_icecore_800K.reindex(columns=['date_ce', 'co2'])\n",
        "\n",
        "df_icecore_800K.head()"
      ],
      "metadata": {
        "colab": {
          "base_uri": "https://localhost:8080/",
          "height": 206
        },
        "id": "c3Vkyi7qdPjT",
        "outputId": "463c1d40-8f73-48d9-e3d6-863209bd4fcd"
      },
      "id": "c3Vkyi7qdPjT",
      "execution_count": 74,
      "outputs": [
        {
          "output_type": "execute_result",
          "data": {
            "text/html": [
              "\n",
              "  <div id=\"df-25af05ae-984b-4edf-86d9-7e7e77ef4706\">\n",
              "    <div class=\"colab-df-container\">\n",
              "      <div>\n",
              "<style scoped>\n",
              "    .dataframe tbody tr th:only-of-type {\n",
              "        vertical-align: middle;\n",
              "    }\n",
              "\n",
              "    .dataframe tbody tr th {\n",
              "        vertical-align: top;\n",
              "    }\n",
              "\n",
              "    .dataframe thead th {\n",
              "        text-align: right;\n",
              "    }\n",
              "</style>\n",
              "<table border=\"1\" class=\"dataframe\">\n",
              "  <thead>\n",
              "    <tr style=\"text-align: right;\">\n",
              "      <th></th>\n",
              "      <th>date_ce</th>\n",
              "      <th>co2</th>\n",
              "    </tr>\n",
              "  </thead>\n",
              "  <tbody>\n",
              "    <tr>\n",
              "      <th>0</th>\n",
              "      <td>-796562.0</td>\n",
              "      <td>191.0</td>\n",
              "    </tr>\n",
              "    <tr>\n",
              "      <th>1</th>\n",
              "      <td>-795149.0</td>\n",
              "      <td>188.4</td>\n",
              "    </tr>\n",
              "    <tr>\n",
              "      <th>2</th>\n",
              "      <td>-794517.0</td>\n",
              "      <td>189.3</td>\n",
              "    </tr>\n",
              "    <tr>\n",
              "      <th>3</th>\n",
              "      <td>-793252.0</td>\n",
              "      <td>195.2</td>\n",
              "    </tr>\n",
              "    <tr>\n",
              "      <th>4</th>\n",
              "      <td>-792658.0</td>\n",
              "      <td>199.4</td>\n",
              "    </tr>\n",
              "  </tbody>\n",
              "</table>\n",
              "</div>\n",
              "      <button class=\"colab-df-convert\" onclick=\"convertToInteractive('df-25af05ae-984b-4edf-86d9-7e7e77ef4706')\"\n",
              "              title=\"Convert this dataframe to an interactive table.\"\n",
              "              style=\"display:none;\">\n",
              "        \n",
              "  <svg xmlns=\"http://www.w3.org/2000/svg\" height=\"24px\"viewBox=\"0 0 24 24\"\n",
              "       width=\"24px\">\n",
              "    <path d=\"M0 0h24v24H0V0z\" fill=\"none\"/>\n",
              "    <path d=\"M18.56 5.44l.94 2.06.94-2.06 2.06-.94-2.06-.94-.94-2.06-.94 2.06-2.06.94zm-11 1L8.5 8.5l.94-2.06 2.06-.94-2.06-.94L8.5 2.5l-.94 2.06-2.06.94zm10 10l.94 2.06.94-2.06 2.06-.94-2.06-.94-.94-2.06-.94 2.06-2.06.94z\"/><path d=\"M17.41 7.96l-1.37-1.37c-.4-.4-.92-.59-1.43-.59-.52 0-1.04.2-1.43.59L10.3 9.45l-7.72 7.72c-.78.78-.78 2.05 0 2.83L4 21.41c.39.39.9.59 1.41.59.51 0 1.02-.2 1.41-.59l7.78-7.78 2.81-2.81c.8-.78.8-2.07 0-2.86zM5.41 20L4 18.59l7.72-7.72 1.47 1.35L5.41 20z\"/>\n",
              "  </svg>\n",
              "      </button>\n",
              "      \n",
              "  <style>\n",
              "    .colab-df-container {\n",
              "      display:flex;\n",
              "      flex-wrap:wrap;\n",
              "      gap: 12px;\n",
              "    }\n",
              "\n",
              "    .colab-df-convert {\n",
              "      background-color: #E8F0FE;\n",
              "      border: none;\n",
              "      border-radius: 50%;\n",
              "      cursor: pointer;\n",
              "      display: none;\n",
              "      fill: #1967D2;\n",
              "      height: 32px;\n",
              "      padding: 0 0 0 0;\n",
              "      width: 32px;\n",
              "    }\n",
              "\n",
              "    .colab-df-convert:hover {\n",
              "      background-color: #E2EBFA;\n",
              "      box-shadow: 0px 1px 2px rgba(60, 64, 67, 0.3), 0px 1px 3px 1px rgba(60, 64, 67, 0.15);\n",
              "      fill: #174EA6;\n",
              "    }\n",
              "\n",
              "    [theme=dark] .colab-df-convert {\n",
              "      background-color: #3B4455;\n",
              "      fill: #D2E3FC;\n",
              "    }\n",
              "\n",
              "    [theme=dark] .colab-df-convert:hover {\n",
              "      background-color: #434B5C;\n",
              "      box-shadow: 0px 1px 3px 1px rgba(0, 0, 0, 0.15);\n",
              "      filter: drop-shadow(0px 1px 2px rgba(0, 0, 0, 0.3));\n",
              "      fill: #FFFFFF;\n",
              "    }\n",
              "  </style>\n",
              "\n",
              "      <script>\n",
              "        const buttonEl =\n",
              "          document.querySelector('#df-25af05ae-984b-4edf-86d9-7e7e77ef4706 button.colab-df-convert');\n",
              "        buttonEl.style.display =\n",
              "          google.colab.kernel.accessAllowed ? 'block' : 'none';\n",
              "\n",
              "        async function convertToInteractive(key) {\n",
              "          const element = document.querySelector('#df-25af05ae-984b-4edf-86d9-7e7e77ef4706');\n",
              "          const dataTable =\n",
              "            await google.colab.kernel.invokeFunction('convertToInteractive',\n",
              "                                                     [key], {});\n",
              "          if (!dataTable) return;\n",
              "\n",
              "          const docLinkHtml = 'Like what you see? Visit the ' +\n",
              "            '<a target=\"_blank\" href=https://colab.research.google.com/notebooks/data_table.ipynb>data table notebook</a>'\n",
              "            + ' to learn more about interactive tables.';\n",
              "          element.innerHTML = '';\n",
              "          dataTable['output_type'] = 'display_data';\n",
              "          await google.colab.output.renderOutput(dataTable, element);\n",
              "          const docLink = document.createElement('div');\n",
              "          docLink.innerHTML = docLinkHtml;\n",
              "          element.appendChild(docLink);\n",
              "        }\n",
              "      </script>\n",
              "    </div>\n",
              "  </div>\n",
              "  "
            ],
            "text/plain": [
              "    date_ce    co2\n",
              "0 -796562.0  191.0\n",
              "1 -795149.0  188.4\n",
              "2 -794517.0  189.3\n",
              "3 -793252.0  195.2\n",
              "4 -792658.0  199.4"
            ]
          },
          "metadata": {},
          "execution_count": 74
        }
      ]
    },
    {
      "cell_type": "markdown",
      "source": [
        "Concatenate the icecore 800K and 2K datasets"
      ],
      "metadata": {
        "id": "Sb_ebaLKdP8C"
      },
      "id": "Sb_ebaLKdP8C"
    },
    {
      "cell_type": "code",
      "source": [
        "df_combined_icecore = pd.concat([df_icecore_800K, df_icecore_2K], ignore_index=True)"
      ],
      "metadata": {
        "id": "oIPJ9fIXdQQ3"
      },
      "id": "oIPJ9fIXdQQ3",
      "execution_count": 75,
      "outputs": []
    },
    {
      "cell_type": "markdown",
      "source": [
        "### Combine icecore data with MLO data"
      ],
      "metadata": {
        "id": "HsxqfMFZmRMh"
      },
      "id": "HsxqfMFZmRMh"
    },
    {
      "cell_type": "markdown",
      "source": [
        "Rename columns so will have same column names when combine with the icecore dataframe"
      ],
      "metadata": {
        "id": "HUE6sCWynD4k"
      },
      "id": "HUE6sCWynD4k"
    },
    {
      "cell_type": "code",
      "source": [
        "df_mlo.columns = ['date_ce', 'co2']\n",
        "\n",
        "df_mlo.head()"
      ],
      "metadata": {
        "colab": {
          "base_uri": "https://localhost:8080/",
          "height": 0
        },
        "id": "WjhxOIBkmRi5",
        "outputId": "9928239c-a148-45be-bbb1-50c34ccf872c"
      },
      "id": "WjhxOIBkmRi5",
      "execution_count": 76,
      "outputs": [
        {
          "output_type": "execute_result",
          "data": {
            "text/html": [
              "\n",
              "  <div id=\"df-61e20115-f2a2-4581-8a7d-1e213a59f4af\">\n",
              "    <div class=\"colab-df-container\">\n",
              "      <div>\n",
              "<style scoped>\n",
              "    .dataframe tbody tr th:only-of-type {\n",
              "        vertical-align: middle;\n",
              "    }\n",
              "\n",
              "    .dataframe tbody tr th {\n",
              "        vertical-align: top;\n",
              "    }\n",
              "\n",
              "    .dataframe thead th {\n",
              "        text-align: right;\n",
              "    }\n",
              "</style>\n",
              "<table border=\"1\" class=\"dataframe\">\n",
              "  <thead>\n",
              "    <tr style=\"text-align: right;\">\n",
              "      <th></th>\n",
              "      <th>date_ce</th>\n",
              "      <th>co2</th>\n",
              "    </tr>\n",
              "  </thead>\n",
              "  <tbody>\n",
              "    <tr>\n",
              "      <th>0</th>\n",
              "      <td>1958.202740</td>\n",
              "      <td>314.43</td>\n",
              "    </tr>\n",
              "    <tr>\n",
              "      <th>1</th>\n",
              "      <td>1958.287671</td>\n",
              "      <td>315.16</td>\n",
              "    </tr>\n",
              "    <tr>\n",
              "      <th>2</th>\n",
              "      <td>1958.369863</td>\n",
              "      <td>314.71</td>\n",
              "    </tr>\n",
              "    <tr>\n",
              "      <th>3</th>\n",
              "      <td>1958.536986</td>\n",
              "      <td>315.20</td>\n",
              "    </tr>\n",
              "    <tr>\n",
              "      <th>4</th>\n",
              "      <td>1958.621918</td>\n",
              "      <td>316.20</td>\n",
              "    </tr>\n",
              "  </tbody>\n",
              "</table>\n",
              "</div>\n",
              "      <button class=\"colab-df-convert\" onclick=\"convertToInteractive('df-61e20115-f2a2-4581-8a7d-1e213a59f4af')\"\n",
              "              title=\"Convert this dataframe to an interactive table.\"\n",
              "              style=\"display:none;\">\n",
              "        \n",
              "  <svg xmlns=\"http://www.w3.org/2000/svg\" height=\"24px\"viewBox=\"0 0 24 24\"\n",
              "       width=\"24px\">\n",
              "    <path d=\"M0 0h24v24H0V0z\" fill=\"none\"/>\n",
              "    <path d=\"M18.56 5.44l.94 2.06.94-2.06 2.06-.94-2.06-.94-.94-2.06-.94 2.06-2.06.94zm-11 1L8.5 8.5l.94-2.06 2.06-.94-2.06-.94L8.5 2.5l-.94 2.06-2.06.94zm10 10l.94 2.06.94-2.06 2.06-.94-2.06-.94-.94-2.06-.94 2.06-2.06.94z\"/><path d=\"M17.41 7.96l-1.37-1.37c-.4-.4-.92-.59-1.43-.59-.52 0-1.04.2-1.43.59L10.3 9.45l-7.72 7.72c-.78.78-.78 2.05 0 2.83L4 21.41c.39.39.9.59 1.41.59.51 0 1.02-.2 1.41-.59l7.78-7.78 2.81-2.81c.8-.78.8-2.07 0-2.86zM5.41 20L4 18.59l7.72-7.72 1.47 1.35L5.41 20z\"/>\n",
              "  </svg>\n",
              "      </button>\n",
              "      \n",
              "  <style>\n",
              "    .colab-df-container {\n",
              "      display:flex;\n",
              "      flex-wrap:wrap;\n",
              "      gap: 12px;\n",
              "    }\n",
              "\n",
              "    .colab-df-convert {\n",
              "      background-color: #E8F0FE;\n",
              "      border: none;\n",
              "      border-radius: 50%;\n",
              "      cursor: pointer;\n",
              "      display: none;\n",
              "      fill: #1967D2;\n",
              "      height: 32px;\n",
              "      padding: 0 0 0 0;\n",
              "      width: 32px;\n",
              "    }\n",
              "\n",
              "    .colab-df-convert:hover {\n",
              "      background-color: #E2EBFA;\n",
              "      box-shadow: 0px 1px 2px rgba(60, 64, 67, 0.3), 0px 1px 3px 1px rgba(60, 64, 67, 0.15);\n",
              "      fill: #174EA6;\n",
              "    }\n",
              "\n",
              "    [theme=dark] .colab-df-convert {\n",
              "      background-color: #3B4455;\n",
              "      fill: #D2E3FC;\n",
              "    }\n",
              "\n",
              "    [theme=dark] .colab-df-convert:hover {\n",
              "      background-color: #434B5C;\n",
              "      box-shadow: 0px 1px 3px 1px rgba(0, 0, 0, 0.15);\n",
              "      filter: drop-shadow(0px 1px 2px rgba(0, 0, 0, 0.3));\n",
              "      fill: #FFFFFF;\n",
              "    }\n",
              "  </style>\n",
              "\n",
              "      <script>\n",
              "        const buttonEl =\n",
              "          document.querySelector('#df-61e20115-f2a2-4581-8a7d-1e213a59f4af button.colab-df-convert');\n",
              "        buttonEl.style.display =\n",
              "          google.colab.kernel.accessAllowed ? 'block' : 'none';\n",
              "\n",
              "        async function convertToInteractive(key) {\n",
              "          const element = document.querySelector('#df-61e20115-f2a2-4581-8a7d-1e213a59f4af');\n",
              "          const dataTable =\n",
              "            await google.colab.kernel.invokeFunction('convertToInteractive',\n",
              "                                                     [key], {});\n",
              "          if (!dataTable) return;\n",
              "\n",
              "          const docLinkHtml = 'Like what you see? Visit the ' +\n",
              "            '<a target=\"_blank\" href=https://colab.research.google.com/notebooks/data_table.ipynb>data table notebook</a>'\n",
              "            + ' to learn more about interactive tables.';\n",
              "          element.innerHTML = '';\n",
              "          dataTable['output_type'] = 'display_data';\n",
              "          await google.colab.output.renderOutput(dataTable, element);\n",
              "          const docLink = document.createElement('div');\n",
              "          docLink.innerHTML = docLinkHtml;\n",
              "          element.appendChild(docLink);\n",
              "        }\n",
              "      </script>\n",
              "    </div>\n",
              "  </div>\n",
              "  "
            ],
            "text/plain": [
              "       date_ce     co2\n",
              "0  1958.202740  314.43\n",
              "1  1958.287671  315.16\n",
              "2  1958.369863  314.71\n",
              "3  1958.536986  315.20\n",
              "4  1958.621918  316.20"
            ]
          },
          "metadata": {},
          "execution_count": 76
        }
      ]
    },
    {
      "cell_type": "markdown",
      "source": [
        "Concatenate combined icecore with MLO data\n",
        "\n",
        "and sort ascending"
      ],
      "metadata": {
        "id": "PtawDwbDnhmK"
      },
      "id": "PtawDwbDnhmK"
    },
    {
      "cell_type": "code",
      "source": [
        "df_combined = pd.concat([df_combined_icecore, df_mlo], ignore_index=True)\n",
        "\n",
        "# And reset the index\n",
        "df_combined = df_combined.reset_index(drop=True)\n",
        "\n",
        "# sort ascending\n",
        "df_combined = df_combined.sort_values(by=['date_ce'], ascending=True)\n",
        "\n",
        "df_combined[0:10]"
      ],
      "metadata": {
        "colab": {
          "base_uri": "https://localhost:8080/",
          "height": 0
        },
        "id": "B6owPLYUnh-5",
        "outputId": "ef9cd100-3958-4a15-e9bf-968564d222fd"
      },
      "id": "B6owPLYUnh-5",
      "execution_count": 77,
      "outputs": [
        {
          "output_type": "execute_result",
          "data": {
            "text/html": [
              "\n",
              "  <div id=\"df-5df18bbc-b1cd-4ef2-8e10-e0261c244508\">\n",
              "    <div class=\"colab-df-container\">\n",
              "      <div>\n",
              "<style scoped>\n",
              "    .dataframe tbody tr th:only-of-type {\n",
              "        vertical-align: middle;\n",
              "    }\n",
              "\n",
              "    .dataframe tbody tr th {\n",
              "        vertical-align: top;\n",
              "    }\n",
              "\n",
              "    .dataframe thead th {\n",
              "        text-align: right;\n",
              "    }\n",
              "</style>\n",
              "<table border=\"1\" class=\"dataframe\">\n",
              "  <thead>\n",
              "    <tr style=\"text-align: right;\">\n",
              "      <th></th>\n",
              "      <th>date_ce</th>\n",
              "      <th>co2</th>\n",
              "    </tr>\n",
              "  </thead>\n",
              "  <tbody>\n",
              "    <tr>\n",
              "      <th>0</th>\n",
              "      <td>-796562.0</td>\n",
              "      <td>191.0</td>\n",
              "    </tr>\n",
              "    <tr>\n",
              "      <th>1</th>\n",
              "      <td>-795149.0</td>\n",
              "      <td>188.4</td>\n",
              "    </tr>\n",
              "    <tr>\n",
              "      <th>2</th>\n",
              "      <td>-794517.0</td>\n",
              "      <td>189.3</td>\n",
              "    </tr>\n",
              "    <tr>\n",
              "      <th>3</th>\n",
              "      <td>-793252.0</td>\n",
              "      <td>195.2</td>\n",
              "    </tr>\n",
              "    <tr>\n",
              "      <th>4</th>\n",
              "      <td>-792658.0</td>\n",
              "      <td>199.4</td>\n",
              "    </tr>\n",
              "    <tr>\n",
              "      <th>5</th>\n",
              "      <td>-791310.0</td>\n",
              "      <td>209.0</td>\n",
              "    </tr>\n",
              "    <tr>\n",
              "      <th>6</th>\n",
              "      <td>-790993.0</td>\n",
              "      <td>204.0</td>\n",
              "    </tr>\n",
              "    <tr>\n",
              "      <th>7</th>\n",
              "      <td>-790131.0</td>\n",
              "      <td>205.1</td>\n",
              "    </tr>\n",
              "    <tr>\n",
              "      <th>8</th>\n",
              "      <td>-789541.0</td>\n",
              "      <td>215.4</td>\n",
              "    </tr>\n",
              "    <tr>\n",
              "      <th>9</th>\n",
              "      <td>-788588.0</td>\n",
              "      <td>221.3</td>\n",
              "    </tr>\n",
              "  </tbody>\n",
              "</table>\n",
              "</div>\n",
              "      <button class=\"colab-df-convert\" onclick=\"convertToInteractive('df-5df18bbc-b1cd-4ef2-8e10-e0261c244508')\"\n",
              "              title=\"Convert this dataframe to an interactive table.\"\n",
              "              style=\"display:none;\">\n",
              "        \n",
              "  <svg xmlns=\"http://www.w3.org/2000/svg\" height=\"24px\"viewBox=\"0 0 24 24\"\n",
              "       width=\"24px\">\n",
              "    <path d=\"M0 0h24v24H0V0z\" fill=\"none\"/>\n",
              "    <path d=\"M18.56 5.44l.94 2.06.94-2.06 2.06-.94-2.06-.94-.94-2.06-.94 2.06-2.06.94zm-11 1L8.5 8.5l.94-2.06 2.06-.94-2.06-.94L8.5 2.5l-.94 2.06-2.06.94zm10 10l.94 2.06.94-2.06 2.06-.94-2.06-.94-.94-2.06-.94 2.06-2.06.94z\"/><path d=\"M17.41 7.96l-1.37-1.37c-.4-.4-.92-.59-1.43-.59-.52 0-1.04.2-1.43.59L10.3 9.45l-7.72 7.72c-.78.78-.78 2.05 0 2.83L4 21.41c.39.39.9.59 1.41.59.51 0 1.02-.2 1.41-.59l7.78-7.78 2.81-2.81c.8-.78.8-2.07 0-2.86zM5.41 20L4 18.59l7.72-7.72 1.47 1.35L5.41 20z\"/>\n",
              "  </svg>\n",
              "      </button>\n",
              "      \n",
              "  <style>\n",
              "    .colab-df-container {\n",
              "      display:flex;\n",
              "      flex-wrap:wrap;\n",
              "      gap: 12px;\n",
              "    }\n",
              "\n",
              "    .colab-df-convert {\n",
              "      background-color: #E8F0FE;\n",
              "      border: none;\n",
              "      border-radius: 50%;\n",
              "      cursor: pointer;\n",
              "      display: none;\n",
              "      fill: #1967D2;\n",
              "      height: 32px;\n",
              "      padding: 0 0 0 0;\n",
              "      width: 32px;\n",
              "    }\n",
              "\n",
              "    .colab-df-convert:hover {\n",
              "      background-color: #E2EBFA;\n",
              "      box-shadow: 0px 1px 2px rgba(60, 64, 67, 0.3), 0px 1px 3px 1px rgba(60, 64, 67, 0.15);\n",
              "      fill: #174EA6;\n",
              "    }\n",
              "\n",
              "    [theme=dark] .colab-df-convert {\n",
              "      background-color: #3B4455;\n",
              "      fill: #D2E3FC;\n",
              "    }\n",
              "\n",
              "    [theme=dark] .colab-df-convert:hover {\n",
              "      background-color: #434B5C;\n",
              "      box-shadow: 0px 1px 3px 1px rgba(0, 0, 0, 0.15);\n",
              "      filter: drop-shadow(0px 1px 2px rgba(0, 0, 0, 0.3));\n",
              "      fill: #FFFFFF;\n",
              "    }\n",
              "  </style>\n",
              "\n",
              "      <script>\n",
              "        const buttonEl =\n",
              "          document.querySelector('#df-5df18bbc-b1cd-4ef2-8e10-e0261c244508 button.colab-df-convert');\n",
              "        buttonEl.style.display =\n",
              "          google.colab.kernel.accessAllowed ? 'block' : 'none';\n",
              "\n",
              "        async function convertToInteractive(key) {\n",
              "          const element = document.querySelector('#df-5df18bbc-b1cd-4ef2-8e10-e0261c244508');\n",
              "          const dataTable =\n",
              "            await google.colab.kernel.invokeFunction('convertToInteractive',\n",
              "                                                     [key], {});\n",
              "          if (!dataTable) return;\n",
              "\n",
              "          const docLinkHtml = 'Like what you see? Visit the ' +\n",
              "            '<a target=\"_blank\" href=https://colab.research.google.com/notebooks/data_table.ipynb>data table notebook</a>'\n",
              "            + ' to learn more about interactive tables.';\n",
              "          element.innerHTML = '';\n",
              "          dataTable['output_type'] = 'display_data';\n",
              "          await google.colab.output.renderOutput(dataTable, element);\n",
              "          const docLink = document.createElement('div');\n",
              "          docLink.innerHTML = docLinkHtml;\n",
              "          element.appendChild(docLink);\n",
              "        }\n",
              "      </script>\n",
              "    </div>\n",
              "  </div>\n",
              "  "
            ],
            "text/plain": [
              "    date_ce    co2\n",
              "0 -796562.0  191.0\n",
              "1 -795149.0  188.4\n",
              "2 -794517.0  189.3\n",
              "3 -793252.0  195.2\n",
              "4 -792658.0  199.4\n",
              "5 -791310.0  209.0\n",
              "6 -790993.0  204.0\n",
              "7 -790131.0  205.1\n",
              "8 -789541.0  215.4\n",
              "9 -788588.0  221.3"
            ]
          },
          "metadata": {},
          "execution_count": 77
        }
      ]
    },
    {
      "cell_type": "markdown",
      "source": [
        "### Convert back to units BP (before present)\n",
        "\n",
        "This time, present will be the current date since on the plot, we will be plottting years before now.\n",
        "\n",
        "Create functions to convert now into a decimal year"
      ],
      "metadata": {
        "id": "fGZrUmediI1u"
      },
      "id": "fGZrUmediI1u"
    },
    {
      "cell_type": "markdown",
      "source": [
        "### Functions to convert dates into various formats\n"
      ],
      "metadata": {
        "id": "0NRhS51ci05A"
      },
      "id": "0NRhS51ci05A"
    },
    {
      "cell_type": "code",
      "source": [
        "# Function to convert datetime to a float\n",
        "def dt2t(adatetime):\n",
        "    \"\"\"\n",
        "    Convert adatetime into a float. The integer part of the float should\n",
        "    represent the year.\n",
        "    Order should be preserved. If adate<bdate, then d2t(adate)<d2t(bdate)\n",
        "    time distances should be preserved: If bdate-adate=ddate-cdate then\n",
        "    dt2t(bdate)-dt2t(adate) = dt2t(ddate)-dt2t(cdate)\n",
        "    \"\"\"\n",
        "    year = adatetime.year\n",
        "    boy = datetime(year, 1, 1)\n",
        "    eoy = datetime(year + 1, 1, 1)\n",
        "    return year + ((adatetime - boy).total_seconds() / ((eoy - boy).total_seconds()))"
      ],
      "metadata": {
        "id": "48Fjl2DSiJLE"
      },
      "id": "48Fjl2DSiJLE",
      "execution_count": 78,
      "outputs": []
    },
    {
      "cell_type": "code",
      "source": [
        "def get_todays_date_variations():\n",
        "    \n",
        "    now = datetime.now()\n",
        "    todays_decimal =  dt2t(now)\n",
        "    \n",
        "    today = date.today()\n",
        "\n",
        "    todays_day = today.day\n",
        "    todays_month = today.strftime(\"%B\")\n",
        "    todays_year = today.year\n",
        "    todays_date_moyr = today.strftime(\"%B %Y\")\n",
        "    todays_date_modyyr = f\"{todays_month} {todays_day}, {todays_year}\"\n",
        "\n",
        "    return todays_date_moyr, todays_date_modyyr, todays_decimal, todays_year"
      ],
      "metadata": {
        "id": "wWTAdXQujSLO"
      },
      "id": "wWTAdXQujSLO",
      "execution_count": 79,
      "outputs": []
    },
    {
      "cell_type": "markdown",
      "source": [
        "Run function to get todays date in decimal year format\n"
      ],
      "metadata": {
        "id": "zoRTUybgiJgK"
      },
      "id": "zoRTUybgiJgK"
    },
    {
      "cell_type": "code",
      "source": [
        "todays_date_moyr, todays_date_modyyr, todays_decimal, todays_year = get_todays_date_variations()"
      ],
      "metadata": {
        "id": "MdA-ptpYiJ3m"
      },
      "id": "MdA-ptpYiJ3m",
      "execution_count": 80,
      "outputs": []
    },
    {
      "cell_type": "markdown",
      "source": [
        "### Continue processing data files"
      ],
      "metadata": {
        "id": "dZPqG_fnkSoe"
      },
      "id": "dZPqG_fnkSoe"
    },
    {
      "cell_type": "markdown",
      "source": [
        "Convert combined data from date_ce to date_bp (before present now)"
      ],
      "metadata": {
        "id": "04LmvY8VoVZF"
      },
      "id": "04LmvY8VoVZF"
    },
    {
      "cell_type": "code",
      "source": [
        "# years before now = present year - date ce\n",
        "df_combined['date_bp'] = todays_decimal - df_combined['date_ce']"
      ],
      "metadata": {
        "id": "V_lhtIp2kS7d"
      },
      "id": "V_lhtIp2kS7d",
      "execution_count": 81,
      "outputs": []
    },
    {
      "cell_type": "markdown",
      "source": [
        "And sort the data ascending"
      ],
      "metadata": {
        "id": "eirNPYHfkTQj"
      },
      "id": "eirNPYHfkTQj"
    },
    {
      "cell_type": "code",
      "source": [
        "df_combined = df_combined.sort_values(by=['date_bp'], ascending=True)\n",
        "# Now reset the index which has been shuffled\n",
        "df_combined = df_combined.reset_index(drop=True)\n",
        "df_combined.head()"
      ],
      "metadata": {
        "id": "QjjktXqMkTrI",
        "colab": {
          "base_uri": "https://localhost:8080/",
          "height": 206
        },
        "outputId": "706841f2-8a0d-42b2-f4d0-aac6c442a779"
      },
      "id": "QjjktXqMkTrI",
      "execution_count": 82,
      "outputs": [
        {
          "output_type": "execute_result",
          "data": {
            "text/html": [
              "\n",
              "  <div id=\"df-2e2e90c1-805b-4dc9-906f-f118d2eafee8\">\n",
              "    <div class=\"colab-df-container\">\n",
              "      <div>\n",
              "<style scoped>\n",
              "    .dataframe tbody tr th:only-of-type {\n",
              "        vertical-align: middle;\n",
              "    }\n",
              "\n",
              "    .dataframe tbody tr th {\n",
              "        vertical-align: top;\n",
              "    }\n",
              "\n",
              "    .dataframe thead th {\n",
              "        text-align: right;\n",
              "    }\n",
              "</style>\n",
              "<table border=\"1\" class=\"dataframe\">\n",
              "  <thead>\n",
              "    <tr style=\"text-align: right;\">\n",
              "      <th></th>\n",
              "      <th>date_ce</th>\n",
              "      <th>co2</th>\n",
              "      <th>date_bp</th>\n",
              "    </tr>\n",
              "  </thead>\n",
              "  <tbody>\n",
              "    <tr>\n",
              "      <th>0</th>\n",
              "      <td>2022.026027</td>\n",
              "      <td>417.69</td>\n",
              "      <td>0.086657</td>\n",
              "    </tr>\n",
              "    <tr>\n",
              "      <th>1</th>\n",
              "      <td>2022.023288</td>\n",
              "      <td>417.59</td>\n",
              "      <td>0.089396</td>\n",
              "    </tr>\n",
              "    <tr>\n",
              "      <th>2</th>\n",
              "      <td>2022.020548</td>\n",
              "      <td>417.14</td>\n",
              "      <td>0.092136</td>\n",
              "    </tr>\n",
              "    <tr>\n",
              "      <th>3</th>\n",
              "      <td>2022.017808</td>\n",
              "      <td>416.65</td>\n",
              "      <td>0.094876</td>\n",
              "    </tr>\n",
              "    <tr>\n",
              "      <th>4</th>\n",
              "      <td>2022.015068</td>\n",
              "      <td>417.26</td>\n",
              "      <td>0.097616</td>\n",
              "    </tr>\n",
              "  </tbody>\n",
              "</table>\n",
              "</div>\n",
              "      <button class=\"colab-df-convert\" onclick=\"convertToInteractive('df-2e2e90c1-805b-4dc9-906f-f118d2eafee8')\"\n",
              "              title=\"Convert this dataframe to an interactive table.\"\n",
              "              style=\"display:none;\">\n",
              "        \n",
              "  <svg xmlns=\"http://www.w3.org/2000/svg\" height=\"24px\"viewBox=\"0 0 24 24\"\n",
              "       width=\"24px\">\n",
              "    <path d=\"M0 0h24v24H0V0z\" fill=\"none\"/>\n",
              "    <path d=\"M18.56 5.44l.94 2.06.94-2.06 2.06-.94-2.06-.94-.94-2.06-.94 2.06-2.06.94zm-11 1L8.5 8.5l.94-2.06 2.06-.94-2.06-.94L8.5 2.5l-.94 2.06-2.06.94zm10 10l.94 2.06.94-2.06 2.06-.94-2.06-.94-.94-2.06-.94 2.06-2.06.94z\"/><path d=\"M17.41 7.96l-1.37-1.37c-.4-.4-.92-.59-1.43-.59-.52 0-1.04.2-1.43.59L10.3 9.45l-7.72 7.72c-.78.78-.78 2.05 0 2.83L4 21.41c.39.39.9.59 1.41.59.51 0 1.02-.2 1.41-.59l7.78-7.78 2.81-2.81c.8-.78.8-2.07 0-2.86zM5.41 20L4 18.59l7.72-7.72 1.47 1.35L5.41 20z\"/>\n",
              "  </svg>\n",
              "      </button>\n",
              "      \n",
              "  <style>\n",
              "    .colab-df-container {\n",
              "      display:flex;\n",
              "      flex-wrap:wrap;\n",
              "      gap: 12px;\n",
              "    }\n",
              "\n",
              "    .colab-df-convert {\n",
              "      background-color: #E8F0FE;\n",
              "      border: none;\n",
              "      border-radius: 50%;\n",
              "      cursor: pointer;\n",
              "      display: none;\n",
              "      fill: #1967D2;\n",
              "      height: 32px;\n",
              "      padding: 0 0 0 0;\n",
              "      width: 32px;\n",
              "    }\n",
              "\n",
              "    .colab-df-convert:hover {\n",
              "      background-color: #E2EBFA;\n",
              "      box-shadow: 0px 1px 2px rgba(60, 64, 67, 0.3), 0px 1px 3px 1px rgba(60, 64, 67, 0.15);\n",
              "      fill: #174EA6;\n",
              "    }\n",
              "\n",
              "    [theme=dark] .colab-df-convert {\n",
              "      background-color: #3B4455;\n",
              "      fill: #D2E3FC;\n",
              "    }\n",
              "\n",
              "    [theme=dark] .colab-df-convert:hover {\n",
              "      background-color: #434B5C;\n",
              "      box-shadow: 0px 1px 3px 1px rgba(0, 0, 0, 0.15);\n",
              "      filter: drop-shadow(0px 1px 2px rgba(0, 0, 0, 0.3));\n",
              "      fill: #FFFFFF;\n",
              "    }\n",
              "  </style>\n",
              "\n",
              "      <script>\n",
              "        const buttonEl =\n",
              "          document.querySelector('#df-2e2e90c1-805b-4dc9-906f-f118d2eafee8 button.colab-df-convert');\n",
              "        buttonEl.style.display =\n",
              "          google.colab.kernel.accessAllowed ? 'block' : 'none';\n",
              "\n",
              "        async function convertToInteractive(key) {\n",
              "          const element = document.querySelector('#df-2e2e90c1-805b-4dc9-906f-f118d2eafee8');\n",
              "          const dataTable =\n",
              "            await google.colab.kernel.invokeFunction('convertToInteractive',\n",
              "                                                     [key], {});\n",
              "          if (!dataTable) return;\n",
              "\n",
              "          const docLinkHtml = 'Like what you see? Visit the ' +\n",
              "            '<a target=\"_blank\" href=https://colab.research.google.com/notebooks/data_table.ipynb>data table notebook</a>'\n",
              "            + ' to learn more about interactive tables.';\n",
              "          element.innerHTML = '';\n",
              "          dataTable['output_type'] = 'display_data';\n",
              "          await google.colab.output.renderOutput(dataTable, element);\n",
              "          const docLink = document.createElement('div');\n",
              "          docLink.innerHTML = docLinkHtml;\n",
              "          element.appendChild(docLink);\n",
              "        }\n",
              "      </script>\n",
              "    </div>\n",
              "  </div>\n",
              "  "
            ],
            "text/plain": [
              "       date_ce     co2   date_bp\n",
              "0  2022.026027  417.69  0.086657\n",
              "1  2022.023288  417.59  0.089396\n",
              "2  2022.020548  417.14  0.092136\n",
              "3  2022.017808  416.65  0.094876\n",
              "4  2022.015068  417.26  0.097616"
            ]
          },
          "metadata": {},
          "execution_count": 82
        }
      ]
    },
    {
      "cell_type": "markdown",
      "source": [
        "Get a subset of the data going back 10K years before now.\n",
        "\n",
        "We need the data set to stretch back one more data point so that the plot line of the data displays as starting 10K years back."
      ],
      "metadata": {
        "id": "3bOa2mOTWOXl"
      },
      "id": "3bOa2mOTWOXl"
    },
    {
      "cell_type": "code",
      "source": [
        "# Find the rows with a date going back at most 10K years\n",
        "index_list = df_combined.index[df_combined['date_bp'] <= 10000].tolist()\n",
        "\n",
        "# Get the last index and then add one more row by appending the max_index + 1\n",
        "max_index = max(index_list)\n",
        "index_list.append(max_index + 1)\n",
        "\n",
        "# Now cull the data to this index list\n",
        "df_combined = df_combined.iloc[index_list]\n",
        "df_combined.tail()"
      ],
      "metadata": {
        "colab": {
          "base_uri": "https://localhost:8080/",
          "height": 206
        },
        "id": "PgCvCr7cWVZm",
        "outputId": "2629bdfa-01f2-48c2-ad54-0618b1880325"
      },
      "id": "PgCvCr7cWVZm",
      "execution_count": 83,
      "outputs": [
        {
          "output_type": "execute_result",
          "data": {
            "text/html": [
              "\n",
              "  <div id=\"df-f990e2b7-7849-4ade-b014-d7003706cb39\">\n",
              "    <div class=\"colab-df-container\">\n",
              "      <div>\n",
              "<style scoped>\n",
              "    .dataframe tbody tr th:only-of-type {\n",
              "        vertical-align: middle;\n",
              "    }\n",
              "\n",
              "    .dataframe tbody tr th {\n",
              "        vertical-align: top;\n",
              "    }\n",
              "\n",
              "    .dataframe thead th {\n",
              "        text-align: right;\n",
              "    }\n",
              "</style>\n",
              "<table border=\"1\" class=\"dataframe\">\n",
              "  <thead>\n",
              "    <tr style=\"text-align: right;\">\n",
              "      <th></th>\n",
              "      <th>date_ce</th>\n",
              "      <th>co2</th>\n",
              "      <th>date_bp</th>\n",
              "    </tr>\n",
              "  </thead>\n",
              "  <tbody>\n",
              "    <tr>\n",
              "      <th>1055</th>\n",
              "      <td>-7647.0</td>\n",
              "      <td>264.2</td>\n",
              "      <td>9669.112684</td>\n",
              "    </tr>\n",
              "    <tr>\n",
              "      <th>1056</th>\n",
              "      <td>-7771.0</td>\n",
              "      <td>264.0</td>\n",
              "      <td>9793.112684</td>\n",
              "    </tr>\n",
              "    <tr>\n",
              "      <th>1057</th>\n",
              "      <td>-7857.0</td>\n",
              "      <td>263.4</td>\n",
              "      <td>9879.112684</td>\n",
              "    </tr>\n",
              "    <tr>\n",
              "      <th>1058</th>\n",
              "      <td>-7959.0</td>\n",
              "      <td>265.7</td>\n",
              "      <td>9981.112684</td>\n",
              "    </tr>\n",
              "    <tr>\n",
              "      <th>1059</th>\n",
              "      <td>-8033.0</td>\n",
              "      <td>264.9</td>\n",
              "      <td>10055.112684</td>\n",
              "    </tr>\n",
              "  </tbody>\n",
              "</table>\n",
              "</div>\n",
              "      <button class=\"colab-df-convert\" onclick=\"convertToInteractive('df-f990e2b7-7849-4ade-b014-d7003706cb39')\"\n",
              "              title=\"Convert this dataframe to an interactive table.\"\n",
              "              style=\"display:none;\">\n",
              "        \n",
              "  <svg xmlns=\"http://www.w3.org/2000/svg\" height=\"24px\"viewBox=\"0 0 24 24\"\n",
              "       width=\"24px\">\n",
              "    <path d=\"M0 0h24v24H0V0z\" fill=\"none\"/>\n",
              "    <path d=\"M18.56 5.44l.94 2.06.94-2.06 2.06-.94-2.06-.94-.94-2.06-.94 2.06-2.06.94zm-11 1L8.5 8.5l.94-2.06 2.06-.94-2.06-.94L8.5 2.5l-.94 2.06-2.06.94zm10 10l.94 2.06.94-2.06 2.06-.94-2.06-.94-.94-2.06-.94 2.06-2.06.94z\"/><path d=\"M17.41 7.96l-1.37-1.37c-.4-.4-.92-.59-1.43-.59-.52 0-1.04.2-1.43.59L10.3 9.45l-7.72 7.72c-.78.78-.78 2.05 0 2.83L4 21.41c.39.39.9.59 1.41.59.51 0 1.02-.2 1.41-.59l7.78-7.78 2.81-2.81c.8-.78.8-2.07 0-2.86zM5.41 20L4 18.59l7.72-7.72 1.47 1.35L5.41 20z\"/>\n",
              "  </svg>\n",
              "      </button>\n",
              "      \n",
              "  <style>\n",
              "    .colab-df-container {\n",
              "      display:flex;\n",
              "      flex-wrap:wrap;\n",
              "      gap: 12px;\n",
              "    }\n",
              "\n",
              "    .colab-df-convert {\n",
              "      background-color: #E8F0FE;\n",
              "      border: none;\n",
              "      border-radius: 50%;\n",
              "      cursor: pointer;\n",
              "      display: none;\n",
              "      fill: #1967D2;\n",
              "      height: 32px;\n",
              "      padding: 0 0 0 0;\n",
              "      width: 32px;\n",
              "    }\n",
              "\n",
              "    .colab-df-convert:hover {\n",
              "      background-color: #E2EBFA;\n",
              "      box-shadow: 0px 1px 2px rgba(60, 64, 67, 0.3), 0px 1px 3px 1px rgba(60, 64, 67, 0.15);\n",
              "      fill: #174EA6;\n",
              "    }\n",
              "\n",
              "    [theme=dark] .colab-df-convert {\n",
              "      background-color: #3B4455;\n",
              "      fill: #D2E3FC;\n",
              "    }\n",
              "\n",
              "    [theme=dark] .colab-df-convert:hover {\n",
              "      background-color: #434B5C;\n",
              "      box-shadow: 0px 1px 3px 1px rgba(0, 0, 0, 0.15);\n",
              "      filter: drop-shadow(0px 1px 2px rgba(0, 0, 0, 0.3));\n",
              "      fill: #FFFFFF;\n",
              "    }\n",
              "  </style>\n",
              "\n",
              "      <script>\n",
              "        const buttonEl =\n",
              "          document.querySelector('#df-f990e2b7-7849-4ade-b014-d7003706cb39 button.colab-df-convert');\n",
              "        buttonEl.style.display =\n",
              "          google.colab.kernel.accessAllowed ? 'block' : 'none';\n",
              "\n",
              "        async function convertToInteractive(key) {\n",
              "          const element = document.querySelector('#df-f990e2b7-7849-4ade-b014-d7003706cb39');\n",
              "          const dataTable =\n",
              "            await google.colab.kernel.invokeFunction('convertToInteractive',\n",
              "                                                     [key], {});\n",
              "          if (!dataTable) return;\n",
              "\n",
              "          const docLinkHtml = 'Like what you see? Visit the ' +\n",
              "            '<a target=\"_blank\" href=https://colab.research.google.com/notebooks/data_table.ipynb>data table notebook</a>'\n",
              "            + ' to learn more about interactive tables.';\n",
              "          element.innerHTML = '';\n",
              "          dataTable['output_type'] = 'display_data';\n",
              "          await google.colab.output.renderOutput(dataTable, element);\n",
              "          const docLink = document.createElement('div');\n",
              "          docLink.innerHTML = docLinkHtml;\n",
              "          element.appendChild(docLink);\n",
              "        }\n",
              "      </script>\n",
              "    </div>\n",
              "  </div>\n",
              "  "
            ],
            "text/plain": [
              "      date_ce    co2       date_bp\n",
              "1055  -7647.0  264.2   9669.112684\n",
              "1056  -7771.0  264.0   9793.112684\n",
              "1057  -7857.0  263.4   9879.112684\n",
              "1058  -7959.0  265.7   9981.112684\n",
              "1059  -8033.0  264.9  10055.112684"
            ]
          },
          "metadata": {},
          "execution_count": 83
        }
      ]
    },
    {
      "cell_type": "markdown",
      "source": [
        "Convert the dataframe into numpy arrays for plotting"
      ],
      "metadata": {
        "id": "DAIlBZhIqxsg"
      },
      "id": "DAIlBZhIqxsg"
    },
    {
      "cell_type": "code",
      "source": [
        "combined_years_before_now = df_combined['date_bp'].to_numpy()\n",
        "\n",
        "combined_co2 = df_combined['co2'].to_numpy()"
      ],
      "metadata": {
        "id": "wQe1XECoqyEc"
      },
      "id": "wQe1XECoqyEc",
      "execution_count": 84,
      "outputs": []
    },
    {
      "cell_type": "markdown",
      "source": [
        "## Define plot functions"
      ],
      "metadata": {
        "id": "bRzJoxIYQ5XR"
      },
      "id": "bRzJoxIYQ5XR"
    },
    {
      "cell_type": "code",
      "execution_count": 85,
      "source": [
        "# https://stackoverflow.com/questions/29321835/is-it-possible-to-get-color-gradients-under-curve-in-matplotlib\n",
        "# Modified to add gradient below curve and have a bottom alpha\n",
        "\n",
        "# def gradient_fill(x, y, fill_color=None, ax=None, **kwargs):\n",
        "def gradient_fill(x, y, fill_color='#FFFFFF', xmin=None, ymin=None, xmax=None, \n",
        "                  ymax=None, alpha_bottom=None, ax=None, alpha=1, zorder=1, **kwargs):\n",
        "    \"\"\"\n",
        "    Plot a line with a linear alpha gradient filled beneath it.\n",
        "\n",
        "    Parameters\n",
        "    ----------\n",
        "    x, y : array-like\n",
        "        The data values of the line.\n",
        "    fill_color : a matplotlib color specifier (string, tuple) or None\n",
        "        The color for the fill. If None, the color of the line will be used.\n",
        "    ax : a matplotlib Axes instance\n",
        "        The axes to plot on. If None, the current pyplot axes will be used.\n",
        "    Additional arguments are passed on to matplotlib's ``plot`` function.\n",
        "\n",
        "    Returns\n",
        "    -------\n",
        "    line : a Line2D instance\n",
        "        The line plotted.\n",
        "    im : an AxesImage instance\n",
        "        The transparent gradient clipped to just the area beneath the curve.\n",
        "    \"\"\"\n",
        "    if ax is None:\n",
        "        ax = plt.gca()\n",
        "\n",
        "    # Only want the gradient to show\n",
        "    #line, = ax.plot(x, y, **kwargs)\n",
        "    #if fill_color is None:\n",
        "    #    fill_color = line.get_color()\n",
        "\n",
        "    if alpha_bottom is None:\n",
        "        alpha_bottom = 0\n",
        "\n",
        "    if xmin is None:\n",
        "        xmin = x.min()\n",
        "\n",
        "    if ymin is None:\n",
        "        ymin = y.min()\n",
        "        \n",
        "    if xmax is None:\n",
        "        xmax = x.max()\n",
        "\n",
        "    if ymax is None:\n",
        "        ymax = y.max()\n",
        "        \n",
        "    if zorder is None:\n",
        "        zorder = 1\n",
        "        \n",
        "    #zorder = line.get_zorder()\n",
        "    \n",
        "    #alpha = line.get_alpha()\n",
        "    #alpha = 1.0 if alpha is None else alpha\n",
        "\n",
        "    z = np.empty((100, 1, 4), dtype=float)\n",
        "    rgb = mcolors.colorConverter.to_rgb(fill_color)\n",
        "    z[:, :, :3] = rgb\n",
        "    #z[:,:,-1] = np.linspace(0, alpha, 100)[:,None]\n",
        "    z[:, :, -1] = np.linspace(alpha_bottom, alpha, 100)[:, None]\n",
        "\n",
        "    #xmin, xmax, ymin, ymax = x.min(), x.max(), y.min(), y.max()\n",
        "    \n",
        "    im = ax.imshow(z, aspect='auto', extent=[xmin, xmax, ymin, ymax],\n",
        "                   origin='lower', zorder=zorder)\n",
        "\n",
        "    xy = np.column_stack([x, y])\n",
        "    xy = np.vstack([[xmin, ymin], xy, [xmax, ymin], [xmin, ymin]])\n",
        "    clip_path = Polygon(xy, facecolor='none', edgecolor='none', closed=True)\n",
        "    ax.add_patch(clip_path)\n",
        "    im.set_clip_path(clip_path)\n",
        "    \n",
        "    ax.autoscale(True)\n",
        "    \n",
        "    #return line, im"
      ],
      "outputs": [],
      "metadata": {
        "id": "TKvH1EQ8Q5XR"
      },
      "id": "TKvH1EQ8Q5XR"
    },
    {
      "cell_type": "code",
      "execution_count": 86,
      "source": [
        "def set_matplotlib_properties():\n",
        "    \n",
        "    # Set default properties for matplotlib\n",
        "    \n",
        "    # Reset rcparams in case modified defaults in another notebook during same session \n",
        "    plt.rcParams.update(plt.rcParamsDefault)\n",
        "\n",
        "    plt.rcParams.update({'axes.linewidth':1.5})\n",
        "    \n",
        "    plt.rcParams.update({\n",
        "        \"text.usetex\": False,\n",
        "        \"font.family\": \"sans-serif\",\n",
        "        \"font.weight\":  \"normal\",\n",
        "        \"font.sans-serif\": [\"Arial\", \"Tahoma\", \"Helvetica\",\"FreeSans\", \"NimbusSans\", \"LiberationSans\",\"DejaVu Sans\"],\n",
        "        \"mathtext.default\":'regular',\n",
        "        \"mathtext.fontset\": \"dejavusans\"\n",
        "    })\n",
        "        \n",
        "    # http://phyletica.org/matplotlib-fonts/\n",
        "    # This causes matplotlib to use Type 42 (a.k.a. TrueType) fonts \n",
        "    # for PostScript and PDF files. This allows you to avoid Type 3 fonts.\n",
        "    # Turning on usetex also works\n",
        "    # Needed on Ubuntu for pdf fonts \n",
        "    plt.rcParams.update({\n",
        "      'pdf.fonttype': 42,\n",
        "        'ps.fonttype': 42 \n",
        "    })"
      ],
      "outputs": [],
      "metadata": {
        "id": "H4fU5_v1Q5XR"
      },
      "id": "H4fU5_v1Q5XR"
    },
    {
      "cell_type": "code",
      "execution_count": 87,
      "source": [
        "def set_website_plot_props(ax, fig, xmin, xmax, ymin, ymax, xlabel, ylabel):\n",
        "\n",
        "    # ------------------------------------\n",
        "    # Set properties to use for matplotlib\n",
        "    # ------------------------------------\n",
        "    \n",
        "    set_matplotlib_properties()\n",
        "    \n",
        "    \n",
        "    # ---------------------------------\n",
        "    # Plot properties for website plots\n",
        "    # ---------------------------------\n",
        "\n",
        "    # Allow room at top for the 2 titles\n",
        "    fig.subplots_adjust(top=0.85)\n",
        "\n",
        "    ax.tick_params(which='both', bottom=True, top=True, left=True, right=True)\n",
        "\n",
        "    ax.tick_params(axis='x', labelsize=12)\n",
        "    ax.tick_params(axis='y', labelsize=16)\n",
        "\n",
        "    ax.tick_params(axis='x', which='major', direction='in', length=6, width=1)\n",
        "    ax.tick_params(axis='y', which='major', direction='in', length=8, width=1)\n",
        "    \n",
        "    tick_spacing = 50\n",
        "    ax.yaxis.set_major_locator(ticker.MultipleLocator(tick_spacing))\n",
        "\n",
        "    ax.tick_params(which='minor', direction='in', length=4)\n",
        "    ax.yaxis.set_minor_locator(AutoMinorLocator(5))\n",
        "    \n",
        "    labels = ax.get_xticklabels() + ax.get_yticklabels()\n",
        "    for label in labels: label.set_fontweight('bold')\n",
        "\n",
        "    ax.set_xlabel(xlabel, fontweight='bold', fontsize=12, labelpad=5)\n",
        "    ax.set_ylabel(ylabel, fontweight='bold', fontsize=18, labelpad=5)\n",
        "\n",
        "    # Set axes limits last \n",
        "    # If did before, setting xtick labels past xmin & xmax would have\n",
        "    # extended the plot limits\n",
        "    ax.set_xlim(xmin, xmax)\n",
        "    ax.set_ylim(ymin, ymax)"
      ],
      "outputs": [],
      "metadata": {
        "id": "ripQudHNQ5XS"
      },
      "id": "ripQudHNQ5XS"
    },
    {
      "cell_type": "code",
      "execution_count": 88,
      "source": [
        "def create_xtick_labels(ax, xmin, xmax):\n",
        "    \n",
        "    xrange = range(xmin, xmax)\n",
        "    \n",
        "    date_labels = list(range(0, 11, 1))\n",
        "    date_tick_labels = [str(x) for x in date_labels]\n",
        "    \n",
        "    date_tick_positions = list(range(0, -11000, -1000))\n",
        "\n",
        "    plt.xticks(date_tick_positions, date_tick_labels)\n",
        "\n",
        "    ax.tick_params(axis='x', pad=7)"
      ],
      "outputs": [],
      "metadata": {
        "id": "rDw4rasjQ5XS"
      },
      "id": "rDw4rasjQ5XS"
    },
    {
      "cell_type": "code",
      "execution_count": 89,
      "source": [
        "def add_plot_title(ax, title1, title2):\n",
        "\n",
        "    ax.annotate(title1, xy=(0, 1.15), xycoords='axes fraction', fontsize=14,\n",
        "                horizontalalignment='left', verticalalignment='top', fontweight=\"normal\")\n",
        "    ax.annotate(title2, xy=(0, 1.07), xycoords='axes fraction', fontsize=18,\n",
        "                horizontalalignment='left', verticalalignment='top', fontweight = 'bold')"
      ],
      "outputs": [],
      "metadata": {
        "id": "7FRvfrThQ5XS"
      },
      "id": "7FRvfrThQ5XS"
    },
    {
      "cell_type": "code",
      "execution_count": 90,
      "source": [
        "def apply_arrow_annotations(todays_decimal, mlo_date, mlo_co2):\n",
        "    \n",
        "    mlo_date_before_now = todays_decimal - mlo_date\n",
        "\n",
        "    #  1960, 1980, 2000, 2020\n",
        "    # In years before now\n",
        "    x_1960 = todays_decimal - 1960\n",
        "    x_1980 = todays_decimal - 1980\n",
        "    x_2000 = todays_decimal - 2000\n",
        "    x_2020 = todays_decimal - 2020\n",
        "\n",
        "    spl_fit = interpolate.splrep(-mlo_date_before_now, mlo_co2)\n",
        "\n",
        "    # Evaluate at negative years before now value since this is\n",
        "    # how the data is plotted with x labels replacing xaxis values later\n",
        "    spl_val_1960 = interpolate.splev(-x_1960, spl_fit)\n",
        "    spl_val_1980 = interpolate.splev(-x_1980, spl_fit)\n",
        "    spl_val_2000 = interpolate.splev(-x_2000, spl_fit)\n",
        "    spl_val_2020 = interpolate.splev(-x_2020, spl_fit)\n",
        "    \n",
        "    # Annotation start\n",
        "    x_start = -150\n",
        "    \n",
        "    plt.annotate('1960',\n",
        "             xy=[x_start, spl_val_1960],\n",
        "             xytext=[-60, 0], \n",
        "             verticalalignment = \"center\",\n",
        "             arrowprops=dict(arrowstyle='->',\n",
        "                             relpos=(0, 0.5), lw=1),           \n",
        "             fontsize=11,\n",
        "             textcoords=\"offset points\")\n",
        "\n",
        "    plt.annotate('1980',\n",
        "             xy=[x_start, spl_val_1980],\n",
        "             xytext=[-60, 0], \n",
        "             verticalalignment = \"center\",\n",
        "             arrowprops=dict(arrowstyle='->',\n",
        "                             relpos=(0, 0.5), lw=1),             \n",
        "             fontsize=11, \n",
        "             textcoords=\"offset points\")\n",
        "\n",
        "\n",
        "    plt.annotate('2000',\n",
        "             xy=[x_start, spl_val_2000],\n",
        "             xytext=[-60, 0], \n",
        "             verticalalignment = \"center\",\n",
        "             arrowprops=dict(arrowstyle='->',\n",
        "                             relpos=(0, 0.5), lw=1),             \n",
        "             fontsize=11, \n",
        "             textcoords=\"offset points\")\n",
        "\n",
        "\n",
        "    plt.annotate('2020',\n",
        "             xy=[x_start, spl_val_2020],\n",
        "             xytext=[-60, 0], \n",
        "             verticalalignment = \"center\",\n",
        "             arrowprops=dict(arrowstyle='->',\n",
        "                             relpos=(0, 0.5), lw=1),           \n",
        "             fontsize=11, \n",
        "             textcoords=\"offset points\")"
      ],
      "outputs": [],
      "metadata": {
        "id": "t_JQ0DAXQ5XT"
      },
      "id": "t_JQ0DAXQ5XT"
    },
    {
      "cell_type": "code",
      "execution_count": 91,
      "source": [
        "def add_sio_logo(fig, logo_file, xpos, ypos):\n",
        "\n",
        "    logo = mpimg.imread(logo_file)\n",
        "\n",
        "    fig.add_axes([xpos, ypos, 0.2, 0.2], anchor='SE', zorder=1)\n",
        "\n",
        "    plt.imshow(logo)\n",
        "    plt.axis('off')"
      ],
      "outputs": [],
      "metadata": {
        "id": "n1sAmbXlQ5XT"
      },
      "id": "n1sAmbXlQ5XT"
    },
    {
      "cell_type": "code",
      "execution_count": 92,
      "source": [
        "def save_plot_for_website(fig, pdf_file, png_file):\n",
        "\n",
        "    # For pdf\n",
        "    width_in = 11\n",
        "    height_in = 8.5\n",
        "    fig.set_size_inches(width_in, height_in, forward=True)\n",
        "\n",
        "    plt.subplots_adjust(left=0.1, right=0.11, top=0.8, bottom=0.2)\n",
        "\n",
        "    fig.savefig(pdf_file, facecolor='w', edgecolor='w',\n",
        "                orientation='landscape', format=None,\n",
        "                transparent=False, pad_inches=0)\n",
        "\n",
        "    # For png\n",
        "    width_px = 1000\n",
        "    height_px = (height_in/width_in) * width_px\n",
        "\n",
        "    png_dpi = 100\n",
        "    fig.set_size_inches(width_px/png_dpi, height_px/png_dpi)\n",
        "\n",
        "    fig.savefig(png_file, facecolor='w', edgecolor='w',\n",
        "                orientation='landscape', dpi=png_dpi, pad_inches=0)"
      ],
      "outputs": [],
      "metadata": {
        "id": "CwM0m9vDQ5XT"
      },
      "id": "CwM0m9vDQ5XT"
    },
    {
      "cell_type": "markdown",
      "source": [
        "## Set plot limits and labeling"
      ],
      "metadata": {
        "id": "5Fu2mcaWQ5XT"
      },
      "id": "5Fu2mcaWQ5XT"
    },
    {
      "cell_type": "markdown",
      "source": [
        "### Functions to convert dates into various formats\n",
        "\n",
        "For plot limits and labeling\n",
        "\n",
        "The functions dt2t and get_todays_date_variations were defined earlier"
      ],
      "metadata": {
        "id": "KOaDBA40Q5XU"
      },
      "id": "KOaDBA40Q5XU"
    },
    {
      "cell_type": "code",
      "execution_count": 93,
      "source": [
        "#  https://stackoverflow.com/questions/19305991/convert-fractional-years-to-a-real-date-in-python\n",
        "def t2dt(atime):\n",
        "    \"\"\"\n",
        "    Convert atime (a float) to DT.datetime\n",
        "    This is the inverse of dt2t.\n",
        "    assert dt2t(t2dt(atime)) == atime\n",
        "    \"\"\"\n",
        "    year = int(atime)\n",
        "    remainder = atime - year\n",
        "    boy = datetime(year, 1, 1)\n",
        "    eoy = datetime(year + 1, 1, 1)\n",
        "    seconds = remainder * (eoy - boy).total_seconds()\n",
        "    return boy + timedelta(seconds=seconds)"
      ],
      "outputs": [],
      "metadata": {
        "id": "_pEoKuyQQ5XU"
      },
      "id": "_pEoKuyQQ5XU"
    },
    {
      "cell_type": "code",
      "execution_count": 94,
      "source": [
        "def get_data_end_date(date_data):\n",
        "    last_date = np.max(date_data)\n",
        "    last_date_datetime = t2dt(last_date)\n",
        "    \n",
        "    # Convert date format to month_name day, year\n",
        "    day = last_date_datetime.day\n",
        "    month = last_date_datetime.strftime(\"%B\")\n",
        "    year = last_date_datetime.year\n",
        "    date_modyyr = f\"{month} {day}, {year}\"\n",
        "    return date_modyyr"
      ],
      "outputs": [],
      "metadata": {
        "id": "g5XQ4cRrQ5XU"
      },
      "id": "g5XQ4cRrQ5XU"
    },
    {
      "cell_type": "markdown",
      "source": [
        "#### Get todays date in various formats for labeling"
      ],
      "metadata": {
        "id": "Y8TpBTyDQ5XU"
      },
      "id": "Y8TpBTyDQ5XU"
    },
    {
      "cell_type": "code",
      "execution_count": 95,
      "source": [
        "todays_date_moyr, todays_date_modyyr, todays_decimal, todays_year = get_todays_date_variations()"
      ],
      "outputs": [],
      "metadata": {
        "id": "AGX2jRP0Q5XV"
      },
      "id": "AGX2jRP0Q5XV"
    },
    {
      "cell_type": "markdown",
      "source": [
        "### Set titles and axes labels"
      ],
      "metadata": {
        "id": "91WttTYiQ5XV"
      },
      "id": "91WttTYiQ5XV"
    },
    {
      "cell_type": "code",
      "execution_count": 96,
      "source": [
        "xlabel = 'Thousands of Years Ago'\n",
        "ylabel = \"$\\mathregular{CO}\\\\bf{_2}$\" + \" Concentration (ppm)\"\n",
        "\n",
        "title1 = get_data_end_date(mlo_date)\n",
        "title2 = 'Ice-core data before 1958. Mauna Loa Data after 1958.'"
      ],
      "outputs": [],
      "metadata": {
        "id": "kECJLxgcQ5XV"
      },
      "id": "kECJLxgcQ5XV"
    },
    {
      "cell_type": "markdown",
      "source": [
        "### Set yaxis min and max limits"
      ],
      "metadata": {
        "id": "pNfvOxI4Q5XV"
      },
      "id": "pNfvOxI4Q5XV"
    },
    {
      "cell_type": "code",
      "execution_count": 97,
      "source": [
        "ymin = 200\n",
        "ymax = 430"
      ],
      "outputs": [],
      "metadata": {
        "id": "dETH2MGRQ5XV"
      },
      "id": "dETH2MGRQ5XV"
    },
    {
      "cell_type": "markdown",
      "source": [
        "### Set xaxis min and max limits\n",
        "Plot the data past \"now\" which is 0 on the plot so that there is space to see the MLO data ascending."
      ],
      "metadata": {
        "id": "p74e0W44Q5XV"
      },
      "id": "p74e0W44Q5XV"
    },
    {
      "cell_type": "code",
      "execution_count": 98,
      "source": [
        "xmin = -10000\n",
        "xmax = 250"
      ],
      "outputs": [],
      "metadata": {
        "id": "D9s6x6yDQ5XW"
      },
      "id": "D9s6x6yDQ5XW"
    },
    {
      "cell_type": "markdown",
      "source": [
        "## Create plot and save"
      ],
      "metadata": {
        "id": "04pOCY4oQ5XW"
      },
      "id": "04pOCY4oQ5XW"
    },
    {
      "cell_type": "code",
      "execution_count": 99,
      "source": [
        "fig = plt.figure()\n",
        "\n",
        "# Add padding for exterior plot text\n",
        "ax = plt.axes([0.11, 0.12, 0.83, 0.54])\n",
        "\n",
        "\n",
        "# ------------------------\n",
        "# Add gradiant under curve\n",
        "# ------------------------\n",
        "\n",
        "# Reverse order the arrays for gradient to plot left to right\n",
        "# Order required for gradiant to plot properly\n",
        "combined_years_before_now =  np.flipud(combined_years_before_now)\n",
        "combined_co2 = np.flipud(combined_co2)\n",
        "\n",
        "# Plot gradiant starting at start of data (want negative value of max years back)\n",
        "data_start_date = -max(combined_years_before_now)\n",
        "data_end_date = -min(combined_years_before_now)\n",
        "\n",
        "#area_color = '#ACCAE6'\n",
        "#area_color = '#8CB2E0'\n",
        "area_color = '#73a7e6'\n",
        "\n",
        "gradient_fill(-combined_years_before_now, combined_co2, fill_color=area_color, \n",
        "              xmin=data_start_date, ymin=ymin, xmax=data_end_date, ymax=ymax, \n",
        "              ax=ax, alpha_bottom=0.1, alpha=1.0)\n",
        "\n",
        "\n",
        "# -------------\n",
        "# Plot the data\n",
        "# -------------\n",
        "\n",
        "# Set plotting zorder above the gradient\n",
        "\n",
        "# Plot years back in time (left of 0) so use negative of values\n",
        "# Because want increasing years before now to appear farther left on x axis\n",
        "ax.plot(-combined_years_before_now, combined_co2, '-', color='black', linewidth=0.75, zorder=5)\n",
        "\n",
        "# -----------------------------------------------------\n",
        "# Change xaxis to use date labels and not decimal dates\n",
        "# -----------------------------------------------------\n",
        "create_xtick_labels(ax, xmin, xmax)\n",
        "\n",
        "\n",
        "# -------------------\n",
        "# Set plot properties\n",
        "# -------------------\n",
        "set_website_plot_props(ax, fig, xmin, xmax, ymin, ymax, xlabel, ylabel)\n",
        "\n",
        "\n",
        "# ---------------\n",
        "# Add date arrows\n",
        "# ---------------\n",
        "apply_arrow_annotations(todays_decimal, mlo_date, mlo_co2)\n",
        "\n",
        "\n",
        "# ---------------\n",
        "# Add plot titles\n",
        "# ---------------\n",
        "add_plot_title(ax, title1, title2)\n",
        "\n",
        "# ---------------------\n",
        "# Save plot for website\n",
        "# ---------------------\n",
        "fig = plt.gcf()\n",
        "\n",
        "save_plot_for_website(fig, pdf_file, png_file)\n",
        "\n",
        "\n",
        "plt.show()"
      ],
      "outputs": [
        {
          "output_type": "display_data",
          "data": {
            "image/png": "[encoded data removed]",
            "text/plain": [
              "<Figure size 720x556.364 with 1 Axes>"
            ]
          },
          "metadata": {
            "needs_background": "light"
          }
        }
      ],
      "metadata": {
        "scrolled": false,
        "colab": {
          "base_uri": "https://localhost:8080/",
          "height": 414
        },
        "id": "KfhSBznlQ5XW",
        "outputId": "3f423164-c01d-4d8a-fa15-3216c8140e46"
      },
      "id": "KfhSBznlQ5XW"
    },
    {
      "cell_type": "markdown",
      "source": [
        "## Download Plots (pdf & png)"
      ],
      "metadata": {
        "id": "1KjN7SwCsJLd"
      },
      "id": "1KjN7SwCsJLd"
    },
    {
      "cell_type": "code",
      "source": [
        "def download_files(ev):\n",
        "    files.download(png_file)\n",
        "    files.download(pdf_file)\n",
        "\n",
        "button = widgets.Button(description='Download Files', button_style='primary')\n",
        "button.on_click(download_files)\n",
        "display(button)"
      ],
      "metadata": {
        "colab": {
          "base_uri": "https://localhost:8080/",
          "height": 49,
          "referenced_widgets": [
            "854e3b50d0bf434abddca00f9f645b66",
            "4fd8353b14654b10a8d81ca71f94946f",
            "70c591dc21ea432b84af00de6d219eaa"
          ]
        },
        "id": "go3N0EbjsJmQ",
        "outputId": "b72ef475-8c63-4bb1-feb1-b7fc99c0b726"
      },
      "id": "go3N0EbjsJmQ",
      "execution_count": 100,
      "outputs": [
        {
          "output_type": "display_data",
          "data": {
            "application/vnd.jupyter.widget-view+json": {
              "model_id": "854e3b50d0bf434abddca00f9f645b66",
              "version_minor": 0,
              "version_major": 2
            },
            "text/plain": [
              "Button(button_style='primary', description='Download Files', style=ButtonStyle())"
            ]
          },
          "metadata": {}
        }
      ]
    },
    {
      "cell_type": "code",
      "execution_count": 100,
      "source": [
        ""
      ],
      "outputs": [],
      "metadata": {
        "id": "QI6i9-f4Q5XW"
      },
      "id": "QI6i9-f4Q5XW"
    }
  ],
  "metadata": {
    "kernelspec": {
      "name": "python3",
      "display_name": "Python 3.8.5 64-bit"
    },
    "language_info": {
      "codemirror_mode": {
        "name": "ipython",
        "version": 3
      },
      "file_extension": ".py",
      "mimetype": "text/x-python",
      "name": "python",
      "nbconvert_exporter": "python",
      "pygments_lexer": "ipython3",
      "version": "3.8.5"
    },
    "interpreter": {
      "hash": "31f2aee4e71d21fbe5cf8b01ff0e069b9275f58929596ceb00d14d90e3e16cd6"
    },
    "colab": {
      "name": "plot_icecore_back_10K_keelingcurve.ipynb",
      "provenance": [],
      "include_colab_link": true
    },
    "widgets": {
      "application/vnd.jupyter.widget-state+json": {
        "854e3b50d0bf434abddca00f9f645b66": {
          "model_module": "@jupyter-widgets/controls",
          "model_name": "ButtonModel",
          "model_module_version": "1.5.0",
          "state": {
            "_view_name": "ButtonView",
            "style": "IPY_MODEL_4fd8353b14654b10a8d81ca71f94946f",
            "_dom_classes": [],
            "description": "Download Files",
            "_model_name": "ButtonModel",
            "button_style": "primary",
            "_view_module": "@jupyter-widgets/controls",
            "_model_module_version": "1.5.0",
            "tooltip": "",
            "_view_count": null,
            "disabled": false,
            "_view_module_version": "1.5.0",
            "layout": "IPY_MODEL_70c591dc21ea432b84af00de6d219eaa",
            "_model_module": "@jupyter-widgets/controls",
            "icon": ""
          }
        },
        "4fd8353b14654b10a8d81ca71f94946f": {
          "model_module": "@jupyter-widgets/controls",
          "model_name": "ButtonStyleModel",
          "model_module_version": "1.5.0",
          "state": {
            "_view_name": "StyleView",
            "_model_name": "ButtonStyleModel",
            "_view_module": "@jupyter-widgets/base",
            "_model_module_version": "1.5.0",
            "_view_count": null,
            "button_color": null,
            "font_weight": "",
            "_view_module_version": "1.2.0",
            "_model_module": "@jupyter-widgets/controls"
          }
        },
        "70c591dc21ea432b84af00de6d219eaa": {
          "model_module": "@jupyter-widgets/base",
          "model_name": "LayoutModel",
          "model_module_version": "1.2.0",
          "state": {
            "_view_name": "LayoutView",
            "grid_template_rows": null,
            "right": null,
            "justify_content": null,
            "_view_module": "@jupyter-widgets/base",
            "overflow": null,
            "_model_module_version": "1.2.0",
            "_view_count": null,
            "flex_flow": null,
            "width": null,
            "min_width": null,
            "border": null,
            "align_items": null,
            "bottom": null,
            "_model_module": "@jupyter-widgets/base",
            "top": null,
            "grid_column": null,
            "overflow_y": null,
            "overflow_x": null,
            "grid_auto_flow": null,
            "grid_area": null,
            "grid_template_columns": null,
            "flex": null,
            "_model_name": "LayoutModel",
            "justify_items": null,
            "grid_row": null,
            "max_height": null,
            "align_content": null,
            "visibility": null,
            "align_self": null,
            "height": null,
            "min_height": null,
            "padding": null,
            "grid_auto_rows": null,
            "grid_gap": null,
            "max_width": null,
            "order": null,
            "_view_module_version": "1.2.0",
            "grid_template_areas": null,
            "object_position": null,
            "object_fit": null,
            "grid_auto_columns": null,
            "margin": null,
            "display": null,
            "left": null
          }
        }
      }
    }
  },
  "nbformat": 4,
  "nbformat_minor": 5
}