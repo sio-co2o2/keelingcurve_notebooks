{
  "cells": [
    {
      "cell_type": "markdown",
      "metadata": {
        "id": "view-in-github",
        "colab_type": "text"
      },
      "source": [
        "<a href=\"https://colab.research.google.com/github/sio-co2o2/keelingcurve_notebooks/blob/main/notebooks/plot_mlo_one_month_keelingcurve.ipynb\" target=\"_parent\"><img src=\"https://colab.research.google.com/assets/colab-badge.svg\" alt=\"Open In Colab\"/></a>"
      ]
    },
    {
      "cell_type": "markdown",
      "metadata": {
        "id": "5trLM-gDIv8O"
      },
      "source": [
        "# Plot last month of CO2 at Mauna Loa, Hawaii"
      ],
      "id": "5trLM-gDIv8O"
    },
    {
      "cell_type": "markdown",
      "metadata": {
        "id": "JxrYCKJ2Iv8R"
      },
      "source": [
        "### The Keeling Curve\n",
        "https://keelingcurve.ucsd.edu\n",
        "\n",
        "This notebook creates pdf and png plot versions."
      ],
      "id": "JxrYCKJ2Iv8R"
    },
    {
      "cell_type": "markdown",
      "metadata": {
        "id": "jDT8BV6aIv8S"
      },
      "source": [
        "## Import packages"
      ],
      "id": "jDT8BV6aIv8S"
    },
    {
      "cell_type": "code",
      "execution_count": null,
      "metadata": {
        "id": "h54snReMIv8S"
      },
      "outputs": [],
      "source": [
        "import re\n",
        "import pandas as pd\n",
        "import numpy as np\n",
        "from datetime import datetime, date, timedelta\n",
        "from dateutil.relativedelta import relativedelta\n",
        "import pathlib\n",
        "import matplotlib.image as mpimg\n",
        "import matplotlib.pyplot as plt\n",
        "from matplotlib.pyplot import figure\n",
        "from matplotlib.ticker import (MultipleLocator, AutoMinorLocator)\n",
        "from matplotlib import ticker\n",
        "from matplotlib import rc,rcParams\n",
        "from matplotlib.path import Path\n",
        "import matplotlib.colors as mcolors\n",
        "from matplotlib.patches import Polygon\n",
        "import matplotlib.dates as mdates\n",
        "import matplotlib.lines as mlines\n",
        "from scipy.interpolate import UnivariateSpline\n",
        "from scipy import interpolate\n",
        "import matplotlib.transforms\n",
        "from google.colab import files\n",
        "from matplotlib import animation\n",
        "from ipywidgets import widgets\n",
        "from IPython.display import HTML\n",
        "from base64 import b64encode\n",
        "\n",
        "%matplotlib inline"
      ],
      "id": "h54snReMIv8S"
    },
    {
      "cell_type": "markdown",
      "metadata": {
        "id": "vbnaI4gHIv8T"
      },
      "source": [
        "## Set directories and file names for data,  plot, and logo"
      ],
      "id": "vbnaI4gHIv8T"
    },
    {
      "cell_type": "code",
      "execution_count": null,
      "metadata": {
        "id": "Bw62ok04Iv8U"
      },
      "outputs": [],
      "source": [
        "# Read in data from github repository\n",
        "data_file = 'https://raw.githubusercontent.com/sio-co2o2/keelingcurve_notebooks/main/data/mlo/mlo_one_month_span.csv'\n",
        "\n",
        "logo_file = 'https://github.com/sio-co2o2/keelingcurve_notebooks/raw/main/images/sio_logo.png'\n",
        "\n",
        "plot_dir = pathlib.Path('./plots')\n",
        "plot_dir.mkdir(exist_ok=True)\n",
        "\n",
        "plot_basename = 'mlo_one_month'\n",
        "\n",
        "pdf_file = plot_dir / f\"{plot_basename}.pdf\"\n",
        "png_file = plot_dir / f\"{plot_basename}.png\""
      ],
      "id": "Bw62ok04Iv8U"
    },
    {
      "cell_type": "markdown",
      "metadata": {
        "id": "Kj33X1F7Iv8U"
      },
      "source": [
        "## Load in Data and process"
      ],
      "id": "Kj33X1F7Iv8U"
    },
    {
      "cell_type": "code",
      "execution_count": null,
      "metadata": {
        "colab": {
          "base_uri": "https://localhost:8080/",
          "height": 206
        },
        "id": "DtxNINwGIv8V",
        "outputId": "6a91841d-f1d9-4af5-9982-b10f0ee2e39e"
      },
      "outputs": [
        {
          "output_type": "execute_result",
          "data": {
            "text/html": [
              "\n",
              "  <div id=\"df-d1644efb-7259-404d-9da8-7a1badf91fea\">\n",
              "    <div class=\"colab-df-container\">\n",
              "      <div>\n",
              "<style scoped>\n",
              "    .dataframe tbody tr th:only-of-type {\n",
              "        vertical-align: middle;\n",
              "    }\n",
              "\n",
              "    .dataframe tbody tr th {\n",
              "        vertical-align: top;\n",
              "    }\n",
              "\n",
              "    .dataframe thead th {\n",
              "        text-align: right;\n",
              "    }\n",
              "</style>\n",
              "<table border=\"1\" class=\"dataframe\">\n",
              "  <thead>\n",
              "    <tr style=\"text-align: right;\">\n",
              "      <th></th>\n",
              "      <th>date_hr</th>\n",
              "      <th>co2_hr</th>\n",
              "      <th>date_dy</th>\n",
              "      <th>co2_dy</th>\n",
              "      <th>date_wk</th>\n",
              "      <th>co2_wk</th>\n",
              "    </tr>\n",
              "  </thead>\n",
              "  <tbody>\n",
              "    <tr>\n",
              "      <th>0</th>\n",
              "      <td>2021.860316</td>\n",
              "      <td>414.90</td>\n",
              "      <td>2021.861644</td>\n",
              "      <td>415.29</td>\n",
              "      <td>2021.865753</td>\n",
              "      <td>414.77</td>\n",
              "    </tr>\n",
              "    <tr>\n",
              "      <th>1</th>\n",
              "      <td>2021.860354</td>\n",
              "      <td>414.89</td>\n",
              "      <td>2021.864384</td>\n",
              "      <td>415.44</td>\n",
              "      <td>2021.884932</td>\n",
              "      <td>414.91</td>\n",
              "    </tr>\n",
              "    <tr>\n",
              "      <th>2</th>\n",
              "      <td>2021.860377</td>\n",
              "      <td>414.93</td>\n",
              "      <td>2021.867123</td>\n",
              "      <td>414.51</td>\n",
              "      <td>2021.904110</td>\n",
              "      <td>415.58</td>\n",
              "    </tr>\n",
              "    <tr>\n",
              "      <th>3</th>\n",
              "      <td>2021.860457</td>\n",
              "      <td>414.97</td>\n",
              "      <td>2021.869863</td>\n",
              "      <td>414.36</td>\n",
              "      <td>2021.923288</td>\n",
              "      <td>415.77</td>\n",
              "    </tr>\n",
              "    <tr>\n",
              "      <th>4</th>\n",
              "      <td>2021.860546</td>\n",
              "      <td>414.91</td>\n",
              "      <td>2021.872603</td>\n",
              "      <td>414.39</td>\n",
              "      <td>2021.942466</td>\n",
              "      <td>415.91</td>\n",
              "    </tr>\n",
              "  </tbody>\n",
              "</table>\n",
              "</div>\n",
              "      <button class=\"colab-df-convert\" onclick=\"convertToInteractive('df-d1644efb-7259-404d-9da8-7a1badf91fea')\"\n",
              "              title=\"Convert this dataframe to an interactive table.\"\n",
              "              style=\"display:none;\">\n",
              "        \n",
              "  <svg xmlns=\"http://www.w3.org/2000/svg\" height=\"24px\"viewBox=\"0 0 24 24\"\n",
              "       width=\"24px\">\n",
              "    <path d=\"M0 0h24v24H0V0z\" fill=\"none\"/>\n",
              "    <path d=\"M18.56 5.44l.94 2.06.94-2.06 2.06-.94-2.06-.94-.94-2.06-.94 2.06-2.06.94zm-11 1L8.5 8.5l.94-2.06 2.06-.94-2.06-.94L8.5 2.5l-.94 2.06-2.06.94zm10 10l.94 2.06.94-2.06 2.06-.94-2.06-.94-.94-2.06-.94 2.06-2.06.94z\"/><path d=\"M17.41 7.96l-1.37-1.37c-.4-.4-.92-.59-1.43-.59-.52 0-1.04.2-1.43.59L10.3 9.45l-7.72 7.72c-.78.78-.78 2.05 0 2.83L4 21.41c.39.39.9.59 1.41.59.51 0 1.02-.2 1.41-.59l7.78-7.78 2.81-2.81c.8-.78.8-2.07 0-2.86zM5.41 20L4 18.59l7.72-7.72 1.47 1.35L5.41 20z\"/>\n",
              "  </svg>\n",
              "      </button>\n",
              "      \n",
              "  <style>\n",
              "    .colab-df-container {\n",
              "      display:flex;\n",
              "      flex-wrap:wrap;\n",
              "      gap: 12px;\n",
              "    }\n",
              "\n",
              "    .colab-df-convert {\n",
              "      background-color: #E8F0FE;\n",
              "      border: none;\n",
              "      border-radius: 50%;\n",
              "      cursor: pointer;\n",
              "      display: none;\n",
              "      fill: #1967D2;\n",
              "      height: 32px;\n",
              "      padding: 0 0 0 0;\n",
              "      width: 32px;\n",
              "    }\n",
              "\n",
              "    .colab-df-convert:hover {\n",
              "      background-color: #E2EBFA;\n",
              "      box-shadow: 0px 1px 2px rgba(60, 64, 67, 0.3), 0px 1px 3px 1px rgba(60, 64, 67, 0.15);\n",
              "      fill: #174EA6;\n",
              "    }\n",
              "\n",
              "    [theme=dark] .colab-df-convert {\n",
              "      background-color: #3B4455;\n",
              "      fill: #D2E3FC;\n",
              "    }\n",
              "\n",
              "    [theme=dark] .colab-df-convert:hover {\n",
              "      background-color: #434B5C;\n",
              "      box-shadow: 0px 1px 3px 1px rgba(0, 0, 0, 0.15);\n",
              "      filter: drop-shadow(0px 1px 2px rgba(0, 0, 0, 0.3));\n",
              "      fill: #FFFFFF;\n",
              "    }\n",
              "  </style>\n",
              "\n",
              "      <script>\n",
              "        const buttonEl =\n",
              "          document.querySelector('#df-d1644efb-7259-404d-9da8-7a1badf91fea button.colab-df-convert');\n",
              "        buttonEl.style.display =\n",
              "          google.colab.kernel.accessAllowed ? 'block' : 'none';\n",
              "\n",
              "        async function convertToInteractive(key) {\n",
              "          const element = document.querySelector('#df-d1644efb-7259-404d-9da8-7a1badf91fea');\n",
              "          const dataTable =\n",
              "            await google.colab.kernel.invokeFunction('convertToInteractive',\n",
              "                                                     [key], {});\n",
              "          if (!dataTable) return;\n",
              "\n",
              "          const docLinkHtml = 'Like what you see? Visit the ' +\n",
              "            '<a target=\"_blank\" href=https://colab.research.google.com/notebooks/data_table.ipynb>data table notebook</a>'\n",
              "            + ' to learn more about interactive tables.';\n",
              "          element.innerHTML = '';\n",
              "          dataTable['output_type'] = 'display_data';\n",
              "          await google.colab.output.renderOutput(dataTable, element);\n",
              "          const docLink = document.createElement('div');\n",
              "          docLink.innerHTML = docLinkHtml;\n",
              "          element.appendChild(docLink);\n",
              "        }\n",
              "      </script>\n",
              "    </div>\n",
              "  </div>\n",
              "  "
            ],
            "text/plain": [
              "       date_hr  co2_hr      date_dy  co2_dy      date_wk  co2_wk\n",
              "0  2021.860316  414.90  2021.861644  415.29  2021.865753  414.77\n",
              "1  2021.860354  414.89  2021.864384  415.44  2021.884932  414.91\n",
              "2  2021.860377  414.93  2021.867123  414.51  2021.904110  415.58\n",
              "3  2021.860457  414.97  2021.869863  414.36  2021.923288  415.77\n",
              "4  2021.860546  414.91  2021.872603  414.39  2021.942466  415.91"
            ]
          },
          "metadata": {},
          "execution_count": 3
        }
      ],
      "source": [
        "# weekly spline is a spline fit to monthly data on a weekly timescale\n",
        "# to the last week less than the last plot date\n",
        "df = pd.read_csv(data_file,sep=',',comment='\"')\n",
        "df.head()"
      ],
      "id": "DtxNINwGIv8V"
    },
    {
      "cell_type": "markdown",
      "metadata": {
        "id": "4-utOXLVIv8W"
      },
      "source": [
        "### Break into dataframes for each time frequency"
      ],
      "id": "4-utOXLVIv8W"
    },
    {
      "cell_type": "code",
      "execution_count": null,
      "metadata": {
        "id": "gqr77H-fIv8X"
      },
      "outputs": [],
      "source": [
        "df_hourly = df[['date_hr', 'co2_hr']].copy()\n",
        "df_daily = df[['date_dy', 'co2_dy']].copy()\n",
        "df_wk = df[['date_wk', 'co2_wk']].copy()"
      ],
      "id": "gqr77H-fIv8X"
    },
    {
      "cell_type": "markdown",
      "metadata": {
        "id": "0m1jr6GXIv8X"
      },
      "source": [
        "### Remove rows with fill values NaN"
      ],
      "id": "0m1jr6GXIv8X"
    },
    {
      "cell_type": "code",
      "execution_count": null,
      "metadata": {
        "scrolled": true,
        "id": "aMzdWwzCIv8Y"
      },
      "outputs": [],
      "source": [
        "df_hourly = df_hourly[df_hourly['co2_hr'].notnull()]\n",
        "df_daily = df_daily[df_daily['co2_dy'].notnull()]\n",
        "df_weekly = df_wk[df_wk['co2_wk'].notnull()]"
      ],
      "id": "aMzdWwzCIv8Y"
    },
    {
      "cell_type": "markdown",
      "metadata": {
        "id": "AasQfSJtIv8Y"
      },
      "source": [
        "### Convert to numpy arrays for plotting"
      ],
      "id": "AasQfSJtIv8Y"
    },
    {
      "cell_type": "code",
      "execution_count": null,
      "metadata": {
        "id": "POASbpOiIv8Y"
      },
      "outputs": [],
      "source": [
        "date_hourly = df_hourly['date_hr'].to_numpy()\n",
        "co2_hourly = df_hourly['co2_hr'].to_numpy()\n",
        "date_daily = df_daily['date_dy'].to_numpy()\n",
        "co2_daily = df_daily['co2_dy'].to_numpy()\n",
        "date_weekly = df_weekly['date_wk'].to_numpy()\n",
        "co2_weekly = df_weekly['co2_wk'].to_numpy()"
      ],
      "id": "POASbpOiIv8Y"
    },
    {
      "cell_type": "markdown",
      "metadata": {
        "id": "JDrYbMgRIv8Z"
      },
      "source": [
        "### Convert decimal year to datetime for plotting"
      ],
      "id": "JDrYbMgRIv8Z"
    },
    {
      "cell_type": "code",
      "execution_count": null,
      "metadata": {
        "id": "96KZXd27Iv8Z"
      },
      "outputs": [],
      "source": [
        "#  https://stackoverflow.com/questions/19305991/convert-fractional-years-to-a-real-date-in-python\n",
        "def t2dt(atime):\n",
        "    \"\"\"\n",
        "    Convert atime (a float) to DT.datetime\n",
        "    This is the inverse of dt2t.\n",
        "    assert dt2t(t2dt(atime)) == atime\n",
        "    \"\"\"\n",
        "    year = int(atime)\n",
        "    remainder = atime - year\n",
        "    boy = datetime(year, 1, 1)\n",
        "    eoy = datetime(year + 1, 1, 1)\n",
        "    seconds = remainder * (eoy - boy).total_seconds()\n",
        "    return boy + timedelta(seconds=seconds)"
      ],
      "id": "96KZXd27Iv8Z"
    },
    {
      "cell_type": "code",
      "execution_count": null,
      "metadata": {
        "id": "f8svDsDIIv8Z"
      },
      "outputs": [],
      "source": [
        "datetime_hourly = np.array([t2dt(x) for x in date_hourly])\n",
        "datetime_daily = np.array([t2dt(x) for x in date_daily])\n",
        "datetime_weekly = np.array([t2dt(x) for x in date_weekly])"
      ],
      "id": "f8svDsDIIv8Z"
    },
    {
      "cell_type": "markdown",
      "metadata": {
        "id": "QOr6l1_FIv8Z"
      },
      "source": [
        "## Define plot functions"
      ],
      "id": "QOr6l1_FIv8Z"
    },
    {
      "cell_type": "code",
      "execution_count": null,
      "metadata": {
        "id": "0iY6-ygWIv8a"
      },
      "outputs": [],
      "source": [
        "# https://stackoverflow.com/questions/29321835/is-it-possible-to-get-color-gradients-under-curve-in-matplotlib\n",
        "# Modified to add gradient below curve and have a bottom alpha\n",
        "\n",
        "# def gradient_fill(x, y, fill_color=None, ax=None, **kwargs):\n",
        "def gradient_fill(x, y, fill_color='#FFFFFF', xmin=None, ymin=None, xmax=None, \n",
        "                  ymax=None, alpha_bottom=None, ax=None, alpha=1, zorder=1, **kwargs):\n",
        "    \"\"\"\n",
        "    Plot a line with a linear alpha gradient filled beneath it.\n",
        "\n",
        "    Parameters\n",
        "    ----------\n",
        "    x, y : array-like\n",
        "        The data values of the line.\n",
        "    fill_color : a matplotlib color specifier (string, tuple) or None\n",
        "        The color for the fill. If None, the color of the line will be used.\n",
        "    ax : a matplotlib Axes instance\n",
        "        The axes to plot on. If None, the current pyplot axes will be used.\n",
        "    Additional arguments are passed on to matplotlib's ``plot`` function.\n",
        "\n",
        "    Returns\n",
        "    -------\n",
        "    line : a Line2D instance\n",
        "        The line plotted.\n",
        "    im : an AxesImage instance\n",
        "        The transparent gradient clipped to just the area beneath the curve.\n",
        "    \"\"\"\n",
        "    if ax is None:\n",
        "        ax = plt.gca()\n",
        "\n",
        "    # Only want the gradient to show\n",
        "    #line, = ax.plot(x, y, **kwargs)\n",
        "    #if fill_color is None:\n",
        "    #    fill_color = line.get_color()\n",
        "\n",
        "    if alpha_bottom is None:\n",
        "        alpha_bottom = 0\n",
        "\n",
        "    if xmin is None:\n",
        "        xmin = x.min()\n",
        "\n",
        "    if ymin is None:\n",
        "        ymin = y.min()\n",
        "        \n",
        "    if xmax is None:\n",
        "        xmax = x.max()\n",
        "\n",
        "    if ymax is None:\n",
        "        ymax = y.max()\n",
        "        \n",
        "    if zorder is None:\n",
        "        zorder = 1\n",
        "        \n",
        "    #zorder = line.get_zorder()\n",
        "    \n",
        "    #alpha = line.get_alpha()\n",
        "    #alpha = 1.0 if alpha is None else alpha\n",
        "\n",
        "    z = np.empty((100, 1, 4), dtype=float)\n",
        "    rgb = mcolors.colorConverter.to_rgb(fill_color)\n",
        "    z[:, :, :3] = rgb\n",
        "    #z[:,:,-1] = np.linspace(0, alpha, 100)[:,None]\n",
        "    z[:, :, -1] = np.linspace(alpha_bottom, alpha, 100)[:, None]\n",
        "\n",
        "    #xmin, xmax, ymin, ymax = x.min(), x.max(), y.min(), y.max()\n",
        "    \n",
        "    im = ax.imshow(z, aspect='auto', extent=[xmin, xmax, ymin, ymax],\n",
        "                   origin='lower', zorder=zorder)\n",
        "\n",
        "    xy = np.column_stack([x, y])\n",
        "    xy = np.vstack([[xmin, ymin], xy, [xmax, ymin], [xmin, ymin]])\n",
        "    clip_path = Polygon(xy, facecolor='none', edgecolor='none', closed=True)\n",
        "    ax.add_patch(clip_path)\n",
        "    im.set_clip_path(clip_path)\n",
        "    \n",
        "    ax.autoscale(True)\n",
        "    \n",
        "    #return line, im"
      ],
      "id": "0iY6-ygWIv8a"
    },
    {
      "cell_type": "code",
      "execution_count": null,
      "metadata": {
        "id": "mG9NoI94Iv8a"
      },
      "outputs": [],
      "source": [
        "def set_matplotlib_properties():\n",
        "    \n",
        "    # Set default properties for matplotlib\n",
        "    \n",
        "    # Reset rcparams in case modified defaults in another notebook during same session \n",
        "    plt.rcParams.update(plt.rcParamsDefault)\n",
        "\n",
        "    plt.rcParams.update({'axes.linewidth':1.5})\n",
        "    \n",
        "    plt.rcParams.update({\n",
        "        \"text.usetex\": False,\n",
        "        \"font.family\": \"sans-serif\",\n",
        "        \"font.weight\":  \"normal\",\n",
        "        \"font.sans-serif\": [\"Arial\", \"Tahoma\", \"Helvetica\",\"FreeSans\", \"NimbusSans\", \"LiberationSans\",\"DejaVu Sans\"],\n",
        "        \"mathtext.default\":'regular',\n",
        "        \"mathtext.fontset\": \"dejavusans\"\n",
        "    })\n",
        "        \n",
        "    # http://phyletica.org/matplotlib-fonts/\n",
        "    # This causes matplotlib to use Type 42 (a.k.a. TrueType) fonts \n",
        "    # for PostScript and PDF files. This allows you to avoid Type 3 fonts.\n",
        "    # Turning on usetex also works\n",
        "    # Needed on Ubuntu for pdf fonts \n",
        "    plt.rcParams.update({\n",
        "      'pdf.fonttype': 42,\n",
        "        'ps.fonttype': 42 \n",
        "    })"
      ],
      "id": "mG9NoI94Iv8a"
    },
    {
      "cell_type": "code",
      "execution_count": null,
      "metadata": {
        "id": "c-a5s8meIv8b"
      },
      "outputs": [],
      "source": [
        "def set_website_plot_props(ax, fig, xmin, xmax, ymin, ymax, xlabel, ylabel):\n",
        "\n",
        "    \n",
        "    # ------------------------------------\n",
        "    # Set properties to use for matplotlib\n",
        "    # ------------------------------------\n",
        "    \n",
        "    set_matplotlib_properties()\n",
        "    \n",
        "    # ---------------------------------\n",
        "    # Plot properties for website plots\n",
        "    # ---------------------------------\n",
        "\n",
        "    # Allow room at top for the 2 titles\n",
        "    fig.subplots_adjust(top=0.85)\n",
        "\n",
        "    ax.tick_params(which='both', bottom=True, top=True, left=True, right=True)\n",
        "\n",
        "    ax.tick_params(axis='x', labelsize=12, pad=5)\n",
        "    ax.tick_params(axis='y', labelsize=16)\n",
        "\n",
        "    ax.tick_params(axis='x', which='major', direction='in', length=6, width=1)\n",
        "    ax.tick_params(axis='y', which='major', direction='in', length=8, width=1)\n",
        "\n",
        "    ax.xaxis.set_major_formatter(mdates.DateFormatter('%-d'))\n",
        "    \n",
        "    fmt_every_day = mdates.DayLocator(interval=1)\n",
        "    ax.xaxis.set_major_locator(fmt_every_day)\n",
        "    \n",
        "    tick_spacing = 5\n",
        "    ax.yaxis.set_major_locator(ticker.MultipleLocator(tick_spacing))\n",
        "\n",
        "    labels = ax.get_xticklabels() + ax.get_yticklabels()\n",
        "    for label in labels: label.set_fontweight('bold') \n",
        "\n",
        "    ax.tick_params(which='minor', direction='in', length=4)\n",
        "    \n",
        "    ax.yaxis.set_minor_locator(AutoMinorLocator(5))\n",
        "    \n",
        "    ax.tick_params(axis='x', which='minor', bottom=False)\n",
        "    \n",
        "    ax.set_xlabel(xlabel, fontweight='bold', fontsize=18, labelpad=5)\n",
        "    ax.set_ylabel(ylabel, fontweight='bold', fontsize=18, labelpad=5)\n",
        "\n",
        "    # Set axes limits last \n",
        "    # If did before, setting xtick labels past xmin & xmax would have\n",
        "    # extended the plot limits\n",
        "    ax.set_xlim(xmin, xmax)\n",
        "    ax.set_ylim(ymin, ymax)"
      ],
      "id": "c-a5s8meIv8b"
    },
    {
      "cell_type": "code",
      "execution_count": null,
      "metadata": {
        "id": "VUWApPJHIv8b"
      },
      "outputs": [],
      "source": [
        "def create_xtick_labels(ax, xmin, xmax):\n",
        "    \n",
        "    # Move tick labels so left aligned with tick mark\n",
        "    # to represent the day as starting at the tick mark\n",
        "    for tick in ax.xaxis.get_majorticklabels():\n",
        "        tick.set_horizontalalignment(\"left\")\n",
        "        \n",
        "    # Place the starting and ending months below the xaxis tick labels\n",
        "    start_month = xmin.month\n",
        "    start_month = date(1900, start_month, 1).strftime('%b')\n",
        "\n",
        "    label_text = start_month\n",
        "    ax.annotate(label_text, xy=(0, -0.06), xycoords='axes fraction', fontsize=10, fontweight='bold',\n",
        "                horizontalalignment='left', verticalalignment='top')\n",
        "\n",
        "    end_month = xmax.month\n",
        "    end_month = date(1900, end_month, 1).strftime('%b')\n",
        "    \n",
        "    label_text = end_month\n",
        "    ax.annotate(label_text, xy=(0.97, -0.06), xycoords='axes fraction', fontsize=10, fontweight='bold',\n",
        "                horizontalalignment='left', verticalalignment='top')\n",
        "\n",
        "    ax.tick_params(axis='x', pad=7)"
      ],
      "id": "VUWApPJHIv8b"
    },
    {
      "cell_type": "code",
      "execution_count": null,
      "metadata": {
        "id": "s1USDb05Iv8b"
      },
      "outputs": [],
      "source": [
        "def add_plot_title(ax, title1, title2):\n",
        "\n",
        "    ax.annotate(title1, xy=(0, 1.15), xycoords='axes fraction', fontsize=14,\n",
        "                horizontalalignment='left', verticalalignment='top', fontweight=\"normal\")\n",
        "    ax.annotate(title2, xy=(0, 1.07), xycoords='axes fraction', fontsize=18,\n",
        "                horizontalalignment='left', verticalalignment='top', fontweight = 'bold')"
      ],
      "id": "s1USDb05Iv8b"
    },
    {
      "cell_type": "code",
      "execution_count": null,
      "metadata": {
        "id": "Uo4Ac0M5Iv8c"
      },
      "outputs": [],
      "source": [
        "def add_inset_label(ax, label_start, today):\n",
        "    label_text = f\"{label_start} ending {today}\"\n",
        "    ax.annotate(label_text, xy=(0.03, 0.9), xycoords='axes fraction', fontsize=12,\n",
        "                horizontalalignment='left', verticalalignment='top')"
      ],
      "id": "Uo4Ac0M5Iv8c"
    },
    {
      "cell_type": "code",
      "execution_count": null,
      "metadata": {
        "id": "om9l0SC2Iv8c"
      },
      "outputs": [],
      "source": [
        "def add_legend_labels(ax):\n",
        "\n",
        "    legend_1 = 'Hourly average'\n",
        "    legend_2 = 'Daily average'\n",
        "    legend_3 = 'Weekly average'\n",
        "    \n",
        "    legend_properties = {'weight':'bold'}\n",
        "\n",
        "    gray = '#666666'\n",
        "    gray_dot = mlines.Line2D([], [], marker = 'o', color=gray,markersize=4, \n",
        "             markerfacecolor=gray, markeredgecolor=gray, markeredgewidth=0, linestyle='None')\n",
        "\n",
        "    black_filled_circle = mlines.Line2D([], [], marker = 'o', color='black',markersize=6, \n",
        "             markerfacecolor='black', markeredgecolor='black', markeredgewidth=0, linestyle='None')\n",
        "   \n",
        "    black_filled_circle_lg = mlines.Line2D([], [], marker = 'o', color='black',markersize=9, \n",
        "             markerfacecolor='black', markeredgecolor='black', markeredgewidth=0, linestyle='None')\n",
        "   \n",
        "    # Use best placement for legend\n",
        "    plt.rc('legend',fontsize=12)\n",
        "    ax.legend([gray_dot, black_filled_circle, black_filled_circle_lg], \n",
        "              [legend_1, legend_2, legend_3],frameon=False,borderaxespad=1,\n",
        "              labelspacing=0.2, prop=legend_properties)"
      ],
      "id": "om9l0SC2Iv8c"
    },
    {
      "cell_type": "code",
      "execution_count": null,
      "metadata": {
        "id": "9WHi4848Iv8c"
      },
      "outputs": [],
      "source": [
        "def add_sio_logo(fig, logo_file, xpos, ypos):\n",
        "\n",
        "    logo = mpimg.imread(logo_file)\n",
        "\n",
        "    fig.add_axes([xpos, ypos, 0.2, 0.2], anchor='SE', zorder=1)\n",
        "\n",
        "    plt.imshow(logo)\n",
        "    plt.axis('off')"
      ],
      "id": "9WHi4848Iv8c"
    },
    {
      "cell_type": "code",
      "execution_count": null,
      "metadata": {
        "id": "3a2jRnF4Iv8c"
      },
      "outputs": [],
      "source": [
        "def save_plot_for_website(fig, pdf_file, png_file):\n",
        "\n",
        "    # For pdf\n",
        "    width_in = 11\n",
        "    height_in = 8.5\n",
        "    fig.set_size_inches(width_in, height_in, forward=True)\n",
        "\n",
        "    plt.subplots_adjust(left=0.1, right=0.11, top=0.8, bottom=0.2)\n",
        "\n",
        "    fig.savefig(pdf_file, facecolor='w', edgecolor='w',\n",
        "                orientation='landscape', format=None,\n",
        "                transparent=False, pad_inches=0)\n",
        "\n",
        "    # For png\n",
        "    width_px = 1000\n",
        "    height_px = (height_in/width_in) * width_px\n",
        "\n",
        "    png_dpi = 100\n",
        "    fig.set_size_inches(width_px/png_dpi, height_px/png_dpi)\n",
        "\n",
        "    fig.savefig(png_file, facecolor='w', edgecolor='w',\n",
        "                orientation='landscape', dpi=png_dpi, pad_inches=0)"
      ],
      "id": "3a2jRnF4Iv8c"
    },
    {
      "cell_type": "markdown",
      "metadata": {
        "id": "aaOrzQT6Iv8c"
      },
      "source": [
        "## Set plot limits and labeling"
      ],
      "id": "aaOrzQT6Iv8c"
    },
    {
      "cell_type": "markdown",
      "metadata": {
        "id": "XtqQZQUUIv8d"
      },
      "source": [
        "### Functions to convert dates into various formats\n",
        "For plot limits and labeling"
      ],
      "id": "XtqQZQUUIv8d"
    },
    {
      "cell_type": "code",
      "execution_count": null,
      "metadata": {
        "id": "7H37rVwzIv8d"
      },
      "outputs": [],
      "source": [
        "# Function to convert datetime to a float\n",
        "def dt2t(adatetime):\n",
        "    \"\"\"\n",
        "    Convert adatetime into a float. The integer part of the float should\n",
        "    represent the year.\n",
        "    Order should be preserved. If adate<bdate, then d2t(adate)<d2t(bdate)\n",
        "    time distances should be preserved: If bdate-adate=ddate-cdate then\n",
        "    dt2t(bdate)-dt2t(adate) = dt2t(ddate)-dt2t(cdate)\n",
        "    \"\"\"\n",
        "    year = adatetime.year\n",
        "    boy = datetime(year, 1, 1)\n",
        "    eoy = datetime(year + 1, 1, 1)\n",
        "    return year + ((adatetime - boy).total_seconds() / ((eoy - boy).total_seconds()))"
      ],
      "id": "7H37rVwzIv8d"
    },
    {
      "cell_type": "code",
      "execution_count": null,
      "metadata": {
        "id": "sc_reV_bIv8d"
      },
      "outputs": [],
      "source": [
        "def get_todays_date_variations():\n",
        "    \n",
        "    now = datetime.now()\n",
        "    todays_decimal =  dt2t(now)\n",
        "    \n",
        "    today = date.today()\n",
        "\n",
        "    todays_day = today.day\n",
        "    todays_month = today.strftime(\"%B\")\n",
        "    todays_year = today.year\n",
        "    todays_date_moyr = today.strftime(\"%B %Y\")\n",
        "    todays_date_modyyr = f\"{todays_month} {todays_day}, {todays_year}\"\n",
        "\n",
        "    return todays_date_moyr, todays_date_modyyr, todays_decimal, todays_year"
      ],
      "id": "sc_reV_bIv8d"
    },
    {
      "cell_type": "code",
      "execution_count": null,
      "metadata": {
        "id": "awUIx9X-Iv8d"
      },
      "outputs": [],
      "source": [
        "def get_data_end_date(date_data):\n",
        "    last_date = np.max(date_data)\n",
        "    last_date_datetime = t2dt(last_date)\n",
        "    \n",
        "    # Convert date format to month_name day, year\n",
        "    day = last_date_datetime.day\n",
        "    month = last_date_datetime.strftime(\"%B\")\n",
        "    year = last_date_datetime.year\n",
        "    date_modyyr = f\"{month} {day}, {year}\"\n",
        "    return date_modyyr"
      ],
      "id": "awUIx9X-Iv8d"
    },
    {
      "cell_type": "markdown",
      "metadata": {
        "id": "JJNvqPiNIv8d"
      },
      "source": [
        "### Set titles and axes labels"
      ],
      "id": "JJNvqPiNIv8d"
    },
    {
      "cell_type": "code",
      "execution_count": null,
      "metadata": {
        "id": "DTHs1dzvIv8d"
      },
      "outputs": [],
      "source": [
        "xlabel = ''\n",
        "ylabel = \"$\\mathregular{CO}\\\\bf{_2}$\" + \" Concentration (ppm)\"\n",
        "\n",
        "title1 = get_data_end_date(date_daily)\n",
        "title2 = 'Carbon dioxide concentration at Mauna Loa Observatory'"
      ],
      "id": "DTHs1dzvIv8d"
    },
    {
      "cell_type": "markdown",
      "metadata": {
        "id": "7qBE4dtMIv8e"
      },
      "source": [
        "### Set yaxis min and max limits"
      ],
      "id": "7qBE4dtMIv8e"
    },
    {
      "cell_type": "code",
      "execution_count": null,
      "metadata": {
        "id": "2TL5tOwIIv8e"
      },
      "outputs": [],
      "source": [
        "ymin = 405\n",
        "ymax = 430"
      ],
      "id": "2TL5tOwIIv8e"
    },
    {
      "cell_type": "markdown",
      "metadata": {
        "id": "bJw10d9qIv8e"
      },
      "source": [
        "### Set xaxis min and max limits as both dates and decimals"
      ],
      "id": "bJw10d9qIv8e"
    },
    {
      "cell_type": "code",
      "execution_count": null,
      "metadata": {
        "id": "fNVqM9xhIv8e"
      },
      "outputs": [],
      "source": [
        "now = datetime.now()\n",
        "time_ago = now + relativedelta(months=-1)\n",
        "\n",
        "xmin = time_ago\n",
        "xmax = now"
      ],
      "id": "fNVqM9xhIv8e"
    },
    {
      "cell_type": "markdown",
      "metadata": {
        "id": "derpprDOIv8e"
      },
      "source": [
        "## Create plot and save"
      ],
      "id": "derpprDOIv8e"
    },
    {
      "cell_type": "code",
      "execution_count": null,
      "metadata": {
        "scrolled": false,
        "colab": {
          "base_uri": "https://localhost:8080/",
          "height": 404
        },
        "id": "EbTYj0_mIv8e",
        "outputId": "dc89c27a-570b-49a2-94fb-9eca69f7f802"
      },
      "outputs": [
        {
          "output_type": "display_data",
          "data": {
            "image/png": "[encoded data removed]",
            "text/plain": [
              "<Figure size 720x556.364 with 2 Axes>"
            ]
          },
          "metadata": {
            "needs_background": "light"
          }
        }
      ],
      "source": [
        "fig = plt.figure()\n",
        "\n",
        "# Add padding for exterior plot text\n",
        "ax = plt.axes([0.11, 0.12, 0.83, 0.54])\n",
        "              \n",
        "\n",
        "# -------------\n",
        "# Plot the data\n",
        "# -------------\n",
        "\n",
        "gray = '#666666'\n",
        "ax.plot(datetime_hourly, co2_hourly, 'o', color=gray,markersize=4, \n",
        "         markerfacecolor=gray, markeredgecolor=gray, markeredgewidth=0, zorder=5)\n",
        "\n",
        "ax.plot(datetime_daily, co2_daily, 'o', color='black',markersize=6, \n",
        "         markerfacecolor='black', markeredgecolor='black', markeredgewidth=0, zorder=6)\n",
        "\n",
        "ax.plot(datetime_weekly, co2_weekly, 'o', color='black',markersize=9, \n",
        "         markerfacecolor='black', markeredgecolor='black', markeredgewidth=0, zorder=7)\n",
        "\n",
        "\n",
        "# -----------------------------------------------------\n",
        "# Change xaxis to use date labels and not decimal dates\n",
        "# -----------------------------------------------------\n",
        "create_xtick_labels(ax, xmin, xmax)\n",
        "\n",
        "\n",
        "# -------------------\n",
        "# Set plot properties\n",
        "# -------------------\n",
        "set_website_plot_props(ax, fig, xmin, xmax, ymin, ymax, xlabel, ylabel)\n",
        "\n",
        "\n",
        "# ------------------------------------------------\n",
        "# Get todays date in various formats for labeling\n",
        "# ------------------------------------------------\n",
        "todays_date_moyr, todays_date_modyyr, todays_decimal, todays_year = get_todays_date_variations()\n",
        "\n",
        "\n",
        "# ---------------\n",
        "# Add plot titles\n",
        "# ---------------\n",
        "add_plot_title(ax, title1, title2)\n",
        "\n",
        "# --------------\n",
        "# Add inset text\n",
        "# --------------\n",
        "add_inset_label(ax, 'Month', todays_date_modyyr)\n",
        "\n",
        "# ----------------\n",
        "# Add legend\n",
        "# ----------------\n",
        "add_legend_labels(ax)\n",
        "\n",
        "# --------------------\n",
        "# Add SIO logo to plot\n",
        "# --------------------\n",
        "xpos = 0.715\n",
        "ypos = 0.155\n",
        "\n",
        "add_sio_logo(fig, logo_file, xpos, ypos)\n",
        "\n",
        "\n",
        "# ---------------------\n",
        "# Save plot for website\n",
        "# ---------------------\n",
        "fig = plt.gcf()\n",
        "\n",
        "save_plot_for_website(fig, pdf_file, png_file)\n",
        "\n",
        "\n",
        "plt.show()"
      ],
      "id": "EbTYj0_mIv8e"
    },
    {
      "cell_type": "markdown",
      "source": [
        "## Download Plots (pdf & png)"
      ],
      "metadata": {
        "id": "4KiXc5p8JhM_"
      },
      "id": "4KiXc5p8JhM_"
    },
    {
      "cell_type": "code",
      "execution_count": null,
      "metadata": {
        "colab": {
          "base_uri": "https://localhost:8080/",
          "height": 49,
          "referenced_widgets": [
            "413f50524e0d4de3aba3d8f5b8a54463",
            "b06fb92c255e42e4b64ff78a87e1fb81",
            "d1690dd1e56d41bab2ea2263ae098892"
          ]
        },
        "id": "Mwj8CqdRIv8f",
        "outputId": "e81ad01c-e8b1-4e22-ca89-bebb23ac95b6"
      },
      "outputs": [
        {
          "output_type": "display_data",
          "data": {
            "application/vnd.jupyter.widget-view+json": {
              "model_id": "413f50524e0d4de3aba3d8f5b8a54463",
              "version_minor": 0,
              "version_major": 2
            },
            "text/plain": [
              "Button(button_style='primary', description='Download Files', style=ButtonStyle())"
            ]
          },
          "metadata": {}
        }
      ],
      "source": [
        "def download_files(ev):\n",
        "    files.download(png_file)\n",
        "    files.download(pdf_file)\n",
        "\n",
        "button = widgets.Button(description='Download Files', button_style='primary')\n",
        "button.on_click(download_files)\n",
        "display(button)"
      ],
      "id": "Mwj8CqdRIv8f"
    },
    {
      "cell_type": "code",
      "source": [
        ""
      ],
      "metadata": {
        "id": "R0tkI07BJlMq"
      },
      "id": "R0tkI07BJlMq",
      "execution_count": null,
      "outputs": []
    }
  ],
  "metadata": {
    "interpreter": {
      "hash": "31f2aee4e71d21fbe5cf8b01ff0e069b9275f58929596ceb00d14d90e3e16cd6"
    },
    "kernelspec": {
      "display_name": "Python 3.8.5 64-bit",
      "name": "python3"
    },
    "language_info": {
      "codemirror_mode": {
        "name": "ipython",
        "version": 3
      },
      "file_extension": ".py",
      "mimetype": "text/x-python",
      "name": "python",
      "nbconvert_exporter": "python",
      "pygments_lexer": "ipython3",
      "version": "3.8.10"
    },
    "colab": {
      "name": "plot_mlo_one_month_keelingcurve.ipynb",
      "provenance": [],
      "include_colab_link": true
    },
    "widgets": {
      "application/vnd.jupyter.widget-state+json": {
        "413f50524e0d4de3aba3d8f5b8a54463": {
          "model_module": "@jupyter-widgets/controls",
          "model_name": "ButtonModel",
          "model_module_version": "1.5.0",
          "state": {
            "_view_name": "ButtonView",
            "style": "IPY_MODEL_b06fb92c255e42e4b64ff78a87e1fb81",
            "_dom_classes": [],
            "description": "Download Files",
            "_model_name": "ButtonModel",
            "button_style": "primary",
            "_view_module": "@jupyter-widgets/controls",
            "_model_module_version": "1.5.0",
            "tooltip": "",
            "_view_count": null,
            "disabled": false,
            "_view_module_version": "1.5.0",
            "layout": "IPY_MODEL_d1690dd1e56d41bab2ea2263ae098892",
            "_model_module": "@jupyter-widgets/controls",
            "icon": ""
          }
        },
        "b06fb92c255e42e4b64ff78a87e1fb81": {
          "model_module": "@jupyter-widgets/controls",
          "model_name": "ButtonStyleModel",
          "model_module_version": "1.5.0",
          "state": {
            "_view_name": "StyleView",
            "_model_name": "ButtonStyleModel",
            "_view_module": "@jupyter-widgets/base",
            "_model_module_version": "1.5.0",
            "_view_count": null,
            "button_color": null,
            "font_weight": "",
            "_view_module_version": "1.2.0",
            "_model_module": "@jupyter-widgets/controls"
          }
        },
        "d1690dd1e56d41bab2ea2263ae098892": {
          "model_module": "@jupyter-widgets/base",
          "model_name": "LayoutModel",
          "model_module_version": "1.2.0",
          "state": {
            "_view_name": "LayoutView",
            "grid_template_rows": null,
            "right": null,
            "justify_content": null,
            "_view_module": "@jupyter-widgets/base",
            "overflow": null,
            "_model_module_version": "1.2.0",
            "_view_count": null,
            "flex_flow": null,
            "width": null,
            "min_width": null,
            "border": null,
            "align_items": null,
            "bottom": null,
            "_model_module": "@jupyter-widgets/base",
            "top": null,
            "grid_column": null,
            "overflow_y": null,
            "overflow_x": null,
            "grid_auto_flow": null,
            "grid_area": null,
            "grid_template_columns": null,
            "flex": null,
            "_model_name": "LayoutModel",
            "justify_items": null,
            "grid_row": null,
            "max_height": null,
            "align_content": null,
            "visibility": null,
            "align_self": null,
            "height": null,
            "min_height": null,
            "padding": null,
            "grid_auto_rows": null,
            "grid_gap": null,
            "max_width": null,
            "order": null,
            "_view_module_version": "1.2.0",
            "grid_template_areas": null,
            "object_position": null,
            "object_fit": null,
            "grid_auto_columns": null,
            "margin": null,
            "display": null,
            "left": null
          }
        }
      }
    }
  },
  "nbformat": 4,
  "nbformat_minor": 5
}