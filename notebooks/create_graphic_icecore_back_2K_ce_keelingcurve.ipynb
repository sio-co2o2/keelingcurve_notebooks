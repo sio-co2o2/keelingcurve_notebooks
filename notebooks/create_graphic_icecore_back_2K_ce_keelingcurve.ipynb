{
 "cells": [
  {
   "cell_type": "markdown",
   "id": "8a738eac",
   "metadata": {
    "colab_type": "text",
    "id": "view-in-github"
   },
   "source": [
    "<a href=\"https://colab.research.google.com/github/sio-co2o2/keelingcurve_notebooks/blob/main/notebooks/create_graphic_icecore_back_2K_ce_keelingcurve.ipynb\" target=\"_parent\"><img src=\"https://colab.research.google.com/assets/colab-badge.svg\" alt=\"Open In Colab\"/></a>"
   ]
  },
  {
   "cell_type": "markdown",
   "id": "tZwGLrnA1TGq",
   "metadata": {
    "id": "tZwGLrnA1TGq"
   },
   "source": [
    "# Create a graphic appearing on the Keeling Curve website\n",
    "### **Graphic: CO<sub>2</sub> record from 2K years ago to now**\n",
    "\n",
    "**Mauna Loa, Hawaii CO<sub>2</sub> record starting in 1958 and ice-core CO<sub>2</sub> record before 1958**"
   ]
  },
  {
   "cell_type": "markdown",
   "id": "tsfII0_a1TGu",
   "metadata": {
    "id": "tsfII0_a1TGu"
   },
   "source": [
    "#### This notebook creates customizable PDF and PNG images of a graphic appearing on the front page of [https://keelingcurve.ucsd.edu](keelingcurve.ucsd.edu).\n",
    "\n",
    "See an overview of the Keeling Curve notebooks at [notebooks overview](https://colab.research.google.com/github/sio-co2o2/keelingcurve_notebooks/blob/main/notebooks/overview_of_notebooks_keelingcurve.ipynb)"
   ]
  },
  {
   "cell_type": "markdown",
   "id": "5e1a414b",
   "metadata": {},
   "source": [
    "#### Sample of the graphic produced by this notebook"
   ]
  },
  {
   "cell_type": "markdown",
   "id": "b2f538c7",
   "metadata": {},
   "source": [
    "![title](https://github.com/sio-co2o2/keelingcurve_notebooks/blob/main/images/sample_plots/co2_2k_ce.png?raw=1)"
   ]
  },
  {
   "cell_type": "markdown",
   "id": "f77d6e38",
   "metadata": {},
   "source": [
    "## **Notebook Code**"
   ]
  },
  {
   "cell_type": "markdown",
   "id": "GB3thR0x1TGv",
   "metadata": {
    "id": "GB3thR0x1TGv"
   },
   "source": [
    "### Import python packages"
   ]
  },
  {
   "cell_type": "code",
   "execution_count": 1,
   "id": "J_bLm2xK1TGv",
   "metadata": {
    "id": "J_bLm2xK1TGv"
   },
   "outputs": [],
   "source": [
    "import requests\n",
    "import re\n",
    "import ssl\n",
    "import pandas as pd\n",
    "import numpy as np\n",
    "from scipy import interpolate\n",
    "from datetime import datetime, date, timedelta\n",
    "from dateutil.relativedelta import relativedelta\n",
    "import pathlib\n",
    "import matplotlib.image as mpimg\n",
    "import matplotlib.pyplot as plt\n",
    "from matplotlib.pyplot import figure\n",
    "from matplotlib.ticker import (MultipleLocator, AutoMinorLocator)\n",
    "from matplotlib import ticker\n",
    "from matplotlib import rc,rcParams\n",
    "from matplotlib.path import Path\n",
    "import matplotlib.colors as mcolors\n",
    "from matplotlib.patches import Polygon\n",
    "import matplotlib.dates as mdates\n",
    "import matplotlib.lines as mlines\n",
    "import matplotlib.transforms\n",
    "from matplotlib import animation\n",
    "from ipywidgets import widgets\n",
    "from IPython.display import HTML, display\n",
    "from base64 import b64encode\n",
    "from PIL import Image\n",
    "import urllib\n",
    "import os\n",
    "\n",
    "%matplotlib inline"
   ]
  },
  {
   "cell_type": "code",
   "execution_count": 2,
   "id": "c340a9eb",
   "metadata": {},
   "outputs": [],
   "source": [
    "# This package is used to convert a vector svg into a png\n",
    "\n",
    "try:\n",
    "  from cairosvg import svg2png\n",
    "except:\n",
    "  ! pip install cairosvg"
   ]
  },
  {
   "cell_type": "code",
   "execution_count": 3,
   "id": "b44a0860-45c8-47cb-a933-d1de1ac26c82",
   "metadata": {},
   "outputs": [],
   "source": [
    "# This import is to enable Google Colab to save files ane then download them\n",
    "\n",
    "# This import does not exist unless the notebook is run in Google Colab\n",
    "# Put in a try except block if user wants to use notebook off of Google Colab\n",
    "\n",
    "try:\n",
    "    from google.colab import files\n",
    "except:\n",
    "    pass"
   ]
  },
  {
   "cell_type": "markdown",
   "id": "OdJ-84Bj1TGx",
   "metadata": {
    "id": "OdJ-84Bj1TGx"
   },
   "source": [
    "### Set directories and file names"
   ]
  },
  {
   "cell_type": "code",
   "execution_count": 4,
   "id": "CstkkjX41TGx",
   "metadata": {
    "id": "CstkkjX41TGx"
   },
   "outputs": [],
   "source": [
    "# Get MLO data from the keelingcurve_notebooks github repository\n",
    "mlo_data_file = 'https://raw.githubusercontent.com/sio-co2o2/keelingcurve_notebooks/main/data/mlo/mlo_full_record_now_span.csv'\n",
    "\n",
    "# Get the icecore dataset back 2K years located at\n",
    "# the site: https://www.ncei.noaa.gov/access/paleo-search/study/9959\n",
    "# the file: https://www.ncei.noaa.gov/pub/data/paleo/icecore/antarctica/law/law2006.txt\n",
    "# with a reference to the journal article at https://doi.org/10.1029/2006GL026152\n",
    "icecore_url = 'https://www.ncei.noaa.gov/pub/data/paleo/icecore/antarctica/law/law2006.txt'\n",
    "\n",
    "logo_file = 'https://github.com/sio-co2o2/keelingcurve_notebooks/raw/main/images/ucsd_sio_logo.svg'\n",
    "\n",
    "plot_dir = pathlib.Path('./plots')\n",
    "plot_dir.mkdir(exist_ok=True)\n",
    "\n",
    "plot_basename = 'co2_2k_ce'\n",
    "\n",
    "pdf_file = plot_dir / f\"{plot_basename}.pdf\"\n",
    "png_file = plot_dir / f\"{plot_basename}.png\""
   ]
  },
  {
   "cell_type": "markdown",
   "id": "m7TM-Gjd1TGy",
   "metadata": {
    "id": "m7TM-Gjd1TGy"
   },
   "source": [
    "## **Load in data and prepare it for plotting**"
   ]
  },
  {
   "cell_type": "markdown",
   "id": "JI9z5hB91TGz",
   "metadata": {
    "id": "JI9z5hB91TGz"
   },
   "source": [
    "### Load in MLO record"
   ]
  },
  {
   "cell_type": "code",
   "execution_count": 5,
   "id": "ImYHaA9q1TGz",
   "metadata": {
    "colab": {
     "base_uri": "https://localhost:8080/",
     "height": 206
    },
    "id": "ImYHaA9q1TGz",
    "outputId": "4f1d664c-f941-4c38-af4c-a3060f7adf36"
   },
   "outputs": [
    {
     "data": {
      "text/html": [
       "<div>\n",
       "<style scoped>\n",
       "    .dataframe tbody tr th:only-of-type {\n",
       "        vertical-align: middle;\n",
       "    }\n",
       "\n",
       "    .dataframe tbody tr th {\n",
       "        vertical-align: top;\n",
       "    }\n",
       "\n",
       "    .dataframe thead th {\n",
       "        text-align: right;\n",
       "    }\n",
       "</style>\n",
       "<table border=\"1\" class=\"dataframe\">\n",
       "  <thead>\n",
       "    <tr style=\"text-align: right;\">\n",
       "      <th></th>\n",
       "      <th>date</th>\n",
       "      <th>co2</th>\n",
       "      <th>date_seas_adj</th>\n",
       "      <th>co2_seas_adj</th>\n",
       "      <th>date_fit</th>\n",
       "      <th>co2_fit</th>\n",
       "      <th>date_seas_adj_fit</th>\n",
       "      <th>co2_seas_adj_fit</th>\n",
       "      <th>date_filled</th>\n",
       "      <th>co2_filled</th>\n",
       "      <th>date_seas_adj_filled</th>\n",
       "      <th>co2_seas_adj_filled</th>\n",
       "    </tr>\n",
       "  </thead>\n",
       "  <tbody>\n",
       "    <tr>\n",
       "      <th>0</th>\n",
       "      <td>1958.202740</td>\n",
       "      <td>315.71</td>\n",
       "      <td>1958.202740</td>\n",
       "      <td>314.43</td>\n",
       "      <td>1958.202740</td>\n",
       "      <td>316.20</td>\n",
       "      <td>1958.202740</td>\n",
       "      <td>314.91</td>\n",
       "      <td>1958.202740</td>\n",
       "      <td>315.71</td>\n",
       "      <td>1958.202740</td>\n",
       "      <td>314.43</td>\n",
       "    </tr>\n",
       "    <tr>\n",
       "      <th>1</th>\n",
       "      <td>1958.287671</td>\n",
       "      <td>317.45</td>\n",
       "      <td>1958.287671</td>\n",
       "      <td>315.16</td>\n",
       "      <td>1958.287671</td>\n",
       "      <td>317.30</td>\n",
       "      <td>1958.287671</td>\n",
       "      <td>314.99</td>\n",
       "      <td>1958.287671</td>\n",
       "      <td>317.45</td>\n",
       "      <td>1958.287671</td>\n",
       "      <td>315.16</td>\n",
       "    </tr>\n",
       "    <tr>\n",
       "      <th>2</th>\n",
       "      <td>1958.369863</td>\n",
       "      <td>317.51</td>\n",
       "      <td>1958.369863</td>\n",
       "      <td>314.70</td>\n",
       "      <td>1958.369863</td>\n",
       "      <td>317.88</td>\n",
       "      <td>1958.369863</td>\n",
       "      <td>315.06</td>\n",
       "      <td>1958.369863</td>\n",
       "      <td>317.51</td>\n",
       "      <td>1958.369863</td>\n",
       "      <td>314.70</td>\n",
       "    </tr>\n",
       "    <tr>\n",
       "      <th>3</th>\n",
       "      <td>1958.536986</td>\n",
       "      <td>315.87</td>\n",
       "      <td>1958.536986</td>\n",
       "      <td>315.20</td>\n",
       "      <td>1958.454795</td>\n",
       "      <td>317.26</td>\n",
       "      <td>1958.454795</td>\n",
       "      <td>315.14</td>\n",
       "      <td>1958.454795</td>\n",
       "      <td>317.26</td>\n",
       "      <td>1958.454795</td>\n",
       "      <td>315.14</td>\n",
       "    </tr>\n",
       "    <tr>\n",
       "      <th>4</th>\n",
       "      <td>1958.621918</td>\n",
       "      <td>314.93</td>\n",
       "      <td>1958.621918</td>\n",
       "      <td>316.21</td>\n",
       "      <td>1958.536986</td>\n",
       "      <td>315.85</td>\n",
       "      <td>1958.536986</td>\n",
       "      <td>315.22</td>\n",
       "      <td>1958.536986</td>\n",
       "      <td>315.87</td>\n",
       "      <td>1958.536986</td>\n",
       "      <td>315.20</td>\n",
       "    </tr>\n",
       "  </tbody>\n",
       "</table>\n",
       "</div>"
      ],
      "text/plain": [
       "          date     co2  date_seas_adj  co2_seas_adj     date_fit  co2_fit  \\\n",
       "0  1958.202740  315.71    1958.202740        314.43  1958.202740   316.20   \n",
       "1  1958.287671  317.45    1958.287671        315.16  1958.287671   317.30   \n",
       "2  1958.369863  317.51    1958.369863        314.70  1958.369863   317.88   \n",
       "3  1958.536986  315.87    1958.536986        315.20  1958.454795   317.26   \n",
       "4  1958.621918  314.93    1958.621918        316.21  1958.536986   315.85   \n",
       "\n",
       "   date_seas_adj_fit  co2_seas_adj_fit  date_filled  co2_filled  \\\n",
       "0        1958.202740            314.91  1958.202740      315.71   \n",
       "1        1958.287671            314.99  1958.287671      317.45   \n",
       "2        1958.369863            315.06  1958.369863      317.51   \n",
       "3        1958.454795            315.14  1958.454795      317.26   \n",
       "4        1958.536986            315.22  1958.536986      315.87   \n",
       "\n",
       "   date_seas_adj_filled  co2_seas_adj_filled  \n",
       "0           1958.202740               314.43  \n",
       "1           1958.287671               315.16  \n",
       "2           1958.369863               314.70  \n",
       "3           1958.454795               315.14  \n",
       "4           1958.536986               315.20  "
      ]
     },
     "execution_count": 5,
     "metadata": {},
     "output_type": "execute_result"
    }
   ],
   "source": [
    "df_mlo = pd.read_csv(mlo_data_file, sep=',', comment='\"')\n",
    "df_mlo.head()"
   ]
  },
  {
   "cell_type": "markdown",
   "id": "8iqUEhGQ1TG0",
   "metadata": {
    "id": "8iqUEhGQ1TG0"
   },
   "source": [
    "### Get MLO Seasonally adjusted data"
   ]
  },
  {
   "cell_type": "code",
   "execution_count": 6,
   "id": "H_zFLzwP1TG1",
   "metadata": {
    "id": "H_zFLzwP1TG1"
   },
   "outputs": [],
   "source": [
    "df_mlo = df_mlo[['date_seas_adj', 'co2_seas_adj']].copy()"
   ]
  },
  {
   "cell_type": "markdown",
   "id": "k37saLN71TG2",
   "metadata": {
    "id": "k37saLN71TG2"
   },
   "source": [
    "### Remove rows with fill values NaN"
   ]
  },
  {
   "cell_type": "code",
   "execution_count": 7,
   "id": "O1hJBlfu1TG2",
   "metadata": {
    "id": "O1hJBlfu1TG2",
    "scrolled": true
   },
   "outputs": [],
   "source": [
    "df_mlo = df_mlo.dropna()"
   ]
  },
  {
   "cell_type": "markdown",
   "id": "ZBL0BKh11TG2",
   "metadata": {
    "id": "ZBL0BKh11TG2"
   },
   "source": [
    "### Convert to numpy arrays to use for labeling relevant years in the plot"
   ]
  },
  {
   "cell_type": "code",
   "execution_count": 8,
   "id": "rKom02xy1TG3",
   "metadata": {
    "id": "rKom02xy1TG3"
   },
   "outputs": [],
   "source": [
    "mlo_date = df_mlo['date_seas_adj'].to_numpy()\n",
    "mlo_co2 = df_mlo['co2_seas_adj'].to_numpy()"
   ]
  },
  {
   "cell_type": "markdown",
   "id": "jjzux5aw4IuG",
   "metadata": {
    "id": "jjzux5aw4IuG"
   },
   "source": [
    "### Load in the icecore record\n",
    "\n",
    "The data file is split up into lines to extract a sub selection"
   ]
  },
  {
   "cell_type": "code",
   "execution_count": 9,
   "id": "QF57-Yeu4ONK",
   "metadata": {
    "id": "QF57-Yeu4ONK"
   },
   "outputs": [],
   "source": [
    "response = requests.get(icecore_url)\n",
    "file_text = response.text\n",
    "text_lines = file_text.split('\\n')"
   ]
  },
  {
   "cell_type": "markdown",
   "id": "8EuTVm0y4r9Y",
   "metadata": {
    "id": "8EuTVm0y4r9Y"
   },
   "source": [
    "#### Use data from section 2 of the ice-core file law2006.txt labeled: \"CO2 by Core\"\n",
    "\n",
    "**Section to start with**\n",
    "\n",
    "2\\. CO2 by Core \n",
    "\n",
    "Gas age, Year AD \n",
    "\n",
    "SampleType   CO2gasAge  CO2(ppm)  Publication status\n",
    "\n",
    "\n",
    "**Section to stop at**\n",
    "\n",
    "3\\. CO2 by Age "
   ]
  },
  {
   "cell_type": "code",
   "execution_count": 10,
   "id": "st0bFjye4w7F",
   "metadata": {
    "colab": {
     "base_uri": "https://localhost:8080/"
    },
    "id": "st0bFjye4w7F",
    "outputId": "4d1db013-e5c0-49ee-b296-f7817820088a"
   },
   "outputs": [
    {
     "data": {
      "text/plain": [
       "['DSS            1036.8    280.3    Eth et al., 1996',\n",
       " 'DSS            1087.5    282.4    Eth et al., 1996',\n",
       " 'DSS            1136.8    283.8    Eth et al., 1996',\n",
       " 'DSS            1192.6    283.9    Eth et al., 1996',\n",
       " 'DSS            1246.3    281.7    Eth et al., 1996',\n",
       " 'DSS            1330.1    283.4    Eth et al., 1996',\n",
       " 'DSS            1390.5    280.4    Eth et al., 1996',\n",
       " 'DSS            1390.5    280.0    Eth et al., 1996',\n",
       " 'DSS            1449.1    281.7    Eth et al., 1996']"
      ]
     },
     "execution_count": 10,
     "metadata": {},
     "output_type": "execute_result"
    }
   ],
   "source": [
    "start_section = [i for i in range(len(text_lines))\n",
    "               if text_lines[i].startswith('2. CO2 by Core')][0]\n",
    "\n",
    "end_section = [i for i in range(len(text_lines))\n",
    "             if text_lines[i].startswith('3. CO2 by Age ')][0]\n",
    "\n",
    "section_lines = text_lines[start_section: end_section]\n",
    "\n",
    "# start data selection after line \"SampleType   CO2gasAge  CO2(ppm)  Publication status\"\n",
    "header_end = [i for i in range(len(section_lines))\n",
    "              if section_lines[i].startswith('SampleType')][0]\n",
    "\n",
    "start_data = header_end + 1\n",
    "\n",
    "data_lines = section_lines[start_data: end_section]\n",
    "\n",
    "data_lines[1:10]"
   ]
  },
  {
   "cell_type": "markdown",
   "id": "kLiTY_J442cO",
   "metadata": {
    "id": "kLiTY_J442cO"
   },
   "source": [
    "#### Filter data\n",
    "\n",
    "Further exclude sample types: DSSW20K firn and CAPE GRIM\n",
    "\n",
    "Keep sample types: DSS, DE08, and DE08-2"
   ]
  },
  {
   "cell_type": "code",
   "execution_count": 11,
   "id": "A1oKx65W46qR",
   "metadata": {
    "id": "A1oKx65W46qR"
   },
   "outputs": [],
   "source": [
    "filtered_data_lines = []\n",
    "\n",
    "for line in data_lines:\n",
    "\n",
    "    # Don't include empty lines\n",
    "    if not line:\n",
    "        continue\n",
    "\n",
    "    if \"DSSW20K firn\" in line or \"CAPE GRIM\" in line:\n",
    "        continue\n",
    "    else:\n",
    "        filtered_data_lines.append(line)"
   ]
  },
  {
   "cell_type": "markdown",
   "id": "jSsXHB855jwT",
   "metadata": {
    "id": "jSsXHB855jwT"
   },
   "source": [
    "Remove Publication status from lines"
   ]
  },
  {
   "cell_type": "code",
   "execution_count": 12,
   "id": "zoMjXQuJ5l27",
   "metadata": {
    "id": "zoMjXQuJ5l27"
   },
   "outputs": [],
   "source": [
    "r = re.compile('(.+\\d+.*\\d+.*\\d)\\s.*')\n",
    "\n",
    "filtered_list = [m.group(1) for m in (r.match(line) for line in filtered_data_lines) if m]"
   ]
  },
  {
   "cell_type": "markdown",
   "id": "b69n-AFx5o7B",
   "metadata": {
    "id": "b69n-AFx5o7B"
   },
   "source": [
    "Remove SampleType from lines"
   ]
  },
  {
   "cell_type": "code",
   "execution_count": 13,
   "id": "TdMxjWt85rxE",
   "metadata": {
    "id": "TdMxjWt85rxE"
   },
   "outputs": [],
   "source": [
    "r = re.compile('.+\\s+(\\d.*\\s+\\d.*)')\n",
    "\n",
    "data_list = [m.group(1) for m in (r.match(line)\n",
    "                                      for line in filtered_list) if m]"
   ]
  },
  {
   "cell_type": "markdown",
   "id": "qqIheRYQ5-nF",
   "metadata": {
    "id": "qqIheRYQ5-nF"
   },
   "source": [
    "Read data list into a Pandas dataframe and split into columns date_ce and co2"
   ]
  },
  {
   "cell_type": "code",
   "execution_count": 14,
   "id": "RCyCvdID6AR1",
   "metadata": {
    "colab": {
     "base_uri": "https://localhost:8080/"
    },
    "id": "RCyCvdID6AR1",
    "outputId": "49e36812-6e64-401c-b345-6fcb8a505014"
   },
   "outputs": [
    {
     "data": {
      "text/html": [
       "<div>\n",
       "<style scoped>\n",
       "    .dataframe tbody tr th:only-of-type {\n",
       "        vertical-align: middle;\n",
       "    }\n",
       "\n",
       "    .dataframe tbody tr th {\n",
       "        vertical-align: top;\n",
       "    }\n",
       "\n",
       "    .dataframe thead th {\n",
       "        text-align: right;\n",
       "    }\n",
       "</style>\n",
       "<table border=\"1\" class=\"dataframe\">\n",
       "  <thead>\n",
       "    <tr style=\"text-align: right;\">\n",
       "      <th></th>\n",
       "      <th>date_ce</th>\n",
       "      <th>co2</th>\n",
       "    </tr>\n",
       "  </thead>\n",
       "  <tbody>\n",
       "    <tr>\n",
       "      <th>0</th>\n",
       "      <td>1005.0</td>\n",
       "      <td>279.4</td>\n",
       "    </tr>\n",
       "    <tr>\n",
       "      <th>1</th>\n",
       "      <td>1036.8</td>\n",
       "      <td>280.3</td>\n",
       "    </tr>\n",
       "    <tr>\n",
       "      <th>2</th>\n",
       "      <td>1087.5</td>\n",
       "      <td>282.4</td>\n",
       "    </tr>\n",
       "    <tr>\n",
       "      <th>3</th>\n",
       "      <td>1136.8</td>\n",
       "      <td>283.8</td>\n",
       "    </tr>\n",
       "    <tr>\n",
       "      <th>4</th>\n",
       "      <td>1192.6</td>\n",
       "      <td>283.9</td>\n",
       "    </tr>\n",
       "  </tbody>\n",
       "</table>\n",
       "</div>"
      ],
      "text/plain": [
       "  date_ce       co2\n",
       "0  1005.0     279.4\n",
       "1  1036.8     280.3\n",
       "2  1087.5     282.4\n",
       "3  1136.8     283.8\n",
       "4  1192.6     283.9"
      ]
     },
     "execution_count": 14,
     "metadata": {},
     "output_type": "execute_result"
    }
   ],
   "source": [
    "df_icecore = pd.DataFrame(data_list)\n",
    "df_icecore.columns = ['data']\n",
    "\n",
    "df_icecore[['date_ce', 'co2']] = df_icecore['data'].str.split(\" \", 1, expand=True)\n",
    "df_icecore.drop('data', axis=1, inplace=True)\n",
    "\n",
    "df_icecore.head()"
   ]
  },
  {
   "cell_type": "markdown",
   "id": "mMGZ74s26Gvq",
   "metadata": {
    "id": "mMGZ74s26Gvq"
   },
   "source": [
    "Convert columns from strings to numbers"
   ]
  },
  {
   "cell_type": "code",
   "execution_count": 15,
   "id": "fpNeZnsk6IFm",
   "metadata": {
    "id": "fpNeZnsk6IFm"
   },
   "outputs": [],
   "source": [
    "df_icecore = df_icecore.astype(float)"
   ]
  },
  {
   "cell_type": "markdown",
   "id": "bb60U17M_4in",
   "metadata": {
    "id": "bb60U17M_4in"
   },
   "source": [
    "Sort from lowest to highest year\n"
   ]
  },
  {
   "cell_type": "code",
   "execution_count": 16,
   "id": "ePetkXkR_3ah",
   "metadata": {
    "colab": {
     "base_uri": "https://localhost:8080/",
     "height": 206
    },
    "id": "ePetkXkR_3ah",
    "outputId": "35a32b7b-0a1e-4128-dffb-166d2f9f0b2b"
   },
   "outputs": [
    {
     "data": {
      "text/html": [
       "<div>\n",
       "<style scoped>\n",
       "    .dataframe tbody tr th:only-of-type {\n",
       "        vertical-align: middle;\n",
       "    }\n",
       "\n",
       "    .dataframe tbody tr th {\n",
       "        vertical-align: top;\n",
       "    }\n",
       "\n",
       "    .dataframe thead th {\n",
       "        text-align: right;\n",
       "    }\n",
       "</style>\n",
       "<table border=\"1\" class=\"dataframe\">\n",
       "  <thead>\n",
       "    <tr style=\"text-align: right;\">\n",
       "      <th></th>\n",
       "      <th>date_ce</th>\n",
       "      <th>co2</th>\n",
       "    </tr>\n",
       "  </thead>\n",
       "  <tbody>\n",
       "    <tr>\n",
       "      <th>0</th>\n",
       "      <td>13.3</td>\n",
       "      <td>276.7</td>\n",
       "    </tr>\n",
       "    <tr>\n",
       "      <th>1</th>\n",
       "      <td>29.5</td>\n",
       "      <td>277.9</td>\n",
       "    </tr>\n",
       "    <tr>\n",
       "      <th>2</th>\n",
       "      <td>56.0</td>\n",
       "      <td>277.4</td>\n",
       "    </tr>\n",
       "    <tr>\n",
       "      <th>3</th>\n",
       "      <td>104.5</td>\n",
       "      <td>277.5</td>\n",
       "    </tr>\n",
       "    <tr>\n",
       "      <th>4</th>\n",
       "      <td>136.0</td>\n",
       "      <td>278.1</td>\n",
       "    </tr>\n",
       "  </tbody>\n",
       "</table>\n",
       "</div>"
      ],
      "text/plain": [
       "   date_ce    co2\n",
       "0     13.3  276.7\n",
       "1     29.5  277.9\n",
       "2     56.0  277.4\n",
       "3    104.5  277.5\n",
       "4    136.0  278.1"
      ]
     },
     "execution_count": 16,
     "metadata": {},
     "output_type": "execute_result"
    }
   ],
   "source": [
    "df_icecore = df_icecore.sort_values(by=['date_ce'], ascending=True)\n",
    "\n",
    "# And reset the index\n",
    "df_icecore = df_icecore.reset_index(drop=True)\n",
    "\n",
    "df_icecore.head()"
   ]
  },
  {
   "cell_type": "markdown",
   "id": "WD6w5joa6LI6",
   "metadata": {
    "id": "WD6w5joa6LI6"
   },
   "source": [
    "Filter out icecore data past 1957 when MLO data starts"
   ]
  },
  {
   "cell_type": "code",
   "execution_count": 17,
   "id": "ddp7zuIs6OdL",
   "metadata": {
    "id": "ddp7zuIs6OdL"
   },
   "outputs": [],
   "source": [
    "df_icecore = df_icecore[df_icecore['date_ce'] <= 1957]"
   ]
  },
  {
   "cell_type": "markdown",
   "id": "pwruUXEW6yP1",
   "metadata": {
    "id": "pwruUXEW6yP1"
   },
   "source": [
    "### Combine MLO and Icecore data"
   ]
  },
  {
   "cell_type": "markdown",
   "id": "TYcwYote7hf_",
   "metadata": {
    "id": "TYcwYote7hf_"
   },
   "source": [
    "Rename columns of MLO dataframe so can align with the icecore dataframe to concatenate"
   ]
  },
  {
   "cell_type": "code",
   "execution_count": 18,
   "id": "OEX3wTuI62Iz",
   "metadata": {
    "id": "OEX3wTuI62Iz"
   },
   "outputs": [],
   "source": [
    "df_mlo.columns = ['date_ce', 'co2']"
   ]
  },
  {
   "cell_type": "markdown",
   "id": "XA0CxaOb9C0H",
   "metadata": {
    "id": "XA0CxaOb9C0H"
   },
   "source": [
    "Verically concatenate the dataframes"
   ]
  },
  {
   "cell_type": "code",
   "execution_count": 19,
   "id": "eZiwIreT9Gqt",
   "metadata": {
    "colab": {
     "base_uri": "https://localhost:8080/",
     "height": 424
    },
    "id": "eZiwIreT9Gqt",
    "outputId": "b305e7fb-ff83-48e1-bedc-fae9d2ba27bd"
   },
   "outputs": [
    {
     "data": {
      "text/html": [
       "<div>\n",
       "<style scoped>\n",
       "    .dataframe tbody tr th:only-of-type {\n",
       "        vertical-align: middle;\n",
       "    }\n",
       "\n",
       "    .dataframe tbody tr th {\n",
       "        vertical-align: top;\n",
       "    }\n",
       "\n",
       "    .dataframe thead th {\n",
       "        text-align: right;\n",
       "    }\n",
       "</style>\n",
       "<table border=\"1\" class=\"dataframe\">\n",
       "  <thead>\n",
       "    <tr style=\"text-align: right;\">\n",
       "      <th></th>\n",
       "      <th>date_ce</th>\n",
       "      <th>co2</th>\n",
       "    </tr>\n",
       "  </thead>\n",
       "  <tbody>\n",
       "    <tr>\n",
       "      <th>0</th>\n",
       "      <td>13.300000</td>\n",
       "      <td>276.70</td>\n",
       "    </tr>\n",
       "    <tr>\n",
       "      <th>1</th>\n",
       "      <td>29.500000</td>\n",
       "      <td>277.90</td>\n",
       "    </tr>\n",
       "    <tr>\n",
       "      <th>2</th>\n",
       "      <td>56.000000</td>\n",
       "      <td>277.40</td>\n",
       "    </tr>\n",
       "    <tr>\n",
       "      <th>3</th>\n",
       "      <td>104.500000</td>\n",
       "      <td>277.50</td>\n",
       "    </tr>\n",
       "    <tr>\n",
       "      <th>4</th>\n",
       "      <td>136.000000</td>\n",
       "      <td>278.10</td>\n",
       "    </tr>\n",
       "    <tr>\n",
       "      <th>...</th>\n",
       "      <td>...</td>\n",
       "      <td>...</td>\n",
       "    </tr>\n",
       "    <tr>\n",
       "      <th>955</th>\n",
       "      <td>2022.454795</td>\n",
       "      <td>418.10</td>\n",
       "    </tr>\n",
       "    <tr>\n",
       "      <th>956</th>\n",
       "      <td>2022.536986</td>\n",
       "      <td>417.87</td>\n",
       "    </tr>\n",
       "    <tr>\n",
       "      <th>957</th>\n",
       "      <td>2022.621918</td>\n",
       "      <td>418.31</td>\n",
       "    </tr>\n",
       "    <tr>\n",
       "      <th>958</th>\n",
       "      <td>2022.706849</td>\n",
       "      <td>418.91</td>\n",
       "    </tr>\n",
       "    <tr>\n",
       "      <th>959</th>\n",
       "      <td>2022.789041</td>\n",
       "      <td>418.93</td>\n",
       "    </tr>\n",
       "  </tbody>\n",
       "</table>\n",
       "<p>960 rows × 2 columns</p>\n",
       "</div>"
      ],
      "text/plain": [
       "         date_ce     co2\n",
       "0      13.300000  276.70\n",
       "1      29.500000  277.90\n",
       "2      56.000000  277.40\n",
       "3     104.500000  277.50\n",
       "4     136.000000  278.10\n",
       "..           ...     ...\n",
       "955  2022.454795  418.10\n",
       "956  2022.536986  417.87\n",
       "957  2022.621918  418.31\n",
       "958  2022.706849  418.91\n",
       "959  2022.789041  418.93\n",
       "\n",
       "[960 rows x 2 columns]"
      ]
     },
     "execution_count": 19,
     "metadata": {},
     "output_type": "execute_result"
    }
   ],
   "source": [
    "df_combined = pd.concat([df_icecore, df_mlo], ignore_index=True)\n",
    "\n",
    "# And reset the index\n",
    "df_combined = df_combined.reset_index(drop=True)\n",
    "\n",
    "df_combined"
   ]
  },
  {
   "cell_type": "markdown",
   "id": "_nGwbM2TAZP8",
   "metadata": {
    "id": "_nGwbM2TAZP8"
   },
   "source": [
    "### Convert to numpy arrays for plotting"
   ]
  },
  {
   "cell_type": "code",
   "execution_count": 20,
   "id": "4Oq7Q_GSAar0",
   "metadata": {
    "id": "4Oq7Q_GSAar0"
   },
   "outputs": [],
   "source": [
    "combined_years = df_combined['date_ce'].to_numpy()\n",
    "combined_co2 = df_combined['co2'].to_numpy()"
   ]
  },
  {
   "cell_type": "markdown",
   "id": "8HA_txWN1TG3",
   "metadata": {
    "id": "8HA_txWN1TG3"
   },
   "source": [
    "## **Define accessory functions**"
   ]
  },
  {
   "cell_type": "markdown",
   "id": "c034df62",
   "metadata": {},
   "source": [
    "## Functions to convert dates into various formats\n",
    "Used for plot limits and labeling"
   ]
  },
  {
   "cell_type": "code",
   "execution_count": 21,
   "id": "8sOK5sYX1TG6",
   "metadata": {
    "id": "8sOK5sYX1TG6"
   },
   "outputs": [],
   "source": [
    "# Function to convert datetime to a float\n",
    "def dt2t(adatetime):\n",
    "    \"\"\"\n",
    "    Convert adatetime into a float. The integer part of the float should\n",
    "    represent the year.\n",
    "    Order should be preserved. If adate<bdate, then d2t(adate)<d2t(bdate)\n",
    "    time distances should be preserved: If bdate-adate=ddate-cdate then\n",
    "    dt2t(bdate)-dt2t(adate) = dt2t(ddate)-dt2t(cdate)\n",
    "    \"\"\"\n",
    "    year = adatetime.year\n",
    "    boy = datetime(year, 1, 1)\n",
    "    eoy = datetime(year + 1, 1, 1)\n",
    "    return year + ((adatetime - boy).total_seconds() / ((eoy - boy).total_seconds()))"
   ]
  },
  {
   "cell_type": "code",
   "execution_count": 22,
   "id": "ysBr9DhY1TG6",
   "metadata": {
    "id": "ysBr9DhY1TG6"
   },
   "outputs": [],
   "source": [
    "def get_todays_date_variations():\n",
    "    \n",
    "    now = datetime.now()\n",
    "    todays_decimal =  dt2t(now)\n",
    "    \n",
    "    today = date.today()\n",
    "\n",
    "    todays_day = today.day\n",
    "    todays_month = today.strftime(\"%B\")\n",
    "    todays_year = today.year\n",
    "    todays_date_moyr = today.strftime(\"%B %Y\")\n",
    "    todays_date_modyyr = f\"{todays_month} {todays_day}, {todays_year}\"\n",
    "\n",
    "    return todays_date_moyr, todays_date_modyyr, todays_decimal, todays_year"
   ]
  },
  {
   "cell_type": "code",
   "execution_count": 23,
   "id": "VU3sCTrG1TG6",
   "metadata": {
    "id": "VU3sCTrG1TG6"
   },
   "outputs": [],
   "source": [
    "#  https://stackoverflow.com/questions/19305991/convert-fractional-years-to-a-real-date-in-python\n",
    "def t2dt(atime):\n",
    "    \"\"\"\n",
    "    Convert atime (a float) to DT.datetime\n",
    "    This is the inverse of dt2t.\n",
    "    assert dt2t(t2dt(atime)) == atime\n",
    "    \"\"\"\n",
    "    year = int(atime)\n",
    "    remainder = atime - year\n",
    "    boy = datetime(year, 1, 1)\n",
    "    eoy = datetime(year + 1, 1, 1)\n",
    "    seconds = remainder * (eoy - boy).total_seconds()\n",
    "    return boy + timedelta(seconds=seconds)"
   ]
  },
  {
   "cell_type": "code",
   "execution_count": 24,
   "id": "zY09QsB01TG7",
   "metadata": {
    "id": "zY09QsB01TG7"
   },
   "outputs": [],
   "source": [
    "def get_data_end_date(date_data):\n",
    "    last_date = np.max(date_data)\n",
    "    last_date_datetime = t2dt(last_date)\n",
    "    \n",
    "    # Convert date format to month_name day, year\n",
    "    day = last_date_datetime.day\n",
    "    month = last_date_datetime.strftime(\"%B\")\n",
    "    year = last_date_datetime.year\n",
    "    date_modyyr = f\"{month} {day}, {year}\"\n",
    "    return date_modyyr"
   ]
  },
  {
   "cell_type": "markdown",
   "id": "fc4f9022",
   "metadata": {},
   "source": [
    "## Function to create gradient under curve"
   ]
  },
  {
   "cell_type": "code",
   "execution_count": 25,
   "id": "sQKO3s9H1TG3",
   "metadata": {
    "id": "sQKO3s9H1TG3"
   },
   "outputs": [],
   "source": [
    "# https://stackoverflow.com/questions/29321835/is-it-possible-to-get-color-gradients-under-curve-in-matplotlib\n",
    "# Modified to add gradient below curve and have a bottom alpha\n",
    "\n",
    "# def gradient_fill(x, y, fill_color=None, ax=None, **kwargs):\n",
    "def gradient_fill(x, y, fill_color='#FFFFFF', xmin=None, ymin=None, xmax=None, \n",
    "                  ymax=None, alpha_bottom=None, ax=None, alpha=1, zorder=1, **kwargs):\n",
    "    \"\"\"\n",
    "    Plot a line with a linear alpha gradient filled beneath it.\n",
    "\n",
    "    Parameters\n",
    "    ----------\n",
    "    x, y : array-like\n",
    "        The data values of the line.\n",
    "    fill_color : a matplotlib color specifier (string, tuple) or None\n",
    "        The color for the fill. If None, the color of the line will be used.\n",
    "    ax : a matplotlib Axes instance\n",
    "        The axes to plot on. If None, the current pyplot axes will be used.\n",
    "    Additional arguments are passed on to matplotlib's ``plot`` function.\n",
    "\n",
    "    Returns\n",
    "    -------\n",
    "    line : a Line2D instance\n",
    "        The line plotted.\n",
    "    im : an AxesImage instance\n",
    "        The transparent gradient clipped to just the area beneath the curve.\n",
    "    \"\"\"\n",
    "    if ax is None:\n",
    "        ax = plt.gca()\n",
    "\n",
    "    # Only want the gradient to show\n",
    "    #line, = ax.plot(x, y, **kwargs)\n",
    "    #if fill_color is None:\n",
    "    #    fill_color = line.get_color()\n",
    "\n",
    "    if alpha_bottom is None:\n",
    "        alpha_bottom = 0\n",
    "\n",
    "    if xmin is None:\n",
    "        xmin = x.min()\n",
    "\n",
    "    if ymin is None:\n",
    "        ymin = y.min()\n",
    "        \n",
    "    if xmax is None:\n",
    "        xmax = x.max()\n",
    "\n",
    "    if ymax is None:\n",
    "        ymax = y.max()\n",
    "        \n",
    "    if zorder is None:\n",
    "        zorder = 1\n",
    "        \n",
    "    #zorder = line.get_zorder()\n",
    "    \n",
    "    #alpha = line.get_alpha()\n",
    "    #alpha = 1.0 if alpha is None else alpha\n",
    "\n",
    "    z = np.empty((100, 1, 4), dtype=float)\n",
    "    rgb = mcolors.colorConverter.to_rgb(fill_color)\n",
    "    z[:, :, :3] = rgb\n",
    "    #z[:,:,-1] = np.linspace(0, alpha, 100)[:,None]\n",
    "    z[:, :, -1] = np.linspace(alpha_bottom, alpha, 100)[:, None]\n",
    "\n",
    "    #xmin, xmax, ymin, ymax = x.min(), x.max(), y.min(), y.max()\n",
    "    \n",
    "    im = ax.imshow(z, aspect='auto', extent=[xmin, xmax, ymin, ymax],\n",
    "                   origin='lower', zorder=zorder)\n",
    "\n",
    "    xy = np.column_stack([x, y])\n",
    "    xy = np.vstack([[xmin, ymin], xy, [xmax, ymin], [xmin, ymin]])\n",
    "    clip_path = Polygon(xy, facecolor='none', edgecolor='none', closed=True)\n",
    "    ax.add_patch(clip_path)\n",
    "    im.set_clip_path(clip_path)\n",
    "    \n",
    "    ax.autoscale(True)\n",
    "    \n",
    "    #return line, im"
   ]
  },
  {
   "cell_type": "markdown",
   "id": "4321d78b",
   "metadata": {},
   "source": [
    "## **Define functions that can modify the graphic**"
   ]
  },
  {
   "cell_type": "markdown",
   "id": "4515c80f",
   "metadata": {},
   "source": [
    "### Function to set fonts and linewidth properties"
   ]
  },
  {
   "cell_type": "code",
   "execution_count": 26,
   "id": "wUSezrFI1TG4",
   "metadata": {
    "id": "wUSezrFI1TG4"
   },
   "outputs": [],
   "source": [
    "def set_matplotlib_properties():\n",
    "    \n",
    "    # Set default properties for matplotlib\n",
    "    \n",
    "    # Reset rcparams in case modified defaults in another notebook during same session \n",
    "    plt.rcParams.update(plt.rcParamsDefault)\n",
    "\n",
    "    plt.rcParams.update({'axes.linewidth':1.5})\n",
    "    \n",
    "    plt.rcParams.update({\n",
    "        \"text.usetex\": False,\n",
    "        \"font.family\": \"sans-serif\",\n",
    "        \"font.weight\":  \"normal\",\n",
    "        \"font.sans-serif\": [\"Arial\", \"Tahoma\", \"Helvetica\",\"FreeSans\", \"NimbusSans\", \"LiberationSans\",\"DejaVu Sans\"],\n",
    "        \"mathtext.default\":'regular',\n",
    "        \"mathtext.fontset\": \"dejavusans\"\n",
    "    })\n",
    "        \n",
    "    # http://phyletica.org/matplotlib-fonts/\n",
    "    # This causes matplotlib to use Type 42 (a.k.a. TrueType) fonts \n",
    "    # for PostScript and PDF files. This allows you to avoid Type 3 fonts.\n",
    "    # Turning on usetex also works\n",
    "    # Needed on Ubuntu for pdf fonts \n",
    "    plt.rcParams.update({\n",
    "      'pdf.fonttype': 42,\n",
    "        'ps.fonttype': 42 \n",
    "    })"
   ]
  },
  {
   "cell_type": "markdown",
   "id": "c60ee30d",
   "metadata": {},
   "source": [
    "### Function to set axes properties of the graphic"
   ]
  },
  {
   "cell_type": "code",
   "execution_count": 27,
   "id": "05USuBEa1TG4",
   "metadata": {
    "id": "05USuBEa1TG4"
   },
   "outputs": [],
   "source": [
    "def set_plot_props(ax, fig, xmin, xmax, ymin, ymax, xlabel, ylabel):\n",
    "\n",
    "    # ---------------------------------\n",
    "    # Plot properties for website plots\n",
    "    # ---------------------------------\n",
    "\n",
    "    # Allow room at top for the 2 titles\n",
    "    fig.subplots_adjust(top=0.85)\n",
    "    \n",
    "    ax.tick_params(which='both', bottom=True, top=True, left=True, right=True)\n",
    "\n",
    "    ax.tick_params(axis='x', labelsize=12)\n",
    "    ax.tick_params(axis='y', labelsize=16)\n",
    "\n",
    "    ax.tick_params(axis='x', which='major', direction='in', length=6, width=1)\n",
    "    ax.tick_params(axis='y', which='major', direction='in', length=8, width=1)\n",
    "    \n",
    "    tick_spacing = 50\n",
    "    ax.yaxis.set_major_locator(ticker.MultipleLocator(tick_spacing))\n",
    "    \n",
    "    ax.tick_params(which='minor', direction='in', length=4)\n",
    "    ax.yaxis.set_minor_locator(AutoMinorLocator(5))\n",
    "    \n",
    "    labels = ax.get_xticklabels() + ax.get_yticklabels()\n",
    "    for label in labels: label.set_fontweight('bold')\n",
    "\n",
    "    ax.set_xlabel(xlabel, fontweight='bold', fontsize=12, labelpad=5)\n",
    "    ax.set_ylabel(ylabel, fontweight='bold', fontsize=18, labelpad=5)\n",
    "\n",
    "    # Set axes limits last \n",
    "    # If did before, setting xtick labels past xmin & xmax would have\n",
    "    # extended the plot limits\n",
    "    ax.set_xlim(xmin, xmax)\n",
    "    ax.set_ylim(ymin, ymax)"
   ]
  },
  {
   "cell_type": "markdown",
   "id": "e066c7e6",
   "metadata": {},
   "source": [
    "### Function to place the titles"
   ]
  },
  {
   "cell_type": "code",
   "execution_count": 28,
   "id": "qBzAzo2Q1TG5",
   "metadata": {
    "id": "qBzAzo2Q1TG5"
   },
   "outputs": [],
   "source": [
    "def add_plot_title(ax, title1, title2):\n",
    "\n",
    "    ax.annotate(title1, xy=(0, 1.15), xycoords='axes fraction', fontsize=14,\n",
    "                horizontalalignment='left', verticalalignment='top', fontweight=\"normal\")\n",
    "    ax.annotate(title2, xy=(0, 1.07), xycoords='axes fraction', fontsize=18,\n",
    "                horizontalalignment='left', verticalalignment='top', fontweight = 'bold')"
   ]
  },
  {
   "cell_type": "markdown",
   "id": "01cc6547",
   "metadata": {},
   "source": [
    "### Function to add an inset label"
   ]
  },
  {
   "cell_type": "code",
   "execution_count": 29,
   "id": "1f9cbe70",
   "metadata": {},
   "outputs": [],
   "source": [
    "def add_inset_label(ax, label_text):\n",
    "    ax.annotate(label_text, xy=(0.03, 0.9), xycoords='axes fraction', fontsize=12,\n",
    "                horizontalalignment='left', verticalalignment='top')\n"
   ]
  },
  {
   "cell_type": "markdown",
   "id": "298b4068",
   "metadata": {},
   "source": [
    "### Function to add arrow annotations"
   ]
  },
  {
   "cell_type": "code",
   "execution_count": 30,
   "id": "F6LNZL6W1TG5",
   "metadata": {
    "id": "F6LNZL6W1TG5"
   },
   "outputs": [],
   "source": [
    "def apply_arrow_annotations(todays_decimal, mlo_date, mlo_co2):\n",
    "    \n",
    "    \n",
    "    #  1960, 1980, 2000, 2020\n",
    "    # In years ce\n",
    "    x_1960 = 1960\n",
    "    x_1980 = 1980\n",
    "    x_2000 = 2000\n",
    "    x_2020 = 2020\n",
    "\n",
    "    spl_fit = interpolate.splrep(mlo_date, mlo_co2)\n",
    "\n",
    "    spl_val_1960 = interpolate.splev(x_1960, spl_fit)\n",
    "    spl_val_1980 = interpolate.splev(x_1980, spl_fit)\n",
    "    spl_val_2000 = interpolate.splev(x_2000, spl_fit)\n",
    "    spl_val_2020 = interpolate.splev(x_2020, spl_fit)\n",
    "    \n",
    "    # Annotation start\n",
    "    x_start = 1950\n",
    "    \n",
    "    plt.annotate('1960',\n",
    "             xy=[x_start, spl_val_1960],\n",
    "             xytext=[-60, 0], \n",
    "             verticalalignment = \"center\",\n",
    "             arrowprops=dict(arrowstyle='->',\n",
    "                             relpos=(0, 0.5), lw=1),           \n",
    "             fontsize=11,\n",
    "             textcoords=\"offset points\")\n",
    "\n",
    "    plt.annotate('1980',\n",
    "             xy=[x_start, spl_val_1980],\n",
    "             xytext=[-60, 0], \n",
    "             verticalalignment = \"center\",\n",
    "             arrowprops=dict(arrowstyle='->',\n",
    "                             relpos=(0, 0.5), lw=1),             \n",
    "             fontsize=11, \n",
    "             textcoords=\"offset points\")\n",
    "\n",
    "\n",
    "    plt.annotate('2000',\n",
    "             xy=[x_start, spl_val_2000],\n",
    "             xytext=[-60, 0], \n",
    "             verticalalignment = \"center\",\n",
    "             arrowprops=dict(arrowstyle='->',\n",
    "                             relpos=(0, 0.5), lw=1),             \n",
    "             fontsize=11, \n",
    "             textcoords=\"offset points\")\n",
    "\n",
    "\n",
    "    plt.annotate('2020',\n",
    "             xy=[x_start, spl_val_2020],\n",
    "             xytext=[-60, 0], \n",
    "             verticalalignment = \"center\",\n",
    "             arrowprops=dict(arrowstyle='->',\n",
    "                             relpos=(0, 0.5), lw=1),           \n",
    "             fontsize=11, \n",
    "             textcoords=\"offset points\")"
   ]
  },
  {
   "cell_type": "markdown",
   "id": "54956a80",
   "metadata": {},
   "source": [
    "### Function to save the graphic"
   ]
  },
  {
   "cell_type": "code",
   "execution_count": 31,
   "id": "1fde190a-4959-4ace-a2dd-d52c4f4720ca",
   "metadata": {},
   "outputs": [],
   "source": [
    "def save_graphic(fig, pdf_file, png_file):\n",
    "\n",
    "    fig_width, fig_height = fig.get_size_inches()\n",
    "\n",
    "    # For pdf\n",
    "    width_in = 10\n",
    "    height_in = (fig_height/fig_width) * width_in\n",
    "\n",
    "    fig.set_size_inches(width_in, height_in)\n",
    "\n",
    "    # Save to a high dpi so that logo png file has a high resolution\n",
    "    fig.savefig(pdf_file, facecolor='w', edgecolor='w',\n",
    "                orientation='landscape', format=None,\n",
    "                transparent=False, bbox_inches='tight', dpi=600)\n",
    "\n",
    "    # For png\n",
    "    # Want a png of height 500px\n",
    "\n",
    "    # First save figure as a png and then scale to size needed\n",
    "\n",
    "    png_dpi = 300\n",
    "\n",
    "    fig.savefig(png_file, facecolor='w', edgecolor='w',\n",
    "                orientation='landscape', dpi=png_dpi, bbox_inches='tight')\n",
    "\n",
    "    # Now resize the image to be width 1000px for the\n",
    "    # keelingcurve website\n",
    "    img = Image.open(png_file)\n",
    "    img_width, img_height = img.size\n",
    "\n",
    "    # width_px = 1000\n",
    "    # img_scale = (width_px / img_width)\n",
    "    # height_px = int((float(img_height) * float(img_scale)))\n",
    "\n",
    "    height_px = 500\n",
    "    img_scale = (height_px / img_height)\n",
    "    width_px = int((float(img_width) * float(img_scale)))\n",
    "\n",
    "    #img = img.resize((width_px, height_px), Image.Resampling.LANCZOS)\n",
    "    img = img.resize((width_px, height_px), Image.ANTIALIAS)\n",
    "    img.save(png_file)\n"
   ]
  },
  {
   "cell_type": "markdown",
   "id": "xIBU0Rl41TG6",
   "metadata": {
    "id": "xIBU0Rl41TG6"
   },
   "source": [
    "## **Set plot limits and labeling**"
   ]
  },
  {
   "cell_type": "markdown",
   "id": "59M_n3lw1TG7",
   "metadata": {
    "id": "59M_n3lw1TG7"
   },
   "source": [
    "#### Get todays date in various formats for labeling|"
   ]
  },
  {
   "cell_type": "code",
   "execution_count": 32,
   "id": "6okYyZMr1TG7",
   "metadata": {
    "id": "6okYyZMr1TG7"
   },
   "outputs": [],
   "source": [
    "todays_date_moyr, todays_date_modyyr, todays_decimal, todays_year = get_todays_date_variations()"
   ]
  },
  {
   "cell_type": "markdown",
   "id": "vSwdgHLX1TG7",
   "metadata": {
    "id": "vSwdgHLX1TG7"
   },
   "source": [
    "### Set titles and axes labels"
   ]
  },
  {
   "cell_type": "code",
   "execution_count": 33,
   "id": "YuKhs1yd1TG7",
   "metadata": {
    "id": "YuKhs1yd1TG7"
   },
   "outputs": [],
   "source": [
    "xlabel = 'Years (C.E.)'\n",
    "ylabel = \"$\\mathregular{CO}\\\\bf{_2}$\" + \" Concentration (ppm)\"\n",
    "\n",
    "#title1 = get_data_end_date(combined_years)\n",
    "title1 = ''\n",
    "title2 = 'Mauna Loa Data starting in 1958. Ice-core data before 1958.'"
   ]
  },
  {
   "cell_type": "markdown",
   "id": "rHEMl8Qy1TG7",
   "metadata": {
    "id": "rHEMl8Qy1TG7"
   },
   "source": [
    "### Set yaxis min and max limits"
   ]
  },
  {
   "cell_type": "code",
   "execution_count": 34,
   "id": "HmG2Uaco1TG8",
   "metadata": {
    "id": "HmG2Uaco1TG8"
   },
   "outputs": [],
   "source": [
    "ymin = 200\n",
    "ymax = 430"
   ]
  },
  {
   "cell_type": "markdown",
   "id": "PNvVRM_V1TG8",
   "metadata": {
    "id": "PNvVRM_V1TG8"
   },
   "source": [
    "### Set xaxis min and max limits"
   ]
  },
  {
   "cell_type": "code",
   "execution_count": 35,
   "id": "4jf5RiJH1TG8",
   "metadata": {
    "id": "4jf5RiJH1TG8"
   },
   "outputs": [],
   "source": [
    "xmin = 0\n",
    "xmax = todays_year + 40"
   ]
  },
  {
   "cell_type": "markdown",
   "id": "Zw_4F2tr1TG8",
   "metadata": {
    "id": "Zw_4F2tr1TG8"
   },
   "source": [
    "## **Steps to create the graphic**\n",
    "\n",
    "### Comment out any function to remove it from the graphic creation\n",
    "\n",
    "Comment out a line by adding a # symbol in front of a statement\n"
   ]
  },
  {
   "cell_type": "code",
   "execution_count": 36,
   "id": "gRtAsnrm1TG8",
   "metadata": {
    "colab": {
     "base_uri": "https://localhost:8080/",
     "height": 411
    },
    "id": "gRtAsnrm1TG8",
    "outputId": "7d42bdbe-099a-44e3-8a10-503aeadfbafa"
   },
   "outputs": [
    {
     "data": {
      "image/png": "[encoded data removed]",
      "text/plain": [
       "<Figure size 720x480 with 1 Axes>"
      ]
     },
     "metadata": {
      "needs_background": "light"
     },
     "output_type": "display_data"
    }
   ],
   "source": [
    "# create a figure container\n",
    "fig = plt.figure()\n",
    "\n",
    "# Set axes\n",
    "# Add padding for exterior plot text\n",
    "ax = plt.axes([0.11, 0.12, 0.83, 0.54])\n",
    "\n",
    "# ------------------------------------\n",
    "# Set properties to use for matplotlib\n",
    "# ------------------------------------\n",
    "\n",
    "set_matplotlib_properties()\n",
    "\n",
    "# ------------------------\n",
    "# Add gradient under curve\n",
    "# ------------------------\n",
    "\n",
    "# The gradient is a guide to the eye\n",
    "\n",
    "# Set gradient limits to the data limits\n",
    "data_start_date = min(combined_years)\n",
    "data_end_date = max(combined_years)\n",
    "\n",
    "area_color = '#73a7e6'\n",
    "\n",
    "gradient_fill(combined_years, combined_co2, fill_color=area_color, \n",
    "              xmin=data_start_date, ymin=ymin, xmax=data_end_date, \n",
    "              ymax=ymax, ax=ax, alpha_bottom=0.1, alpha=1.0)\n",
    "\n",
    "\n",
    "# -------------\n",
    "# Plot the data\n",
    "# -------------\n",
    "\n",
    "# Set plotting zorder above the gradient so the plot points are on top\n",
    "ax.plot(combined_years, combined_co2, '-', color='black', linewidth=0.75, zorder=5)\n",
    "\n",
    "\n",
    "# -------------------\n",
    "# Set plot properties\n",
    "# -------------------\n",
    "set_plot_props(ax, fig, xmin, xmax, ymin, ymax, xlabel, ylabel)\n",
    "\n",
    "\n",
    "# ---------------\n",
    "# Add date arrows\n",
    "# ---------------\n",
    "apply_arrow_annotations(todays_decimal, mlo_date, mlo_co2)\n",
    "\n",
    "# --------------\n",
    "# Add inset text\n",
    "# --------------\n",
    "inset_text = f'Last updated {todays_date_modyyr}'\n",
    "add_inset_label(ax, inset_text)\n",
    "\n",
    "\n",
    "# ---------------\n",
    "# Add plot titles\n",
    "# ---------------\n",
    "add_plot_title(ax, title1, title2)\n",
    "\n",
    "# ------------\n",
    "# Save graphic\n",
    "# ------------\n",
    "fig = plt.gcf()\n",
    "\n",
    "save_graphic(fig, pdf_file, png_file)\n",
    "\n",
    "\n",
    "plt.show()"
   ]
  },
  {
   "cell_type": "markdown",
   "id": "Yj1XC5fDA6W_",
   "metadata": {
    "id": "Yj1XC5fDA6W_"
   },
   "source": [
    "## **Download PDF & PNG files of the graphic**\n",
    "\n",
    "The download button only works when the notebook is run with Google Colab\n",
    "\n",
    "If the notebook is run on a local machine, the graphics are inside the plots directory"
   ]
  },
  {
   "cell_type": "code",
   "execution_count": 37,
   "id": "JsbbGAbWBDFU",
   "metadata": {
    "colab": {
     "base_uri": "https://localhost:8080/",
     "height": 49,
     "referenced_widgets": [
      "7cbc90519f584e7da55ee21cbdbcff0c",
      "e402c12fd5004c839356fa3df5bd714e",
      "2845e0e289d148a5a531f38de0f93629"
     ]
    },
    "id": "JsbbGAbWBDFU",
    "outputId": "7cae3dc6-9e7f-462b-f6f6-d01a18140119"
   },
   "outputs": [
    {
     "data": {
      "application/vnd.jupyter.widget-view+json": {
       "model_id": "560430fbc0714c09b2c8f11e64b2a3d2",
       "version_major": 2,
       "version_minor": 0
      },
      "text/plain": [
       "Button(button_style='primary', description='Download Files', style=ButtonStyle())"
      ]
     },
     "metadata": {},
     "output_type": "display_data"
    }
   ],
   "source": [
    "def download_files(ev):\n",
    "    files.download(png_file)\n",
    "    files.download(pdf_file)\n",
    "\n",
    "button = widgets.Button(description='Download Files', button_style='primary')\n",
    "button.on_click(download_files)\n",
    "display(button)"
   ]
  },
  {
   "cell_type": "code",
   "execution_count": null,
   "id": "B7NKCiz61TG8",
   "metadata": {
    "id": "B7NKCiz61TG8"
   },
   "outputs": [],
   "source": []
  }
 ],
 "metadata": {
  "colab": {
   "include_colab_link": true,
   "name": "plot_icecore_back_2K_ce_keelingcurve.ipynb",
   "provenance": []
  },
  "kernelspec": {
   "display_name": "Python 3.8.5 64-bit ('notebooks')",
   "language": "python",
   "name": "python3"
  },
  "language_info": {
   "codemirror_mode": {
    "name": "ipython",
    "version": 3
   },
   "file_extension": ".py",
   "mimetype": "text/x-python",
   "name": "python",
   "nbconvert_exporter": "python",
   "pygments_lexer": "ipython3",
   "version": "3.8.5"
  },
  "vscode": {
   "interpreter": {
    "hash": "756fd7f3f44ab1b408c61a336bc63dd8b2b1c2a4bc9346285fbb85e9c22b620b"
   }
  },
  "widgets": {
   "application/vnd.jupyter.widget-state+json": {
    "2845e0e289d148a5a531f38de0f93629": {
     "model_module": "@jupyter-widgets/base",
     "model_module_version": "1.2.0",
     "model_name": "LayoutModel",
     "state": {
      "_model_module": "@jupyter-widgets/base",
      "_model_module_version": "1.2.0",
      "_model_name": "LayoutModel",
      "_view_count": null,
      "_view_module": "@jupyter-widgets/base",
      "_view_module_version": "1.2.0",
      "_view_name": "LayoutView",
      "align_content": null,
      "align_items": null,
      "align_self": null,
      "border": null,
      "bottom": null,
      "display": null,
      "flex": null,
      "flex_flow": null,
      "grid_area": null,
      "grid_auto_columns": null,
      "grid_auto_flow": null,
      "grid_auto_rows": null,
      "grid_column": null,
      "grid_gap": null,
      "grid_row": null,
      "grid_template_areas": null,
      "grid_template_columns": null,
      "grid_template_rows": null,
      "height": null,
      "justify_content": null,
      "justify_items": null,
      "left": null,
      "margin": null,
      "max_height": null,
      "max_width": null,
      "min_height": null,
      "min_width": null,
      "object_fit": null,
      "object_position": null,
      "order": null,
      "overflow": null,
      "overflow_x": null,
      "overflow_y": null,
      "padding": null,
      "right": null,
      "top": null,
      "visibility": null,
      "width": null
     }
    },
    "7cbc90519f584e7da55ee21cbdbcff0c": {
     "model_module": "@jupyter-widgets/controls",
     "model_module_version": "1.5.0",
     "model_name": "ButtonModel",
     "state": {
      "_dom_classes": [],
      "_model_module": "@jupyter-widgets/controls",
      "_model_module_version": "1.5.0",
      "_model_name": "ButtonModel",
      "_view_count": null,
      "_view_module": "@jupyter-widgets/controls",
      "_view_module_version": "1.5.0",
      "_view_name": "ButtonView",
      "button_style": "primary",
      "description": "Download Files",
      "disabled": false,
      "icon": "",
      "layout": "IPY_MODEL_2845e0e289d148a5a531f38de0f93629",
      "style": "IPY_MODEL_e402c12fd5004c839356fa3df5bd714e",
      "tooltip": ""
     }
    },
    "e402c12fd5004c839356fa3df5bd714e": {
     "model_module": "@jupyter-widgets/controls",
     "model_module_version": "1.5.0",
     "model_name": "ButtonStyleModel",
     "state": {
      "_model_module": "@jupyter-widgets/controls",
      "_model_module_version": "1.5.0",
      "_model_name": "ButtonStyleModel",
      "_view_count": null,
      "_view_module": "@jupyter-widgets/base",
      "_view_module_version": "1.2.0",
      "_view_name": "StyleView",
      "button_color": null,
      "font_weight": ""
     }
    }
   }
  }
 },
 "nbformat": 4,
 "nbformat_minor": 5
}
