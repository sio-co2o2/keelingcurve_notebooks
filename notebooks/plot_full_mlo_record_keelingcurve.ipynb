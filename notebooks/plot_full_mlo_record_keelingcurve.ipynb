{
  "cells": [
    {
      "cell_type": "markdown",
      "metadata": {
        "colab_type": "text",
        "id": "view-in-github"
      },
      "source": [
        "<a href=\"https://colab.research.google.com/github/sio-co2o2/keelingcurve_notebooks/blob/main/notebooks/plot_full_mlo_record_keelingcurve.ipynb\" target=\"_parent\"><img src=\"https://colab.research.google.com/assets/colab-badge.svg\" alt=\"Open In Colab\"/></a>"
      ]
    },
    {
      "cell_type": "markdown",
      "id": "rLKWenEgSMZP",
      "metadata": {
        "id": "rLKWenEgSMZP"
      },
      "source": [
        "# Plot full record of CO2 at Mauna Loa, Hawaii"
      ]
    },
    {
      "cell_type": "markdown",
      "id": "t5_JohjmSMZS",
      "metadata": {
        "id": "t5_JohjmSMZS"
      },
      "source": [
        "### The Keeling Curve\n",
        "https://keelingcurve.ucsd.edu\n",
        "\n",
        "This notebook creates pdf and png plot versions."
      ]
    },
    {
      "cell_type": "markdown",
      "id": "7bkCEl30SMZT",
      "metadata": {
        "id": "7bkCEl30SMZT"
      },
      "source": [
        "## Import packages"
      ]
    },
    {
      "cell_type": "code",
      "execution_count": 24,
      "id": "2NYgN26LSMZT",
      "metadata": {
        "id": "2NYgN26LSMZT"
      },
      "outputs": [],
      "source": [
        "import re\n",
        "import pandas as pd\n",
        "import numpy as np\n",
        "from datetime import datetime, date, timedelta\n",
        "from dateutil.relativedelta import relativedelta\n",
        "import pathlib\n",
        "import matplotlib.image as mpimg\n",
        "import matplotlib.pyplot as plt\n",
        "from matplotlib.pyplot import figure\n",
        "from matplotlib.ticker import (MultipleLocator, AutoMinorLocator)\n",
        "from matplotlib import ticker\n",
        "from matplotlib.path import Path\n",
        "import matplotlib.colors as mcolors\n",
        "from matplotlib.patches import Polygon\n",
        "import matplotlib.dates as mdates\n",
        "import matplotlib.lines as mlines\n",
        "from scipy.interpolate import CubicSpline\n",
        "import matplotlib.transforms\n",
        "from matplotlib import animation\n",
        "from ipywidgets import widgets\n",
        "from IPython.display import HTML, display\n",
        "from base64 import b64encode\n",
        "from PIL import Image\n",
        "import urllib\n",
        "import os\n",
        "\n",
        "%matplotlib inline"
      ]
    },
    {
      "cell_type": "code",
      "execution_count": 25,
      "id": "aSKB_AOuMTFx",
      "metadata": {
        "id": "aSKB_AOuMTFx"
      },
      "outputs": [],
      "source": [
        "try:\n",
        "  from cairosvg import svg2png\n",
        "except:\n",
        "  ! pip install cairosvg"
      ]
    },
    {
      "cell_type": "code",
      "execution_count": 26,
      "id": "a8932fb4-1adc-4cec-bf34-6516fb8a05cb",
      "metadata": {
        "id": "a8932fb4-1adc-4cec-bf34-6516fb8a05cb"
      },
      "outputs": [],
      "source": [
        "# This import is to enable Google Colab to save files ane then download them\n",
        "\n",
        "# This import does not exist unless the notebook is run in Google Colab\n",
        "# Put in a try except block if user wants to use notebook off of Google Colab\n",
        "\n",
        "try:\n",
        "    from google.colab import files\n",
        "except:\n",
        "    pass"
      ]
    },
    {
      "cell_type": "markdown",
      "id": "9z8QlQMLSMZU",
      "metadata": {
        "id": "9z8QlQMLSMZU"
      },
      "source": [
        "## Set directories and file names for data,  plot, and logo"
      ]
    },
    {
      "cell_type": "code",
      "execution_count": 27,
      "id": "ORlNwHV5SMZU",
      "metadata": {
        "id": "ORlNwHV5SMZU"
      },
      "outputs": [],
      "source": [
        "# Read in data from github repository\n",
        "# Get mlo record to last daily value\n",
        "data_file = 'https://raw.githubusercontent.com/sio-co2o2/keelingcurve_notebooks/main/data/mlo/mlo_full_record_now_span.csv'\n",
        "\n",
        "logo_file = 'https://github.com/sio-co2o2/keelingcurve_notebooks/raw/main/images/ucsd_sio_logo.svg'\n",
        "\n",
        "plot_dir = pathlib.Path('./plots')\n",
        "plot_dir.mkdir(exist_ok=True)\n",
        "\n",
        "plot_base_name = 'mlo_full_record'\n",
        "\n",
        "pdf_file = plot_dir / f'{plot_base_name}.pdf'\n",
        "png_file = plot_dir / f'{plot_base_name}.png'"
      ]
    },
    {
      "cell_type": "markdown",
      "id": "Iat83SHiSMZV",
      "metadata": {
        "id": "Iat83SHiSMZV"
      },
      "source": [
        "## Load in Data and process"
      ]
    },
    {
      "cell_type": "code",
      "execution_count": 28,
      "id": "DAaZzKvSSMZV",
      "metadata": {
        "colab": {
          "base_uri": "https://localhost:8080/",
          "height": 206
        },
        "id": "DAaZzKvSSMZV",
        "outputId": "53c5182e-783b-46d7-83c5-8a14ad11710d"
      },
      "outputs": [
        {
          "data": {
            "text/html": [
              "<div>\n",
              "<style scoped>\n",
              "    .dataframe tbody tr th:only-of-type {\n",
              "        vertical-align: middle;\n",
              "    }\n",
              "\n",
              "    .dataframe tbody tr th {\n",
              "        vertical-align: top;\n",
              "    }\n",
              "\n",
              "    .dataframe thead th {\n",
              "        text-align: right;\n",
              "    }\n",
              "</style>\n",
              "<table border=\"1\" class=\"dataframe\">\n",
              "  <thead>\n",
              "    <tr style=\"text-align: right;\">\n",
              "      <th></th>\n",
              "      <th>date</th>\n",
              "      <th>co2</th>\n",
              "      <th>date_seas_adj</th>\n",
              "      <th>co2_seas_adj</th>\n",
              "      <th>date_fit</th>\n",
              "      <th>co2_fit</th>\n",
              "      <th>date_seas_adj_fit</th>\n",
              "      <th>co2_seas_adj_fit</th>\n",
              "      <th>date_filled</th>\n",
              "      <th>co2_filled</th>\n",
              "      <th>date_seas_adj_filled</th>\n",
              "      <th>co2_seas_adj_filled</th>\n",
              "    </tr>\n",
              "  </thead>\n",
              "  <tbody>\n",
              "    <tr>\n",
              "      <th>0</th>\n",
              "      <td>1958.202740</td>\n",
              "      <td>315.71</td>\n",
              "      <td>1958.202740</td>\n",
              "      <td>314.44</td>\n",
              "      <td>1958.202740</td>\n",
              "      <td>316.20</td>\n",
              "      <td>1958.202740</td>\n",
              "      <td>314.91</td>\n",
              "      <td>1958.202740</td>\n",
              "      <td>315.71</td>\n",
              "      <td>1958.202740</td>\n",
              "      <td>314.44</td>\n",
              "    </tr>\n",
              "    <tr>\n",
              "      <th>1</th>\n",
              "      <td>1958.287671</td>\n",
              "      <td>317.45</td>\n",
              "      <td>1958.287671</td>\n",
              "      <td>315.16</td>\n",
              "      <td>1958.287671</td>\n",
              "      <td>317.30</td>\n",
              "      <td>1958.287671</td>\n",
              "      <td>314.99</td>\n",
              "      <td>1958.287671</td>\n",
              "      <td>317.45</td>\n",
              "      <td>1958.287671</td>\n",
              "      <td>315.16</td>\n",
              "    </tr>\n",
              "    <tr>\n",
              "      <th>2</th>\n",
              "      <td>1958.369863</td>\n",
              "      <td>317.51</td>\n",
              "      <td>1958.369863</td>\n",
              "      <td>314.70</td>\n",
              "      <td>1958.369863</td>\n",
              "      <td>317.87</td>\n",
              "      <td>1958.369863</td>\n",
              "      <td>315.07</td>\n",
              "      <td>1958.369863</td>\n",
              "      <td>317.51</td>\n",
              "      <td>1958.369863</td>\n",
              "      <td>314.70</td>\n",
              "    </tr>\n",
              "    <tr>\n",
              "      <th>3</th>\n",
              "      <td>1958.536986</td>\n",
              "      <td>315.87</td>\n",
              "      <td>1958.536986</td>\n",
              "      <td>315.20</td>\n",
              "      <td>1958.454795</td>\n",
              "      <td>317.26</td>\n",
              "      <td>1958.454795</td>\n",
              "      <td>315.15</td>\n",
              "      <td>1958.454795</td>\n",
              "      <td>317.26</td>\n",
              "      <td>1958.454795</td>\n",
              "      <td>315.15</td>\n",
              "    </tr>\n",
              "    <tr>\n",
              "      <th>4</th>\n",
              "      <td>1958.621918</td>\n",
              "      <td>314.93</td>\n",
              "      <td>1958.621918</td>\n",
              "      <td>316.21</td>\n",
              "      <td>1958.536986</td>\n",
              "      <td>315.86</td>\n",
              "      <td>1958.536986</td>\n",
              "      <td>315.22</td>\n",
              "      <td>1958.536986</td>\n",
              "      <td>315.87</td>\n",
              "      <td>1958.536986</td>\n",
              "      <td>315.20</td>\n",
              "    </tr>\n",
              "  </tbody>\n",
              "</table>\n",
              "</div>"
            ],
            "text/plain": [
              "          date     co2  date_seas_adj  co2_seas_adj     date_fit  co2_fit  \\\n",
              "0  1958.202740  315.71    1958.202740        314.44  1958.202740   316.20   \n",
              "1  1958.287671  317.45    1958.287671        315.16  1958.287671   317.30   \n",
              "2  1958.369863  317.51    1958.369863        314.70  1958.369863   317.87   \n",
              "3  1958.536986  315.87    1958.536986        315.20  1958.454795   317.26   \n",
              "4  1958.621918  314.93    1958.621918        316.21  1958.536986   315.86   \n",
              "\n",
              "   date_seas_adj_fit  co2_seas_adj_fit  date_filled  co2_filled  \\\n",
              "0        1958.202740            314.91  1958.202740      315.71   \n",
              "1        1958.287671            314.99  1958.287671      317.45   \n",
              "2        1958.369863            315.07  1958.369863      317.51   \n",
              "3        1958.454795            315.15  1958.454795      317.26   \n",
              "4        1958.536986            315.22  1958.536986      315.87   \n",
              "\n",
              "   date_seas_adj_filled  co2_seas_adj_filled  \n",
              "0           1958.202740               314.44  \n",
              "1           1958.287671               315.16  \n",
              "2           1958.369863               314.70  \n",
              "3           1958.454795               315.15  \n",
              "4           1958.536986               315.20  "
            ]
          },
          "execution_count": 28,
          "metadata": {},
          "output_type": "execute_result"
        }
      ],
      "source": [
        "df = pd.read_csv(data_file,skipinitialspace=True,comment='\"')\n",
        "df.head()"
      ]
    },
    {
      "cell_type": "markdown",
      "id": "t6IlRW3USMZW",
      "metadata": {
        "id": "t6IlRW3USMZW"
      },
      "source": [
        "### Break into 2 dataframes. One for CO2 and one for the CO2 fit"
      ]
    },
    {
      "cell_type": "code",
      "execution_count": 29,
      "id": "Cfn9bpElSMZX",
      "metadata": {
        "id": "Cfn9bpElSMZX"
      },
      "outputs": [],
      "source": [
        "df_co2 = df[['date', 'co2']].copy()\n",
        "df_co2_fit = df[['date_fit', 'co2_fit']].copy()"
      ]
    },
    {
      "cell_type": "markdown",
      "id": "mGqqgrJdSMZX",
      "metadata": {
        "id": "mGqqgrJdSMZX"
      },
      "source": [
        "### Remove rows with fill values -99.99 or NaN"
      ]
    },
    {
      "cell_type": "code",
      "execution_count": 30,
      "id": "edHgh73TSMZX",
      "metadata": {
        "colab": {
          "base_uri": "https://localhost:8080/",
          "height": 206
        },
        "id": "edHgh73TSMZX",
        "outputId": "916ec9f8-7c44-43ba-998f-1e786474161a"
      },
      "outputs": [
        {
          "data": {
            "text/html": [
              "<div>\n",
              "<style scoped>\n",
              "    .dataframe tbody tr th:only-of-type {\n",
              "        vertical-align: middle;\n",
              "    }\n",
              "\n",
              "    .dataframe tbody tr th {\n",
              "        vertical-align: top;\n",
              "    }\n",
              "\n",
              "    .dataframe thead th {\n",
              "        text-align: right;\n",
              "    }\n",
              "</style>\n",
              "<table border=\"1\" class=\"dataframe\">\n",
              "  <thead>\n",
              "    <tr style=\"text-align: right;\">\n",
              "      <th></th>\n",
              "      <th>date</th>\n",
              "      <th>co2</th>\n",
              "    </tr>\n",
              "  </thead>\n",
              "  <tbody>\n",
              "    <tr>\n",
              "      <th>786</th>\n",
              "      <td>2022.346575</td>\n",
              "      <td>419.06</td>\n",
              "    </tr>\n",
              "    <tr>\n",
              "      <th>787</th>\n",
              "      <td>2022.349315</td>\n",
              "      <td>419.39</td>\n",
              "    </tr>\n",
              "    <tr>\n",
              "      <th>788</th>\n",
              "      <td>2022.352055</td>\n",
              "      <td>419.88</td>\n",
              "    </tr>\n",
              "    <tr>\n",
              "      <th>789</th>\n",
              "      <td>2022.354795</td>\n",
              "      <td>420.95</td>\n",
              "    </tr>\n",
              "    <tr>\n",
              "      <th>790</th>\n",
              "      <td>2022.357534</td>\n",
              "      <td>421.37</td>\n",
              "    </tr>\n",
              "  </tbody>\n",
              "</table>\n",
              "</div>"
            ],
            "text/plain": [
              "            date     co2\n",
              "786  2022.346575  419.06\n",
              "787  2022.349315  419.39\n",
              "788  2022.352055  419.88\n",
              "789  2022.354795  420.95\n",
              "790  2022.357534  421.37"
            ]
          },
          "execution_count": 30,
          "metadata": {},
          "output_type": "execute_result"
        }
      ],
      "source": [
        "df_co2 = df_co2[df_co2['co2'] != -99.99]\n",
        "df_co2_fit = df_co2_fit[df_co2_fit['co2_fit'] != -99.99]\n",
        "\n",
        "df_co2 = df_co2.dropna()\n",
        "df_co2_fit = df_co2_fit.dropna()\n",
        "\n",
        "df_co2.tail()"
      ]
    },
    {
      "cell_type": "markdown",
      "id": "6g-n4IywSMZY",
      "metadata": {
        "id": "6g-n4IywSMZY"
      },
      "source": [
        "### Convert to numpy arrays for plotting"
      ]
    },
    {
      "cell_type": "code",
      "execution_count": 31,
      "id": "z-UBDKmmSMZY",
      "metadata": {
        "id": "z-UBDKmmSMZY"
      },
      "outputs": [],
      "source": [
        "date_co2 = df_co2['date'].to_numpy()\n",
        "co2 = df_co2['co2'].to_numpy()\n",
        "date_co2_fit = df_co2_fit['date_fit'].to_numpy()\n",
        "co2_fit = df_co2_fit['co2_fit'].to_numpy()"
      ]
    },
    {
      "cell_type": "markdown",
      "id": "nMALA8BPSMZY",
      "metadata": {
        "id": "nMALA8BPSMZY"
      },
      "source": [
        "## Define plot functions"
      ]
    },
    {
      "cell_type": "code",
      "execution_count": 32,
      "id": "wXCz46dlSMZY",
      "metadata": {
        "id": "wXCz46dlSMZY"
      },
      "outputs": [],
      "source": [
        "# https://stackoverflow.com/questions/29321835/is-it-possible-to-get-color-gradients-under-curve-in-matplotlib\n",
        "# Modified to add gradient below curve and have a bottom alpha\n",
        "\n",
        "# def gradient_fill(x, y, fill_color=None, ax=None, **kwargs):\n",
        "def gradient_fill(x, y, fill_color='#FFFFFF', xmin=None, ymin=None, xmax=None, \n",
        "                  ymax=None, alpha_bottom=None, ax=None, alpha=1, zorder=1, **kwargs):\n",
        "    \"\"\"\n",
        "    Plot a line with a linear alpha gradient filled beneath it.\n",
        "\n",
        "    Parameters\n",
        "    ----------\n",
        "    x, y : array-like\n",
        "        The data values of the line.\n",
        "    fill_color : a matplotlib color specifier (string, tuple) or None\n",
        "        The color for the fill. If None, the color of the line will be used.\n",
        "    ax : a matplotlib Axes instance\n",
        "        The axes to plot on. If None, the current pyplot axes will be used.\n",
        "    Additional arguments are passed on to matplotlib's ``plot`` function.\n",
        "\n",
        "    Returns\n",
        "    -------\n",
        "    line : a Line2D instance\n",
        "        The line plotted.\n",
        "    im : an AxesImage instance\n",
        "        The transparent gradient clipped to just the area beneath the curve.\n",
        "    \"\"\"\n",
        "    if ax is None:\n",
        "        ax = plt.gca()\n",
        "\n",
        "    # Only want the gradient to show\n",
        "    #line, = ax.plot(x, y, **kwargs)\n",
        "    #if fill_color is None:\n",
        "    #    fill_color = line.get_color()\n",
        "\n",
        "    if alpha_bottom is None:\n",
        "        alpha_bottom = 0\n",
        "\n",
        "    if xmin is None:\n",
        "        xmin = x.min()\n",
        "\n",
        "    if ymin is None:\n",
        "        ymin = y.min()\n",
        "        \n",
        "    if xmax is None:\n",
        "        xmax = x.max()\n",
        "\n",
        "    if ymax is None:\n",
        "        ymax = y.max()\n",
        "        \n",
        "    if zorder is None:\n",
        "        zorder = 1\n",
        "        \n",
        "    #zorder = line.get_zorder()\n",
        "    \n",
        "    #alpha = line.get_alpha()\n",
        "    #alpha = 1.0 if alpha is None else alpha\n",
        "\n",
        "    z = np.empty((100, 1, 4), dtype=float)\n",
        "    rgb = mcolors.colorConverter.to_rgb(fill_color)\n",
        "    z[:, :, :3] = rgb\n",
        "    #z[:,:,-1] = np.linspace(0, alpha, 100)[:,None]\n",
        "    z[:, :, -1] = np.linspace(alpha_bottom, alpha, 100)[:, None]\n",
        "\n",
        "    #xmin, xmax, ymin, ymax = x.min(), x.max(), y.min(), y.max()\n",
        "    \n",
        "    im = ax.imshow(z, aspect='auto', extent=[xmin, xmax, ymin, ymax],\n",
        "                   origin='lower', zorder=zorder)\n",
        "\n",
        "    xy = np.column_stack([x, y])\n",
        "    xy = np.vstack([[xmin, ymin], xy, [xmax, ymin], [xmin, ymin]])\n",
        "    clip_path = Polygon(xy, facecolor='none', edgecolor='none', closed=True)\n",
        "    ax.add_patch(clip_path)\n",
        "    im.set_clip_path(clip_path)\n",
        "    \n",
        "    ax.autoscale(True)\n",
        "\n",
        "    # Return the patch so can remove it later for animation\n",
        "    return clip_path"
      ]
    },
    {
      "cell_type": "code",
      "execution_count": 33,
      "id": "m-FVZ0DrSMZZ",
      "metadata": {
        "id": "m-FVZ0DrSMZZ"
      },
      "outputs": [],
      "source": [
        "def set_matplotlib_properties():\n",
        "    \n",
        "    # Set default properties for matplotlib\n",
        "    \n",
        "    # Reset rcparams in case modified defaults in another notebook during same session \n",
        "    plt.rcParams.update(plt.rcParamsDefault)\n",
        "\n",
        "    plt.rcParams.update({'axes.linewidth':1.5})\n",
        "    \n",
        "    plt.rcParams.update({\n",
        "        \"text.usetex\": False,\n",
        "        \"font.family\": \"sans-serif\",\n",
        "        \"font.weight\":  \"normal\",\n",
        "        \"font.sans-serif\": [\"Arial\", \"Tahoma\", \"Helvetica\",\"FreeSans\", \"NimbusSans\", \"LiberationSans\",\"DejaVu Sans\"],\n",
        "        \"mathtext.default\":'regular',\n",
        "        \"mathtext.fontset\": \"dejavusans\"\n",
        "    })\n",
        "        \n",
        "    # http://phyletica.org/matplotlib-fonts/\n",
        "    # This causes matplotlib to use Type 42 (a.k.a. TrueType) fonts \n",
        "    # for PostScript and PDF files. This allows you to avoid Type 3 fonts.\n",
        "    # Turning on usetex also works\n",
        "    # Needed on Ubuntu for pdf fonts \n",
        "    plt.rcParams.update({\n",
        "      'pdf.fonttype': 42,\n",
        "        'ps.fonttype': 42 \n",
        "    })"
      ]
    },
    {
      "cell_type": "code",
      "execution_count": 34,
      "id": "Qc0jOumsSMZZ",
      "metadata": {
        "id": "Qc0jOumsSMZZ"
      },
      "outputs": [],
      "source": [
        "def set_website_plot_props(ax, fig, xmin, xmax, ymin, ymax, xlabel, ylabel):\n",
        "\n",
        "    # ------------------------------------\n",
        "    # Set properties to use for matplotlib\n",
        "    # ------------------------------------\n",
        "    \n",
        "    set_matplotlib_properties()\n",
        "\n",
        "    # ---------------------------------\n",
        "    # Plot properties for website plots\n",
        "    # ---------------------------------\n",
        "\n",
        "    # Allow room at top for the 2 titles\n",
        "    fig.subplots_adjust(top=0.85)\n",
        "\n",
        "    ax.tick_params(which='both', bottom=True, top=True, left=True, right=True)\n",
        "\n",
        "    ax.tick_params(axis='x', labelsize=12)\n",
        "    ax.tick_params(axis='y', labelsize=16)\n",
        "\n",
        "    ax.tick_params(axis='x', which='major', direction='in', length=8, width=1)\n",
        "    ax.tick_params(axis='y', which='major', direction='in', length=8, width=1)\n",
        "\n",
        "    tick_spacing = 5\n",
        "    ax.xaxis.set_major_locator(ticker.MultipleLocator(tick_spacing))\n",
        "    \n",
        "    tick_spacing = 5\n",
        "    ax.yaxis.set_major_locator(ticker.MultipleLocator(tick_spacing))\n",
        "    \n",
        "    labels = ax.get_xticklabels() + ax.get_yticklabels()\n",
        "    for label in labels: label.set_fontweight('bold')   \n",
        "    \n",
        "    # Display every other y major tick label\n",
        "    for label in ax.yaxis.get_ticklabels()[::2]:\n",
        "        label.set_visible(False)\n",
        "\n",
        "    tick_length = 5\n",
        "    ax.tick_params(axis='x',which='minor', direction='in', length=tick_length)\n",
        "    \n",
        "    tick_length = 4\n",
        "    ax.tick_params(axis='y',which='minor', direction='in', length=tick_length)\n",
        "    \n",
        "    ax.xaxis.set_minor_locator(AutoMinorLocator(5))\n",
        "    ax.yaxis.set_minor_locator(AutoMinorLocator(5))\n",
        "      \n",
        "    ax.set_xlabel(xlabel, fontweight='bold', fontsize=18, labelpad=5)\n",
        "    ax.set_ylabel(ylabel, fontweight='bold', fontsize=18, labelpad=5)\n",
        "\n",
        "    ax.set_xlim(xmin, xmax)\n",
        "    ax.set_ylim(ymin, ymax)"
      ]
    },
    {
      "cell_type": "code",
      "execution_count": 35,
      "id": "NFg3AViJSMZa",
      "metadata": {
        "id": "NFg3AViJSMZa"
      },
      "outputs": [],
      "source": [
        "def add_plot_title(ax, title1, title2):\n",
        "\n",
        "    ax.annotate(title1, xy=(0, 1.15), xycoords='axes fraction', fontsize=14,\n",
        "                horizontalalignment='left', verticalalignment='top', fontweight=\"normal\")\n",
        "    ax.annotate(title2, xy=(0, 1.07), xycoords='axes fraction', fontsize=18,\n",
        "                horizontalalignment='left', verticalalignment='top', fontweight = 'bold')"
      ]
    },
    {
      "cell_type": "code",
      "execution_count": 36,
      "id": "PvBSgkYRSMZa",
      "metadata": {
        "id": "PvBSgkYRSMZa"
      },
      "outputs": [],
      "source": [
        "def add_inset_label(ax, label_start, today):\n",
        "    label_text = f\"{label_start} ending {today}\"\n",
        "    ax.annotate(label_text, xy=(0.03, 0.9), xycoords='axes fraction', fontsize=12,\n",
        "                horizontalalignment='left', verticalalignment='top', fontweight=\"normal\")"
      ]
    },
    {
      "cell_type": "code",
      "execution_count": 37,
      "id": "cPicC09xSMZa",
      "metadata": {
        "id": "cPicC09xSMZa"
      },
      "outputs": [],
      "source": [
        "def add_sio_logo(fig, logo_file, xpos, ypos):\n",
        "\n",
        "    # Convert the logo svg file to a png file with the\n",
        "    # given scale and dpi\n",
        "    logo_png = 'logo.png'\n",
        "    svg2png(url=logo_file, write_to=logo_png, scale=10, dpi=300)\n",
        "\n",
        "    logo = mpimg.imread(logo_png)\n",
        "\n",
        "    fig.add_axes([xpos, ypos, 0.2, 0.2], anchor='SE', zorder=1)\n",
        "\n",
        "    plt.imshow(logo)\n",
        "    plt.axis('off')\n",
        "\n",
        "    # Delete the logo png version\n",
        "    os.remove(logo_png)\n"
      ]
    },
    {
      "cell_type": "code",
      "execution_count": 38,
      "id": "d7a501d8",
      "metadata": {
        "id": "d7a501d8"
      },
      "outputs": [],
      "source": [
        "def save_plot_for_website(fig, pdf_file, png_file):\n",
        "\n",
        "    fig_width, fig_height = fig.get_size_inches()\n",
        "\n",
        "    # For pdf\n",
        "    width_in = 10\n",
        "    height_in = (fig_height/fig_width) * width_in\n",
        "\n",
        "    fig.set_size_inches(width_in, height_in)\n",
        "\n",
        "    # Save to a high dpi so that logo png file has a high resolution\n",
        "    fig.savefig(pdf_file, facecolor='w', edgecolor='w',\n",
        "                orientation='landscape', format=None,\n",
        "                transparent=False, bbox_inches='tight', dpi=600)\n",
        "\n",
        "    # For png\n",
        "    # Want a png of height 500px\n",
        "\n",
        "    # First save figure as a png and then scale to size needed\n",
        "\n",
        "    png_dpi = 300\n",
        "\n",
        "    fig.savefig(png_file, facecolor='w', edgecolor='w',\n",
        "                orientation='landscape', dpi=png_dpi, bbox_inches='tight')\n",
        "\n",
        "    # Now resize the image to be width 1000px for the\n",
        "    # keelingcurve website\n",
        "    img = Image.open(png_file)\n",
        "    img_width, img_height = img.size\n",
        "\n",
        "    # width_px = 1000\n",
        "    # img_scale = (width_px / img_width)\n",
        "    # height_px = int((float(img_height) * float(img_scale)))\n",
        "\n",
        "    height_px = 500\n",
        "    img_scale = (height_px / img_height)\n",
        "    width_px = int((float(img_width) * float(img_scale)))\n",
        "\n",
        "    img = img.resize((width_px, height_px), Image.ANTIALIAS)\n",
        "    #img = img.resize((width_px, height_px), Image.Resampling.LANCZOS)\n",
        "    img.save(png_file)\n"
      ]
    },
    {
      "cell_type": "markdown",
      "id": "Ajbd2KDlSMZb",
      "metadata": {
        "id": "Ajbd2KDlSMZb"
      },
      "source": [
        "## Set plot limits and labeling"
      ]
    },
    {
      "cell_type": "markdown",
      "id": "ChyM4Z91SMZb",
      "metadata": {
        "id": "ChyM4Z91SMZb"
      },
      "source": [
        "### Functions to convert dates into various formats\n",
        "For plot limits and labeling"
      ]
    },
    {
      "cell_type": "code",
      "execution_count": 39,
      "id": "Txw3emi9SMZb",
      "metadata": {
        "id": "Txw3emi9SMZb"
      },
      "outputs": [],
      "source": [
        "# Function to convert datetime to a float\n",
        "def dt2t(adatetime):\n",
        "    \"\"\"\n",
        "    Convert adatetime into a float. The integer part of the float should\n",
        "    represent the year.\n",
        "    Order should be preserved. If adate<bdate, then d2t(adate)<d2t(bdate)\n",
        "    time distances should be preserved: If bdate-adate=ddate-cdate then\n",
        "    dt2t(bdate)-dt2t(adate) = dt2t(ddate)-dt2t(cdate)\n",
        "    \"\"\"\n",
        "    year = adatetime.year\n",
        "    boy = datetime(year, 1, 1)\n",
        "    eoy = datetime(year + 1, 1, 1)\n",
        "    return year + ((adatetime - boy).total_seconds() / ((eoy - boy).total_seconds()))"
      ]
    },
    {
      "cell_type": "code",
      "execution_count": 40,
      "id": "067Uk95USMZb",
      "metadata": {
        "id": "067Uk95USMZb"
      },
      "outputs": [],
      "source": [
        "def get_todays_date_variations():\n",
        "    \n",
        "    now = datetime.now()\n",
        "    todays_decimal =  dt2t(now)\n",
        "    \n",
        "    today = date.today()\n",
        "\n",
        "    todays_day = today.day\n",
        "    todays_month = today.strftime(\"%B\")\n",
        "    todays_year = today.year\n",
        "    todays_date_moyr = today.strftime(\"%B %Y\")\n",
        "    todays_date_modyyr = f\"{todays_month} {todays_day}, {todays_year}\"\n",
        "\n",
        "    return todays_date_moyr, todays_date_modyyr, todays_decimal, todays_year"
      ]
    },
    {
      "cell_type": "code",
      "execution_count": 41,
      "id": "HBXOwLn5SMZb",
      "metadata": {
        "id": "HBXOwLn5SMZb"
      },
      "outputs": [],
      "source": [
        "#  https://stackoverflow.com/questions/19305991/convert-fractional-years-to-a-real-date-in-python\n",
        "def t2dt(atime):\n",
        "    \"\"\"\n",
        "    Convert atime (a float) to DT.datetime\n",
        "    This is the inverse of dt2t.\n",
        "    assert dt2t(t2dt(atime)) == atime\n",
        "    \"\"\"\n",
        "    year = int(atime)\n",
        "    remainder = atime - year\n",
        "    boy = datetime(year, 1, 1)\n",
        "    eoy = datetime(year + 1, 1, 1)\n",
        "    seconds = remainder * (eoy - boy).total_seconds()\n",
        "    return boy + timedelta(seconds=seconds)"
      ]
    },
    {
      "cell_type": "code",
      "execution_count": 42,
      "id": "ngsud2LmSMZb",
      "metadata": {
        "id": "ngsud2LmSMZb"
      },
      "outputs": [],
      "source": [
        "def get_data_end_date(date_data):\n",
        "    last_date = np.max(date_data)\n",
        "    last_date_datetime = t2dt(last_date)\n",
        "    \n",
        "    # Convert date format to month_name day, year\n",
        "    day = last_date_datetime.day\n",
        "    month = last_date_datetime.strftime(\"%B\")\n",
        "    year = last_date_datetime.year\n",
        "    date_modyyr = f\"{month} {day}, {year}\"\n",
        "    return date_modyyr"
      ]
    },
    {
      "cell_type": "markdown",
      "id": "ciY8cSMXSMZc",
      "metadata": {
        "id": "ciY8cSMXSMZc"
      },
      "source": [
        "### Set titles and axes labels"
      ]
    },
    {
      "cell_type": "code",
      "execution_count": 43,
      "id": "hlXhJH4CSMZc",
      "metadata": {
        "id": "hlXhJH4CSMZc"
      },
      "outputs": [],
      "source": [
        "xlabel = ''\n",
        "ylabel = \"$\\mathregular{CO}\\\\bf{_2}$\" + \" Concentration (ppm)\"\n",
        "\n",
        "title1 = ''\n",
        "title2 = 'Carbon dioxide concentration at Mauna Loa Observatory'"
      ]
    },
    {
      "cell_type": "markdown",
      "id": "wj-dCD89SMZc",
      "metadata": {
        "id": "wj-dCD89SMZc"
      },
      "source": [
        "### Set yaxis min and max limits"
      ]
    },
    {
      "cell_type": "code",
      "execution_count": 44,
      "id": "nR4XHFlOSMZc",
      "metadata": {
        "id": "nR4XHFlOSMZc"
      },
      "outputs": [],
      "source": [
        "ymin = 310\n",
        "ymax = 430"
      ]
    },
    {
      "cell_type": "markdown",
      "id": "pvrPrEQOSMZc",
      "metadata": {
        "id": "pvrPrEQOSMZc"
      },
      "source": [
        "### Set xaxis min and max limits"
      ]
    },
    {
      "cell_type": "code",
      "execution_count": 45,
      "id": "ke6VdYhqSMZc",
      "metadata": {
        "id": "ke6VdYhqSMZc"
      },
      "outputs": [],
      "source": [
        "xmin = min(date_co2)\n",
        "\n",
        "# Get current date as decimal year\n",
        "now = datetime.now()\n",
        "xmax = dt2t(now)"
      ]
    },
    {
      "cell_type": "markdown",
      "id": "r1sGzbsPSMZc",
      "metadata": {
        "id": "r1sGzbsPSMZc"
      },
      "source": [
        "## Create plot and save"
      ]
    },
    {
      "cell_type": "code",
      "execution_count": 46,
      "id": "CIIeOudiSMZd",
      "metadata": {
        "colab": {
          "base_uri": "https://localhost:8080/",
          "height": 493
        },
        "id": "CIIeOudiSMZd",
        "outputId": "18a46c1b-89af-4b4c-f416-c92c01c6e2cc"
      },
      "outputs": [
        {
          "data": {
            "image/png": "[encoded data removed]",
            "text/plain": [
              "<Figure size 720x480 with 2 Axes>"
            ]
          },
          "metadata": {
            "needs_background": "light"
          },
          "output_type": "display_data"
        }
      ],
      "source": [
        "fig = plt.figure()\n",
        "\n",
        "# Add padding for exterior plot text\n",
        "ax = plt.axes([0.11, 0.12, 0.83, 0.54])\n",
        "\n",
        "\n",
        "# ------------------------\n",
        "# Add gradient under curve\n",
        "# ------------------------\n",
        "\n",
        "# For gradient max, use last date of data rather than current date\n",
        "xmax_gradient = max(date_co2)\n",
        "\n",
        "#area_color = '#ACCAE6'\n",
        "#area_color = '#8CB2E0'\n",
        "area_color = '#73a7e6'\n",
        "\n",
        "gradient_fill_path = gradient_fill(date_co2, co2, fill_color=area_color, xmin=xmin, xmax=xmax_gradient,\n",
        "              ymin=ymin, ymax=ymax, ax=ax, alpha_bottom=0.1, alpha=1.0)\n",
        "\n",
        "\n",
        "# -------------\n",
        "# Plot the data\n",
        "# -------------\n",
        "\n",
        "# Set plotting zorder above the gradient\n",
        "\n",
        "ax.plot(date_co2, co2, 'o', color='black',markersize=3.5, \n",
        "         markerfacecolor='black', markeredgecolor='black', markeredgewidth=0, zorder=5)\n",
        "\n",
        "ax.plot(date_co2_fit, co2_fit, '-', color='black', linewidth=0.5, zorder=4)\n",
        "\n",
        "\n",
        "# -------------------\n",
        "# Set plot properties\n",
        "# -------------------\n",
        "set_website_plot_props(ax, fig, xmin, xmax, ymin, ymax, xlabel, ylabel)\n",
        "\n",
        "# ------------------------------------------------\n",
        "# Get todays date in various formats for labeling\n",
        "# ------------------------------------------------\n",
        "todays_date_moyr, todays_date_modyyr, todays_decimal, todays_year = get_todays_date_variations()\n",
        "\n",
        "# ---------------\n",
        "# Add plot titles\n",
        "# ---------------\n",
        "add_plot_title(ax, title1, title2)\n",
        "\n",
        "# --------------\n",
        "# Add inset text\n",
        "# --------------\n",
        "add_inset_label(ax, 'Full record', todays_date_modyyr)\n",
        "\n",
        "\n",
        "# --------------------\n",
        "# Add SIO logo to plot\n",
        "# --------------------\n",
        "xpos = 0.715\n",
        "ypos = 0.155\n",
        "\n",
        "add_sio_logo(fig, logo_file, xpos, ypos)\n",
        "\n",
        "\n",
        "# ---------------------\n",
        "# Save plot for website\n",
        "# ---------------------\n",
        "\n",
        "fig = plt.gcf()\n",
        "\n",
        "save_plot_for_website(fig, pdf_file, png_file)\n",
        "\n",
        "plt.show()"
      ]
    },
    {
      "cell_type": "markdown",
      "id": "Yr7ttY4c-Qkg",
      "metadata": {
        "id": "Yr7ttY4c-Qkg"
      },
      "source": [
        "## Download Plots (pdf & png)"
      ]
    },
    {
      "cell_type": "code",
      "execution_count": 47,
      "id": "O1P3GlFP-RhH",
      "metadata": {
        "colab": {
          "base_uri": "https://localhost:8080/",
          "height": 49,
          "referenced_widgets": [
            "b704d3a276404640883f6c5efd8146b1",
            "4449a97a24c146a29773c014f8eb3849",
            "08054a4c8e124c2c88869f9f113cc063"
          ]
        },
        "id": "O1P3GlFP-RhH",
        "outputId": "af111426-09dc-4e79-dcdf-fa6a803743dc"
      },
      "outputs": [
        {
          "data": {
            "application/vnd.jupyter.widget-view+json": {
              "model_id": "a8be19c5bb8b4970a0a951c552bf09a5",
              "version_major": 2,
              "version_minor": 0
            },
            "text/plain": [
              "Button(button_style='primary', description='Download Files', style=ButtonStyle())"
            ]
          },
          "metadata": {},
          "output_type": "display_data"
        }
      ],
      "source": [
        "def download_files(ev):\n",
        "    files.download(png_file)\n",
        "    files.download(pdf_file)\n",
        "\n",
        "button = widgets.Button(description='Download Files', button_style='primary')\n",
        "button.on_click(download_files)\n",
        "display(button)"
      ]
    },
    {
      "cell_type": "code",
      "execution_count": null,
      "id": "a7OACoox9GNC",
      "metadata": {
        "id": "a7OACoox9GNC"
      },
      "outputs": [],
      "source": []
    }
  ],
  "metadata": {
    "colab": {
      "collapsed_sections": [],
      "include_colab_link": true,
      "name": "plot_full_mlo_record_keelingcurve.ipynb",
      "provenance": []
    },
    "interpreter": {
      "hash": "a6523cdc2f19300dd73b7b8326e7a545830100f7294adee97cb075d465aa9220"
    },
    "kernelspec": {
      "display_name": "Python 3.8.12 ('notebooks')",
      "language": "python",
      "name": "python3"
    },
    "language_info": {
      "codemirror_mode": {
        "name": "ipython",
        "version": 3
      },
      "file_extension": ".py",
      "mimetype": "text/x-python",
      "name": "python",
      "nbconvert_exporter": "python",
      "pygments_lexer": "ipython3",
      "version": "3.8.12"
    },
    "widgets": {
      "application/vnd.jupyter.widget-state+json": {
        "08054a4c8e124c2c88869f9f113cc063": {
          "model_module": "@jupyter-widgets/controls",
          "model_module_version": "1.5.0",
          "model_name": "ButtonStyleModel",
          "state": {
            "_model_module": "@jupyter-widgets/controls",
            "_model_module_version": "1.5.0",
            "_model_name": "ButtonStyleModel",
            "_view_count": null,
            "_view_module": "@jupyter-widgets/base",
            "_view_module_version": "1.2.0",
            "_view_name": "StyleView",
            "button_color": null,
            "font_weight": ""
          }
        },
        "4449a97a24c146a29773c014f8eb3849": {
          "model_module": "@jupyter-widgets/base",
          "model_module_version": "1.2.0",
          "model_name": "LayoutModel",
          "state": {
            "_model_module": "@jupyter-widgets/base",
            "_model_module_version": "1.2.0",
            "_model_name": "LayoutModel",
            "_view_count": null,
            "_view_module": "@jupyter-widgets/base",
            "_view_module_version": "1.2.0",
            "_view_name": "LayoutView",
            "align_content": null,
            "align_items": null,
            "align_self": null,
            "border": null,
            "bottom": null,
            "display": null,
            "flex": null,
            "flex_flow": null,
            "grid_area": null,
            "grid_auto_columns": null,
            "grid_auto_flow": null,
            "grid_auto_rows": null,
            "grid_column": null,
            "grid_gap": null,
            "grid_row": null,
            "grid_template_areas": null,
            "grid_template_columns": null,
            "grid_template_rows": null,
            "height": null,
            "justify_content": null,
            "justify_items": null,
            "left": null,
            "margin": null,
            "max_height": null,
            "max_width": null,
            "min_height": null,
            "min_width": null,
            "object_fit": null,
            "object_position": null,
            "order": null,
            "overflow": null,
            "overflow_x": null,
            "overflow_y": null,
            "padding": null,
            "right": null,
            "top": null,
            "visibility": null,
            "width": null
          }
        },
        "b704d3a276404640883f6c5efd8146b1": {
          "model_module": "@jupyter-widgets/controls",
          "model_module_version": "1.5.0",
          "model_name": "ButtonModel",
          "state": {
            "_dom_classes": [],
            "_model_module": "@jupyter-widgets/controls",
            "_model_module_version": "1.5.0",
            "_model_name": "ButtonModel",
            "_view_count": null,
            "_view_module": "@jupyter-widgets/controls",
            "_view_module_version": "1.5.0",
            "_view_name": "ButtonView",
            "button_style": "primary",
            "description": "Download Files",
            "disabled": false,
            "icon": "",
            "layout": "IPY_MODEL_4449a97a24c146a29773c014f8eb3849",
            "style": "IPY_MODEL_08054a4c8e124c2c88869f9f113cc063",
            "tooltip": ""
          }
        }
      }
    }
  },
  "nbformat": 4,
  "nbformat_minor": 5
}
