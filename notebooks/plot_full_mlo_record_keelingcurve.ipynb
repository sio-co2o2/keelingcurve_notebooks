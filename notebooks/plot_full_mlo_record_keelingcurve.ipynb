{
  "cells": [
    {
      "cell_type": "markdown",
      "id": "906b3927",
      "metadata": {
        "colab_type": "text",
        "id": "view-in-github"
      },
      "source": [
        "<a href=\"https://colab.research.google.com/github/sio-co2o2/keelingcurve_notebooks/blob/main/notebooks/plot_full_mlo_record_keelingcurve.ipynb\" target=\"_parent\"><img src=\"https://colab.research.google.com/assets/colab-badge.svg\" alt=\"Open In Colab\"/></a>"
      ]
    },
    {
      "cell_type": "markdown",
      "id": "rLKWenEgSMZP",
      "metadata": {
        "id": "rLKWenEgSMZP"
      },
      "source": [
        "# Plot full record of CO2 at Mauna Loa, Hawaii"
      ]
    },
    {
      "cell_type": "markdown",
      "id": "t5_JohjmSMZS",
      "metadata": {
        "id": "t5_JohjmSMZS"
      },
      "source": [
        "### The Keeling Curve\n",
        "https://keelingcurve.ucsd.edu\n",
        "\n",
        "This notebook creates pdf and png plot versions."
      ]
    },
    {
      "cell_type": "markdown",
      "id": "7bkCEl30SMZT",
      "metadata": {
        "id": "7bkCEl30SMZT"
      },
      "source": [
        "## Import packages"
      ]
    },
    {
      "cell_type": "code",
      "execution_count": 5,
      "id": "2NYgN26LSMZT",
      "metadata": {
        "id": "2NYgN26LSMZT"
      },
      "outputs": [],
      "source": [
        "import re\n",
        "import pandas as pd\n",
        "import numpy as np\n",
        "from datetime import datetime, date, timedelta\n",
        "from dateutil.relativedelta import relativedelta\n",
        "import pathlib\n",
        "import matplotlib.image as mpimg\n",
        "import matplotlib.pyplot as plt\n",
        "from matplotlib.pyplot import figure\n",
        "from matplotlib.ticker import (MultipleLocator, AutoMinorLocator)\n",
        "from matplotlib import ticker\n",
        "from matplotlib.path import Path\n",
        "import matplotlib.colors as mcolors\n",
        "from matplotlib.patches import Polygon\n",
        "import matplotlib.dates as mdates\n",
        "import matplotlib.lines as mlines\n",
        "from scipy.interpolate import CubicSpline\n",
        "import matplotlib.transforms\n",
        "from google.colab import files\n",
        "from matplotlib import animation\n",
        "from ipywidgets import widgets\n",
        "from IPython.display import HTML\n",
        "from base64 import b64encode\n",
        "from PIL import Image\n",
        "import urllib\n",
        "\n",
        "%matplotlib inline"
      ]
    },
    {
      "cell_type": "markdown",
      "id": "9z8QlQMLSMZU",
      "metadata": {
        "id": "9z8QlQMLSMZU"
      },
      "source": [
        "## Set directories and file names for data,  plot, and logo"
      ]
    },
    {
      "cell_type": "code",
      "execution_count": 6,
      "id": "ORlNwHV5SMZU",
      "metadata": {
        "id": "ORlNwHV5SMZU"
      },
      "outputs": [],
      "source": [
        "# Read in data from github repository\n",
        "# Get mlo record to last daily value\n",
        "data_file = 'https://raw.githubusercontent.com/sio-co2o2/keelingcurve_notebooks/main/data/mlo/mlo_full_record_now_span.csv'\n",
        "\n",
        "logo_file = 'https://github.com/sio-co2o2/keelingcurve_notebooks/raw/main/images/ucsd_sio_logo.png'\n",
        "\n",
        "plot_dir = pathlib.Path('./plots')\n",
        "plot_dir.mkdir(exist_ok=True)\n",
        "\n",
        "plot_base_name = 'mlo_full_record'\n",
        "\n",
        "pdf_file = plot_dir / f'{plot_base_name}.pdf'\n",
        "png_file = plot_dir / f'{plot_base_name}.png'"
      ]
    },
    {
      "cell_type": "markdown",
      "id": "Iat83SHiSMZV",
      "metadata": {
        "id": "Iat83SHiSMZV"
      },
      "source": [
        "## Load in Data and process"
      ]
    },
    {
      "cell_type": "code",
      "execution_count": 7,
      "id": "DAaZzKvSSMZV",
      "metadata": {
        "colab": {
          "base_uri": "https://localhost:8080/",
          "height": 206
        },
        "id": "DAaZzKvSSMZV",
        "outputId": "cbfb24d8-0654-4e44-97a2-efb404d0c313"
      },
      "outputs": [
        {
          "data": {
            "text/html": [
              "<div>\n",
              "<style scoped>\n",
              "    .dataframe tbody tr th:only-of-type {\n",
              "        vertical-align: middle;\n",
              "    }\n",
              "\n",
              "    .dataframe tbody tr th {\n",
              "        vertical-align: top;\n",
              "    }\n",
              "\n",
              "    .dataframe thead th {\n",
              "        text-align: right;\n",
              "    }\n",
              "</style>\n",
              "<table border=\"1\" class=\"dataframe\">\n",
              "  <thead>\n",
              "    <tr style=\"text-align: right;\">\n",
              "      <th></th>\n",
              "      <th>date</th>\n",
              "      <th>co2</th>\n",
              "      <th>date_seas_adj</th>\n",
              "      <th>co2_seas_adj</th>\n",
              "      <th>date_fit</th>\n",
              "      <th>co2_fit</th>\n",
              "      <th>date_seas_adj_fit</th>\n",
              "      <th>co2_seas_adj_fit</th>\n",
              "    </tr>\n",
              "  </thead>\n",
              "  <tbody>\n",
              "    <tr>\n",
              "      <th>0</th>\n",
              "      <td>1958.202740</td>\n",
              "      <td>315.71</td>\n",
              "      <td>1958.202740</td>\n",
              "      <td>314.43</td>\n",
              "      <td>1958.202740</td>\n",
              "      <td>316.20</td>\n",
              "      <td>1958.202740</td>\n",
              "      <td>314.91</td>\n",
              "    </tr>\n",
              "    <tr>\n",
              "      <th>1</th>\n",
              "      <td>1958.287671</td>\n",
              "      <td>317.45</td>\n",
              "      <td>1958.287671</td>\n",
              "      <td>315.16</td>\n",
              "      <td>1958.287671</td>\n",
              "      <td>317.30</td>\n",
              "      <td>1958.287671</td>\n",
              "      <td>314.99</td>\n",
              "    </tr>\n",
              "    <tr>\n",
              "      <th>2</th>\n",
              "      <td>1958.369863</td>\n",
              "      <td>317.51</td>\n",
              "      <td>1958.369863</td>\n",
              "      <td>314.71</td>\n",
              "      <td>1958.369863</td>\n",
              "      <td>317.86</td>\n",
              "      <td>1958.369863</td>\n",
              "      <td>315.07</td>\n",
              "    </tr>\n",
              "    <tr>\n",
              "      <th>3</th>\n",
              "      <td>1958.536986</td>\n",
              "      <td>315.86</td>\n",
              "      <td>1958.536986</td>\n",
              "      <td>315.20</td>\n",
              "      <td>1958.454795</td>\n",
              "      <td>317.25</td>\n",
              "      <td>1958.454795</td>\n",
              "      <td>315.15</td>\n",
              "    </tr>\n",
              "    <tr>\n",
              "      <th>4</th>\n",
              "      <td>1958.621918</td>\n",
              "      <td>314.93</td>\n",
              "      <td>1958.621918</td>\n",
              "      <td>316.20</td>\n",
              "      <td>1958.536986</td>\n",
              "      <td>315.85</td>\n",
              "      <td>1958.536986</td>\n",
              "      <td>315.22</td>\n",
              "    </tr>\n",
              "  </tbody>\n",
              "</table>\n",
              "</div>"
            ],
            "text/plain": [
              "          date     co2  date_seas_adj  co2_seas_adj     date_fit  co2_fit  \\\n",
              "0  1958.202740  315.71    1958.202740        314.43  1958.202740   316.20   \n",
              "1  1958.287671  317.45    1958.287671        315.16  1958.287671   317.30   \n",
              "2  1958.369863  317.51    1958.369863        314.71  1958.369863   317.86   \n",
              "3  1958.536986  315.86    1958.536986        315.20  1958.454795   317.25   \n",
              "4  1958.621918  314.93    1958.621918        316.20  1958.536986   315.85   \n",
              "\n",
              "   date_seas_adj_fit  co2_seas_adj_fit  \n",
              "0        1958.202740            314.91  \n",
              "1        1958.287671            314.99  \n",
              "2        1958.369863            315.07  \n",
              "3        1958.454795            315.15  \n",
              "4        1958.536986            315.22  "
            ]
          },
          "execution_count": 7,
          "metadata": {},
          "output_type": "execute_result"
        }
      ],
      "source": [
        "df = pd.read_csv(data_file,skipinitialspace=True,comment='\"')\n",
        "df.head()"
      ]
    },
    {
      "cell_type": "markdown",
      "id": "t6IlRW3USMZW",
      "metadata": {
        "id": "t6IlRW3USMZW"
      },
      "source": [
        "### Break into 2 dataframes. One for CO2 and one for the CO2 fit"
      ]
    },
    {
      "cell_type": "code",
      "execution_count": 8,
      "id": "Cfn9bpElSMZX",
      "metadata": {
        "id": "Cfn9bpElSMZX"
      },
      "outputs": [],
      "source": [
        "df_co2 = df[['date', 'co2']].copy()\n",
        "df_co2_fit = df[['date_fit', 'co2_fit']].copy()"
      ]
    },
    {
      "cell_type": "markdown",
      "id": "mGqqgrJdSMZX",
      "metadata": {
        "id": "mGqqgrJdSMZX"
      },
      "source": [
        "### Remove rows with fill values -99.99 or NaN"
      ]
    },
    {
      "cell_type": "code",
      "execution_count": 9,
      "id": "edHgh73TSMZX",
      "metadata": {
        "colab": {
          "base_uri": "https://localhost:8080/",
          "height": 206
        },
        "id": "edHgh73TSMZX",
        "outputId": "33a50192-2ba5-4008-a4bf-8efcb4051aaa"
      },
      "outputs": [
        {
          "data": {
            "text/html": [
              "<div>\n",
              "<style scoped>\n",
              "    .dataframe tbody tr th:only-of-type {\n",
              "        vertical-align: middle;\n",
              "    }\n",
              "\n",
              "    .dataframe tbody tr th {\n",
              "        vertical-align: top;\n",
              "    }\n",
              "\n",
              "    .dataframe thead th {\n",
              "        text-align: right;\n",
              "    }\n",
              "</style>\n",
              "<table border=\"1\" class=\"dataframe\">\n",
              "  <thead>\n",
              "    <tr style=\"text-align: right;\">\n",
              "      <th></th>\n",
              "      <th>date</th>\n",
              "      <th>co2</th>\n",
              "    </tr>\n",
              "  </thead>\n",
              "  <tbody>\n",
              "    <tr>\n",
              "      <th>775</th>\n",
              "      <td>2022.157534</td>\n",
              "      <td>419.36</td>\n",
              "    </tr>\n",
              "    <tr>\n",
              "      <th>776</th>\n",
              "      <td>2022.160274</td>\n",
              "      <td>419.05</td>\n",
              "    </tr>\n",
              "    <tr>\n",
              "      <th>777</th>\n",
              "      <td>2022.163014</td>\n",
              "      <td>418.97</td>\n",
              "    </tr>\n",
              "    <tr>\n",
              "      <th>778</th>\n",
              "      <td>2022.165753</td>\n",
              "      <td>418.74</td>\n",
              "    </tr>\n",
              "    <tr>\n",
              "      <th>779</th>\n",
              "      <td>2022.168493</td>\n",
              "      <td>418.60</td>\n",
              "    </tr>\n",
              "  </tbody>\n",
              "</table>\n",
              "</div>"
            ],
            "text/plain": [
              "            date     co2\n",
              "775  2022.157534  419.36\n",
              "776  2022.160274  419.05\n",
              "777  2022.163014  418.97\n",
              "778  2022.165753  418.74\n",
              "779  2022.168493  418.60"
            ]
          },
          "execution_count": 9,
          "metadata": {},
          "output_type": "execute_result"
        }
      ],
      "source": [
        "df_co2 = df_co2[df_co2['co2'] != -99.99]\n",
        "df_co2_fit = df_co2_fit[df_co2_fit['co2_fit'] != -99.99]\n",
        "\n",
        "df_co2 = df_co2.dropna()\n",
        "df_co2_fit = df_co2_fit.dropna()\n",
        "\n",
        "df_co2.tail()"
      ]
    },
    {
      "cell_type": "markdown",
      "id": "6g-n4IywSMZY",
      "metadata": {
        "id": "6g-n4IywSMZY"
      },
      "source": [
        "### Convert to numpy arrays for plotting"
      ]
    },
    {
      "cell_type": "code",
      "execution_count": 10,
      "id": "z-UBDKmmSMZY",
      "metadata": {
        "id": "z-UBDKmmSMZY"
      },
      "outputs": [],
      "source": [
        "date_co2 = df_co2['date'].to_numpy()\n",
        "co2 = df_co2['co2'].to_numpy()\n",
        "date_co2_fit = df_co2_fit['date_fit'].to_numpy()\n",
        "co2_fit = df_co2_fit['co2_fit'].to_numpy()"
      ]
    },
    {
      "cell_type": "markdown",
      "id": "nMALA8BPSMZY",
      "metadata": {
        "id": "nMALA8BPSMZY"
      },
      "source": [
        "## Define plot functions"
      ]
    },
    {
      "cell_type": "code",
      "execution_count": 11,
      "id": "wXCz46dlSMZY",
      "metadata": {
        "id": "wXCz46dlSMZY"
      },
      "outputs": [],
      "source": [
        "# https://stackoverflow.com/questions/29321835/is-it-possible-to-get-color-gradients-under-curve-in-matplotlib\n",
        "# Modified to add gradient below curve and have a bottom alpha\n",
        "\n",
        "# def gradient_fill(x, y, fill_color=None, ax=None, **kwargs):\n",
        "def gradient_fill(x, y, fill_color='#FFFFFF', xmin=None, ymin=None, xmax=None, \n",
        "                  ymax=None, alpha_bottom=None, ax=None, alpha=1, zorder=1, **kwargs):\n",
        "    \"\"\"\n",
        "    Plot a line with a linear alpha gradient filled beneath it.\n",
        "\n",
        "    Parameters\n",
        "    ----------\n",
        "    x, y : array-like\n",
        "        The data values of the line.\n",
        "    fill_color : a matplotlib color specifier (string, tuple) or None\n",
        "        The color for the fill. If None, the color of the line will be used.\n",
        "    ax : a matplotlib Axes instance\n",
        "        The axes to plot on. If None, the current pyplot axes will be used.\n",
        "    Additional arguments are passed on to matplotlib's ``plot`` function.\n",
        "\n",
        "    Returns\n",
        "    -------\n",
        "    line : a Line2D instance\n",
        "        The line plotted.\n",
        "    im : an AxesImage instance\n",
        "        The transparent gradient clipped to just the area beneath the curve.\n",
        "    \"\"\"\n",
        "    if ax is None:\n",
        "        ax = plt.gca()\n",
        "\n",
        "    # Only want the gradient to show\n",
        "    #line, = ax.plot(x, y, **kwargs)\n",
        "    #if fill_color is None:\n",
        "    #    fill_color = line.get_color()\n",
        "\n",
        "    if alpha_bottom is None:\n",
        "        alpha_bottom = 0\n",
        "\n",
        "    if xmin is None:\n",
        "        xmin = x.min()\n",
        "\n",
        "    if ymin is None:\n",
        "        ymin = y.min()\n",
        "        \n",
        "    if xmax is None:\n",
        "        xmax = x.max()\n",
        "\n",
        "    if ymax is None:\n",
        "        ymax = y.max()\n",
        "        \n",
        "    if zorder is None:\n",
        "        zorder = 1\n",
        "        \n",
        "    #zorder = line.get_zorder()\n",
        "    \n",
        "    #alpha = line.get_alpha()\n",
        "    #alpha = 1.0 if alpha is None else alpha\n",
        "\n",
        "    z = np.empty((100, 1, 4), dtype=float)\n",
        "    rgb = mcolors.colorConverter.to_rgb(fill_color)\n",
        "    z[:, :, :3] = rgb\n",
        "    #z[:,:,-1] = np.linspace(0, alpha, 100)[:,None]\n",
        "    z[:, :, -1] = np.linspace(alpha_bottom, alpha, 100)[:, None]\n",
        "\n",
        "    #xmin, xmax, ymin, ymax = x.min(), x.max(), y.min(), y.max()\n",
        "    \n",
        "    im = ax.imshow(z, aspect='auto', extent=[xmin, xmax, ymin, ymax],\n",
        "                   origin='lower', zorder=zorder)\n",
        "\n",
        "    xy = np.column_stack([x, y])\n",
        "    xy = np.vstack([[xmin, ymin], xy, [xmax, ymin], [xmin, ymin]])\n",
        "    clip_path = Polygon(xy, facecolor='none', edgecolor='none', closed=True)\n",
        "    ax.add_patch(clip_path)\n",
        "    im.set_clip_path(clip_path)\n",
        "    \n",
        "    ax.autoscale(True)"
      ]
    },
    {
      "cell_type": "code",
      "execution_count": 12,
      "id": "m-FVZ0DrSMZZ",
      "metadata": {
        "id": "m-FVZ0DrSMZZ"
      },
      "outputs": [],
      "source": [
        "def set_matplotlib_properties():\n",
        "    \n",
        "    # Set default properties for matplotlib\n",
        "    \n",
        "    # Reset rcparams in case modified defaults in another notebook during same session \n",
        "    plt.rcParams.update(plt.rcParamsDefault)\n",
        "\n",
        "    plt.rcParams.update({'axes.linewidth':1.5})\n",
        "    \n",
        "    plt.rcParams.update({\n",
        "        \"text.usetex\": False,\n",
        "        \"font.family\": \"sans-serif\",\n",
        "        \"font.weight\":  \"normal\",\n",
        "        \"font.sans-serif\": [\"Arial\", \"Tahoma\", \"Helvetica\",\"FreeSans\", \"NimbusSans\", \"LiberationSans\",\"DejaVu Sans\"],\n",
        "        \"mathtext.default\":'regular',\n",
        "        \"mathtext.fontset\": \"dejavusans\"\n",
        "    })\n",
        "        \n",
        "    # http://phyletica.org/matplotlib-fonts/\n",
        "    # This causes matplotlib to use Type 42 (a.k.a. TrueType) fonts \n",
        "    # for PostScript and PDF files. This allows you to avoid Type 3 fonts.\n",
        "    # Turning on usetex also works\n",
        "    # Needed on Ubuntu for pdf fonts \n",
        "    plt.rcParams.update({\n",
        "      'pdf.fonttype': 42,\n",
        "        'ps.fonttype': 42 \n",
        "    })"
      ]
    },
    {
      "cell_type": "code",
      "execution_count": 13,
      "id": "Qc0jOumsSMZZ",
      "metadata": {
        "id": "Qc0jOumsSMZZ"
      },
      "outputs": [],
      "source": [
        "def set_website_plot_props(ax, fig, xmin, xmax, ymin, ymax, xlabel, ylabel):\n",
        "\n",
        "    # ------------------------------------\n",
        "    # Set properties to use for matplotlib\n",
        "    # ------------------------------------\n",
        "    \n",
        "    set_matplotlib_properties()\n",
        "\n",
        "    # ---------------------------------\n",
        "    # Plot properties for website plots\n",
        "    # ---------------------------------\n",
        "\n",
        "    # Allow room at top for the 2 titles\n",
        "    fig.subplots_adjust(top=0.85)\n",
        "\n",
        "    ax.tick_params(which='both', bottom=True, top=True, left=True, right=True)\n",
        "\n",
        "    ax.tick_params(axis='x', labelsize=12)\n",
        "    ax.tick_params(axis='y', labelsize=16)\n",
        "\n",
        "    ax.tick_params(axis='x', which='major', direction='in', length=8, width=1)\n",
        "    ax.tick_params(axis='y', which='major', direction='in', length=8, width=1)\n",
        "\n",
        "    tick_spacing = 5\n",
        "    ax.xaxis.set_major_locator(ticker.MultipleLocator(tick_spacing))\n",
        "    \n",
        "    tick_spacing = 5\n",
        "    ax.yaxis.set_major_locator(ticker.MultipleLocator(tick_spacing))\n",
        "    \n",
        "    labels = ax.get_xticklabels() + ax.get_yticklabels()\n",
        "    for label in labels: label.set_fontweight('bold')   \n",
        "    \n",
        "    # Display every other y major tick label\n",
        "    for label in ax.yaxis.get_ticklabels()[::2]:\n",
        "        label.set_visible(False)\n",
        "\n",
        "    tick_length = 5\n",
        "    ax.tick_params(axis='x',which='minor', direction='in', length=tick_length)\n",
        "    \n",
        "    tick_length = 4\n",
        "    ax.tick_params(axis='y',which='minor', direction='in', length=tick_length)\n",
        "    \n",
        "    ax.xaxis.set_minor_locator(AutoMinorLocator(5))\n",
        "    ax.yaxis.set_minor_locator(AutoMinorLocator(5))\n",
        "      \n",
        "    ax.set_xlabel(xlabel, fontweight='bold', fontsize=18, labelpad=5)\n",
        "    ax.set_ylabel(ylabel, fontweight='bold', fontsize=18, labelpad=5)\n",
        "\n",
        "    ax.set_xlim(xmin, xmax)\n",
        "    ax.set_ylim(ymin, ymax)"
      ]
    },
    {
      "cell_type": "code",
      "execution_count": 14,
      "id": "NFg3AViJSMZa",
      "metadata": {
        "id": "NFg3AViJSMZa"
      },
      "outputs": [],
      "source": [
        "def add_plot_title(ax, title1, title2):\n",
        "\n",
        "    ax.annotate(title1, xy=(0, 1.15), xycoords='axes fraction', fontsize=14,\n",
        "                horizontalalignment='left', verticalalignment='top', fontweight=\"normal\")\n",
        "    ax.annotate(title2, xy=(0, 1.07), xycoords='axes fraction', fontsize=18,\n",
        "                horizontalalignment='left', verticalalignment='top', fontweight = 'bold')"
      ]
    },
    {
      "cell_type": "code",
      "execution_count": 15,
      "id": "PvBSgkYRSMZa",
      "metadata": {
        "id": "PvBSgkYRSMZa"
      },
      "outputs": [],
      "source": [
        "def add_inset_label(ax, label_start, today):\n",
        "    label_text = f\"{label_start} ending {today}\"\n",
        "    ax.annotate(label_text, xy=(0.03, 0.9), xycoords='axes fraction', fontsize=12,\n",
        "                horizontalalignment='left', verticalalignment='top', fontweight=\"normal\")"
      ]
    },
    {
      "cell_type": "code",
      "execution_count": 16,
      "id": "cPicC09xSMZa",
      "metadata": {
        "id": "cPicC09xSMZa"
      },
      "outputs": [],
      "source": [
        "def add_sio_logo(fig, logo_file, xpos, ypos):\n",
        "\n",
        "    logo = Image.open(urllib.request.urlopen(logo_file))\n",
        "\n",
        "    fig.add_axes([xpos, ypos, 0.2, 0.2], anchor='SE', zorder=1)\n",
        "\n",
        "    plt.imshow(logo)\n",
        "    plt.axis('off')\n"
      ]
    },
    {
      "cell_type": "code",
      "execution_count": null,
      "id": "d7a501d8",
      "metadata": {},
      "outputs": [],
      "source": [
        "def save_plot_for_website(fig, pdf_file, png_file):\n",
        "\n",
        "    fig_width, fig_height = fig.get_size_inches()\n",
        "\n",
        "    # For pdf\n",
        "    width_in = 10\n",
        "    height_in = (fig_height/fig_width) * width_in\n",
        "\n",
        "    fig.set_size_inches(width_in, height_in)\n",
        "\n",
        "    pdf_dpi = 300\n",
        "\n",
        "    fig.savefig(pdf_file, facecolor='w', edgecolor='w',\n",
        "                orientation='landscape', format=None,\n",
        "                transparent=False, bbox_inches='tight', dpi=pdf_dpi)\n",
        "\n",
        "    # For png\n",
        "    # Want a png of height 500px\n",
        "\n",
        "    # First save figure as a png and then scale to size needed\n",
        "\n",
        "    png_dpi = 300\n",
        "\n",
        "    fig.savefig(png_file, facecolor='w', edgecolor='w',\n",
        "                orientation='landscape', dpi=png_dpi, bbox_inches='tight')\n",
        "\n",
        "    # Now resize the image to be width 1000px for the\n",
        "    # keelingcurve website\n",
        "    img = Image.open(png_file)\n",
        "    img_width, img_height = img.size\n",
        "\n",
        "    height_px = 500\n",
        "    img_scale = (height_px / img_height)\n",
        "    width_px = int((float(img_width) * float(img_scale)))\n",
        "\n",
        "    img = img.resize((width_px, height_px), Image.ANTIALIAS)\n",
        "    img.save(png_file)\n"
      ]
    },
    {
      "cell_type": "markdown",
      "id": "Ajbd2KDlSMZb",
      "metadata": {
        "id": "Ajbd2KDlSMZb"
      },
      "source": [
        "## Set plot limits and labeling"
      ]
    },
    {
      "cell_type": "markdown",
      "id": "ChyM4Z91SMZb",
      "metadata": {
        "id": "ChyM4Z91SMZb"
      },
      "source": [
        "### Functions to convert dates into various formats\n",
        "For plot limits and labeling"
      ]
    },
    {
      "cell_type": "code",
      "execution_count": 18,
      "id": "Txw3emi9SMZb",
      "metadata": {
        "id": "Txw3emi9SMZb"
      },
      "outputs": [],
      "source": [
        "# Function to convert datetime to a float\n",
        "def dt2t(adatetime):\n",
        "    \"\"\"\n",
        "    Convert adatetime into a float. The integer part of the float should\n",
        "    represent the year.\n",
        "    Order should be preserved. If adate<bdate, then d2t(adate)<d2t(bdate)\n",
        "    time distances should be preserved: If bdate-adate=ddate-cdate then\n",
        "    dt2t(bdate)-dt2t(adate) = dt2t(ddate)-dt2t(cdate)\n",
        "    \"\"\"\n",
        "    year = adatetime.year\n",
        "    boy = datetime(year, 1, 1)\n",
        "    eoy = datetime(year + 1, 1, 1)\n",
        "    return year + ((adatetime - boy).total_seconds() / ((eoy - boy).total_seconds()))"
      ]
    },
    {
      "cell_type": "code",
      "execution_count": 19,
      "id": "067Uk95USMZb",
      "metadata": {
        "id": "067Uk95USMZb"
      },
      "outputs": [],
      "source": [
        "def get_todays_date_variations():\n",
        "    \n",
        "    now = datetime.now()\n",
        "    todays_decimal =  dt2t(now)\n",
        "    \n",
        "    today = date.today()\n",
        "\n",
        "    todays_day = today.day\n",
        "    todays_month = today.strftime(\"%B\")\n",
        "    todays_year = today.year\n",
        "    todays_date_moyr = today.strftime(\"%B %Y\")\n",
        "    todays_date_modyyr = f\"{todays_month} {todays_day}, {todays_year}\"\n",
        "\n",
        "    return todays_date_moyr, todays_date_modyyr, todays_decimal, todays_year"
      ]
    },
    {
      "cell_type": "code",
      "execution_count": 20,
      "id": "HBXOwLn5SMZb",
      "metadata": {
        "id": "HBXOwLn5SMZb"
      },
      "outputs": [],
      "source": [
        "#  https://stackoverflow.com/questions/19305991/convert-fractional-years-to-a-real-date-in-python\n",
        "def t2dt(atime):\n",
        "    \"\"\"\n",
        "    Convert atime (a float) to DT.datetime\n",
        "    This is the inverse of dt2t.\n",
        "    assert dt2t(t2dt(atime)) == atime\n",
        "    \"\"\"\n",
        "    year = int(atime)\n",
        "    remainder = atime - year\n",
        "    boy = datetime(year, 1, 1)\n",
        "    eoy = datetime(year + 1, 1, 1)\n",
        "    seconds = remainder * (eoy - boy).total_seconds()\n",
        "    return boy + timedelta(seconds=seconds)"
      ]
    },
    {
      "cell_type": "code",
      "execution_count": 21,
      "id": "ngsud2LmSMZb",
      "metadata": {
        "id": "ngsud2LmSMZb"
      },
      "outputs": [],
      "source": [
        "def get_data_end_date(date_data):\n",
        "    last_date = np.max(date_data)\n",
        "    last_date_datetime = t2dt(last_date)\n",
        "    \n",
        "    # Convert date format to month_name day, year\n",
        "    day = last_date_datetime.day\n",
        "    month = last_date_datetime.strftime(\"%B\")\n",
        "    year = last_date_datetime.year\n",
        "    date_modyyr = f\"{month} {day}, {year}\"\n",
        "    return date_modyyr"
      ]
    },
    {
      "cell_type": "markdown",
      "id": "ciY8cSMXSMZc",
      "metadata": {
        "id": "ciY8cSMXSMZc"
      },
      "source": [
        "### Set titles and axes labels"
      ]
    },
    {
      "cell_type": "code",
      "execution_count": 22,
      "id": "hlXhJH4CSMZc",
      "metadata": {
        "id": "hlXhJH4CSMZc"
      },
      "outputs": [],
      "source": [
        "xlabel = ''\n",
        "ylabel = \"$\\mathregular{CO}\\\\bf{_2}$\" + \" Concentration (ppm)\"\n",
        "\n",
        "title1 = get_data_end_date(date_co2)\n",
        "title2 = 'Carbon dioxide concentration at Mauna Loa Observatory'"
      ]
    },
    {
      "cell_type": "markdown",
      "id": "wj-dCD89SMZc",
      "metadata": {
        "id": "wj-dCD89SMZc"
      },
      "source": [
        "### Set yaxis min and max limits"
      ]
    },
    {
      "cell_type": "code",
      "execution_count": 23,
      "id": "nR4XHFlOSMZc",
      "metadata": {
        "id": "nR4XHFlOSMZc"
      },
      "outputs": [],
      "source": [
        "ymin = 310\n",
        "ymax = 430"
      ]
    },
    {
      "cell_type": "markdown",
      "id": "pvrPrEQOSMZc",
      "metadata": {
        "id": "pvrPrEQOSMZc"
      },
      "source": [
        "### Set xaxis min and max limits"
      ]
    },
    {
      "cell_type": "code",
      "execution_count": 24,
      "id": "ke6VdYhqSMZc",
      "metadata": {
        "id": "ke6VdYhqSMZc"
      },
      "outputs": [],
      "source": [
        "xmin = min(date_co2)\n",
        "\n",
        "# Get current date as decimal year\n",
        "now = datetime.now()\n",
        "xmax = dt2t(now)"
      ]
    },
    {
      "cell_type": "markdown",
      "id": "r1sGzbsPSMZc",
      "metadata": {
        "id": "r1sGzbsPSMZc"
      },
      "source": [
        "## Create plot and save"
      ]
    },
    {
      "cell_type": "code",
      "execution_count": 25,
      "id": "CIIeOudiSMZd",
      "metadata": {
        "colab": {
          "base_uri": "https://localhost:8080/",
          "height": 393
        },
        "id": "CIIeOudiSMZd",
        "outputId": "41ba59e3-3302-4db5-9ce0-a503cf0560a0",
        "scrolled": false
      },
      "outputs": [
        {
          "data": {
            "image/png": "[encoded data removed]",
            "text/plain": [
              "<Figure size 720x556.364 with 2 Axes>"
            ]
          },
          "metadata": {
            "needs_background": "light"
          },
          "output_type": "display_data"
        }
      ],
      "source": [
        "fig = plt.figure()\n",
        "\n",
        "# Add padding for exterior plot text\n",
        "ax = plt.axes([0.11, 0.12, 0.83, 0.54])\n",
        "\n",
        "\n",
        "# ------------------------\n",
        "# Add gradiant under curve\n",
        "# ------------------------\n",
        "\n",
        "# For gradient max, use last date of data rather than current date\n",
        "xmax_gradient = max(date_co2)\n",
        "\n",
        "#area_color = '#ACCAE6'\n",
        "#area_color = '#8CB2E0'\n",
        "area_color = '#73a7e6'\n",
        "\n",
        "gradient_fill(date_co2, co2, fill_color=area_color, xmin=xmin, xmax=xmax_gradient,\n",
        "              ymin=ymin, ymax=ymax, ax=ax, alpha_bottom=0.1, alpha=1.0)\n",
        "\n",
        "\n",
        "# -------------\n",
        "# Plot the data\n",
        "# -------------\n",
        "\n",
        "# Set plotting zorder above the gradient\n",
        "\n",
        "ax.plot(date_co2, co2, 'o', color='black',markersize=3.5, \n",
        "         markerfacecolor='black', markeredgecolor='black', markeredgewidth=0, zorder=5)\n",
        "\n",
        "ax.plot(date_co2_fit, co2_fit, '-', color='black', linewidth=0.5, zorder=4)\n",
        "\n",
        "\n",
        "# -------------------\n",
        "# Set plot properties\n",
        "# -------------------\n",
        "set_website_plot_props(ax, fig, xmin, xmax, ymin, ymax, xlabel, ylabel)\n",
        "\n",
        "# ------------------------------------------------\n",
        "# Get todays date in various formats for labeling\n",
        "# ------------------------------------------------\n",
        "todays_date_moyr, todays_date_modyyr, todays_decimal, todays_year = get_todays_date_variations()\n",
        "\n",
        "# ---------------\n",
        "# Add plot titles\n",
        "# ---------------\n",
        "add_plot_title(ax, title1, title2)\n",
        "\n",
        "# --------------\n",
        "# Add inset text\n",
        "# --------------\n",
        "add_inset_label(ax, 'Full record', todays_date_modyyr)\n",
        "\n",
        "\n",
        "# --------------------\n",
        "# Add SIO logo to plot\n",
        "# --------------------\n",
        "xpos = 0.715\n",
        "ypos = 0.155\n",
        "\n",
        "add_sio_logo(fig, logo_file, xpos, ypos)\n",
        "\n",
        "\n",
        "# ---------------------\n",
        "# Save plot for website\n",
        "# ---------------------\n",
        "fig = plt.gcf()\n",
        "\n",
        "save_plot_for_website(fig, pdf_file, png_file)\n",
        "\n",
        "\n",
        "plt.show()"
      ]
    },
    {
      "cell_type": "markdown",
      "id": "Yr7ttY4c-Qkg",
      "metadata": {
        "id": "Yr7ttY4c-Qkg"
      },
      "source": [
        "## Download Plots (pdf & png)"
      ]
    },
    {
      "cell_type": "code",
      "execution_count": 26,
      "id": "O1P3GlFP-RhH",
      "metadata": {
        "colab": {
          "base_uri": "https://localhost:8080/",
          "height": 49,
          "referenced_widgets": [
            "fa1f3e8551db494f8637f02e8798832a",
            "1bf69137b6a3403cbf0c0bb1e61c4830",
            "1e3b887c2ca745439fea7f792e5cc244"
          ]
        },
        "id": "O1P3GlFP-RhH",
        "outputId": "a17964de-3d63-482a-c47a-321589038d92"
      },
      "outputs": [
        {
          "data": {
            "application/vnd.jupyter.widget-view+json": {
              "model_id": "33fcf41a4caf4e8d9a1d363727b529b2",
              "version_major": 2,
              "version_minor": 0
            },
            "text/plain": [
              "Button(button_style='primary', description='Download Files', style=ButtonStyle())"
            ]
          },
          "metadata": {},
          "output_type": "display_data"
        }
      ],
      "source": [
        "def download_files(ev):\n",
        "    files.download(png_file)\n",
        "    files.download(pdf_file)\n",
        "\n",
        "button = widgets.Button(description='Download Files', button_style='primary')\n",
        "button.on_click(download_files)\n",
        "display(button)"
      ]
    },
    {
      "cell_type": "markdown",
      "id": "AZ8m2l1R-oYp",
      "metadata": {
        "id": "AZ8m2l1R-oYp"
      },
      "source": [
        "# Create animation of the plot"
      ]
    },
    {
      "cell_type": "code",
      "execution_count": 27,
      "id": "ydBNKCSQ-apW",
      "metadata": {
        "id": "ydBNKCSQ-apW"
      },
      "outputs": [],
      "source": [
        "# First set up the figure, the axis, and the plot element we want to animate\n",
        "fig,ax = plt.subplots(1, 1, figsize = (10, 6))\n",
        "\n",
        "ax.set_xlim(xmin, xmax)\n",
        "ax.set_ylim(ymin, ymax)\n",
        "\n",
        "line, = ax.plot([], [], lw=2)\n",
        "\n",
        "# initialization function: plot the background of each frame\n",
        "def init():\n",
        "    line.set_data([], [])\n",
        "    return line,\n",
        "\n",
        "# animation function.  This is called sequentially\n",
        "def animate(i):\n",
        "    line.set_data(date_co2_fit[:i], co2_fit[:i])\n",
        "    return line,\n",
        "\n",
        "# call the animator.  blit=True means only re-draw the parts that have changed.\n",
        "anim = animation.FuncAnimation(fig, animate, init_func=init,\n",
        "                               frames = len(date_co2_fit) + 1, interval=5, blit=True)\n",
        "\n",
        "# Close plot so it isn't displayed\n",
        "plt.close()"
      ]
    },
    {
      "cell_type": "markdown",
      "id": "ekqNoAF-_CTQ",
      "metadata": {
        "id": "ekqNoAF-_CTQ"
      },
      "source": [
        "## Save the animation (It takes awhile to create)"
      ]
    },
    {
      "cell_type": "code",
      "execution_count": 28,
      "id": "kKROOvva_EPu",
      "metadata": {
        "id": "kKROOvva_EPu"
      },
      "outputs": [
        {
          "name": "stderr",
          "output_type": "stream",
          "text": [
            "MovieWriter ffmpeg unavailable; using Pillow instead.\n"
          ]
        },
        {
          "ename": "ValueError",
          "evalue": "unknown file extension: .mp4",
          "output_type": "error",
          "traceback": [
            "\u001b[0;31m---------------------------------------------------------------------------\u001b[0m",
            "\u001b[0;31mKeyError\u001b[0m                                  Traceback (most recent call last)",
            "\u001b[0;32m~/.pyenv/versions/3.8.5/envs/notebooks/lib/python3.8/site-packages/PIL/Image.py\u001b[0m in \u001b[0;36msave\u001b[0;34m(self, fp, format, **params)\u001b[0m\n\u001b[1;32m   2219\u001b[0m             \u001b[0;32mtry\u001b[0m\u001b[0;34m:\u001b[0m\u001b[0;34m\u001b[0m\u001b[0;34m\u001b[0m\u001b[0m\n\u001b[0;32m-> 2220\u001b[0;31m                 \u001b[0mformat\u001b[0m \u001b[0;34m=\u001b[0m \u001b[0mEXTENSION\u001b[0m\u001b[0;34m[\u001b[0m\u001b[0mext\u001b[0m\u001b[0;34m]\u001b[0m\u001b[0;34m\u001b[0m\u001b[0;34m\u001b[0m\u001b[0m\n\u001b[0m\u001b[1;32m   2221\u001b[0m             \u001b[0;32mexcept\u001b[0m \u001b[0mKeyError\u001b[0m \u001b[0;32mas\u001b[0m \u001b[0me\u001b[0m\u001b[0;34m:\u001b[0m\u001b[0;34m\u001b[0m\u001b[0;34m\u001b[0m\u001b[0m\n",
            "\u001b[0;31mKeyError\u001b[0m: '.mp4'",
            "\nThe above exception was the direct cause of the following exception:\n",
            "\u001b[0;31mValueError\u001b[0m                                Traceback (most recent call last)",
            "\u001b[0;32m/tmp/ipykernel_606573/2883431637.py\u001b[0m in \u001b[0;36m<module>\u001b[0;34m\u001b[0m\n\u001b[1;32m      7\u001b[0m \u001b[0;34m\u001b[0m\u001b[0m\n\u001b[1;32m      8\u001b[0m \u001b[0;34m\u001b[0m\u001b[0m\n\u001b[0;32m----> 9\u001b[0;31m \u001b[0manim\u001b[0m\u001b[0;34m.\u001b[0m\u001b[0msave\u001b[0m\u001b[0;34m(\u001b[0m\u001b[0;34m'mlo_anim.mp4'\u001b[0m\u001b[0;34m)\u001b[0m\u001b[0;34m\u001b[0m\u001b[0;34m\u001b[0m\u001b[0m\n\u001b[0m",
            "\u001b[0;32m~/.pyenv/versions/3.8.5/envs/notebooks/lib/python3.8/site-packages/matplotlib/animation.py\u001b[0m in \u001b[0;36msave\u001b[0;34m(self, filename, writer, fps, dpi, codec, bitrate, extra_args, metadata, extra_anim, savefig_kwargs, progress_callback)\u001b[0m\n\u001b[1;32m   1093\u001b[0m                         \u001b[0mprogress_callback\u001b[0m\u001b[0;34m(\u001b[0m\u001b[0mframe_number\u001b[0m\u001b[0;34m,\u001b[0m \u001b[0mtotal_frames\u001b[0m\u001b[0;34m)\u001b[0m\u001b[0;34m\u001b[0m\u001b[0;34m\u001b[0m\u001b[0m\n\u001b[1;32m   1094\u001b[0m                         \u001b[0mframe_number\u001b[0m \u001b[0;34m+=\u001b[0m \u001b[0;36m1\u001b[0m\u001b[0;34m\u001b[0m\u001b[0;34m\u001b[0m\u001b[0m\n\u001b[0;32m-> 1095\u001b[0;31m                 \u001b[0mwriter\u001b[0m\u001b[0;34m.\u001b[0m\u001b[0mgrab_frame\u001b[0m\u001b[0;34m(\u001b[0m\u001b[0;34m**\u001b[0m\u001b[0msavefig_kwargs\u001b[0m\u001b[0;34m)\u001b[0m\u001b[0;34m\u001b[0m\u001b[0;34m\u001b[0m\u001b[0m\n\u001b[0m\u001b[1;32m   1096\u001b[0m \u001b[0;34m\u001b[0m\u001b[0m\n\u001b[1;32m   1097\u001b[0m     \u001b[0;32mdef\u001b[0m \u001b[0m_step\u001b[0m\u001b[0;34m(\u001b[0m\u001b[0mself\u001b[0m\u001b[0;34m,\u001b[0m \u001b[0;34m*\u001b[0m\u001b[0margs\u001b[0m\u001b[0;34m)\u001b[0m\u001b[0;34m:\u001b[0m\u001b[0;34m\u001b[0m\u001b[0;34m\u001b[0m\u001b[0m\n",
            "\u001b[0;32m~/.pyenv/versions/3.8.5/lib/python3.8/contextlib.py\u001b[0m in \u001b[0;36m__exit__\u001b[0;34m(self, type, value, traceback)\u001b[0m\n\u001b[1;32m    118\u001b[0m         \u001b[0;32mif\u001b[0m \u001b[0mtype\u001b[0m \u001b[0;32mis\u001b[0m \u001b[0;32mNone\u001b[0m\u001b[0;34m:\u001b[0m\u001b[0;34m\u001b[0m\u001b[0;34m\u001b[0m\u001b[0m\n\u001b[1;32m    119\u001b[0m             \u001b[0;32mtry\u001b[0m\u001b[0;34m:\u001b[0m\u001b[0;34m\u001b[0m\u001b[0;34m\u001b[0m\u001b[0m\n\u001b[0;32m--> 120\u001b[0;31m                 \u001b[0mnext\u001b[0m\u001b[0;34m(\u001b[0m\u001b[0mself\u001b[0m\u001b[0;34m.\u001b[0m\u001b[0mgen\u001b[0m\u001b[0;34m)\u001b[0m\u001b[0;34m\u001b[0m\u001b[0;34m\u001b[0m\u001b[0m\n\u001b[0m\u001b[1;32m    121\u001b[0m             \u001b[0;32mexcept\u001b[0m \u001b[0mStopIteration\u001b[0m\u001b[0;34m:\u001b[0m\u001b[0;34m\u001b[0m\u001b[0;34m\u001b[0m\u001b[0m\n\u001b[1;32m    122\u001b[0m                 \u001b[0;32mreturn\u001b[0m \u001b[0;32mFalse\u001b[0m\u001b[0;34m\u001b[0m\u001b[0;34m\u001b[0m\u001b[0m\n",
            "\u001b[0;32m~/.pyenv/versions/3.8.5/envs/notebooks/lib/python3.8/site-packages/matplotlib/animation.py\u001b[0m in \u001b[0;36msaving\u001b[0;34m(self, fig, outfile, dpi, *args, **kwargs)\u001b[0m\n\u001b[1;32m    236\u001b[0m             \u001b[0;32myield\u001b[0m \u001b[0mself\u001b[0m\u001b[0;34m\u001b[0m\u001b[0;34m\u001b[0m\u001b[0m\n\u001b[1;32m    237\u001b[0m         \u001b[0;32mfinally\u001b[0m\u001b[0;34m:\u001b[0m\u001b[0;34m\u001b[0m\u001b[0;34m\u001b[0m\u001b[0m\n\u001b[0;32m--> 238\u001b[0;31m             \u001b[0mself\u001b[0m\u001b[0;34m.\u001b[0m\u001b[0mfinish\u001b[0m\u001b[0;34m(\u001b[0m\u001b[0;34m)\u001b[0m\u001b[0;34m\u001b[0m\u001b[0;34m\u001b[0m\u001b[0m\n\u001b[0m\u001b[1;32m    239\u001b[0m \u001b[0;34m\u001b[0m\u001b[0m\n\u001b[1;32m    240\u001b[0m \u001b[0;34m\u001b[0m\u001b[0m\n",
            "\u001b[0;32m~/.pyenv/versions/3.8.5/envs/notebooks/lib/python3.8/site-packages/matplotlib/animation.py\u001b[0m in \u001b[0;36mfinish\u001b[0;34m(self)\u001b[0m\n\u001b[1;32m    512\u001b[0m \u001b[0;34m\u001b[0m\u001b[0m\n\u001b[1;32m    513\u001b[0m     \u001b[0;32mdef\u001b[0m \u001b[0mfinish\u001b[0m\u001b[0;34m(\u001b[0m\u001b[0mself\u001b[0m\u001b[0;34m)\u001b[0m\u001b[0;34m:\u001b[0m\u001b[0;34m\u001b[0m\u001b[0;34m\u001b[0m\u001b[0m\n\u001b[0;32m--> 514\u001b[0;31m         self._frames[0].save(\n\u001b[0m\u001b[1;32m    515\u001b[0m             \u001b[0mself\u001b[0m\u001b[0;34m.\u001b[0m\u001b[0moutfile\u001b[0m\u001b[0;34m,\u001b[0m \u001b[0msave_all\u001b[0m\u001b[0;34m=\u001b[0m\u001b[0;32mTrue\u001b[0m\u001b[0;34m,\u001b[0m \u001b[0mappend_images\u001b[0m\u001b[0;34m=\u001b[0m\u001b[0mself\u001b[0m\u001b[0;34m.\u001b[0m\u001b[0m_frames\u001b[0m\u001b[0;34m[\u001b[0m\u001b[0;36m1\u001b[0m\u001b[0;34m:\u001b[0m\u001b[0;34m]\u001b[0m\u001b[0;34m,\u001b[0m\u001b[0;34m\u001b[0m\u001b[0;34m\u001b[0m\u001b[0m\n\u001b[1;32m    516\u001b[0m             duration=int(1000 / self.fps), loop=0)\n",
            "\u001b[0;32m~/.pyenv/versions/3.8.5/envs/notebooks/lib/python3.8/site-packages/PIL/Image.py\u001b[0m in \u001b[0;36msave\u001b[0;34m(self, fp, format, **params)\u001b[0m\n\u001b[1;32m   2220\u001b[0m                 \u001b[0mformat\u001b[0m \u001b[0;34m=\u001b[0m \u001b[0mEXTENSION\u001b[0m\u001b[0;34m[\u001b[0m\u001b[0mext\u001b[0m\u001b[0;34m]\u001b[0m\u001b[0;34m\u001b[0m\u001b[0;34m\u001b[0m\u001b[0m\n\u001b[1;32m   2221\u001b[0m             \u001b[0;32mexcept\u001b[0m \u001b[0mKeyError\u001b[0m \u001b[0;32mas\u001b[0m \u001b[0me\u001b[0m\u001b[0;34m:\u001b[0m\u001b[0;34m\u001b[0m\u001b[0;34m\u001b[0m\u001b[0m\n\u001b[0;32m-> 2222\u001b[0;31m                 \u001b[0;32mraise\u001b[0m \u001b[0mValueError\u001b[0m\u001b[0;34m(\u001b[0m\u001b[0;34mf\"unknown file extension: {ext}\"\u001b[0m\u001b[0;34m)\u001b[0m \u001b[0;32mfrom\u001b[0m \u001b[0me\u001b[0m\u001b[0;34m\u001b[0m\u001b[0;34m\u001b[0m\u001b[0m\n\u001b[0m\u001b[1;32m   2223\u001b[0m \u001b[0;34m\u001b[0m\u001b[0m\n\u001b[1;32m   2224\u001b[0m         \u001b[0;32mif\u001b[0m \u001b[0mformat\u001b[0m\u001b[0;34m.\u001b[0m\u001b[0mupper\u001b[0m\u001b[0;34m(\u001b[0m\u001b[0;34m)\u001b[0m \u001b[0;32mnot\u001b[0m \u001b[0;32min\u001b[0m \u001b[0mSAVE\u001b[0m\u001b[0;34m:\u001b[0m\u001b[0;34m\u001b[0m\u001b[0;34m\u001b[0m\u001b[0m\n",
            "\u001b[0;31mValueError\u001b[0m: unknown file extension: .mp4"
          ]
        }
      ],
      "source": [
        "# save the animation as an mp4.  This requires ffmpeg or mencoder to be\n",
        "# installed.  The extra_args ensure that the x264 codec is used, so that\n",
        "# the video can be embedded in html5.  You may need to adjust this for\n",
        "# your system: for more information, see\n",
        "# http://matplotlib.sourceforge.net/api/animation_api.html\n",
        "#anim.save('basic_animation.mp4', fps=30, extra_args=['-vcodec', 'libx264'])\n",
        "\n",
        "\n",
        "anim.save('mlo_anim.mp4')"
      ]
    },
    {
      "cell_type": "markdown",
      "id": "I82-PNA4_M2_",
      "metadata": {
        "id": "I82-PNA4_M2_"
      },
      "source": [
        "## Load animation and press play"
      ]
    },
    {
      "cell_type": "code",
      "execution_count": null,
      "id": "Akg6ltww_Nko",
      "metadata": {
        "colab": {
          "base_uri": "https://localhost:8080/",
          "height": 501
        },
        "id": "Akg6ltww_Nko",
        "outputId": "a496e6c9-9f59-44ee-d818-cbe90b9b6f14"
      },
      "outputs": [
        {
          "data": {
            "text/html": [
              "\n",
              "<video width=800 controls>\n",
              "      <source src=\"data:video/mp4;base64,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\" type=\"video/mp4\">\n",
              "</video>\n"
            ],
            "text/plain": [
              "<IPython.core.display.HTML object>"
            ]
          },
          "execution_count": 25,
          "metadata": {},
          "output_type": "execute_result"
        }
      ],
      "source": [
        "mlo_animation = mp4 = open('mlo_anim.mp4','rb').read()\n",
        "\n",
        "data_url = \"data:video/mp4;base64,\" + b64encode(mlo_animation).decode()\n",
        "HTML(\"\"\"\n",
        "<video width=800 controls>\n",
        "      <source src=\"%s\" type=\"video/mp4\">\n",
        "</video>\n",
        "\"\"\" % data_url)"
      ]
    }
  ],
  "metadata": {
    "colab": {
      "collapsed_sections": [],
      "include_colab_link": true,
      "name": "plot_full_mlo_record_keelingcurve.ipynb",
      "provenance": []
    },
    "kernelspec": {
      "display_name": "Python 3 (ipykernel)",
      "language": "python",
      "name": "python3"
    },
    "language_info": {
      "codemirror_mode": {
        "name": "ipython",
        "version": 3
      },
      "file_extension": ".py",
      "mimetype": "text/x-python",
      "name": "python",
      "nbconvert_exporter": "python",
      "pygments_lexer": "ipython3",
      "version": "3.8.5"
    },
    "widgets": {
      "application/vnd.jupyter.widget-state+json": {
        "1bf69137b6a3403cbf0c0bb1e61c4830": {
          "model_module": "@jupyter-widgets/controls",
          "model_module_version": "1.5.0",
          "model_name": "ButtonStyleModel",
          "state": {
            "_model_module": "@jupyter-widgets/controls",
            "_model_module_version": "1.5.0",
            "_model_name": "ButtonStyleModel",
            "_view_count": null,
            "_view_module": "@jupyter-widgets/base",
            "_view_module_version": "1.2.0",
            "_view_name": "StyleView",
            "button_color": null,
            "font_weight": ""
          }
        },
        "1e3b887c2ca745439fea7f792e5cc244": {
          "model_module": "@jupyter-widgets/base",
          "model_module_version": "1.2.0",
          "model_name": "LayoutModel",
          "state": {
            "_model_module": "@jupyter-widgets/base",
            "_model_module_version": "1.2.0",
            "_model_name": "LayoutModel",
            "_view_count": null,
            "_view_module": "@jupyter-widgets/base",
            "_view_module_version": "1.2.0",
            "_view_name": "LayoutView",
            "align_content": null,
            "align_items": null,
            "align_self": null,
            "border": null,
            "bottom": null,
            "display": null,
            "flex": null,
            "flex_flow": null,
            "grid_area": null,
            "grid_auto_columns": null,
            "grid_auto_flow": null,
            "grid_auto_rows": null,
            "grid_column": null,
            "grid_gap": null,
            "grid_row": null,
            "grid_template_areas": null,
            "grid_template_columns": null,
            "grid_template_rows": null,
            "height": null,
            "justify_content": null,
            "justify_items": null,
            "left": null,
            "margin": null,
            "max_height": null,
            "max_width": null,
            "min_height": null,
            "min_width": null,
            "object_fit": null,
            "object_position": null,
            "order": null,
            "overflow": null,
            "overflow_x": null,
            "overflow_y": null,
            "padding": null,
            "right": null,
            "top": null,
            "visibility": null,
            "width": null
          }
        },
        "fa1f3e8551db494f8637f02e8798832a": {
          "model_module": "@jupyter-widgets/controls",
          "model_module_version": "1.5.0",
          "model_name": "ButtonModel",
          "state": {
            "_dom_classes": [],
            "_model_module": "@jupyter-widgets/controls",
            "_model_module_version": "1.5.0",
            "_model_name": "ButtonModel",
            "_view_count": null,
            "_view_module": "@jupyter-widgets/controls",
            "_view_module_version": "1.5.0",
            "_view_name": "ButtonView",
            "button_style": "primary",
            "description": "Download Files",
            "disabled": false,
            "icon": "",
            "layout": "IPY_MODEL_1e3b887c2ca745439fea7f792e5cc244",
            "style": "IPY_MODEL_1bf69137b6a3403cbf0c0bb1e61c4830",
            "tooltip": ""
          }
        }
      }
    }
  },
  "nbformat": 4,
  "nbformat_minor": 5
}
