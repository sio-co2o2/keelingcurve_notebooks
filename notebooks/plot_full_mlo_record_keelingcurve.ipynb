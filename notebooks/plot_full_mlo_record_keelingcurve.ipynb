{
  "cells": [
    {
      "cell_type": "markdown",
      "metadata": {
        "id": "view-in-github",
        "colab_type": "text"
      },
      "source": [
        "<a href=\"https://colab.research.google.com/github/sio-co2o2/keelingcurve_notebooks/blob/main/notebooks/plot_full_mlo_record_keelingcurve.ipynb\" target=\"_parent\"><img src=\"https://colab.research.google.com/assets/colab-badge.svg\" alt=\"Open In Colab\"/></a>"
      ]
    },
    {
      "cell_type": "markdown",
      "id": "rLKWenEgSMZP",
      "metadata": {
        "id": "rLKWenEgSMZP"
      },
      "source": [
        "# Plot full record of CO2 at Mauna Loa, Hawaii"
      ]
    },
    {
      "cell_type": "markdown",
      "id": "t5_JohjmSMZS",
      "metadata": {
        "id": "t5_JohjmSMZS"
      },
      "source": [
        "### The Keeling Curve\n",
        "https://keelingcurve.ucsd.edu\n",
        "\n",
        "This notebook creates pdf and png plot versions."
      ]
    },
    {
      "cell_type": "markdown",
      "id": "7bkCEl30SMZT",
      "metadata": {
        "id": "7bkCEl30SMZT"
      },
      "source": [
        "## Import packages"
      ]
    },
    {
      "cell_type": "code",
      "execution_count": 1,
      "id": "2NYgN26LSMZT",
      "metadata": {
        "id": "2NYgN26LSMZT"
      },
      "outputs": [],
      "source": [
        "import re\n",
        "import pandas as pd\n",
        "import numpy as np\n",
        "from datetime import datetime, date, timedelta\n",
        "from dateutil.relativedelta import relativedelta\n",
        "import pathlib\n",
        "import matplotlib.image as mpimg\n",
        "import matplotlib.pyplot as plt\n",
        "from matplotlib.pyplot import figure\n",
        "from matplotlib.ticker import (MultipleLocator, AutoMinorLocator)\n",
        "from matplotlib import ticker\n",
        "from matplotlib.path import Path\n",
        "import matplotlib.colors as mcolors\n",
        "from matplotlib.patches import Polygon\n",
        "import matplotlib.dates as mdates\n",
        "import matplotlib.lines as mlines\n",
        "from scipy.interpolate import CubicSpline\n",
        "import matplotlib.transforms\n",
        "from google.colab import files\n",
        "from matplotlib import animation\n",
        "from ipywidgets import widgets\n",
        "from IPython.display import HTML\n",
        "from base64 import b64encode\n",
        "from PIL import Image\n",
        "import urllib\n",
        "\n",
        "%matplotlib inline"
      ]
    },
    {
      "cell_type": "markdown",
      "id": "9z8QlQMLSMZU",
      "metadata": {
        "id": "9z8QlQMLSMZU"
      },
      "source": [
        "## Set directories and file names for data,  plot, and logo"
      ]
    },
    {
      "cell_type": "code",
      "execution_count": 2,
      "id": "ORlNwHV5SMZU",
      "metadata": {
        "id": "ORlNwHV5SMZU"
      },
      "outputs": [],
      "source": [
        "# Read in data from github repository\n",
        "# Get mlo record to last daily value\n",
        "data_file = 'https://raw.githubusercontent.com/sio-co2o2/keelingcurve_notebooks/main/data/mlo/mlo_full_record_now_span.csv'\n",
        "\n",
        "logo_file = 'https://github.com/sio-co2o2/keelingcurve_notebooks/raw/main/images/ucsd_sio_logo.png'\n",
        "\n",
        "plot_dir = pathlib.Path('./plots')\n",
        "plot_dir.mkdir(exist_ok=True)\n",
        "\n",
        "plot_base_name = 'mlo_full_record'\n",
        "\n",
        "pdf_file = plot_dir / f'{plot_base_name}.pdf'\n",
        "png_file = plot_dir / f'{plot_base_name}.png'"
      ]
    },
    {
      "cell_type": "markdown",
      "id": "Iat83SHiSMZV",
      "metadata": {
        "id": "Iat83SHiSMZV"
      },
      "source": [
        "## Load in Data and process"
      ]
    },
    {
      "cell_type": "code",
      "execution_count": 3,
      "id": "DAaZzKvSSMZV",
      "metadata": {
        "colab": {
          "base_uri": "https://localhost:8080/",
          "height": 206
        },
        "id": "DAaZzKvSSMZV",
        "outputId": "899d4eda-e726-4514-db56-9f45da60e785"
      },
      "outputs": [
        {
          "output_type": "execute_result",
          "data": {
            "text/plain": [
              "          date     co2  date_seas_adj  co2_seas_adj     date_fit  co2_fit  \\\n",
              "0  1958.202740  315.71    1958.202740        314.44  1958.202740   316.19   \n",
              "1  1958.287671  317.45    1958.287671        315.16  1958.287671   317.30   \n",
              "2  1958.369863  317.51    1958.369863        314.71  1958.369863   317.86   \n",
              "3  1958.536986  315.86    1958.536986        315.20  1958.454795   317.24   \n",
              "4  1958.621918  314.93    1958.621918        316.20  1958.536986   315.85   \n",
              "\n",
              "   date_seas_adj_fit  co2_seas_adj_fit  \n",
              "0        1958.202740            314.91  \n",
              "1        1958.287671            314.99  \n",
              "2        1958.369863            315.06  \n",
              "3        1958.454795            315.14  \n",
              "4        1958.536986            315.21  "
            ],
            "text/html": [
              "\n",
              "  <div id=\"df-dcc5ca6b-9019-40d3-b019-9065cbd4edaa\">\n",
              "    <div class=\"colab-df-container\">\n",
              "      <div>\n",
              "<style scoped>\n",
              "    .dataframe tbody tr th:only-of-type {\n",
              "        vertical-align: middle;\n",
              "    }\n",
              "\n",
              "    .dataframe tbody tr th {\n",
              "        vertical-align: top;\n",
              "    }\n",
              "\n",
              "    .dataframe thead th {\n",
              "        text-align: right;\n",
              "    }\n",
              "</style>\n",
              "<table border=\"1\" class=\"dataframe\">\n",
              "  <thead>\n",
              "    <tr style=\"text-align: right;\">\n",
              "      <th></th>\n",
              "      <th>date</th>\n",
              "      <th>co2</th>\n",
              "      <th>date_seas_adj</th>\n",
              "      <th>co2_seas_adj</th>\n",
              "      <th>date_fit</th>\n",
              "      <th>co2_fit</th>\n",
              "      <th>date_seas_adj_fit</th>\n",
              "      <th>co2_seas_adj_fit</th>\n",
              "    </tr>\n",
              "  </thead>\n",
              "  <tbody>\n",
              "    <tr>\n",
              "      <th>0</th>\n",
              "      <td>1958.202740</td>\n",
              "      <td>315.71</td>\n",
              "      <td>1958.202740</td>\n",
              "      <td>314.44</td>\n",
              "      <td>1958.202740</td>\n",
              "      <td>316.19</td>\n",
              "      <td>1958.202740</td>\n",
              "      <td>314.91</td>\n",
              "    </tr>\n",
              "    <tr>\n",
              "      <th>1</th>\n",
              "      <td>1958.287671</td>\n",
              "      <td>317.45</td>\n",
              "      <td>1958.287671</td>\n",
              "      <td>315.16</td>\n",
              "      <td>1958.287671</td>\n",
              "      <td>317.30</td>\n",
              "      <td>1958.287671</td>\n",
              "      <td>314.99</td>\n",
              "    </tr>\n",
              "    <tr>\n",
              "      <th>2</th>\n",
              "      <td>1958.369863</td>\n",
              "      <td>317.51</td>\n",
              "      <td>1958.369863</td>\n",
              "      <td>314.71</td>\n",
              "      <td>1958.369863</td>\n",
              "      <td>317.86</td>\n",
              "      <td>1958.369863</td>\n",
              "      <td>315.06</td>\n",
              "    </tr>\n",
              "    <tr>\n",
              "      <th>3</th>\n",
              "      <td>1958.536986</td>\n",
              "      <td>315.86</td>\n",
              "      <td>1958.536986</td>\n",
              "      <td>315.20</td>\n",
              "      <td>1958.454795</td>\n",
              "      <td>317.24</td>\n",
              "      <td>1958.454795</td>\n",
              "      <td>315.14</td>\n",
              "    </tr>\n",
              "    <tr>\n",
              "      <th>4</th>\n",
              "      <td>1958.621918</td>\n",
              "      <td>314.93</td>\n",
              "      <td>1958.621918</td>\n",
              "      <td>316.20</td>\n",
              "      <td>1958.536986</td>\n",
              "      <td>315.85</td>\n",
              "      <td>1958.536986</td>\n",
              "      <td>315.21</td>\n",
              "    </tr>\n",
              "  </tbody>\n",
              "</table>\n",
              "</div>\n",
              "      <button class=\"colab-df-convert\" onclick=\"convertToInteractive('df-dcc5ca6b-9019-40d3-b019-9065cbd4edaa')\"\n",
              "              title=\"Convert this dataframe to an interactive table.\"\n",
              "              style=\"display:none;\">\n",
              "        \n",
              "  <svg xmlns=\"http://www.w3.org/2000/svg\" height=\"24px\"viewBox=\"0 0 24 24\"\n",
              "       width=\"24px\">\n",
              "    <path d=\"M0 0h24v24H0V0z\" fill=\"none\"/>\n",
              "    <path d=\"M18.56 5.44l.94 2.06.94-2.06 2.06-.94-2.06-.94-.94-2.06-.94 2.06-2.06.94zm-11 1L8.5 8.5l.94-2.06 2.06-.94-2.06-.94L8.5 2.5l-.94 2.06-2.06.94zm10 10l.94 2.06.94-2.06 2.06-.94-2.06-.94-.94-2.06-.94 2.06-2.06.94z\"/><path d=\"M17.41 7.96l-1.37-1.37c-.4-.4-.92-.59-1.43-.59-.52 0-1.04.2-1.43.59L10.3 9.45l-7.72 7.72c-.78.78-.78 2.05 0 2.83L4 21.41c.39.39.9.59 1.41.59.51 0 1.02-.2 1.41-.59l7.78-7.78 2.81-2.81c.8-.78.8-2.07 0-2.86zM5.41 20L4 18.59l7.72-7.72 1.47 1.35L5.41 20z\"/>\n",
              "  </svg>\n",
              "      </button>\n",
              "      \n",
              "  <style>\n",
              "    .colab-df-container {\n",
              "      display:flex;\n",
              "      flex-wrap:wrap;\n",
              "      gap: 12px;\n",
              "    }\n",
              "\n",
              "    .colab-df-convert {\n",
              "      background-color: #E8F0FE;\n",
              "      border: none;\n",
              "      border-radius: 50%;\n",
              "      cursor: pointer;\n",
              "      display: none;\n",
              "      fill: #1967D2;\n",
              "      height: 32px;\n",
              "      padding: 0 0 0 0;\n",
              "      width: 32px;\n",
              "    }\n",
              "\n",
              "    .colab-df-convert:hover {\n",
              "      background-color: #E2EBFA;\n",
              "      box-shadow: 0px 1px 2px rgba(60, 64, 67, 0.3), 0px 1px 3px 1px rgba(60, 64, 67, 0.15);\n",
              "      fill: #174EA6;\n",
              "    }\n",
              "\n",
              "    [theme=dark] .colab-df-convert {\n",
              "      background-color: #3B4455;\n",
              "      fill: #D2E3FC;\n",
              "    }\n",
              "\n",
              "    [theme=dark] .colab-df-convert:hover {\n",
              "      background-color: #434B5C;\n",
              "      box-shadow: 0px 1px 3px 1px rgba(0, 0, 0, 0.15);\n",
              "      filter: drop-shadow(0px 1px 2px rgba(0, 0, 0, 0.3));\n",
              "      fill: #FFFFFF;\n",
              "    }\n",
              "  </style>\n",
              "\n",
              "      <script>\n",
              "        const buttonEl =\n",
              "          document.querySelector('#df-dcc5ca6b-9019-40d3-b019-9065cbd4edaa button.colab-df-convert');\n",
              "        buttonEl.style.display =\n",
              "          google.colab.kernel.accessAllowed ? 'block' : 'none';\n",
              "\n",
              "        async function convertToInteractive(key) {\n",
              "          const element = document.querySelector('#df-dcc5ca6b-9019-40d3-b019-9065cbd4edaa');\n",
              "          const dataTable =\n",
              "            await google.colab.kernel.invokeFunction('convertToInteractive',\n",
              "                                                     [key], {});\n",
              "          if (!dataTable) return;\n",
              "\n",
              "          const docLinkHtml = 'Like what you see? Visit the ' +\n",
              "            '<a target=\"_blank\" href=https://colab.research.google.com/notebooks/data_table.ipynb>data table notebook</a>'\n",
              "            + ' to learn more about interactive tables.';\n",
              "          element.innerHTML = '';\n",
              "          dataTable['output_type'] = 'display_data';\n",
              "          await google.colab.output.renderOutput(dataTable, element);\n",
              "          const docLink = document.createElement('div');\n",
              "          docLink.innerHTML = docLinkHtml;\n",
              "          element.appendChild(docLink);\n",
              "        }\n",
              "      </script>\n",
              "    </div>\n",
              "  </div>\n",
              "  "
            ]
          },
          "metadata": {},
          "execution_count": 3
        }
      ],
      "source": [
        "df = pd.read_csv(data_file,skipinitialspace=True,comment='\"')\n",
        "df.head()"
      ]
    },
    {
      "cell_type": "markdown",
      "id": "t6IlRW3USMZW",
      "metadata": {
        "id": "t6IlRW3USMZW"
      },
      "source": [
        "### Break into 2 dataframes. One for CO2 and one for the CO2 fit"
      ]
    },
    {
      "cell_type": "code",
      "execution_count": 4,
      "id": "Cfn9bpElSMZX",
      "metadata": {
        "id": "Cfn9bpElSMZX"
      },
      "outputs": [],
      "source": [
        "df_co2 = df[['date', 'co2']].copy()\n",
        "df_co2_fit = df[['date_fit', 'co2_fit']].copy()"
      ]
    },
    {
      "cell_type": "markdown",
      "id": "mGqqgrJdSMZX",
      "metadata": {
        "id": "mGqqgrJdSMZX"
      },
      "source": [
        "### Remove rows with fill values -99.99 or NaN"
      ]
    },
    {
      "cell_type": "code",
      "execution_count": 5,
      "id": "edHgh73TSMZX",
      "metadata": {
        "colab": {
          "base_uri": "https://localhost:8080/",
          "height": 206
        },
        "id": "edHgh73TSMZX",
        "outputId": "e4e78409-deb5-471c-b10e-e8103e37f8ba"
      },
      "outputs": [
        {
          "output_type": "execute_result",
          "data": {
            "text/plain": [
              "            date     co2\n",
              "781  2022.172603  418.34\n",
              "782  2022.173973  418.47\n",
              "783  2022.176712  418.26\n",
              "784  2022.179452  417.74\n",
              "785  2022.182192  417.88"
            ],
            "text/html": [
              "\n",
              "  <div id=\"df-2c48ad5c-c173-4764-aabb-558886439acc\">\n",
              "    <div class=\"colab-df-container\">\n",
              "      <div>\n",
              "<style scoped>\n",
              "    .dataframe tbody tr th:only-of-type {\n",
              "        vertical-align: middle;\n",
              "    }\n",
              "\n",
              "    .dataframe tbody tr th {\n",
              "        vertical-align: top;\n",
              "    }\n",
              "\n",
              "    .dataframe thead th {\n",
              "        text-align: right;\n",
              "    }\n",
              "</style>\n",
              "<table border=\"1\" class=\"dataframe\">\n",
              "  <thead>\n",
              "    <tr style=\"text-align: right;\">\n",
              "      <th></th>\n",
              "      <th>date</th>\n",
              "      <th>co2</th>\n",
              "    </tr>\n",
              "  </thead>\n",
              "  <tbody>\n",
              "    <tr>\n",
              "      <th>781</th>\n",
              "      <td>2022.172603</td>\n",
              "      <td>418.34</td>\n",
              "    </tr>\n",
              "    <tr>\n",
              "      <th>782</th>\n",
              "      <td>2022.173973</td>\n",
              "      <td>418.47</td>\n",
              "    </tr>\n",
              "    <tr>\n",
              "      <th>783</th>\n",
              "      <td>2022.176712</td>\n",
              "      <td>418.26</td>\n",
              "    </tr>\n",
              "    <tr>\n",
              "      <th>784</th>\n",
              "      <td>2022.179452</td>\n",
              "      <td>417.74</td>\n",
              "    </tr>\n",
              "    <tr>\n",
              "      <th>785</th>\n",
              "      <td>2022.182192</td>\n",
              "      <td>417.88</td>\n",
              "    </tr>\n",
              "  </tbody>\n",
              "</table>\n",
              "</div>\n",
              "      <button class=\"colab-df-convert\" onclick=\"convertToInteractive('df-2c48ad5c-c173-4764-aabb-558886439acc')\"\n",
              "              title=\"Convert this dataframe to an interactive table.\"\n",
              "              style=\"display:none;\">\n",
              "        \n",
              "  <svg xmlns=\"http://www.w3.org/2000/svg\" height=\"24px\"viewBox=\"0 0 24 24\"\n",
              "       width=\"24px\">\n",
              "    <path d=\"M0 0h24v24H0V0z\" fill=\"none\"/>\n",
              "    <path d=\"M18.56 5.44l.94 2.06.94-2.06 2.06-.94-2.06-.94-.94-2.06-.94 2.06-2.06.94zm-11 1L8.5 8.5l.94-2.06 2.06-.94-2.06-.94L8.5 2.5l-.94 2.06-2.06.94zm10 10l.94 2.06.94-2.06 2.06-.94-2.06-.94-.94-2.06-.94 2.06-2.06.94z\"/><path d=\"M17.41 7.96l-1.37-1.37c-.4-.4-.92-.59-1.43-.59-.52 0-1.04.2-1.43.59L10.3 9.45l-7.72 7.72c-.78.78-.78 2.05 0 2.83L4 21.41c.39.39.9.59 1.41.59.51 0 1.02-.2 1.41-.59l7.78-7.78 2.81-2.81c.8-.78.8-2.07 0-2.86zM5.41 20L4 18.59l7.72-7.72 1.47 1.35L5.41 20z\"/>\n",
              "  </svg>\n",
              "      </button>\n",
              "      \n",
              "  <style>\n",
              "    .colab-df-container {\n",
              "      display:flex;\n",
              "      flex-wrap:wrap;\n",
              "      gap: 12px;\n",
              "    }\n",
              "\n",
              "    .colab-df-convert {\n",
              "      background-color: #E8F0FE;\n",
              "      border: none;\n",
              "      border-radius: 50%;\n",
              "      cursor: pointer;\n",
              "      display: none;\n",
              "      fill: #1967D2;\n",
              "      height: 32px;\n",
              "      padding: 0 0 0 0;\n",
              "      width: 32px;\n",
              "    }\n",
              "\n",
              "    .colab-df-convert:hover {\n",
              "      background-color: #E2EBFA;\n",
              "      box-shadow: 0px 1px 2px rgba(60, 64, 67, 0.3), 0px 1px 3px 1px rgba(60, 64, 67, 0.15);\n",
              "      fill: #174EA6;\n",
              "    }\n",
              "\n",
              "    [theme=dark] .colab-df-convert {\n",
              "      background-color: #3B4455;\n",
              "      fill: #D2E3FC;\n",
              "    }\n",
              "\n",
              "    [theme=dark] .colab-df-convert:hover {\n",
              "      background-color: #434B5C;\n",
              "      box-shadow: 0px 1px 3px 1px rgba(0, 0, 0, 0.15);\n",
              "      filter: drop-shadow(0px 1px 2px rgba(0, 0, 0, 0.3));\n",
              "      fill: #FFFFFF;\n",
              "    }\n",
              "  </style>\n",
              "\n",
              "      <script>\n",
              "        const buttonEl =\n",
              "          document.querySelector('#df-2c48ad5c-c173-4764-aabb-558886439acc button.colab-df-convert');\n",
              "        buttonEl.style.display =\n",
              "          google.colab.kernel.accessAllowed ? 'block' : 'none';\n",
              "\n",
              "        async function convertToInteractive(key) {\n",
              "          const element = document.querySelector('#df-2c48ad5c-c173-4764-aabb-558886439acc');\n",
              "          const dataTable =\n",
              "            await google.colab.kernel.invokeFunction('convertToInteractive',\n",
              "                                                     [key], {});\n",
              "          if (!dataTable) return;\n",
              "\n",
              "          const docLinkHtml = 'Like what you see? Visit the ' +\n",
              "            '<a target=\"_blank\" href=https://colab.research.google.com/notebooks/data_table.ipynb>data table notebook</a>'\n",
              "            + ' to learn more about interactive tables.';\n",
              "          element.innerHTML = '';\n",
              "          dataTable['output_type'] = 'display_data';\n",
              "          await google.colab.output.renderOutput(dataTable, element);\n",
              "          const docLink = document.createElement('div');\n",
              "          docLink.innerHTML = docLinkHtml;\n",
              "          element.appendChild(docLink);\n",
              "        }\n",
              "      </script>\n",
              "    </div>\n",
              "  </div>\n",
              "  "
            ]
          },
          "metadata": {},
          "execution_count": 5
        }
      ],
      "source": [
        "df_co2 = df_co2[df_co2['co2'] != -99.99]\n",
        "df_co2_fit = df_co2_fit[df_co2_fit['co2_fit'] != -99.99]\n",
        "\n",
        "df_co2 = df_co2.dropna()\n",
        "df_co2_fit = df_co2_fit.dropna()\n",
        "\n",
        "df_co2.tail()"
      ]
    },
    {
      "cell_type": "markdown",
      "id": "6g-n4IywSMZY",
      "metadata": {
        "id": "6g-n4IywSMZY"
      },
      "source": [
        "### Convert to numpy arrays for plotting"
      ]
    },
    {
      "cell_type": "code",
      "execution_count": 6,
      "id": "z-UBDKmmSMZY",
      "metadata": {
        "id": "z-UBDKmmSMZY"
      },
      "outputs": [],
      "source": [
        "date_co2 = df_co2['date'].to_numpy()\n",
        "co2 = df_co2['co2'].to_numpy()\n",
        "date_co2_fit = df_co2_fit['date_fit'].to_numpy()\n",
        "co2_fit = df_co2_fit['co2_fit'].to_numpy()"
      ]
    },
    {
      "cell_type": "markdown",
      "id": "nMALA8BPSMZY",
      "metadata": {
        "id": "nMALA8BPSMZY"
      },
      "source": [
        "## Define plot functions"
      ]
    },
    {
      "cell_type": "code",
      "execution_count": 7,
      "id": "wXCz46dlSMZY",
      "metadata": {
        "id": "wXCz46dlSMZY"
      },
      "outputs": [],
      "source": [
        "# https://stackoverflow.com/questions/29321835/is-it-possible-to-get-color-gradients-under-curve-in-matplotlib\n",
        "# Modified to add gradient below curve and have a bottom alpha\n",
        "\n",
        "# def gradient_fill(x, y, fill_color=None, ax=None, **kwargs):\n",
        "def gradient_fill(x, y, fill_color='#FFFFFF', xmin=None, ymin=None, xmax=None, \n",
        "                  ymax=None, alpha_bottom=None, ax=None, alpha=1, zorder=1, **kwargs):\n",
        "    \"\"\"\n",
        "    Plot a line with a linear alpha gradient filled beneath it.\n",
        "\n",
        "    Parameters\n",
        "    ----------\n",
        "    x, y : array-like\n",
        "        The data values of the line.\n",
        "    fill_color : a matplotlib color specifier (string, tuple) or None\n",
        "        The color for the fill. If None, the color of the line will be used.\n",
        "    ax : a matplotlib Axes instance\n",
        "        The axes to plot on. If None, the current pyplot axes will be used.\n",
        "    Additional arguments are passed on to matplotlib's ``plot`` function.\n",
        "\n",
        "    Returns\n",
        "    -------\n",
        "    line : a Line2D instance\n",
        "        The line plotted.\n",
        "    im : an AxesImage instance\n",
        "        The transparent gradient clipped to just the area beneath the curve.\n",
        "    \"\"\"\n",
        "    if ax is None:\n",
        "        ax = plt.gca()\n",
        "\n",
        "    # Only want the gradient to show\n",
        "    #line, = ax.plot(x, y, **kwargs)\n",
        "    #if fill_color is None:\n",
        "    #    fill_color = line.get_color()\n",
        "\n",
        "    if alpha_bottom is None:\n",
        "        alpha_bottom = 0\n",
        "\n",
        "    if xmin is None:\n",
        "        xmin = x.min()\n",
        "\n",
        "    if ymin is None:\n",
        "        ymin = y.min()\n",
        "        \n",
        "    if xmax is None:\n",
        "        xmax = x.max()\n",
        "\n",
        "    if ymax is None:\n",
        "        ymax = y.max()\n",
        "        \n",
        "    if zorder is None:\n",
        "        zorder = 1\n",
        "        \n",
        "    #zorder = line.get_zorder()\n",
        "    \n",
        "    #alpha = line.get_alpha()\n",
        "    #alpha = 1.0 if alpha is None else alpha\n",
        "\n",
        "    z = np.empty((100, 1, 4), dtype=float)\n",
        "    rgb = mcolors.colorConverter.to_rgb(fill_color)\n",
        "    z[:, :, :3] = rgb\n",
        "    #z[:,:,-1] = np.linspace(0, alpha, 100)[:,None]\n",
        "    z[:, :, -1] = np.linspace(alpha_bottom, alpha, 100)[:, None]\n",
        "\n",
        "    #xmin, xmax, ymin, ymax = x.min(), x.max(), y.min(), y.max()\n",
        "    \n",
        "    im = ax.imshow(z, aspect='auto', extent=[xmin, xmax, ymin, ymax],\n",
        "                   origin='lower', zorder=zorder)\n",
        "\n",
        "    xy = np.column_stack([x, y])\n",
        "    xy = np.vstack([[xmin, ymin], xy, [xmax, ymin], [xmin, ymin]])\n",
        "    clip_path = Polygon(xy, facecolor='none', edgecolor='none', closed=True)\n",
        "    ax.add_patch(clip_path)\n",
        "    im.set_clip_path(clip_path)\n",
        "    \n",
        "    ax.autoscale(True)"
      ]
    },
    {
      "cell_type": "code",
      "execution_count": 8,
      "id": "m-FVZ0DrSMZZ",
      "metadata": {
        "id": "m-FVZ0DrSMZZ"
      },
      "outputs": [],
      "source": [
        "def set_matplotlib_properties():\n",
        "    \n",
        "    # Set default properties for matplotlib\n",
        "    \n",
        "    # Reset rcparams in case modified defaults in another notebook during same session \n",
        "    plt.rcParams.update(plt.rcParamsDefault)\n",
        "\n",
        "    plt.rcParams.update({'axes.linewidth':1.5})\n",
        "    \n",
        "    plt.rcParams.update({\n",
        "        \"text.usetex\": False,\n",
        "        \"font.family\": \"sans-serif\",\n",
        "        \"font.weight\":  \"normal\",\n",
        "        \"font.sans-serif\": [\"Arial\", \"Tahoma\", \"Helvetica\",\"FreeSans\", \"NimbusSans\", \"LiberationSans\",\"DejaVu Sans\"],\n",
        "        \"mathtext.default\":'regular',\n",
        "        \"mathtext.fontset\": \"dejavusans\"\n",
        "    })\n",
        "        \n",
        "    # http://phyletica.org/matplotlib-fonts/\n",
        "    # This causes matplotlib to use Type 42 (a.k.a. TrueType) fonts \n",
        "    # for PostScript and PDF files. This allows you to avoid Type 3 fonts.\n",
        "    # Turning on usetex also works\n",
        "    # Needed on Ubuntu for pdf fonts \n",
        "    plt.rcParams.update({\n",
        "      'pdf.fonttype': 42,\n",
        "        'ps.fonttype': 42 \n",
        "    })"
      ]
    },
    {
      "cell_type": "code",
      "execution_count": 9,
      "id": "Qc0jOumsSMZZ",
      "metadata": {
        "id": "Qc0jOumsSMZZ"
      },
      "outputs": [],
      "source": [
        "def set_website_plot_props(ax, fig, xmin, xmax, ymin, ymax, xlabel, ylabel):\n",
        "\n",
        "    # ------------------------------------\n",
        "    # Set properties to use for matplotlib\n",
        "    # ------------------------------------\n",
        "    \n",
        "    set_matplotlib_properties()\n",
        "\n",
        "    # ---------------------------------\n",
        "    # Plot properties for website plots\n",
        "    # ---------------------------------\n",
        "\n",
        "    # Allow room at top for the 2 titles\n",
        "    fig.subplots_adjust(top=0.85)\n",
        "\n",
        "    ax.tick_params(which='both', bottom=True, top=True, left=True, right=True)\n",
        "\n",
        "    ax.tick_params(axis='x', labelsize=12)\n",
        "    ax.tick_params(axis='y', labelsize=16)\n",
        "\n",
        "    ax.tick_params(axis='x', which='major', direction='in', length=8, width=1)\n",
        "    ax.tick_params(axis='y', which='major', direction='in', length=8, width=1)\n",
        "\n",
        "    tick_spacing = 5\n",
        "    ax.xaxis.set_major_locator(ticker.MultipleLocator(tick_spacing))\n",
        "    \n",
        "    tick_spacing = 5\n",
        "    ax.yaxis.set_major_locator(ticker.MultipleLocator(tick_spacing))\n",
        "    \n",
        "    labels = ax.get_xticklabels() + ax.get_yticklabels()\n",
        "    for label in labels: label.set_fontweight('bold')   \n",
        "    \n",
        "    # Display every other y major tick label\n",
        "    for label in ax.yaxis.get_ticklabels()[::2]:\n",
        "        label.set_visible(False)\n",
        "\n",
        "    tick_length = 5\n",
        "    ax.tick_params(axis='x',which='minor', direction='in', length=tick_length)\n",
        "    \n",
        "    tick_length = 4\n",
        "    ax.tick_params(axis='y',which='minor', direction='in', length=tick_length)\n",
        "    \n",
        "    ax.xaxis.set_minor_locator(AutoMinorLocator(5))\n",
        "    ax.yaxis.set_minor_locator(AutoMinorLocator(5))\n",
        "      \n",
        "    ax.set_xlabel(xlabel, fontweight='bold', fontsize=18, labelpad=5)\n",
        "    ax.set_ylabel(ylabel, fontweight='bold', fontsize=18, labelpad=5)\n",
        "\n",
        "    ax.set_xlim(xmin, xmax)\n",
        "    ax.set_ylim(ymin, ymax)"
      ]
    },
    {
      "cell_type": "code",
      "execution_count": 10,
      "id": "NFg3AViJSMZa",
      "metadata": {
        "id": "NFg3AViJSMZa"
      },
      "outputs": [],
      "source": [
        "def add_plot_title(ax, title1, title2):\n",
        "\n",
        "    ax.annotate(title1, xy=(0, 1.15), xycoords='axes fraction', fontsize=14,\n",
        "                horizontalalignment='left', verticalalignment='top', fontweight=\"normal\")\n",
        "    ax.annotate(title2, xy=(0, 1.07), xycoords='axes fraction', fontsize=18,\n",
        "                horizontalalignment='left', verticalalignment='top', fontweight = 'bold')"
      ]
    },
    {
      "cell_type": "code",
      "execution_count": 11,
      "id": "PvBSgkYRSMZa",
      "metadata": {
        "id": "PvBSgkYRSMZa"
      },
      "outputs": [],
      "source": [
        "def add_inset_label(ax, label_start, today):\n",
        "    label_text = f\"{label_start} ending {today}\"\n",
        "    ax.annotate(label_text, xy=(0.03, 0.9), xycoords='axes fraction', fontsize=12,\n",
        "                horizontalalignment='left', verticalalignment='top', fontweight=\"normal\")"
      ]
    },
    {
      "cell_type": "code",
      "execution_count": 12,
      "id": "cPicC09xSMZa",
      "metadata": {
        "id": "cPicC09xSMZa"
      },
      "outputs": [],
      "source": [
        "def add_sio_logo(fig, logo_file, xpos, ypos):\n",
        "\n",
        "    logo = Image.open(urllib.request.urlopen(logo_file))\n",
        "\n",
        "    fig.add_axes([xpos, ypos, 0.2, 0.2], anchor='SE', zorder=1)\n",
        "\n",
        "    plt.imshow(logo)\n",
        "    plt.axis('off')\n"
      ]
    },
    {
      "cell_type": "code",
      "execution_count": 13,
      "id": "d7a501d8",
      "metadata": {
        "id": "d7a501d8"
      },
      "outputs": [],
      "source": [
        "def save_plot_for_website(fig, pdf_file, png_file):\n",
        "\n",
        "    fig_width, fig_height = fig.get_size_inches()\n",
        "\n",
        "    # For pdf\n",
        "    width_in = 10\n",
        "    height_in = (fig_height/fig_width) * width_in\n",
        "\n",
        "    fig.set_size_inches(width_in, height_in)\n",
        "\n",
        "    pdf_dpi = 300\n",
        "\n",
        "    fig.savefig(pdf_file, facecolor='w', edgecolor='w',\n",
        "                orientation='landscape', format=None,\n",
        "                transparent=False, bbox_inches='tight', dpi=pdf_dpi)\n",
        "\n",
        "    # For png\n",
        "    # Want a png of height 500px\n",
        "\n",
        "    # First save figure as a png and then scale to size needed\n",
        "\n",
        "    png_dpi = 300\n",
        "\n",
        "    fig.savefig(png_file, facecolor='w', edgecolor='w',\n",
        "                orientation='landscape', dpi=png_dpi, bbox_inches='tight')\n",
        "\n",
        "    # Now resize the image to be width 1000px for the\n",
        "    # keelingcurve website\n",
        "    img = Image.open(png_file)\n",
        "    img_width, img_height = img.size\n",
        "\n",
        "    height_px = 500\n",
        "    img_scale = (height_px / img_height)\n",
        "    width_px = int((float(img_width) * float(img_scale)))\n",
        "\n",
        "    img = img.resize((width_px, height_px), Image.ANTIALIAS)\n",
        "    img.save(png_file)\n"
      ]
    },
    {
      "cell_type": "markdown",
      "id": "Ajbd2KDlSMZb",
      "metadata": {
        "id": "Ajbd2KDlSMZb"
      },
      "source": [
        "## Set plot limits and labeling"
      ]
    },
    {
      "cell_type": "markdown",
      "id": "ChyM4Z91SMZb",
      "metadata": {
        "id": "ChyM4Z91SMZb"
      },
      "source": [
        "### Functions to convert dates into various formats\n",
        "For plot limits and labeling"
      ]
    },
    {
      "cell_type": "code",
      "execution_count": 14,
      "id": "Txw3emi9SMZb",
      "metadata": {
        "id": "Txw3emi9SMZb"
      },
      "outputs": [],
      "source": [
        "# Function to convert datetime to a float\n",
        "def dt2t(adatetime):\n",
        "    \"\"\"\n",
        "    Convert adatetime into a float. The integer part of the float should\n",
        "    represent the year.\n",
        "    Order should be preserved. If adate<bdate, then d2t(adate)<d2t(bdate)\n",
        "    time distances should be preserved: If bdate-adate=ddate-cdate then\n",
        "    dt2t(bdate)-dt2t(adate) = dt2t(ddate)-dt2t(cdate)\n",
        "    \"\"\"\n",
        "    year = adatetime.year\n",
        "    boy = datetime(year, 1, 1)\n",
        "    eoy = datetime(year + 1, 1, 1)\n",
        "    return year + ((adatetime - boy).total_seconds() / ((eoy - boy).total_seconds()))"
      ]
    },
    {
      "cell_type": "code",
      "execution_count": 15,
      "id": "067Uk95USMZb",
      "metadata": {
        "id": "067Uk95USMZb"
      },
      "outputs": [],
      "source": [
        "def get_todays_date_variations():\n",
        "    \n",
        "    now = datetime.now()\n",
        "    todays_decimal =  dt2t(now)\n",
        "    \n",
        "    today = date.today()\n",
        "\n",
        "    todays_day = today.day\n",
        "    todays_month = today.strftime(\"%B\")\n",
        "    todays_year = today.year\n",
        "    todays_date_moyr = today.strftime(\"%B %Y\")\n",
        "    todays_date_modyyr = f\"{todays_month} {todays_day}, {todays_year}\"\n",
        "\n",
        "    return todays_date_moyr, todays_date_modyyr, todays_decimal, todays_year"
      ]
    },
    {
      "cell_type": "code",
      "execution_count": 16,
      "id": "HBXOwLn5SMZb",
      "metadata": {
        "id": "HBXOwLn5SMZb"
      },
      "outputs": [],
      "source": [
        "#  https://stackoverflow.com/questions/19305991/convert-fractional-years-to-a-real-date-in-python\n",
        "def t2dt(atime):\n",
        "    \"\"\"\n",
        "    Convert atime (a float) to DT.datetime\n",
        "    This is the inverse of dt2t.\n",
        "    assert dt2t(t2dt(atime)) == atime\n",
        "    \"\"\"\n",
        "    year = int(atime)\n",
        "    remainder = atime - year\n",
        "    boy = datetime(year, 1, 1)\n",
        "    eoy = datetime(year + 1, 1, 1)\n",
        "    seconds = remainder * (eoy - boy).total_seconds()\n",
        "    return boy + timedelta(seconds=seconds)"
      ]
    },
    {
      "cell_type": "code",
      "execution_count": 17,
      "id": "ngsud2LmSMZb",
      "metadata": {
        "id": "ngsud2LmSMZb"
      },
      "outputs": [],
      "source": [
        "def get_data_end_date(date_data):\n",
        "    last_date = np.max(date_data)\n",
        "    last_date_datetime = t2dt(last_date)\n",
        "    \n",
        "    # Convert date format to month_name day, year\n",
        "    day = last_date_datetime.day\n",
        "    month = last_date_datetime.strftime(\"%B\")\n",
        "    year = last_date_datetime.year\n",
        "    date_modyyr = f\"{month} {day}, {year}\"\n",
        "    return date_modyyr"
      ]
    },
    {
      "cell_type": "markdown",
      "id": "ciY8cSMXSMZc",
      "metadata": {
        "id": "ciY8cSMXSMZc"
      },
      "source": [
        "### Set titles and axes labels"
      ]
    },
    {
      "cell_type": "code",
      "execution_count": 18,
      "id": "hlXhJH4CSMZc",
      "metadata": {
        "id": "hlXhJH4CSMZc"
      },
      "outputs": [],
      "source": [
        "xlabel = ''\n",
        "ylabel = \"$\\mathregular{CO}\\\\bf{_2}$\" + \" Concentration (ppm)\"\n",
        "\n",
        "title1 = get_data_end_date(date_co2)\n",
        "title2 = 'Carbon dioxide concentration at Mauna Loa Observatory'"
      ]
    },
    {
      "cell_type": "markdown",
      "id": "wj-dCD89SMZc",
      "metadata": {
        "id": "wj-dCD89SMZc"
      },
      "source": [
        "### Set yaxis min and max limits"
      ]
    },
    {
      "cell_type": "code",
      "execution_count": 19,
      "id": "nR4XHFlOSMZc",
      "metadata": {
        "id": "nR4XHFlOSMZc"
      },
      "outputs": [],
      "source": [
        "ymin = 310\n",
        "ymax = 430"
      ]
    },
    {
      "cell_type": "markdown",
      "id": "pvrPrEQOSMZc",
      "metadata": {
        "id": "pvrPrEQOSMZc"
      },
      "source": [
        "### Set xaxis min and max limits"
      ]
    },
    {
      "cell_type": "code",
      "execution_count": 20,
      "id": "ke6VdYhqSMZc",
      "metadata": {
        "id": "ke6VdYhqSMZc"
      },
      "outputs": [],
      "source": [
        "xmin = min(date_co2)\n",
        "\n",
        "# Get current date as decimal year\n",
        "now = datetime.now()\n",
        "xmax = dt2t(now)"
      ]
    },
    {
      "cell_type": "markdown",
      "id": "r1sGzbsPSMZc",
      "metadata": {
        "id": "r1sGzbsPSMZc"
      },
      "source": [
        "## Create plot and save"
      ]
    },
    {
      "cell_type": "code",
      "execution_count": 21,
      "id": "CIIeOudiSMZd",
      "metadata": {
        "colab": {
          "base_uri": "https://localhost:8080/",
          "height": 345
        },
        "id": "CIIeOudiSMZd",
        "outputId": "71627136-7e88-4fe0-ca29-1917ebe82d2d",
        "scrolled": false
      },
      "outputs": [
        {
          "output_type": "display_data",
          "data": {
            "text/plain": [
              "<Figure size 720x480 with 2 Axes>"
            ],
            "image/png": "[encoded data removed]"
          },
          "metadata": {
            "needs_background": "light"
          }
        }
      ],
      "source": [
        "fig = plt.figure()\n",
        "\n",
        "# Add padding for exterior plot text\n",
        "ax = plt.axes([0.11, 0.12, 0.83, 0.54])\n",
        "\n",
        "\n",
        "# ------------------------\n",
        "# Add gradiant under curve\n",
        "# ------------------------\n",
        "\n",
        "# For gradient max, use last date of data rather than current date\n",
        "xmax_gradient = max(date_co2)\n",
        "\n",
        "#area_color = '#ACCAE6'\n",
        "#area_color = '#8CB2E0'\n",
        "area_color = '#73a7e6'\n",
        "\n",
        "gradient_fill(date_co2, co2, fill_color=area_color, xmin=xmin, xmax=xmax_gradient,\n",
        "              ymin=ymin, ymax=ymax, ax=ax, alpha_bottom=0.1, alpha=1.0)\n",
        "\n",
        "\n",
        "# -------------\n",
        "# Plot the data\n",
        "# -------------\n",
        "\n",
        "# Set plotting zorder above the gradient\n",
        "\n",
        "ax.plot(date_co2, co2, 'o', color='black',markersize=3.5, \n",
        "         markerfacecolor='black', markeredgecolor='black', markeredgewidth=0, zorder=5)\n",
        "\n",
        "ax.plot(date_co2_fit, co2_fit, '-', color='black', linewidth=0.5, zorder=4)\n",
        "\n",
        "\n",
        "# -------------------\n",
        "# Set plot properties\n",
        "# -------------------\n",
        "set_website_plot_props(ax, fig, xmin, xmax, ymin, ymax, xlabel, ylabel)\n",
        "\n",
        "# ------------------------------------------------\n",
        "# Get todays date in various formats for labeling\n",
        "# ------------------------------------------------\n",
        "todays_date_moyr, todays_date_modyyr, todays_decimal, todays_year = get_todays_date_variations()\n",
        "\n",
        "# ---------------\n",
        "# Add plot titles\n",
        "# ---------------\n",
        "add_plot_title(ax, title1, title2)\n",
        "\n",
        "# --------------\n",
        "# Add inset text\n",
        "# --------------\n",
        "add_inset_label(ax, 'Full record', todays_date_modyyr)\n",
        "\n",
        "\n",
        "# --------------------\n",
        "# Add SIO logo to plot\n",
        "# --------------------\n",
        "xpos = 0.715\n",
        "ypos = 0.155\n",
        "\n",
        "add_sio_logo(fig, logo_file, xpos, ypos)\n",
        "\n",
        "\n",
        "# ---------------------\n",
        "# Save plot for website\n",
        "# ---------------------\n",
        "fig = plt.gcf()\n",
        "\n",
        "save_plot_for_website(fig, pdf_file, png_file)\n",
        "\n",
        "\n",
        "plt.show()"
      ]
    },
    {
      "cell_type": "markdown",
      "id": "Yr7ttY4c-Qkg",
      "metadata": {
        "id": "Yr7ttY4c-Qkg"
      },
      "source": [
        "## Download Plots (pdf & png)"
      ]
    },
    {
      "cell_type": "code",
      "execution_count": 22,
      "id": "O1P3GlFP-RhH",
      "metadata": {
        "colab": {
          "base_uri": "https://localhost:8080/",
          "height": 49,
          "referenced_widgets": [
            "57c8e17a76a24cd39db269edb0fbb5f9",
            "cdb319d64e8547b6b9be2eb112cccedd",
            "89f60783eaaf4d8a9f083b20562115c8"
          ]
        },
        "id": "O1P3GlFP-RhH",
        "outputId": "bb8546c4-e90e-4c2b-860b-8d77c2671dea"
      },
      "outputs": [
        {
          "output_type": "display_data",
          "data": {
            "text/plain": [
              "Button(button_style='primary', description='Download Files', style=ButtonStyle())"
            ],
            "application/vnd.jupyter.widget-view+json": {
              "version_major": 2,
              "version_minor": 0,
              "model_id": "57c8e17a76a24cd39db269edb0fbb5f9"
            }
          },
          "metadata": {}
        }
      ],
      "source": [
        "def download_files(ev):\n",
        "    files.download(png_file)\n",
        "    files.download(pdf_file)\n",
        "\n",
        "button = widgets.Button(description='Download Files', button_style='primary')\n",
        "button.on_click(download_files)\n",
        "display(button)"
      ]
    },
    {
      "cell_type": "markdown",
      "id": "AZ8m2l1R-oYp",
      "metadata": {
        "id": "AZ8m2l1R-oYp"
      },
      "source": [
        "# Create animation of the plot"
      ]
    },
    {
      "cell_type": "code",
      "execution_count": 23,
      "id": "ydBNKCSQ-apW",
      "metadata": {
        "id": "ydBNKCSQ-apW"
      },
      "outputs": [],
      "source": [
        "# First set up the figure, the axis, and the plot element we want to animate\n",
        "fig,ax = plt.subplots(1, 1, figsize = (10, 6))\n",
        "\n",
        "ax.set_xlim(xmin, xmax)\n",
        "ax.set_ylim(ymin, ymax)\n",
        "\n",
        "line, = ax.plot([], [], lw=2)\n",
        "\n",
        "# initialization function: plot the background of each frame\n",
        "def init():\n",
        "    line.set_data([], [])\n",
        "    return line,\n",
        "\n",
        "# animation function.  This is called sequentially\n",
        "def animate(i):\n",
        "    line.set_data(date_co2_fit[:i], co2_fit[:i])\n",
        "    return line,\n",
        "\n",
        "# call the animator.  blit=True means only re-draw the parts that have changed.\n",
        "anim = animation.FuncAnimation(fig, animate, init_func=init,\n",
        "                               frames = len(date_co2_fit) + 1, interval=5, blit=True)\n",
        "\n",
        "# Close plot so it isn't displayed\n",
        "plt.close()"
      ]
    },
    {
      "cell_type": "markdown",
      "id": "ekqNoAF-_CTQ",
      "metadata": {
        "id": "ekqNoAF-_CTQ"
      },
      "source": [
        "## Save the animation (It takes awhile to create)"
      ]
    },
    {
      "cell_type": "code",
      "execution_count": 24,
      "id": "kKROOvva_EPu",
      "metadata": {
        "id": "kKROOvva_EPu"
      },
      "outputs": [],
      "source": [
        "# save the animation as an mp4.  This requires ffmpeg or mencoder to be\n",
        "# installed.  The extra_args ensure that the x264 codec is used, so that\n",
        "# the video can be embedded in html5.  You may need to adjust this for\n",
        "# your system: for more information, see\n",
        "# http://matplotlib.sourceforge.net/api/animation_api.html\n",
        "#anim.save('basic_animation.mp4', fps=30, extra_args=['-vcodec', 'libx264'])\n",
        "\n",
        "\n",
        "anim.save('mlo_anim.mp4')"
      ]
    },
    {
      "cell_type": "markdown",
      "id": "I82-PNA4_M2_",
      "metadata": {
        "id": "I82-PNA4_M2_"
      },
      "source": [
        "## Load animation and press play"
      ]
    },
    {
      "cell_type": "code",
      "execution_count": 26,
      "id": "Akg6ltww_Nko",
      "metadata": {
        "colab": {
          "base_uri": "https://localhost:8080/",
          "height": 501
        },
        "id": "Akg6ltww_Nko",
        "outputId": "c3f1a82e-4830-4828-a664-4346f83b283e"
      },
      "outputs": [
        {
          "output_type": "execute_result",
          "data": {
            "text/plain": [
              "<IPython.core.display.HTML object>"
            ],
            "text/html": [
              "\n",
              "<video width=800 controls>\n",
              "      <source src=\"data:video/mp4;base64,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\" type=\"video/mp4\">\n",
              "</video>\n"
            ]
          },
          "metadata": {},
          "execution_count": 26
        }
      ],
      "source": [
        "mlo_animation = open('mlo_anim.mp4','rb').read()\n",
        "\n",
        "data_url = \"data:video/mp4;base64,\" + b64encode(mlo_animation).decode()\n",
        "HTML(\"\"\"\n",
        "<video width=800 controls>\n",
        "      <source src=\"%s\" type=\"video/mp4\">\n",
        "</video>\n",
        "\"\"\" % data_url)"
      ]
    },
    {
      "cell_type": "code",
      "source": [
        ""
      ],
      "metadata": {
        "id": "Ou5ZR0TjCTaW"
      },
      "id": "Ou5ZR0TjCTaW",
      "execution_count": null,
      "outputs": []
    }
  ],
  "metadata": {
    "colab": {
      "collapsed_sections": [],
      "name": "plot_full_mlo_record_keelingcurve.ipynb",
      "provenance": [],
      "include_colab_link": true
    },
    "kernelspec": {
      "display_name": "Python 3 (ipykernel)",
      "language": "python",
      "name": "python3"
    },
    "language_info": {
      "codemirror_mode": {
        "name": "ipython",
        "version": 3
      },
      "file_extension": ".py",
      "mimetype": "text/x-python",
      "name": "python",
      "nbconvert_exporter": "python",
      "pygments_lexer": "ipython3",
      "version": "3.8.5"
    },
    "widgets": {
      "application/vnd.jupyter.widget-state+json": {
        "57c8e17a76a24cd39db269edb0fbb5f9": {
          "model_module": "@jupyter-widgets/controls",
          "model_name": "ButtonModel",
          "model_module_version": "1.5.0",
          "state": {
            "_dom_classes": [],
            "_model_module": "@jupyter-widgets/controls",
            "_model_module_version": "1.5.0",
            "_model_name": "ButtonModel",
            "_view_count": null,
            "_view_module": "@jupyter-widgets/controls",
            "_view_module_version": "1.5.0",
            "_view_name": "ButtonView",
            "button_style": "primary",
            "description": "Download Files",
            "disabled": false,
            "icon": "",
            "layout": "IPY_MODEL_cdb319d64e8547b6b9be2eb112cccedd",
            "style": "IPY_MODEL_89f60783eaaf4d8a9f083b20562115c8",
            "tooltip": ""
          }
        },
        "cdb319d64e8547b6b9be2eb112cccedd": {
          "model_module": "@jupyter-widgets/base",
          "model_name": "LayoutModel",
          "model_module_version": "1.2.0",
          "state": {
            "_model_module": "@jupyter-widgets/base",
            "_model_module_version": "1.2.0",
            "_model_name": "LayoutModel",
            "_view_count": null,
            "_view_module": "@jupyter-widgets/base",
            "_view_module_version": "1.2.0",
            "_view_name": "LayoutView",
            "align_content": null,
            "align_items": null,
            "align_self": null,
            "border": null,
            "bottom": null,
            "display": null,
            "flex": null,
            "flex_flow": null,
            "grid_area": null,
            "grid_auto_columns": null,
            "grid_auto_flow": null,
            "grid_auto_rows": null,
            "grid_column": null,
            "grid_gap": null,
            "grid_row": null,
            "grid_template_areas": null,
            "grid_template_columns": null,
            "grid_template_rows": null,
            "height": null,
            "justify_content": null,
            "justify_items": null,
            "left": null,
            "margin": null,
            "max_height": null,
            "max_width": null,
            "min_height": null,
            "min_width": null,
            "object_fit": null,
            "object_position": null,
            "order": null,
            "overflow": null,
            "overflow_x": null,
            "overflow_y": null,
            "padding": null,
            "right": null,
            "top": null,
            "visibility": null,
            "width": null
          }
        },
        "89f60783eaaf4d8a9f083b20562115c8": {
          "model_module": "@jupyter-widgets/controls",
          "model_name": "ButtonStyleModel",
          "model_module_version": "1.5.0",
          "state": {
            "_model_module": "@jupyter-widgets/controls",
            "_model_module_version": "1.5.0",
            "_model_name": "ButtonStyleModel",
            "_view_count": null,
            "_view_module": "@jupyter-widgets/base",
            "_view_module_version": "1.2.0",
            "_view_name": "StyleView",
            "button_color": null,
            "font_weight": ""
          }
        }
      }
    }
  },
  "nbformat": 4,
  "nbformat_minor": 5
}