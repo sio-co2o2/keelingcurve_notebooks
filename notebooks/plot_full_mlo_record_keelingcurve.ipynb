{
  "cells": [
    {
      "cell_type": "markdown",
      "metadata": {
        "id": "view-in-github",
        "colab_type": "text"
      },
      "source": [
        "<a href=\"https://colab.research.google.com/github/sio-co2o2/keelingcurve_notebooks/blob/main/notebooks/plot_full_mlo_record_keelingcurve.ipynb\" target=\"_parent\"><img src=\"https://colab.research.google.com/assets/colab-badge.svg\" alt=\"Open In Colab\"/></a>"
      ]
    },
    {
      "cell_type": "markdown",
      "metadata": {
        "id": "rLKWenEgSMZP"
      },
      "source": [
        "# Plot full record of CO2 at Mauna Loa, Hawaii"
      ],
      "id": "rLKWenEgSMZP"
    },
    {
      "cell_type": "markdown",
      "metadata": {
        "id": "t5_JohjmSMZS"
      },
      "source": [
        "### The Keeling Curve\n",
        "https://keelingcurve.ucsd.edu\n",
        "\n",
        "This notebook creates pdf and png plot versions."
      ],
      "id": "t5_JohjmSMZS"
    },
    {
      "cell_type": "markdown",
      "metadata": {
        "id": "7bkCEl30SMZT"
      },
      "source": [
        "## Import packages"
      ],
      "id": "7bkCEl30SMZT"
    },
    {
      "cell_type": "code",
      "execution_count": 27,
      "metadata": {
        "id": "2NYgN26LSMZT"
      },
      "outputs": [],
      "source": [
        "import re\n",
        "import pandas as pd\n",
        "import numpy as np\n",
        "from datetime import datetime, date, timedelta\n",
        "from dateutil.relativedelta import relativedelta\n",
        "import pathlib\n",
        "import matplotlib.image as mpimg\n",
        "import matplotlib.pyplot as plt\n",
        "from matplotlib.pyplot import figure\n",
        "from matplotlib.ticker import (MultipleLocator, AutoMinorLocator)\n",
        "from matplotlib import ticker\n",
        "from matplotlib.path import Path\n",
        "import matplotlib.colors as mcolors\n",
        "from matplotlib.patches import Polygon\n",
        "import matplotlib.dates as mdates\n",
        "import matplotlib.lines as mlines\n",
        "from scipy.interpolate import CubicSpline\n",
        "import matplotlib.transforms\n",
        "from google.colab import files\n",
        "from matplotlib import animation\n",
        "from ipywidgets import widgets\n",
        "from IPython.display import HTML\n",
        "from base64 import b64encode\n",
        "from PIL import Image\n",
        "\n",
        "%matplotlib inline"
      ],
      "id": "2NYgN26LSMZT"
    },
    {
      "cell_type": "markdown",
      "metadata": {
        "id": "9z8QlQMLSMZU"
      },
      "source": [
        "## Set directories and file names for data,  plot, and logo"
      ],
      "id": "9z8QlQMLSMZU"
    },
    {
      "cell_type": "code",
      "execution_count": 28,
      "metadata": {
        "id": "ORlNwHV5SMZU"
      },
      "outputs": [],
      "source": [
        "# Read in data from github repository\n",
        "# Get mlo record to last daily value\n",
        "data_file = 'https://raw.githubusercontent.com/sio-co2o2/keelingcurve_notebooks/main/data/mlo/mlo_full_record_now_span.csv'\n",
        "\n",
        "logo_file = 'https://github.com/sio-co2o2/keelingcurve_notebooks/raw/main/images/ucsd_sio_logo.png'\n",
        "\n",
        "plot_dir = pathlib.Path('./plots')\n",
        "plot_dir.mkdir(exist_ok=True)\n",
        "\n",
        "plot_base_name = 'mlo_full_record'\n",
        "\n",
        "pdf_file = plot_dir / f'{plot_base_name}.pdf'\n",
        "png_file = plot_dir / f'{plot_base_name}.png'"
      ],
      "id": "ORlNwHV5SMZU"
    },
    {
      "cell_type": "markdown",
      "metadata": {
        "id": "Iat83SHiSMZV"
      },
      "source": [
        "## Load in Data and process"
      ],
      "id": "Iat83SHiSMZV"
    },
    {
      "cell_type": "code",
      "execution_count": 29,
      "metadata": {
        "colab": {
          "base_uri": "https://localhost:8080/",
          "height": 206
        },
        "id": "DAaZzKvSSMZV",
        "outputId": "3684f473-efb3-46c6-afd1-669f1d234ef1"
      },
      "outputs": [
        {
          "output_type": "execute_result",
          "data": {
            "text/html": [
              "\n",
              "  <div id=\"df-d7e8bfd5-3b05-4611-a7a7-0bc29bac1218\">\n",
              "    <div class=\"colab-df-container\">\n",
              "      <div>\n",
              "<style scoped>\n",
              "    .dataframe tbody tr th:only-of-type {\n",
              "        vertical-align: middle;\n",
              "    }\n",
              "\n",
              "    .dataframe tbody tr th {\n",
              "        vertical-align: top;\n",
              "    }\n",
              "\n",
              "    .dataframe thead th {\n",
              "        text-align: right;\n",
              "    }\n",
              "</style>\n",
              "<table border=\"1\" class=\"dataframe\">\n",
              "  <thead>\n",
              "    <tr style=\"text-align: right;\">\n",
              "      <th></th>\n",
              "      <th>date</th>\n",
              "      <th>co2</th>\n",
              "      <th>date_seas_adj</th>\n",
              "      <th>co2_seas_adj</th>\n",
              "      <th>date_spl</th>\n",
              "      <th>co2_spl</th>\n",
              "      <th>date_seas_adj_spl</th>\n",
              "      <th>co2_seas_adj_spl</th>\n",
              "    </tr>\n",
              "  </thead>\n",
              "  <tbody>\n",
              "    <tr>\n",
              "      <th>0</th>\n",
              "      <td>1958.202740</td>\n",
              "      <td>315.71</td>\n",
              "      <td>1958.202740</td>\n",
              "      <td>314.43</td>\n",
              "      <td>1958.202740</td>\n",
              "      <td>316.20</td>\n",
              "      <td>1958.202740</td>\n",
              "      <td>314.91</td>\n",
              "    </tr>\n",
              "    <tr>\n",
              "      <th>1</th>\n",
              "      <td>1958.287671</td>\n",
              "      <td>317.45</td>\n",
              "      <td>1958.287671</td>\n",
              "      <td>315.16</td>\n",
              "      <td>1958.287671</td>\n",
              "      <td>317.30</td>\n",
              "      <td>1958.287671</td>\n",
              "      <td>314.99</td>\n",
              "    </tr>\n",
              "    <tr>\n",
              "      <th>2</th>\n",
              "      <td>1958.369863</td>\n",
              "      <td>317.51</td>\n",
              "      <td>1958.369863</td>\n",
              "      <td>314.71</td>\n",
              "      <td>1958.369863</td>\n",
              "      <td>317.86</td>\n",
              "      <td>1958.369863</td>\n",
              "      <td>315.07</td>\n",
              "    </tr>\n",
              "    <tr>\n",
              "      <th>3</th>\n",
              "      <td>1958.536986</td>\n",
              "      <td>315.86</td>\n",
              "      <td>1958.536986</td>\n",
              "      <td>315.20</td>\n",
              "      <td>1958.454795</td>\n",
              "      <td>317.25</td>\n",
              "      <td>1958.454795</td>\n",
              "      <td>315.15</td>\n",
              "    </tr>\n",
              "    <tr>\n",
              "      <th>4</th>\n",
              "      <td>1958.621918</td>\n",
              "      <td>314.93</td>\n",
              "      <td>1958.621918</td>\n",
              "      <td>316.20</td>\n",
              "      <td>1958.536986</td>\n",
              "      <td>315.85</td>\n",
              "      <td>1958.536986</td>\n",
              "      <td>315.22</td>\n",
              "    </tr>\n",
              "  </tbody>\n",
              "</table>\n",
              "</div>\n",
              "      <button class=\"colab-df-convert\" onclick=\"convertToInteractive('df-d7e8bfd5-3b05-4611-a7a7-0bc29bac1218')\"\n",
              "              title=\"Convert this dataframe to an interactive table.\"\n",
              "              style=\"display:none;\">\n",
              "        \n",
              "  <svg xmlns=\"http://www.w3.org/2000/svg\" height=\"24px\"viewBox=\"0 0 24 24\"\n",
              "       width=\"24px\">\n",
              "    <path d=\"M0 0h24v24H0V0z\" fill=\"none\"/>\n",
              "    <path d=\"M18.56 5.44l.94 2.06.94-2.06 2.06-.94-2.06-.94-.94-2.06-.94 2.06-2.06.94zm-11 1L8.5 8.5l.94-2.06 2.06-.94-2.06-.94L8.5 2.5l-.94 2.06-2.06.94zm10 10l.94 2.06.94-2.06 2.06-.94-2.06-.94-.94-2.06-.94 2.06-2.06.94z\"/><path d=\"M17.41 7.96l-1.37-1.37c-.4-.4-.92-.59-1.43-.59-.52 0-1.04.2-1.43.59L10.3 9.45l-7.72 7.72c-.78.78-.78 2.05 0 2.83L4 21.41c.39.39.9.59 1.41.59.51 0 1.02-.2 1.41-.59l7.78-7.78 2.81-2.81c.8-.78.8-2.07 0-2.86zM5.41 20L4 18.59l7.72-7.72 1.47 1.35L5.41 20z\"/>\n",
              "  </svg>\n",
              "      </button>\n",
              "      \n",
              "  <style>\n",
              "    .colab-df-container {\n",
              "      display:flex;\n",
              "      flex-wrap:wrap;\n",
              "      gap: 12px;\n",
              "    }\n",
              "\n",
              "    .colab-df-convert {\n",
              "      background-color: #E8F0FE;\n",
              "      border: none;\n",
              "      border-radius: 50%;\n",
              "      cursor: pointer;\n",
              "      display: none;\n",
              "      fill: #1967D2;\n",
              "      height: 32px;\n",
              "      padding: 0 0 0 0;\n",
              "      width: 32px;\n",
              "    }\n",
              "\n",
              "    .colab-df-convert:hover {\n",
              "      background-color: #E2EBFA;\n",
              "      box-shadow: 0px 1px 2px rgba(60, 64, 67, 0.3), 0px 1px 3px 1px rgba(60, 64, 67, 0.15);\n",
              "      fill: #174EA6;\n",
              "    }\n",
              "\n",
              "    [theme=dark] .colab-df-convert {\n",
              "      background-color: #3B4455;\n",
              "      fill: #D2E3FC;\n",
              "    }\n",
              "\n",
              "    [theme=dark] .colab-df-convert:hover {\n",
              "      background-color: #434B5C;\n",
              "      box-shadow: 0px 1px 3px 1px rgba(0, 0, 0, 0.15);\n",
              "      filter: drop-shadow(0px 1px 2px rgba(0, 0, 0, 0.3));\n",
              "      fill: #FFFFFF;\n",
              "    }\n",
              "  </style>\n",
              "\n",
              "      <script>\n",
              "        const buttonEl =\n",
              "          document.querySelector('#df-d7e8bfd5-3b05-4611-a7a7-0bc29bac1218 button.colab-df-convert');\n",
              "        buttonEl.style.display =\n",
              "          google.colab.kernel.accessAllowed ? 'block' : 'none';\n",
              "\n",
              "        async function convertToInteractive(key) {\n",
              "          const element = document.querySelector('#df-d7e8bfd5-3b05-4611-a7a7-0bc29bac1218');\n",
              "          const dataTable =\n",
              "            await google.colab.kernel.invokeFunction('convertToInteractive',\n",
              "                                                     [key], {});\n",
              "          if (!dataTable) return;\n",
              "\n",
              "          const docLinkHtml = 'Like what you see? Visit the ' +\n",
              "            '<a target=\"_blank\" href=https://colab.research.google.com/notebooks/data_table.ipynb>data table notebook</a>'\n",
              "            + ' to learn more about interactive tables.';\n",
              "          element.innerHTML = '';\n",
              "          dataTable['output_type'] = 'display_data';\n",
              "          await google.colab.output.renderOutput(dataTable, element);\n",
              "          const docLink = document.createElement('div');\n",
              "          docLink.innerHTML = docLinkHtml;\n",
              "          element.appendChild(docLink);\n",
              "        }\n",
              "      </script>\n",
              "    </div>\n",
              "  </div>\n",
              "  "
            ],
            "text/plain": [
              "          date     co2  date_seas_adj  co2_seas_adj     date_spl  co2_spl  \\\n",
              "0  1958.202740  315.71    1958.202740        314.43  1958.202740   316.20   \n",
              "1  1958.287671  317.45    1958.287671        315.16  1958.287671   317.30   \n",
              "2  1958.369863  317.51    1958.369863        314.71  1958.369863   317.86   \n",
              "3  1958.536986  315.86    1958.536986        315.20  1958.454795   317.25   \n",
              "4  1958.621918  314.93    1958.621918        316.20  1958.536986   315.85   \n",
              "\n",
              "   date_seas_adj_spl  co2_seas_adj_spl  \n",
              "0        1958.202740            314.91  \n",
              "1        1958.287671            314.99  \n",
              "2        1958.369863            315.07  \n",
              "3        1958.454795            315.15  \n",
              "4        1958.536986            315.22  "
            ]
          },
          "metadata": {},
          "execution_count": 29
        }
      ],
      "source": [
        "df = pd.read_csv(data_file,skipinitialspace=True,comment='\"')\n",
        "df.head()"
      ],
      "id": "DAaZzKvSSMZV"
    },
    {
      "cell_type": "markdown",
      "metadata": {
        "id": "t6IlRW3USMZW"
      },
      "source": [
        "### Break into 2 dataframes. One for CO2 and one for the CO2 spline\n",
        "The decimal date is the midpoint of each month for the monthly record and for the concatenated daily data from the end of the monthly data to now is at the mid day."
      ],
      "id": "t6IlRW3USMZW"
    },
    {
      "cell_type": "code",
      "execution_count": 30,
      "metadata": {
        "id": "Cfn9bpElSMZX"
      },
      "outputs": [],
      "source": [
        "df_co2 = df[['date', 'co2']].copy()\n",
        "df_co2_spline = df[['date_spl', 'co2_spl']].copy()"
      ],
      "id": "Cfn9bpElSMZX"
    },
    {
      "cell_type": "markdown",
      "metadata": {
        "id": "mGqqgrJdSMZX"
      },
      "source": [
        "### Remove rows with fill values -99.99 or NaN"
      ],
      "id": "mGqqgrJdSMZX"
    },
    {
      "cell_type": "code",
      "execution_count": 31,
      "metadata": {
        "colab": {
          "base_uri": "https://localhost:8080/",
          "height": 206
        },
        "id": "edHgh73TSMZX",
        "outputId": "3fe93893-0833-425e-da16-6fa7d91fe033"
      },
      "outputs": [
        {
          "output_type": "execute_result",
          "data": {
            "text/html": [
              "\n",
              "  <div id=\"df-ec8740b3-9426-4460-ac6d-4ffda74e5d60\">\n",
              "    <div class=\"colab-df-container\">\n",
              "      <div>\n",
              "<style scoped>\n",
              "    .dataframe tbody tr th:only-of-type {\n",
              "        vertical-align: middle;\n",
              "    }\n",
              "\n",
              "    .dataframe tbody tr th {\n",
              "        vertical-align: top;\n",
              "    }\n",
              "\n",
              "    .dataframe thead th {\n",
              "        text-align: right;\n",
              "    }\n",
              "</style>\n",
              "<table border=\"1\" class=\"dataframe\">\n",
              "  <thead>\n",
              "    <tr style=\"text-align: right;\">\n",
              "      <th></th>\n",
              "      <th>date</th>\n",
              "      <th>co2</th>\n",
              "    </tr>\n",
              "  </thead>\n",
              "  <tbody>\n",
              "    <tr>\n",
              "      <th>775</th>\n",
              "      <td>2022.157534</td>\n",
              "      <td>419.36</td>\n",
              "    </tr>\n",
              "    <tr>\n",
              "      <th>776</th>\n",
              "      <td>2022.160274</td>\n",
              "      <td>419.05</td>\n",
              "    </tr>\n",
              "    <tr>\n",
              "      <th>777</th>\n",
              "      <td>2022.163014</td>\n",
              "      <td>418.97</td>\n",
              "    </tr>\n",
              "    <tr>\n",
              "      <th>778</th>\n",
              "      <td>2022.165753</td>\n",
              "      <td>418.74</td>\n",
              "    </tr>\n",
              "    <tr>\n",
              "      <th>779</th>\n",
              "      <td>2022.168493</td>\n",
              "      <td>418.60</td>\n",
              "    </tr>\n",
              "  </tbody>\n",
              "</table>\n",
              "</div>\n",
              "      <button class=\"colab-df-convert\" onclick=\"convertToInteractive('df-ec8740b3-9426-4460-ac6d-4ffda74e5d60')\"\n",
              "              title=\"Convert this dataframe to an interactive table.\"\n",
              "              style=\"display:none;\">\n",
              "        \n",
              "  <svg xmlns=\"http://www.w3.org/2000/svg\" height=\"24px\"viewBox=\"0 0 24 24\"\n",
              "       width=\"24px\">\n",
              "    <path d=\"M0 0h24v24H0V0z\" fill=\"none\"/>\n",
              "    <path d=\"M18.56 5.44l.94 2.06.94-2.06 2.06-.94-2.06-.94-.94-2.06-.94 2.06-2.06.94zm-11 1L8.5 8.5l.94-2.06 2.06-.94-2.06-.94L8.5 2.5l-.94 2.06-2.06.94zm10 10l.94 2.06.94-2.06 2.06-.94-2.06-.94-.94-2.06-.94 2.06-2.06.94z\"/><path d=\"M17.41 7.96l-1.37-1.37c-.4-.4-.92-.59-1.43-.59-.52 0-1.04.2-1.43.59L10.3 9.45l-7.72 7.72c-.78.78-.78 2.05 0 2.83L4 21.41c.39.39.9.59 1.41.59.51 0 1.02-.2 1.41-.59l7.78-7.78 2.81-2.81c.8-.78.8-2.07 0-2.86zM5.41 20L4 18.59l7.72-7.72 1.47 1.35L5.41 20z\"/>\n",
              "  </svg>\n",
              "      </button>\n",
              "      \n",
              "  <style>\n",
              "    .colab-df-container {\n",
              "      display:flex;\n",
              "      flex-wrap:wrap;\n",
              "      gap: 12px;\n",
              "    }\n",
              "\n",
              "    .colab-df-convert {\n",
              "      background-color: #E8F0FE;\n",
              "      border: none;\n",
              "      border-radius: 50%;\n",
              "      cursor: pointer;\n",
              "      display: none;\n",
              "      fill: #1967D2;\n",
              "      height: 32px;\n",
              "      padding: 0 0 0 0;\n",
              "      width: 32px;\n",
              "    }\n",
              "\n",
              "    .colab-df-convert:hover {\n",
              "      background-color: #E2EBFA;\n",
              "      box-shadow: 0px 1px 2px rgba(60, 64, 67, 0.3), 0px 1px 3px 1px rgba(60, 64, 67, 0.15);\n",
              "      fill: #174EA6;\n",
              "    }\n",
              "\n",
              "    [theme=dark] .colab-df-convert {\n",
              "      background-color: #3B4455;\n",
              "      fill: #D2E3FC;\n",
              "    }\n",
              "\n",
              "    [theme=dark] .colab-df-convert:hover {\n",
              "      background-color: #434B5C;\n",
              "      box-shadow: 0px 1px 3px 1px rgba(0, 0, 0, 0.15);\n",
              "      filter: drop-shadow(0px 1px 2px rgba(0, 0, 0, 0.3));\n",
              "      fill: #FFFFFF;\n",
              "    }\n",
              "  </style>\n",
              "\n",
              "      <script>\n",
              "        const buttonEl =\n",
              "          document.querySelector('#df-ec8740b3-9426-4460-ac6d-4ffda74e5d60 button.colab-df-convert');\n",
              "        buttonEl.style.display =\n",
              "          google.colab.kernel.accessAllowed ? 'block' : 'none';\n",
              "\n",
              "        async function convertToInteractive(key) {\n",
              "          const element = document.querySelector('#df-ec8740b3-9426-4460-ac6d-4ffda74e5d60');\n",
              "          const dataTable =\n",
              "            await google.colab.kernel.invokeFunction('convertToInteractive',\n",
              "                                                     [key], {});\n",
              "          if (!dataTable) return;\n",
              "\n",
              "          const docLinkHtml = 'Like what you see? Visit the ' +\n",
              "            '<a target=\"_blank\" href=https://colab.research.google.com/notebooks/data_table.ipynb>data table notebook</a>'\n",
              "            + ' to learn more about interactive tables.';\n",
              "          element.innerHTML = '';\n",
              "          dataTable['output_type'] = 'display_data';\n",
              "          await google.colab.output.renderOutput(dataTable, element);\n",
              "          const docLink = document.createElement('div');\n",
              "          docLink.innerHTML = docLinkHtml;\n",
              "          element.appendChild(docLink);\n",
              "        }\n",
              "      </script>\n",
              "    </div>\n",
              "  </div>\n",
              "  "
            ],
            "text/plain": [
              "            date     co2\n",
              "775  2022.157534  419.36\n",
              "776  2022.160274  419.05\n",
              "777  2022.163014  418.97\n",
              "778  2022.165753  418.74\n",
              "779  2022.168493  418.60"
            ]
          },
          "metadata": {},
          "execution_count": 31
        }
      ],
      "source": [
        "df_co2 = df_co2[df_co2['co2'] != -99.99]\n",
        "df_co2_spline = df_co2_spline[df_co2_spline['co2_spl'] != -99.99]\n",
        "\n",
        "df_co2 = df_co2.dropna()\n",
        "df_co2_spline = df_co2_spline.dropna()\n",
        "\n",
        "df_co2.tail()"
      ],
      "id": "edHgh73TSMZX"
    },
    {
      "cell_type": "markdown",
      "metadata": {
        "id": "6g-n4IywSMZY"
      },
      "source": [
        "### Convert to numpy arrays for plotting"
      ],
      "id": "6g-n4IywSMZY"
    },
    {
      "cell_type": "code",
      "execution_count": 32,
      "metadata": {
        "id": "z-UBDKmmSMZY"
      },
      "outputs": [],
      "source": [
        "date_co2 = df_co2['date'].to_numpy()\n",
        "co2 = df_co2['co2'].to_numpy()\n",
        "date_co2_spline = df_co2_spline['date_spl'].to_numpy()\n",
        "co2_spline = df_co2_spline['co2_spl'].to_numpy()"
      ],
      "id": "z-UBDKmmSMZY"
    },
    {
      "cell_type": "markdown",
      "metadata": {
        "id": "nMALA8BPSMZY"
      },
      "source": [
        "## Define plot functions"
      ],
      "id": "nMALA8BPSMZY"
    },
    {
      "cell_type": "code",
      "execution_count": 33,
      "metadata": {
        "id": "wXCz46dlSMZY"
      },
      "outputs": [],
      "source": [
        "# https://stackoverflow.com/questions/29321835/is-it-possible-to-get-color-gradients-under-curve-in-matplotlib\n",
        "# Modified to add gradient below curve and have a bottom alpha\n",
        "\n",
        "# def gradient_fill(x, y, fill_color=None, ax=None, **kwargs):\n",
        "def gradient_fill(x, y, fill_color='#FFFFFF', xmin=None, ymin=None, xmax=None, \n",
        "                  ymax=None, alpha_bottom=None, ax=None, alpha=1, zorder=1, **kwargs):\n",
        "    \"\"\"\n",
        "    Plot a line with a linear alpha gradient filled beneath it.\n",
        "\n",
        "    Parameters\n",
        "    ----------\n",
        "    x, y : array-like\n",
        "        The data values of the line.\n",
        "    fill_color : a matplotlib color specifier (string, tuple) or None\n",
        "        The color for the fill. If None, the color of the line will be used.\n",
        "    ax : a matplotlib Axes instance\n",
        "        The axes to plot on. If None, the current pyplot axes will be used.\n",
        "    Additional arguments are passed on to matplotlib's ``plot`` function.\n",
        "\n",
        "    Returns\n",
        "    -------\n",
        "    line : a Line2D instance\n",
        "        The line plotted.\n",
        "    im : an AxesImage instance\n",
        "        The transparent gradient clipped to just the area beneath the curve.\n",
        "    \"\"\"\n",
        "    if ax is None:\n",
        "        ax = plt.gca()\n",
        "\n",
        "    # Only want the gradient to show\n",
        "    #line, = ax.plot(x, y, **kwargs)\n",
        "    #if fill_color is None:\n",
        "    #    fill_color = line.get_color()\n",
        "\n",
        "    if alpha_bottom is None:\n",
        "        alpha_bottom = 0\n",
        "\n",
        "    if xmin is None:\n",
        "        xmin = x.min()\n",
        "\n",
        "    if ymin is None:\n",
        "        ymin = y.min()\n",
        "        \n",
        "    if xmax is None:\n",
        "        xmax = x.max()\n",
        "\n",
        "    if ymax is None:\n",
        "        ymax = y.max()\n",
        "        \n",
        "    if zorder is None:\n",
        "        zorder = 1\n",
        "        \n",
        "    #zorder = line.get_zorder()\n",
        "    \n",
        "    #alpha = line.get_alpha()\n",
        "    #alpha = 1.0 if alpha is None else alpha\n",
        "\n",
        "    z = np.empty((100, 1, 4), dtype=float)\n",
        "    rgb = mcolors.colorConverter.to_rgb(fill_color)\n",
        "    z[:, :, :3] = rgb\n",
        "    #z[:,:,-1] = np.linspace(0, alpha, 100)[:,None]\n",
        "    z[:, :, -1] = np.linspace(alpha_bottom, alpha, 100)[:, None]\n",
        "\n",
        "    #xmin, xmax, ymin, ymax = x.min(), x.max(), y.min(), y.max()\n",
        "    \n",
        "    im = ax.imshow(z, aspect='auto', extent=[xmin, xmax, ymin, ymax],\n",
        "                   origin='lower', zorder=zorder)\n",
        "\n",
        "    xy = np.column_stack([x, y])\n",
        "    xy = np.vstack([[xmin, ymin], xy, [xmax, ymin], [xmin, ymin]])\n",
        "    clip_path = Polygon(xy, facecolor='none', edgecolor='none', closed=True)\n",
        "    ax.add_patch(clip_path)\n",
        "    im.set_clip_path(clip_path)\n",
        "    \n",
        "    ax.autoscale(True)"
      ],
      "id": "wXCz46dlSMZY"
    },
    {
      "cell_type": "code",
      "execution_count": 34,
      "metadata": {
        "id": "m-FVZ0DrSMZZ"
      },
      "outputs": [],
      "source": [
        "def set_matplotlib_properties():\n",
        "    \n",
        "    # Set default properties for matplotlib\n",
        "    \n",
        "    # Reset rcparams in case modified defaults in another notebook during same session \n",
        "    plt.rcParams.update(plt.rcParamsDefault)\n",
        "\n",
        "    plt.rcParams.update({'axes.linewidth':1.5})\n",
        "    \n",
        "    plt.rcParams.update({\n",
        "        \"text.usetex\": False,\n",
        "        \"font.family\": \"sans-serif\",\n",
        "        \"font.weight\":  \"normal\",\n",
        "        \"font.sans-serif\": [\"Arial\", \"Tahoma\", \"Helvetica\",\"FreeSans\", \"NimbusSans\", \"LiberationSans\",\"DejaVu Sans\"],\n",
        "        \"mathtext.default\":'regular',\n",
        "        \"mathtext.fontset\": \"dejavusans\"\n",
        "    })\n",
        "        \n",
        "    # http://phyletica.org/matplotlib-fonts/\n",
        "    # This causes matplotlib to use Type 42 (a.k.a. TrueType) fonts \n",
        "    # for PostScript and PDF files. This allows you to avoid Type 3 fonts.\n",
        "    # Turning on usetex also works\n",
        "    # Needed on Ubuntu for pdf fonts \n",
        "    plt.rcParams.update({\n",
        "      'pdf.fonttype': 42,\n",
        "        'ps.fonttype': 42 \n",
        "    })"
      ],
      "id": "m-FVZ0DrSMZZ"
    },
    {
      "cell_type": "code",
      "execution_count": 35,
      "metadata": {
        "id": "Qc0jOumsSMZZ"
      },
      "outputs": [],
      "source": [
        "def set_website_plot_props(ax, fig, xmin, xmax, ymin, ymax, xlabel, ylabel):\n",
        "\n",
        "    # ------------------------------------\n",
        "    # Set properties to use for matplotlib\n",
        "    # ------------------------------------\n",
        "    \n",
        "    set_matplotlib_properties()\n",
        "\n",
        "    # ---------------------------------\n",
        "    # Plot properties for website plots\n",
        "    # ---------------------------------\n",
        "\n",
        "    # Allow room at top for the 2 titles\n",
        "    fig.subplots_adjust(top=0.85)\n",
        "\n",
        "    ax.tick_params(which='both', bottom=True, top=True, left=True, right=True)\n",
        "\n",
        "    ax.tick_params(axis='x', labelsize=12)\n",
        "    ax.tick_params(axis='y', labelsize=16)\n",
        "\n",
        "    ax.tick_params(axis='x', which='major', direction='in', length=8, width=1)\n",
        "    ax.tick_params(axis='y', which='major', direction='in', length=8, width=1)\n",
        "\n",
        "    tick_spacing = 5\n",
        "    ax.xaxis.set_major_locator(ticker.MultipleLocator(tick_spacing))\n",
        "    \n",
        "    tick_spacing = 5\n",
        "    ax.yaxis.set_major_locator(ticker.MultipleLocator(tick_spacing))\n",
        "    \n",
        "    labels = ax.get_xticklabels() + ax.get_yticklabels()\n",
        "    for label in labels: label.set_fontweight('bold')   \n",
        "    \n",
        "    # Display every other y major tick label\n",
        "    for label in ax.yaxis.get_ticklabels()[::2]:\n",
        "        label.set_visible(False)\n",
        "\n",
        "    tick_length = 5\n",
        "    ax.tick_params(axis='x',which='minor', direction='in', length=tick_length)\n",
        "    \n",
        "    tick_length = 4\n",
        "    ax.tick_params(axis='y',which='minor', direction='in', length=tick_length)\n",
        "    \n",
        "    ax.xaxis.set_minor_locator(AutoMinorLocator(5))\n",
        "    ax.yaxis.set_minor_locator(AutoMinorLocator(5))\n",
        "      \n",
        "    ax.set_xlabel(xlabel, fontweight='bold', fontsize=18, labelpad=5)\n",
        "    ax.set_ylabel(ylabel, fontweight='bold', fontsize=18, labelpad=5)\n",
        "\n",
        "    ax.set_xlim(xmin, xmax)\n",
        "    ax.set_ylim(ymin, ymax)"
      ],
      "id": "Qc0jOumsSMZZ"
    },
    {
      "cell_type": "code",
      "execution_count": 36,
      "metadata": {
        "id": "NFg3AViJSMZa"
      },
      "outputs": [],
      "source": [
        "def add_plot_title(ax, title1, title2):\n",
        "\n",
        "    ax.annotate(title1, xy=(0, 1.15), xycoords='axes fraction', fontsize=14,\n",
        "                horizontalalignment='left', verticalalignment='top', fontweight=\"normal\")\n",
        "    ax.annotate(title2, xy=(0, 1.07), xycoords='axes fraction', fontsize=18,\n",
        "                horizontalalignment='left', verticalalignment='top', fontweight = 'bold')"
      ],
      "id": "NFg3AViJSMZa"
    },
    {
      "cell_type": "code",
      "execution_count": 37,
      "metadata": {
        "id": "PvBSgkYRSMZa"
      },
      "outputs": [],
      "source": [
        "def add_inset_label(ax, label_start, today):\n",
        "    label_text = f\"{label_start} ending {today}\"\n",
        "    ax.annotate(label_text, xy=(0.03, 0.9), xycoords='axes fraction', fontsize=12,\n",
        "                horizontalalignment='left', verticalalignment='top', fontweight=\"normal\")"
      ],
      "id": "PvBSgkYRSMZa"
    },
    {
      "cell_type": "code",
      "execution_count": 38,
      "metadata": {
        "id": "cPicC09xSMZa"
      },
      "outputs": [],
      "source": [
        "def add_sio_logo(fig, logo_file, xpos, ypos):\n",
        "\n",
        "    logo = mpimg.imread(logo_file)\n",
        "\n",
        "    fig.add_axes([xpos, ypos, 0.2, 0.2], anchor='SE', zorder=1)\n",
        "\n",
        "    plt.imshow(logo)\n",
        "    plt.axis('off')"
      ],
      "id": "cPicC09xSMZa"
    },
    {
      "cell_type": "code",
      "execution_count": 39,
      "metadata": {
        "id": "vXyucKl0SMZb"
      },
      "outputs": [],
      "source": [
        "def old_save_plot_for_website(fig, pdf_file, png_file):\n",
        "\n",
        "    # For pdf\n",
        "    width_in = 11\n",
        "    height_in = 8.5\n",
        "    fig.set_size_inches(width_in, height_in, forward=True)\n",
        "\n",
        "    plt.subplots_adjust(left=0.1, right=0.11, top=0.8, bottom=0.2)\n",
        "\n",
        "    fig.savefig(pdf_file, facecolor='w', edgecolor='w',\n",
        "                orientation='landscape', format=None,\n",
        "                transparent=False, pad_inches=0)\n",
        "\n",
        "    # For png\n",
        "    width_px = 1000\n",
        "    height_px = (height_in/width_in) * width_px\n",
        "\n",
        "    png_dpi = 100\n",
        "    fig.set_size_inches(width_px/png_dpi, height_px/png_dpi)\n",
        "\n",
        "    fig.savefig(png_file, facecolor='w', edgecolor='w',\n",
        "                orientation='landscape', dpi=png_dpi, pad_inches=0)"
      ],
      "id": "vXyucKl0SMZb"
    },
    {
      "cell_type": "code",
      "source": [
        "def save_plot_for_website(fig, pdf_file, png_file):\n",
        "\n",
        "    fig_width, fig_height = fig.get_size_inches()\n",
        "\n",
        "    # For pdf\n",
        "    width_in = 10\n",
        "    height_in = (fig_height/fig_width) * width_in\n",
        "\n",
        "    fig.set_size_inches(width_in, height_in)\n",
        "\n",
        "    # Save to a high dpi so that logo png file has a high resolution\n",
        "    fig.savefig(pdf_file, facecolor='w', edgecolor='w',\n",
        "                orientation='landscape', format=None,\n",
        "                transparent=False, bbox_inches='tight', dpi=600)\n",
        "\n",
        "    # For png\n",
        "    # Want a png of height 500px\n",
        "\n",
        "    # First save figure as a png and then scale to size needed\n",
        "\n",
        "    png_dpi = 300\n",
        "\n",
        "    fig.savefig(png_file, facecolor='w', edgecolor='w',\n",
        "                orientation='landscape', dpi=png_dpi, bbox_inches='tight')\n",
        "\n",
        "    # Now resize the image to be width 1000px for the\n",
        "    # keelingcurve website\n",
        "    img = Image.open(png_file)\n",
        "    img_width, img_height = img.size\n",
        "\n",
        "    # width_px = 1000\n",
        "    # img_scale = (width_px / img_width)\n",
        "    # height_px = int((float(img_height) * float(img_scale)))\n",
        "\n",
        "    height_px = 500\n",
        "    img_scale = (height_px / img_height)\n",
        "    width_px = int((float(img_width) * float(img_scale)))\n",
        "\n",
        "    img = img.resize((width_px, height_px), Image.ANTIALIAS)\n",
        "    img.save(png_file)\n"
      ],
      "metadata": {
        "id": "Kr4ywFG5SkwT"
      },
      "id": "Kr4ywFG5SkwT",
      "execution_count": 40,
      "outputs": []
    },
    {
      "cell_type": "markdown",
      "metadata": {
        "id": "Ajbd2KDlSMZb"
      },
      "source": [
        "## Set plot limits and labeling"
      ],
      "id": "Ajbd2KDlSMZb"
    },
    {
      "cell_type": "markdown",
      "metadata": {
        "id": "ChyM4Z91SMZb"
      },
      "source": [
        "### Functions to convert dates into various formats\n",
        "For plot limits and labeling"
      ],
      "id": "ChyM4Z91SMZb"
    },
    {
      "cell_type": "code",
      "execution_count": 41,
      "metadata": {
        "id": "Txw3emi9SMZb"
      },
      "outputs": [],
      "source": [
        "# Function to convert datetime to a float\n",
        "def dt2t(adatetime):\n",
        "    \"\"\"\n",
        "    Convert adatetime into a float. The integer part of the float should\n",
        "    represent the year.\n",
        "    Order should be preserved. If adate<bdate, then d2t(adate)<d2t(bdate)\n",
        "    time distances should be preserved: If bdate-adate=ddate-cdate then\n",
        "    dt2t(bdate)-dt2t(adate) = dt2t(ddate)-dt2t(cdate)\n",
        "    \"\"\"\n",
        "    year = adatetime.year\n",
        "    boy = datetime(year, 1, 1)\n",
        "    eoy = datetime(year + 1, 1, 1)\n",
        "    return year + ((adatetime - boy).total_seconds() / ((eoy - boy).total_seconds()))"
      ],
      "id": "Txw3emi9SMZb"
    },
    {
      "cell_type": "code",
      "execution_count": 42,
      "metadata": {
        "id": "067Uk95USMZb"
      },
      "outputs": [],
      "source": [
        "def get_todays_date_variations():\n",
        "    \n",
        "    now = datetime.now()\n",
        "    todays_decimal =  dt2t(now)\n",
        "    \n",
        "    today = date.today()\n",
        "\n",
        "    todays_day = today.day\n",
        "    todays_month = today.strftime(\"%B\")\n",
        "    todays_year = today.year\n",
        "    todays_date_moyr = today.strftime(\"%B %Y\")\n",
        "    todays_date_modyyr = f\"{todays_month} {todays_day}, {todays_year}\"\n",
        "\n",
        "    return todays_date_moyr, todays_date_modyyr, todays_decimal, todays_year"
      ],
      "id": "067Uk95USMZb"
    },
    {
      "cell_type": "code",
      "execution_count": 43,
      "metadata": {
        "id": "HBXOwLn5SMZb"
      },
      "outputs": [],
      "source": [
        "#  https://stackoverflow.com/questions/19305991/convert-fractional-years-to-a-real-date-in-python\n",
        "def t2dt(atime):\n",
        "    \"\"\"\n",
        "    Convert atime (a float) to DT.datetime\n",
        "    This is the inverse of dt2t.\n",
        "    assert dt2t(t2dt(atime)) == atime\n",
        "    \"\"\"\n",
        "    year = int(atime)\n",
        "    remainder = atime - year\n",
        "    boy = datetime(year, 1, 1)\n",
        "    eoy = datetime(year + 1, 1, 1)\n",
        "    seconds = remainder * (eoy - boy).total_seconds()\n",
        "    return boy + timedelta(seconds=seconds)"
      ],
      "id": "HBXOwLn5SMZb"
    },
    {
      "cell_type": "code",
      "execution_count": 44,
      "metadata": {
        "id": "ngsud2LmSMZb"
      },
      "outputs": [],
      "source": [
        "def get_data_end_date(date_data):\n",
        "    last_date = np.max(date_data)\n",
        "    last_date_datetime = t2dt(last_date)\n",
        "    \n",
        "    # Convert date format to month_name day, year\n",
        "    day = last_date_datetime.day\n",
        "    month = last_date_datetime.strftime(\"%B\")\n",
        "    year = last_date_datetime.year\n",
        "    date_modyyr = f\"{month} {day}, {year}\"\n",
        "    return date_modyyr"
      ],
      "id": "ngsud2LmSMZb"
    },
    {
      "cell_type": "markdown",
      "metadata": {
        "id": "ciY8cSMXSMZc"
      },
      "source": [
        "### Set titles and axes labels"
      ],
      "id": "ciY8cSMXSMZc"
    },
    {
      "cell_type": "code",
      "execution_count": 45,
      "metadata": {
        "id": "hlXhJH4CSMZc"
      },
      "outputs": [],
      "source": [
        "xlabel = ''\n",
        "ylabel = \"$\\mathregular{CO}\\\\bf{_2}$\" + \" Concentration (ppm)\"\n",
        "\n",
        "title1 = get_data_end_date(date_co2)\n",
        "title2 = 'Carbon dioxide concentration at Mauna Loa Observatory'"
      ],
      "id": "hlXhJH4CSMZc"
    },
    {
      "cell_type": "markdown",
      "metadata": {
        "id": "wj-dCD89SMZc"
      },
      "source": [
        "### Set yaxis min and max limits"
      ],
      "id": "wj-dCD89SMZc"
    },
    {
      "cell_type": "code",
      "execution_count": 46,
      "metadata": {
        "id": "nR4XHFlOSMZc"
      },
      "outputs": [],
      "source": [
        "ymin = 310\n",
        "ymax = 430"
      ],
      "id": "nR4XHFlOSMZc"
    },
    {
      "cell_type": "markdown",
      "metadata": {
        "id": "pvrPrEQOSMZc"
      },
      "source": [
        "### Set xaxis min and max limits"
      ],
      "id": "pvrPrEQOSMZc"
    },
    {
      "cell_type": "code",
      "execution_count": 47,
      "metadata": {
        "id": "ke6VdYhqSMZc"
      },
      "outputs": [],
      "source": [
        "xmin = min(date_co2)\n",
        "\n",
        "# Get current date as decimal year\n",
        "now = datetime.now()\n",
        "xmax = dt2t(now)"
      ],
      "id": "ke6VdYhqSMZc"
    },
    {
      "cell_type": "markdown",
      "metadata": {
        "id": "r1sGzbsPSMZc"
      },
      "source": [
        "## Create plot and save"
      ],
      "id": "r1sGzbsPSMZc"
    },
    {
      "cell_type": "code",
      "execution_count": 48,
      "metadata": {
        "scrolled": false,
        "colab": {
          "base_uri": "https://localhost:8080/",
          "height": 345
        },
        "id": "CIIeOudiSMZd",
        "outputId": "b38bd3e7-48b9-412c-f76c-daca52374cb3"
      },
      "outputs": [
        {
          "output_type": "display_data",
          "data": {
            "image/png": "[encoded data removed]",
            "text/plain": [
              "<Figure size 720x480 with 2 Axes>"
            ]
          },
          "metadata": {
            "needs_background": "light"
          }
        }
      ],
      "source": [
        "fig = plt.figure()\n",
        "\n",
        "# Add padding for exterior plot text\n",
        "ax = plt.axes([0.11, 0.12, 0.83, 0.54])\n",
        "\n",
        "\n",
        "# ------------------------\n",
        "# Add gradiant under curve\n",
        "# ------------------------\n",
        "\n",
        "# For gradient max, use last date of data rather than current date\n",
        "xmax_gradient = max(date_co2)\n",
        "\n",
        "#area_color = '#ACCAE6'\n",
        "#area_color = '#8CB2E0'\n",
        "area_color = '#73a7e6'\n",
        "\n",
        "gradient_fill(date_co2, co2, fill_color=area_color, xmin=xmin, xmax=xmax_gradient,\n",
        "              ymin=ymin, ymax=ymax, ax=ax, alpha_bottom=0.1, alpha=1.0)\n",
        "\n",
        "\n",
        "# -------------\n",
        "# Plot the data\n",
        "# -------------\n",
        "\n",
        "# Set plotting zorder above the gradient\n",
        "\n",
        "ax.plot(date_co2, co2, 'o', color='black',markersize=3.5, \n",
        "         markerfacecolor='black', markeredgecolor='black', markeredgewidth=0, zorder=5)\n",
        "\n",
        "ax.plot(date_co2_spline, co2_spline, '-', color='black', linewidth=0.5, zorder=4)\n",
        "\n",
        "\n",
        "# -------------------\n",
        "# Set plot properties\n",
        "# -------------------\n",
        "set_website_plot_props(ax, fig, xmin, xmax, ymin, ymax, xlabel, ylabel)\n",
        "\n",
        "# ------------------------------------------------\n",
        "# Get todays date in various formats for labeling\n",
        "# ------------------------------------------------\n",
        "todays_date_moyr, todays_date_modyyr, todays_decimal, todays_year = get_todays_date_variations()\n",
        "\n",
        "# ---------------\n",
        "# Add plot titles\n",
        "# ---------------\n",
        "add_plot_title(ax, title1, title2)\n",
        "\n",
        "# --------------\n",
        "# Add inset text\n",
        "# --------------\n",
        "add_inset_label(ax, 'Full record', todays_date_modyyr)\n",
        "\n",
        "\n",
        "# --------------------\n",
        "# Add SIO logo to plot\n",
        "# --------------------\n",
        "xpos = 0.715\n",
        "ypos = 0.155\n",
        "\n",
        "add_sio_logo(fig, logo_file, xpos, ypos)\n",
        "\n",
        "\n",
        "# ---------------------\n",
        "# Save plot for website\n",
        "# ---------------------\n",
        "fig = plt.gcf()\n",
        "\n",
        "save_plot_for_website(fig, pdf_file, png_file)\n",
        "\n",
        "\n",
        "plt.show()"
      ],
      "id": "CIIeOudiSMZd"
    },
    {
      "cell_type": "markdown",
      "source": [
        "## Download Plots (pdf & png)"
      ],
      "metadata": {
        "id": "Yr7ttY4c-Qkg"
      },
      "id": "Yr7ttY4c-Qkg"
    },
    {
      "cell_type": "code",
      "source": [
        "def download_files(ev):\n",
        "    files.download(png_file)\n",
        "    files.download(pdf_file)\n",
        "\n",
        "button = widgets.Button(description='Download Files', button_style='primary')\n",
        "button.on_click(download_files)\n",
        "display(button)"
      ],
      "metadata": {
        "colab": {
          "base_uri": "https://localhost:8080/",
          "height": 49,
          "referenced_widgets": [
            "79e739978e8c4b8dbc677c6e4a1e3d50",
            "2faf53f7b5d74b4a8823cfa6136f13f6",
            "fbb1943c592640a0a513a16bbb2acf09"
          ]
        },
        "id": "O1P3GlFP-RhH",
        "outputId": "e239d1c0-73ba-44ea-8922-9a4ae06778ad"
      },
      "id": "O1P3GlFP-RhH",
      "execution_count": 49,
      "outputs": [
        {
          "output_type": "display_data",
          "data": {
            "application/vnd.jupyter.widget-view+json": {
              "model_id": "79e739978e8c4b8dbc677c6e4a1e3d50",
              "version_minor": 0,
              "version_major": 2
            },
            "text/plain": [
              "Button(button_style='primary', description='Download Files', style=ButtonStyle())"
            ]
          },
          "metadata": {}
        },
        {
          "output_type": "display_data",
          "data": {
            "application/javascript": [
              "\n",
              "    async function download(id, filename, size) {\n",
              "      if (!google.colab.kernel.accessAllowed) {\n",
              "        return;\n",
              "      }\n",
              "      const div = document.createElement('div');\n",
              "      const label = document.createElement('label');\n",
              "      label.textContent = `Downloading \"${filename}\": `;\n",
              "      div.appendChild(label);\n",
              "      const progress = document.createElement('progress');\n",
              "      progress.max = size;\n",
              "      div.appendChild(progress);\n",
              "      document.body.appendChild(div);\n",
              "\n",
              "      const buffers = [];\n",
              "      let downloaded = 0;\n",
              "\n",
              "      const channel = await google.colab.kernel.comms.open(id);\n",
              "      // Send a message to notify the kernel that we're ready.\n",
              "      channel.send({})\n",
              "\n",
              "      for await (const message of channel.messages) {\n",
              "        // Send a message to notify the kernel that we're ready.\n",
              "        channel.send({})\n",
              "        if (message.buffers) {\n",
              "          for (const buffer of message.buffers) {\n",
              "            buffers.push(buffer);\n",
              "            downloaded += buffer.byteLength;\n",
              "            progress.value = downloaded;\n",
              "          }\n",
              "        }\n",
              "      }\n",
              "      const blob = new Blob(buffers, {type: 'application/binary'});\n",
              "      const a = document.createElement('a');\n",
              "      a.href = window.URL.createObjectURL(blob);\n",
              "      a.download = filename;\n",
              "      div.appendChild(a);\n",
              "      a.click();\n",
              "      div.remove();\n",
              "    }\n",
              "  "
            ],
            "text/plain": [
              "<IPython.core.display.Javascript object>"
            ]
          },
          "metadata": {}
        },
        {
          "output_type": "display_data",
          "data": {
            "application/javascript": [
              "download(\"download_f3c97379-5168-48eb-86c1-e26736c81c72\", \"mlo_full_record.png\", 199465)"
            ],
            "text/plain": [
              "<IPython.core.display.Javascript object>"
            ]
          },
          "metadata": {}
        },
        {
          "output_type": "display_data",
          "data": {
            "application/javascript": [
              "\n",
              "    async function download(id, filename, size) {\n",
              "      if (!google.colab.kernel.accessAllowed) {\n",
              "        return;\n",
              "      }\n",
              "      const div = document.createElement('div');\n",
              "      const label = document.createElement('label');\n",
              "      label.textContent = `Downloading \"${filename}\": `;\n",
              "      div.appendChild(label);\n",
              "      const progress = document.createElement('progress');\n",
              "      progress.max = size;\n",
              "      div.appendChild(progress);\n",
              "      document.body.appendChild(div);\n",
              "\n",
              "      const buffers = [];\n",
              "      let downloaded = 0;\n",
              "\n",
              "      const channel = await google.colab.kernel.comms.open(id);\n",
              "      // Send a message to notify the kernel that we're ready.\n",
              "      channel.send({})\n",
              "\n",
              "      for await (const message of channel.messages) {\n",
              "        // Send a message to notify the kernel that we're ready.\n",
              "        channel.send({})\n",
              "        if (message.buffers) {\n",
              "          for (const buffer of message.buffers) {\n",
              "            buffers.push(buffer);\n",
              "            downloaded += buffer.byteLength;\n",
              "            progress.value = downloaded;\n",
              "          }\n",
              "        }\n",
              "      }\n",
              "      const blob = new Blob(buffers, {type: 'application/binary'});\n",
              "      const a = document.createElement('a');\n",
              "      a.href = window.URL.createObjectURL(blob);\n",
              "      a.download = filename;\n",
              "      div.appendChild(a);\n",
              "      a.click();\n",
              "      div.remove();\n",
              "    }\n",
              "  "
            ],
            "text/plain": [
              "<IPython.core.display.Javascript object>"
            ]
          },
          "metadata": {}
        },
        {
          "output_type": "display_data",
          "data": {
            "application/javascript": [
              "download(\"download_7298e833-de12-48cd-9a79-bb6022caa79a\", \"mlo_full_record.pdf\", 880461)"
            ],
            "text/plain": [
              "<IPython.core.display.Javascript object>"
            ]
          },
          "metadata": {}
        },
        {
          "output_type": "display_data",
          "data": {
            "application/javascript": [
              "\n",
              "    async function download(id, filename, size) {\n",
              "      if (!google.colab.kernel.accessAllowed) {\n",
              "        return;\n",
              "      }\n",
              "      const div = document.createElement('div');\n",
              "      const label = document.createElement('label');\n",
              "      label.textContent = `Downloading \"${filename}\": `;\n",
              "      div.appendChild(label);\n",
              "      const progress = document.createElement('progress');\n",
              "      progress.max = size;\n",
              "      div.appendChild(progress);\n",
              "      document.body.appendChild(div);\n",
              "\n",
              "      const buffers = [];\n",
              "      let downloaded = 0;\n",
              "\n",
              "      const channel = await google.colab.kernel.comms.open(id);\n",
              "      // Send a message to notify the kernel that we're ready.\n",
              "      channel.send({})\n",
              "\n",
              "      for await (const message of channel.messages) {\n",
              "        // Send a message to notify the kernel that we're ready.\n",
              "        channel.send({})\n",
              "        if (message.buffers) {\n",
              "          for (const buffer of message.buffers) {\n",
              "            buffers.push(buffer);\n",
              "            downloaded += buffer.byteLength;\n",
              "            progress.value = downloaded;\n",
              "          }\n",
              "        }\n",
              "      }\n",
              "      const blob = new Blob(buffers, {type: 'application/binary'});\n",
              "      const a = document.createElement('a');\n",
              "      a.href = window.URL.createObjectURL(blob);\n",
              "      a.download = filename;\n",
              "      div.appendChild(a);\n",
              "      a.click();\n",
              "      div.remove();\n",
              "    }\n",
              "  "
            ],
            "text/plain": [
              "<IPython.core.display.Javascript object>"
            ]
          },
          "metadata": {}
        },
        {
          "output_type": "display_data",
          "data": {
            "application/javascript": [
              "download(\"download_87d8905c-155d-4036-83e5-a412c9cd88e5\", \"mlo_full_record.png\", 199465)"
            ],
            "text/plain": [
              "<IPython.core.display.Javascript object>"
            ]
          },
          "metadata": {}
        },
        {
          "output_type": "display_data",
          "data": {
            "application/javascript": [
              "\n",
              "    async function download(id, filename, size) {\n",
              "      if (!google.colab.kernel.accessAllowed) {\n",
              "        return;\n",
              "      }\n",
              "      const div = document.createElement('div');\n",
              "      const label = document.createElement('label');\n",
              "      label.textContent = `Downloading \"${filename}\": `;\n",
              "      div.appendChild(label);\n",
              "      const progress = document.createElement('progress');\n",
              "      progress.max = size;\n",
              "      div.appendChild(progress);\n",
              "      document.body.appendChild(div);\n",
              "\n",
              "      const buffers = [];\n",
              "      let downloaded = 0;\n",
              "\n",
              "      const channel = await google.colab.kernel.comms.open(id);\n",
              "      // Send a message to notify the kernel that we're ready.\n",
              "      channel.send({})\n",
              "\n",
              "      for await (const message of channel.messages) {\n",
              "        // Send a message to notify the kernel that we're ready.\n",
              "        channel.send({})\n",
              "        if (message.buffers) {\n",
              "          for (const buffer of message.buffers) {\n",
              "            buffers.push(buffer);\n",
              "            downloaded += buffer.byteLength;\n",
              "            progress.value = downloaded;\n",
              "          }\n",
              "        }\n",
              "      }\n",
              "      const blob = new Blob(buffers, {type: 'application/binary'});\n",
              "      const a = document.createElement('a');\n",
              "      a.href = window.URL.createObjectURL(blob);\n",
              "      a.download = filename;\n",
              "      div.appendChild(a);\n",
              "      a.click();\n",
              "      div.remove();\n",
              "    }\n",
              "  "
            ],
            "text/plain": [
              "<IPython.core.display.Javascript object>"
            ]
          },
          "metadata": {}
        },
        {
          "output_type": "display_data",
          "data": {
            "application/javascript": [
              "download(\"download_fd06a44a-da5f-4a5d-a18c-78f6e02a529b\", \"mlo_full_record.pdf\", 880461)"
            ],
            "text/plain": [
              "<IPython.core.display.Javascript object>"
            ]
          },
          "metadata": {}
        },
        {
          "output_type": "display_data",
          "data": {
            "application/javascript": [
              "\n",
              "    async function download(id, filename, size) {\n",
              "      if (!google.colab.kernel.accessAllowed) {\n",
              "        return;\n",
              "      }\n",
              "      const div = document.createElement('div');\n",
              "      const label = document.createElement('label');\n",
              "      label.textContent = `Downloading \"${filename}\": `;\n",
              "      div.appendChild(label);\n",
              "      const progress = document.createElement('progress');\n",
              "      progress.max = size;\n",
              "      div.appendChild(progress);\n",
              "      document.body.appendChild(div);\n",
              "\n",
              "      const buffers = [];\n",
              "      let downloaded = 0;\n",
              "\n",
              "      const channel = await google.colab.kernel.comms.open(id);\n",
              "      // Send a message to notify the kernel that we're ready.\n",
              "      channel.send({})\n",
              "\n",
              "      for await (const message of channel.messages) {\n",
              "        // Send a message to notify the kernel that we're ready.\n",
              "        channel.send({})\n",
              "        if (message.buffers) {\n",
              "          for (const buffer of message.buffers) {\n",
              "            buffers.push(buffer);\n",
              "            downloaded += buffer.byteLength;\n",
              "            progress.value = downloaded;\n",
              "          }\n",
              "        }\n",
              "      }\n",
              "      const blob = new Blob(buffers, {type: 'application/binary'});\n",
              "      const a = document.createElement('a');\n",
              "      a.href = window.URL.createObjectURL(blob);\n",
              "      a.download = filename;\n",
              "      div.appendChild(a);\n",
              "      a.click();\n",
              "      div.remove();\n",
              "    }\n",
              "  "
            ],
            "text/plain": [
              "<IPython.core.display.Javascript object>"
            ]
          },
          "metadata": {}
        },
        {
          "output_type": "display_data",
          "data": {
            "application/javascript": [
              "download(\"download_6612fe9d-acec-4fdc-84ea-049b67def6e3\", \"mlo_full_record.png\", 199465)"
            ],
            "text/plain": [
              "<IPython.core.display.Javascript object>"
            ]
          },
          "metadata": {}
        },
        {
          "output_type": "display_data",
          "data": {
            "application/javascript": [
              "\n",
              "    async function download(id, filename, size) {\n",
              "      if (!google.colab.kernel.accessAllowed) {\n",
              "        return;\n",
              "      }\n",
              "      const div = document.createElement('div');\n",
              "      const label = document.createElement('label');\n",
              "      label.textContent = `Downloading \"${filename}\": `;\n",
              "      div.appendChild(label);\n",
              "      const progress = document.createElement('progress');\n",
              "      progress.max = size;\n",
              "      div.appendChild(progress);\n",
              "      document.body.appendChild(div);\n",
              "\n",
              "      const buffers = [];\n",
              "      let downloaded = 0;\n",
              "\n",
              "      const channel = await google.colab.kernel.comms.open(id);\n",
              "      // Send a message to notify the kernel that we're ready.\n",
              "      channel.send({})\n",
              "\n",
              "      for await (const message of channel.messages) {\n",
              "        // Send a message to notify the kernel that we're ready.\n",
              "        channel.send({})\n",
              "        if (message.buffers) {\n",
              "          for (const buffer of message.buffers) {\n",
              "            buffers.push(buffer);\n",
              "            downloaded += buffer.byteLength;\n",
              "            progress.value = downloaded;\n",
              "          }\n",
              "        }\n",
              "      }\n",
              "      const blob = new Blob(buffers, {type: 'application/binary'});\n",
              "      const a = document.createElement('a');\n",
              "      a.href = window.URL.createObjectURL(blob);\n",
              "      a.download = filename;\n",
              "      div.appendChild(a);\n",
              "      a.click();\n",
              "      div.remove();\n",
              "    }\n",
              "  "
            ],
            "text/plain": [
              "<IPython.core.display.Javascript object>"
            ]
          },
          "metadata": {}
        },
        {
          "output_type": "display_data",
          "data": {
            "application/javascript": [
              "download(\"download_fc925e85-65f9-482e-8d78-b15760967e14\", \"mlo_full_record.pdf\", 880461)"
            ],
            "text/plain": [
              "<IPython.core.display.Javascript object>"
            ]
          },
          "metadata": {}
        }
      ]
    },
    {
      "cell_type": "markdown",
      "source": [
        "# Create animation of the plot"
      ],
      "metadata": {
        "id": "AZ8m2l1R-oYp"
      },
      "id": "AZ8m2l1R-oYp"
    },
    {
      "cell_type": "code",
      "source": [
        "# First set up the figure, the axis, and the plot element we want to animate\n",
        "fig,ax = plt.subplots(1, 1, figsize = (10, 6))\n",
        "\n",
        "ax.set_xlim(xmin, xmax)\n",
        "ax.set_ylim(ymin, ymax)\n",
        "\n",
        "line, = ax.plot([], [], lw=2)\n",
        "\n",
        "# initialization function: plot the background of each frame\n",
        "def init():\n",
        "    line.set_data([], [])\n",
        "    return line,\n",
        "\n",
        "# animation function.  This is called sequentially\n",
        "def animate(i):\n",
        "    line.set_data(date_co2_spline[:i], co2_spline[:i])\n",
        "    return line,\n",
        "\n",
        "# call the animator.  blit=True means only re-draw the parts that have changed.\n",
        "anim = animation.FuncAnimation(fig, animate, init_func=init,\n",
        "                               frames = len(date_co2_spline) + 1, interval=5, blit=True)\n",
        "\n",
        "# Close plot so it isn't displayed\n",
        "plt.close()"
      ],
      "metadata": {
        "id": "ydBNKCSQ-apW"
      },
      "id": "ydBNKCSQ-apW",
      "execution_count": 50,
      "outputs": []
    },
    {
      "cell_type": "markdown",
      "source": [
        "## Save the animation (It takes awhile to create)"
      ],
      "metadata": {
        "id": "ekqNoAF-_CTQ"
      },
      "id": "ekqNoAF-_CTQ"
    },
    {
      "cell_type": "code",
      "source": [
        "# save the animation as an mp4.  This requires ffmpeg or mencoder to be\n",
        "# installed.  The extra_args ensure that the x264 codec is used, so that\n",
        "# the video can be embedded in html5.  You may need to adjust this for\n",
        "# your system: for more information, see\n",
        "# http://matplotlib.sourceforge.net/api/animation_api.html\n",
        "#anim.save('basic_animation.mp4', fps=30, extra_args=['-vcodec', 'libx264'])\n",
        "\n",
        "\n",
        "anim.save('mlo_anim.mp4')"
      ],
      "metadata": {
        "id": "kKROOvva_EPu"
      },
      "id": "kKROOvva_EPu",
      "execution_count": 51,
      "outputs": []
    },
    {
      "cell_type": "markdown",
      "source": [
        "## Load animation and press play"
      ],
      "metadata": {
        "id": "I82-PNA4_M2_"
      },
      "id": "I82-PNA4_M2_"
    },
    {
      "cell_type": "code",
      "source": [
        "mlo_animation = mp4 = open('mlo_anim.mp4','rb').read()\n",
        "\n",
        "data_url = \"data:video/mp4;base64,\" + b64encode(mlo_animation).decode()\n",
        "HTML(\"\"\"\n",
        "<video width=800 controls>\n",
        "      <source src=\"%s\" type=\"video/mp4\">\n",
        "</video>\n",
        "\"\"\" % data_url)"
      ],
      "metadata": {
        "colab": {
          "base_uri": "https://localhost:8080/",
          "height": 501
        },
        "id": "Akg6ltww_Nko",
        "outputId": "f7843390-e053-4dbe-f283-2e9599a226c2"
      },
      "id": "Akg6ltww_Nko",
      "execution_count": 52,
      "outputs": [
        {
          "output_type": "execute_result",
          "data": {
            "text/html": [
              "\n",
              "<video width=800 controls>\n",
              "      <source src=\"data:video/mp4;base64,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\" type=\"video/mp4\">\n",
              "</video>\n"
            ],
            "text/plain": [
              "<IPython.core.display.HTML object>"
            ]
          },
          "metadata": {},
          "execution_count": 52
        }
      ]
    }
  ],
  "metadata": {
    "kernelspec": {
      "display_name": "Python 3 (ipykernel)",
      "language": "python",
      "name": "python3"
    },
    "language_info": {
      "codemirror_mode": {
        "name": "ipython",
        "version": 3
      },
      "file_extension": ".py",
      "mimetype": "text/x-python",
      "name": "python",
      "nbconvert_exporter": "python",
      "pygments_lexer": "ipython3",
      "version": "3.8.10"
    },
    "colab": {
      "name": "plot_full_mlo_record_keelingcurve.ipynb",
      "provenance": [],
      "collapsed_sections": [],
      "include_colab_link": true
    },
    "widgets": {
      "application/vnd.jupyter.widget-state+json": {
        "79e739978e8c4b8dbc677c6e4a1e3d50": {
          "model_module": "@jupyter-widgets/controls",
          "model_name": "ButtonModel",
          "model_module_version": "1.5.0",
          "state": {
            "_view_name": "ButtonView",
            "style": "IPY_MODEL_2faf53f7b5d74b4a8823cfa6136f13f6",
            "_dom_classes": [],
            "description": "Download Files",
            "_model_name": "ButtonModel",
            "button_style": "primary",
            "_view_module": "@jupyter-widgets/controls",
            "_model_module_version": "1.5.0",
            "tooltip": "",
            "_view_count": null,
            "disabled": false,
            "_view_module_version": "1.5.0",
            "layout": "IPY_MODEL_fbb1943c592640a0a513a16bbb2acf09",
            "_model_module": "@jupyter-widgets/controls",
            "icon": ""
          }
        },
        "2faf53f7b5d74b4a8823cfa6136f13f6": {
          "model_module": "@jupyter-widgets/controls",
          "model_name": "ButtonStyleModel",
          "model_module_version": "1.5.0",
          "state": {
            "_view_name": "StyleView",
            "_model_name": "ButtonStyleModel",
            "_view_module": "@jupyter-widgets/base",
            "_model_module_version": "1.5.0",
            "_view_count": null,
            "button_color": null,
            "font_weight": "",
            "_view_module_version": "1.2.0",
            "_model_module": "@jupyter-widgets/controls"
          }
        },
        "fbb1943c592640a0a513a16bbb2acf09": {
          "model_module": "@jupyter-widgets/base",
          "model_name": "LayoutModel",
          "model_module_version": "1.2.0",
          "state": {
            "_view_name": "LayoutView",
            "grid_template_rows": null,
            "right": null,
            "justify_content": null,
            "_view_module": "@jupyter-widgets/base",
            "overflow": null,
            "_model_module_version": "1.2.0",
            "_view_count": null,
            "flex_flow": null,
            "width": null,
            "min_width": null,
            "border": null,
            "align_items": null,
            "bottom": null,
            "_model_module": "@jupyter-widgets/base",
            "top": null,
            "grid_column": null,
            "overflow_y": null,
            "overflow_x": null,
            "grid_auto_flow": null,
            "grid_area": null,
            "grid_template_columns": null,
            "flex": null,
            "_model_name": "LayoutModel",
            "justify_items": null,
            "grid_row": null,
            "max_height": null,
            "align_content": null,
            "visibility": null,
            "align_self": null,
            "height": null,
            "min_height": null,
            "padding": null,
            "grid_auto_rows": null,
            "grid_gap": null,
            "max_width": null,
            "order": null,
            "_view_module_version": "1.2.0",
            "grid_template_areas": null,
            "object_position": null,
            "object_fit": null,
            "grid_auto_columns": null,
            "margin": null,
            "display": null,
            "left": null
          }
        }
      }
    }
  },
  "nbformat": 4,
  "nbformat_minor": 5
}