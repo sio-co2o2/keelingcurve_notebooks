{
  "cells": [
    {
      "cell_type": "markdown",
      "metadata": {
        "id": "view-in-github",
        "colab_type": "text"
      },
      "source": [
        "<a href=\"https://colab.research.google.com/github/sio-co2o2/keelingcurve_notebooks/blob/main/plot_icecore_start_1700_ce_keelingcurve.ipynb\" target=\"_parent\"><img src=\"https://colab.research.google.com/assets/colab-badge.svg\" alt=\"Open In Colab\"/></a>"
      ]
    },
    {
      "cell_type": "markdown",
      "source": [
        "# Plot  icecore CO2 starting in 1700 to 1958 and MLO after"
      ],
      "metadata": {
        "id": "tZwGLrnA1TGq"
      },
      "id": "tZwGLrnA1TGq"
    },
    {
      "cell_type": "markdown",
      "source": [
        "### The Keeling Curve\n",
        "https://keelingcurve.ucsd.edu\n",
        "\n",
        "This notebook creates pdf and png plot versions."
      ],
      "metadata": {
        "id": "tsfII0_a1TGu"
      },
      "id": "tsfII0_a1TGu"
    },
    {
      "cell_type": "markdown",
      "source": [
        "## Import packages"
      ],
      "metadata": {
        "id": "GB3thR0x1TGv"
      },
      "id": "GB3thR0x1TGv"
    },
    {
      "cell_type": "code",
      "execution_count": null,
      "source": [
        "import requests\n",
        "import re\n",
        "import pandas as pd\n",
        "import numpy as np\n",
        "from scipy import interpolate\n",
        "from datetime import datetime, date, timedelta\n",
        "from dateutil.relativedelta import relativedelta\n",
        "import pathlib\n",
        "import matplotlib.image as mpimg\n",
        "import matplotlib.pyplot as plt\n",
        "from matplotlib.pyplot import figure\n",
        "from matplotlib.ticker import (MultipleLocator, AutoMinorLocator)\n",
        "from matplotlib import ticker\n",
        "from matplotlib import rc,rcParams\n",
        "from matplotlib.path import Path\n",
        "import matplotlib.colors as mcolors\n",
        "from matplotlib.patches import Polygon\n",
        "import matplotlib.dates as mdates\n",
        "import matplotlib.lines as mlines\n",
        "import matplotlib.transforms\n",
        "from google.colab import files\n",
        "from matplotlib import animation\n",
        "from ipywidgets import widgets\n",
        "from IPython.display import HTML\n",
        "from base64 import b64encode\n",
        "\n",
        "%matplotlib inline"
      ],
      "outputs": [],
      "metadata": {
        "id": "J_bLm2xK1TGv"
      },
      "id": "J_bLm2xK1TGv"
    },
    {
      "cell_type": "markdown",
      "source": [
        "## Set directories and file names for data,  plot, and logo"
      ],
      "metadata": {
        "id": "OdJ-84Bj1TGx"
      },
      "id": "OdJ-84Bj1TGx"
    },
    {
      "cell_type": "code",
      "execution_count": null,
      "source": [
        "# Get MLO data from the keelingcurve_notebooks github repository\n",
        "mlo_data_file = 'https://raw.githubusercontent.com/sio-co2o2/keelingcurve_notebooks/main/data/mlo/mlo_full_record_now_span.csv'\n",
        "\n",
        "# Get the icecore dataset back 2K years located at\n",
        "# the site: https://www.ncei.noaa.gov/access/paleo-search/study/9959\n",
        "# the file: https://www.ncei.noaa.gov/pub/data/paleo/icecore/antarctica/law/law2006.txt\n",
        "# with a reference to the journal article at https://doi.org/10.1029/2006GL026152\n",
        "icecore_url = 'https://www.ncei.noaa.gov/pub/data/paleo/icecore/antarctica/law/law2006.txt'\n",
        "\n",
        "logo_file = 'https://github.com/sio-co2o2/keelingcurve_notebooks/raw/main/images/sio_logo.png'\n",
        "\n",
        "plot_dir = pathlib.Path('./plots')\n",
        "plot_dir.mkdir(exist_ok=True)\n",
        "\n",
        "plot_basename = 'co2_2k_ce'\n",
        "\n",
        "pdf_file = plot_dir / f\"{plot_basename}.pdf\"\n",
        "png_file = plot_dir / f\"{plot_basename}.png\""
      ],
      "outputs": [],
      "metadata": {
        "id": "CstkkjX41TGx"
      },
      "id": "CstkkjX41TGx"
    },
    {
      "cell_type": "markdown",
      "source": [
        "## Load in Data and process"
      ],
      "metadata": {
        "id": "m7TM-Gjd1TGy"
      },
      "id": "m7TM-Gjd1TGy"
    },
    {
      "cell_type": "markdown",
      "source": [
        "### Read in MLO record"
      ],
      "metadata": {
        "id": "JI9z5hB91TGz"
      },
      "id": "JI9z5hB91TGz"
    },
    {
      "cell_type": "code",
      "execution_count": null,
      "source": [
        "df_mlo = pd.read_csv(mlo_data_file, sep=',', comment='\"')\n",
        "df_mlo.head()"
      ],
      "outputs": [
        {
          "output_type": "execute_result",
          "data": {
            "text/html": [
              "\n",
              "  <div id=\"df-f6ad60d4-ccc1-4567-b2a9-f5e76af1ccd2\">\n",
              "    <div class=\"colab-df-container\">\n",
              "      <div>\n",
              "<style scoped>\n",
              "    .dataframe tbody tr th:only-of-type {\n",
              "        vertical-align: middle;\n",
              "    }\n",
              "\n",
              "    .dataframe tbody tr th {\n",
              "        vertical-align: top;\n",
              "    }\n",
              "\n",
              "    .dataframe thead th {\n",
              "        text-align: right;\n",
              "    }\n",
              "</style>\n",
              "<table border=\"1\" class=\"dataframe\">\n",
              "  <thead>\n",
              "    <tr style=\"text-align: right;\">\n",
              "      <th></th>\n",
              "      <th>date</th>\n",
              "      <th>co2</th>\n",
              "      <th>date_seas_adj</th>\n",
              "      <th>co2_seas_adj</th>\n",
              "      <th>date_spl</th>\n",
              "      <th>co2_spl</th>\n",
              "      <th>date_seas_adj_spl</th>\n",
              "      <th>co2_seas_adj_spl</th>\n",
              "    </tr>\n",
              "  </thead>\n",
              "  <tbody>\n",
              "    <tr>\n",
              "      <th>0</th>\n",
              "      <td>1958.202740</td>\n",
              "      <td>315.70</td>\n",
              "      <td>1958.202740</td>\n",
              "      <td>314.43</td>\n",
              "      <td>1958.202740</td>\n",
              "      <td>316.20</td>\n",
              "      <td>1958.202740</td>\n",
              "      <td>314.91</td>\n",
              "    </tr>\n",
              "    <tr>\n",
              "      <th>1</th>\n",
              "      <td>1958.287671</td>\n",
              "      <td>317.45</td>\n",
              "      <td>1958.287671</td>\n",
              "      <td>315.16</td>\n",
              "      <td>1958.287671</td>\n",
              "      <td>317.30</td>\n",
              "      <td>1958.287671</td>\n",
              "      <td>314.99</td>\n",
              "    </tr>\n",
              "    <tr>\n",
              "      <th>2</th>\n",
              "      <td>1958.369863</td>\n",
              "      <td>317.51</td>\n",
              "      <td>1958.369863</td>\n",
              "      <td>314.71</td>\n",
              "      <td>1958.369863</td>\n",
              "      <td>317.87</td>\n",
              "      <td>1958.369863</td>\n",
              "      <td>315.07</td>\n",
              "    </tr>\n",
              "    <tr>\n",
              "      <th>3</th>\n",
              "      <td>1958.536986</td>\n",
              "      <td>315.86</td>\n",
              "      <td>1958.536986</td>\n",
              "      <td>315.20</td>\n",
              "      <td>1958.454795</td>\n",
              "      <td>317.25</td>\n",
              "      <td>1958.454795</td>\n",
              "      <td>315.15</td>\n",
              "    </tr>\n",
              "    <tr>\n",
              "      <th>4</th>\n",
              "      <td>1958.621918</td>\n",
              "      <td>314.93</td>\n",
              "      <td>1958.621918</td>\n",
              "      <td>316.20</td>\n",
              "      <td>1958.536986</td>\n",
              "      <td>315.86</td>\n",
              "      <td>1958.536986</td>\n",
              "      <td>315.22</td>\n",
              "    </tr>\n",
              "  </tbody>\n",
              "</table>\n",
              "</div>\n",
              "      <button class=\"colab-df-convert\" onclick=\"convertToInteractive('df-f6ad60d4-ccc1-4567-b2a9-f5e76af1ccd2')\"\n",
              "              title=\"Convert this dataframe to an interactive table.\"\n",
              "              style=\"display:none;\">\n",
              "        \n",
              "  <svg xmlns=\"http://www.w3.org/2000/svg\" height=\"24px\"viewBox=\"0 0 24 24\"\n",
              "       width=\"24px\">\n",
              "    <path d=\"M0 0h24v24H0V0z\" fill=\"none\"/>\n",
              "    <path d=\"M18.56 5.44l.94 2.06.94-2.06 2.06-.94-2.06-.94-.94-2.06-.94 2.06-2.06.94zm-11 1L8.5 8.5l.94-2.06 2.06-.94-2.06-.94L8.5 2.5l-.94 2.06-2.06.94zm10 10l.94 2.06.94-2.06 2.06-.94-2.06-.94-.94-2.06-.94 2.06-2.06.94z\"/><path d=\"M17.41 7.96l-1.37-1.37c-.4-.4-.92-.59-1.43-.59-.52 0-1.04.2-1.43.59L10.3 9.45l-7.72 7.72c-.78.78-.78 2.05 0 2.83L4 21.41c.39.39.9.59 1.41.59.51 0 1.02-.2 1.41-.59l7.78-7.78 2.81-2.81c.8-.78.8-2.07 0-2.86zM5.41 20L4 18.59l7.72-7.72 1.47 1.35L5.41 20z\"/>\n",
              "  </svg>\n",
              "      </button>\n",
              "      \n",
              "  <style>\n",
              "    .colab-df-container {\n",
              "      display:flex;\n",
              "      flex-wrap:wrap;\n",
              "      gap: 12px;\n",
              "    }\n",
              "\n",
              "    .colab-df-convert {\n",
              "      background-color: #E8F0FE;\n",
              "      border: none;\n",
              "      border-radius: 50%;\n",
              "      cursor: pointer;\n",
              "      display: none;\n",
              "      fill: #1967D2;\n",
              "      height: 32px;\n",
              "      padding: 0 0 0 0;\n",
              "      width: 32px;\n",
              "    }\n",
              "\n",
              "    .colab-df-convert:hover {\n",
              "      background-color: #E2EBFA;\n",
              "      box-shadow: 0px 1px 2px rgba(60, 64, 67, 0.3), 0px 1px 3px 1px rgba(60, 64, 67, 0.15);\n",
              "      fill: #174EA6;\n",
              "    }\n",
              "\n",
              "    [theme=dark] .colab-df-convert {\n",
              "      background-color: #3B4455;\n",
              "      fill: #D2E3FC;\n",
              "    }\n",
              "\n",
              "    [theme=dark] .colab-df-convert:hover {\n",
              "      background-color: #434B5C;\n",
              "      box-shadow: 0px 1px 3px 1px rgba(0, 0, 0, 0.15);\n",
              "      filter: drop-shadow(0px 1px 2px rgba(0, 0, 0, 0.3));\n",
              "      fill: #FFFFFF;\n",
              "    }\n",
              "  </style>\n",
              "\n",
              "      <script>\n",
              "        const buttonEl =\n",
              "          document.querySelector('#df-f6ad60d4-ccc1-4567-b2a9-f5e76af1ccd2 button.colab-df-convert');\n",
              "        buttonEl.style.display =\n",
              "          google.colab.kernel.accessAllowed ? 'block' : 'none';\n",
              "\n",
              "        async function convertToInteractive(key) {\n",
              "          const element = document.querySelector('#df-f6ad60d4-ccc1-4567-b2a9-f5e76af1ccd2');\n",
              "          const dataTable =\n",
              "            await google.colab.kernel.invokeFunction('convertToInteractive',\n",
              "                                                     [key], {});\n",
              "          if (!dataTable) return;\n",
              "\n",
              "          const docLinkHtml = 'Like what you see? Visit the ' +\n",
              "            '<a target=\"_blank\" href=https://colab.research.google.com/notebooks/data_table.ipynb>data table notebook</a>'\n",
              "            + ' to learn more about interactive tables.';\n",
              "          element.innerHTML = '';\n",
              "          dataTable['output_type'] = 'display_data';\n",
              "          await google.colab.output.renderOutput(dataTable, element);\n",
              "          const docLink = document.createElement('div');\n",
              "          docLink.innerHTML = docLinkHtml;\n",
              "          element.appendChild(docLink);\n",
              "        }\n",
              "      </script>\n",
              "    </div>\n",
              "  </div>\n",
              "  "
            ],
            "text/plain": [
              "          date     co2  ...  date_seas_adj_spl  co2_seas_adj_spl\n",
              "0  1958.202740  315.70  ...        1958.202740            314.91\n",
              "1  1958.287671  317.45  ...        1958.287671            314.99\n",
              "2  1958.369863  317.51  ...        1958.369863            315.07\n",
              "3  1958.536986  315.86  ...        1958.454795            315.15\n",
              "4  1958.621918  314.93  ...        1958.536986            315.22\n",
              "\n",
              "[5 rows x 8 columns]"
            ]
          },
          "metadata": {},
          "execution_count": 131
        }
      ],
      "metadata": {
        "colab": {
          "base_uri": "https://localhost:8080/",
          "height": 206
        },
        "id": "ImYHaA9q1TGz",
        "outputId": "70f360f7-882b-4360-aa16-ca7e4fe1056e"
      },
      "id": "ImYHaA9q1TGz"
    },
    {
      "cell_type": "markdown",
      "source": [
        "### Get MLO Seasonally adjusted data"
      ],
      "metadata": {
        "id": "8iqUEhGQ1TG0"
      },
      "id": "8iqUEhGQ1TG0"
    },
    {
      "cell_type": "code",
      "execution_count": null,
      "source": [
        "df_mlo = df_mlo[['date_seas_adj', 'co2_seas_adj']].copy()"
      ],
      "outputs": [],
      "metadata": {
        "id": "H_zFLzwP1TG1"
      },
      "id": "H_zFLzwP1TG1"
    },
    {
      "cell_type": "markdown",
      "source": [
        "### Remove rows with fill values NaN"
      ],
      "metadata": {
        "id": "k37saLN71TG2"
      },
      "id": "k37saLN71TG2"
    },
    {
      "cell_type": "code",
      "execution_count": null,
      "source": [
        "df_mlo = df_mlo.dropna()"
      ],
      "outputs": [],
      "metadata": {
        "scrolled": true,
        "id": "O1hJBlfu1TG2"
      },
      "id": "O1hJBlfu1TG2"
    },
    {
      "cell_type": "markdown",
      "source": [
        "### Convert to numpy arrays to use for labeling relevant years in the plot"
      ],
      "metadata": {
        "id": "ZBL0BKh11TG2"
      },
      "id": "ZBL0BKh11TG2"
    },
    {
      "cell_type": "code",
      "execution_count": null,
      "source": [
        "mlo_date = df_mlo['date_seas_adj'].to_numpy()\n",
        "mlo_co2 = df_mlo['co2_seas_adj'].to_numpy()"
      ],
      "outputs": [],
      "metadata": {
        "id": "rKom02xy1TG3"
      },
      "id": "rKom02xy1TG3"
    },
    {
      "cell_type": "markdown",
      "source": [
        "### Read in the icecore record"
      ],
      "metadata": {
        "id": "jjzux5aw4IuG"
      },
      "id": "jjzux5aw4IuG"
    },
    {
      "cell_type": "code",
      "source": [
        "response = requests.get(icecore_url)\n",
        "file_text = response.text\n",
        "text_lines = file_text.split('\\n')"
      ],
      "metadata": {
        "id": "QF57-Yeu4ONK"
      },
      "id": "QF57-Yeu4ONK",
      "execution_count": null,
      "outputs": []
    },
    {
      "cell_type": "markdown",
      "source": [
        "#### Use data from section 2 of law2006.txt: \"CO2 by Core\"\n",
        "\n",
        "**Section to start with**\n",
        "\n",
        "2\\. CO2 by Core \n",
        "\n",
        "Gas age, Year AD \n",
        "\n",
        "SampleType   CO2gasAge  CO2(ppm)  Publication status\n",
        "\n",
        "\n",
        "**Section to stop at**\n",
        "\n",
        "3\\. CO2 by Age "
      ],
      "metadata": {
        "id": "8EuTVm0y4r9Y"
      },
      "id": "8EuTVm0y4r9Y"
    },
    {
      "cell_type": "code",
      "source": [
        "start_section = [i for i in range(len(text_lines))\n",
        "               if text_lines[i].startswith('2. CO2 by Core')][0]\n",
        "\n",
        "end_section = [i for i in range(len(text_lines))\n",
        "             if text_lines[i].startswith('3. CO2 by Age ')][0]\n",
        "\n",
        "section_lines = text_lines[start_section: end_section]\n",
        "\n",
        "# start data selection after line \"SampleType   CO2gasAge  CO2(ppm)  Publication status\"\n",
        "header_end = [i for i in range(len(section_lines))\n",
        "              if section_lines[i].startswith('SampleType')][0]\n",
        "\n",
        "start_data = header_end + 1\n",
        "\n",
        "data_lines = section_lines[start_data: end_section]\n",
        "\n",
        "data_lines[1:10]"
      ],
      "metadata": {
        "colab": {
          "base_uri": "https://localhost:8080/"
        },
        "id": "st0bFjye4w7F",
        "outputId": "3f17f638-42de-40c9-bca7-2ecec701633b"
      },
      "id": "st0bFjye4w7F",
      "execution_count": null,
      "outputs": [
        {
          "output_type": "execute_result",
          "data": {
            "text/plain": [
              "['DSS            1036.8    280.3    Eth et al., 1996',\n",
              " 'DSS            1087.5    282.4    Eth et al., 1996',\n",
              " 'DSS            1136.8    283.8    Eth et al., 1996',\n",
              " 'DSS            1192.6    283.9    Eth et al., 1996',\n",
              " 'DSS            1246.3    281.7    Eth et al., 1996',\n",
              " 'DSS            1330.1    283.4    Eth et al., 1996',\n",
              " 'DSS            1390.5    280.4    Eth et al., 1996',\n",
              " 'DSS            1390.5    280.0    Eth et al., 1996',\n",
              " 'DSS            1449.1    281.7    Eth et al., 1996']"
            ]
          },
          "metadata": {},
          "execution_count": 136
        }
      ]
    },
    {
      "cell_type": "markdown",
      "source": [
        "#### Filter data\n",
        "\n",
        "Further exclude sample types: DSSW20K firn and CAPE GRIM\n",
        "\n",
        "Keep sample types: DSS, DE08, and DE08-2"
      ],
      "metadata": {
        "id": "kLiTY_J442cO"
      },
      "id": "kLiTY_J442cO"
    },
    {
      "cell_type": "code",
      "source": [
        "filtered_data_lines = []\n",
        "\n",
        "for line in data_lines:\n",
        "\n",
        "    # Don't include empty lines\n",
        "    if not line:\n",
        "        continue\n",
        "\n",
        "    if \"DSSW20K firn\" in line or \"CAPE GRIM\" in line:\n",
        "        continue\n",
        "    else:\n",
        "        filtered_data_lines.append(line)"
      ],
      "metadata": {
        "id": "A1oKx65W46qR"
      },
      "id": "A1oKx65W46qR",
      "execution_count": null,
      "outputs": []
    },
    {
      "cell_type": "markdown",
      "source": [
        "Remove Publication status from lines"
      ],
      "metadata": {
        "id": "jSsXHB855jwT"
      },
      "id": "jSsXHB855jwT"
    },
    {
      "cell_type": "code",
      "source": [
        "r = re.compile('(.+\\d+.*\\d+.*\\d)\\s.*')\n",
        "\n",
        "filtered_list = [m.group(1) for m in (r.match(line) for line in filtered_data_lines) if m]"
      ],
      "metadata": {
        "id": "zoMjXQuJ5l27"
      },
      "id": "zoMjXQuJ5l27",
      "execution_count": null,
      "outputs": []
    },
    {
      "cell_type": "markdown",
      "source": [
        "Remove SampleType from lines"
      ],
      "metadata": {
        "id": "b69n-AFx5o7B"
      },
      "id": "b69n-AFx5o7B"
    },
    {
      "cell_type": "code",
      "source": [
        "r = re.compile('.+\\s+(\\d.*\\s+\\d.*)')\n",
        "\n",
        "data_list = [m.group(1) for m in (r.match(line)\n",
        "                                      for line in filtered_list) if m]"
      ],
      "metadata": {
        "id": "TdMxjWt85rxE"
      },
      "id": "TdMxjWt85rxE",
      "execution_count": null,
      "outputs": []
    },
    {
      "cell_type": "markdown",
      "source": [
        "Read data list into a Pandas dataframe and split into columns date_ce and co2"
      ],
      "metadata": {
        "id": "qqIheRYQ5-nF"
      },
      "id": "qqIheRYQ5-nF"
    },
    {
      "cell_type": "code",
      "source": [
        "df_icecore = pd.DataFrame(data_list)\n",
        "df_icecore.columns = ['data']\n",
        "\n",
        "df_icecore[['date_ce', 'co2']] = df_icecore['data'].str.split(\" \", 1, expand=True)\n",
        "df_icecore.drop('data', axis=1, inplace=True)\n",
        "\n",
        "print(df_icecore.head())"
      ],
      "metadata": {
        "colab": {
          "base_uri": "https://localhost:8080/"
        },
        "id": "RCyCvdID6AR1",
        "outputId": "dfddc1a8-8809-40ba-a932-0c8d67c8f94a"
      },
      "id": "RCyCvdID6AR1",
      "execution_count": null,
      "outputs": [
        {
          "output_type": "stream",
          "name": "stdout",
          "text": [
            "  date_ce       co2\n",
            "0  1005.0     279.4\n",
            "1  1036.8     280.3\n",
            "2  1087.5     282.4\n",
            "3  1136.8     283.8\n",
            "4  1192.6     283.9\n"
          ]
        }
      ]
    },
    {
      "cell_type": "markdown",
      "source": [
        "Convert columns from strings to numbers"
      ],
      "metadata": {
        "id": "mMGZ74s26Gvq"
      },
      "id": "mMGZ74s26Gvq"
    },
    {
      "cell_type": "code",
      "source": [
        "df_icecore = df_icecore.astype(float)"
      ],
      "metadata": {
        "id": "fpNeZnsk6IFm"
      },
      "id": "fpNeZnsk6IFm",
      "execution_count": null,
      "outputs": []
    },
    {
      "cell_type": "markdown",
      "source": [
        "Sort from lowest to highest year\n"
      ],
      "metadata": {
        "id": "bb60U17M_4in"
      },
      "id": "bb60U17M_4in"
    },
    {
      "cell_type": "code",
      "source": [
        "df_icecore = df_icecore.sort_values(by=['date_ce'], ascending=True)\n",
        "\n",
        "# And reset the index\n",
        "df_icecore = df_icecore.reset_index(drop=True)\n",
        "\n",
        "df_icecore.head()"
      ],
      "metadata": {
        "colab": {
          "base_uri": "https://localhost:8080/"
        },
        "id": "ePetkXkR_3ah",
        "outputId": "4a02fa74-cedf-4ace-9717-e7388655d64a"
      },
      "id": "ePetkXkR_3ah",
      "execution_count": null,
      "outputs": [
        {
          "output_type": "execute_result",
          "data": {
            "text/html": [
              "\n",
              "  <div id=\"df-a33b2b87-494a-4f7c-aa6a-89634517efc5\">\n",
              "    <div class=\"colab-df-container\">\n",
              "      <div>\n",
              "<style scoped>\n",
              "    .dataframe tbody tr th:only-of-type {\n",
              "        vertical-align: middle;\n",
              "    }\n",
              "\n",
              "    .dataframe tbody tr th {\n",
              "        vertical-align: top;\n",
              "    }\n",
              "\n",
              "    .dataframe thead th {\n",
              "        text-align: right;\n",
              "    }\n",
              "</style>\n",
              "<table border=\"1\" class=\"dataframe\">\n",
              "  <thead>\n",
              "    <tr style=\"text-align: right;\">\n",
              "      <th></th>\n",
              "      <th>date_ce</th>\n",
              "      <th>co2</th>\n",
              "    </tr>\n",
              "  </thead>\n",
              "  <tbody>\n",
              "    <tr>\n",
              "      <th>0</th>\n",
              "      <td>13.3</td>\n",
              "      <td>276.7</td>\n",
              "    </tr>\n",
              "    <tr>\n",
              "      <th>1</th>\n",
              "      <td>29.5</td>\n",
              "      <td>277.9</td>\n",
              "    </tr>\n",
              "    <tr>\n",
              "      <th>2</th>\n",
              "      <td>56.0</td>\n",
              "      <td>277.4</td>\n",
              "    </tr>\n",
              "    <tr>\n",
              "      <th>3</th>\n",
              "      <td>104.5</td>\n",
              "      <td>277.5</td>\n",
              "    </tr>\n",
              "    <tr>\n",
              "      <th>4</th>\n",
              "      <td>136.0</td>\n",
              "      <td>278.1</td>\n",
              "    </tr>\n",
              "  </tbody>\n",
              "</table>\n",
              "</div>\n",
              "      <button class=\"colab-df-convert\" onclick=\"convertToInteractive('df-a33b2b87-494a-4f7c-aa6a-89634517efc5')\"\n",
              "              title=\"Convert this dataframe to an interactive table.\"\n",
              "              style=\"display:none;\">\n",
              "        \n",
              "  <svg xmlns=\"http://www.w3.org/2000/svg\" height=\"24px\"viewBox=\"0 0 24 24\"\n",
              "       width=\"24px\">\n",
              "    <path d=\"M0 0h24v24H0V0z\" fill=\"none\"/>\n",
              "    <path d=\"M18.56 5.44l.94 2.06.94-2.06 2.06-.94-2.06-.94-.94-2.06-.94 2.06-2.06.94zm-11 1L8.5 8.5l.94-2.06 2.06-.94-2.06-.94L8.5 2.5l-.94 2.06-2.06.94zm10 10l.94 2.06.94-2.06 2.06-.94-2.06-.94-.94-2.06-.94 2.06-2.06.94z\"/><path d=\"M17.41 7.96l-1.37-1.37c-.4-.4-.92-.59-1.43-.59-.52 0-1.04.2-1.43.59L10.3 9.45l-7.72 7.72c-.78.78-.78 2.05 0 2.83L4 21.41c.39.39.9.59 1.41.59.51 0 1.02-.2 1.41-.59l7.78-7.78 2.81-2.81c.8-.78.8-2.07 0-2.86zM5.41 20L4 18.59l7.72-7.72 1.47 1.35L5.41 20z\"/>\n",
              "  </svg>\n",
              "      </button>\n",
              "      \n",
              "  <style>\n",
              "    .colab-df-container {\n",
              "      display:flex;\n",
              "      flex-wrap:wrap;\n",
              "      gap: 12px;\n",
              "    }\n",
              "\n",
              "    .colab-df-convert {\n",
              "      background-color: #E8F0FE;\n",
              "      border: none;\n",
              "      border-radius: 50%;\n",
              "      cursor: pointer;\n",
              "      display: none;\n",
              "      fill: #1967D2;\n",
              "      height: 32px;\n",
              "      padding: 0 0 0 0;\n",
              "      width: 32px;\n",
              "    }\n",
              "\n",
              "    .colab-df-convert:hover {\n",
              "      background-color: #E2EBFA;\n",
              "      box-shadow: 0px 1px 2px rgba(60, 64, 67, 0.3), 0px 1px 3px 1px rgba(60, 64, 67, 0.15);\n",
              "      fill: #174EA6;\n",
              "    }\n",
              "\n",
              "    [theme=dark] .colab-df-convert {\n",
              "      background-color: #3B4455;\n",
              "      fill: #D2E3FC;\n",
              "    }\n",
              "\n",
              "    [theme=dark] .colab-df-convert:hover {\n",
              "      background-color: #434B5C;\n",
              "      box-shadow: 0px 1px 3px 1px rgba(0, 0, 0, 0.15);\n",
              "      filter: drop-shadow(0px 1px 2px rgba(0, 0, 0, 0.3));\n",
              "      fill: #FFFFFF;\n",
              "    }\n",
              "  </style>\n",
              "\n",
              "      <script>\n",
              "        const buttonEl =\n",
              "          document.querySelector('#df-a33b2b87-494a-4f7c-aa6a-89634517efc5 button.colab-df-convert');\n",
              "        buttonEl.style.display =\n",
              "          google.colab.kernel.accessAllowed ? 'block' : 'none';\n",
              "\n",
              "        async function convertToInteractive(key) {\n",
              "          const element = document.querySelector('#df-a33b2b87-494a-4f7c-aa6a-89634517efc5');\n",
              "          const dataTable =\n",
              "            await google.colab.kernel.invokeFunction('convertToInteractive',\n",
              "                                                     [key], {});\n",
              "          if (!dataTable) return;\n",
              "\n",
              "          const docLinkHtml = 'Like what you see? Visit the ' +\n",
              "            '<a target=\"_blank\" href=https://colab.research.google.com/notebooks/data_table.ipynb>data table notebook</a>'\n",
              "            + ' to learn more about interactive tables.';\n",
              "          element.innerHTML = '';\n",
              "          dataTable['output_type'] = 'display_data';\n",
              "          await google.colab.output.renderOutput(dataTable, element);\n",
              "          const docLink = document.createElement('div');\n",
              "          docLink.innerHTML = docLinkHtml;\n",
              "          element.appendChild(docLink);\n",
              "        }\n",
              "      </script>\n",
              "    </div>\n",
              "  </div>\n",
              "  "
            ],
            "text/plain": [
              "   date_ce    co2\n",
              "0     13.3  276.7\n",
              "1     29.5  277.9\n",
              "2     56.0  277.4\n",
              "3    104.5  277.5\n",
              "4    136.0  278.1"
            ]
          },
          "metadata": {},
          "execution_count": 142
        }
      ]
    },
    {
      "cell_type": "markdown",
      "source": [
        "Filter out icecore data past 1957 when MLO data starts"
      ],
      "metadata": {
        "id": "WD6w5joa6LI6"
      },
      "id": "WD6w5joa6LI6"
    },
    {
      "cell_type": "code",
      "source": [
        "df_icecore = df_icecore[df_icecore['date_ce'] <= 1957]"
      ],
      "metadata": {
        "id": "ddp7zuIs6OdL"
      },
      "id": "ddp7zuIs6OdL",
      "execution_count": null,
      "outputs": []
    },
    {
      "cell_type": "markdown",
      "source": [
        "### Combine MLO and Icecore data"
      ],
      "metadata": {
        "id": "pwruUXEW6yP1"
      },
      "id": "pwruUXEW6yP1"
    },
    {
      "cell_type": "markdown",
      "source": [
        "Rename columns of MLO dataframe so can align with the icecore dataframe to concatenate"
      ],
      "metadata": {
        "id": "TYcwYote7hf_"
      },
      "id": "TYcwYote7hf_"
    },
    {
      "cell_type": "code",
      "source": [
        "df_mlo.columns = ['date_ce', 'co2']"
      ],
      "metadata": {
        "id": "OEX3wTuI62Iz"
      },
      "id": "OEX3wTuI62Iz",
      "execution_count": null,
      "outputs": []
    },
    {
      "cell_type": "markdown",
      "source": [
        "Verically concatenate the dataframes"
      ],
      "metadata": {
        "id": "XA0CxaOb9C0H"
      },
      "id": "XA0CxaOb9C0H"
    },
    {
      "cell_type": "code",
      "source": [
        "df_combined = pd.concat([df_icecore, df_mlo], ignore_index=True)\n",
        "\n",
        "# And reset the index\n",
        "df_combined = df_combined.reset_index(drop=True)\n",
        "\n",
        "df_combined.head()"
      ],
      "metadata": {
        "colab": {
          "base_uri": "https://localhost:8080/",
          "height": 206
        },
        "id": "eZiwIreT9Gqt",
        "outputId": "e5f7c295-b89b-492d-cdff-1df41abdee65"
      },
      "id": "eZiwIreT9Gqt",
      "execution_count": null,
      "outputs": [
        {
          "output_type": "execute_result",
          "data": {
            "text/html": [
              "\n",
              "  <div id=\"df-ee1b2344-c8a3-439d-a567-00e38e87f77c\">\n",
              "    <div class=\"colab-df-container\">\n",
              "      <div>\n",
              "<style scoped>\n",
              "    .dataframe tbody tr th:only-of-type {\n",
              "        vertical-align: middle;\n",
              "    }\n",
              "\n",
              "    .dataframe tbody tr th {\n",
              "        vertical-align: top;\n",
              "    }\n",
              "\n",
              "    .dataframe thead th {\n",
              "        text-align: right;\n",
              "    }\n",
              "</style>\n",
              "<table border=\"1\" class=\"dataframe\">\n",
              "  <thead>\n",
              "    <tr style=\"text-align: right;\">\n",
              "      <th></th>\n",
              "      <th>date_ce</th>\n",
              "      <th>co2</th>\n",
              "    </tr>\n",
              "  </thead>\n",
              "  <tbody>\n",
              "    <tr>\n",
              "      <th>0</th>\n",
              "      <td>13.3</td>\n",
              "      <td>276.7</td>\n",
              "    </tr>\n",
              "    <tr>\n",
              "      <th>1</th>\n",
              "      <td>29.5</td>\n",
              "      <td>277.9</td>\n",
              "    </tr>\n",
              "    <tr>\n",
              "      <th>2</th>\n",
              "      <td>56.0</td>\n",
              "      <td>277.4</td>\n",
              "    </tr>\n",
              "    <tr>\n",
              "      <th>3</th>\n",
              "      <td>104.5</td>\n",
              "      <td>277.5</td>\n",
              "    </tr>\n",
              "    <tr>\n",
              "      <th>4</th>\n",
              "      <td>136.0</td>\n",
              "      <td>278.1</td>\n",
              "    </tr>\n",
              "  </tbody>\n",
              "</table>\n",
              "</div>\n",
              "      <button class=\"colab-df-convert\" onclick=\"convertToInteractive('df-ee1b2344-c8a3-439d-a567-00e38e87f77c')\"\n",
              "              title=\"Convert this dataframe to an interactive table.\"\n",
              "              style=\"display:none;\">\n",
              "        \n",
              "  <svg xmlns=\"http://www.w3.org/2000/svg\" height=\"24px\"viewBox=\"0 0 24 24\"\n",
              "       width=\"24px\">\n",
              "    <path d=\"M0 0h24v24H0V0z\" fill=\"none\"/>\n",
              "    <path d=\"M18.56 5.44l.94 2.06.94-2.06 2.06-.94-2.06-.94-.94-2.06-.94 2.06-2.06.94zm-11 1L8.5 8.5l.94-2.06 2.06-.94-2.06-.94L8.5 2.5l-.94 2.06-2.06.94zm10 10l.94 2.06.94-2.06 2.06-.94-2.06-.94-.94-2.06-.94 2.06-2.06.94z\"/><path d=\"M17.41 7.96l-1.37-1.37c-.4-.4-.92-.59-1.43-.59-.52 0-1.04.2-1.43.59L10.3 9.45l-7.72 7.72c-.78.78-.78 2.05 0 2.83L4 21.41c.39.39.9.59 1.41.59.51 0 1.02-.2 1.41-.59l7.78-7.78 2.81-2.81c.8-.78.8-2.07 0-2.86zM5.41 20L4 18.59l7.72-7.72 1.47 1.35L5.41 20z\"/>\n",
              "  </svg>\n",
              "      </button>\n",
              "      \n",
              "  <style>\n",
              "    .colab-df-container {\n",
              "      display:flex;\n",
              "      flex-wrap:wrap;\n",
              "      gap: 12px;\n",
              "    }\n",
              "\n",
              "    .colab-df-convert {\n",
              "      background-color: #E8F0FE;\n",
              "      border: none;\n",
              "      border-radius: 50%;\n",
              "      cursor: pointer;\n",
              "      display: none;\n",
              "      fill: #1967D2;\n",
              "      height: 32px;\n",
              "      padding: 0 0 0 0;\n",
              "      width: 32px;\n",
              "    }\n",
              "\n",
              "    .colab-df-convert:hover {\n",
              "      background-color: #E2EBFA;\n",
              "      box-shadow: 0px 1px 2px rgba(60, 64, 67, 0.3), 0px 1px 3px 1px rgba(60, 64, 67, 0.15);\n",
              "      fill: #174EA6;\n",
              "    }\n",
              "\n",
              "    [theme=dark] .colab-df-convert {\n",
              "      background-color: #3B4455;\n",
              "      fill: #D2E3FC;\n",
              "    }\n",
              "\n",
              "    [theme=dark] .colab-df-convert:hover {\n",
              "      background-color: #434B5C;\n",
              "      box-shadow: 0px 1px 3px 1px rgba(0, 0, 0, 0.15);\n",
              "      filter: drop-shadow(0px 1px 2px rgba(0, 0, 0, 0.3));\n",
              "      fill: #FFFFFF;\n",
              "    }\n",
              "  </style>\n",
              "\n",
              "      <script>\n",
              "        const buttonEl =\n",
              "          document.querySelector('#df-ee1b2344-c8a3-439d-a567-00e38e87f77c button.colab-df-convert');\n",
              "        buttonEl.style.display =\n",
              "          google.colab.kernel.accessAllowed ? 'block' : 'none';\n",
              "\n",
              "        async function convertToInteractive(key) {\n",
              "          const element = document.querySelector('#df-ee1b2344-c8a3-439d-a567-00e38e87f77c');\n",
              "          const dataTable =\n",
              "            await google.colab.kernel.invokeFunction('convertToInteractive',\n",
              "                                                     [key], {});\n",
              "          if (!dataTable) return;\n",
              "\n",
              "          const docLinkHtml = 'Like what you see? Visit the ' +\n",
              "            '<a target=\"_blank\" href=https://colab.research.google.com/notebooks/data_table.ipynb>data table notebook</a>'\n",
              "            + ' to learn more about interactive tables.';\n",
              "          element.innerHTML = '';\n",
              "          dataTable['output_type'] = 'display_data';\n",
              "          await google.colab.output.renderOutput(dataTable, element);\n",
              "          const docLink = document.createElement('div');\n",
              "          docLink.innerHTML = docLinkHtml;\n",
              "          element.appendChild(docLink);\n",
              "        }\n",
              "      </script>\n",
              "    </div>\n",
              "  </div>\n",
              "  "
            ],
            "text/plain": [
              "   date_ce    co2\n",
              "0     13.3  276.7\n",
              "1     29.5  277.9\n",
              "2     56.0  277.4\n",
              "3    104.5  277.5\n",
              "4    136.0  278.1"
            ]
          },
          "metadata": {},
          "execution_count": 145
        }
      ]
    },
    {
      "cell_type": "markdown",
      "source": [
        "Get a subset of the data starting at 1700\n",
        "\n",
        "We need the data set to stretch back one more data point so that the plot line of the data displays as starting at 1700."
      ],
      "metadata": {
        "id": "hyAe2KAH5j0q"
      },
      "id": "hyAe2KAH5j0q"
    },
    {
      "cell_type": "code",
      "source": [
        "# Find the rows with a date starting on 1700\n",
        "index_list = df_combined.index[df_combined['date_ce'] >= 1700].tolist()\n",
        "\n",
        "# Get the first index and then add one more row by appending the min_index - 1\n",
        "min_index = min(index_list)\n",
        "index_list = [min_index - 1] + index_list\n",
        "\n",
        "# Now cull the data to this index list\n",
        "df_combined = df_combined.iloc[index_list]\n",
        "df_combined.head()"
      ],
      "metadata": {
        "colab": {
          "base_uri": "https://localhost:8080/",
          "height": 206
        },
        "id": "0olrfshi5kTH",
        "outputId": "1f95fb92-a0c3-4348-c4ad-db58c0692a9e"
      },
      "id": "0olrfshi5kTH",
      "execution_count": null,
      "outputs": [
        {
          "output_type": "execute_result",
          "data": {
            "text/html": [
              "\n",
              "  <div id=\"df-76875f14-9d75-42c9-af27-3b49e10a29b1\">\n",
              "    <div class=\"colab-df-container\">\n",
              "      <div>\n",
              "<style scoped>\n",
              "    .dataframe tbody tr th:only-of-type {\n",
              "        vertical-align: middle;\n",
              "    }\n",
              "\n",
              "    .dataframe tbody tr th {\n",
              "        vertical-align: top;\n",
              "    }\n",
              "\n",
              "    .dataframe thead th {\n",
              "        text-align: right;\n",
              "    }\n",
              "</style>\n",
              "<table border=\"1\" class=\"dataframe\">\n",
              "  <thead>\n",
              "    <tr style=\"text-align: right;\">\n",
              "      <th></th>\n",
              "      <th>date_ce</th>\n",
              "      <th>co2</th>\n",
              "    </tr>\n",
              "  </thead>\n",
              "  <tbody>\n",
              "    <tr>\n",
              "      <th>66</th>\n",
              "      <td>1694.1</td>\n",
              "      <td>276.5</td>\n",
              "    </tr>\n",
              "    <tr>\n",
              "      <th>67</th>\n",
              "      <td>1722.8</td>\n",
              "      <td>276.9</td>\n",
              "    </tr>\n",
              "    <tr>\n",
              "      <th>68</th>\n",
              "      <td>1722.9</td>\n",
              "      <td>277.5</td>\n",
              "    </tr>\n",
              "    <tr>\n",
              "      <th>69</th>\n",
              "      <td>1734.1</td>\n",
              "      <td>278.2</td>\n",
              "    </tr>\n",
              "    <tr>\n",
              "      <th>70</th>\n",
              "      <td>1742.7</td>\n",
              "      <td>276.7</td>\n",
              "    </tr>\n",
              "  </tbody>\n",
              "</table>\n",
              "</div>\n",
              "      <button class=\"colab-df-convert\" onclick=\"convertToInteractive('df-76875f14-9d75-42c9-af27-3b49e10a29b1')\"\n",
              "              title=\"Convert this dataframe to an interactive table.\"\n",
              "              style=\"display:none;\">\n",
              "        \n",
              "  <svg xmlns=\"http://www.w3.org/2000/svg\" height=\"24px\"viewBox=\"0 0 24 24\"\n",
              "       width=\"24px\">\n",
              "    <path d=\"M0 0h24v24H0V0z\" fill=\"none\"/>\n",
              "    <path d=\"M18.56 5.44l.94 2.06.94-2.06 2.06-.94-2.06-.94-.94-2.06-.94 2.06-2.06.94zm-11 1L8.5 8.5l.94-2.06 2.06-.94-2.06-.94L8.5 2.5l-.94 2.06-2.06.94zm10 10l.94 2.06.94-2.06 2.06-.94-2.06-.94-.94-2.06-.94 2.06-2.06.94z\"/><path d=\"M17.41 7.96l-1.37-1.37c-.4-.4-.92-.59-1.43-.59-.52 0-1.04.2-1.43.59L10.3 9.45l-7.72 7.72c-.78.78-.78 2.05 0 2.83L4 21.41c.39.39.9.59 1.41.59.51 0 1.02-.2 1.41-.59l7.78-7.78 2.81-2.81c.8-.78.8-2.07 0-2.86zM5.41 20L4 18.59l7.72-7.72 1.47 1.35L5.41 20z\"/>\n",
              "  </svg>\n",
              "      </button>\n",
              "      \n",
              "  <style>\n",
              "    .colab-df-container {\n",
              "      display:flex;\n",
              "      flex-wrap:wrap;\n",
              "      gap: 12px;\n",
              "    }\n",
              "\n",
              "    .colab-df-convert {\n",
              "      background-color: #E8F0FE;\n",
              "      border: none;\n",
              "      border-radius: 50%;\n",
              "      cursor: pointer;\n",
              "      display: none;\n",
              "      fill: #1967D2;\n",
              "      height: 32px;\n",
              "      padding: 0 0 0 0;\n",
              "      width: 32px;\n",
              "    }\n",
              "\n",
              "    .colab-df-convert:hover {\n",
              "      background-color: #E2EBFA;\n",
              "      box-shadow: 0px 1px 2px rgba(60, 64, 67, 0.3), 0px 1px 3px 1px rgba(60, 64, 67, 0.15);\n",
              "      fill: #174EA6;\n",
              "    }\n",
              "\n",
              "    [theme=dark] .colab-df-convert {\n",
              "      background-color: #3B4455;\n",
              "      fill: #D2E3FC;\n",
              "    }\n",
              "\n",
              "    [theme=dark] .colab-df-convert:hover {\n",
              "      background-color: #434B5C;\n",
              "      box-shadow: 0px 1px 3px 1px rgba(0, 0, 0, 0.15);\n",
              "      filter: drop-shadow(0px 1px 2px rgba(0, 0, 0, 0.3));\n",
              "      fill: #FFFFFF;\n",
              "    }\n",
              "  </style>\n",
              "\n",
              "      <script>\n",
              "        const buttonEl =\n",
              "          document.querySelector('#df-76875f14-9d75-42c9-af27-3b49e10a29b1 button.colab-df-convert');\n",
              "        buttonEl.style.display =\n",
              "          google.colab.kernel.accessAllowed ? 'block' : 'none';\n",
              "\n",
              "        async function convertToInteractive(key) {\n",
              "          const element = document.querySelector('#df-76875f14-9d75-42c9-af27-3b49e10a29b1');\n",
              "          const dataTable =\n",
              "            await google.colab.kernel.invokeFunction('convertToInteractive',\n",
              "                                                     [key], {});\n",
              "          if (!dataTable) return;\n",
              "\n",
              "          const docLinkHtml = 'Like what you see? Visit the ' +\n",
              "            '<a target=\"_blank\" href=https://colab.research.google.com/notebooks/data_table.ipynb>data table notebook</a>'\n",
              "            + ' to learn more about interactive tables.';\n",
              "          element.innerHTML = '';\n",
              "          dataTable['output_type'] = 'display_data';\n",
              "          await google.colab.output.renderOutput(dataTable, element);\n",
              "          const docLink = document.createElement('div');\n",
              "          docLink.innerHTML = docLinkHtml;\n",
              "          element.appendChild(docLink);\n",
              "        }\n",
              "      </script>\n",
              "    </div>\n",
              "  </div>\n",
              "  "
            ],
            "text/plain": [
              "    date_ce    co2\n",
              "66   1694.1  276.5\n",
              "67   1722.8  276.9\n",
              "68   1722.9  277.5\n",
              "69   1734.1  278.2\n",
              "70   1742.7  276.7"
            ]
          },
          "metadata": {},
          "execution_count": 146
        }
      ]
    },
    {
      "cell_type": "markdown",
      "source": [
        "### Convert to numpy arrays for plotting"
      ],
      "metadata": {
        "id": "_nGwbM2TAZP8"
      },
      "id": "_nGwbM2TAZP8"
    },
    {
      "cell_type": "code",
      "source": [
        "combined_years = df_combined['date_ce'].to_numpy()\n",
        "combined_co2 = df_combined['co2'].to_numpy()"
      ],
      "metadata": {
        "id": "4Oq7Q_GSAar0"
      },
      "id": "4Oq7Q_GSAar0",
      "execution_count": null,
      "outputs": []
    },
    {
      "cell_type": "markdown",
      "source": [
        "## Define plot functions"
      ],
      "metadata": {
        "id": "8HA_txWN1TG3"
      },
      "id": "8HA_txWN1TG3"
    },
    {
      "cell_type": "code",
      "execution_count": null,
      "source": [
        "# https://stackoverflow.com/questions/29321835/is-it-possible-to-get-color-gradients-under-curve-in-matplotlib\n",
        "# Modified to add gradient below curve and have a bottom alpha\n",
        "\n",
        "# def gradient_fill(x, y, fill_color=None, ax=None, **kwargs):\n",
        "def gradient_fill(x, y, fill_color='#FFFFFF', xmin=None, ymin=None, xmax=None, \n",
        "                  ymax=None, alpha_bottom=None, ax=None, alpha=1, zorder=1, **kwargs):\n",
        "    \"\"\"\n",
        "    Plot a line with a linear alpha gradient filled beneath it.\n",
        "\n",
        "    Parameters\n",
        "    ----------\n",
        "    x, y : array-like\n",
        "        The data values of the line.\n",
        "    fill_color : a matplotlib color specifier (string, tuple) or None\n",
        "        The color for the fill. If None, the color of the line will be used.\n",
        "    ax : a matplotlib Axes instance\n",
        "        The axes to plot on. If None, the current pyplot axes will be used.\n",
        "    Additional arguments are passed on to matplotlib's ``plot`` function.\n",
        "\n",
        "    Returns\n",
        "    -------\n",
        "    line : a Line2D instance\n",
        "        The line plotted.\n",
        "    im : an AxesImage instance\n",
        "        The transparent gradient clipped to just the area beneath the curve.\n",
        "    \"\"\"\n",
        "    if ax is None:\n",
        "        ax = plt.gca()\n",
        "\n",
        "    # Only want the gradient to show\n",
        "    #line, = ax.plot(x, y, **kwargs)\n",
        "    #if fill_color is None:\n",
        "    #    fill_color = line.get_color()\n",
        "\n",
        "    if alpha_bottom is None:\n",
        "        alpha_bottom = 0\n",
        "\n",
        "    if xmin is None:\n",
        "        xmin = x.min()\n",
        "\n",
        "    if ymin is None:\n",
        "        ymin = y.min()\n",
        "        \n",
        "    if xmax is None:\n",
        "        xmax = x.max()\n",
        "\n",
        "    if ymax is None:\n",
        "        ymax = y.max()\n",
        "        \n",
        "    if zorder is None:\n",
        "        zorder = 1\n",
        "        \n",
        "    #zorder = line.get_zorder()\n",
        "    \n",
        "    #alpha = line.get_alpha()\n",
        "    #alpha = 1.0 if alpha is None else alpha\n",
        "\n",
        "    z = np.empty((100, 1, 4), dtype=float)\n",
        "    rgb = mcolors.colorConverter.to_rgb(fill_color)\n",
        "    z[:, :, :3] = rgb\n",
        "    #z[:,:,-1] = np.linspace(0, alpha, 100)[:,None]\n",
        "    z[:, :, -1] = np.linspace(alpha_bottom, alpha, 100)[:, None]\n",
        "\n",
        "    #xmin, xmax, ymin, ymax = x.min(), x.max(), y.min(), y.max()\n",
        "    \n",
        "    im = ax.imshow(z, aspect='auto', extent=[xmin, xmax, ymin, ymax],\n",
        "                   origin='lower', zorder=zorder)\n",
        "\n",
        "    xy = np.column_stack([x, y])\n",
        "    xy = np.vstack([[xmin, ymin], xy, [xmax, ymin], [xmin, ymin]])\n",
        "    clip_path = Polygon(xy, facecolor='none', edgecolor='none', closed=True)\n",
        "    ax.add_patch(clip_path)\n",
        "    im.set_clip_path(clip_path)\n",
        "    \n",
        "    ax.autoscale(True)\n",
        "    \n",
        "    #return line, im"
      ],
      "outputs": [],
      "metadata": {
        "id": "sQKO3s9H1TG3"
      },
      "id": "sQKO3s9H1TG3"
    },
    {
      "cell_type": "code",
      "execution_count": null,
      "source": [
        "def set_matplotlib_properties():\n",
        "    \n",
        "    # Set default properties for matplotlib\n",
        "    \n",
        "    # Reset rcparams in case modified defaults in another notebook during same session \n",
        "    plt.rcParams.update(plt.rcParamsDefault)\n",
        "\n",
        "    plt.rcParams.update({'axes.linewidth':1.5})\n",
        "    \n",
        "    plt.rcParams.update({\n",
        "        \"text.usetex\": False,\n",
        "        \"font.family\": \"sans-serif\",\n",
        "        \"font.weight\":  \"normal\",\n",
        "        \"font.sans-serif\": [\"Arial\", \"Tahoma\", \"Helvetica\",\"FreeSans\", \"NimbusSans\", \"LiberationSans\",\"DejaVu Sans\"],\n",
        "        \"mathtext.default\":'regular',\n",
        "        \"mathtext.fontset\": \"dejavusans\"\n",
        "    })\n",
        "        \n",
        "    # http://phyletica.org/matplotlib-fonts/\n",
        "    # This causes matplotlib to use Type 42 (a.k.a. TrueType) fonts \n",
        "    # for PostScript and PDF files. This allows you to avoid Type 3 fonts.\n",
        "    # Turning on usetex also works\n",
        "    # Needed on Ubuntu for pdf fonts \n",
        "    plt.rcParams.update({\n",
        "      'pdf.fonttype': 42,\n",
        "        'ps.fonttype': 42 \n",
        "    })"
      ],
      "outputs": [],
      "metadata": {
        "id": "wUSezrFI1TG4"
      },
      "id": "wUSezrFI1TG4"
    },
    {
      "cell_type": "code",
      "execution_count": null,
      "source": [
        "def set_website_plot_props(ax, fig, xmin, xmax, ymin, ymax, xlabel, ylabel):\n",
        "\n",
        "    # ------------------------------------\n",
        "    # Set properties to use for matplotlib\n",
        "    # ------------------------------------\n",
        "    \n",
        "    set_matplotlib_properties()\n",
        "    \n",
        "    \n",
        "    # ---------------------------------\n",
        "    # Plot properties for website plots\n",
        "    # ---------------------------------\n",
        "\n",
        "    # Allow room at top for the 2 titles\n",
        "    fig.subplots_adjust(top=0.85)\n",
        "    \n",
        "    ax.tick_params(which='both', bottom=True, top=True, left=True, right=True)\n",
        "\n",
        "    ax.tick_params(axis='x', labelsize=12)\n",
        "    ax.tick_params(axis='y', labelsize=16)\n",
        "\n",
        "    ax.tick_params(axis='x', which='major', direction='in', length=6, width=1)\n",
        "    ax.tick_params(axis='y', which='major', direction='in', length=8, width=1)\n",
        "    \n",
        "    tick_spacing = 50\n",
        "    ax.yaxis.set_major_locator(ticker.MultipleLocator(tick_spacing))\n",
        "    \n",
        "    ax.tick_params(which='minor', direction='in', length=4)\n",
        "    ax.yaxis.set_minor_locator(AutoMinorLocator(5))\n",
        "    \n",
        "    labels = ax.get_xticklabels() + ax.get_yticklabels()\n",
        "    for label in labels: label.set_fontweight('bold')\n",
        "\n",
        "    ax.set_xlabel(xlabel, fontweight='bold', fontsize=12, labelpad=5)\n",
        "    ax.set_ylabel(ylabel, fontweight='bold', fontsize=18, labelpad=5)\n",
        "\n",
        "    # Set axes limits last \n",
        "    # If did before, setting xtick labels past xmin & xmax would have\n",
        "    # extended the plot limits\n",
        "    ax.set_xlim(xmin, xmax)\n",
        "    ax.set_ylim(ymin, ymax)"
      ],
      "outputs": [],
      "metadata": {
        "id": "05USuBEa1TG4"
      },
      "id": "05USuBEa1TG4"
    },
    {
      "cell_type": "code",
      "execution_count": null,
      "source": [
        "def add_plot_title(ax, title1, title2):\n",
        "\n",
        "    ax.annotate(title1, xy=(0, 1.15), xycoords='axes fraction', fontsize=14,\n",
        "                horizontalalignment='left', verticalalignment='top', fontweight=\"normal\")\n",
        "    ax.annotate(title2, xy=(0, 1.07), xycoords='axes fraction', fontsize=18,\n",
        "                horizontalalignment='left', verticalalignment='top', fontweight = 'bold')"
      ],
      "outputs": [],
      "metadata": {
        "id": "qBzAzo2Q1TG5"
      },
      "id": "qBzAzo2Q1TG5"
    },
    {
      "cell_type": "code",
      "execution_count": null,
      "source": [
        "def apply_arrow_annotations(todays_decimal, mlo_date, mlo_co2):\n",
        "    \n",
        "    \n",
        "    #  1960, 1980, 2000, 2020\n",
        "    # In years ce\n",
        "    x_1960 = 1960\n",
        "    x_1980 = 1980\n",
        "    x_2000 = 2000\n",
        "    x_2020 = 2020\n",
        "\n",
        "    spl_fit = interpolate.splrep(mlo_date, mlo_co2)\n",
        "\n",
        "    spl_val_1960 = interpolate.splev(x_1960, spl_fit)\n",
        "    spl_val_1980 = interpolate.splev(x_1980, spl_fit)\n",
        "    spl_val_2000 = interpolate.splev(x_2000, spl_fit)\n",
        "    spl_val_2020 = interpolate.splev(x_2020, spl_fit)\n",
        "    \n",
        "    # Annotation start\n",
        "    x_start = 1950\n",
        "    \n",
        "    plt.annotate('1960',\n",
        "             xy=[x_start, spl_val_1960],\n",
        "             xytext=[-60, 0], \n",
        "             verticalalignment = \"center\",\n",
        "             arrowprops=dict(arrowstyle='->',\n",
        "                             relpos=(0, 0.5), lw=1),           \n",
        "             fontsize=11,\n",
        "             textcoords=\"offset points\")\n",
        "\n",
        "    plt.annotate('1980',\n",
        "             xy=[x_start, spl_val_1980],\n",
        "             xytext=[-60, 0], \n",
        "             verticalalignment = \"center\",\n",
        "             arrowprops=dict(arrowstyle='->',\n",
        "                             relpos=(0, 0.5), lw=1),             \n",
        "             fontsize=11, \n",
        "             textcoords=\"offset points\")\n",
        "\n",
        "\n",
        "    plt.annotate('2000',\n",
        "             xy=[x_start, spl_val_2000],\n",
        "             xytext=[-60, 0], \n",
        "             verticalalignment = \"center\",\n",
        "             arrowprops=dict(arrowstyle='->',\n",
        "                             relpos=(0, 0.5), lw=1),             \n",
        "             fontsize=11, \n",
        "             textcoords=\"offset points\")\n",
        "\n",
        "\n",
        "    plt.annotate('2020',\n",
        "             xy=[x_start, spl_val_2020],\n",
        "             xytext=[-60, 0], \n",
        "             verticalalignment = \"center\",\n",
        "             arrowprops=dict(arrowstyle='->',\n",
        "                             relpos=(0, 0.5), lw=1),           \n",
        "             fontsize=11, \n",
        "             textcoords=\"offset points\")"
      ],
      "outputs": [],
      "metadata": {
        "id": "F6LNZL6W1TG5"
      },
      "id": "F6LNZL6W1TG5"
    },
    {
      "cell_type": "code",
      "execution_count": null,
      "source": [
        "def add_sio_logo(fig, logo_file, xpos, ypos):\n",
        "\n",
        "    logo = mpimg.imread(logo_file)\n",
        "\n",
        "    fig.add_axes([xpos, ypos, 0.2, 0.2], anchor='SE', zorder=1)\n",
        "\n",
        "    plt.imshow(logo)\n",
        "    plt.axis('off')"
      ],
      "outputs": [],
      "metadata": {
        "id": "04mhUfji1TG5"
      },
      "id": "04mhUfji1TG5"
    },
    {
      "cell_type": "code",
      "execution_count": null,
      "source": [
        "def save_plot_for_website(fig, pdf_file, png_file):\n",
        "\n",
        "    # For pdf\n",
        "    width_in = 11\n",
        "    height_in = 8.5\n",
        "    fig.set_size_inches(width_in, height_in, forward=True)\n",
        "\n",
        "    plt.subplots_adjust(left=0.1, right=0.11, top=0.8, bottom=0.2)\n",
        "\n",
        "    fig.savefig(pdf_file, facecolor='w', edgecolor='w',\n",
        "                orientation='landscape', format=None,\n",
        "                transparent=False, pad_inches=0)\n",
        "\n",
        "    # For png\n",
        "    width_px = 1000\n",
        "    height_px = (height_in/width_in) * width_px\n",
        "\n",
        "    png_dpi = 100\n",
        "    fig.set_size_inches(width_px/png_dpi, height_px/png_dpi)\n",
        "\n",
        "    fig.savefig(png_file, facecolor='w', edgecolor='w',\n",
        "                orientation='landscape', dpi=png_dpi, pad_inches=0)"
      ],
      "outputs": [],
      "metadata": {
        "id": "ekfDoQ8g1TG5"
      },
      "id": "ekfDoQ8g1TG5"
    },
    {
      "cell_type": "markdown",
      "source": [
        "## Set plot limits and labeling"
      ],
      "metadata": {
        "id": "xIBU0Rl41TG6"
      },
      "id": "xIBU0Rl41TG6"
    },
    {
      "cell_type": "markdown",
      "source": [
        "### Functions to convert dates into various formats\n",
        "For plot limits and labeling"
      ],
      "metadata": {
        "id": "PXan4_Kq1TG6"
      },
      "id": "PXan4_Kq1TG6"
    },
    {
      "cell_type": "code",
      "execution_count": null,
      "source": [
        "# Function to convert datetime to a float\n",
        "def dt2t(adatetime):\n",
        "    \"\"\"\n",
        "    Convert adatetime into a float. The integer part of the float should\n",
        "    represent the year.\n",
        "    Order should be preserved. If adate<bdate, then d2t(adate)<d2t(bdate)\n",
        "    time distances should be preserved: If bdate-adate=ddate-cdate then\n",
        "    dt2t(bdate)-dt2t(adate) = dt2t(ddate)-dt2t(cdate)\n",
        "    \"\"\"\n",
        "    year = adatetime.year\n",
        "    boy = datetime(year, 1, 1)\n",
        "    eoy = datetime(year + 1, 1, 1)\n",
        "    return year + ((adatetime - boy).total_seconds() / ((eoy - boy).total_seconds()))"
      ],
      "outputs": [],
      "metadata": {
        "id": "8sOK5sYX1TG6"
      },
      "id": "8sOK5sYX1TG6"
    },
    {
      "cell_type": "code",
      "execution_count": null,
      "source": [
        "def get_todays_date_variations():\n",
        "    \n",
        "    now = datetime.now()\n",
        "    todays_decimal =  dt2t(now)\n",
        "    \n",
        "    today = date.today()\n",
        "\n",
        "    todays_day = today.day\n",
        "    todays_month = today.strftime(\"%B\")\n",
        "    todays_year = today.year\n",
        "    todays_date_moyr = today.strftime(\"%B %Y\")\n",
        "    todays_date_modyyr = f\"{todays_month} {todays_day}, {todays_year}\"\n",
        "\n",
        "    return todays_date_moyr, todays_date_modyyr, todays_decimal, todays_year"
      ],
      "outputs": [],
      "metadata": {
        "id": "ysBr9DhY1TG6"
      },
      "id": "ysBr9DhY1TG6"
    },
    {
      "cell_type": "code",
      "execution_count": null,
      "source": [
        "#  https://stackoverflow.com/questions/19305991/convert-fractional-years-to-a-real-date-in-python\n",
        "def t2dt(atime):\n",
        "    \"\"\"\n",
        "    Convert atime (a float) to DT.datetime\n",
        "    This is the inverse of dt2t.\n",
        "    assert dt2t(t2dt(atime)) == atime\n",
        "    \"\"\"\n",
        "    year = int(atime)\n",
        "    remainder = atime - year\n",
        "    boy = datetime(year, 1, 1)\n",
        "    eoy = datetime(year + 1, 1, 1)\n",
        "    seconds = remainder * (eoy - boy).total_seconds()\n",
        "    return boy + timedelta(seconds=seconds)"
      ],
      "outputs": [],
      "metadata": {
        "id": "VU3sCTrG1TG6"
      },
      "id": "VU3sCTrG1TG6"
    },
    {
      "cell_type": "code",
      "execution_count": null,
      "source": [
        "def get_data_end_date(date_data):\n",
        "    last_date = np.max(date_data)\n",
        "    last_date_datetime = t2dt(last_date)\n",
        "    \n",
        "    # Convert date format to month_name day, year\n",
        "    day = last_date_datetime.day\n",
        "    month = last_date_datetime.strftime(\"%B\")\n",
        "    year = last_date_datetime.year\n",
        "    date_modyyr = f\"{month} {day}, {year}\"\n",
        "    return date_modyyr"
      ],
      "outputs": [],
      "metadata": {
        "id": "zY09QsB01TG7"
      },
      "id": "zY09QsB01TG7"
    },
    {
      "cell_type": "markdown",
      "source": [
        "#### Get todays date in various formats for labeling|"
      ],
      "metadata": {
        "id": "59M_n3lw1TG7"
      },
      "id": "59M_n3lw1TG7"
    },
    {
      "cell_type": "code",
      "execution_count": null,
      "source": [
        "todays_date_moyr, todays_date_modyyr, todays_decimal, todays_year = get_todays_date_variations()"
      ],
      "outputs": [],
      "metadata": {
        "id": "6okYyZMr1TG7"
      },
      "id": "6okYyZMr1TG7"
    },
    {
      "cell_type": "markdown",
      "source": [
        "### Set titles and axes labels"
      ],
      "metadata": {
        "id": "vSwdgHLX1TG7"
      },
      "id": "vSwdgHLX1TG7"
    },
    {
      "cell_type": "code",
      "execution_count": null,
      "source": [
        "xlabel = 'Years (C.E.)'\n",
        "ylabel = \"$\\mathregular{CO}\\\\bf{_2}$\" + \" Concentration (ppm)\"\n",
        "\n",
        "title1 = get_data_end_date(combined_years)\n",
        "title2 = 'Ice-core data before 1958. Mauna Loa Data after 1958.'"
      ],
      "outputs": [],
      "metadata": {
        "id": "YuKhs1yd1TG7"
      },
      "id": "YuKhs1yd1TG7"
    },
    {
      "cell_type": "markdown",
      "source": [
        "### Set yaxis min and max limits"
      ],
      "metadata": {
        "id": "rHEMl8Qy1TG7"
      },
      "id": "rHEMl8Qy1TG7"
    },
    {
      "cell_type": "code",
      "execution_count": null,
      "source": [
        "ymin = 200\n",
        "ymax = 430"
      ],
      "outputs": [],
      "metadata": {
        "id": "HmG2Uaco1TG8"
      },
      "id": "HmG2Uaco1TG8"
    },
    {
      "cell_type": "markdown",
      "source": [
        "### Set xaxis min and max limits"
      ],
      "metadata": {
        "id": "PNvVRM_V1TG8"
      },
      "id": "PNvVRM_V1TG8"
    },
    {
      "cell_type": "code",
      "execution_count": null,
      "source": [
        "xmin = 1700\n",
        "xmax = todays_decimal"
      ],
      "outputs": [],
      "metadata": {
        "id": "4jf5RiJH1TG8"
      },
      "id": "4jf5RiJH1TG8"
    },
    {
      "cell_type": "markdown",
      "source": [
        "## Create plot and save"
      ],
      "metadata": {
        "id": "Zw_4F2tr1TG8"
      },
      "id": "Zw_4F2tr1TG8"
    },
    {
      "cell_type": "code",
      "execution_count": null,
      "source": [
        "fig = plt.figure()\n",
        "\n",
        "# Add padding for exterior plot text\n",
        "ax = plt.axes([0.11, 0.12, 0.83, 0.54])\n",
        "\n",
        "\n",
        "# ------------------------\n",
        "# Add gradiant under curve\n",
        "# ------------------------\n",
        "\n",
        "# gradiant limits to data limits\n",
        "data_start_date = min(combined_years)\n",
        "data_end_date = max(combined_years)\n",
        "\n",
        "#area_color = '#ACCAE6'\n",
        "#area_color = '#8CB2E0'\n",
        "area_color = '#73a7e6'\n",
        "\n",
        "gradient_fill(combined_years, combined_co2, fill_color=area_color, \n",
        "              xmin=data_start_date, ymin=ymin, xmax=data_end_date, \n",
        "              ymax=ymax, ax=ax, alpha_bottom=0.1, alpha=1.0)\n",
        "\n",
        "\n",
        "# -------------\n",
        "# Plot the data\n",
        "# -------------\n",
        "\n",
        "# Set plotting zorder above the gradientZ\n",
        "ax.plot(combined_years, combined_co2, '-', color='black', linewidth=0.75, zorder=5)\n",
        "\n",
        "\n",
        "# -------------------\n",
        "# Set plot properties\n",
        "# -------------------\n",
        "set_website_plot_props(ax, fig, xmin, xmax, ymin, ymax, xlabel, ylabel)\n",
        "\n",
        "\n",
        "# ---------------\n",
        "# Add plot titles\n",
        "# ---------------\n",
        "add_plot_title(ax, title1, title2)\n",
        "\n",
        "# ---------------------\n",
        "# Save plot for website\n",
        "# ---------------------\n",
        "fig = plt.gcf()\n",
        "\n",
        "save_plot_for_website(fig, pdf_file, png_file)\n",
        "\n",
        "\n",
        "plt.show()"
      ],
      "outputs": [
        {
          "output_type": "display_data",
          "data": {
            "image/png": "[encoded data removed]",
            "text/plain": [
              "<Figure size 720x556.364 with 1 Axes>"
            ]
          },
          "metadata": {
            "needs_background": "light"
          }
        }
      ],
      "metadata": {
        "scrolled": false,
        "colab": {
          "base_uri": "https://localhost:8080/",
          "height": 411
        },
        "id": "gRtAsnrm1TG8",
        "outputId": "026c416c-fbfd-44fe-bd8a-c11bccb808e8"
      },
      "id": "gRtAsnrm1TG8"
    },
    {
      "cell_type": "markdown",
      "source": [
        "## Download Plots (pdf & png)"
      ],
      "metadata": {
        "id": "Yj1XC5fDA6W_"
      },
      "id": "Yj1XC5fDA6W_"
    },
    {
      "cell_type": "code",
      "source": [
        "def download_files(ev):\n",
        "    files.download(png_file)\n",
        "    files.download(pdf_file)\n",
        "\n",
        "button = widgets.Button(description='Download Files', button_style='primary')\n",
        "button.on_click(download_files)\n",
        "display(button)"
      ],
      "metadata": {
        "colab": {
          "base_uri": "https://localhost:8080/",
          "height": 49,
          "referenced_widgets": [
            "d85451af5ea34a38ad02c61167090c63",
            "f62ccc8bd8764933b6cf4852bb41ec99",
            "ab179c6a985441ee8c93c6200d83067b"
          ]
        },
        "id": "JsbbGAbWBDFU",
        "outputId": "61faa9f2-f283-4657-be00-08325d28b299"
      },
      "id": "JsbbGAbWBDFU",
      "execution_count": null,
      "outputs": [
        {
          "output_type": "display_data",
          "data": {
            "application/vnd.jupyter.widget-view+json": {
              "model_id": "d85451af5ea34a38ad02c61167090c63",
              "version_minor": 0,
              "version_major": 2
            },
            "text/plain": [
              "Button(button_style='primary', description='Download Files', style=ButtonStyle())"
            ]
          },
          "metadata": {}
        }
      ]
    },
    {
      "cell_type": "code",
      "execution_count": null,
      "source": [
        ""
      ],
      "outputs": [],
      "metadata": {
        "id": "B7NKCiz61TG8"
      },
      "id": "B7NKCiz61TG8"
    }
  ],
  "metadata": {
    "kernelspec": {
      "name": "python3",
      "display_name": "Python 3.8.5 64-bit"
    },
    "language_info": {
      "codemirror_mode": {
        "name": "ipython",
        "version": 3
      },
      "file_extension": ".py",
      "mimetype": "text/x-python",
      "name": "python",
      "nbconvert_exporter": "python",
      "pygments_lexer": "ipython3",
      "version": "3.8.5"
    },
    "interpreter": {
      "hash": "31f2aee4e71d21fbe5cf8b01ff0e069b9275f58929596ceb00d14d90e3e16cd6"
    },
    "colab": {
      "name": "plot_icecore_start_1700_ce_keelingcurve.ipynb",
      "provenance": [],
      "include_colab_link": true
    },
    "widgets": {
      "application/vnd.jupyter.widget-state+json": {
        "d85451af5ea34a38ad02c61167090c63": {
          "model_module": "@jupyter-widgets/controls",
          "model_name": "ButtonModel",
          "model_module_version": "1.5.0",
          "state": {
            "_view_name": "ButtonView",
            "style": "IPY_MODEL_f62ccc8bd8764933b6cf4852bb41ec99",
            "_dom_classes": [],
            "description": "Download Files",
            "_model_name": "ButtonModel",
            "button_style": "primary",
            "_view_module": "@jupyter-widgets/controls",
            "_model_module_version": "1.5.0",
            "tooltip": "",
            "_view_count": null,
            "disabled": false,
            "_view_module_version": "1.5.0",
            "layout": "IPY_MODEL_ab179c6a985441ee8c93c6200d83067b",
            "_model_module": "@jupyter-widgets/controls",
            "icon": ""
          }
        },
        "f62ccc8bd8764933b6cf4852bb41ec99": {
          "model_module": "@jupyter-widgets/controls",
          "model_name": "ButtonStyleModel",
          "model_module_version": "1.5.0",
          "state": {
            "_view_name": "StyleView",
            "_model_name": "ButtonStyleModel",
            "_view_module": "@jupyter-widgets/base",
            "_model_module_version": "1.5.0",
            "_view_count": null,
            "button_color": null,
            "font_weight": "",
            "_view_module_version": "1.2.0",
            "_model_module": "@jupyter-widgets/controls"
          }
        },
        "ab179c6a985441ee8c93c6200d83067b": {
          "model_module": "@jupyter-widgets/base",
          "model_name": "LayoutModel",
          "model_module_version": "1.2.0",
          "state": {
            "_view_name": "LayoutView",
            "grid_template_rows": null,
            "right": null,
            "justify_content": null,
            "_view_module": "@jupyter-widgets/base",
            "overflow": null,
            "_model_module_version": "1.2.0",
            "_view_count": null,
            "flex_flow": null,
            "width": null,
            "min_width": null,
            "border": null,
            "align_items": null,
            "bottom": null,
            "_model_module": "@jupyter-widgets/base",
            "top": null,
            "grid_column": null,
            "overflow_y": null,
            "overflow_x": null,
            "grid_auto_flow": null,
            "grid_area": null,
            "grid_template_columns": null,
            "flex": null,
            "_model_name": "LayoutModel",
            "justify_items": null,
            "grid_row": null,
            "max_height": null,
            "align_content": null,
            "visibility": null,
            "align_self": null,
            "height": null,
            "min_height": null,
            "padding": null,
            "grid_auto_rows": null,
            "grid_gap": null,
            "max_width": null,
            "order": null,
            "_view_module_version": "1.2.0",
            "grid_template_areas": null,
            "object_position": null,
            "object_fit": null,
            "grid_auto_columns": null,
            "margin": null,
            "display": null,
            "left": null
          }
        }
      }
    }
  },
  "nbformat": 4,
  "nbformat_minor": 5
}